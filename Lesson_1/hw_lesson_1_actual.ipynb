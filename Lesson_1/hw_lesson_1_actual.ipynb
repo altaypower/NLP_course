{
 "cells": [
  {
   "cell_type": "markdown",
   "metadata": {},
   "source": [
    "Осуществим предобработку данных с Твиттера, чтобы отчищенный данные в дальнейшем использовать для задачи классификации. Данный датасет содержит негативные (label = 1) и нейтральные (label = 0) высказывания.\n",
    "Для работы объединим train_df и test_df.\n",
    "\n",
    "Задания:\n",
    "\n",
    "1) Удалим @user из всех твитов с помощью паттерна \"@[\\w]*\". Для этого создадим функцию: \n",
    " - для того, чтобы найти все вхождения паттерна в тексте, необходимо использовать re.findall(pattern, input_txt)\n",
    " - для для замены @user на пробел, необходимо использовать re.sub()\n",
    "\n",
    "2) Изменим регистр твитов на нижний с помощью .lower().\n",
    "\n",
    "3) Заменим сокращения с апострофами (пример: ain't, can't) на пробел, используя apostrophe_dict. Для этого необходимо сделать функцию: для каждого слова в тексте проверить (for word in text.split()), если слово есть в словаре apostrophe_dict в качестве ключа (сокращенного слова), то заменить ключ на значение (полную версию слова).\n",
    "\n",
    "4) Заменим сокращения на их полные формы, используя short_word_dict. Для этого воспользуемся функцией, используемой в предыдущем пункте.\n",
    "\n",
    "5) Заменим эмотиконы (пример: \":)\" = \"happy\") на пробелы, используя emoticon_dict. Для этого воспользуемся функцией, используемой в предыдущем пункте.\n",
    "\n",
    "6) Заменим пунктуацию на пробелы, используя re.sub() и паттерн r'[^\\w\\s]'.\n",
    "\n",
    "7) Заменим спец. символы на пробелы, используя re.sub() и паттерн r'[^a-zA-Z0-9]'.\n",
    "\n",
    "8) Заменим числа на пробелы, используя re.sub() и паттерн r'[^a-zA-Z]'.\n",
    "\n",
    "9) Удалим из текста слова длиной в 1 символ, используя ' '.join([w for w in x.split() if len(w)>1]).\n",
    "\n",
    "10) Поделим твиты на токены с помощью nltk.tokenize.word_tokenize, создав новый столбец 'tweet_token'.\n",
    "\n",
    "11) Удалим стоп-слова из токенов, используя nltk.corpus.stopwords. Создадим столбец 'tweet_token_filtered' без стоп-слов.\n",
    "\n",
    "12) Применим стемминг к токенам с помощью nltk.stem.PorterStemmer. Создадим столбец 'tweet_stemmed' после применения стемминга.\n",
    "\n",
    "13) Применим лемматизацию к токенам с помощью nltk.stem.wordnet.WordNetLemmatizer. Создадим столбец 'tweet_lemmatized' после применения лемматизации.\n",
    "\n",
    "14) Сохраним результат предобработки в pickle-файл."
   ]
  },
  {
   "cell_type": "code",
   "execution_count": 1,
   "metadata": {},
   "outputs": [],
   "source": [
    "apostrophe_dict = {\n",
    "\"ain't\": \"am not / are not\",\n",
    "\"aren't\": \"are not / am not\",\n",
    "\"can't\": \"cannot\",\n",
    "\"can't've\": \"cannot have\",\n",
    "\"'cause\": \"because\",\n",
    "\"could've\": \"could have\",\n",
    "\"couldn't\": \"could not\",\n",
    "\"couldn't've\": \"could not have\",\n",
    "\"didn't\": \"did not\",\n",
    "\"doesn't\": \"does not\",\n",
    "\"don't\": \"do not\",\n",
    "\"hadn't\": \"had not\",\n",
    "\"hadn't've\": \"had not have\",\n",
    "\"hasn't\": \"has not\",\n",
    "\"haven't\": \"have not\",\n",
    "\"he'd\": \"he had / he would\",\n",
    "\"he'd've\": \"he would have\",\n",
    "\"he'll\": \"he shall / he will\",\n",
    "\"he'll've\": \"he shall have / he will have\",\n",
    "\"he's\": \"he has / he is\",\n",
    "\"how'd\": \"how did\",\n",
    "\"how'd'y\": \"how do you\",\n",
    "\"how'll\": \"how will\",\n",
    "\"how's\": \"how has / how is\",\n",
    "\"i'd\": \"I had / I would\",\n",
    "\"i'd've\": \"I would have\",\n",
    "\"i'll\": \"I shall / I will\",\n",
    "\"i'll've\": \"I shall have / I will have\",\n",
    "\"i'm\": \"I am\",\n",
    "\"i've\": \"I have\",\n",
    "\"isn't\": \"is not\",\n",
    "\"it'd\": \"it had / it would\",\n",
    "\"it'd've\": \"it would have\",\n",
    "\"it'll\": \"it shall / it will\",\n",
    "\"it'll've\": \"it shall have / it will have\",\n",
    "\"it's\": \"it has / it is\",\n",
    "\"let's\": \"let us\",\n",
    "\"ma'am\": \"madam\",\n",
    "\"mayn't\": \"may not\",\n",
    "\"might've\": \"might have\",\n",
    "\"mightn't\": \"might not\",\n",
    "\"mightn't've\": \"might not have\",\n",
    "\"must've\": \"must have\",\n",
    "\"mustn't\": \"must not\",\n",
    "\"mustn't've\": \"must not have\",\n",
    "\"needn't\": \"need not\",\n",
    "\"needn't've\": \"need not have\",\n",
    "\"o'clock\": \"of the clock\",\n",
    "\"oughtn't\": \"ought not\",\n",
    "\"oughtn't've\": \"ought not have\",\n",
    "\"shan't\": \"shall not\",\n",
    "\"sha'n't\": \"shall not\",\n",
    "\"shan't've\": \"shall not have\",\n",
    "\"she'd\": \"she had / she would\",\n",
    "\"she'd've\": \"she would have\",\n",
    "\"she'll\": \"she shall / she will\",\n",
    "\"she'll've\": \"she shall have / she will have\",\n",
    "\"she's\": \"she has / she is\",\n",
    "\"should've\": \"should have\",\n",
    "\"shouldn't\": \"should not\",\n",
    "\"shouldn't've\": \"should not have\",\n",
    "\"so've\": \"so have\",\n",
    "\"so's\": \"so as / so is\",\n",
    "\"that'd\": \"that would / that had\",\n",
    "\"that'd've\": \"that would have\",\n",
    "\"that's\": \"that has / that is\",\n",
    "\"there'd\": \"there had / there would\",\n",
    "\"there'd've\": \"there would have\",\n",
    "\"there's\": \"there has / there is\",\n",
    "\"they'd\": \"they had / they would\",\n",
    "\"they'd've\": \"they would have\",\n",
    "\"they'll\": \"they shall / they will\",\n",
    "\"they'll've\": \"they shall have / they will have\",\n",
    "\"they're\": \"they are\",\n",
    "\"they've\": \"they have\",\n",
    "\"to've\": \"to have\",\n",
    "\"wasn't\": \"was not\",\n",
    "\"we'd\": \"we had / we would\",\n",
    "\"we'd've\": \"we would have\",\n",
    "\"we'll\": \"we will\",\n",
    "\"we'll've\": \"we will have\",\n",
    "\"we're\": \"we are\",\n",
    "\"we've\": \"we have\",\n",
    "\"weren't\": \"were not\",\n",
    "\"what'll\": \"what shall / what will\",\n",
    "\"what'll've\": \"what shall have / what will have\",\n",
    "\"what're\": \"what are\",\n",
    "\"what's\": \"what has / what is\",\n",
    "\"what've\": \"what have\",\n",
    "\"when's\": \"when has / when is\",\n",
    "\"when've\": \"when have\",\n",
    "\"where'd\": \"where did\",\n",
    "\"where's\": \"where has / where is\",\n",
    "\"where've\": \"where have\",\n",
    "\"who'll\": \"who shall / who will\",\n",
    "\"who'll've\": \"who shall have / who will have\",\n",
    "\"who's\": \"who has / who is\",\n",
    "\"who've\": \"who have\",\n",
    "\"why's\": \"why has / why is\",\n",
    "\"why've\": \"why have\",\n",
    "\"will've\": \"will have\",\n",
    "\"won't\": \"will not\",\n",
    "\"won't've\": \"will not have\",\n",
    "\"would've\": \"would have\",\n",
    "\"wouldn't\": \"would not\",\n",
    "\"wouldn't've\": \"would not have\",\n",
    "\"y'all\": \"you all\",\n",
    "\"y'all'd\": \"you all would\",\n",
    "\"y'all'd've\": \"you all would have\",\n",
    "\"y'all're\": \"you all are\",\n",
    "\"y'all've\": \"you all have\",\n",
    "\"you'd\": \"you had / you would\",\n",
    "\"you'd've\": \"you would have\",\n",
    "\"you'll\": \"you shall / you will\",\n",
    "\"you'll've\": \"you shall have / you will have\",\n",
    "\"you're\": \"you are\",\n",
    "\"you've\": \"you have\"\n",
    "}\n",
    "\n",
    "\n",
    "\n",
    "short_word_dict = {\n",
    "\"121\": \"one to one\",\n",
    "\"a/s/l\": \"age, sex, location\",\n",
    "\"adn\": \"any day now\",\n",
    "\"afaik\": \"as far as I know\",\n",
    "\"afk\": \"away from keyboard\",\n",
    "\"aight\": \"alright\",\n",
    "\"alol\": \"actually laughing out loud\",\n",
    "\"b4\": \"before\",\n",
    "\"b4n\": \"bye for now\",\n",
    "\"bak\": \"back at the keyboard\",\n",
    "\"bf\": \"boyfriend\",\n",
    "\"bff\": \"best friends forever\",\n",
    "\"bfn\": \"bye for now\",\n",
    "\"bg\": \"big grin\",\n",
    "\"bta\": \"but then again\",\n",
    "\"btw\": \"by the way\",\n",
    "\"cid\": \"crying in disgrace\",\n",
    "\"cnp\": \"continued in my next post\",\n",
    "\"cp\": \"chat post\",\n",
    "\"cu\": \"see you\",\n",
    "\"cul\": \"see you later\",\n",
    "\"cul8r\": \"see you later\",\n",
    "\"cya\": \"bye\",\n",
    "\"cyo\": \"see you online\",\n",
    "\"dbau\": \"doing business as usual\",\n",
    "\"fud\": \"fear, uncertainty, and doubt\",\n",
    "\"fwiw\": \"for what it's worth\",\n",
    "\"fyi\": \"for your information\",\n",
    "\"g\": \"grin\",\n",
    "\"g2g\": \"got to go\",\n",
    "\"ga\": \"go ahead\",\n",
    "\"gal\": \"get a life\",\n",
    "\"gf\": \"girlfriend\",\n",
    "\"gfn\": \"gone for now\",\n",
    "\"gmbo\": \"giggling my butt off\",\n",
    "\"gmta\": \"great minds think alike\",\n",
    "\"h8\": \"hate\",\n",
    "\"hagn\": \"have a good night\",\n",
    "\"hdop\": \"help delete online predators\",\n",
    "\"hhis\": \"hanging head in shame\",\n",
    "\"iac\": \"in any case\",\n",
    "\"ianal\": \"I am not a lawyer\",\n",
    "\"ic\": \"I see\",\n",
    "\"idk\": \"I don't know\",\n",
    "\"imao\": \"in my arrogant opinion\",\n",
    "\"imnsho\": \"in my not so humble opinion\",\n",
    "\"imo\": \"in my opinion\",\n",
    "\"iow\": \"in other words\",\n",
    "\"ipn\": \"I’m posting naked\",\n",
    "\"irl\": \"in real life\",\n",
    "\"jk\": \"just kidding\",\n",
    "\"l8r\": \"later\",\n",
    "\"ld\": \"later, dude\",\n",
    "\"ldr\": \"long distance relationship\",\n",
    "\"llta\": \"lots and lots of thunderous applause\",\n",
    "\"lmao\": \"laugh my ass off\",\n",
    "\"lmirl\": \"let's meet in real life\",\n",
    "\"lol\": \"laugh out loud\",\n",
    "\"ltr\": \"longterm relationship\",\n",
    "\"lulab\": \"love you like a brother\",\n",
    "\"lulas\": \"love you like a sister\",\n",
    "\"luv\": \"love\",\n",
    "\"m/f\": \"male or female\",\n",
    "\"m8\": \"mate\",\n",
    "\"milf\": \"mother I would like to fuck\",\n",
    "\"oll\": \"online love\",\n",
    "\"omg\": \"oh my god\",\n",
    "\"otoh\": \"on the other hand\",\n",
    "\"pir\": \"parent in room\",\n",
    "\"ppl\": \"people\",\n",
    "\"r\": \"are\",\n",
    "\"rofl\": \"roll on the floor laughing\",\n",
    "\"rpg\": \"role playing games\",\n",
    "\"ru\": \"are you\",\n",
    "\"shid\": \"slaps head in disgust\",\n",
    "\"somy\": \"sick of me yet\",\n",
    "\"sot\": \"short of time\",\n",
    "\"thanx\": \"thanks\",\n",
    "\"thx\": \"thanks\",\n",
    "\"ttyl\": \"talk to you later\",\n",
    "\"u\": \"you\",\n",
    "\"ur\": \"you are\",\n",
    "\"uw\": \"you’re welcome\",\n",
    "\"wb\": \"welcome back\",\n",
    "\"wfm\": \"works for me\",\n",
    "\"wibni\": \"wouldn't it be nice if\",\n",
    "\"wtf\": \"what the fuck\",\n",
    "\"wtg\": \"way to go\",\n",
    "\"wtgp\": \"want to go private\",\n",
    "\"ym\": \"young man\",\n",
    "\"gr8\": \"great\"\n",
    "}\n",
    "\n",
    "\n",
    "emoticon_dict = {\n",
    "\":)\": \"happy\",\n",
    "\":‑)\": \"happy\",\n",
    "\":-]\": \"happy\",\n",
    "\":-3\": \"happy\",\n",
    "\":->\": \"happy\",\n",
    "\"8-)\": \"happy\",\n",
    "\":-}\": \"happy\",\n",
    "\":o)\": \"happy\",\n",
    "\":c)\": \"happy\",\n",
    "\":^)\": \"happy\",\n",
    "\"=]\": \"happy\",\n",
    "\"=)\": \"happy\",\n",
    "\"<3\": \"happy\",\n",
    "\":-(\": \"sad\",\n",
    "\":(\": \"sad\",\n",
    "\":c\": \"sad\",\n",
    "\":<\": \"sad\",\n",
    "\":[\": \"sad\",\n",
    "\">:[\": \"sad\",\n",
    "\":{\": \"sad\",\n",
    "\">:(\": \"sad\",\n",
    "\":-c\": \"sad\",\n",
    "\":-< \": \"sad\",\n",
    "\":-[\": \"sad\",\n",
    "\":-||\": \"sad\"\n",
    "}"
   ]
  },
  {
   "cell_type": "code",
   "execution_count": 2,
   "metadata": {},
   "outputs": [],
   "source": [
    "import pandas as pd\n",
    "import numpy as np\n",
    "import re\n",
    "import matplotlib.pyplot as plt\n",
    "import seaborn as sns\n",
    "import nltk\n",
    "import warnings \n",
    "warnings.filterwarnings(\"ignore\", category=DeprecationWarning)\n",
    "import os"
   ]
  },
  {
   "cell_type": "code",
   "execution_count": 3,
   "metadata": {},
   "outputs": [],
   "source": [
    "from multiprocessing import Pool\n",
    "from tqdm import tqdm_notebook as tqdm"
   ]
  },
  {
   "cell_type": "code",
   "execution_count": 4,
   "metadata": {},
   "outputs": [
    {
     "data": {
      "text/html": [
       "<div>\n",
       "<style scoped>\n",
       "    .dataframe tbody tr th:only-of-type {\n",
       "        vertical-align: middle;\n",
       "    }\n",
       "\n",
       "    .dataframe tbody tr th {\n",
       "        vertical-align: top;\n",
       "    }\n",
       "\n",
       "    .dataframe thead th {\n",
       "        text-align: right;\n",
       "    }\n",
       "</style>\n",
       "<table border=\"1\" class=\"dataframe\">\n",
       "  <thead>\n",
       "    <tr style=\"text-align: right;\">\n",
       "      <th></th>\n",
       "      <th>id</th>\n",
       "      <th>label</th>\n",
       "      <th>tweet</th>\n",
       "    </tr>\n",
       "  </thead>\n",
       "  <tbody>\n",
       "    <tr>\n",
       "      <th>0</th>\n",
       "      <td>1</td>\n",
       "      <td>0</td>\n",
       "      <td>@user when a father is dysfunctional and is s...</td>\n",
       "    </tr>\n",
       "    <tr>\n",
       "      <th>1</th>\n",
       "      <td>2</td>\n",
       "      <td>0</td>\n",
       "      <td>@user @user thanks for #lyft credit i can't us...</td>\n",
       "    </tr>\n",
       "    <tr>\n",
       "      <th>2</th>\n",
       "      <td>3</td>\n",
       "      <td>0</td>\n",
       "      <td>bihday your majesty</td>\n",
       "    </tr>\n",
       "    <tr>\n",
       "      <th>3</th>\n",
       "      <td>4</td>\n",
       "      <td>0</td>\n",
       "      <td>#model   i love u take with u all the time in ...</td>\n",
       "    </tr>\n",
       "    <tr>\n",
       "      <th>4</th>\n",
       "      <td>5</td>\n",
       "      <td>0</td>\n",
       "      <td>factsguide: society now    #motivation</td>\n",
       "    </tr>\n",
       "  </tbody>\n",
       "</table>\n",
       "</div>"
      ],
      "text/plain": [
       "   id  label                                              tweet\n",
       "0   1      0   @user when a father is dysfunctional and is s...\n",
       "1   2      0  @user @user thanks for #lyft credit i can't us...\n",
       "2   3      0                                bihday your majesty\n",
       "3   4      0  #model   i love u take with u all the time in ...\n",
       "4   5      0             factsguide: society now    #motivation"
      ]
     },
     "execution_count": 4,
     "metadata": {},
     "output_type": "execute_result"
    }
   ],
   "source": [
    "train_df = pd.read_csv('train_tweets.csv')\n",
    "train_df.head()"
   ]
  },
  {
   "cell_type": "code",
   "execution_count": 5,
   "metadata": {},
   "outputs": [
    {
     "data": {
      "text/html": [
       "<div>\n",
       "<style scoped>\n",
       "    .dataframe tbody tr th:only-of-type {\n",
       "        vertical-align: middle;\n",
       "    }\n",
       "\n",
       "    .dataframe tbody tr th {\n",
       "        vertical-align: top;\n",
       "    }\n",
       "\n",
       "    .dataframe thead th {\n",
       "        text-align: right;\n",
       "    }\n",
       "</style>\n",
       "<table border=\"1\" class=\"dataframe\">\n",
       "  <thead>\n",
       "    <tr style=\"text-align: right;\">\n",
       "      <th></th>\n",
       "      <th>id</th>\n",
       "      <th>tweet</th>\n",
       "    </tr>\n",
       "  </thead>\n",
       "  <tbody>\n",
       "    <tr>\n",
       "      <th>0</th>\n",
       "      <td>31963</td>\n",
       "      <td>#studiolife #aislife #requires #passion #dedic...</td>\n",
       "    </tr>\n",
       "    <tr>\n",
       "      <th>1</th>\n",
       "      <td>31964</td>\n",
       "      <td>@user #white #supremacists want everyone to s...</td>\n",
       "    </tr>\n",
       "    <tr>\n",
       "      <th>2</th>\n",
       "      <td>31965</td>\n",
       "      <td>safe ways to heal your #acne!!    #altwaystohe...</td>\n",
       "    </tr>\n",
       "    <tr>\n",
       "      <th>3</th>\n",
       "      <td>31966</td>\n",
       "      <td>is the hp and the cursed child book up for res...</td>\n",
       "    </tr>\n",
       "    <tr>\n",
       "      <th>4</th>\n",
       "      <td>31967</td>\n",
       "      <td>3rd #bihday to my amazing, hilarious #nephew...</td>\n",
       "    </tr>\n",
       "  </tbody>\n",
       "</table>\n",
       "</div>"
      ],
      "text/plain": [
       "      id                                              tweet\n",
       "0  31963  #studiolife #aislife #requires #passion #dedic...\n",
       "1  31964   @user #white #supremacists want everyone to s...\n",
       "2  31965  safe ways to heal your #acne!!    #altwaystohe...\n",
       "3  31966  is the hp and the cursed child book up for res...\n",
       "4  31967    3rd #bihday to my amazing, hilarious #nephew..."
      ]
     },
     "execution_count": 5,
     "metadata": {},
     "output_type": "execute_result"
    }
   ],
   "source": [
    "test_df = pd.read_csv('test_tweets.csv')\n",
    "test_df.head()"
   ]
  },
  {
   "cell_type": "code",
   "execution_count": 6,
   "metadata": {},
   "outputs": [
    {
     "data": {
      "text/html": [
       "<div>\n",
       "<style scoped>\n",
       "    .dataframe tbody tr th:only-of-type {\n",
       "        vertical-align: middle;\n",
       "    }\n",
       "\n",
       "    .dataframe tbody tr th {\n",
       "        vertical-align: top;\n",
       "    }\n",
       "\n",
       "    .dataframe thead th {\n",
       "        text-align: right;\n",
       "    }\n",
       "</style>\n",
       "<table border=\"1\" class=\"dataframe\">\n",
       "  <thead>\n",
       "    <tr style=\"text-align: right;\">\n",
       "      <th></th>\n",
       "      <th>id</th>\n",
       "      <th>label</th>\n",
       "      <th>tweet</th>\n",
       "    </tr>\n",
       "  </thead>\n",
       "  <tbody>\n",
       "    <tr>\n",
       "      <th>0</th>\n",
       "      <td>1</td>\n",
       "      <td>0.0</td>\n",
       "      <td>@user when a father is dysfunctional and is s...</td>\n",
       "    </tr>\n",
       "    <tr>\n",
       "      <th>1</th>\n",
       "      <td>2</td>\n",
       "      <td>0.0</td>\n",
       "      <td>@user @user thanks for #lyft credit i can't us...</td>\n",
       "    </tr>\n",
       "    <tr>\n",
       "      <th>2</th>\n",
       "      <td>3</td>\n",
       "      <td>0.0</td>\n",
       "      <td>bihday your majesty</td>\n",
       "    </tr>\n",
       "    <tr>\n",
       "      <th>3</th>\n",
       "      <td>4</td>\n",
       "      <td>0.0</td>\n",
       "      <td>#model   i love u take with u all the time in ...</td>\n",
       "    </tr>\n",
       "    <tr>\n",
       "      <th>4</th>\n",
       "      <td>5</td>\n",
       "      <td>0.0</td>\n",
       "      <td>factsguide: society now    #motivation</td>\n",
       "    </tr>\n",
       "  </tbody>\n",
       "</table>\n",
       "</div>"
      ],
      "text/plain": [
       "   id  label                                              tweet\n",
       "0   1    0.0   @user when a father is dysfunctional and is s...\n",
       "1   2    0.0  @user @user thanks for #lyft credit i can't us...\n",
       "2   3    0.0                                bihday your majesty\n",
       "3   4    0.0  #model   i love u take with u all the time in ...\n",
       "4   5    0.0             factsguide: society now    #motivation"
      ]
     },
     "execution_count": 6,
     "metadata": {},
     "output_type": "execute_result"
    }
   ],
   "source": [
    "combine_df = train_df.append(test_df, ignore_index = True, sort = False)\n",
    "combine_df.head()"
   ]
  },
  {
   "cell_type": "code",
   "execution_count": 7,
   "metadata": {},
   "outputs": [
    {
     "name": "stdout",
     "output_type": "stream",
     "text": [
      "<class 'pandas.core.frame.DataFrame'>\n",
      "RangeIndex: 49159 entries, 0 to 49158\n",
      "Data columns (total 3 columns):\n",
      " #   Column  Non-Null Count  Dtype  \n",
      "---  ------  --------------  -----  \n",
      " 0   id      49159 non-null  int64  \n",
      " 1   label   31962 non-null  float64\n",
      " 2   tweet   49159 non-null  object \n",
      "dtypes: float64(1), int64(1), object(1)\n",
      "memory usage: 1.1+ MB\n",
      "None\n"
     ]
    }
   ],
   "source": [
    "print(combine_df.info())"
   ]
  },
  {
   "cell_type": "code",
   "execution_count": 8,
   "metadata": {},
   "outputs": [],
   "source": [
    "df = combine_df"
   ]
  },
  {
   "cell_type": "markdown",
   "metadata": {},
   "source": [
    "# 1. Удалим @user из всех твитов с помощью паттерна \"@[\\w]*\". Для этого создадим функцию: \n",
    " - для того, чтобы найти все вхождения паттерна в тексте, необходимо использовать re.findall(pattern, input_txt)\n",
    " - для для замены @user на пробел, необходимо использовать re.sub()\n",
    " 1. Удалим @user из всех твитов с помощью паттерна \"@[\\w]*\". Для этого создадим\n",
    "функцию:\n",
    "2. Изменим регистр твитов на нижний с помощью .lower().\n"
   ]
  },
  {
   "cell_type": "code",
   "execution_count": 9,
   "metadata": {},
   "outputs": [
    {
     "data": {
      "text/plain": [
       "['@user']"
      ]
     },
     "execution_count": 9,
     "metadata": {},
     "output_type": "execute_result"
    }
   ],
   "source": [
    "re.findall(r'@[\\w]*', str(df.tweet[0]))"
   ]
  },
  {
   "cell_type": "code",
   "execution_count": 10,
   "metadata": {},
   "outputs": [
    {
     "data": {
      "text/plain": [
       "str"
      ]
     },
     "execution_count": 10,
     "metadata": {},
     "output_type": "execute_result"
    }
   ],
   "source": [
    "type(df['tweet'][0])"
   ]
  },
  {
   "cell_type": "code",
   "execution_count": 11,
   "metadata": {},
   "outputs": [],
   "source": [
    "def replacement(text, regex=re.compile(r'@[\\w]*')):\n",
    "    try:\n",
    "        return re.sub(regex, \" \", text)\n",
    "    except:\n",
    "        return \" \""
   ]
  },
  {
   "cell_type": "code",
   "execution_count": 12,
   "metadata": {},
   "outputs": [
    {
     "data": {
      "application/vnd.jupyter.widget-view+json": {
       "model_id": "4e135dea6e994f638e4bb1c1550bf837",
       "version_major": 2,
       "version_minor": 0
      },
      "text/plain": [
       "0it [00:00, ?it/s]"
      ]
     },
     "metadata": {},
     "output_type": "display_data"
    },
    {
     "name": "stdout",
     "output_type": "stream",
     "text": [
      "CPU times: user 7.82 s, sys: 3.14 s, total: 11 s\n",
      "Wall time: 12.8 s\n"
     ]
    }
   ],
   "source": [
    "%%time\n",
    "\n",
    "with Pool(8) as p:\n",
    "    tweet = list(tqdm(p.imap(replacement, df['tweet'])))"
   ]
  },
  {
   "cell_type": "code",
   "execution_count": 13,
   "metadata": {},
   "outputs": [
    {
     "data": {
      "text/html": [
       "<div>\n",
       "<style scoped>\n",
       "    .dataframe tbody tr th:only-of-type {\n",
       "        vertical-align: middle;\n",
       "    }\n",
       "\n",
       "    .dataframe tbody tr th {\n",
       "        vertical-align: top;\n",
       "    }\n",
       "\n",
       "    .dataframe thead th {\n",
       "        text-align: right;\n",
       "    }\n",
       "</style>\n",
       "<table border=\"1\" class=\"dataframe\">\n",
       "  <thead>\n",
       "    <tr style=\"text-align: right;\">\n",
       "      <th></th>\n",
       "      <th>id</th>\n",
       "      <th>label</th>\n",
       "      <th>tweet</th>\n",
       "      <th>clear_tweet</th>\n",
       "    </tr>\n",
       "  </thead>\n",
       "  <tbody>\n",
       "    <tr>\n",
       "      <th>34355</th>\n",
       "      <td>34356</td>\n",
       "      <td>NaN</td>\n",
       "      <td>#happiness is an inside #job.â¤ï¸ wishing y'...</td>\n",
       "      <td>#happiness is an inside #job.â¤ï¸ wishing y'...</td>\n",
       "    </tr>\n",
       "    <tr>\n",
       "      <th>13024</th>\n",
       "      <td>13025</td>\n",
       "      <td>0.0</td>\n",
       "      <td>going to tennessee with my family!!!! ð</td>\n",
       "      <td>going to tennessee with my family!!!! ð</td>\n",
       "    </tr>\n",
       "    <tr>\n",
       "      <th>34697</th>\n",
       "      <td>34698</td>\n",
       "      <td>NaN</td>\n",
       "      <td>@user elheraldonewstx: #dallas shooting #love...</td>\n",
       "      <td>elheraldonewstx: #dallas shooting #lovefiel...</td>\n",
       "    </tr>\n",
       "    <tr>\n",
       "      <th>43386</th>\n",
       "      <td>43387</td>\n",
       "      <td>NaN</td>\n",
       "      <td>i swear i heard something out front. hope i ca...</td>\n",
       "      <td>i swear i heard something out front. hope i ca...</td>\n",
       "    </tr>\n",
       "    <tr>\n",
       "      <th>1787</th>\n",
       "      <td>1788</td>\n",
       "      <td>0.0</td>\n",
       "      <td>to have @user joining us this year #freedomc...</td>\n",
       "      <td>to have   joining us this year #freedomconfe...</td>\n",
       "    </tr>\n",
       "  </tbody>\n",
       "</table>\n",
       "</div>"
      ],
      "text/plain": [
       "          id  label                                              tweet  \\\n",
       "34355  34356    NaN  #happiness is an inside #job.â¤ï¸ wishing y'...   \n",
       "13024  13025    0.0     going to tennessee with my family!!!! ð       \n",
       "34697  34698    NaN   @user elheraldonewstx: #dallas shooting #love...   \n",
       "43386  43387    NaN  i swear i heard something out front. hope i ca...   \n",
       "1787    1788    0.0    to have @user joining us this year #freedomc...   \n",
       "\n",
       "                                             clear_tweet  \n",
       "34355  #happiness is an inside #job.â¤ï¸ wishing y'...  \n",
       "13024     going to tennessee with my family!!!! ð      \n",
       "34697     elheraldonewstx: #dallas shooting #lovefiel...  \n",
       "43386  i swear i heard something out front. hope i ca...  \n",
       "1787     to have   joining us this year #freedomconfe...  "
      ]
     },
     "execution_count": 13,
     "metadata": {},
     "output_type": "execute_result"
    }
   ],
   "source": [
    "df['clear_tweet'] = tweet\n",
    "df.sample(5)"
   ]
  },
  {
   "cell_type": "markdown",
   "metadata": {},
   "source": [
    "# 3. Заменим сокращения с апострофами (пример: ain't, can't) на пробел, используя apostrophe_dict. Для этого необходимо сделать функцию: для каждого слова в тексте проверить (for word in text.split()), если слово есть в словаре apostrophe_dict в качестве ключа (сокращенного слова), то заменить ключ на значение (полную версию слова)."
   ]
  },
  {
   "cell_type": "code",
   "execution_count": 14,
   "metadata": {},
   "outputs": [
    {
     "data": {
      "text/plain": [
       "dict_keys([\"ain't\", \"aren't\", \"can't\", \"can't've\", \"'cause\", \"could've\", \"couldn't\", \"couldn't've\", \"didn't\", \"doesn't\", \"don't\", \"hadn't\", \"hadn't've\", \"hasn't\", \"haven't\", \"he'd\", \"he'd've\", \"he'll\", \"he'll've\", \"he's\", \"how'd\", \"how'd'y\", \"how'll\", \"how's\", \"i'd\", \"i'd've\", \"i'll\", \"i'll've\", \"i'm\", \"i've\", \"isn't\", \"it'd\", \"it'd've\", \"it'll\", \"it'll've\", \"it's\", \"let's\", \"ma'am\", \"mayn't\", \"might've\", \"mightn't\", \"mightn't've\", \"must've\", \"mustn't\", \"mustn't've\", \"needn't\", \"needn't've\", \"o'clock\", \"oughtn't\", \"oughtn't've\", \"shan't\", \"sha'n't\", \"shan't've\", \"she'd\", \"she'd've\", \"she'll\", \"she'll've\", \"she's\", \"should've\", \"shouldn't\", \"shouldn't've\", \"so've\", \"so's\", \"that'd\", \"that'd've\", \"that's\", \"there'd\", \"there'd've\", \"there's\", \"they'd\", \"they'd've\", \"they'll\", \"they'll've\", \"they're\", \"they've\", \"to've\", \"wasn't\", \"we'd\", \"we'd've\", \"we'll\", \"we'll've\", \"we're\", \"we've\", \"weren't\", \"what'll\", \"what'll've\", \"what're\", \"what's\", \"what've\", \"when's\", \"when've\", \"where'd\", \"where's\", \"where've\", \"who'll\", \"who'll've\", \"who's\", \"who've\", \"why's\", \"why've\", \"will've\", \"won't\", \"won't've\", \"would've\", \"wouldn't\", \"wouldn't've\", \"y'all\", \"y'all'd\", \"y'all'd've\", \"y'all're\", \"y'all've\", \"you'd\", \"you'd've\", \"you'll\", \"you'll've\", \"you're\", \"you've\"])"
      ]
     },
     "execution_count": 14,
     "metadata": {},
     "output_type": "execute_result"
    }
   ],
   "source": [
    "apostrophe_dict.keys()"
   ]
  },
  {
   "cell_type": "code",
   "execution_count": 15,
   "metadata": {},
   "outputs": [],
   "source": [
    "def remove_apostrophe(text, apostrophe_dict = apostrophe_dict):\n",
    "    try:\n",
    "        res = ' '.join([w if w not in apostrophe_dict.keys() else apostrophe_dict[w] for w\\\n",
    "                        in text.split()])\n",
    "        return res\n",
    "    except:\n",
    "        return ' '"
   ]
  },
  {
   "cell_type": "code",
   "execution_count": 16,
   "metadata": {},
   "outputs": [
    {
     "data": {
      "text/plain": [
       "\"@user @user thanks for #lyft credit i can't use cause they don't offer wheelchair vans in pdx.    #disapointed #getthanked\""
      ]
     },
     "execution_count": 16,
     "metadata": {},
     "output_type": "execute_result"
    }
   ],
   "source": [
    "df['tweet'][1]"
   ]
  },
  {
   "cell_type": "code",
   "execution_count": 17,
   "metadata": {},
   "outputs": [
    {
     "data": {
      "text/plain": [
       "'@user @user thanks for #lyft credit i cannot use cause they do not offer wheelchair vans in pdx. #disapointed #getthanked'"
      ]
     },
     "execution_count": 17,
     "metadata": {},
     "output_type": "execute_result"
    }
   ],
   "source": [
    "remove_apostrophe(df['tweet'][1])"
   ]
  },
  {
   "cell_type": "code",
   "execution_count": 18,
   "metadata": {},
   "outputs": [
    {
     "data": {
      "application/vnd.jupyter.widget-view+json": {
       "model_id": "f9a68b49ddb443cb832e7cf0a8a923b8",
       "version_major": 2,
       "version_minor": 0
      },
      "text/plain": [
       "0it [00:00, ?it/s]"
      ]
     },
     "metadata": {},
     "output_type": "display_data"
    },
    {
     "name": "stdout",
     "output_type": "stream",
     "text": [
      "CPU times: user 39.8 s, sys: 22.1 s, total: 1min 1s\n",
      "Wall time: 46.4 s\n"
     ]
    }
   ],
   "source": [
    "%%time\n",
    "\n",
    "with Pool(3) as p:\n",
    "    tweet = list(tqdm(p.imap(remove_apostrophe, df['clear_tweet'])))"
   ]
  },
  {
   "cell_type": "code",
   "execution_count": 19,
   "metadata": {},
   "outputs": [],
   "source": [
    "df['clear_tweet'] = tweet"
   ]
  },
  {
   "cell_type": "code",
   "execution_count": 20,
   "metadata": {},
   "outputs": [
    {
     "data": {
      "text/html": [
       "<div>\n",
       "<style scoped>\n",
       "    .dataframe tbody tr th:only-of-type {\n",
       "        vertical-align: middle;\n",
       "    }\n",
       "\n",
       "    .dataframe tbody tr th {\n",
       "        vertical-align: top;\n",
       "    }\n",
       "\n",
       "    .dataframe thead th {\n",
       "        text-align: right;\n",
       "    }\n",
       "</style>\n",
       "<table border=\"1\" class=\"dataframe\">\n",
       "  <thead>\n",
       "    <tr style=\"text-align: right;\">\n",
       "      <th></th>\n",
       "      <th>id</th>\n",
       "      <th>label</th>\n",
       "      <th>tweet</th>\n",
       "      <th>clear_tweet</th>\n",
       "    </tr>\n",
       "  </thead>\n",
       "  <tbody>\n",
       "    <tr>\n",
       "      <th>9385</th>\n",
       "      <td>9386</td>\n",
       "      <td>0.0</td>\n",
       "      <td>u chi a ge ð¤.   #school #festival #was #lau...</td>\n",
       "      <td>u chi a ge ð¤. #school #festival #was #lauch...</td>\n",
       "    </tr>\n",
       "    <tr>\n",
       "      <th>14692</th>\n",
       "      <td>14693</td>\n",
       "      <td>0.0</td>\n",
       "      <td>tonight feels so of chat but happy from your k...</td>\n",
       "      <td>tonight feels so of chat but happy from your k...</td>\n",
       "    </tr>\n",
       "    <tr>\n",
       "      <th>29121</th>\n",
       "      <td>29122</td>\n",
       "      <td>0.0</td>\n",
       "      <td>to see a #maltingfloor today @user this humb...</td>\n",
       "      <td>to see a #maltingfloor today this humble ingre...</td>\n",
       "    </tr>\n",
       "    <tr>\n",
       "      <th>39168</th>\n",
       "      <td>39169</td>\n",
       "      <td>NaN</td>\n",
       "      <td>@user wo mur mur ke tera dekhna #devakshi   b...</td>\n",
       "      <td>wo mur mur ke tera dekhna #devakshi bg was too...</td>\n",
       "    </tr>\n",
       "    <tr>\n",
       "      <th>9554</th>\n",
       "      <td>9555</td>\n",
       "      <td>0.0</td>\n",
       "      <td>when you get great news on a sunday morning ab...</td>\n",
       "      <td>when you get great news on a sunday morning ab...</td>\n",
       "    </tr>\n",
       "  </tbody>\n",
       "</table>\n",
       "</div>"
      ],
      "text/plain": [
       "          id  label                                              tweet  \\\n",
       "9385    9386    0.0  u chi a ge ð¤.   #school #festival #was #lau...   \n",
       "14692  14693    0.0  tonight feels so of chat but happy from your k...   \n",
       "29121  29122    0.0    to see a #maltingfloor today @user this humb...   \n",
       "39168  39169    NaN   @user wo mur mur ke tera dekhna #devakshi   b...   \n",
       "9554    9555    0.0  when you get great news on a sunday morning ab...   \n",
       "\n",
       "                                             clear_tweet  \n",
       "9385   u chi a ge ð¤. #school #festival #was #lauch...  \n",
       "14692  tonight feels so of chat but happy from your k...  \n",
       "29121  to see a #maltingfloor today this humble ingre...  \n",
       "39168  wo mur mur ke tera dekhna #devakshi bg was too...  \n",
       "9554   when you get great news on a sunday morning ab...  "
      ]
     },
     "execution_count": 20,
     "metadata": {},
     "output_type": "execute_result"
    }
   ],
   "source": [
    "df.sample(5)"
   ]
  },
  {
   "cell_type": "markdown",
   "metadata": {},
   "source": [
    "# 4. Заменим сокращения на их полные формы, используя short_word_dict. Для этого воспользуемся функцией, используемой в предыдущем пункте(я сделал отдельные ф-ции чтобы их различать в будущем)."
   ]
  },
  {
   "cell_type": "code",
   "execution_count": 21,
   "metadata": {},
   "outputs": [],
   "source": [
    "def remove_short_word(text, short_word_dict = short_word_dict):\n",
    "    try:\n",
    "        res = ' '.join([w if w not in short_word_dict.keys() else short_word_dict[w] for w\\\n",
    "                       in text.split()])\n",
    "        return res\n",
    "    except:\n",
    "        return ' '"
   ]
  },
  {
   "cell_type": "code",
   "execution_count": 22,
   "metadata": {},
   "outputs": [
    {
     "data": {
      "text/plain": [
       "dict_keys(['121', 'a/s/l', 'adn', 'afaik', 'afk', 'aight', 'alol', 'b4', 'b4n', 'bak', 'bf', 'bff', 'bfn', 'bg', 'bta', 'btw', 'cid', 'cnp', 'cp', 'cu', 'cul', 'cul8r', 'cya', 'cyo', 'dbau', 'fud', 'fwiw', 'fyi', 'g', 'g2g', 'ga', 'gal', 'gf', 'gfn', 'gmbo', 'gmta', 'h8', 'hagn', 'hdop', 'hhis', 'iac', 'ianal', 'ic', 'idk', 'imao', 'imnsho', 'imo', 'iow', 'ipn', 'irl', 'jk', 'l8r', 'ld', 'ldr', 'llta', 'lmao', 'lmirl', 'lol', 'ltr', 'lulab', 'lulas', 'luv', 'm/f', 'm8', 'milf', 'oll', 'omg', 'otoh', 'pir', 'ppl', 'r', 'rofl', 'rpg', 'ru', 'shid', 'somy', 'sot', 'thanx', 'thx', 'ttyl', 'u', 'ur', 'uw', 'wb', 'wfm', 'wibni', 'wtf', 'wtg', 'wtgp', 'ym', 'gr8'])"
      ]
     },
     "execution_count": 22,
     "metadata": {},
     "output_type": "execute_result"
    }
   ],
   "source": [
    "short_word_dict.keys()"
   ]
  },
  {
   "cell_type": "code",
   "execution_count": 23,
   "metadata": {},
   "outputs": [
    {
     "data": {
      "text/plain": [
       "\"@user @user thanks for #lyft credit i can't use cause they don't offer wheelchair vans in pdx.    #disapointed #getthanked\""
      ]
     },
     "execution_count": 23,
     "metadata": {},
     "output_type": "execute_result"
    }
   ],
   "source": [
    "df['tweet'][1]"
   ]
  },
  {
   "cell_type": "code",
   "execution_count": 24,
   "metadata": {},
   "outputs": [
    {
     "data": {
      "text/plain": [
       "\"@user @user thanks for #lyft credit i can't use cause they don't offer wheelchair vans in pdx. #disapointed #getthanked\""
      ]
     },
     "execution_count": 24,
     "metadata": {},
     "output_type": "execute_result"
    }
   ],
   "source": [
    "remove_short_word(df['tweet'][1])"
   ]
  },
  {
   "cell_type": "code",
   "execution_count": 25,
   "metadata": {},
   "outputs": [
    {
     "data": {
      "application/vnd.jupyter.widget-view+json": {
       "model_id": "d8b71b6da5834f7fa90fc0ae69e2910a",
       "version_major": 2,
       "version_minor": 0
      },
      "text/plain": [
       "0it [00:00, ?it/s]"
      ]
     },
     "metadata": {},
     "output_type": "display_data"
    },
    {
     "name": "stdout",
     "output_type": "stream",
     "text": [
      "CPU times: user 16 s, sys: 7.73 s, total: 23.8 s\n",
      "Wall time: 22.1 s\n"
     ]
    }
   ],
   "source": [
    "%%time\n",
    "\n",
    "with Pool(3) as p:\n",
    "    tweet = list(tqdm(p.imap(remove_short_word, df['clear_tweet'])))"
   ]
  },
  {
   "cell_type": "code",
   "execution_count": 26,
   "metadata": {},
   "outputs": [
    {
     "data": {
      "text/html": [
       "<div>\n",
       "<style scoped>\n",
       "    .dataframe tbody tr th:only-of-type {\n",
       "        vertical-align: middle;\n",
       "    }\n",
       "\n",
       "    .dataframe tbody tr th {\n",
       "        vertical-align: top;\n",
       "    }\n",
       "\n",
       "    .dataframe thead th {\n",
       "        text-align: right;\n",
       "    }\n",
       "</style>\n",
       "<table border=\"1\" class=\"dataframe\">\n",
       "  <thead>\n",
       "    <tr style=\"text-align: right;\">\n",
       "      <th></th>\n",
       "      <th>id</th>\n",
       "      <th>label</th>\n",
       "      <th>tweet</th>\n",
       "      <th>clear_tweet</th>\n",
       "    </tr>\n",
       "  </thead>\n",
       "  <tbody>\n",
       "    <tr>\n",
       "      <th>17163</th>\n",
       "      <td>17164</td>\n",
       "      <td>0.0</td>\n",
       "      <td>hmmmmmm.... i'm hopeless..   #why#is#it#so #today</td>\n",
       "      <td>hmmmmmm.... I am hopeless.. #why#is#it#so #today</td>\n",
       "    </tr>\n",
       "    <tr>\n",
       "      <th>40165</th>\n",
       "      <td>40166</td>\n",
       "      <td>NaN</td>\n",
       "      <td>sun sets on the flint hills and a super week o...</td>\n",
       "      <td>sun sets on the flint hills and a super week o...</td>\n",
       "    </tr>\n",
       "    <tr>\n",
       "      <th>19632</th>\n",
       "      <td>19633</td>\n",
       "      <td>0.0</td>\n",
       "      <td>looks like waterproofs will be a necessity on ...</td>\n",
       "      <td>looks like waterproofs will be a necessity on ...</td>\n",
       "    </tr>\n",
       "    <tr>\n",
       "      <th>1462</th>\n",
       "      <td>1463</td>\n",
       "      <td>0.0</td>\n",
       "      <td>waiting to see the wonderful @user live at qpa...</td>\n",
       "      <td>waiting to see the wonderful live at qpac! #wo...</td>\n",
       "    </tr>\n",
       "    <tr>\n",
       "      <th>8437</th>\n",
       "      <td>8438</td>\n",
       "      <td>0.0</td>\n",
       "      <td>let this be a great summer! #sohyped</td>\n",
       "      <td>let this be a great summer! #sohyped</td>\n",
       "    </tr>\n",
       "  </tbody>\n",
       "</table>\n",
       "</div>"
      ],
      "text/plain": [
       "          id  label                                              tweet  \\\n",
       "17163  17164    0.0  hmmmmmm.... i'm hopeless..   #why#is#it#so #today   \n",
       "40165  40166    NaN  sun sets on the flint hills and a super week o...   \n",
       "19632  19633    0.0  looks like waterproofs will be a necessity on ...   \n",
       "1462    1463    0.0  waiting to see the wonderful @user live at qpa...   \n",
       "8437    8438    0.0             let this be a great summer! #sohyped     \n",
       "\n",
       "                                             clear_tweet  \n",
       "17163   hmmmmmm.... I am hopeless.. #why#is#it#so #today  \n",
       "40165  sun sets on the flint hills and a super week o...  \n",
       "19632  looks like waterproofs will be a necessity on ...  \n",
       "1462   waiting to see the wonderful live at qpac! #wo...  \n",
       "8437                let this be a great summer! #sohyped  "
      ]
     },
     "execution_count": 26,
     "metadata": {},
     "output_type": "execute_result"
    }
   ],
   "source": [
    "df['clear_tweet'] = tweet\n",
    "df.sample(5)"
   ]
  },
  {
   "cell_type": "markdown",
   "metadata": {},
   "source": [
    "# 5. Заменим эмотиконы (пример: \":)\" = \"happy\") на пробелы, используя emoticon_dict. Для этого воспользуемся функцией, используемой в предыдущем пункте."
   ]
  },
  {
   "cell_type": "code",
   "execution_count": 27,
   "metadata": {},
   "outputs": [
    {
     "data": {
      "text/plain": [
       "dict_keys([':)', ':‑)', ':-]', ':-3', ':->', '8-)', ':-}', ':o)', ':c)', ':^)', '=]', '=)', '<3', ':-(', ':(', ':c', ':<', ':[', '>:[', ':{', '>:(', ':-c', ':-< ', ':-[', ':-||'])"
      ]
     },
     "execution_count": 27,
     "metadata": {},
     "output_type": "execute_result"
    }
   ],
   "source": [
    "emoticon_dict.keys()"
   ]
  },
  {
   "cell_type": "code",
   "execution_count": 28,
   "metadata": {},
   "outputs": [],
   "source": [
    "def remove_emoticon(text, emoticon = emoticon_dict.keys(), emoticon_dict = emoticon_dict):\n",
    "    try:\n",
    "        res = ' '.join([w if w not in emoticon else emoticon_dict[w] for w in text.split()])\n",
    "        return res\n",
    "    except:\n",
    "        return ' '"
   ]
  },
  {
   "cell_type": "code",
   "execution_count": 29,
   "metadata": {},
   "outputs": [
    {
     "data": {
      "application/vnd.jupyter.widget-view+json": {
       "model_id": "6c9ebf72f3864c1bbf681dbcab872f19",
       "version_major": 2,
       "version_minor": 0
      },
      "text/plain": [
       "0it [00:00, ?it/s]"
      ]
     },
     "metadata": {},
     "output_type": "display_data"
    },
    {
     "name": "stdout",
     "output_type": "stream",
     "text": [
      "CPU times: user 5.64 s, sys: 822 ms, total: 6.46 s\n",
      "Wall time: 12 s\n"
     ]
    }
   ],
   "source": [
    "%%time\n",
    "\n",
    "with Pool(3) as p:\n",
    "    tweet = list(tqdm(p.imap(remove_emoticon, df['clear_tweet'])))"
   ]
  },
  {
   "cell_type": "code",
   "execution_count": 30,
   "metadata": {},
   "outputs": [],
   "source": [
    "df['clear_tweet'] = tweet"
   ]
  },
  {
   "cell_type": "code",
   "execution_count": 31,
   "metadata": {},
   "outputs": [
    {
     "data": {
      "text/html": [
       "<div>\n",
       "<style scoped>\n",
       "    .dataframe tbody tr th:only-of-type {\n",
       "        vertical-align: middle;\n",
       "    }\n",
       "\n",
       "    .dataframe tbody tr th {\n",
       "        vertical-align: top;\n",
       "    }\n",
       "\n",
       "    .dataframe thead th {\n",
       "        text-align: right;\n",
       "    }\n",
       "</style>\n",
       "<table border=\"1\" class=\"dataframe\">\n",
       "  <thead>\n",
       "    <tr style=\"text-align: right;\">\n",
       "      <th></th>\n",
       "      <th>id</th>\n",
       "      <th>label</th>\n",
       "      <th>tweet</th>\n",
       "      <th>clear_tweet</th>\n",
       "    </tr>\n",
       "  </thead>\n",
       "  <tbody>\n",
       "    <tr>\n",
       "      <th>26779</th>\n",
       "      <td>26780</td>\n",
       "      <td>0.0</td>\n",
       "      <td>downloading the #ios10 beta!   #iphone #ipadpr...</td>\n",
       "      <td>downloading the #ios10 beta! #iphone #ipadpro ...</td>\n",
       "    </tr>\n",
       "    <tr>\n",
       "      <th>24108</th>\n",
       "      <td>24109</td>\n",
       "      <td>0.0</td>\n",
       "      <td>@user .@user introducing our keynote speaker ...</td>\n",
       "      <td>. introducing our keynote speaker at #eclipsec...</td>\n",
       "    </tr>\n",
       "    <tr>\n",
       "      <th>40261</th>\n",
       "      <td>40262</td>\n",
       "      <td>NaN</td>\n",
       "      <td>@user shhhh, don't tell ð it's #cheatday ð...</td>\n",
       "      <td>shhhh, do not tell ð it has / it is #cheatd...</td>\n",
       "    </tr>\n",
       "    <tr>\n",
       "      <th>28891</th>\n",
       "      <td>28892</td>\n",
       "      <td>0.0</td>\n",
       "      <td>that's what we're about #foundationstaers ð</td>\n",
       "      <td>that has / that is what we are about #foundati...</td>\n",
       "    </tr>\n",
       "    <tr>\n",
       "      <th>4980</th>\n",
       "      <td>4981</td>\n",
       "      <td>0.0</td>\n",
       "      <td>awesome sailboat! âµ#awesome   #baltimore #sa...</td>\n",
       "      <td>awesome sailboat! âµ#awesome #baltimore #sail...</td>\n",
       "    </tr>\n",
       "  </tbody>\n",
       "</table>\n",
       "</div>"
      ],
      "text/plain": [
       "          id  label                                              tweet  \\\n",
       "26779  26780    0.0  downloading the #ios10 beta!   #iphone #ipadpr...   \n",
       "24108  24109    0.0   @user .@user introducing our keynote speaker ...   \n",
       "40261  40262    NaN   @user shhhh, don't tell ð it's #cheatday ð...   \n",
       "28891  28892    0.0    that's what we're about #foundationstaers ð    \n",
       "4980    4981    0.0  awesome sailboat! âµ#awesome   #baltimore #sa...   \n",
       "\n",
       "                                             clear_tweet  \n",
       "26779  downloading the #ios10 beta! #iphone #ipadpro ...  \n",
       "24108  . introducing our keynote speaker at #eclipsec...  \n",
       "40261  shhhh, do not tell ð it has / it is #cheatd...  \n",
       "28891  that has / that is what we are about #foundati...  \n",
       "4980   awesome sailboat! âµ#awesome #baltimore #sail...  "
      ]
     },
     "execution_count": 31,
     "metadata": {},
     "output_type": "execute_result"
    }
   ],
   "source": [
    "df.sample(5)"
   ]
  },
  {
   "cell_type": "markdown",
   "metadata": {},
   "source": [
    "# 6. Заменим пунктуацию на пробелы, используя re.sub() и паттерн r'[^\\w\\s]'"
   ]
  },
  {
   "cell_type": "code",
   "execution_count": 32,
   "metadata": {},
   "outputs": [],
   "source": [
    "def replacement(text, regex = re.compile(r'[^\\w\\s]')):\n",
    "    try:\n",
    "        return re.sub(regex, \" \", text)\n",
    "    except:\n",
    "        return \" \""
   ]
  },
  {
   "cell_type": "code",
   "execution_count": 33,
   "metadata": {},
   "outputs": [
    {
     "data": {
      "text/plain": [
       "' @user when a father is dysfunctional and is so selfish he drags his kids into his dysfunction.   #run'"
      ]
     },
     "execution_count": 33,
     "metadata": {},
     "output_type": "execute_result"
    }
   ],
   "source": [
    "df['tweet'][0]"
   ]
  },
  {
   "cell_type": "code",
   "execution_count": 34,
   "metadata": {},
   "outputs": [
    {
     "data": {
      "text/plain": [
       "'  user when a father is dysfunctional and is so selfish he drags his kids into his dysfunction     run'"
      ]
     },
     "execution_count": 34,
     "metadata": {},
     "output_type": "execute_result"
    }
   ],
   "source": [
    "replacement(df['tweet'][0])"
   ]
  },
  {
   "cell_type": "code",
   "execution_count": 35,
   "metadata": {},
   "outputs": [
    {
     "data": {
      "application/vnd.jupyter.widget-view+json": {
       "model_id": "eb0dca39da4940a9ac958bc68f9fbe45",
       "version_major": 2,
       "version_minor": 0
      },
      "text/plain": [
       "0it [00:00, ?it/s]"
      ]
     },
     "metadata": {},
     "output_type": "display_data"
    },
    {
     "name": "stdout",
     "output_type": "stream",
     "text": [
      "CPU times: user 6.99 s, sys: 1.8 s, total: 8.79 s\n",
      "Wall time: 13.6 s\n"
     ]
    }
   ],
   "source": [
    "%%time\n",
    "\n",
    "with Pool(3) as p:\n",
    "    tweet = list(tqdm(p.imap(replacement, df['clear_tweet'])))"
   ]
  },
  {
   "cell_type": "code",
   "execution_count": 36,
   "metadata": {},
   "outputs": [
    {
     "data": {
      "text/plain": [
       "'when a father is dysfunctional and is so selfish he drags his kids into his dysfunction   run'"
      ]
     },
     "execution_count": 36,
     "metadata": {},
     "output_type": "execute_result"
    }
   ],
   "source": [
    "tweet[0]"
   ]
  },
  {
   "cell_type": "code",
   "execution_count": 37,
   "metadata": {},
   "outputs": [],
   "source": [
    "df['clear_tweet'] = tweet"
   ]
  },
  {
   "cell_type": "code",
   "execution_count": 38,
   "metadata": {},
   "outputs": [
    {
     "data": {
      "text/html": [
       "<div>\n",
       "<style scoped>\n",
       "    .dataframe tbody tr th:only-of-type {\n",
       "        vertical-align: middle;\n",
       "    }\n",
       "\n",
       "    .dataframe tbody tr th {\n",
       "        vertical-align: top;\n",
       "    }\n",
       "\n",
       "    .dataframe thead th {\n",
       "        text-align: right;\n",
       "    }\n",
       "</style>\n",
       "<table border=\"1\" class=\"dataframe\">\n",
       "  <thead>\n",
       "    <tr style=\"text-align: right;\">\n",
       "      <th></th>\n",
       "      <th>id</th>\n",
       "      <th>label</th>\n",
       "      <th>tweet</th>\n",
       "      <th>clear_tweet</th>\n",
       "    </tr>\n",
       "  </thead>\n",
       "  <tbody>\n",
       "    <tr>\n",
       "      <th>32381</th>\n",
       "      <td>32382</td>\n",
       "      <td>NaN</td>\n",
       "      <td>nice! @user @user  #ready @user coming to oakl...</td>\n",
       "      <td>nice   ready coming to oakland  the marijuana ...</td>\n",
       "    </tr>\n",
       "    <tr>\n",
       "      <th>27665</th>\n",
       "      <td>27666</td>\n",
       "      <td>0.0</td>\n",
       "      <td>#father's #day!  -from gearhead homes  fathe...</td>\n",
       "      <td>father s  day   from gearhead homes fathersda...</td>\n",
       "    </tr>\n",
       "    <tr>\n",
       "      <th>21743</th>\n",
       "      <td>21744</td>\n",
       "      <td>0.0</td>\n",
       "      <td>@user you can score your tickets for #bornfohi...</td>\n",
       "      <td>you can score your tickets for  bornfohis here...</td>\n",
       "    </tr>\n",
       "    <tr>\n",
       "      <th>43195</th>\n",
       "      <td>43196</td>\n",
       "      <td>NaN</td>\n",
       "      <td>thanks for your service @user  stories like th...</td>\n",
       "      <td>thanks for your service stories like this make...</td>\n",
       "    </tr>\n",
       "    <tr>\n",
       "      <th>21579</th>\n",
       "      <td>21580</td>\n",
       "      <td>0.0</td>\n",
       "      <td>happy father's day! #trulyblessed   #fathersda...</td>\n",
       "      <td>happy father s day   trulyblessed  fathersday ...</td>\n",
       "    </tr>\n",
       "  </tbody>\n",
       "</table>\n",
       "</div>"
      ],
      "text/plain": [
       "          id  label                                              tweet  \\\n",
       "32381  32382    NaN  nice! @user @user  #ready @user coming to oakl...   \n",
       "27665  27666    0.0    #father's #day!  -from gearhead homes  fathe...   \n",
       "21743  21744    0.0  @user you can score your tickets for #bornfohi...   \n",
       "43195  43196    NaN  thanks for your service @user  stories like th...   \n",
       "21579  21580    0.0  happy father's day! #trulyblessed   #fathersda...   \n",
       "\n",
       "                                             clear_tweet  \n",
       "32381  nice   ready coming to oakland  the marijuana ...  \n",
       "27665   father s  day   from gearhead homes fathersda...  \n",
       "21743  you can score your tickets for  bornfohis here...  \n",
       "43195  thanks for your service stories like this make...  \n",
       "21579  happy father s day   trulyblessed  fathersday ...  "
      ]
     },
     "execution_count": 38,
     "metadata": {},
     "output_type": "execute_result"
    }
   ],
   "source": [
    "df.sample(5)"
   ]
  },
  {
   "cell_type": "markdown",
   "metadata": {},
   "source": [
    "# 7. Заменим спец. символы на пробелы, используя re.sub() и паттерн r'[^a-zA-Z0-9]'"
   ]
  },
  {
   "cell_type": "code",
   "execution_count": 39,
   "metadata": {},
   "outputs": [],
   "source": [
    "def replacement(text, regex = re.compile(r'[^a-zA-Z0-9]')):\n",
    "    try:\n",
    "        return re.sub(regex, \" \", text)\n",
    "    except:\n",
    "        return \" \""
   ]
  },
  {
   "cell_type": "code",
   "execution_count": 40,
   "metadata": {},
   "outputs": [
    {
     "data": {
      "text/plain": [
       "' @user all #smiles when #media is   !! ð\\x9f\\x98\\x9cð\\x9f\\x98\\x88 #pressconference in #antalya #turkey ! sunday #throwback  love! ð\\x9f\\x98\\x8að\\x9f\\x98\\x98â\\x9d¤ï¸\\x8f '"
      ]
     },
     "execution_count": 40,
     "metadata": {},
     "output_type": "execute_result"
    }
   ],
   "source": [
    "df['tweet'][26]"
   ]
  },
  {
   "cell_type": "code",
   "execution_count": 41,
   "metadata": {},
   "outputs": [
    {
     "data": {
      "text/plain": [
       "'  user all  smiles when  media is                pressconference in  antalya  turkey   sunday  throwback  love                 '"
      ]
     },
     "execution_count": 41,
     "metadata": {},
     "output_type": "execute_result"
    }
   ],
   "source": [
    "re.sub(re.compile(r'[^a-zA-Z0-9]'), \" \", df['tweet'][26])"
   ]
  },
  {
   "cell_type": "code",
   "execution_count": 42,
   "metadata": {},
   "outputs": [
    {
     "data": {
      "text/plain": [
       "'  user all  smiles when  media is                pressconference in  antalya  turkey   sunday  throwback  love                 '"
      ]
     },
     "execution_count": 42,
     "metadata": {},
     "output_type": "execute_result"
    }
   ],
   "source": [
    "replacement(df['tweet'][26])"
   ]
  },
  {
   "cell_type": "code",
   "execution_count": 43,
   "metadata": {},
   "outputs": [
    {
     "data": {
      "application/vnd.jupyter.widget-view+json": {
       "model_id": "c07bee10f68343a5a1bf79923529c11d",
       "version_major": 2,
       "version_minor": 0
      },
      "text/plain": [
       "0it [00:00, ?it/s]"
      ]
     },
     "metadata": {},
     "output_type": "display_data"
    },
    {
     "name": "stdout",
     "output_type": "stream",
     "text": [
      "CPU times: user 6.34 s, sys: 1.8 s, total: 8.15 s\n",
      "Wall time: 9.93 s\n"
     ]
    }
   ],
   "source": [
    "%%time\n",
    "\n",
    "with Pool(3) as p:\n",
    "    tweet = list(tqdm(p.imap(replacement, df['clear_tweet'])))"
   ]
  },
  {
   "cell_type": "code",
   "execution_count": 44,
   "metadata": {},
   "outputs": [
    {
     "data": {
      "text/html": [
       "<div>\n",
       "<style scoped>\n",
       "    .dataframe tbody tr th:only-of-type {\n",
       "        vertical-align: middle;\n",
       "    }\n",
       "\n",
       "    .dataframe tbody tr th {\n",
       "        vertical-align: top;\n",
       "    }\n",
       "\n",
       "    .dataframe thead th {\n",
       "        text-align: right;\n",
       "    }\n",
       "</style>\n",
       "<table border=\"1\" class=\"dataframe\">\n",
       "  <thead>\n",
       "    <tr style=\"text-align: right;\">\n",
       "      <th></th>\n",
       "      <th>id</th>\n",
       "      <th>label</th>\n",
       "      <th>tweet</th>\n",
       "      <th>clear_tweet</th>\n",
       "    </tr>\n",
       "  </thead>\n",
       "  <tbody>\n",
       "    <tr>\n",
       "      <th>43013</th>\n",
       "      <td>43014</td>\n",
       "      <td>NaN</td>\n",
       "      <td>thehistorypic: muhammad ali showing off his w...</td>\n",
       "      <td>thehistorypic  muhammad ali showing off his we...</td>\n",
       "    </tr>\n",
       "    <tr>\n",
       "      <th>16970</th>\n",
       "      <td>16971</td>\n",
       "      <td>0.0</td>\n",
       "      <td>mondaymorning  #understanding#sharelove#peace ...</td>\n",
       "      <td>mondaymorning  understanding sharelove peace</td>\n",
       "    </tr>\n",
       "    <tr>\n",
       "      <th>47999</th>\n",
       "      <td>48000</td>\n",
       "      <td>NaN</td>\n",
       "      <td>@user most of us have asked their parents if ...</td>\n",
       "      <td>most of us have asked their parents if they re...</td>\n",
       "    </tr>\n",
       "    <tr>\n",
       "      <th>45076</th>\n",
       "      <td>45077</td>\n",
       "      <td>NaN</td>\n",
       "      <td>my life #blessedð #lovemiamið #lovemylif...</td>\n",
       "      <td>my life  blessed      lovemiami      lovemylif...</td>\n",
       "    </tr>\n",
       "    <tr>\n",
       "      <th>32514</th>\n",
       "      <td>32515</td>\n",
       "      <td>NaN</td>\n",
       "      <td>@user &amp;lt;3 listen to my most beautiful best f...</td>\n",
       "      <td>lt 3 listen to my most beautiful best friend ...</td>\n",
       "    </tr>\n",
       "  </tbody>\n",
       "</table>\n",
       "</div>"
      ],
      "text/plain": [
       "          id  label                                              tweet  \\\n",
       "43013  43014    NaN   thehistorypic: muhammad ali showing off his w...   \n",
       "16970  16971    0.0  mondaymorning  #understanding#sharelove#peace ...   \n",
       "47999  48000    NaN   @user most of us have asked their parents if ...   \n",
       "45076  45077    NaN  my life #blessedð #lovemiamið #lovemylif...   \n",
       "32514  32515    NaN  @user &lt;3 listen to my most beautiful best f...   \n",
       "\n",
       "                                             clear_tweet  \n",
       "43013  thehistorypic  muhammad ali showing off his we...  \n",
       "16970       mondaymorning  understanding sharelove peace  \n",
       "47999  most of us have asked their parents if they re...  \n",
       "45076  my life  blessed      lovemiami      lovemylif...  \n",
       "32514   lt 3 listen to my most beautiful best friend ...  "
      ]
     },
     "execution_count": 44,
     "metadata": {},
     "output_type": "execute_result"
    }
   ],
   "source": [
    "df['clear_tweet'] = tweet\n",
    "df.sample(5)"
   ]
  },
  {
   "cell_type": "markdown",
   "metadata": {},
   "source": [
    "# 8. Заменим числа на пробелы, используя re.sub() и паттерн r'[^a-zA-Z]'"
   ]
  },
  {
   "cell_type": "code",
   "execution_count": 45,
   "metadata": {},
   "outputs": [],
   "source": [
    "def replacement(text, regex = re.compile(r'[^a-zA-Z]')):\n",
    "    try:\n",
    "        return re.sub(regex, \" \", text)\n",
    "    except:\n",
    "        return \" \""
   ]
  },
  {
   "cell_type": "code",
   "execution_count": 46,
   "metadata": {},
   "outputs": [
    {
     "data": {
      "text/plain": [
       "'[2/2] huge fan fare and big talking before they leave. chaos and pay disputes when they get there. #allshowandnogo  '"
      ]
     },
     "execution_count": 46,
     "metadata": {},
     "output_type": "execute_result"
    }
   ],
   "source": [
    "df['tweet'][5]"
   ]
  },
  {
   "cell_type": "code",
   "execution_count": 47,
   "metadata": {},
   "outputs": [
    {
     "data": {
      "text/plain": [
       "'      huge fan fare and big talking before they leave  chaos and pay disputes when they get there   allshowandnogo  '"
      ]
     },
     "execution_count": 47,
     "metadata": {},
     "output_type": "execute_result"
    }
   ],
   "source": [
    "re.sub(re.compile(r'[^a-zA-Z]'), \" \", df['tweet'][5])"
   ]
  },
  {
   "cell_type": "code",
   "execution_count": 48,
   "metadata": {},
   "outputs": [
    {
     "data": {
      "text/plain": [
       "'      huge fan fare and big talking before they leave  chaos and pay disputes when they get there   allshowandnogo  '"
      ]
     },
     "execution_count": 48,
     "metadata": {},
     "output_type": "execute_result"
    }
   ],
   "source": [
    "replacement(df['tweet'][5])"
   ]
  },
  {
   "cell_type": "code",
   "execution_count": 49,
   "metadata": {},
   "outputs": [
    {
     "data": {
      "application/vnd.jupyter.widget-view+json": {
       "model_id": "60ce4714e7444e7b8627a74b733e7888",
       "version_major": 2,
       "version_minor": 0
      },
      "text/plain": [
       "0it [00:00, ?it/s]"
      ]
     },
     "metadata": {},
     "output_type": "display_data"
    },
    {
     "name": "stdout",
     "output_type": "stream",
     "text": [
      "CPU times: user 6.29 s, sys: 1.03 s, total: 7.33 s\n",
      "Wall time: 11.9 s\n"
     ]
    }
   ],
   "source": [
    "%%time\n",
    "\n",
    "with Pool(3) as p:\n",
    "    tweet = list(tqdm(p.imap(replacement, df['clear_tweet'])))"
   ]
  },
  {
   "cell_type": "code",
   "execution_count": 50,
   "metadata": {},
   "outputs": [
    {
     "data": {
      "text/html": [
       "<div>\n",
       "<style scoped>\n",
       "    .dataframe tbody tr th:only-of-type {\n",
       "        vertical-align: middle;\n",
       "    }\n",
       "\n",
       "    .dataframe tbody tr th {\n",
       "        vertical-align: top;\n",
       "    }\n",
       "\n",
       "    .dataframe thead th {\n",
       "        text-align: right;\n",
       "    }\n",
       "</style>\n",
       "<table border=\"1\" class=\"dataframe\">\n",
       "  <thead>\n",
       "    <tr style=\"text-align: right;\">\n",
       "      <th></th>\n",
       "      <th>id</th>\n",
       "      <th>label</th>\n",
       "      <th>tweet</th>\n",
       "      <th>clear_tweet</th>\n",
       "    </tr>\n",
       "  </thead>\n",
       "  <tbody>\n",
       "    <tr>\n",
       "      <th>18020</th>\n",
       "      <td>18021</td>\n",
       "      <td>0.0</td>\n",
       "      <td>bbc 1 though.</td>\n",
       "      <td>bbc   though</td>\n",
       "    </tr>\n",
       "    <tr>\n",
       "      <th>32667</th>\n",
       "      <td>32668</td>\n",
       "      <td>NaN</td>\n",
       "      <td>1 of my biggest dream came true today.details ...</td>\n",
       "      <td>of my biggest dream came true today details ...</td>\n",
       "    </tr>\n",
       "    <tr>\n",
       "      <th>47843</th>\n",
       "      <td>47844</td>\n",
       "      <td>NaN</td>\n",
       "      <td>@user ð . there is no situation where insul...</td>\n",
       "      <td>there is no situation where insulting v...</td>\n",
       "    </tr>\n",
       "    <tr>\n",
       "      <th>12936</th>\n",
       "      <td>12937</td>\n",
       "      <td>0.0</td>\n",
       "      <td>stupid phone so i spend two wks writin my firs...</td>\n",
       "      <td>stupid phone so i spend two wks writin my firs...</td>\n",
       "    </tr>\n",
       "    <tr>\n",
       "      <th>29734</th>\n",
       "      <td>29735</td>\n",
       "      <td>0.0</td>\n",
       "      <td>pa1 #dance#é é#next#club#mas#rin#karen#yest...</td>\n",
       "      <td>pa   dance        next club mas rin karen yest...</td>\n",
       "    </tr>\n",
       "  </tbody>\n",
       "</table>\n",
       "</div>"
      ],
      "text/plain": [
       "          id  label                                              tweet  \\\n",
       "18020  18021    0.0                                    bbc 1 though.     \n",
       "32667  32668    NaN  1 of my biggest dream came true today.details ...   \n",
       "47843  47844    NaN  @user ð . there is no situation where insul...   \n",
       "12936  12937    0.0  stupid phone so i spend two wks writin my firs...   \n",
       "29734  29735    0.0  pa1 #dance#é é#next#club#mas#rin#karen#yest...   \n",
       "\n",
       "                                             clear_tweet  \n",
       "18020                                      bbc   though   \n",
       "32667    of my biggest dream came true today details ...  \n",
       "47843         there is no situation where insulting v...  \n",
       "12936  stupid phone so i spend two wks writin my firs...  \n",
       "29734  pa   dance        next club mas rin karen yest...  "
      ]
     },
     "execution_count": 50,
     "metadata": {},
     "output_type": "execute_result"
    }
   ],
   "source": [
    "df['clear_tweet'] = tweet\n",
    "df.sample(5)"
   ]
  },
  {
   "cell_type": "markdown",
   "metadata": {},
   "source": [
    "# 9. Удалим из текста слова длиной в 1 символ, используя ' '.join([w for w in x.split() if len(w)>1])"
   ]
  },
  {
   "cell_type": "code",
   "execution_count": 51,
   "metadata": {},
   "outputs": [],
   "source": [
    "def delete_1_char(text):\n",
    "    try:\n",
    "        return ' '.join([w for w in text.split() if len(w)>1])\n",
    "    except:\n",
    "        return \" \""
   ]
  },
  {
   "cell_type": "code",
   "execution_count": 52,
   "metadata": {},
   "outputs": [
    {
     "data": {
      "application/vnd.jupyter.widget-view+json": {
       "model_id": "a197f761298943758647b223e2cf6fff",
       "version_major": 2,
       "version_minor": 0
      },
      "text/plain": [
       "0it [00:00, ?it/s]"
      ]
     },
     "metadata": {},
     "output_type": "display_data"
    },
    {
     "name": "stdout",
     "output_type": "stream",
     "text": [
      "CPU times: user 11.8 s, sys: 5.13 s, total: 17 s\n",
      "Wall time: 16 s\n"
     ]
    }
   ],
   "source": [
    "%%time\n",
    "\n",
    "with Pool(3) as p:\n",
    "    tweet = list(tqdm(p.imap(delete_1_char, df['clear_tweet'])))"
   ]
  },
  {
   "cell_type": "code",
   "execution_count": 53,
   "metadata": {},
   "outputs": [],
   "source": [
    "df['clear_tweet'] = tweet"
   ]
  },
  {
   "cell_type": "code",
   "execution_count": 54,
   "metadata": {},
   "outputs": [
    {
     "data": {
      "text/html": [
       "<div>\n",
       "<style scoped>\n",
       "    .dataframe tbody tr th:only-of-type {\n",
       "        vertical-align: middle;\n",
       "    }\n",
       "\n",
       "    .dataframe tbody tr th {\n",
       "        vertical-align: top;\n",
       "    }\n",
       "\n",
       "    .dataframe thead th {\n",
       "        text-align: right;\n",
       "    }\n",
       "</style>\n",
       "<table border=\"1\" class=\"dataframe\">\n",
       "  <thead>\n",
       "    <tr style=\"text-align: right;\">\n",
       "      <th></th>\n",
       "      <th>id</th>\n",
       "      <th>label</th>\n",
       "      <th>tweet</th>\n",
       "      <th>clear_tweet</th>\n",
       "    </tr>\n",
       "  </thead>\n",
       "  <tbody>\n",
       "    <tr>\n",
       "      <th>24941</th>\n",
       "      <td>24942</td>\n",
       "      <td>0.0</td>\n",
       "      <td>looks like i gave sanders too much credit last...</td>\n",
       "      <td>looks like gave sanders too much credit last n...</td>\n",
       "    </tr>\n",
       "    <tr>\n",
       "      <th>5349</th>\n",
       "      <td>5350</td>\n",
       "      <td>0.0</td>\n",
       "      <td>when i say niggas ain't shit smh they aint shi...</td>\n",
       "      <td>when say niggas am not are not shit smh they a...</td>\n",
       "    </tr>\n",
       "    <tr>\n",
       "      <th>41348</th>\n",
       "      <td>41349</td>\n",
       "      <td>NaN</td>\n",
       "      <td>gave lucy away to her new home, at least i get...</td>\n",
       "      <td>gave lucy away to her new home at least get to...</td>\n",
       "    </tr>\n",
       "    <tr>\n",
       "      <th>14033</th>\n",
       "      <td>14034</td>\n",
       "      <td>0.0</td>\n",
       "      <td>tell dad you love him, @user -style #shoplocal...</td>\n",
       "      <td>tell dad you love him style shoplocal fathersd...</td>\n",
       "    </tr>\n",
       "    <tr>\n",
       "      <th>32378</th>\n",
       "      <td>32379</td>\n",
       "      <td>NaN</td>\n",
       "      <td>i got nothing. no words. just weeping. #orland...</td>\n",
       "      <td>got nothing no words just weeping orlando heab...</td>\n",
       "    </tr>\n",
       "  </tbody>\n",
       "</table>\n",
       "</div>"
      ],
      "text/plain": [
       "          id  label                                              tweet  \\\n",
       "24941  24942    0.0  looks like i gave sanders too much credit last...   \n",
       "5349    5350    0.0  when i say niggas ain't shit smh they aint shi...   \n",
       "41348  41349    NaN  gave lucy away to her new home, at least i get...   \n",
       "14033  14034    0.0  tell dad you love him, @user -style #shoplocal...   \n",
       "32378  32379    NaN  i got nothing. no words. just weeping. #orland...   \n",
       "\n",
       "                                             clear_tweet  \n",
       "24941  looks like gave sanders too much credit last n...  \n",
       "5349   when say niggas am not are not shit smh they a...  \n",
       "41348  gave lucy away to her new home at least get to...  \n",
       "14033  tell dad you love him style shoplocal fathersd...  \n",
       "32378  got nothing no words just weeping orlando heab...  "
      ]
     },
     "execution_count": 54,
     "metadata": {},
     "output_type": "execute_result"
    }
   ],
   "source": [
    "df.sample(5)"
   ]
  },
  {
   "cell_type": "markdown",
   "metadata": {},
   "source": [
    "# 10. Поделим твиты на токены с помощью nltk.tokenize.word_tokenize, создав новый столбец 'tweet_token'."
   ]
  },
  {
   "cell_type": "code",
   "execution_count": 55,
   "metadata": {},
   "outputs": [],
   "source": [
    "from nltk import tokenize as tknz"
   ]
  },
  {
   "cell_type": "code",
   "execution_count": 56,
   "metadata": {},
   "outputs": [],
   "source": [
    "def make_tokens(text):\n",
    "    return tknz.word_tokenize(text)"
   ]
  },
  {
   "cell_type": "code",
   "execution_count": 57,
   "metadata": {},
   "outputs": [
    {
     "data": {
      "application/vnd.jupyter.widget-view+json": {
       "model_id": "ca66265c9a574776b224576791b805e9",
       "version_major": 2,
       "version_minor": 0
      },
      "text/plain": [
       "0it [00:00, ?it/s]"
      ]
     },
     "metadata": {},
     "output_type": "display_data"
    },
    {
     "name": "stdout",
     "output_type": "stream",
     "text": [
      "CPU times: user 8.79 s, sys: 2.61 s, total: 11.4 s\n",
      "Wall time: 18.3 s\n"
     ]
    }
   ],
   "source": [
    "%%time\n",
    "\n",
    "with Pool(3) as p:\n",
    "    tweet = list(tqdm(p.imap(make_tokens, df['clear_tweet'])))"
   ]
  },
  {
   "cell_type": "code",
   "execution_count": 58,
   "metadata": {},
   "outputs": [],
   "source": [
    "df['tweet_token'] = tweet"
   ]
  },
  {
   "cell_type": "code",
   "execution_count": 59,
   "metadata": {},
   "outputs": [
    {
     "data": {
      "text/html": [
       "<div>\n",
       "<style scoped>\n",
       "    .dataframe tbody tr th:only-of-type {\n",
       "        vertical-align: middle;\n",
       "    }\n",
       "\n",
       "    .dataframe tbody tr th {\n",
       "        vertical-align: top;\n",
       "    }\n",
       "\n",
       "    .dataframe thead th {\n",
       "        text-align: right;\n",
       "    }\n",
       "</style>\n",
       "<table border=\"1\" class=\"dataframe\">\n",
       "  <thead>\n",
       "    <tr style=\"text-align: right;\">\n",
       "      <th></th>\n",
       "      <th>id</th>\n",
       "      <th>label</th>\n",
       "      <th>tweet</th>\n",
       "      <th>clear_tweet</th>\n",
       "      <th>tweet_token</th>\n",
       "    </tr>\n",
       "  </thead>\n",
       "  <tbody>\n",
       "    <tr>\n",
       "      <th>31849</th>\n",
       "      <td>31850</td>\n",
       "      <td>0.0</td>\n",
       "      <td>loving the sun today! #summer #sunny #garden #...</td>\n",
       "      <td>loving the sun today summer sunny garden sunba...</td>\n",
       "      <td>[loving, the, sun, today, summer, sunny, garde...</td>\n",
       "    </tr>\n",
       "    <tr>\n",
       "      <th>25367</th>\n",
       "      <td>25368</td>\n",
       "      <td>0.0</td>\n",
       "      <td>easy apple ta recipe  #appleta #applepie #food...</td>\n",
       "      <td>easy apple ta recipe appleta applepie food yum...</td>\n",
       "      <td>[easy, apple, ta, recipe, appleta, applepie, f...</td>\n",
       "    </tr>\n",
       "    <tr>\n",
       "      <th>10833</th>\n",
       "      <td>10834</td>\n",
       "      <td>1.0</td>\n",
       "      <td>.@user .@user #maga .@user  silence is approva...</td>\n",
       "      <td>maga silence is approval we always knew what p...</td>\n",
       "      <td>[maga, silence, is, approval, we, always, knew...</td>\n",
       "    </tr>\n",
       "    <tr>\n",
       "      <th>13801</th>\n",
       "      <td>13802</td>\n",
       "      <td>0.0</td>\n",
       "      <td>@user bruh people really be knowing better an...</td>\n",
       "      <td>bruh people really be knowing better and still...</td>\n",
       "      <td>[bruh, people, really, be, knowing, better, an...</td>\n",
       "    </tr>\n",
       "    <tr>\n",
       "      <th>32560</th>\n",
       "      <td>32561</td>\n",
       "      <td>NaN</td>\n",
       "      <td>enjoying a sunday relax âï¸âï¸ð #mall...</td>\n",
       "      <td>enjoying sunday relax mallife coffee sundayfun...</td>\n",
       "      <td>[enjoying, sunday, relax, mallife, coffee, sun...</td>\n",
       "    </tr>\n",
       "  </tbody>\n",
       "</table>\n",
       "</div>"
      ],
      "text/plain": [
       "          id  label                                              tweet  \\\n",
       "31849  31850    0.0  loving the sun today! #summer #sunny #garden #...   \n",
       "25367  25368    0.0  easy apple ta recipe  #appleta #applepie #food...   \n",
       "10833  10834    1.0  .@user .@user #maga .@user  silence is approva...   \n",
       "13801  13802    0.0   @user bruh people really be knowing better an...   \n",
       "32560  32561    NaN  enjoying a sunday relax âï¸âï¸ð #mall...   \n",
       "\n",
       "                                             clear_tweet  \\\n",
       "31849  loving the sun today summer sunny garden sunba...   \n",
       "25367  easy apple ta recipe appleta applepie food yum...   \n",
       "10833  maga silence is approval we always knew what p...   \n",
       "13801  bruh people really be knowing better and still...   \n",
       "32560  enjoying sunday relax mallife coffee sundayfun...   \n",
       "\n",
       "                                             tweet_token  \n",
       "31849  [loving, the, sun, today, summer, sunny, garde...  \n",
       "25367  [easy, apple, ta, recipe, appleta, applepie, f...  \n",
       "10833  [maga, silence, is, approval, we, always, knew...  \n",
       "13801  [bruh, people, really, be, knowing, better, an...  \n",
       "32560  [enjoying, sunday, relax, mallife, coffee, sun...  "
      ]
     },
     "execution_count": 59,
     "metadata": {},
     "output_type": "execute_result"
    }
   ],
   "source": [
    "df.sample(5)"
   ]
  },
  {
   "cell_type": "markdown",
   "metadata": {},
   "source": [
    "# 11. Удалим стоп-слова из токенов, используя nltk.corpus.stopwords. Создадим столбец 'tweet_token_filtered' без стоп-слов."
   ]
  },
  {
   "cell_type": "code",
   "execution_count": 60,
   "metadata": {},
   "outputs": [],
   "source": [
    "from nltk.corpus import stopwords"
   ]
  },
  {
   "cell_type": "code",
   "execution_count": 61,
   "metadata": {},
   "outputs": [],
   "source": [
    "stop_words = set(stopwords.words(\"english\"))"
   ]
  },
  {
   "cell_type": "code",
   "execution_count": 62,
   "metadata": {},
   "outputs": [],
   "source": [
    "def remove_stopwords(tokens, stop_words = stop_words):\n",
    "    return [t for t in tokens if t not in stop_words]"
   ]
  },
  {
   "cell_type": "code",
   "execution_count": 63,
   "metadata": {},
   "outputs": [
    {
     "data": {
      "application/vnd.jupyter.widget-view+json": {
       "model_id": "fd0bd1fd2adc4a169de48f6b948f4118",
       "version_major": 2,
       "version_minor": 0
      },
      "text/plain": [
       "0it [00:00, ?it/s]"
      ]
     },
     "metadata": {},
     "output_type": "display_data"
    },
    {
     "name": "stdout",
     "output_type": "stream",
     "text": [
      "CPU times: user 20.5 s, sys: 10.1 s, total: 30.7 s\n",
      "Wall time: 26 s\n"
     ]
    }
   ],
   "source": [
    "%%time\n",
    "\n",
    "with Pool(3) as p:\n",
    "    tweet = list(tqdm(p.imap(remove_stopwords, df['tweet_token'])))"
   ]
  },
  {
   "cell_type": "code",
   "execution_count": 64,
   "metadata": {},
   "outputs": [],
   "source": [
    "df['tweet_token_filtered'] = tweet"
   ]
  },
  {
   "cell_type": "code",
   "execution_count": 65,
   "metadata": {},
   "outputs": [
    {
     "data": {
      "text/html": [
       "<div>\n",
       "<style scoped>\n",
       "    .dataframe tbody tr th:only-of-type {\n",
       "        vertical-align: middle;\n",
       "    }\n",
       "\n",
       "    .dataframe tbody tr th {\n",
       "        vertical-align: top;\n",
       "    }\n",
       "\n",
       "    .dataframe thead th {\n",
       "        text-align: right;\n",
       "    }\n",
       "</style>\n",
       "<table border=\"1\" class=\"dataframe\">\n",
       "  <thead>\n",
       "    <tr style=\"text-align: right;\">\n",
       "      <th></th>\n",
       "      <th>id</th>\n",
       "      <th>label</th>\n",
       "      <th>tweet</th>\n",
       "      <th>clear_tweet</th>\n",
       "      <th>tweet_token</th>\n",
       "      <th>tweet_token_filtered</th>\n",
       "    </tr>\n",
       "  </thead>\n",
       "  <tbody>\n",
       "    <tr>\n",
       "      <th>43165</th>\n",
       "      <td>43166</td>\n",
       "      <td>NaN</td>\n",
       "      <td>hey, please check out my first composition, t...</td>\n",
       "      <td>hey please check out my first composition tnx ...</td>\n",
       "      <td>[hey, please, check, out, my, first, compositi...</td>\n",
       "      <td>[hey, please, check, first, composition, tnx, ...</td>\n",
       "    </tr>\n",
       "    <tr>\n",
       "      <th>11008</th>\n",
       "      <td>11009</td>\n",
       "      <td>0.0</td>\n",
       "      <td>i am thankful for food.#thankful #positive</td>\n",
       "      <td>am thankful for food thankful positive</td>\n",
       "      <td>[am, thankful, for, food, thankful, positive]</td>\n",
       "      <td>[thankful, food, thankful, positive]</td>\n",
       "    </tr>\n",
       "    <tr>\n",
       "      <th>2019</th>\n",
       "      <td>2020</td>\n",
       "      <td>0.0</td>\n",
       "      <td>always be   #4daystogokianandjc</td>\n",
       "      <td>always be daystogokianandjc</td>\n",
       "      <td>[always, be, daystogokianandjc]</td>\n",
       "      <td>[always, daystogokianandjc]</td>\n",
       "    </tr>\n",
       "    <tr>\n",
       "      <th>24123</th>\n",
       "      <td>24124</td>\n",
       "      <td>1.0</td>\n",
       "      <td>@user your comments are reflections of ignoran...</td>\n",
       "      <td>your comments are reflections of ignorance and...</td>\n",
       "      <td>[your, comments, are, reflections, of, ignoran...</td>\n",
       "      <td>[comments, reflections, ignorance, endofcivili...</td>\n",
       "    </tr>\n",
       "    <tr>\n",
       "      <th>37295</th>\n",
       "      <td>37296</td>\n",
       "      <td>NaN</td>\n",
       "      <td>ppl are stealing this tweet just for s</td>\n",
       "      <td>people are stealing this tweet just for</td>\n",
       "      <td>[people, are, stealing, this, tweet, just, for]</td>\n",
       "      <td>[people, stealing, tweet]</td>\n",
       "    </tr>\n",
       "  </tbody>\n",
       "</table>\n",
       "</div>"
      ],
      "text/plain": [
       "          id  label                                              tweet  \\\n",
       "43165  43166    NaN   hey, please check out my first composition, t...   \n",
       "11008  11009    0.0      i am thankful for food.#thankful #positive      \n",
       "2019    2020    0.0                   always be   #4daystogokianandjc    \n",
       "24123  24124    1.0  @user your comments are reflections of ignoran...   \n",
       "37295  37296    NaN         ppl are stealing this tweet just for s       \n",
       "\n",
       "                                             clear_tweet  \\\n",
       "43165  hey please check out my first composition tnx ...   \n",
       "11008             am thankful for food thankful positive   \n",
       "2019                         always be daystogokianandjc   \n",
       "24123  your comments are reflections of ignorance and...   \n",
       "37295            people are stealing this tweet just for   \n",
       "\n",
       "                                             tweet_token  \\\n",
       "43165  [hey, please, check, out, my, first, compositi...   \n",
       "11008      [am, thankful, for, food, thankful, positive]   \n",
       "2019                     [always, be, daystogokianandjc]   \n",
       "24123  [your, comments, are, reflections, of, ignoran...   \n",
       "37295    [people, are, stealing, this, tweet, just, for]   \n",
       "\n",
       "                                    tweet_token_filtered  \n",
       "43165  [hey, please, check, first, composition, tnx, ...  \n",
       "11008               [thankful, food, thankful, positive]  \n",
       "2019                         [always, daystogokianandjc]  \n",
       "24123  [comments, reflections, ignorance, endofcivili...  \n",
       "37295                          [people, stealing, tweet]  "
      ]
     },
     "execution_count": 65,
     "metadata": {},
     "output_type": "execute_result"
    }
   ],
   "source": [
    "df.sample(5)"
   ]
  },
  {
   "cell_type": "markdown",
   "metadata": {},
   "source": [
    "# 12. Применим стемминг к токенам с помощью nltk.stem.PorterStemmer. Создадим столбец 'tweet_stemmed' после применения стемминга."
   ]
  },
  {
   "cell_type": "code",
   "execution_count": 66,
   "metadata": {},
   "outputs": [],
   "source": [
    "from nltk.stem import PorterStemmer, WordNetLemmatizer\n",
    "from nltk.corpus import wordnet"
   ]
  },
  {
   "cell_type": "code",
   "execution_count": 67,
   "metadata": {},
   "outputs": [],
   "source": [
    "stemmer = PorterStemmer()\n",
    "\n",
    "def porterstem(tokens, stemmer = stemmer):\n",
    "    return [stemmer.stem(t) for t in tokens]"
   ]
  },
  {
   "cell_type": "code",
   "execution_count": 68,
   "metadata": {},
   "outputs": [
    {
     "data": {
      "application/vnd.jupyter.widget-view+json": {
       "model_id": "0841f33c0745432287964260fd7e79d9",
       "version_major": 2,
       "version_minor": 0
      },
      "text/plain": [
       "0it [00:00, ?it/s]"
      ]
     },
     "metadata": {},
     "output_type": "display_data"
    },
    {
     "name": "stdout",
     "output_type": "stream",
     "text": [
      "CPU times: user 10.4 s, sys: 3.23 s, total: 13.6 s\n",
      "Wall time: 22.1 s\n"
     ]
    }
   ],
   "source": [
    "%%time\n",
    "\n",
    "with Pool(3) as p:\n",
    "    tweet = list(tqdm(p.imap(porterstem, df['tweet_token_filtered'])))"
   ]
  },
  {
   "cell_type": "code",
   "execution_count": 69,
   "metadata": {},
   "outputs": [],
   "source": [
    "df['tweet_stemmed'] = tweet"
   ]
  },
  {
   "cell_type": "code",
   "execution_count": 70,
   "metadata": {},
   "outputs": [
    {
     "data": {
      "text/html": [
       "<div>\n",
       "<style scoped>\n",
       "    .dataframe tbody tr th:only-of-type {\n",
       "        vertical-align: middle;\n",
       "    }\n",
       "\n",
       "    .dataframe tbody tr th {\n",
       "        vertical-align: top;\n",
       "    }\n",
       "\n",
       "    .dataframe thead th {\n",
       "        text-align: right;\n",
       "    }\n",
       "</style>\n",
       "<table border=\"1\" class=\"dataframe\">\n",
       "  <thead>\n",
       "    <tr style=\"text-align: right;\">\n",
       "      <th></th>\n",
       "      <th>id</th>\n",
       "      <th>label</th>\n",
       "      <th>tweet</th>\n",
       "      <th>clear_tweet</th>\n",
       "      <th>tweet_token</th>\n",
       "      <th>tweet_token_filtered</th>\n",
       "      <th>tweet_stemmed</th>\n",
       "    </tr>\n",
       "  </thead>\n",
       "  <tbody>\n",
       "    <tr>\n",
       "      <th>5603</th>\n",
       "      <td>5604</td>\n",
       "      <td>0.0</td>\n",
       "      <td>@user did you see it gian @user ?? â£ðâ£</td>\n",
       "      <td>did you see it gian</td>\n",
       "      <td>[did, you, see, it, gian]</td>\n",
       "      <td>[see, gian]</td>\n",
       "      <td>[see, gian]</td>\n",
       "    </tr>\n",
       "    <tr>\n",
       "      <th>13998</th>\n",
       "      <td>13999</td>\n",
       "      <td>0.0</td>\n",
       "      <td>#rip my headphonesð­</td>\n",
       "      <td>rip my headphones</td>\n",
       "      <td>[rip, my, headphones]</td>\n",
       "      <td>[rip, headphones]</td>\n",
       "      <td>[rip, headphon]</td>\n",
       "    </tr>\n",
       "    <tr>\n",
       "      <th>17206</th>\n",
       "      <td>17207</td>\n",
       "      <td>0.0</td>\n",
       "      <td>when life gives you lemons, make lemon meringu...</td>\n",
       "      <td>when life gives you lemons make lemon meringue...</td>\n",
       "      <td>[when, life, gives, you, lemons, make, lemon, ...</td>\n",
       "      <td>[life, gives, lemons, make, lemon, meringue, p...</td>\n",
       "      <td>[life, give, lemon, make, lemon, meringu, pie,...</td>\n",
       "    </tr>\n",
       "    <tr>\n",
       "      <th>12085</th>\n",
       "      <td>12086</td>\n",
       "      <td>0.0</td>\n",
       "      <td>i am alone   #relatable #tumblr #emo #indie #l...</td>\n",
       "      <td>am alone relatable tumblr emo indie like likef...</td>\n",
       "      <td>[am, alone, relatable, tumblr, emo, indie, lik...</td>\n",
       "      <td>[alone, relatable, tumblr, emo, indie, like, l...</td>\n",
       "      <td>[alon, relat, tumblr, emo, indi, like, likefor...</td>\n",
       "    </tr>\n",
       "    <tr>\n",
       "      <th>27778</th>\n",
       "      <td>27779</td>\n",
       "      <td>0.0</td>\n",
       "      <td>lovely day â¨â¤ï¸ #friends #love   #goodmom...</td>\n",
       "      <td>lovely day friends love goodmoment nantes city...</td>\n",
       "      <td>[lovely, day, friends, love, goodmoment, nante...</td>\n",
       "      <td>[lovely, day, friends, love, goodmoment, nante...</td>\n",
       "      <td>[love, day, friend, love, goodmoment, nant, ci...</td>\n",
       "    </tr>\n",
       "  </tbody>\n",
       "</table>\n",
       "</div>"
      ],
      "text/plain": [
       "          id  label                                              tweet  \\\n",
       "5603    5604    0.0     @user did you see it gian @user ?? â£ðâ£    \n",
       "13998  13999    0.0                           #rip my headphonesð­     \n",
       "17206  17207    0.0  when life gives you lemons, make lemon meringu...   \n",
       "12085  12086    0.0  i am alone   #relatable #tumblr #emo #indie #l...   \n",
       "27778  27779    0.0  lovely day â¨â¤ï¸ #friends #love   #goodmom...   \n",
       "\n",
       "                                             clear_tweet  \\\n",
       "5603                                 did you see it gian   \n",
       "13998                                  rip my headphones   \n",
       "17206  when life gives you lemons make lemon meringue...   \n",
       "12085  am alone relatable tumblr emo indie like likef...   \n",
       "27778  lovely day friends love goodmoment nantes city...   \n",
       "\n",
       "                                             tweet_token  \\\n",
       "5603                           [did, you, see, it, gian]   \n",
       "13998                              [rip, my, headphones]   \n",
       "17206  [when, life, gives, you, lemons, make, lemon, ...   \n",
       "12085  [am, alone, relatable, tumblr, emo, indie, lik...   \n",
       "27778  [lovely, day, friends, love, goodmoment, nante...   \n",
       "\n",
       "                                    tweet_token_filtered  \\\n",
       "5603                                         [see, gian]   \n",
       "13998                                  [rip, headphones]   \n",
       "17206  [life, gives, lemons, make, lemon, meringue, p...   \n",
       "12085  [alone, relatable, tumblr, emo, indie, like, l...   \n",
       "27778  [lovely, day, friends, love, goodmoment, nante...   \n",
       "\n",
       "                                           tweet_stemmed  \n",
       "5603                                         [see, gian]  \n",
       "13998                                    [rip, headphon]  \n",
       "17206  [life, give, lemon, make, lemon, meringu, pie,...  \n",
       "12085  [alon, relat, tumblr, emo, indi, like, likefor...  \n",
       "27778  [love, day, friend, love, goodmoment, nant, ci...  "
      ]
     },
     "execution_count": 70,
     "metadata": {},
     "output_type": "execute_result"
    }
   ],
   "source": [
    "df.sample(5)"
   ]
  },
  {
   "cell_type": "markdown",
   "metadata": {},
   "source": [
    "# 13. Применим лемматизацию к токенам с помощью nltk.stem.wordnet.WordNetLemmatizer. Создадим столбец 'tweet_lemmatized' после применения лемматизации."
   ]
  },
  {
   "cell_type": "code",
   "execution_count": 77,
   "metadata": {},
   "outputs": [],
   "source": [
    "import nltk"
   ]
  },
  {
   "cell_type": "code",
   "execution_count": 78,
   "metadata": {},
   "outputs": [
    {
     "name": "stderr",
     "output_type": "stream",
     "text": [
      "[nltk_data] Downloading package wordnet to /home/fn/nltk_data...\n",
      "[nltk_data]   Unzipping corpora/wordnet.zip.\n"
     ]
    },
    {
     "data": {
      "text/plain": [
       "True"
      ]
     },
     "execution_count": 78,
     "metadata": {},
     "output_type": "execute_result"
    }
   ],
   "source": [
    "nltk.download('wordnet')"
   ]
  },
  {
   "cell_type": "code",
   "execution_count": 79,
   "metadata": {},
   "outputs": [],
   "source": [
    "lemmatizer = WordNetLemmatizer()"
   ]
  },
  {
   "cell_type": "code",
   "execution_count": 84,
   "metadata": {},
   "outputs": [
    {
     "data": {
      "text/plain": [
       "\"['father', 'dysfunctional', 'selfish', 'drags', 'kids', 'dysfunction', 'run']\""
      ]
     },
     "execution_count": 84,
     "metadata": {},
     "output_type": "execute_result"
    }
   ],
   "source": [
    "lemmatizer.lemmatize(str(df['tweet_token_filtered'][0]), pos = wordnet.VERB)"
   ]
  },
  {
   "cell_type": "code",
   "execution_count": 85,
   "metadata": {},
   "outputs": [
    {
     "data": {
      "text/plain": [
       "\"['father', 'dysfunctional', 'selfish', 'drags', 'kids', 'dysfunction', 'run']\""
      ]
     },
     "execution_count": 85,
     "metadata": {},
     "output_type": "execute_result"
    }
   ],
   "source": [
    "lemmatizer.lemmatize(str(df['tweet_token_filtered'][0]))"
   ]
  },
  {
   "cell_type": "code",
   "execution_count": 86,
   "metadata": {},
   "outputs": [],
   "source": [
    "def wnlemmatizer (tokens, lemmatizer = lemmatizer, pos = wordnet.VERB):\n",
    "    return [lemmatizer.lemmatize(t, pos) for t in tokens]"
   ]
  },
  {
   "cell_type": "code",
   "execution_count": 87,
   "metadata": {},
   "outputs": [
    {
     "data": {
      "application/vnd.jupyter.widget-view+json": {
       "model_id": "3d2fdae31f9448f2b2969c6293d5fb56",
       "version_major": 2,
       "version_minor": 0
      },
      "text/plain": [
       "0it [00:00, ?it/s]"
      ]
     },
     "metadata": {},
     "output_type": "display_data"
    },
    {
     "name": "stdout",
     "output_type": "stream",
     "text": [
      "CPU times: user 6.38 s, sys: 1.58 s, total: 7.96 s\n",
      "Wall time: 11.2 s\n"
     ]
    }
   ],
   "source": [
    "%%time\n",
    "\n",
    "with Pool(3) as p:\n",
    "    tweet = list(tqdm(p.imap(wnlemmatizer, df['tweet_token_filtered'])))"
   ]
  },
  {
   "cell_type": "code",
   "execution_count": 88,
   "metadata": {},
   "outputs": [],
   "source": [
    "df['tweet_lemmatised'] = tweet"
   ]
  },
  {
   "cell_type": "code",
   "execution_count": 89,
   "metadata": {},
   "outputs": [
    {
     "data": {
      "text/html": [
       "<div>\n",
       "<style scoped>\n",
       "    .dataframe tbody tr th:only-of-type {\n",
       "        vertical-align: middle;\n",
       "    }\n",
       "\n",
       "    .dataframe tbody tr th {\n",
       "        vertical-align: top;\n",
       "    }\n",
       "\n",
       "    .dataframe thead th {\n",
       "        text-align: right;\n",
       "    }\n",
       "</style>\n",
       "<table border=\"1\" class=\"dataframe\">\n",
       "  <thead>\n",
       "    <tr style=\"text-align: right;\">\n",
       "      <th></th>\n",
       "      <th>id</th>\n",
       "      <th>label</th>\n",
       "      <th>tweet</th>\n",
       "      <th>clear_tweet</th>\n",
       "      <th>tweet_token</th>\n",
       "      <th>tweet_token_filtered</th>\n",
       "      <th>tweet_stemmed</th>\n",
       "      <th>tweet_lemmatised</th>\n",
       "    </tr>\n",
       "  </thead>\n",
       "  <tbody>\n",
       "    <tr>\n",
       "      <th>14845</th>\n",
       "      <td>14846</td>\n",
       "      <td>0.0</td>\n",
       "      <td>healthy is  . #docto #thoughtoftheday #quote</td>\n",
       "      <td>healthy is docto thoughtoftheday quote</td>\n",
       "      <td>[healthy, is, docto, thoughtoftheday, quote]</td>\n",
       "      <td>[healthy, docto, thoughtoftheday, quote]</td>\n",
       "      <td>[healthi, docto, thoughtoftheday, quot]</td>\n",
       "      <td>[healthy, docto, thoughtoftheday, quote]</td>\n",
       "    </tr>\n",
       "    <tr>\n",
       "      <th>26649</th>\n",
       "      <td>26650</td>\n",
       "      <td>0.0</td>\n",
       "      <td>husbands love god more than your #wives ...wiv...</td>\n",
       "      <td>husbands love god more than your wives wives l...</td>\n",
       "      <td>[husbands, love, god, more, than, your, wives,...</td>\n",
       "      <td>[husbands, love, god, wives, wives, love, god,...</td>\n",
       "      <td>[husband, love, god, wive, wive, love, god, hu...</td>\n",
       "      <td>[husband, love, god, wive, wive, love, god, hu...</td>\n",
       "    </tr>\n",
       "    <tr>\n",
       "      <th>9375</th>\n",
       "      <td>9376</td>\n",
       "      <td>0.0</td>\n",
       "      <td>@user #davidguetta last night in #ibiza | #sp...</td>\n",
       "      <td>davidguetta last night in ibiza spain vacation...</td>\n",
       "      <td>[davidguetta, last, night, in, ibiza, spain, v...</td>\n",
       "      <td>[davidguetta, last, night, ibiza, spain, vacat...</td>\n",
       "      <td>[davidguetta, last, night, ibiza, spain, vacat...</td>\n",
       "      <td>[davidguetta, last, night, ibiza, spain, vacat...</td>\n",
       "    </tr>\n",
       "    <tr>\n",
       "      <th>19684</th>\n",
       "      <td>19685</td>\n",
       "      <td>0.0</td>\n",
       "      <td>@user #wrist #anyway #liquor #royalty #little_...</td>\n",
       "      <td>wrist anyway liquor royalty little more father...</td>\n",
       "      <td>[wrist, anyway, liquor, royalty, little, more,...</td>\n",
       "      <td>[wrist, anyway, liquor, royalty, little, fathe...</td>\n",
       "      <td>[wrist, anyway, liquor, royalti, littl, father...</td>\n",
       "      <td>[wrist, anyway, liquor, royalty, little, fathe...</td>\n",
       "    </tr>\n",
       "    <tr>\n",
       "      <th>3715</th>\n",
       "      <td>3716</td>\n",
       "      <td>0.0</td>\n",
       "      <td>â #australia: employment growth likely cont...</td>\n",
       "      <td>australia employment growth likely continued t...</td>\n",
       "      <td>[australia, employment, growth, likely, contin...</td>\n",
       "      <td>[australia, employment, growth, likely, contin...</td>\n",
       "      <td>[australia, employ, growth, like, continu, may...</td>\n",
       "      <td>[australia, employment, growth, likely, contin...</td>\n",
       "    </tr>\n",
       "  </tbody>\n",
       "</table>\n",
       "</div>"
      ],
      "text/plain": [
       "          id  label                                              tweet  \\\n",
       "14845  14846    0.0      healthy is  . #docto #thoughtoftheday #quote    \n",
       "26649  26650    0.0  husbands love god more than your #wives ...wiv...   \n",
       "9375    9376    0.0   @user #davidguetta last night in #ibiza | #sp...   \n",
       "19684  19685    0.0  @user #wrist #anyway #liquor #royalty #little_...   \n",
       "3715    3716    0.0   â #australia: employment growth likely cont...   \n",
       "\n",
       "                                             clear_tweet  \\\n",
       "14845             healthy is docto thoughtoftheday quote   \n",
       "26649  husbands love god more than your wives wives l...   \n",
       "9375   davidguetta last night in ibiza spain vacation...   \n",
       "19684  wrist anyway liquor royalty little more father...   \n",
       "3715   australia employment growth likely continued t...   \n",
       "\n",
       "                                             tweet_token  \\\n",
       "14845       [healthy, is, docto, thoughtoftheday, quote]   \n",
       "26649  [husbands, love, god, more, than, your, wives,...   \n",
       "9375   [davidguetta, last, night, in, ibiza, spain, v...   \n",
       "19684  [wrist, anyway, liquor, royalty, little, more,...   \n",
       "3715   [australia, employment, growth, likely, contin...   \n",
       "\n",
       "                                    tweet_token_filtered  \\\n",
       "14845           [healthy, docto, thoughtoftheday, quote]   \n",
       "26649  [husbands, love, god, wives, wives, love, god,...   \n",
       "9375   [davidguetta, last, night, ibiza, spain, vacat...   \n",
       "19684  [wrist, anyway, liquor, royalty, little, fathe...   \n",
       "3715   [australia, employment, growth, likely, contin...   \n",
       "\n",
       "                                           tweet_stemmed  \\\n",
       "14845            [healthi, docto, thoughtoftheday, quot]   \n",
       "26649  [husband, love, god, wive, wive, love, god, hu...   \n",
       "9375   [davidguetta, last, night, ibiza, spain, vacat...   \n",
       "19684  [wrist, anyway, liquor, royalti, littl, father...   \n",
       "3715   [australia, employ, growth, like, continu, may...   \n",
       "\n",
       "                                        tweet_lemmatised  \n",
       "14845           [healthy, docto, thoughtoftheday, quote]  \n",
       "26649  [husband, love, god, wive, wive, love, god, hu...  \n",
       "9375   [davidguetta, last, night, ibiza, spain, vacat...  \n",
       "19684  [wrist, anyway, liquor, royalty, little, fathe...  \n",
       "3715   [australia, employment, growth, likely, contin...  "
      ]
     },
     "execution_count": 89,
     "metadata": {},
     "output_type": "execute_result"
    }
   ],
   "source": [
    "df.sample(5)"
   ]
  },
  {
   "cell_type": "markdown",
   "metadata": {},
   "source": [
    "# 14. Сохраним результат предобработки в pickle-файл."
   ]
  },
  {
   "cell_type": "code",
   "execution_count": 90,
   "metadata": {},
   "outputs": [],
   "source": [
    "df.to_pickle(\"./lesson_01_preprocessing.pkl\")"
   ]
  },
  {
   "cell_type": "code",
   "execution_count": null,
   "metadata": {},
   "outputs": [],
   "source": []
  }
 ],
 "metadata": {
  "kernelspec": {
   "display_name": "Python 3",
   "language": "python",
   "name": "python3"
  },
  "language_info": {
   "codemirror_mode": {
    "name": "ipython",
    "version": 3
   },
   "file_extension": ".py",
   "mimetype": "text/x-python",
   "name": "python",
   "nbconvert_exporter": "python",
   "pygments_lexer": "ipython3",
   "version": "3.8.5"
  }
 },
 "nbformat": 4,
 "nbformat_minor": 2
}
