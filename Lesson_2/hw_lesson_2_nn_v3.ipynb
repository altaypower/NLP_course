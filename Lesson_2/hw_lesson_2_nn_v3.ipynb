{
  "cells": [
    {
      "cell_type": "markdown",
      "metadata": {
        "id": "DUotKHRULVPD"
      },
      "source": [
        "# Инструменты для работы с языком "
      ]
    },
    {
      "cell_type": "markdown",
      "metadata": {
        "id": "8ba5Z02VLVPK"
      },
      "source": [
        "## Задача: классификация твитов по тональности\n",
        "\n",
        "У нас есть датасет из твитов, про каждый указано, как он эмоционально окрашен: положительно или отрицательно. Задача: предсказывать эмоциональную окраску.\n",
        "\n",
        "Скачиваем куски датасета ([источник](http://study.mokoron.com/)): [положительные](https://www.dropbox.com/s/fnpq3z4bcnoktiv/positive.csv?dl=0), [отрицательные](https://www.dropbox.com/s/r6u59ljhhjdg6j0/negative.csv)."
      ]
    },
    {
      "cell_type": "code",
      "execution_count": 1,
      "metadata": {
        "colab": {
          "base_uri": "https://localhost:8080/"
        },
        "id": "2zHB70n5LVPN",
        "outputId": "2686abb0-8d14-467e-9933-b3e148ac6e80",
        "scrolled": true
      },
      "outputs": [
        {
          "output_type": "stream",
          "name": "stdout",
          "text": [
            "--2022-06-05 05:06:42--  https://www.dropbox.com/s/fnpq3z4bcnoktiv/positive.csv\n",
            "Resolving www.dropbox.com (www.dropbox.com)... 162.125.1.18, 2620:100:6018:18::a27d:312\n",
            "Connecting to www.dropbox.com (www.dropbox.com)|162.125.1.18|:443... connected.\n",
            "HTTP request sent, awaiting response... 301 Moved Permanently\n",
            "Location: /s/raw/fnpq3z4bcnoktiv/positive.csv [following]\n",
            "--2022-06-05 05:06:43--  https://www.dropbox.com/s/raw/fnpq3z4bcnoktiv/positive.csv\n",
            "Reusing existing connection to www.dropbox.com:443.\n",
            "HTTP request sent, awaiting response... 302 Found\n",
            "Location: https://ucd28ef0439215423a6f607d43ea.dl.dropboxusercontent.com/cd/0/inline/BmlEM3VrNOm1G_88owmCcgeo93hTv0msvh-PBVoZ3S6awGHjMC-CRwJgEGKcRUDZmRzSbeHOuhiSI_zkvB0yptAqiMNGPyFOH-o9VUMKXTK4pnfS5CYdkIZBlgO-XbwhcCpUzWtgUsRyIRNJEEVWrAu_wh0OjiDOi1U3l-QHuTCPbA/file# [following]\n",
            "--2022-06-05 05:06:43--  https://ucd28ef0439215423a6f607d43ea.dl.dropboxusercontent.com/cd/0/inline/BmlEM3VrNOm1G_88owmCcgeo93hTv0msvh-PBVoZ3S6awGHjMC-CRwJgEGKcRUDZmRzSbeHOuhiSI_zkvB0yptAqiMNGPyFOH-o9VUMKXTK4pnfS5CYdkIZBlgO-XbwhcCpUzWtgUsRyIRNJEEVWrAu_wh0OjiDOi1U3l-QHuTCPbA/file\n",
            "Resolving ucd28ef0439215423a6f607d43ea.dl.dropboxusercontent.com (ucd28ef0439215423a6f607d43ea.dl.dropboxusercontent.com)... 162.125.3.15, 2620:100:6018:15::a27d:30f\n",
            "Connecting to ucd28ef0439215423a6f607d43ea.dl.dropboxusercontent.com (ucd28ef0439215423a6f607d43ea.dl.dropboxusercontent.com)|162.125.3.15|:443... connected.\n",
            "HTTP request sent, awaiting response... 200 OK\n",
            "Length: 26233379 (25M) [text/plain]\n",
            "Saving to: ‘positive.csv’\n",
            "\n",
            "positive.csv        100%[===================>]  25.02M  86.5MB/s    in 0.3s    \n",
            "\n",
            "2022-06-05 05:06:44 (86.5 MB/s) - ‘positive.csv’ saved [26233379/26233379]\n",
            "\n",
            "--2022-06-05 05:06:44--  https://www.dropbox.com/s/r6u59ljhhjdg6j0/negative.csv\n",
            "Resolving www.dropbox.com (www.dropbox.com)... 162.125.1.18, 2620:100:6018:18::a27d:312\n",
            "Connecting to www.dropbox.com (www.dropbox.com)|162.125.1.18|:443... connected.\n",
            "HTTP request sent, awaiting response... 301 Moved Permanently\n",
            "Location: /s/raw/r6u59ljhhjdg6j0/negative.csv [following]\n",
            "--2022-06-05 05:06:44--  https://www.dropbox.com/s/raw/r6u59ljhhjdg6j0/negative.csv\n",
            "Reusing existing connection to www.dropbox.com:443.\n",
            "HTTP request sent, awaiting response... 302 Found\n",
            "Location: https://uc654f71835da4f3010281e08370.dl.dropboxusercontent.com/cd/0/inline/Bmn5KITiNNr17L3Nkzl8VAGY4JnvNQkATgTfcQS7WOyOAZLEJYZW9RgHnKACpBR_S8nhXAs2oke7ID4_jpMKI5WWhFyAOjNOithsctr7Twqhk0covUyBXlfNwwWQVzR-JPweXilZNMY6D3afxCj7BMY1baMsZvG_YDuU521cKhv1tg/file# [following]\n",
            "--2022-06-05 05:06:44--  https://uc654f71835da4f3010281e08370.dl.dropboxusercontent.com/cd/0/inline/Bmn5KITiNNr17L3Nkzl8VAGY4JnvNQkATgTfcQS7WOyOAZLEJYZW9RgHnKACpBR_S8nhXAs2oke7ID4_jpMKI5WWhFyAOjNOithsctr7Twqhk0covUyBXlfNwwWQVzR-JPweXilZNMY6D3afxCj7BMY1baMsZvG_YDuU521cKhv1tg/file\n",
            "Resolving uc654f71835da4f3010281e08370.dl.dropboxusercontent.com (uc654f71835da4f3010281e08370.dl.dropboxusercontent.com)... 162.125.3.15, 2620:100:6018:15::a27d:30f\n",
            "Connecting to uc654f71835da4f3010281e08370.dl.dropboxusercontent.com (uc654f71835da4f3010281e08370.dl.dropboxusercontent.com)|162.125.3.15|:443... connected.\n",
            "HTTP request sent, awaiting response... 200 OK\n",
            "Length: 24450101 (23M) [text/plain]\n",
            "Saving to: ‘negative.csv’\n",
            "\n",
            "negative.csv        100%[===================>]  23.32M   105MB/s    in 0.2s    \n",
            "\n",
            "2022-06-05 05:06:45 (105 MB/s) - ‘negative.csv’ saved [24450101/24450101]\n",
            "\n"
          ]
        }
      ],
      "source": [
        "# если у вас линукс / мак / collab или ещё какая-то среда, в которой работает wget, можно так:\n",
        "\n",
        "!wget https://www.dropbox.com/s/fnpq3z4bcnoktiv/positive.csv\n",
        "!wget https://www.dropbox.com/s/r6u59ljhhjdg6j0/negative.csv\n"
      ]
    },
    {
      "cell_type": "code",
      "execution_count": 2,
      "metadata": {
        "id": "J5YiZNCPLVPe"
      },
      "outputs": [],
      "source": [
        "import pandas as pd\n",
        "import numpy as np\n",
        "from sklearn.metrics import *\n",
        "from sklearn.model_selection import train_test_split\n",
        "from sklearn.pipeline import Pipeline\n",
        "from sklearn.linear_model import LogisticRegression # можно заменить на любимый классификатор\n",
        "from sklearn.feature_extraction.text import CountVectorizer\n",
        "from sklearn.feature_extraction.text import TfidfVectorizer"
      ]
    },
    {
      "cell_type": "code",
      "execution_count": 3,
      "metadata": {
        "colab": {
          "base_uri": "https://localhost:8080/"
        },
        "id": "8-XzyFJxRA3Y",
        "outputId": "b25dd18d-edb0-452e-9f5f-b6f546654a78"
      },
      "outputs": [
        {
          "output_type": "stream",
          "name": "stdout",
          "text": [
            "Looking in indexes: https://pypi.org/simple, https://us-python.pkg.dev/colab-wheels/public/simple/\n",
            "Requirement already satisfied: nltk in /usr/local/lib/python3.7/dist-packages (3.2.5)\n",
            "Requirement already satisfied: six in /usr/local/lib/python3.7/dist-packages (from nltk) (1.15.0)\n"
          ]
        }
      ],
      "source": [
        "!pip install nltk"
      ]
    },
    {
      "cell_type": "code",
      "execution_count": 4,
      "metadata": {
        "id": "hro9uH7KRA3Z"
      },
      "outputs": [],
      "source": [
        "import nltk\n",
        "from nltk.tokenize import sent_tokenize, word_tokenize"
      ]
    },
    {
      "cell_type": "code",
      "execution_count": 5,
      "metadata": {
        "id": "DFLtXAZ-LVPq"
      },
      "outputs": [],
      "source": [
        "# считываем данные и заполняем общий датасет\n",
        "positive = pd.read_csv('positive.csv', sep=';', usecols=[3], names=['text'])\n",
        "positive['label'] = ['positive'] * len(positive)\n",
        "negative = pd.read_csv('negative.csv', sep=';', usecols=[3], names=['text'])\n",
        "negative['label'] = ['negative'] * len(negative)\n",
        "df = positive.append(negative)"
      ]
    },
    {
      "cell_type": "code",
      "execution_count": 6,
      "metadata": {
        "colab": {
          "base_uri": "https://localhost:8080/",
          "height": 206
        },
        "id": "j1AEISlBLVP0",
        "outputId": "a1f73891-4bfb-4974-dc50-44de05db8f5d"
      },
      "outputs": [
        {
          "output_type": "execute_result",
          "data": {
            "text/plain": [
              "                                                     text     label\n",
              "111918  Но не каждый хочет что то исправлять:( http://...  negative\n",
              "111919  скучаю так :-( только @taaannyaaa вправляет мо...  negative\n",
              "111920          Вот и в школу, в говно это идти уже надо(  negative\n",
              "111921  RT @_Them__: @LisaBeroud Тауриэль, не грусти :...  negative\n",
              "111922  Такси везет меня на работу. Раздумываю приплат...  negative"
            ],
            "text/html": [
              "\n",
              "  <div id=\"df-ab6e2331-b3cc-4bef-8b46-95cb00049724\">\n",
              "    <div class=\"colab-df-container\">\n",
              "      <div>\n",
              "<style scoped>\n",
              "    .dataframe tbody tr th:only-of-type {\n",
              "        vertical-align: middle;\n",
              "    }\n",
              "\n",
              "    .dataframe tbody tr th {\n",
              "        vertical-align: top;\n",
              "    }\n",
              "\n",
              "    .dataframe thead th {\n",
              "        text-align: right;\n",
              "    }\n",
              "</style>\n",
              "<table border=\"1\" class=\"dataframe\">\n",
              "  <thead>\n",
              "    <tr style=\"text-align: right;\">\n",
              "      <th></th>\n",
              "      <th>text</th>\n",
              "      <th>label</th>\n",
              "    </tr>\n",
              "  </thead>\n",
              "  <tbody>\n",
              "    <tr>\n",
              "      <th>111918</th>\n",
              "      <td>Но не каждый хочет что то исправлять:( http://...</td>\n",
              "      <td>negative</td>\n",
              "    </tr>\n",
              "    <tr>\n",
              "      <th>111919</th>\n",
              "      <td>скучаю так :-( только @taaannyaaa вправляет мо...</td>\n",
              "      <td>negative</td>\n",
              "    </tr>\n",
              "    <tr>\n",
              "      <th>111920</th>\n",
              "      <td>Вот и в школу, в говно это идти уже надо(</td>\n",
              "      <td>negative</td>\n",
              "    </tr>\n",
              "    <tr>\n",
              "      <th>111921</th>\n",
              "      <td>RT @_Them__: @LisaBeroud Тауриэль, не грусти :...</td>\n",
              "      <td>negative</td>\n",
              "    </tr>\n",
              "    <tr>\n",
              "      <th>111922</th>\n",
              "      <td>Такси везет меня на работу. Раздумываю приплат...</td>\n",
              "      <td>negative</td>\n",
              "    </tr>\n",
              "  </tbody>\n",
              "</table>\n",
              "</div>\n",
              "      <button class=\"colab-df-convert\" onclick=\"convertToInteractive('df-ab6e2331-b3cc-4bef-8b46-95cb00049724')\"\n",
              "              title=\"Convert this dataframe to an interactive table.\"\n",
              "              style=\"display:none;\">\n",
              "        \n",
              "  <svg xmlns=\"http://www.w3.org/2000/svg\" height=\"24px\"viewBox=\"0 0 24 24\"\n",
              "       width=\"24px\">\n",
              "    <path d=\"M0 0h24v24H0V0z\" fill=\"none\"/>\n",
              "    <path d=\"M18.56 5.44l.94 2.06.94-2.06 2.06-.94-2.06-.94-.94-2.06-.94 2.06-2.06.94zm-11 1L8.5 8.5l.94-2.06 2.06-.94-2.06-.94L8.5 2.5l-.94 2.06-2.06.94zm10 10l.94 2.06.94-2.06 2.06-.94-2.06-.94-.94-2.06-.94 2.06-2.06.94z\"/><path d=\"M17.41 7.96l-1.37-1.37c-.4-.4-.92-.59-1.43-.59-.52 0-1.04.2-1.43.59L10.3 9.45l-7.72 7.72c-.78.78-.78 2.05 0 2.83L4 21.41c.39.39.9.59 1.41.59.51 0 1.02-.2 1.41-.59l7.78-7.78 2.81-2.81c.8-.78.8-2.07 0-2.86zM5.41 20L4 18.59l7.72-7.72 1.47 1.35L5.41 20z\"/>\n",
              "  </svg>\n",
              "      </button>\n",
              "      \n",
              "  <style>\n",
              "    .colab-df-container {\n",
              "      display:flex;\n",
              "      flex-wrap:wrap;\n",
              "      gap: 12px;\n",
              "    }\n",
              "\n",
              "    .colab-df-convert {\n",
              "      background-color: #E8F0FE;\n",
              "      border: none;\n",
              "      border-radius: 50%;\n",
              "      cursor: pointer;\n",
              "      display: none;\n",
              "      fill: #1967D2;\n",
              "      height: 32px;\n",
              "      padding: 0 0 0 0;\n",
              "      width: 32px;\n",
              "    }\n",
              "\n",
              "    .colab-df-convert:hover {\n",
              "      background-color: #E2EBFA;\n",
              "      box-shadow: 0px 1px 2px rgba(60, 64, 67, 0.3), 0px 1px 3px 1px rgba(60, 64, 67, 0.15);\n",
              "      fill: #174EA6;\n",
              "    }\n",
              "\n",
              "    [theme=dark] .colab-df-convert {\n",
              "      background-color: #3B4455;\n",
              "      fill: #D2E3FC;\n",
              "    }\n",
              "\n",
              "    [theme=dark] .colab-df-convert:hover {\n",
              "      background-color: #434B5C;\n",
              "      box-shadow: 0px 1px 3px 1px rgba(0, 0, 0, 0.15);\n",
              "      filter: drop-shadow(0px 1px 2px rgba(0, 0, 0, 0.3));\n",
              "      fill: #FFFFFF;\n",
              "    }\n",
              "  </style>\n",
              "\n",
              "      <script>\n",
              "        const buttonEl =\n",
              "          document.querySelector('#df-ab6e2331-b3cc-4bef-8b46-95cb00049724 button.colab-df-convert');\n",
              "        buttonEl.style.display =\n",
              "          google.colab.kernel.accessAllowed ? 'block' : 'none';\n",
              "\n",
              "        async function convertToInteractive(key) {\n",
              "          const element = document.querySelector('#df-ab6e2331-b3cc-4bef-8b46-95cb00049724');\n",
              "          const dataTable =\n",
              "            await google.colab.kernel.invokeFunction('convertToInteractive',\n",
              "                                                     [key], {});\n",
              "          if (!dataTable) return;\n",
              "\n",
              "          const docLinkHtml = 'Like what you see? Visit the ' +\n",
              "            '<a target=\"_blank\" href=https://colab.research.google.com/notebooks/data_table.ipynb>data table notebook</a>'\n",
              "            + ' to learn more about interactive tables.';\n",
              "          element.innerHTML = '';\n",
              "          dataTable['output_type'] = 'display_data';\n",
              "          await google.colab.output.renderOutput(dataTable, element);\n",
              "          const docLink = document.createElement('div');\n",
              "          docLink.innerHTML = docLinkHtml;\n",
              "          element.appendChild(docLink);\n",
              "        }\n",
              "      </script>\n",
              "    </div>\n",
              "  </div>\n",
              "  "
            ]
          },
          "metadata": {},
          "execution_count": 6
        }
      ],
      "source": [
        "df.tail()"
      ]
    },
    {
      "cell_type": "code",
      "execution_count": 7,
      "metadata": {
        "id": "pqoRHAKVRA3d",
        "outputId": "f1663792-1998-4778-ac42-2074cdd9ee43",
        "colab": {
          "base_uri": "https://localhost:8080/"
        }
      },
      "outputs": [
        {
          "output_type": "stream",
          "name": "stdout",
          "text": [
            "<class 'pandas.core.frame.DataFrame'>\n",
            "Int64Index: 226834 entries, 0 to 111922\n",
            "Data columns (total 2 columns):\n",
            " #   Column  Non-Null Count   Dtype \n",
            "---  ------  --------------   ----- \n",
            " 0   text    226834 non-null  object\n",
            " 1   label   226834 non-null  object\n",
            "dtypes: object(2)\n",
            "memory usage: 5.2+ MB\n"
          ]
        }
      ],
      "source": [
        "df.info()"
      ]
    },
    {
      "cell_type": "code",
      "execution_count": 8,
      "metadata": {
        "colab": {
          "base_uri": "https://localhost:8080/"
        },
        "id": "LISJ9M7bRA3g",
        "outputId": "b59eca37-cc70-4282-c2b9-80aad5d252ee"
      },
      "outputs": [
        {
          "output_type": "execute_result",
          "data": {
            "text/plain": [
              "positive    114911\n",
              "negative    111923\n",
              "Name: label, dtype: int64"
            ]
          },
          "metadata": {},
          "execution_count": 8
        }
      ],
      "source": [
        "df['label'].value_counts()"
      ]
    },
    {
      "cell_type": "code",
      "execution_count": 9,
      "metadata": {
        "id": "ZWta7oDgLVP8"
      },
      "outputs": [],
      "source": [
        "x_train, x_test, y_train, y_test = train_test_split(df['text'], df['label'], random_state = 42)"
      ]
    },
    {
      "cell_type": "code",
      "source": [
        "type(x_train[0])"
      ],
      "metadata": {
        "colab": {
          "base_uri": "https://localhost:8080/"
        },
        "id": "RgBk8lYloj-z",
        "outputId": "30ece2ff-3684-486a-f3f5-84eef2d44670"
      },
      "execution_count": 10,
      "outputs": [
        {
          "output_type": "execute_result",
          "data": {
            "text/plain": [
              "pandas.core.series.Series"
            ]
          },
          "metadata": {},
          "execution_count": 10
        }
      ]
    },
    {
      "cell_type": "code",
      "execution_count": 11,
      "metadata": {
        "colab": {
          "base_uri": "https://localhost:8080/"
        },
        "id": "K0dK4RjeRA3j",
        "outputId": "156de476-5d83-4ed2-bfd1-db4b83e1bf1c"
      },
      "outputs": [
        {
          "output_type": "execute_result",
          "data": {
            "text/plain": [
              "positive    86310\n",
              "negative    83815\n",
              "Name: label, dtype: int64"
            ]
          },
          "metadata": {},
          "execution_count": 11
        }
      ],
      "source": [
        "y_train.value_counts()"
      ]
    },
    {
      "cell_type": "markdown",
      "metadata": {
        "id": "5AJk1B39LVRP"
      },
      "source": [
        "## Стоп-слова и пунктуация\n",
        "\n",
        "*Стоп-слова* -- это слова, которые часто встречаются практически в любом тексте и ничего интересного не говорят о конретном документе, то есть играют роль шума. Поэтому их принято убирать. По той же причине убирают и пунктуацию."
      ]
    },
    {
      "cell_type": "code",
      "execution_count": 12,
      "metadata": {
        "colab": {
          "base_uri": "https://localhost:8080/"
        },
        "id": "fpWhsTuRLVRP",
        "outputId": "0eb98db1-83dc-40aa-8f90-eda3d34a41e1"
      },
      "outputs": [
        {
          "output_type": "stream",
          "name": "stdout",
          "text": [
            "[nltk_data] Downloading package stopwords to /root/nltk_data...\n",
            "[nltk_data]   Unzipping corpora/stopwords.zip.\n",
            "['и', 'в', 'во', 'не', 'что', 'он', 'на', 'я', 'с', 'со', 'как', 'а', 'то', 'все', 'она', 'так', 'его', 'но', 'да', 'ты', 'к', 'у', 'же', 'вы', 'за', 'бы', 'по', 'только', 'ее', 'мне', 'было', 'вот', 'от', 'меня', 'еще', 'нет', 'о', 'из', 'ему', 'теперь', 'когда', 'даже', 'ну', 'вдруг', 'ли', 'если', 'уже', 'или', 'ни', 'быть', 'был', 'него', 'до', 'вас', 'нибудь', 'опять', 'уж', 'вам', 'ведь', 'там', 'потом', 'себя', 'ничего', 'ей', 'может', 'они', 'тут', 'где', 'есть', 'надо', 'ней', 'для', 'мы', 'тебя', 'их', 'чем', 'была', 'сам', 'чтоб', 'без', 'будто', 'чего', 'раз', 'тоже', 'себе', 'под', 'будет', 'ж', 'тогда', 'кто', 'этот', 'того', 'потому', 'этого', 'какой', 'совсем', 'ним', 'здесь', 'этом', 'один', 'почти', 'мой', 'тем', 'чтобы', 'нее', 'сейчас', 'были', 'куда', 'зачем', 'всех', 'никогда', 'можно', 'при', 'наконец', 'два', 'об', 'другой', 'хоть', 'после', 'над', 'больше', 'тот', 'через', 'эти', 'нас', 'про', 'всего', 'них', 'какая', 'много', 'разве', 'три', 'эту', 'моя', 'впрочем', 'хорошо', 'свою', 'этой', 'перед', 'иногда', 'лучше', 'чуть', 'том', 'нельзя', 'такой', 'им', 'более', 'всегда', 'конечно', 'всю', 'между']\n"
          ]
        }
      ],
      "source": [
        "# у вас здесь, вероятно, выскочит ошибка и надо будет загрузить стоп слова (в тексте ошибки написано, как)\n",
        "from nltk.corpus import stopwords\n",
        "nltk.download('stopwords')\n",
        "print(stopwords.words('russian'))"
      ]
    },
    {
      "cell_type": "code",
      "execution_count": 13,
      "metadata": {
        "colab": {
          "base_uri": "https://localhost:8080/",
          "height": 35
        },
        "id": "OdRF7rlyLVRS",
        "outputId": "a9970a21-746a-4f5b-957c-9961bb2acb61"
      },
      "outputs": [
        {
          "output_type": "execute_result",
          "data": {
            "text/plain": [
              "'!\"#$%&\\'()*+,-./:;<=>?@[\\\\]^_`{|}~'"
            ],
            "application/vnd.google.colaboratory.intrinsic+json": {
              "type": "string"
            }
          },
          "metadata": {},
          "execution_count": 13
        }
      ],
      "source": [
        "from string import punctuation\n",
        "punctuation"
      ]
    },
    {
      "cell_type": "code",
      "execution_count": 14,
      "metadata": {
        "id": "OfXiH98XLVRV"
      },
      "outputs": [],
      "source": [
        "noise = stopwords.words('russian') + list(punctuation)"
      ]
    },
    {
      "cell_type": "markdown",
      "metadata": {
        "id": "KtiIhHDMLVRY"
      },
      "source": [
        "В векторизаторах за стоп-слова, логичным образом, отвечает аргумент `stop_words`."
      ]
    },
    {
      "cell_type": "code",
      "execution_count": 15,
      "metadata": {
        "colab": {
          "base_uri": "https://localhost:8080/",
          "height": 52
        },
        "id": "IZnbarm_LVRY",
        "outputId": "a9fe11fc-0d72-4046-deed-f59eb2b2f1d1"
      },
      "outputs": [
        {
          "output_type": "execute_result",
          "data": {
            "text/plain": [
              "'\\nvec = CountVectorizer(ngram_range=(1, 1), tokenizer=word_tokenize, stop_words=noise)\\nbow = vec.fit_transform(x_train)\\nclf = LogisticRegression(random_state=42)\\nclf.fit(bow, y_train)\\npred = clf.predict(vec.transform(x_test))\\nprint(classification_report(pred, y_test))\\n'"
            ],
            "application/vnd.google.colaboratory.intrinsic+json": {
              "type": "string"
            }
          },
          "metadata": {},
          "execution_count": 15
        }
      ],
      "source": [
        "\"\"\"\n",
        "vec = CountVectorizer(ngram_range=(1, 1), tokenizer=word_tokenize, stop_words=noise)\n",
        "bow = vec.fit_transform(x_train)\n",
        "clf = LogisticRegression(random_state=42)\n",
        "clf.fit(bow, y_train)\n",
        "pred = clf.predict(vec.transform(x_test))\n",
        "print(classification_report(pred, y_test))\n",
        "\"\"\""
      ]
    },
    {
      "cell_type": "markdown",
      "metadata": {
        "id": "wr934O7yLVRb"
      },
      "source": [
        "Получилось чууть лучше. Что ещё можно сделать?"
      ]
    },
    {
      "cell_type": "markdown",
      "source": [
        "# NN"
      ],
      "metadata": {
        "id": "VarV07iYqQ2_"
      }
    },
    {
      "cell_type": "code",
      "execution_count": 34,
      "metadata": {
        "id": "QE-9r52RRA5a"
      },
      "outputs": [],
      "source": [
        "import tensorflow as tf\n",
        "from tensorflow.keras import Sequential\n",
        "from tensorflow.keras.layers import Dense, Embedding, GlobalAveragePooling1D, Conv1D, GRU, LSTM, Dropout, TextVectorization, Flatten\n",
        "from tensorflow.keras.layers.experimental.preprocessing import TextVectorization\n",
        "from tensorflow.keras.callbacks import EarlyStopping"
      ]
    },
    {
      "cell_type": "code",
      "source": [
        "from sklearn import model_selection, preprocessing, linear_model"
      ],
      "metadata": {
        "id": "4kDq0QYOrMjK"
      },
      "execution_count": 17,
      "outputs": []
    },
    {
      "cell_type": "code",
      "source": [
        "x_train"
      ],
      "metadata": {
        "colab": {
          "base_uri": "https://localhost:8080/"
        },
        "id": "58_Ovuxrz-GN",
        "outputId": "0b8374e7-163a-4394-fb06-b26b8fbd5e61"
      },
      "execution_count": 18,
      "outputs": [
        {
          "output_type": "execute_result",
          "data": {
            "text/plain": [
              "95791     Хватит писать такие глупости!!надо правильно р...\n",
              "63858     Отдохнуть от  дел наших скорбных можно здесь! ...\n",
              "77643     Когда забываю ipod , спасает @pubblartnanesmo ...\n",
              "7876      Ура я дома !!! Чертовы понедельники, ненавижу ...\n",
              "62141     Дорогой Фло, я совершила-таки первую в жизни п...\n",
              "                                ...                        \n",
              "4968      Хочу, чтобы графический планшетик скорее прише...\n",
              "103694    RT @OmenDougnter_: мы с @fluffy_irk @hamsterka...\n",
              "17021     дому чуть больше 30 лет а мне приходится втору...\n",
              "31956     @MIKEFUCKINGWAY @_im_killjoy_ даже представить...\n",
              "7047      через 8 дней будет месяц как мы не общаемся.. ...\n",
              "Name: text, Length: 170125, dtype: object"
            ]
          },
          "metadata": {},
          "execution_count": 18
        }
      ]
    },
    {
      "cell_type": "code",
      "source": [
        "type(x_train[0].astype('string'))"
      ],
      "metadata": {
        "id": "q0tc3d5-ilwZ",
        "colab": {
          "base_uri": "https://localhost:8080/"
        },
        "outputId": "e64ad8e0-0855-4429-cd3c-21816d140592"
      },
      "execution_count": 19,
      "outputs": [
        {
          "output_type": "execute_result",
          "data": {
            "text/plain": [
              "pandas.core.series.Series"
            ]
          },
          "metadata": {},
          "execution_count": 19
        }
      ]
    },
    {
      "cell_type": "code",
      "source": [
        "type(x_train[0])"
      ],
      "metadata": {
        "colab": {
          "base_uri": "https://localhost:8080/"
        },
        "id": "I01s32xGm6fx",
        "outputId": "a09f19df-b3b7-452e-8aa8-b6b39a50e81a"
      },
      "execution_count": 20,
      "outputs": [
        {
          "output_type": "execute_result",
          "data": {
            "text/plain": [
              "pandas.core.series.Series"
            ]
          },
          "metadata": {},
          "execution_count": 20
        }
      ]
    },
    {
      "cell_type": "code",
      "source": [
        "# labelEncode целевую переменную\n",
        "encoder = preprocessing.LabelEncoder()\n",
        "y_train = encoder.fit_transform(y_train)\n",
        "y_test = encoder.fit_transform(y_test)"
      ],
      "metadata": {
        "id": "swkXhvkyrMu1"
      },
      "execution_count": 21,
      "outputs": []
    },
    {
      "cell_type": "code",
      "source": [
        "train_data = tf.data.Dataset.from_tensor_slices((x_train, y_train))\n",
        "valid_data = tf.data.Dataset.from_tensor_slices((x_test, y_test))"
      ],
      "metadata": {
        "id": "KaqQlEuSo4fu"
      },
      "execution_count": 22,
      "outputs": []
    },
    {
      "cell_type": "code",
      "source": [
        "train_data = train_data.batch(16)\n",
        "valid_data = valid_data.batch(16)"
      ],
      "metadata": {
        "id": "154Gtjo0o4k7"
      },
      "execution_count": 23,
      "outputs": []
    },
    {
      "cell_type": "code",
      "source": [
        "for raw in train_data.take(1):\n",
        "    pass"
      ],
      "metadata": {
        "id": "ixO_4F5Wo4qU"
      },
      "execution_count": 24,
      "outputs": []
    },
    {
      "cell_type": "code",
      "source": [
        "# функция меняет кодировку на бинарную! https://stackoverflow.com/questions/69756755/tensorflow-unicode-text-encoding-decoding\n",
        "raw"
      ],
      "metadata": {
        "colab": {
          "base_uri": "https://localhost:8080/"
        },
        "id": "_lGuQrhbo4ua",
        "outputId": "68ffb9ee-716d-4393-d85d-e420d83f0233"
      },
      "execution_count": 25,
      "outputs": [
        {
          "output_type": "execute_result",
          "data": {
            "text/plain": [
              "(<tf.Tensor: shape=(16,), dtype=string, numpy=\n",
              " array([b'\\xd0\\xa5\\xd0\\xb2\\xd0\\xb0\\xd1\\x82\\xd0\\xb8\\xd1\\x82 \\xd0\\xbf\\xd0\\xb8\\xd1\\x81\\xd0\\xb0\\xd1\\x82\\xd1\\x8c \\xd1\\x82\\xd0\\xb0\\xd0\\xba\\xd0\\xb8\\xd0\\xb5 \\xd0\\xb3\\xd0\\xbb\\xd1\\x83\\xd0\\xbf\\xd0\\xbe\\xd1\\x81\\xd1\\x82\\xd0\\xb8!!\\xd0\\xbd\\xd0\\xb0\\xd0\\xb4\\xd0\\xbe \\xd0\\xbf\\xd1\\x80\\xd0\\xb0\\xd0\\xb2\\xd0\\xb8\\xd0\\xbb\\xd1\\x8c\\xd0\\xbd\\xd0\\xbe \\xd1\\x80\\xd0\\xb5\\xd1\\x87\\xd1\\x8c \\xd1\\x84\\xd0\\xbe\\xd1\\x80\\xd0\\xbc\\xd1\\x83\\xd0\\xbb\\xd0\\xb8\\xd1\\x80\\xd0\\xbe\\xd0\\xb2\\xd0\\xb0\\xd1\\x82\\xd1\\x8c!!!(((',\n",
              "        b'\\xd0\\x9e\\xd1\\x82\\xd0\\xb4\\xd0\\xbe\\xd1\\x85\\xd0\\xbd\\xd1\\x83\\xd1\\x82\\xd1\\x8c \\xd0\\xbe\\xd1\\x82  \\xd0\\xb4\\xd0\\xb5\\xd0\\xbb \\xd0\\xbd\\xd0\\xb0\\xd1\\x88\\xd0\\xb8\\xd1\\x85 \\xd1\\x81\\xd0\\xba\\xd0\\xbe\\xd1\\x80\\xd0\\xb1\\xd0\\xbd\\xd1\\x8b\\xd1\\x85 \\xd0\\xbc\\xd0\\xbe\\xd0\\xb6\\xd0\\xbd\\xd0\\xbe \\xd0\\xb7\\xd0\\xb4\\xd0\\xb5\\xd1\\x81\\xd1\\x8c!  :-) \\nhttp://t.co/960kujVLax',\n",
              "        b'\\xd0\\x9a\\xd0\\xbe\\xd0\\xb3\\xd0\\xb4\\xd0\\xb0 \\xd0\\xb7\\xd0\\xb0\\xd0\\xb1\\xd1\\x8b\\xd0\\xb2\\xd0\\xb0\\xd1\\x8e ipod , \\xd1\\x81\\xd0\\xbf\\xd0\\xb0\\xd1\\x81\\xd0\\xb0\\xd0\\xb5\\xd1\\x82 @pubblartnanesmo ) http://t.co/K2e4locBf3',\n",
              "        b'\\xd0\\xa3\\xd1\\x80\\xd0\\xb0 \\xd1\\x8f \\xd0\\xb4\\xd0\\xbe\\xd0\\xbc\\xd0\\xb0 !!! \\xd0\\xa7\\xd0\\xb5\\xd1\\x80\\xd1\\x82\\xd0\\xbe\\xd0\\xb2\\xd1\\x8b \\xd0\\xbf\\xd0\\xbe\\xd0\\xbd\\xd0\\xb5\\xd0\\xb4\\xd0\\xb5\\xd0\\xbb\\xd1\\x8c\\xd0\\xbd\\xd0\\xb8\\xd0\\xba\\xd0\\xb8, \\xd0\\xbd\\xd0\\xb5\\xd0\\xbd\\xd0\\xb0\\xd0\\xb2\\xd0\\xb8\\xd0\\xb6\\xd1\\x83 \\xd0\\xb2\\xd0\\xb0\\xd1\\x81 :( http://t.co/PPHTJO0uNw',\n",
              "        b'\\xd0\\x94\\xd0\\xbe\\xd1\\x80\\xd0\\xbe\\xd0\\xb3\\xd0\\xbe\\xd0\\xb9 \\xd0\\xa4\\xd0\\xbb\\xd0\\xbe, \\xd1\\x8f \\xd1\\x81\\xd0\\xbe\\xd0\\xb2\\xd0\\xb5\\xd1\\x80\\xd1\\x88\\xd0\\xb8\\xd0\\xbb\\xd0\\xb0-\\xd1\\x82\\xd0\\xb0\\xd0\\xba\\xd0\\xb8 \\xd0\\xbf\\xd0\\xb5\\xd1\\x80\\xd0\\xb2\\xd1\\x83\\xd1\\x8e \\xd0\\xb2 \\xd0\\xb6\\xd0\\xb8\\xd0\\xb7\\xd0\\xbd\\xd0\\xb8 \\xd0\\xbf\\xd0\\xbe\\xd0\\xba\\xd1\\x83\\xd0\\xbf\\xd0\\xba\\xd1\\x83 \\xd0\\xb2 \\xd0\\xb0\\xd0\\xb9\\xd1\\x82\\xd1\\x8c\\xd1\\x8e\\xd1\\x82\\xd1\\x81\\xd0\\xb5! :) \\xd0\\xa0\\xd0\\xbe\\xd1\\x81\\xd1\\x81\\xd0\\xb8\\xd1\\x8f \\xd0\\xbd\\xd0\\xb5 \\xd0\\xb4\\xd0\\xb8\\xd0\\xba\\xd0\\xb0\\xd1\\x8f, \\xd0\\xbe\\xd0\\xbd\\xd0\\xb0 \\xd1\\x85\\xd0\\xbe\\xd1\\x80\\xd0\\xbe\\xd1\\x88\\xd0\\xb0\\xd1\\x8f, \\xd0\\xb2\\xd0\\xbe\\xd0\\xb7\\xd0\\xb2\\xd1\\x80\\xd0\\xb0\\xd1\\x89\\xd0\\xb0\\xd0\\xb9\\xd1\\x81\\xd1\\x8f \\xd1\\x81\\xd0\\xba\\xd0\\xbe\\xd1\\x80\\xd0\\xb5\\xd0\\xb5..)',\n",
              "        b'\\xd0\\x9d\\xd0\\xb0\\xd0\\xb6\\xd0\\xbc\\xd0\\xb8 \\xd0\\xbd\\xd0\\xb0 \\xd0\\xba\\xd0\\xbd\\xd0\\xbe\\xd0\\xbf\\xd0\\xba\\xd1\\x83 - \\xd0\\xbf\\xd0\\xbe\\xd0\\xbb\\xd1\\x83\\xd1\\x87\\xd0\\xb8\\xd1\\x88\\xd1\\x8c \\xd1\\x80\\xd0\\xb5\\xd0\\xb7\\xd1\\x83\\xd0\\xbb\\xd1\\x8c\\xd1\\x82\\xd0\\xb0\\xd1\\x82! Push, push the button )) #2bstudio http://t.co/awNJ5ec3yv',\n",
              "        b'\\xd0\\x9e\\xd0\\xbf\\xd1\\x8f\\xd1\\x82\\xd1\\x8c \\xd0\\xbf\\xd1\\x8b\\xd1\\x82\\xd0\\xb0\\xd1\\x8e\\xd1\\x82\\xd1\\x81\\xd1\\x8f \\xd0\\xb7\\xd0\\xb0\\xd0\\xbf\\xd1\\x83\\xd0\\xb3\\xd0\\xb0\\xd1\\x82\\xd1\\x8c \\xd0\\xb3\\xd0\\xb5\\xd0\\xba\\xd1\\x81\\xd0\\xbe\\xd0\\xb3\\xd0\\xb5\\xd0\\xbd\\xd0\\xbe\\xd0\\xbc(  http://t.co/h9ZiMrJise',\n",
              "        b'@know_facts \\xd0\\xbc\\xd0\\xbe\\xd0\\xbb\\xd0\\xbe\\xd0\\xb4\\xd0\\xb5\\xd1\\x86 \\xd1\\x85\\xd1\\x80\\xd1\\x8e\\xd1\\x88\\xd0\\xba\\xd0\\xb0, \\xd0\\xbe\\xd0\\xb1\\xd0\\xb5\\xd1\\x81\\xd0\\xbf\\xd0\\xb5\\xd1\\x87\\xd0\\xb8\\xd1\\x82\\xd1\\x8c \\xd0\\xb3\\xd0\\xbe\\xd1\\x81.\\xd0\\xbf\\xd0\\xbe\\xd0\\xb4\\xd0\\xb4\\xd0\\xb5\\xd1\\x80\\xd0\\xb6\\xd0\\xba\\xd1\\x83 \\xd1\\x81\\xd0\\xbb\\xd1\\x83\\xd0\\xb6\\xd0\\xb5\\xd0\\xb1\\xd0\\xbd\\xd0\\xbe\\xd0\\xb3\\xd0\\xbe \\xd0\\xbf\\xd0\\xb8\\xd1\\x82\\xd0\\xb0\\xd0\\xbd\\xd0\\xb8\\xd1\\x8f \\xd0\\xb6\\xd0\\xb5\\xd0\\xbb\\xd1\\x83\\xd0\\xb4\\xd1\\x8f\\xd0\\xbc\\xd0\\xb8))',\n",
              "        b'\\xd0\\xa2\\xd0\\xbe\\xd0\\xb2\\xd0\\xb0\\xd1\\x80\\xd0\\xb8\\xd1\\x89\\xd0\\xb8,\\xd0\\xb4\\xd0\\xb0\\xd0\\xb2\\xd0\\xb0\\xd0\\xb9\\xd1\\x82\\xd0\\xb5 \\xd0\\xbf\\xd0\\xbe\\xd0\\xb1\\xd0\\xb5\\xd1\\x81\\xd0\\xb5\\xd0\\xb4\\xd1\\x83\\xd0\\xb5\\xd0\\xbc,\\xd0\\xb0 \\xd1\\x82\\xd0\\xbe \\xd0\\xb4\\xd0\\xb8\\xd0\\xba\\xd0\\xbe \\xd1\\x81\\xd0\\xba\\xd1\\x83\\xd1\\x87\\xd0\\xbd\\xd0\\xbe :(',\n",
              "        b'\"\\xd0\\x96\\xd0\\xb8\\xd0\\xb7\\xd0\\xbd\\xd1\\x8c \\xd0\\xbd\\xd0\\xb0\\xd0\\xbc \\xd0\\xb4\\xd0\\xb0\\xd0\\xbd\\xd0\\xb0, \\xd1\\x87\\xd1\\x82\\xd0\\xbe\\xd0\\xb1\\xd1\\x8b \\xd0\\xb2\\xd0\\xbd\\xd0\\xb5\\xd1\\x81\\xd1\\x82\\xd0\\xb8 \\xd0\\xb2 \\xd0\\xbd\\xd0\\xb5\\xd1\\x91 \\xd1\\x81\\xd0\\xb2\\xd0\\xbe\\xd0\\xb9 \\xd0\\xb2\\xd0\\xba\\xd0\\xbb\\xd0\\xb0\\xd0\\xb4. \\xd0\\x98\\xd0\\xbd\\xd0\\xb0\\xd1\\x87\\xd0\\xb5 \\xd0\\xb7\\xd0\\xb0\\xd1\\x87\\xd0\\xb5\\xd0\\xbc \\xd0\\xbc\\xd1\\x8b \\xd0\\xbd\\xd0\\xb0\\xd1\\x85\\xd0\\xbe\\xd0\\xb4\\xd0\\xb8\\xd0\\xbc\\xd1\\x81\\xd1\\x8f \\xd0\\xb2 \\xd1\\x8d\\xd1\\x82\\xd0\\xbe\\xd0\\xbc \\xd0\\xbc\\xd0\\xb8\\xd1\\x80\\xd0\\xb5?\"\\xd0\\xa1\\xd1\\x82\\xd0\\xb8\\xd0\\xb2 \\xd0\\x94\\xd0\\xb6\\xd0\\xbe\\xd0\\xb1\\xd1\\x81\\n\\xd0\\x9c\\xd1\\x8b \\xd1\\x8d\\xd1\\x82\\xd0\\xbe \\xd0\\xb4\\xd0\\xb5\\xd0\\xbb\\xd0\\xb0\\xd0\\xb5\\xd0\\xbc \\xd1\\x82\\xd0\\xb0\\xd0\\xba))) http://t.co/5MPoI106fn',\n",
              "        b'\\xd0\\x92\\xd0\\xb5\\xd1\\x81\\xd1\\x91\\xd0\\xbb\\xd1\\x8b\\xd0\\xb9 \\xd1\\x80\\xd0\\xb0\\xd0\\xb1\\xd0\\xbe\\xd1\\x87\\xd0\\xb8\\xd0\\xb9 \\xd0\\xb4\\xd0\\xb5\\xd0\\xbd\\xd1\\x8c \\xd0\\xb7\\xd0\\xb0\\xd0\\xba\\xd0\\xbe\\xd0\\xbd\\xd1\\x87\\xd0\\xb8\\xd0\\xbb\\xd1\\x81\\xd1\\x8f \\xd0\\xbd\\xd0\\xb5\\xd1\\x81\\xd0\\xbe\\xd1\\x81\\xd1\\x82\\xd0\\xbe\\xd1\\x8f\\xd0\\xb2\\xd1\\x88\\xd0\\xb8\\xd0\\xbc\\xd1\\x81\\xd1\\x8f \\xd0\\xbc\\xd0\\xbe\\xd1\\x80\\xd0\\xb4\\xd0\\xbe\\xd0\\xb1\\xd0\\xbe\\xd0\\xb5\\xd0\\xbc \\xd0\\xb8 \\xd0\\xbe\\xd0\\xb3\\xd1\\x80\\xd0\\xbe\\xd0\\xbc\\xd0\\xbd\\xd0\\xbe\\xd0\\xb9 \\xd0\\xbf\\xd0\\xbe\\xd1\\x80\\xd1\\x86\\xd0\\xb8\\xd0\\xb5\\xd0\\xb9 \\xd0\\xbc\\xd0\\xb0\\xd1\\x82\\xd0\\xb0!:)))',\n",
              "        b'\\xd0\\x94\\xd0\\xb0\\xd0\\xb6\\xd0\\xb5 \\xd0\\xb2 \\xd1\\x81\\xd0\\xba\\xd0\\xb0\\xd0\\xb9\\xd0\\xbf\\xd0\\xb5 \\xd0\\xb2\\xd1\\x8b\\xd1\\x81\\xd0\\xba\\xd0\\xb0\\xd0\\xb7\\xd0\\xb0\\xd1\\x82\\xd1\\x8c \\xd0\\xbd\\xd0\\xb5 \\xd1\\x81\\xd0\\xbc\\xd0\\xbe\\xd0\\xb3( http://t.co/9FVVXOA2NU',\n",
              "        b'\\xd0\\xb8 \\xd0\\xbf\\xd0\\xbe\\xd0\\xbc\\xd0\\xbd\\xd1\\x8e \\xd0\\xba\\xd0\\xb0\\xd0\\xba \\xd0\\x9d\\xd0\\xb0\\xd0\\xb4\\xd0\\xb8\\xd1\\x81 \\xd0\\xb7\\xd0\\xb0\\xd0\\xbf\\xd0\\xbb\\xd0\\xb0\\xd0\\xba\\xd0\\xb0\\xd0\\xbb\\xd0\\xb0 \\xd0\\xb8\\xd1\\x81\\xd0\\xbf\\xd1\\x83\\xd0\\xb3\\xd0\\xb0\\xd0\\xb2\\xd1\\x88\\xd0\\xb8\\xd1\\x81\\xd1\\x8c \\xd1\\x80\\xd0\\xb5\\xd0\\xb1\\xd0\\xb5\\xd0\\xbd\\xd0\\xba\\xd0\\xb0 \\xd1\\x81 \\xd0\\xba\\xd0\\xbe\\xd1\\x81\\xd1\\x82\\xd1\\x8e\\xd0\\xbc\\xd0\\xbe\\xd0\\xbc \\xd0\\xb8 \\xd0\\xbc\\xd0\\xb0\\xd1\\x81\\xd0\\xba\\xd0\\xbe\\xd0\\xb9 \\xd0\\xb1\\xd0\\xb0\\xd0\\xb1\\xd1\\x8b \\xd0\\xaf\\xd0\\xb3\\xd0\\xb8 \\xd1\\x85) \\xd0\\xbe\\xd1\\x82\\xd1\\x82\\xd0\\xbe \\xd0\\xb4\\xd1\\x8c\\xd0\\xb8\\xd0\\xbd\\xd0\\xbd\\xd1\\x8d\\xd1\\x8d\\xd1\\x85 \\xd0\\xba\\xd1\\x83\\xd1\\x80\\xd0\\xb4\\xd1\\x83\\xd0\\xba \\xd1\\x8d\\xd1\\x82\\xd1\\x8d \\xd0\\xb4\\xd0\\xb8',\n",
              "        b'\\xd0\\x92\\xd1\\x81\\xd0\\xb5, \\xd0\\xbc\\xd0\\xbd\\xd0\\xb5 \\xd0\\xbd\\xd0\\xb0\\xd0\\xb4\\xd0\\xbe\\xd0\\xb5\\xd0\\xbb\\xd0\\xb0 \\xd0\\xb7\\xd0\\xb8\\xd0\\xbc\\xd0\\xb0, \\xd1\\x85\\xd0\\xbe\\xd1\\x87\\xd1\\x83 \\xd0\\xb2\\xd0\\xb5\\xd1\\x81\\xd0\\xbd\\xd1\\x83! \\xd0\\x90 \\xd1\\x8d\\xd1\\x82\\xd0\\xbe 9001 \\xd1\\x82\\xd0\\xb2\\xd0\\xb8\\xd1\\x82 :-)',\n",
              "        b'\\xd0\\xbd\\xd1\\x83 \\xd0\\xb2\\xd0\\xbe\\xd0\\xbe\\xd1\\x82((( \\xd0\\xb7\\xd0\\xbe\\xd0\\xb2\\xd1\\x83\\xd1\\x82 \\xd0\\xb2 \\xd0\\xb3\\xd0\\xb5\\xd1\\x80\\xd0\\xbe\\xd0\\xb5\\xd0\\xb23 \\xd0\\xb8\\xd0\\xb3\\xd1\\x80\\xd0\\xb0\\xd1\\x82\\xd1\\x8c, \\xd0\\xb0 \\xd1\\x83 \\xd0\\xbc\\xd0\\xb5\\xd0\\xbd\\xd1\\x8f \\xd0\\xbf\\xd0\\xbe\\xd0\\xbf\\xd0\\xb0 \\xd1\\x81 \\xd0\\xba\\xd1\\x83\\xd1\\x80\\xd1\\x81\\xd0\\xb0\\xd1\\x87\\xd0\\xbe\\xd0\\xbc #\\xd0\\xb6\\xd0\\xb8\\xd0\\xb7\\xd0\\xbd\\xd1\\x8c\\xd0\\xb1\\xd0\\xbe\\xd0\\xbb\\xd1\\x8c',\n",
              "        b'@colibri_75 \\xd0\\xbd\\xd0\\xb5 \\xd0\\xb2\\xd0\\xbb\\xd0\\xb0\\xd0\\xb7\\xd1\\x8f\\xd1\\x82 \\xd0\\xb2\\xd1\\x81\\xd0\\xb5 \\xd1\\x85\\xd0\\xbe\\xd1\\x82\\xd0\\xb5\\xd0\\xbb\\xd0\\xba\\xd0\\xb8 \\xd0\\xb2 \\xd0\\xbd\\xd0\\xb5\\xd0\\xb4\\xd0\\xb5\\xd0\\xbb\\xd1\\x8e. :( \\xd1\\x82\\xd1\\x80\\xd0\\xbe\\xd0\\xbc\\xd0\\xb1\\xd0\\xbe\\xd0\\xb2\\xd0\\xb0\\xd1\\x82\\xd1\\x8c \\xd0\\xb1\\xd1\\x83\\xd0\\xb4\\xd1\\x83 \\xd0\\xb8\\xd0\\xbb\\xd0\\xb8 \\xd0\\xbe\\xd1\\x82 \\xd1\\x87\\xd0\\xb5\\xd0\\xb3\\xd0\\xbe \\xd1\\x82\\xd0\\xbe \\xd0\\xbe\\xd1\\x82\\xd0\\xba\\xd0\\xb0\\xd0\\xb7\\xd1\\x8b\\xd0\\xb2\\xd0\\xb0\\xd1\\x82\\xd1\\x8c\\xd1\\x81\\xd1\\x8f.'],\n",
              "       dtype=object)>,\n",
              " <tf.Tensor: shape=(16,), dtype=int64, numpy=array([0, 1, 1, 0, 1, 1, 0, 1, 0, 1, 1, 0, 1, 1, 0, 0])>)"
            ]
          },
          "metadata": {},
          "execution_count": 25
        }
      ]
    },
    {
      "cell_type": "markdown",
      "source": [
        "Проверка содержания датасета:"
      ],
      "metadata": {
        "id": "Y8bVY2i2UULB"
      }
    },
    {
      "cell_type": "code",
      "source": [
        "tf.compat.as_str(raw[0][0].numpy())"
      ],
      "metadata": {
        "colab": {
          "base_uri": "https://localhost:8080/",
          "height": 35
        },
        "id": "kyJiiDDqT4Oz",
        "outputId": "166e1c22-7c62-4f6c-aa17-8a312e431771"
      },
      "execution_count": 44,
      "outputs": [
        {
          "output_type": "execute_result",
          "data": {
            "text/plain": [
              "'Хватит писать такие глупости!!надо правильно речь формулировать!!!((('"
            ],
            "application/vnd.google.colaboratory.intrinsic+json": {
              "type": "string"
            }
          },
          "metadata": {},
          "execution_count": 44
        }
      ]
    },
    {
      "cell_type": "code",
      "source": [
        "raw[0][0].numpy().decode(encoding='utf-8')"
      ],
      "metadata": {
        "colab": {
          "base_uri": "https://localhost:8080/",
          "height": 35
        },
        "id": "iKYS544kUIGr",
        "outputId": "71f07f85-33d0-4b16-e9eb-1b5923c91f43"
      },
      "execution_count": 45,
      "outputs": [
        {
          "output_type": "execute_result",
          "data": {
            "text/plain": [
              "'Хватит писать такие глупости!!надо правильно речь формулировать!!!((('"
            ],
            "application/vnd.google.colaboratory.intrinsic+json": {
              "type": "string"
            }
          },
          "metadata": {},
          "execution_count": 45
        }
      ]
    },
    {
      "cell_type": "code",
      "source": [
        "AUTOTUNE = tf.data.AUTOTUNE\n",
        "\n",
        "train_data = train_data.cache().prefetch(buffer_size=AUTOTUNE)\n",
        "valid_data = valid_data.cache().prefetch(buffer_size=AUTOTUNE)"
      ],
      "metadata": {
        "id": "zeZAFYF5uPuU"
      },
      "execution_count": 26,
      "outputs": []
    },
    {
      "cell_type": "code",
      "source": [
        "vocab_size = 10000\n",
        "seq_len = 100\n",
        "\n",
        "vectorize_layer = TextVectorization(\n",
        "    #standardize=custom_standartization,\n",
        "    max_tokens=vocab_size,\n",
        "    output_mode='int',\n",
        "    output_sequence_length=seq_len)\n",
        "\n",
        "# Make a text-only dataset (no labels) and call adapt to build the vocabulary.\n",
        "text_data = train_data.map(lambda x, y: x)\n",
        "vectorize_layer.adapt(text_data)"
      ],
      "metadata": {
        "id": "3gmECF48uP5A"
      },
      "execution_count": 28,
      "outputs": []
    },
    {
      "cell_type": "code",
      "source": [
        "embedding_dim=20\n",
        "\n",
        "model = Sequential([\n",
        "    vectorize_layer,\n",
        "    Embedding(vocab_size, embedding_dim, name=\"embedding\"),\n",
        "    Conv1D(20, (3)),\n",
        "    Conv1D(20, (2)),\n",
        "    GRU(30),\n",
        "    #GlobalAveragePooling1D(),\n",
        "    Dense(100, activation='relu'),\n",
        "    Dense(1)\n",
        "])"
      ],
      "metadata": {
        "id": "vaVIGKRIuP9p"
      },
      "execution_count": 30,
      "outputs": []
    },
    {
      "cell_type": "code",
      "source": [
        "model.compile(optimizer='adam',\n",
        "              loss=tf.keras.losses.BinaryCrossentropy(from_logits=True),\n",
        "              metrics=['accuracy'])"
      ],
      "metadata": {
        "id": "FImIOxWKuQDc"
      },
      "execution_count": 31,
      "outputs": []
    },
    {
      "cell_type": "code",
      "source": [
        "model.fit(train_data, validation_data=valid_data, epochs=5)"
      ],
      "metadata": {
        "colab": {
          "base_uri": "https://localhost:8080/",
          "height": 451
        },
        "id": "Rnh11xsHuQHq",
        "outputId": "d1d69e18-520c-461e-8a45-3dceb7babc23"
      },
      "execution_count": 32,
      "outputs": [
        {
          "output_type": "stream",
          "name": "stdout",
          "text": [
            "Epoch 1/5\n",
            "10633/10633 [==============================] - 125s 10ms/step - loss: 0.6932 - accuracy: 0.4927 - val_loss: 0.6931 - val_accuracy: 0.4957\n",
            "Epoch 2/5\n",
            "10633/10633 [==============================] - 102s 10ms/step - loss: 0.6931 - accuracy: 0.4927 - val_loss: 0.6931 - val_accuracy: 0.4957\n",
            "Epoch 3/5\n",
            "10633/10633 [==============================] - 94s 9ms/step - loss: 0.6931 - accuracy: 0.4927 - val_loss: 0.6931 - val_accuracy: 0.4957\n"
          ]
        },
        {
          "output_type": "error",
          "ename": "KeyboardInterrupt",
          "evalue": "ignored",
          "traceback": [
            "\u001b[0;31m---------------------------------------------------------------------------\u001b[0m",
            "\u001b[0;31mKeyboardInterrupt\u001b[0m                         Traceback (most recent call last)",
            "\u001b[0;32m<ipython-input-32-ca1d35007e50>\u001b[0m in \u001b[0;36m<module>\u001b[0;34m()\u001b[0m\n\u001b[0;32m----> 1\u001b[0;31m \u001b[0mmodel\u001b[0m\u001b[0;34m.\u001b[0m\u001b[0mfit\u001b[0m\u001b[0;34m(\u001b[0m\u001b[0mtrain_data\u001b[0m\u001b[0;34m,\u001b[0m \u001b[0mvalidation_data\u001b[0m\u001b[0;34m=\u001b[0m\u001b[0mvalid_data\u001b[0m\u001b[0;34m,\u001b[0m \u001b[0mepochs\u001b[0m\u001b[0;34m=\u001b[0m\u001b[0;36m5\u001b[0m\u001b[0;34m)\u001b[0m\u001b[0;34m\u001b[0m\u001b[0;34m\u001b[0m\u001b[0m\n\u001b[0m",
            "\u001b[0;32m/usr/local/lib/python3.7/dist-packages/keras/utils/traceback_utils.py\u001b[0m in \u001b[0;36merror_handler\u001b[0;34m(*args, **kwargs)\u001b[0m\n\u001b[1;32m     62\u001b[0m     \u001b[0mfiltered_tb\u001b[0m \u001b[0;34m=\u001b[0m \u001b[0;32mNone\u001b[0m\u001b[0;34m\u001b[0m\u001b[0;34m\u001b[0m\u001b[0m\n\u001b[1;32m     63\u001b[0m     \u001b[0;32mtry\u001b[0m\u001b[0;34m:\u001b[0m\u001b[0;34m\u001b[0m\u001b[0;34m\u001b[0m\u001b[0m\n\u001b[0;32m---> 64\u001b[0;31m       \u001b[0;32mreturn\u001b[0m \u001b[0mfn\u001b[0m\u001b[0;34m(\u001b[0m\u001b[0;34m*\u001b[0m\u001b[0margs\u001b[0m\u001b[0;34m,\u001b[0m \u001b[0;34m**\u001b[0m\u001b[0mkwargs\u001b[0m\u001b[0;34m)\u001b[0m\u001b[0;34m\u001b[0m\u001b[0;34m\u001b[0m\u001b[0m\n\u001b[0m\u001b[1;32m     65\u001b[0m     \u001b[0;32mexcept\u001b[0m \u001b[0mException\u001b[0m \u001b[0;32mas\u001b[0m \u001b[0me\u001b[0m\u001b[0;34m:\u001b[0m  \u001b[0;31m# pylint: disable=broad-except\u001b[0m\u001b[0;34m\u001b[0m\u001b[0;34m\u001b[0m\u001b[0m\n\u001b[1;32m     66\u001b[0m       \u001b[0mfiltered_tb\u001b[0m \u001b[0;34m=\u001b[0m \u001b[0m_process_traceback_frames\u001b[0m\u001b[0;34m(\u001b[0m\u001b[0me\u001b[0m\u001b[0;34m.\u001b[0m\u001b[0m__traceback__\u001b[0m\u001b[0;34m)\u001b[0m\u001b[0;34m\u001b[0m\u001b[0;34m\u001b[0m\u001b[0m\n",
            "\u001b[0;32m/usr/local/lib/python3.7/dist-packages/keras/engine/training.py\u001b[0m in \u001b[0;36mfit\u001b[0;34m(self, x, y, batch_size, epochs, verbose, callbacks, validation_split, validation_data, shuffle, class_weight, sample_weight, initial_epoch, steps_per_epoch, validation_steps, validation_batch_size, validation_freq, max_queue_size, workers, use_multiprocessing)\u001b[0m\n\u001b[1;32m   1371\u001b[0m       \u001b[0mlogs\u001b[0m \u001b[0;34m=\u001b[0m \u001b[0;32mNone\u001b[0m\u001b[0;34m\u001b[0m\u001b[0;34m\u001b[0m\u001b[0m\n\u001b[1;32m   1372\u001b[0m       \u001b[0;32mfor\u001b[0m \u001b[0mepoch\u001b[0m\u001b[0;34m,\u001b[0m \u001b[0miterator\u001b[0m \u001b[0;32min\u001b[0m \u001b[0mdata_handler\u001b[0m\u001b[0;34m.\u001b[0m\u001b[0menumerate_epochs\u001b[0m\u001b[0;34m(\u001b[0m\u001b[0;34m)\u001b[0m\u001b[0;34m:\u001b[0m\u001b[0;34m\u001b[0m\u001b[0;34m\u001b[0m\u001b[0m\n\u001b[0;32m-> 1373\u001b[0;31m         \u001b[0mself\u001b[0m\u001b[0;34m.\u001b[0m\u001b[0mreset_metrics\u001b[0m\u001b[0;34m(\u001b[0m\u001b[0;34m)\u001b[0m\u001b[0;34m\u001b[0m\u001b[0;34m\u001b[0m\u001b[0m\n\u001b[0m\u001b[1;32m   1374\u001b[0m         \u001b[0mcallbacks\u001b[0m\u001b[0;34m.\u001b[0m\u001b[0mon_epoch_begin\u001b[0m\u001b[0;34m(\u001b[0m\u001b[0mepoch\u001b[0m\u001b[0;34m)\u001b[0m\u001b[0;34m\u001b[0m\u001b[0;34m\u001b[0m\u001b[0m\n\u001b[1;32m   1375\u001b[0m         \u001b[0;32mwith\u001b[0m \u001b[0mdata_handler\u001b[0m\u001b[0;34m.\u001b[0m\u001b[0mcatch_stop_iteration\u001b[0m\u001b[0;34m(\u001b[0m\u001b[0;34m)\u001b[0m\u001b[0;34m:\u001b[0m\u001b[0;34m\u001b[0m\u001b[0;34m\u001b[0m\u001b[0m\n",
            "\u001b[0;31mKeyboardInterrupt\u001b[0m: "
          ]
        }
      ]
    },
    {
      "cell_type": "markdown",
      "source": [
        "На таком датасете GRU обучаться не хочет"
      ],
      "metadata": {
        "id": "YNBi-FPOSCm_"
      }
    },
    {
      "cell_type": "code",
      "source": [
        "embedding_dim = 20\n",
        "model_NN = Sequential([\n",
        "                    Embedding(input_dim=vocab_size, output_dim=embedding_dim, input_length=seq_len),\n",
        "                    Flatten(),\n",
        "                    Dense(10, activation='relu'),\n",
        "                    Dense(1, activation='sigmoid')\n",
        "])\n",
        "   \n",
        "model_NN.compile(optimizer='adam',\n",
        "              loss='binary_crossentropy',\n",
        "              metrics=['accuracy'])\n",
        "model_NN.summary()"
      ],
      "metadata": {
        "id": "hylacEk-uQL3",
        "colab": {
          "base_uri": "https://localhost:8080/"
        },
        "outputId": "8ee0e8b4-7d34-4d2c-fb62-6bd370568179"
      },
      "execution_count": 46,
      "outputs": [
        {
          "output_type": "stream",
          "name": "stdout",
          "text": [
            "Model: \"sequential_1\"\n",
            "_________________________________________________________________\n",
            " Layer (type)                Output Shape              Param #   \n",
            "=================================================================\n",
            " embedding_1 (Embedding)     (None, 100, 20)           200000    \n",
            "                                                                 \n",
            " flatten (Flatten)           (None, 2000)              0         \n",
            "                                                                 \n",
            " dense_2 (Dense)             (None, 10)                20010     \n",
            "                                                                 \n",
            " dense_3 (Dense)             (None, 1)                 11        \n",
            "                                                                 \n",
            "=================================================================\n",
            "Total params: 220,021\n",
            "Trainable params: 220,021\n",
            "Non-trainable params: 0\n",
            "_________________________________________________________________\n"
          ]
        }
      ]
    },
    {
      "cell_type": "code",
      "source": [
        "history = model.fit(x_train, y_train,\n",
        "                    epochs=5,\n",
        "                    verbose=True,\n",
        "                    validation_data=(x_test, y_test),\n",
        "                    batch_size=16)"
      ],
      "metadata": {
        "id": "4fFIWo5YuQPf",
        "colab": {
          "base_uri": "https://localhost:8080/",
          "height": 485
        },
        "outputId": "d8862f12-87af-44d6-e830-f9078572a6ff"
      },
      "execution_count": 47,
      "outputs": [
        {
          "output_type": "stream",
          "name": "stdout",
          "text": [
            "Epoch 1/5\n",
            "10633/10633 [==============================] - 113s 10ms/step - loss: 0.6931 - accuracy: 0.4927 - val_loss: 0.6931 - val_accuracy: 0.4957\n",
            "Epoch 2/5\n",
            "10633/10633 [==============================] - 113s 11ms/step - loss: 0.6931 - accuracy: 0.4927 - val_loss: 0.6932 - val_accuracy: 0.4957\n",
            "Epoch 3/5\n",
            "10633/10633 [==============================] - 128s 12ms/step - loss: 0.6931 - accuracy: 0.4927 - val_loss: 0.6932 - val_accuracy: 0.4957\n",
            "Epoch 4/5\n",
            " 1108/10633 [==>...........................] - ETA: 1:29 - loss: 0.6932 - accuracy: 0.4992"
          ]
        },
        {
          "output_type": "error",
          "ename": "KeyboardInterrupt",
          "evalue": "ignored",
          "traceback": [
            "\u001b[0;31m---------------------------------------------------------------------------\u001b[0m",
            "\u001b[0;31mKeyboardInterrupt\u001b[0m                         Traceback (most recent call last)",
            "\u001b[0;32m<ipython-input-47-d07b37951b91>\u001b[0m in \u001b[0;36m<module>\u001b[0;34m()\u001b[0m\n\u001b[1;32m      3\u001b[0m                     \u001b[0mverbose\u001b[0m\u001b[0;34m=\u001b[0m\u001b[0;32mTrue\u001b[0m\u001b[0;34m,\u001b[0m\u001b[0;34m\u001b[0m\u001b[0;34m\u001b[0m\u001b[0m\n\u001b[1;32m      4\u001b[0m                     \u001b[0mvalidation_data\u001b[0m\u001b[0;34m=\u001b[0m\u001b[0;34m(\u001b[0m\u001b[0mx_test\u001b[0m\u001b[0;34m,\u001b[0m \u001b[0my_test\u001b[0m\u001b[0;34m)\u001b[0m\u001b[0;34m,\u001b[0m\u001b[0;34m\u001b[0m\u001b[0;34m\u001b[0m\u001b[0m\n\u001b[0;32m----> 5\u001b[0;31m                     batch_size=16)\n\u001b[0m",
            "\u001b[0;32m/usr/local/lib/python3.7/dist-packages/keras/utils/traceback_utils.py\u001b[0m in \u001b[0;36merror_handler\u001b[0;34m(*args, **kwargs)\u001b[0m\n\u001b[1;32m     62\u001b[0m     \u001b[0mfiltered_tb\u001b[0m \u001b[0;34m=\u001b[0m \u001b[0;32mNone\u001b[0m\u001b[0;34m\u001b[0m\u001b[0;34m\u001b[0m\u001b[0m\n\u001b[1;32m     63\u001b[0m     \u001b[0;32mtry\u001b[0m\u001b[0;34m:\u001b[0m\u001b[0;34m\u001b[0m\u001b[0;34m\u001b[0m\u001b[0m\n\u001b[0;32m---> 64\u001b[0;31m       \u001b[0;32mreturn\u001b[0m \u001b[0mfn\u001b[0m\u001b[0;34m(\u001b[0m\u001b[0;34m*\u001b[0m\u001b[0margs\u001b[0m\u001b[0;34m,\u001b[0m \u001b[0;34m**\u001b[0m\u001b[0mkwargs\u001b[0m\u001b[0;34m)\u001b[0m\u001b[0;34m\u001b[0m\u001b[0;34m\u001b[0m\u001b[0m\n\u001b[0m\u001b[1;32m     65\u001b[0m     \u001b[0;32mexcept\u001b[0m \u001b[0mException\u001b[0m \u001b[0;32mas\u001b[0m \u001b[0me\u001b[0m\u001b[0;34m:\u001b[0m  \u001b[0;31m# pylint: disable=broad-except\u001b[0m\u001b[0;34m\u001b[0m\u001b[0;34m\u001b[0m\u001b[0m\n\u001b[1;32m     66\u001b[0m       \u001b[0mfiltered_tb\u001b[0m \u001b[0;34m=\u001b[0m \u001b[0m_process_traceback_frames\u001b[0m\u001b[0;34m(\u001b[0m\u001b[0me\u001b[0m\u001b[0;34m.\u001b[0m\u001b[0m__traceback__\u001b[0m\u001b[0;34m)\u001b[0m\u001b[0;34m\u001b[0m\u001b[0;34m\u001b[0m\u001b[0m\n",
            "\u001b[0;32m/usr/local/lib/python3.7/dist-packages/keras/engine/training.py\u001b[0m in \u001b[0;36mfit\u001b[0;34m(self, x, y, batch_size, epochs, verbose, callbacks, validation_split, validation_data, shuffle, class_weight, sample_weight, initial_epoch, steps_per_epoch, validation_steps, validation_batch_size, validation_freq, max_queue_size, workers, use_multiprocessing)\u001b[0m\n\u001b[1;32m   1382\u001b[0m                 _r=1):\n\u001b[1;32m   1383\u001b[0m               \u001b[0mcallbacks\u001b[0m\u001b[0;34m.\u001b[0m\u001b[0mon_train_batch_begin\u001b[0m\u001b[0;34m(\u001b[0m\u001b[0mstep\u001b[0m\u001b[0;34m)\u001b[0m\u001b[0;34m\u001b[0m\u001b[0;34m\u001b[0m\u001b[0m\n\u001b[0;32m-> 1384\u001b[0;31m               \u001b[0mtmp_logs\u001b[0m \u001b[0;34m=\u001b[0m \u001b[0mself\u001b[0m\u001b[0;34m.\u001b[0m\u001b[0mtrain_function\u001b[0m\u001b[0;34m(\u001b[0m\u001b[0miterator\u001b[0m\u001b[0;34m)\u001b[0m\u001b[0;34m\u001b[0m\u001b[0;34m\u001b[0m\u001b[0m\n\u001b[0m\u001b[1;32m   1385\u001b[0m               \u001b[0;32mif\u001b[0m \u001b[0mdata_handler\u001b[0m\u001b[0;34m.\u001b[0m\u001b[0mshould_sync\u001b[0m\u001b[0;34m:\u001b[0m\u001b[0;34m\u001b[0m\u001b[0;34m\u001b[0m\u001b[0m\n\u001b[1;32m   1386\u001b[0m                 \u001b[0mcontext\u001b[0m\u001b[0;34m.\u001b[0m\u001b[0masync_wait\u001b[0m\u001b[0;34m(\u001b[0m\u001b[0;34m)\u001b[0m\u001b[0;34m\u001b[0m\u001b[0;34m\u001b[0m\u001b[0m\n",
            "\u001b[0;32m/usr/local/lib/python3.7/dist-packages/tensorflow/python/util/traceback_utils.py\u001b[0m in \u001b[0;36merror_handler\u001b[0;34m(*args, **kwargs)\u001b[0m\n\u001b[1;32m    148\u001b[0m     \u001b[0mfiltered_tb\u001b[0m \u001b[0;34m=\u001b[0m \u001b[0;32mNone\u001b[0m\u001b[0;34m\u001b[0m\u001b[0;34m\u001b[0m\u001b[0m\n\u001b[1;32m    149\u001b[0m     \u001b[0;32mtry\u001b[0m\u001b[0;34m:\u001b[0m\u001b[0;34m\u001b[0m\u001b[0;34m\u001b[0m\u001b[0m\n\u001b[0;32m--> 150\u001b[0;31m       \u001b[0;32mreturn\u001b[0m \u001b[0mfn\u001b[0m\u001b[0;34m(\u001b[0m\u001b[0;34m*\u001b[0m\u001b[0margs\u001b[0m\u001b[0;34m,\u001b[0m \u001b[0;34m**\u001b[0m\u001b[0mkwargs\u001b[0m\u001b[0;34m)\u001b[0m\u001b[0;34m\u001b[0m\u001b[0;34m\u001b[0m\u001b[0m\n\u001b[0m\u001b[1;32m    151\u001b[0m     \u001b[0;32mexcept\u001b[0m \u001b[0mException\u001b[0m \u001b[0;32mas\u001b[0m \u001b[0me\u001b[0m\u001b[0;34m:\u001b[0m\u001b[0;34m\u001b[0m\u001b[0;34m\u001b[0m\u001b[0m\n\u001b[1;32m    152\u001b[0m       \u001b[0mfiltered_tb\u001b[0m \u001b[0;34m=\u001b[0m \u001b[0m_process_traceback_frames\u001b[0m\u001b[0;34m(\u001b[0m\u001b[0me\u001b[0m\u001b[0;34m.\u001b[0m\u001b[0m__traceback__\u001b[0m\u001b[0;34m)\u001b[0m\u001b[0;34m\u001b[0m\u001b[0;34m\u001b[0m\u001b[0m\n",
            "\u001b[0;32m/usr/local/lib/python3.7/dist-packages/tensorflow/python/eager/def_function.py\u001b[0m in \u001b[0;36m__call__\u001b[0;34m(self, *args, **kwds)\u001b[0m\n\u001b[1;32m    913\u001b[0m \u001b[0;34m\u001b[0m\u001b[0m\n\u001b[1;32m    914\u001b[0m       \u001b[0;32mwith\u001b[0m \u001b[0mOptionalXlaContext\u001b[0m\u001b[0;34m(\u001b[0m\u001b[0mself\u001b[0m\u001b[0;34m.\u001b[0m\u001b[0m_jit_compile\u001b[0m\u001b[0;34m)\u001b[0m\u001b[0;34m:\u001b[0m\u001b[0;34m\u001b[0m\u001b[0;34m\u001b[0m\u001b[0m\n\u001b[0;32m--> 915\u001b[0;31m         \u001b[0mresult\u001b[0m \u001b[0;34m=\u001b[0m \u001b[0mself\u001b[0m\u001b[0;34m.\u001b[0m\u001b[0m_call\u001b[0m\u001b[0;34m(\u001b[0m\u001b[0;34m*\u001b[0m\u001b[0margs\u001b[0m\u001b[0;34m,\u001b[0m \u001b[0;34m**\u001b[0m\u001b[0mkwds\u001b[0m\u001b[0;34m)\u001b[0m\u001b[0;34m\u001b[0m\u001b[0;34m\u001b[0m\u001b[0m\n\u001b[0m\u001b[1;32m    916\u001b[0m \u001b[0;34m\u001b[0m\u001b[0m\n\u001b[1;32m    917\u001b[0m       \u001b[0mnew_tracing_count\u001b[0m \u001b[0;34m=\u001b[0m \u001b[0mself\u001b[0m\u001b[0;34m.\u001b[0m\u001b[0mexperimental_get_tracing_count\u001b[0m\u001b[0;34m(\u001b[0m\u001b[0;34m)\u001b[0m\u001b[0;34m\u001b[0m\u001b[0;34m\u001b[0m\u001b[0m\n",
            "\u001b[0;32m/usr/local/lib/python3.7/dist-packages/tensorflow/python/eager/def_function.py\u001b[0m in \u001b[0;36m_call\u001b[0;34m(self, *args, **kwds)\u001b[0m\n\u001b[1;32m    945\u001b[0m       \u001b[0;31m# In this case we have created variables on the first call, so we run the\u001b[0m\u001b[0;34m\u001b[0m\u001b[0;34m\u001b[0m\u001b[0;34m\u001b[0m\u001b[0m\n\u001b[1;32m    946\u001b[0m       \u001b[0;31m# defunned version which is guaranteed to never create variables.\u001b[0m\u001b[0;34m\u001b[0m\u001b[0;34m\u001b[0m\u001b[0;34m\u001b[0m\u001b[0m\n\u001b[0;32m--> 947\u001b[0;31m       \u001b[0;32mreturn\u001b[0m \u001b[0mself\u001b[0m\u001b[0;34m.\u001b[0m\u001b[0m_stateless_fn\u001b[0m\u001b[0;34m(\u001b[0m\u001b[0;34m*\u001b[0m\u001b[0margs\u001b[0m\u001b[0;34m,\u001b[0m \u001b[0;34m**\u001b[0m\u001b[0mkwds\u001b[0m\u001b[0;34m)\u001b[0m  \u001b[0;31m# pylint: disable=not-callable\u001b[0m\u001b[0;34m\u001b[0m\u001b[0;34m\u001b[0m\u001b[0m\n\u001b[0m\u001b[1;32m    948\u001b[0m     \u001b[0;32melif\u001b[0m \u001b[0mself\u001b[0m\u001b[0;34m.\u001b[0m\u001b[0m_stateful_fn\u001b[0m \u001b[0;32mis\u001b[0m \u001b[0;32mnot\u001b[0m \u001b[0;32mNone\u001b[0m\u001b[0;34m:\u001b[0m\u001b[0;34m\u001b[0m\u001b[0;34m\u001b[0m\u001b[0m\n\u001b[1;32m    949\u001b[0m       \u001b[0;31m# Release the lock early so that multiple threads can perform the call\u001b[0m\u001b[0;34m\u001b[0m\u001b[0;34m\u001b[0m\u001b[0;34m\u001b[0m\u001b[0m\n",
            "\u001b[0;32m/usr/local/lib/python3.7/dist-packages/tensorflow/python/eager/function.py\u001b[0m in \u001b[0;36m__call__\u001b[0;34m(self, *args, **kwargs)\u001b[0m\n\u001b[1;32m   2955\u001b[0m        filtered_flat_args) = self._maybe_define_function(args, kwargs)\n\u001b[1;32m   2956\u001b[0m     return graph_function._call_flat(\n\u001b[0;32m-> 2957\u001b[0;31m         filtered_flat_args, captured_inputs=graph_function.captured_inputs)  # pylint: disable=protected-access\n\u001b[0m\u001b[1;32m   2958\u001b[0m \u001b[0;34m\u001b[0m\u001b[0m\n\u001b[1;32m   2959\u001b[0m   \u001b[0;34m@\u001b[0m\u001b[0mproperty\u001b[0m\u001b[0;34m\u001b[0m\u001b[0;34m\u001b[0m\u001b[0m\n",
            "\u001b[0;32m/usr/local/lib/python3.7/dist-packages/tensorflow/python/eager/function.py\u001b[0m in \u001b[0;36m_call_flat\u001b[0;34m(self, args, captured_inputs, cancellation_manager)\u001b[0m\n\u001b[1;32m   1852\u001b[0m       \u001b[0;31m# No tape is watching; skip to running the function.\u001b[0m\u001b[0;34m\u001b[0m\u001b[0;34m\u001b[0m\u001b[0;34m\u001b[0m\u001b[0m\n\u001b[1;32m   1853\u001b[0m       return self._build_call_outputs(self._inference_function.call(\n\u001b[0;32m-> 1854\u001b[0;31m           ctx, args, cancellation_manager=cancellation_manager))\n\u001b[0m\u001b[1;32m   1855\u001b[0m     forward_backward = self._select_forward_and_backward_functions(\n\u001b[1;32m   1856\u001b[0m         \u001b[0margs\u001b[0m\u001b[0;34m,\u001b[0m\u001b[0;34m\u001b[0m\u001b[0;34m\u001b[0m\u001b[0m\n",
            "\u001b[0;32m/usr/local/lib/python3.7/dist-packages/tensorflow/python/eager/function.py\u001b[0m in \u001b[0;36mcall\u001b[0;34m(self, ctx, args, cancellation_manager)\u001b[0m\n\u001b[1;32m    502\u001b[0m               \u001b[0minputs\u001b[0m\u001b[0;34m=\u001b[0m\u001b[0margs\u001b[0m\u001b[0;34m,\u001b[0m\u001b[0;34m\u001b[0m\u001b[0;34m\u001b[0m\u001b[0m\n\u001b[1;32m    503\u001b[0m               \u001b[0mattrs\u001b[0m\u001b[0;34m=\u001b[0m\u001b[0mattrs\u001b[0m\u001b[0;34m,\u001b[0m\u001b[0;34m\u001b[0m\u001b[0;34m\u001b[0m\u001b[0m\n\u001b[0;32m--> 504\u001b[0;31m               ctx=ctx)\n\u001b[0m\u001b[1;32m    505\u001b[0m         \u001b[0;32melse\u001b[0m\u001b[0;34m:\u001b[0m\u001b[0;34m\u001b[0m\u001b[0;34m\u001b[0m\u001b[0m\n\u001b[1;32m    506\u001b[0m           outputs = execute.execute_with_cancellation(\n",
            "\u001b[0;32m/usr/local/lib/python3.7/dist-packages/tensorflow/python/eager/execute.py\u001b[0m in \u001b[0;36mquick_execute\u001b[0;34m(op_name, num_outputs, inputs, attrs, ctx, name)\u001b[0m\n\u001b[1;32m     53\u001b[0m     \u001b[0mctx\u001b[0m\u001b[0;34m.\u001b[0m\u001b[0mensure_initialized\u001b[0m\u001b[0;34m(\u001b[0m\u001b[0;34m)\u001b[0m\u001b[0;34m\u001b[0m\u001b[0;34m\u001b[0m\u001b[0m\n\u001b[1;32m     54\u001b[0m     tensors = pywrap_tfe.TFE_Py_Execute(ctx._handle, device_name, op_name,\n\u001b[0;32m---> 55\u001b[0;31m                                         inputs, attrs, num_outputs)\n\u001b[0m\u001b[1;32m     56\u001b[0m   \u001b[0;32mexcept\u001b[0m \u001b[0mcore\u001b[0m\u001b[0;34m.\u001b[0m\u001b[0m_NotOkStatusException\u001b[0m \u001b[0;32mas\u001b[0m \u001b[0me\u001b[0m\u001b[0;34m:\u001b[0m\u001b[0;34m\u001b[0m\u001b[0;34m\u001b[0m\u001b[0m\n\u001b[1;32m     57\u001b[0m     \u001b[0;32mif\u001b[0m \u001b[0mname\u001b[0m \u001b[0;32mis\u001b[0m \u001b[0;32mnot\u001b[0m \u001b[0;32mNone\u001b[0m\u001b[0;34m:\u001b[0m\u001b[0;34m\u001b[0m\u001b[0;34m\u001b[0m\u001b[0m\n",
            "\u001b[0;31mKeyboardInterrupt\u001b[0m: "
          ]
        }
      ]
    },
    {
      "cell_type": "markdown",
      "source": [
        "На полносвязной та же песня. Надо менять подход:"
      ],
      "metadata": {
        "id": "nflzhljhV4-6"
      }
    },
    {
      "cell_type": "code",
      "source": [
        "from keras.preprocessing.text import Tokenizer\n",
        "from keras.preprocessing.sequence import pad_sequences\n",
        "from keras import regularizers\n",
        "\n",
        "vocab_size = 10000\n",
        "seq_len = 100\n",
        "\n",
        "tokenizer = Tokenizer(num_words=vocab_size )\n",
        "tokenizer.fit_on_texts(df.text)\n",
        "sequences = tokenizer.texts_to_sequences(df.text)\n",
        "tweets = pad_sequences(sequences, maxlen=seq_len)\n",
        "print(tweets)"
      ],
      "metadata": {
        "id": "Q93qSlZ9uQTA",
        "colab": {
          "base_uri": "https://localhost:8080/"
        },
        "outputId": "ddb547e2-d971-41cb-ed67-367f57fa4cff"
      },
      "execution_count": 48,
      "outputs": [
        {
          "output_type": "stream",
          "name": "stdout",
          "text": [
            "[[   0    0    0 ... 3340 2953  527]\n",
            " [   0    0    0 ...  178  121   20]\n",
            " [   0    0    0 ... 3903   26   40]\n",
            " ...\n",
            " [   0    0    0 ...  221   27   53]\n",
            " [   0    0    0 ...    1 2354 7255]\n",
            " [   0    0    0 ... 5472   16   36]]\n"
          ]
        }
      ]
    },
    {
      "cell_type": "code",
      "source": [
        "labels = encoder.fit_transform(df['label'])"
      ],
      "metadata": {
        "id": "6zZd9A4euQWt"
      },
      "execution_count": 50,
      "outputs": []
    },
    {
      "cell_type": "code",
      "source": [
        "x_train, x_test, y_train, y_test = train_test_split(tweets, labels)"
      ],
      "metadata": {
        "id": "i0rGNzuxuQam"
      },
      "execution_count": 51,
      "outputs": []
    },
    {
      "cell_type": "code",
      "source": [
        "from keras.models import Sequential\n",
        "from keras import layers\n",
        "\n",
        "embedding_dim = 20\n",
        "model = Sequential([\n",
        "                    Embedding(input_dim=vocab_size, output_dim=embedding_dim, input_length=seq_len),\n",
        "                    Flatten(),\n",
        "                    Dense(10, activation='relu'),\n",
        "                    Dense(1, activation='sigmoid')\n",
        "])\n",
        "   \n",
        "model.compile(optimizer='adam',\n",
        "              loss='binary_crossentropy',\n",
        "              metrics=['accuracy'])\n",
        "model.summary()"
      ],
      "metadata": {
        "id": "LRix23DZuQes",
        "colab": {
          "base_uri": "https://localhost:8080/"
        },
        "outputId": "67a34a3c-06db-4eec-abfd-1218ea3cd8af"
      },
      "execution_count": 52,
      "outputs": [
        {
          "output_type": "stream",
          "name": "stdout",
          "text": [
            "Model: \"sequential_2\"\n",
            "_________________________________________________________________\n",
            " Layer (type)                Output Shape              Param #   \n",
            "=================================================================\n",
            " embedding_2 (Embedding)     (None, 100, 20)           200000    \n",
            "                                                                 \n",
            " flatten_1 (Flatten)         (None, 2000)              0         \n",
            "                                                                 \n",
            " dense_4 (Dense)             (None, 10)                20010     \n",
            "                                                                 \n",
            " dense_5 (Dense)             (None, 1)                 11        \n",
            "                                                                 \n",
            "=================================================================\n",
            "Total params: 220,021\n",
            "Trainable params: 220,021\n",
            "Non-trainable params: 0\n",
            "_________________________________________________________________\n"
          ]
        }
      ]
    },
    {
      "cell_type": "code",
      "source": [
        "history = model.fit(x_train, y_train,\n",
        "                    epochs=5,\n",
        "                    verbose=True,\n",
        "                    validation_data=(x_test, y_test),\n",
        "                    batch_size=16)"
      ],
      "metadata": {
        "id": "p0r8HzlZuQiN",
        "colab": {
          "base_uri": "https://localhost:8080/"
        },
        "outputId": "b9f97dc8-b6b3-47f9-c9b0-fd60ebf7d4fc"
      },
      "execution_count": 53,
      "outputs": [
        {
          "output_type": "stream",
          "name": "stdout",
          "text": [
            "Epoch 1/5\n",
            "10633/10633 [==============================] - 48s 4ms/step - loss: 0.4978 - accuracy: 0.7461 - val_loss: 0.4708 - val_accuracy: 0.7688\n",
            "Epoch 2/5\n",
            "10633/10633 [==============================] - 42s 4ms/step - loss: 0.4205 - accuracy: 0.8020 - val_loss: 0.4806 - val_accuracy: 0.7649\n",
            "Epoch 3/5\n",
            "10633/10633 [==============================] - 49s 5ms/step - loss: 0.3553 - accuracy: 0.8406 - val_loss: 0.5049 - val_accuracy: 0.7583\n",
            "Epoch 4/5\n",
            "10633/10633 [==============================] - 46s 4ms/step - loss: 0.2976 - accuracy: 0.8713 - val_loss: 0.5716 - val_accuracy: 0.7519\n",
            "Epoch 5/5\n",
            "10633/10633 [==============================] - 48s 4ms/step - loss: 0.2531 - accuracy: 0.8929 - val_loss: 0.6514 - val_accuracy: 0.7448\n"
          ]
        }
      ]
    },
    {
      "cell_type": "markdown",
      "source": [
        "Сеть пошла в переобучение, но работает. "
      ],
      "metadata": {
        "id": "7b3r8d3MXmHC"
      }
    },
    {
      "cell_type": "code",
      "source": [
        ""
      ],
      "metadata": {
        "id": "Yzp3zWSNuQxW"
      },
      "execution_count": null,
      "outputs": []
    },
    {
      "cell_type": "code",
      "source": [
        ""
      ],
      "metadata": {
        "id": "FDRc7ySTuQ1Q"
      },
      "execution_count": null,
      "outputs": []
    },
    {
      "cell_type": "code",
      "execution_count": null,
      "metadata": {
        "id": "xhIRG3GItBM_"
      },
      "outputs": [],
      "source": [
        ""
      ]
    }
  ],
  "metadata": {
    "colab": {
      "collapsed_sections": [
        "tAapBC7VLVQC",
        "gJABxhalLVQu",
        "j8v9Scpn9Y0M",
        "D7O_oD1fLVRc",
        "RJlvqWuALVRs",
        "gFTkF8xUARlS",
        "rck5OVqhLVSA",
        "aP5qFnilLVSI",
        "mV3fmzp-LVSU",
        "w2fRbUAvLVSX",
        "aFd-4opAM5hb",
        "pCOfII52NpYU"
      ],
      "name": "hw_lesson_2_nn_v3.ipynb",
      "provenance": []
    },
    "kernelspec": {
      "display_name": "Python 3",
      "language": "python",
      "name": "python3"
    },
    "language_info": {
      "codemirror_mode": {
        "name": "ipython",
        "version": 3
      },
      "file_extension": ".py",
      "mimetype": "text/x-python",
      "name": "python",
      "nbconvert_exporter": "python",
      "pygments_lexer": "ipython3",
      "version": "3.8.5"
    },
    "accelerator": "GPU"
  },
  "nbformat": 4,
  "nbformat_minor": 0
}