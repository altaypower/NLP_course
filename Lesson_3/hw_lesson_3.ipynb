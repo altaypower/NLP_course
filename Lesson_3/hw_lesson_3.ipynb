{
  "cells": [
    {
      "cell_type": "markdown",
      "metadata": {
        "id": "MHQbtW7D1G4w"
      },
      "source": [
        "### Векторные представления слов (word embeddings)"
      ]
    },
    {
      "cell_type": "markdown",
      "metadata": {
        "id": "8mbzhcm11G40"
      },
      "source": [
        "Задача поиск похожих по эмбеддингам\n",
        "\n",
        "Скачиваем датасет ([источник](http://study.mokoron.com/)): [положительные](https://www.dropbox.com/s/fnpq3z4bcnoktiv/positive.csv?dl=0), [отрицательные](https://www.dropbox.com/s/r6u59ljhhjdg6j0/negative.csv).\n",
        "\n",
        "или можно через ноутбук\n",
        "\n",
        "!wget https://www.dropbox.com/s/fnpq3z4bcnoktiv/positive.csv\n",
        "!wget https://www.dropbox.com/s/r6u59ljhhjdg6j0/negative.csv\n",
        "\n",
        "что надо сделать \n",
        "1. объединить в одну выборку\n",
        "2. на основе word2vec/fasttext/glove/слоя Embedding реализовать метод поиска ближайших твитов\n",
        "\n",
        "на вход метода должен приходить запрос (какой-то твит, вопрос) и количество вариантов вывода к примеру 5-ть, ваш метод должен возвращать 5-ть ближайших твитов к этому запросу.\n",
        "\n",
        "3. Проверить насколько хорошо работают подходы\n"
      ]
    },
    {
      "cell_type": "code",
      "execution_count": 2,
      "metadata": {
        "colab": {
          "base_uri": "https://localhost:8080/"
        },
        "id": "8zMcMv6t1G43",
        "outputId": "903473ce-ebf3-414b-a418-521ec0b76075"
      },
      "outputs": [
        {
          "output_type": "stream",
          "name": "stdout",
          "text": [
            "Looking in indexes: https://pypi.org/simple, https://us-python.pkg.dev/colab-wheels/public/simple/\n",
            "Collecting annoy\n",
            "  Downloading annoy-1.17.0.tar.gz (646 kB)\n",
            "\u001b[K     |████████████████████████████████| 646 kB 4.2 MB/s \n",
            "\u001b[?25hBuilding wheels for collected packages: annoy\n",
            "  Building wheel for annoy (setup.py) ... \u001b[?25l\u001b[?25hdone\n",
            "  Created wheel for annoy: filename=annoy-1.17.0-cp37-cp37m-linux_x86_64.whl size=391567 sha256=bea7a47e3829329b3322261dcbcc05bdc68060929bb3e405822d356f20ef365e\n",
            "  Stored in directory: /root/.cache/pip/wheels/4f/e8/1e/7cc9ebbfa87a3b9f8ba79408d4d31831d67eea918b679a4c07\n",
            "Successfully built annoy\n",
            "Installing collected packages: annoy\n",
            "Successfully installed annoy-1.17.0\n"
          ]
        }
      ],
      "source": [
        "pip install annoy"
      ]
    },
    {
      "cell_type": "code",
      "source": [
        "pip install pymorphy2"
      ],
      "metadata": {
        "colab": {
          "base_uri": "https://localhost:8080/"
        },
        "id": "kq6H9aCc1eqN",
        "outputId": "50c5a601-decc-4027-b3d4-c5aa95dbcbfd"
      },
      "execution_count": 4,
      "outputs": [
        {
          "output_type": "stream",
          "name": "stdout",
          "text": [
            "Looking in indexes: https://pypi.org/simple, https://us-python.pkg.dev/colab-wheels/public/simple/\n",
            "Collecting pymorphy2\n",
            "  Downloading pymorphy2-0.9.1-py3-none-any.whl (55 kB)\n",
            "\u001b[K     |████████████████████████████████| 55 kB 1.8 MB/s \n",
            "\u001b[?25hRequirement already satisfied: docopt>=0.6 in /usr/local/lib/python3.7/dist-packages (from pymorphy2) (0.6.2)\n",
            "Collecting dawg-python>=0.7.1\n",
            "  Downloading DAWG_Python-0.7.2-py2.py3-none-any.whl (11 kB)\n",
            "Collecting pymorphy2-dicts-ru<3.0,>=2.4\n",
            "  Downloading pymorphy2_dicts_ru-2.4.417127.4579844-py2.py3-none-any.whl (8.2 MB)\n",
            "\u001b[K     |████████████████████████████████| 8.2 MB 8.2 MB/s \n",
            "\u001b[?25hInstalling collected packages: pymorphy2-dicts-ru, dawg-python, pymorphy2\n",
            "Successfully installed dawg-python-0.7.2 pymorphy2-0.9.1 pymorphy2-dicts-ru-2.4.417127.4579844\n"
          ]
        }
      ]
    },
    {
      "cell_type": "code",
      "execution_count": 5,
      "metadata": {
        "id": "Y72eiL_d1G47"
      },
      "outputs": [],
      "source": [
        "import pandas as pd\n",
        "import numpy as np\n",
        "from sklearn.metrics import *\n",
        "from sklearn.model_selection import train_test_split\n",
        "import re\n",
        "from html.parser import HTMLParser\n",
        "import nltk\n",
        "from nltk.corpus import stopwords\n",
        "from nltk.stem import PorterStemmer, WordNetLemmatizer\n",
        "from string import punctuation\n",
        "from pymystem3 import Mystem\n",
        "from gensim.models import Word2Vec, FastText\n",
        "import annoy\n",
        "import tqdm\n",
        "from pymorphy2 import MorphAnalyzer"
      ]
    },
    {
      "cell_type": "code",
      "execution_count": 6,
      "metadata": {
        "colab": {
          "base_uri": "https://localhost:8080/"
        },
        "id": "oLr0ZJCB1G49",
        "outputId": "20bd83b0-6577-4b7c-8340-f8ee99612580"
      },
      "outputs": [
        {
          "output_type": "stream",
          "name": "stdout",
          "text": [
            "--2022-06-05 07:48:49--  https://www.dropbox.com/s/fnpq3z4bcnoktiv/positive.csv\n",
            "Resolving www.dropbox.com (www.dropbox.com)... 162.125.80.18, 2620:100:6017:18::a27d:212\n",
            "Connecting to www.dropbox.com (www.dropbox.com)|162.125.80.18|:443... connected.\n",
            "HTTP request sent, awaiting response... 301 Moved Permanently\n",
            "Location: /s/raw/fnpq3z4bcnoktiv/positive.csv [following]\n",
            "--2022-06-05 07:48:49--  https://www.dropbox.com/s/raw/fnpq3z4bcnoktiv/positive.csv\n",
            "Reusing existing connection to www.dropbox.com:443.\n",
            "HTTP request sent, awaiting response... 302 Found\n",
            "Location: https://uc2b24829c405be60160455cf07f.dl.dropboxusercontent.com/cd/0/inline/BmmtnBag22SS8sXX6trym7HafUPGKCoLmwFd7gc3TxzZ8QkZuAIzU92vq1VOplbGwdqTNGWT-aEwWsrgqOG66Af43VrxkOsglaxrkmr0uUX3UklNMwhnmNm-HwqQZDngN4UQxR56bElfChW7Ekcgs8iXDgHA_lbMpS46fNS3EyaONg/file# [following]\n",
            "--2022-06-05 07:48:50--  https://uc2b24829c405be60160455cf07f.dl.dropboxusercontent.com/cd/0/inline/BmmtnBag22SS8sXX6trym7HafUPGKCoLmwFd7gc3TxzZ8QkZuAIzU92vq1VOplbGwdqTNGWT-aEwWsrgqOG66Af43VrxkOsglaxrkmr0uUX3UklNMwhnmNm-HwqQZDngN4UQxR56bElfChW7Ekcgs8iXDgHA_lbMpS46fNS3EyaONg/file\n",
            "Resolving uc2b24829c405be60160455cf07f.dl.dropboxusercontent.com (uc2b24829c405be60160455cf07f.dl.dropboxusercontent.com)... 162.125.81.15, 2620:100:6017:15::a27d:20f\n",
            "Connecting to uc2b24829c405be60160455cf07f.dl.dropboxusercontent.com (uc2b24829c405be60160455cf07f.dl.dropboxusercontent.com)|162.125.81.15|:443... connected.\n",
            "HTTP request sent, awaiting response... 200 OK\n",
            "Length: 26233379 (25M) [text/plain]\n",
            "Saving to: ‘positive.csv’\n",
            "\n",
            "positive.csv        100%[===================>]  25.02M  9.80MB/s    in 2.6s    \n",
            "\n",
            "2022-06-05 07:48:53 (9.80 MB/s) - ‘positive.csv’ saved [26233379/26233379]\n",
            "\n",
            "--2022-06-05 07:48:53--  https://www.dropbox.com/s/r6u59ljhhjdg6j0/negative.csv\n",
            "Resolving www.dropbox.com (www.dropbox.com)... 162.125.1.18, 2620:100:6017:18::a27d:212\n",
            "Connecting to www.dropbox.com (www.dropbox.com)|162.125.1.18|:443... connected.\n",
            "HTTP request sent, awaiting response... 301 Moved Permanently\n",
            "Location: /s/raw/r6u59ljhhjdg6j0/negative.csv [following]\n",
            "--2022-06-05 07:48:54--  https://www.dropbox.com/s/raw/r6u59ljhhjdg6j0/negative.csv\n",
            "Reusing existing connection to www.dropbox.com:443.\n",
            "HTTP request sent, awaiting response... 302 Found\n",
            "Location: https://ucb658e4f137db63a2f33ff8ced6.dl.dropboxusercontent.com/cd/0/inline/BmlWYQmytjWhbxD3jhXLy3lKBUNiar_r2Zw5u-Gt-SvL44hu_yd2z1rWBwb0WSrZnlHbziWqofyCDGxSvN2_NG6cvyRPSy2ZvmpHU5ujj4a-tMGj27Pf7hgDVbr7SfNJDGpYC-a7IJWO5xF-soTW8ZOl-pBiH76hcCnYZGykgeG-gg/file# [following]\n",
            "--2022-06-05 07:48:55--  https://ucb658e4f137db63a2f33ff8ced6.dl.dropboxusercontent.com/cd/0/inline/BmlWYQmytjWhbxD3jhXLy3lKBUNiar_r2Zw5u-Gt-SvL44hu_yd2z1rWBwb0WSrZnlHbziWqofyCDGxSvN2_NG6cvyRPSy2ZvmpHU5ujj4a-tMGj27Pf7hgDVbr7SfNJDGpYC-a7IJWO5xF-soTW8ZOl-pBiH76hcCnYZGykgeG-gg/file\n",
            "Resolving ucb658e4f137db63a2f33ff8ced6.dl.dropboxusercontent.com (ucb658e4f137db63a2f33ff8ced6.dl.dropboxusercontent.com)... 162.125.81.15, 2620:100:6017:15::a27d:20f\n",
            "Connecting to ucb658e4f137db63a2f33ff8ced6.dl.dropboxusercontent.com (ucb658e4f137db63a2f33ff8ced6.dl.dropboxusercontent.com)|162.125.81.15|:443... connected.\n",
            "HTTP request sent, awaiting response... 200 OK\n",
            "Length: 24450101 (23M) [text/plain]\n",
            "Saving to: ‘negative.csv’\n",
            "\n",
            "negative.csv        100%[===================>]  23.32M  9.31MB/s    in 2.5s    \n",
            "\n",
            "2022-06-05 07:48:58 (9.31 MB/s) - ‘negative.csv’ saved [24450101/24450101]\n",
            "\n"
          ]
        }
      ],
      "source": [
        "!wget https://www.dropbox.com/s/fnpq3z4bcnoktiv/positive.csv\n",
        "!wget https://www.dropbox.com/s/r6u59ljhhjdg6j0/negative.csv"
      ]
    },
    {
      "cell_type": "code",
      "execution_count": 7,
      "metadata": {
        "id": "TyIbuTEb1G4_"
      },
      "outputs": [],
      "source": [
        "# считываем данные и заполняем общий датасет\n",
        "positive = pd.read_csv('positive.csv', sep=';', usecols=[3], names=['text'])\n",
        "positive['label'] = ['positive'] * len(positive)\n",
        "negative = pd.read_csv('negative.csv', sep=';', usecols=[3], names=['text'])\n",
        "negative['label'] = ['negative'] * len(negative)\n",
        "df = pd.concat([positive, negative], ignore_index=True)"
      ]
    },
    {
      "cell_type": "code",
      "execution_count": 8,
      "metadata": {
        "colab": {
          "base_uri": "https://localhost:8080/",
          "height": 206
        },
        "id": "0QPJUXY61G5B",
        "outputId": "b0664f7b-d6e2-445c-d321-7dbb191f4e60"
      },
      "outputs": [
        {
          "output_type": "execute_result",
          "data": {
            "text/plain": [
              "                                                text     label\n",
              "0  @first_timee хоть я и школота, но поверь, у на...  positive\n",
              "1  Да, все-таки он немного похож на него. Но мой ...  positive\n",
              "2  RT @KatiaCheh: Ну ты идиотка) я испугалась за ...  positive\n",
              "3  RT @digger2912: \"Кто то в углу сидит и погибае...  positive\n",
              "4  @irina_dyshkant Вот что значит страшилка :D\\nН...  positive"
            ],
            "text/html": [
              "\n",
              "  <div id=\"df-40e33f7c-f188-4a48-8b32-09cc640b69c5\">\n",
              "    <div class=\"colab-df-container\">\n",
              "      <div>\n",
              "<style scoped>\n",
              "    .dataframe tbody tr th:only-of-type {\n",
              "        vertical-align: middle;\n",
              "    }\n",
              "\n",
              "    .dataframe tbody tr th {\n",
              "        vertical-align: top;\n",
              "    }\n",
              "\n",
              "    .dataframe thead th {\n",
              "        text-align: right;\n",
              "    }\n",
              "</style>\n",
              "<table border=\"1\" class=\"dataframe\">\n",
              "  <thead>\n",
              "    <tr style=\"text-align: right;\">\n",
              "      <th></th>\n",
              "      <th>text</th>\n",
              "      <th>label</th>\n",
              "    </tr>\n",
              "  </thead>\n",
              "  <tbody>\n",
              "    <tr>\n",
              "      <th>0</th>\n",
              "      <td>@first_timee хоть я и школота, но поверь, у на...</td>\n",
              "      <td>positive</td>\n",
              "    </tr>\n",
              "    <tr>\n",
              "      <th>1</th>\n",
              "      <td>Да, все-таки он немного похож на него. Но мой ...</td>\n",
              "      <td>positive</td>\n",
              "    </tr>\n",
              "    <tr>\n",
              "      <th>2</th>\n",
              "      <td>RT @KatiaCheh: Ну ты идиотка) я испугалась за ...</td>\n",
              "      <td>positive</td>\n",
              "    </tr>\n",
              "    <tr>\n",
              "      <th>3</th>\n",
              "      <td>RT @digger2912: \"Кто то в углу сидит и погибае...</td>\n",
              "      <td>positive</td>\n",
              "    </tr>\n",
              "    <tr>\n",
              "      <th>4</th>\n",
              "      <td>@irina_dyshkant Вот что значит страшилка :D\\nН...</td>\n",
              "      <td>positive</td>\n",
              "    </tr>\n",
              "  </tbody>\n",
              "</table>\n",
              "</div>\n",
              "      <button class=\"colab-df-convert\" onclick=\"convertToInteractive('df-40e33f7c-f188-4a48-8b32-09cc640b69c5')\"\n",
              "              title=\"Convert this dataframe to an interactive table.\"\n",
              "              style=\"display:none;\">\n",
              "        \n",
              "  <svg xmlns=\"http://www.w3.org/2000/svg\" height=\"24px\"viewBox=\"0 0 24 24\"\n",
              "       width=\"24px\">\n",
              "    <path d=\"M0 0h24v24H0V0z\" fill=\"none\"/>\n",
              "    <path d=\"M18.56 5.44l.94 2.06.94-2.06 2.06-.94-2.06-.94-.94-2.06-.94 2.06-2.06.94zm-11 1L8.5 8.5l.94-2.06 2.06-.94-2.06-.94L8.5 2.5l-.94 2.06-2.06.94zm10 10l.94 2.06.94-2.06 2.06-.94-2.06-.94-.94-2.06-.94 2.06-2.06.94z\"/><path d=\"M17.41 7.96l-1.37-1.37c-.4-.4-.92-.59-1.43-.59-.52 0-1.04.2-1.43.59L10.3 9.45l-7.72 7.72c-.78.78-.78 2.05 0 2.83L4 21.41c.39.39.9.59 1.41.59.51 0 1.02-.2 1.41-.59l7.78-7.78 2.81-2.81c.8-.78.8-2.07 0-2.86zM5.41 20L4 18.59l7.72-7.72 1.47 1.35L5.41 20z\"/>\n",
              "  </svg>\n",
              "      </button>\n",
              "      \n",
              "  <style>\n",
              "    .colab-df-container {\n",
              "      display:flex;\n",
              "      flex-wrap:wrap;\n",
              "      gap: 12px;\n",
              "    }\n",
              "\n",
              "    .colab-df-convert {\n",
              "      background-color: #E8F0FE;\n",
              "      border: none;\n",
              "      border-radius: 50%;\n",
              "      cursor: pointer;\n",
              "      display: none;\n",
              "      fill: #1967D2;\n",
              "      height: 32px;\n",
              "      padding: 0 0 0 0;\n",
              "      width: 32px;\n",
              "    }\n",
              "\n",
              "    .colab-df-convert:hover {\n",
              "      background-color: #E2EBFA;\n",
              "      box-shadow: 0px 1px 2px rgba(60, 64, 67, 0.3), 0px 1px 3px 1px rgba(60, 64, 67, 0.15);\n",
              "      fill: #174EA6;\n",
              "    }\n",
              "\n",
              "    [theme=dark] .colab-df-convert {\n",
              "      background-color: #3B4455;\n",
              "      fill: #D2E3FC;\n",
              "    }\n",
              "\n",
              "    [theme=dark] .colab-df-convert:hover {\n",
              "      background-color: #434B5C;\n",
              "      box-shadow: 0px 1px 3px 1px rgba(0, 0, 0, 0.15);\n",
              "      filter: drop-shadow(0px 1px 2px rgba(0, 0, 0, 0.3));\n",
              "      fill: #FFFFFF;\n",
              "    }\n",
              "  </style>\n",
              "\n",
              "      <script>\n",
              "        const buttonEl =\n",
              "          document.querySelector('#df-40e33f7c-f188-4a48-8b32-09cc640b69c5 button.colab-df-convert');\n",
              "        buttonEl.style.display =\n",
              "          google.colab.kernel.accessAllowed ? 'block' : 'none';\n",
              "\n",
              "        async function convertToInteractive(key) {\n",
              "          const element = document.querySelector('#df-40e33f7c-f188-4a48-8b32-09cc640b69c5');\n",
              "          const dataTable =\n",
              "            await google.colab.kernel.invokeFunction('convertToInteractive',\n",
              "                                                     [key], {});\n",
              "          if (!dataTable) return;\n",
              "\n",
              "          const docLinkHtml = 'Like what you see? Visit the ' +\n",
              "            '<a target=\"_blank\" href=https://colab.research.google.com/notebooks/data_table.ipynb>data table notebook</a>'\n",
              "            + ' to learn more about interactive tables.';\n",
              "          element.innerHTML = '';\n",
              "          dataTable['output_type'] = 'display_data';\n",
              "          await google.colab.output.renderOutput(dataTable, element);\n",
              "          const docLink = document.createElement('div');\n",
              "          docLink.innerHTML = docLinkHtml;\n",
              "          element.appendChild(docLink);\n",
              "        }\n",
              "      </script>\n",
              "    </div>\n",
              "  </div>\n",
              "  "
            ]
          },
          "metadata": {},
          "execution_count": 8
        }
      ],
      "source": [
        "df.head()"
      ]
    },
    {
      "cell_type": "code",
      "execution_count": 26,
      "metadata": {
        "id": "wJWmPAVo1G5E"
      },
      "outputs": [],
      "source": [
        "df = df['text']"
      ]
    },
    {
      "cell_type": "code",
      "source": [
        "len(df)"
      ],
      "metadata": {
        "colab": {
          "base_uri": "https://localhost:8080/"
        },
        "id": "7gr-vyxt5eqP",
        "outputId": "1bfa6f41-d650-4207-e6d7-2013cb95b551"
      },
      "execution_count": 28,
      "outputs": [
        {
          "output_type": "execute_result",
          "data": {
            "text/plain": [
              "226834"
            ]
          },
          "metadata": {},
          "execution_count": 28
        }
      ]
    },
    {
      "cell_type": "code",
      "source": [
        "type(df[0])"
      ],
      "metadata": {
        "colab": {
          "base_uri": "https://localhost:8080/"
        },
        "id": "svxBooqy5X-j",
        "outputId": "37461e6c-6a55-4110-9434-12d42a66053d"
      },
      "execution_count": 29,
      "outputs": [
        {
          "output_type": "execute_result",
          "data": {
            "text/plain": [
              "str"
            ]
          },
          "metadata": {},
          "execution_count": 29
        }
      ]
    },
    {
      "cell_type": "code",
      "execution_count": 9,
      "metadata": {
        "id": "slOYfnRx1G5F"
      },
      "outputs": [],
      "source": [
        "import gensim.downloader as api"
      ]
    },
    {
      "cell_type": "code",
      "execution_count": 10,
      "metadata": {
        "scrolled": false,
        "colab": {
          "base_uri": "https://localhost:8080/"
        },
        "id": "lDEbl5q01G5I",
        "outputId": "48724193-da97-4858-d234-606a74921d31"
      },
      "outputs": [
        {
          "output_type": "execute_result",
          "data": {
            "text/plain": [
              "dict_keys(['fasttext-wiki-news-subwords-300', 'conceptnet-numberbatch-17-06-300', 'word2vec-ruscorpora-300', 'word2vec-google-news-300', 'glove-wiki-gigaword-50', 'glove-wiki-gigaword-100', 'glove-wiki-gigaword-200', 'glove-wiki-gigaword-300', 'glove-twitter-25', 'glove-twitter-50', 'glove-twitter-100', 'glove-twitter-200', '__testing_word2vec-matrix-synopsis'])"
            ]
          },
          "metadata": {},
          "execution_count": 10
        }
      ],
      "source": [
        "api.info()['models'].keys()"
      ]
    },
    {
      "cell_type": "code",
      "execution_count": null,
      "metadata": {
        "id": "TAOoDFgd1G5K",
        "outputId": "bf9deeb0-71be-4117-d0e7-aada7c975620"
      },
      "outputs": [
        {
          "name": "stdout",
          "output_type": "stream",
          "text": [
            "королева_NOUN: 0.7314\n"
          ]
        }
      ],
      "source": [
        "import gensim.downloader as api\n",
        "\n",
        "word_vectors = api.load('word2vec-ruscorpora-300')  # загрузим предтренированные вектора слов из gensim-data\n",
        "# В модели \"word2vec-ruscorpora-300\" после слова указывается часть речи: NOUN (существительное), ADJ (прилагательное) и так далее.\n",
        "# выведим слово наиболее близкое к 'woman', 'king' и далекое от 'man'\n",
        "result = word_vectors.most_similar(positive=['женщина_NOUN', 'король_NOUN'], negative=['мужчина_NOUN'])\n",
        "print(\"{}: {:.4f}\".format(*result[0]))"
      ]
    },
    {
      "cell_type": "code",
      "execution_count": 11,
      "metadata": {
        "id": "ur_EeApU1G5L"
      },
      "outputs": [],
      "source": [
        "#word_vectors.key_to_index"
      ]
    },
    {
      "cell_type": "code",
      "source": [
        "!pip install stop-words"
      ],
      "metadata": {
        "colab": {
          "base_uri": "https://localhost:8080/"
        },
        "id": "lDcM0Jwa4nw4",
        "outputId": "78bcf707-241c-4ca5-98d3-9214b65b659a"
      },
      "execution_count": 22,
      "outputs": [
        {
          "output_type": "stream",
          "name": "stdout",
          "text": [
            "Looking in indexes: https://pypi.org/simple, https://us-python.pkg.dev/colab-wheels/public/simple/\n",
            "Collecting stop-words\n",
            "  Downloading stop-words-2018.7.23.tar.gz (31 kB)\n",
            "Building wheels for collected packages: stop-words\n",
            "  Building wheel for stop-words (setup.py) ... \u001b[?25l\u001b[?25hdone\n",
            "  Created wheel for stop-words: filename=stop_words-2018.7.23-py3-none-any.whl size=32911 sha256=bab9a86e241d96bcf2e101276936b5f30c73f67239575fb383c7af88137717a0\n",
            "  Stored in directory: /root/.cache/pip/wheels/fb/86/b2/277b10b1ce9f73ce15059bf6975d4547cc4ec3feeb651978e9\n",
            "Successfully built stop-words\n",
            "Installing collected packages: stop-words\n",
            "Successfully installed stop-words-2018.7.23\n"
          ]
        }
      ]
    },
    {
      "cell_type": "code",
      "execution_count": 23,
      "metadata": {
        "id": "GR0MB6ZC1G5S"
      },
      "outputs": [],
      "source": [
        "import string\n",
        "from pymorphy2 import MorphAnalyzer\n",
        "from stop_words import get_stop_words\n",
        "import annoy\n",
        "from gensim.models import Word2Vec, FastText\n",
        "import pickle\n",
        "import numpy as np\n",
        "from tqdm import tqdm_notebook"
      ]
    },
    {
      "cell_type": "code",
      "execution_count": 24,
      "metadata": {
        "colab": {
          "base_uri": "https://localhost:8080/"
        },
        "id": "kKboUjIP1G5U",
        "outputId": "3f5aa667-0678-4b32-d16b-58c525482ee2"
      },
      "outputs": [
        {
          "output_type": "stream",
          "name": "stdout",
          "text": [
            "negative.csv  positive.csv  sample_data\n"
          ]
        }
      ],
      "source": [
        "!ls"
      ]
    },
    {
      "cell_type": "code",
      "execution_count": 31,
      "metadata": {
        "id": "akUicUjg1G5Y"
      },
      "outputs": [],
      "source": [
        "def preprocess_txt(line):\n",
        "    spls = \"\".join(i for i in line.strip() if i not in exclude).split()\n",
        "    spls = [morpher.parse(i.lower())[0].normal_form for i in spls]\n",
        "    spls = [i for i in spls if i not in sw and i != \"\"]\n",
        "    return spls"
      ]
    },
    {
      "cell_type": "code",
      "execution_count": 36,
      "metadata": {
        "colab": {
          "base_uri": "https://localhost:8080/",
          "height": 101,
          "referenced_widgets": [
            "c0016b48acbb448399a4c36f0c93656b",
            "6092ad44f0fe4ea19318e930a3611cb8",
            "a311563d25804ce0a985240521d045d9",
            "8a8d5f0df42445bdad00d581cfdaf963",
            "38d19a274a634b4494cc1e39a6277cee",
            "844287311e3b41c1af72481f4c3cb4b6",
            "bfde82955b2d4d99947291048f359b92",
            "5d27cbf8380c409da27f1eefde6b0dc6",
            "5a50b33fce19408398277683b3cabfcd",
            "2df66169e7154ef6888bc7837a614a31",
            "9c0f3a365b61480b9a2de77a2b54c3f0"
          ]
        },
        "id": "afICtL_o1G5Y",
        "outputId": "3fa95f51-57aa-40d7-c144-459d651981c1"
      },
      "outputs": [
        {
          "output_type": "stream",
          "name": "stderr",
          "text": [
            "/usr/local/lib/python3.7/dist-packages/ipykernel_launcher.py:12: TqdmDeprecationWarning: This function will be removed in tqdm==5.0.0\n",
            "Please use `tqdm.notebook.tqdm` instead of `tqdm.tqdm_notebook`\n",
            "  if sys.path[0] == '':\n"
          ]
        },
        {
          "output_type": "display_data",
          "data": {
            "text/plain": [
              "  0%|          | 0/226834 [00:00<?, ?it/s]"
            ],
            "application/vnd.jupyter.widget-view+json": {
              "version_major": 2,
              "version_minor": 0,
              "model_id": "c0016b48acbb448399a4c36f0c93656b"
            }
          },
          "metadata": {}
        }
      ],
      "source": [
        "assert True\n",
        "\n",
        "# Preprocess for models fitting\n",
        "\n",
        "sentences = []\n",
        "\n",
        "morpher = MorphAnalyzer()\n",
        "sw = set(get_stop_words(\"ru\"))\n",
        "exclude = set(string.punctuation)\n",
        "c = 0\n",
        "\n",
        "for line in tqdm_notebook(df):\n",
        "    spls = preprocess_txt(line)\n",
        "    sentences.append(spls)\n",
        "    c += 1\n"
      ]
    },
    {
      "cell_type": "code",
      "execution_count": 37,
      "metadata": {
        "id": "HiA0vjnt1G5Z"
      },
      "outputs": [],
      "source": [
        "sentences = [i for i in sentences if len(i) > 2]"
      ]
    },
    {
      "cell_type": "code",
      "execution_count": 38,
      "metadata": {
        "colab": {
          "base_uri": "https://localhost:8080/"
        },
        "id": "rJRxt1dd1G5a",
        "outputId": "b96dce5f-1d03-4391-8c46-28c54b0c8de9"
      },
      "outputs": [
        {
          "output_type": "execute_result",
          "data": {
            "text/plain": [
              "['firsttimee',\n",
              " 'школотый',\n",
              " 'поверь',\n",
              " 'самый',\n",
              " 'd',\n",
              " 'общество',\n",
              " 'профилировать',\n",
              " 'предмет',\n",
              " 'тип']"
            ]
          },
          "metadata": {},
          "execution_count": 38
        }
      ],
      "source": [
        "sentences[0]"
      ]
    },
    {
      "cell_type": "code",
      "execution_count": 39,
      "metadata": {
        "id": "9B9SwhIj1G5a"
      },
      "outputs": [],
      "source": [
        "Word2Vec?"
      ]
    },
    {
      "cell_type": "code",
      "execution_count": 41,
      "metadata": {
        "id": "pnfm-RD91G5b"
      },
      "outputs": [],
      "source": [
        "modelW2V = Word2Vec(sentences=sentences, size=300, window=5, min_count=10)"
      ]
    },
    {
      "cell_type": "code",
      "execution_count": 43,
      "metadata": {
        "id": "PkboKoYY1G5b"
      },
      "outputs": [],
      "source": [
        "modelFT = FastText(sentences=sentences, size=300, min_count=10, window=5, workers=8)"
      ]
    },
    {
      "cell_type": "code",
      "execution_count": 45,
      "metadata": {
        "colab": {
          "base_uri": "https://localhost:8080/",
          "height": 118,
          "referenced_widgets": [
            "a7bd8a0a421140639e267498834080f9",
            "2effea6051fc448ba949c7741f0d97d4",
            "a9cf897e608545c19e1b14b0ba2c16b4",
            "6c7625ab7d4f4e9895845f40bcfd4738",
            "005081df31734f339f27a2cfdc5bbd7b",
            "ff0b2ee55bd7498fa678037a739f0ba0",
            "b3597ddadf744013a57d57379de4fbcd",
            "e53d29a2b70f4e669a363e5d47846c47",
            "8e35d9fa7a2148c3bedfb4688a15be40",
            "8d7c5fa6631f42eab7e48f2927758623",
            "bb85d99a12314c65b82ca58207606bac"
          ]
        },
        "id": "TWkqUqIz1G5c",
        "outputId": "ab68d3e9-7b37-47ab-d97b-93de09b784e8"
      },
      "outputs": [
        {
          "output_type": "stream",
          "name": "stderr",
          "text": [
            "/usr/local/lib/python3.7/dist-packages/ipykernel_launcher.py:7: TqdmDeprecationWarning: This function will be removed in tqdm==5.0.0\n",
            "Please use `tqdm.notebook.tqdm` instead of `tqdm.tqdm_notebook`\n",
            "  import sys\n"
          ]
        },
        {
          "output_type": "display_data",
          "data": {
            "text/plain": [
              "  0%|          | 0/226834 [00:00<?, ?it/s]"
            ],
            "application/vnd.jupyter.widget-view+json": {
              "version_major": 2,
              "version_minor": 0,
              "model_id": "a7bd8a0a421140639e267498834080f9"
            }
          },
          "metadata": {}
        },
        {
          "output_type": "execute_result",
          "data": {
            "text/plain": [
              "True"
            ]
          },
          "metadata": {},
          "execution_count": 45
        }
      ],
      "source": [
        "w2v_index = annoy.AnnoyIndex(300 ,'angular')\n",
        "ft_index = annoy.AnnoyIndex(300 ,'angular')\n",
        "\n",
        "index_map = {}\n",
        "counter = 0\n",
        "\n",
        "for line in tqdm_notebook(df):\n",
        "    n_w2v = 0\n",
        "    n_ft = 0\n",
        "    index_map[counter] = line # помещаю твит в словарь index_map\n",
        "    question = preprocess_txt(line) # преобразую твит в вектор w2v и FT\n",
        "        \n",
        "    vector_w2v = np.zeros(300)\n",
        "    vector_ft = np.zeros(300)\n",
        "    for word in question:\n",
        "        if word in modelW2V.wv:\n",
        "            vector_w2v += modelW2V.wv[word]\n",
        "            n_w2v += 1\n",
        "        if word in modelFT.wv:\n",
        "            vector_ft += modelFT.wv[word]\n",
        "            n_ft += 1\n",
        "    if n_w2v > 0:\n",
        "        vector_w2v = vector_w2v / n_w2v\n",
        "    if n_ft > 0:\n",
        "        vector_ft = vector_ft / n_ft\n",
        "    # упаковываю вектора в ANNOY\n",
        "    w2v_index.add_item(counter, vector_w2v)\n",
        "    ft_index.add_item(counter, vector_ft)\n",
        "            \n",
        "    counter += 1\n",
        "# разбиваю векторные пространства на 10 кластеров\n",
        "w2v_index.build(10)\n",
        "ft_index.build(10)"
      ]
    },
    {
      "cell_type": "code",
      "execution_count": 49,
      "metadata": {
        "id": "h03KWS2y1G5d"
      },
      "outputs": [],
      "source": [
        "def get_response(question, index, model, index_map):\n",
        "    question = preprocess_txt(question)\n",
        "    vector = np.zeros(300)\n",
        "    norm = 0\n",
        "    for word in question:\n",
        "        if word in model.wv:\n",
        "            vector += model.wv[word]\n",
        "            norm += 1\n",
        "    if norm > 0:\n",
        "        vector = vector / norm\n",
        "    answers = index.get_nns_by_vector(vector, 6, )\n",
        "    return [index_map[i] for i in answers[1:]]"
      ]
    },
    {
      "cell_type": "code",
      "source": [
        "for i in range(1, 6):\n",
        "  print(f\"Твит: {df[i]} \\n\")\n",
        "  print(f\"Похожие V2V:\")\n",
        "  for i in get_response(df[i], w2v_index, modelW2V, index_map):\n",
        "    print(i)\n",
        "  print(f\"\\n Похожие FT:\")\n",
        "  for i in get_response(TEXT, ft_index, modelFT, index_map):\n",
        "    print(i)\n",
        "  print(f\"\\n END \\n\")"
      ],
      "metadata": {
        "colab": {
          "base_uri": "https://localhost:8080/"
        },
        "id": "BflH9qqWRmck",
        "outputId": "4d60357f-67b8-4a7b-9707-9f5c05c6af9e"
      },
      "execution_count": 80,
      "outputs": [
        {
          "output_type": "stream",
          "name": "stdout",
          "text": [
            "Твит: Да, все-таки он немного похож на него. Но мой мальчик все равно лучше:D \n",
            "\n",
            "Похожие V2V:\n",
            "Наши мальчики тоже гадать умеет:)\n",
            "А особеено это хорошо получается у Миши:) http://t.co/g8mIiEfEXK\n",
            "Говорил надолго вместе, навсегда, а оказывается пустые слова, больно и обидно:( \n",
            " Все равно люблю его очень сильно;*\n",
            "Случилось то,о чем мой мальчик мечтал.забрал мою Соню из сада)\n",
            "Ну почему меня в гране всегда обслуживают какие-то сладенькие мальчики???(\n",
            "Бедные парни.Ваши 15,16-ти летние девочки сами не знают чего хотят,мечась от одного к другому,набивают себе цену.В какой раз столкнулся:(...\n",
            "\n",
            " Похожие FT:\n",
            "Мне жалко Джуна.Что такого случилось,что он сказал,что не дурак :(\n",
            "@Mparkhimchik  ахахахха мило) \n",
            "я наверное была похожа на унылое  говно\n",
            "@mazayk я еще раз убедилась, что ты ооооочень плохой ребенок)):*\n",
            "@LalkaVerka @asutka999 я на себя реально не наговариваю(( вот это правда, вы красивые, а я правда некрасивая((( в классе я изгой и уродина(\n",
            "@DToropova Я ДУМАЮ ЧТО ТЫ УЖЕ БОЛЬШАЯ ДЕВОЧКА,  САМА ВСЁ ПОНИМАЕШЬ:DDDD\n",
            "\n",
            " END \n",
            "\n",
            "Твит: RT @KatiaCheh: Ну ты идиотка) я испугалась за тебя!!! \n",
            "\n",
            "Похожие V2V:\n",
            "RT @you_breathless: Аарон, ты чо, я же исправляюсьблять а ты тут гонишь на меня :-(\n",
            "RT @Heaven_Helen: в который раз торжественно клянусь не материться))\n",
            "RT @Kruk1D: @_vikagrom_ обычно ты давольно громко возмущалась и охеревала от такого)\n",
            "RT @vikyra: @d_korobov а зачем Таню палишь?(\n",
            "RT @_KValeriya: Ха-ха-ха меня унесло)) http://t.co/cIPcQWnCBE\n",
            "\n",
            " Похожие FT:\n",
            "Мне жалко Джуна.Что такого случилось,что он сказал,что не дурак :(\n",
            "@Mparkhimchik  ахахахха мило) \n",
            "я наверное была похожа на унылое  говно\n",
            "@mazayk я еще раз убедилась, что ты ооооочень плохой ребенок)):*\n",
            "@LalkaVerka @asutka999 я на себя реально не наговариваю(( вот это правда, вы красивые, а я правда некрасивая((( в классе я изгой и уродина(\n",
            "@DToropova Я ДУМАЮ ЧТО ТЫ УЖЕ БОЛЬШАЯ ДЕВОЧКА,  САМА ВСЁ ПОНИМАЕШЬ:DDDD\n",
            "\n",
            " END \n",
            "\n",
            "Твит: RT @digger2912: \"Кто то в углу сидит и погибает от голода, а мы ещё 2 порции взяли, хотя уже и так жрать не хотим\" :DD http://t.co/GqG6iuE2… \n",
            "\n",
            "Похожие V2V:\n",
            "\"Кто то в углу сидит и погибает от голода, а мы ещё 2 порции взяли, хотя уже и так жрать не хотим\" :DD http://t.co/mzfbHIZZTL\n",
            "@mswildfan я сейчас сижу в 2 парах носков, свитер, кофта, тапки. точно, надо ещё одеяло взять ахахахах))\n",
            "@Shestopalovaa ДААА) я сидела кушала в помидоре и меня такая радость брала) тем более 4 редкая группа, она полюбому кого то спасет!!\n",
            "сидим без отопления 2 сутки. авария. блин, как мерзко :(\n",
            "сходила к врачу,в поликлинике сидел мужик,который без стеснений фоткал сам себя на  заднюю камеру старой нокии, мужику лет 35, 2 детей:(\n",
            "\n",
            " Похожие FT:\n",
            "Мне жалко Джуна.Что такого случилось,что он сказал,что не дурак :(\n",
            "@Mparkhimchik  ахахахха мило) \n",
            "я наверное была похожа на унылое  говно\n",
            "@mazayk я еще раз убедилась, что ты ооооочень плохой ребенок)):*\n",
            "@LalkaVerka @asutka999 я на себя реально не наговариваю(( вот это правда, вы красивые, а я правда некрасивая((( в классе я изгой и уродина(\n",
            "@DToropova Я ДУМАЮ ЧТО ТЫ УЖЕ БОЛЬШАЯ ДЕВОЧКА,  САМА ВСЁ ПОНИМАЕШЬ:DDDD\n",
            "\n",
            " END \n",
            "\n",
            "Твит: @irina_dyshkant Вот что значит страшилка :D\n",
            "Но блин,посмотрев все части,у тебя создастся ощущение,что авторы курили что-то :D \n",
            "\n",
            "Похожие V2V:\n",
            "Ахахп, ну как так можно, опять у меня все получается с путешествиями :D ну как всегда с косяками , ЕБАТЬ я ЛОХ х)\n",
            "@Vlada188 @KudriDarrena @RonyLiss @MsWildFan @Day13Beautiful @Popsicle_K2isOn @Uunicorrnn У ТИПЯ НЕДОТРАХ? ЧЕ ТАКОЙ АГРЕСИВНЫЙ ТО? :D\n",
            "Правильно, надо было мне еще и простудиться :D #победительпожизни\n",
            "@coookiehoran не истери, истеричка :D я  ж наоборот мотивирую х) просто своеобразно\n",
            "@mizutohi лол :D\n",
            "такая реакция!\n",
            "что же ты сама-то тянешь\n",
            "\n",
            " Похожие FT:\n",
            "Мне жалко Джуна.Что такого случилось,что он сказал,что не дурак :(\n",
            "@Mparkhimchik  ахахахха мило) \n",
            "я наверное была похожа на унылое  говно\n",
            "@mazayk я еще раз убедилась, что ты ооооочень плохой ребенок)):*\n",
            "@LalkaVerka @asutka999 я на себя реально не наговариваю(( вот это правда, вы красивые, а я правда некрасивая((( в классе я изгой и уродина(\n",
            "@DToropova Я ДУМАЮ ЧТО ТЫ УЖЕ БОЛЬШАЯ ДЕВОЧКА,  САМА ВСЁ ПОНИМАЕШЬ:DDDD\n",
            "\n",
            " END \n",
            "\n",
            "Твит: ну любишь или нет? — Я не знаю кто ты бля:D http://t.co/brf9eNg1U6 \n",
            "\n",
            "Похожие V2V:\n",
            "любишь капусту?почему? — мне на неё похуй( http://t.co/LuL4TqOq5Q\n",
            "Ты все время обижаешься на меня:D — ШКАААФ\n",
            "НЕ ЗНАЛ, ЧТО ТЫ ЛЮБИШЬ МЕНЯ http://t.co/h2c5qT6z8w\n",
            "жень, ты меня не любишь!(((( — Кто ты? http://t.co/EmNYUTDuV9\n",
            "Как ты считаешь, сколько нужно времени, чтобы понять, что любишь человека? — я в этом совсем профан:D http://t.co/hwymfZ3LGX\n",
            "ебать как ты меня любишь) — та конеечно,обожаю прям,жизнь без тебя не могу http://t.co/1y7l5nBcju\n",
            "\n",
            " Похожие FT:\n",
            "Мне жалко Джуна.Что такого случилось,что он сказал,что не дурак :(\n",
            "@Mparkhimchik  ахахахха мило) \n",
            "я наверное была похожа на унылое  говно\n",
            "@mazayk я еще раз убедилась, что ты ооооочень плохой ребенок)):*\n",
            "@LalkaVerka @asutka999 я на себя реально не наговариваю(( вот это правда, вы красивые, а я правда некрасивая((( в классе я изгой и уродина(\n",
            "@DToropova Я ДУМАЮ ЧТО ТЫ УЖЕ БОЛЬШАЯ ДЕВОЧКА,  САМА ВСЁ ПОНИМАЕШЬ:DDDD\n",
            "\n",
            " END \n",
            "\n"
          ]
        }
      ]
    },
    {
      "cell_type": "code",
      "source": [
        ""
      ],
      "metadata": {
        "id": "VRJ2p1BcRmgR"
      },
      "execution_count": null,
      "outputs": []
    },
    {
      "cell_type": "code",
      "source": [
        ""
      ],
      "metadata": {
        "id": "HZeQAYaSRmj0"
      },
      "execution_count": null,
      "outputs": []
    },
    {
      "cell_type": "code",
      "execution_count": null,
      "metadata": {
        "id": "iutbhKX31G5g"
      },
      "outputs": [],
      "source": [
        ""
      ]
    }
  ],
  "metadata": {
    "kernelspec": {
      "display_name": "Python 3",
      "language": "python",
      "name": "python3"
    },
    "language_info": {
      "codemirror_mode": {
        "name": "ipython",
        "version": 3
      },
      "file_extension": ".py",
      "mimetype": "text/x-python",
      "name": "python",
      "nbconvert_exporter": "python",
      "pygments_lexer": "ipython3",
      "version": "3.8.5"
    },
    "colab": {
      "name": "hw_lesson_3.ipynb",
      "provenance": [],
      "collapsed_sections": []
    },
    "widgets": {
      "application/vnd.jupyter.widget-state+json": {
        "c0016b48acbb448399a4c36f0c93656b": {
          "model_module": "@jupyter-widgets/controls",
          "model_name": "HBoxModel",
          "model_module_version": "1.5.0",
          "state": {
            "_dom_classes": [],
            "_model_module": "@jupyter-widgets/controls",
            "_model_module_version": "1.5.0",
            "_model_name": "HBoxModel",
            "_view_count": null,
            "_view_module": "@jupyter-widgets/controls",
            "_view_module_version": "1.5.0",
            "_view_name": "HBoxView",
            "box_style": "",
            "children": [
              "IPY_MODEL_6092ad44f0fe4ea19318e930a3611cb8",
              "IPY_MODEL_a311563d25804ce0a985240521d045d9",
              "IPY_MODEL_8a8d5f0df42445bdad00d581cfdaf963"
            ],
            "layout": "IPY_MODEL_38d19a274a634b4494cc1e39a6277cee"
          }
        },
        "6092ad44f0fe4ea19318e930a3611cb8": {
          "model_module": "@jupyter-widgets/controls",
          "model_name": "HTMLModel",
          "model_module_version": "1.5.0",
          "state": {
            "_dom_classes": [],
            "_model_module": "@jupyter-widgets/controls",
            "_model_module_version": "1.5.0",
            "_model_name": "HTMLModel",
            "_view_count": null,
            "_view_module": "@jupyter-widgets/controls",
            "_view_module_version": "1.5.0",
            "_view_name": "HTMLView",
            "description": "",
            "description_tooltip": null,
            "layout": "IPY_MODEL_844287311e3b41c1af72481f4c3cb4b6",
            "placeholder": "​",
            "style": "IPY_MODEL_bfde82955b2d4d99947291048f359b92",
            "value": "100%"
          }
        },
        "a311563d25804ce0a985240521d045d9": {
          "model_module": "@jupyter-widgets/controls",
          "model_name": "FloatProgressModel",
          "model_module_version": "1.5.0",
          "state": {
            "_dom_classes": [],
            "_model_module": "@jupyter-widgets/controls",
            "_model_module_version": "1.5.0",
            "_model_name": "FloatProgressModel",
            "_view_count": null,
            "_view_module": "@jupyter-widgets/controls",
            "_view_module_version": "1.5.0",
            "_view_name": "ProgressView",
            "bar_style": "success",
            "description": "",
            "description_tooltip": null,
            "layout": "IPY_MODEL_5d27cbf8380c409da27f1eefde6b0dc6",
            "max": 226834,
            "min": 0,
            "orientation": "horizontal",
            "style": "IPY_MODEL_5a50b33fce19408398277683b3cabfcd",
            "value": 226834
          }
        },
        "8a8d5f0df42445bdad00d581cfdaf963": {
          "model_module": "@jupyter-widgets/controls",
          "model_name": "HTMLModel",
          "model_module_version": "1.5.0",
          "state": {
            "_dom_classes": [],
            "_model_module": "@jupyter-widgets/controls",
            "_model_module_version": "1.5.0",
            "_model_name": "HTMLModel",
            "_view_count": null,
            "_view_module": "@jupyter-widgets/controls",
            "_view_module_version": "1.5.0",
            "_view_name": "HTMLView",
            "description": "",
            "description_tooltip": null,
            "layout": "IPY_MODEL_2df66169e7154ef6888bc7837a614a31",
            "placeholder": "​",
            "style": "IPY_MODEL_9c0f3a365b61480b9a2de77a2b54c3f0",
            "value": " 226834/226834 [11:59&lt;00:00, 329.95it/s]"
          }
        },
        "38d19a274a634b4494cc1e39a6277cee": {
          "model_module": "@jupyter-widgets/base",
          "model_name": "LayoutModel",
          "model_module_version": "1.2.0",
          "state": {
            "_model_module": "@jupyter-widgets/base",
            "_model_module_version": "1.2.0",
            "_model_name": "LayoutModel",
            "_view_count": null,
            "_view_module": "@jupyter-widgets/base",
            "_view_module_version": "1.2.0",
            "_view_name": "LayoutView",
            "align_content": null,
            "align_items": null,
            "align_self": null,
            "border": null,
            "bottom": null,
            "display": null,
            "flex": null,
            "flex_flow": null,
            "grid_area": null,
            "grid_auto_columns": null,
            "grid_auto_flow": null,
            "grid_auto_rows": null,
            "grid_column": null,
            "grid_gap": null,
            "grid_row": null,
            "grid_template_areas": null,
            "grid_template_columns": null,
            "grid_template_rows": null,
            "height": null,
            "justify_content": null,
            "justify_items": null,
            "left": null,
            "margin": null,
            "max_height": null,
            "max_width": null,
            "min_height": null,
            "min_width": null,
            "object_fit": null,
            "object_position": null,
            "order": null,
            "overflow": null,
            "overflow_x": null,
            "overflow_y": null,
            "padding": null,
            "right": null,
            "top": null,
            "visibility": null,
            "width": null
          }
        },
        "844287311e3b41c1af72481f4c3cb4b6": {
          "model_module": "@jupyter-widgets/base",
          "model_name": "LayoutModel",
          "model_module_version": "1.2.0",
          "state": {
            "_model_module": "@jupyter-widgets/base",
            "_model_module_version": "1.2.0",
            "_model_name": "LayoutModel",
            "_view_count": null,
            "_view_module": "@jupyter-widgets/base",
            "_view_module_version": "1.2.0",
            "_view_name": "LayoutView",
            "align_content": null,
            "align_items": null,
            "align_self": null,
            "border": null,
            "bottom": null,
            "display": null,
            "flex": null,
            "flex_flow": null,
            "grid_area": null,
            "grid_auto_columns": null,
            "grid_auto_flow": null,
            "grid_auto_rows": null,
            "grid_column": null,
            "grid_gap": null,
            "grid_row": null,
            "grid_template_areas": null,
            "grid_template_columns": null,
            "grid_template_rows": null,
            "height": null,
            "justify_content": null,
            "justify_items": null,
            "left": null,
            "margin": null,
            "max_height": null,
            "max_width": null,
            "min_height": null,
            "min_width": null,
            "object_fit": null,
            "object_position": null,
            "order": null,
            "overflow": null,
            "overflow_x": null,
            "overflow_y": null,
            "padding": null,
            "right": null,
            "top": null,
            "visibility": null,
            "width": null
          }
        },
        "bfde82955b2d4d99947291048f359b92": {
          "model_module": "@jupyter-widgets/controls",
          "model_name": "DescriptionStyleModel",
          "model_module_version": "1.5.0",
          "state": {
            "_model_module": "@jupyter-widgets/controls",
            "_model_module_version": "1.5.0",
            "_model_name": "DescriptionStyleModel",
            "_view_count": null,
            "_view_module": "@jupyter-widgets/base",
            "_view_module_version": "1.2.0",
            "_view_name": "StyleView",
            "description_width": ""
          }
        },
        "5d27cbf8380c409da27f1eefde6b0dc6": {
          "model_module": "@jupyter-widgets/base",
          "model_name": "LayoutModel",
          "model_module_version": "1.2.0",
          "state": {
            "_model_module": "@jupyter-widgets/base",
            "_model_module_version": "1.2.0",
            "_model_name": "LayoutModel",
            "_view_count": null,
            "_view_module": "@jupyter-widgets/base",
            "_view_module_version": "1.2.0",
            "_view_name": "LayoutView",
            "align_content": null,
            "align_items": null,
            "align_self": null,
            "border": null,
            "bottom": null,
            "display": null,
            "flex": null,
            "flex_flow": null,
            "grid_area": null,
            "grid_auto_columns": null,
            "grid_auto_flow": null,
            "grid_auto_rows": null,
            "grid_column": null,
            "grid_gap": null,
            "grid_row": null,
            "grid_template_areas": null,
            "grid_template_columns": null,
            "grid_template_rows": null,
            "height": null,
            "justify_content": null,
            "justify_items": null,
            "left": null,
            "margin": null,
            "max_height": null,
            "max_width": null,
            "min_height": null,
            "min_width": null,
            "object_fit": null,
            "object_position": null,
            "order": null,
            "overflow": null,
            "overflow_x": null,
            "overflow_y": null,
            "padding": null,
            "right": null,
            "top": null,
            "visibility": null,
            "width": null
          }
        },
        "5a50b33fce19408398277683b3cabfcd": {
          "model_module": "@jupyter-widgets/controls",
          "model_name": "ProgressStyleModel",
          "model_module_version": "1.5.0",
          "state": {
            "_model_module": "@jupyter-widgets/controls",
            "_model_module_version": "1.5.0",
            "_model_name": "ProgressStyleModel",
            "_view_count": null,
            "_view_module": "@jupyter-widgets/base",
            "_view_module_version": "1.2.0",
            "_view_name": "StyleView",
            "bar_color": null,
            "description_width": ""
          }
        },
        "2df66169e7154ef6888bc7837a614a31": {
          "model_module": "@jupyter-widgets/base",
          "model_name": "LayoutModel",
          "model_module_version": "1.2.0",
          "state": {
            "_model_module": "@jupyter-widgets/base",
            "_model_module_version": "1.2.0",
            "_model_name": "LayoutModel",
            "_view_count": null,
            "_view_module": "@jupyter-widgets/base",
            "_view_module_version": "1.2.0",
            "_view_name": "LayoutView",
            "align_content": null,
            "align_items": null,
            "align_self": null,
            "border": null,
            "bottom": null,
            "display": null,
            "flex": null,
            "flex_flow": null,
            "grid_area": null,
            "grid_auto_columns": null,
            "grid_auto_flow": null,
            "grid_auto_rows": null,
            "grid_column": null,
            "grid_gap": null,
            "grid_row": null,
            "grid_template_areas": null,
            "grid_template_columns": null,
            "grid_template_rows": null,
            "height": null,
            "justify_content": null,
            "justify_items": null,
            "left": null,
            "margin": null,
            "max_height": null,
            "max_width": null,
            "min_height": null,
            "min_width": null,
            "object_fit": null,
            "object_position": null,
            "order": null,
            "overflow": null,
            "overflow_x": null,
            "overflow_y": null,
            "padding": null,
            "right": null,
            "top": null,
            "visibility": null,
            "width": null
          }
        },
        "9c0f3a365b61480b9a2de77a2b54c3f0": {
          "model_module": "@jupyter-widgets/controls",
          "model_name": "DescriptionStyleModel",
          "model_module_version": "1.5.0",
          "state": {
            "_model_module": "@jupyter-widgets/controls",
            "_model_module_version": "1.5.0",
            "_model_name": "DescriptionStyleModel",
            "_view_count": null,
            "_view_module": "@jupyter-widgets/base",
            "_view_module_version": "1.2.0",
            "_view_name": "StyleView",
            "description_width": ""
          }
        },
        "a7bd8a0a421140639e267498834080f9": {
          "model_module": "@jupyter-widgets/controls",
          "model_name": "HBoxModel",
          "model_module_version": "1.5.0",
          "state": {
            "_dom_classes": [],
            "_model_module": "@jupyter-widgets/controls",
            "_model_module_version": "1.5.0",
            "_model_name": "HBoxModel",
            "_view_count": null,
            "_view_module": "@jupyter-widgets/controls",
            "_view_module_version": "1.5.0",
            "_view_name": "HBoxView",
            "box_style": "",
            "children": [
              "IPY_MODEL_2effea6051fc448ba949c7741f0d97d4",
              "IPY_MODEL_a9cf897e608545c19e1b14b0ba2c16b4",
              "IPY_MODEL_6c7625ab7d4f4e9895845f40bcfd4738"
            ],
            "layout": "IPY_MODEL_005081df31734f339f27a2cfdc5bbd7b"
          }
        },
        "2effea6051fc448ba949c7741f0d97d4": {
          "model_module": "@jupyter-widgets/controls",
          "model_name": "HTMLModel",
          "model_module_version": "1.5.0",
          "state": {
            "_dom_classes": [],
            "_model_module": "@jupyter-widgets/controls",
            "_model_module_version": "1.5.0",
            "_model_name": "HTMLModel",
            "_view_count": null,
            "_view_module": "@jupyter-widgets/controls",
            "_view_module_version": "1.5.0",
            "_view_name": "HTMLView",
            "description": "",
            "description_tooltip": null,
            "layout": "IPY_MODEL_ff0b2ee55bd7498fa678037a739f0ba0",
            "placeholder": "​",
            "style": "IPY_MODEL_b3597ddadf744013a57d57379de4fbcd",
            "value": "100%"
          }
        },
        "a9cf897e608545c19e1b14b0ba2c16b4": {
          "model_module": "@jupyter-widgets/controls",
          "model_name": "FloatProgressModel",
          "model_module_version": "1.5.0",
          "state": {
            "_dom_classes": [],
            "_model_module": "@jupyter-widgets/controls",
            "_model_module_version": "1.5.0",
            "_model_name": "FloatProgressModel",
            "_view_count": null,
            "_view_module": "@jupyter-widgets/controls",
            "_view_module_version": "1.5.0",
            "_view_name": "ProgressView",
            "bar_style": "success",
            "description": "",
            "description_tooltip": null,
            "layout": "IPY_MODEL_e53d29a2b70f4e669a363e5d47846c47",
            "max": 226834,
            "min": 0,
            "orientation": "horizontal",
            "style": "IPY_MODEL_8e35d9fa7a2148c3bedfb4688a15be40",
            "value": 226834
          }
        },
        "6c7625ab7d4f4e9895845f40bcfd4738": {
          "model_module": "@jupyter-widgets/controls",
          "model_name": "HTMLModel",
          "model_module_version": "1.5.0",
          "state": {
            "_dom_classes": [],
            "_model_module": "@jupyter-widgets/controls",
            "_model_module_version": "1.5.0",
            "_model_name": "HTMLModel",
            "_view_count": null,
            "_view_module": "@jupyter-widgets/controls",
            "_view_module_version": "1.5.0",
            "_view_name": "HTMLView",
            "description": "",
            "description_tooltip": null,
            "layout": "IPY_MODEL_8d7c5fa6631f42eab7e48f2927758623",
            "placeholder": "​",
            "style": "IPY_MODEL_bb85d99a12314c65b82ca58207606bac",
            "value": " 226834/226834 [14:17&lt;00:00, 284.84it/s]"
          }
        },
        "005081df31734f339f27a2cfdc5bbd7b": {
          "model_module": "@jupyter-widgets/base",
          "model_name": "LayoutModel",
          "model_module_version": "1.2.0",
          "state": {
            "_model_module": "@jupyter-widgets/base",
            "_model_module_version": "1.2.0",
            "_model_name": "LayoutModel",
            "_view_count": null,
            "_view_module": "@jupyter-widgets/base",
            "_view_module_version": "1.2.0",
            "_view_name": "LayoutView",
            "align_content": null,
            "align_items": null,
            "align_self": null,
            "border": null,
            "bottom": null,
            "display": null,
            "flex": null,
            "flex_flow": null,
            "grid_area": null,
            "grid_auto_columns": null,
            "grid_auto_flow": null,
            "grid_auto_rows": null,
            "grid_column": null,
            "grid_gap": null,
            "grid_row": null,
            "grid_template_areas": null,
            "grid_template_columns": null,
            "grid_template_rows": null,
            "height": null,
            "justify_content": null,
            "justify_items": null,
            "left": null,
            "margin": null,
            "max_height": null,
            "max_width": null,
            "min_height": null,
            "min_width": null,
            "object_fit": null,
            "object_position": null,
            "order": null,
            "overflow": null,
            "overflow_x": null,
            "overflow_y": null,
            "padding": null,
            "right": null,
            "top": null,
            "visibility": null,
            "width": null
          }
        },
        "ff0b2ee55bd7498fa678037a739f0ba0": {
          "model_module": "@jupyter-widgets/base",
          "model_name": "LayoutModel",
          "model_module_version": "1.2.0",
          "state": {
            "_model_module": "@jupyter-widgets/base",
            "_model_module_version": "1.2.0",
            "_model_name": "LayoutModel",
            "_view_count": null,
            "_view_module": "@jupyter-widgets/base",
            "_view_module_version": "1.2.0",
            "_view_name": "LayoutView",
            "align_content": null,
            "align_items": null,
            "align_self": null,
            "border": null,
            "bottom": null,
            "display": null,
            "flex": null,
            "flex_flow": null,
            "grid_area": null,
            "grid_auto_columns": null,
            "grid_auto_flow": null,
            "grid_auto_rows": null,
            "grid_column": null,
            "grid_gap": null,
            "grid_row": null,
            "grid_template_areas": null,
            "grid_template_columns": null,
            "grid_template_rows": null,
            "height": null,
            "justify_content": null,
            "justify_items": null,
            "left": null,
            "margin": null,
            "max_height": null,
            "max_width": null,
            "min_height": null,
            "min_width": null,
            "object_fit": null,
            "object_position": null,
            "order": null,
            "overflow": null,
            "overflow_x": null,
            "overflow_y": null,
            "padding": null,
            "right": null,
            "top": null,
            "visibility": null,
            "width": null
          }
        },
        "b3597ddadf744013a57d57379de4fbcd": {
          "model_module": "@jupyter-widgets/controls",
          "model_name": "DescriptionStyleModel",
          "model_module_version": "1.5.0",
          "state": {
            "_model_module": "@jupyter-widgets/controls",
            "_model_module_version": "1.5.0",
            "_model_name": "DescriptionStyleModel",
            "_view_count": null,
            "_view_module": "@jupyter-widgets/base",
            "_view_module_version": "1.2.0",
            "_view_name": "StyleView",
            "description_width": ""
          }
        },
        "e53d29a2b70f4e669a363e5d47846c47": {
          "model_module": "@jupyter-widgets/base",
          "model_name": "LayoutModel",
          "model_module_version": "1.2.0",
          "state": {
            "_model_module": "@jupyter-widgets/base",
            "_model_module_version": "1.2.0",
            "_model_name": "LayoutModel",
            "_view_count": null,
            "_view_module": "@jupyter-widgets/base",
            "_view_module_version": "1.2.0",
            "_view_name": "LayoutView",
            "align_content": null,
            "align_items": null,
            "align_self": null,
            "border": null,
            "bottom": null,
            "display": null,
            "flex": null,
            "flex_flow": null,
            "grid_area": null,
            "grid_auto_columns": null,
            "grid_auto_flow": null,
            "grid_auto_rows": null,
            "grid_column": null,
            "grid_gap": null,
            "grid_row": null,
            "grid_template_areas": null,
            "grid_template_columns": null,
            "grid_template_rows": null,
            "height": null,
            "justify_content": null,
            "justify_items": null,
            "left": null,
            "margin": null,
            "max_height": null,
            "max_width": null,
            "min_height": null,
            "min_width": null,
            "object_fit": null,
            "object_position": null,
            "order": null,
            "overflow": null,
            "overflow_x": null,
            "overflow_y": null,
            "padding": null,
            "right": null,
            "top": null,
            "visibility": null,
            "width": null
          }
        },
        "8e35d9fa7a2148c3bedfb4688a15be40": {
          "model_module": "@jupyter-widgets/controls",
          "model_name": "ProgressStyleModel",
          "model_module_version": "1.5.0",
          "state": {
            "_model_module": "@jupyter-widgets/controls",
            "_model_module_version": "1.5.0",
            "_model_name": "ProgressStyleModel",
            "_view_count": null,
            "_view_module": "@jupyter-widgets/base",
            "_view_module_version": "1.2.0",
            "_view_name": "StyleView",
            "bar_color": null,
            "description_width": ""
          }
        },
        "8d7c5fa6631f42eab7e48f2927758623": {
          "model_module": "@jupyter-widgets/base",
          "model_name": "LayoutModel",
          "model_module_version": "1.2.0",
          "state": {
            "_model_module": "@jupyter-widgets/base",
            "_model_module_version": "1.2.0",
            "_model_name": "LayoutModel",
            "_view_count": null,
            "_view_module": "@jupyter-widgets/base",
            "_view_module_version": "1.2.0",
            "_view_name": "LayoutView",
            "align_content": null,
            "align_items": null,
            "align_self": null,
            "border": null,
            "bottom": null,
            "display": null,
            "flex": null,
            "flex_flow": null,
            "grid_area": null,
            "grid_auto_columns": null,
            "grid_auto_flow": null,
            "grid_auto_rows": null,
            "grid_column": null,
            "grid_gap": null,
            "grid_row": null,
            "grid_template_areas": null,
            "grid_template_columns": null,
            "grid_template_rows": null,
            "height": null,
            "justify_content": null,
            "justify_items": null,
            "left": null,
            "margin": null,
            "max_height": null,
            "max_width": null,
            "min_height": null,
            "min_width": null,
            "object_fit": null,
            "object_position": null,
            "order": null,
            "overflow": null,
            "overflow_x": null,
            "overflow_y": null,
            "padding": null,
            "right": null,
            "top": null,
            "visibility": null,
            "width": null
          }
        },
        "bb85d99a12314c65b82ca58207606bac": {
          "model_module": "@jupyter-widgets/controls",
          "model_name": "DescriptionStyleModel",
          "model_module_version": "1.5.0",
          "state": {
            "_model_module": "@jupyter-widgets/controls",
            "_model_module_version": "1.5.0",
            "_model_name": "DescriptionStyleModel",
            "_view_count": null,
            "_view_module": "@jupyter-widgets/base",
            "_view_module_version": "1.2.0",
            "_view_name": "StyleView",
            "description_width": ""
          }
        }
      }
    }
  },
  "nbformat": 4,
  "nbformat_minor": 0
}