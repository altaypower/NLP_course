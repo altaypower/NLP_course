{
 "cells": [
  {
   "cell_type": "markdown",
   "metadata": {
    "id": "zjJ-uavA0oQC"
   },
   "source": [
    "## Убираю из корпуса не важные слова, которые имеют высокую метрику в кластерах"
   ]
  },
  {
   "cell_type": "code",
   "execution_count": 16,
   "metadata": {
    "id": "kiOTFwkG0oQG"
   },
   "outputs": [
    {
     "name": "stderr",
     "output_type": "stream",
     "text": [
      "/home/fn/anaconda3/lib/python3.8/site-packages/ipykernel/ipkernel.py:287: DeprecationWarning: `should_run_async` will not call `transform_cell` automatically in the future. Please pass the result to `transformed_cell` argument and any exception that happen during thetransform in `preprocessing_exc_tuple` in IPython 7.17 and above.\n",
      "  and should_run_async(code)\n"
     ]
    }
   ],
   "source": [
    "import requests\n",
    "import pandas as pd\n",
    "from bs4 import BeautifulSoup \n",
    "import time\n",
    "from urllib.parse import urlparse, urljoin\n",
    "from tqdm.notebook import tqdm"
   ]
  },
  {
   "cell_type": "code",
   "execution_count": null,
   "metadata": {
    "colab": {
     "base_uri": "https://localhost:8080/"
    },
    "id": "Pgk0rPcBqlq_",
    "outputId": "8ab893be-4d7e-4c1d-f848-468517e4305b"
   },
   "outputs": [
    {
     "name": "stdout",
     "output_type": "stream",
     "text": [
      "Mounted at /content/drive\n"
     ]
    }
   ],
   "source": [
    "from google.colab import drive\n",
    "drive.mount('/content/drive')"
   ]
  },
  {
   "cell_type": "code",
   "execution_count": 18,
   "metadata": {},
   "outputs": [
    {
     "name": "stderr",
     "output_type": "stream",
     "text": [
      "/home/fn/anaconda3/lib/python3.8/site-packages/ipykernel/ipkernel.py:287: DeprecationWarning: `should_run_async` will not call `transform_cell` automatically in the future. Please pass the result to `transformed_cell` argument and any exception that happen during thetransform in `preprocessing_exc_tuple` in IPython 7.17 and above.\n",
      "  and should_run_async(code)\n"
     ]
    }
   ],
   "source": [
    "df = pd.read_csv('/content/drive/MyDrive/Colab Notebooks/questions.csv')"
   ]
  },
  {
   "cell_type": "code",
   "execution_count": 19,
   "metadata": {
    "colab": {
     "base_uri": "https://localhost:8080/"
    },
    "id": "ACn-IPlg0oQK",
    "outputId": "6133dbac-2415-4b93-991c-ff6f184a58f7"
   },
   "outputs": [
    {
     "name": "stderr",
     "output_type": "stream",
     "text": [
      "/home/fn/anaconda3/lib/python3.8/site-packages/ipykernel/ipkernel.py:287: DeprecationWarning: `should_run_async` will not call `transform_cell` automatically in the future. Please pass the result to `transformed_cell` argument and any exception that happen during thetransform in `preprocessing_exc_tuple` in IPython 7.17 and above.\n",
      "  and should_run_async(code)\n"
     ]
    },
    {
     "data": {
      "text/plain": [
       "(1927, 1)"
      ]
     },
     "execution_count": 19,
     "metadata": {},
     "output_type": "execute_result"
    }
   ],
   "source": [
    "df.shape"
   ]
  },
  {
   "cell_type": "code",
   "execution_count": 20,
   "metadata": {
    "id": "XqIVjZzW0oQL"
   },
   "outputs": [
    {
     "name": "stdout",
     "output_type": "stream",
     "text": [
      "<class 'pandas.core.frame.DataFrame'>\n",
      "RangeIndex: 1927 entries, 0 to 1926\n",
      "Data columns (total 1 columns):\n",
      " #   Column     Non-Null Count  Dtype \n",
      "---  ------     --------------  ----- \n",
      " 0   questions  1927 non-null   object\n",
      "dtypes: object(1)\n",
      "memory usage: 15.2+ KB\n"
     ]
    },
    {
     "name": "stderr",
     "output_type": "stream",
     "text": [
      "/home/fn/anaconda3/lib/python3.8/site-packages/ipykernel/ipkernel.py:287: DeprecationWarning: `should_run_async` will not call `transform_cell` automatically in the future. Please pass the result to `transformed_cell` argument and any exception that happen during thetransform in `preprocessing_exc_tuple` in IPython 7.17 and above.\n",
      "  and should_run_async(code)\n"
     ]
    }
   ],
   "source": [
    "df.info()"
   ]
  },
  {
   "cell_type": "markdown",
   "metadata": {
    "id": "d58rpBZi0oQL"
   },
   "source": [
    "# ПРЕДОБРАБОТКА"
   ]
  },
  {
   "cell_type": "code",
   "execution_count": 1,
   "metadata": {
    "id": "4vWa7Mc90oQL"
   },
   "outputs": [],
   "source": [
    "import re\n",
    "import numpy as np\n",
    "from nltk.corpus import stopwords\n",
    "from tqdm.notebook import tqdm\n",
    "from multiprocessing import Pool\n",
    "from pymystem3 import Mystem"
   ]
  },
  {
   "cell_type": "code",
   "execution_count": 2,
   "metadata": {
    "colab": {
     "base_uri": "https://localhost:8080/"
    },
    "id": "TnDyhaKs0oQM",
    "outputId": "7ed29019-3e3e-4b07-d531-ff0479a30891"
   },
   "outputs": [
    {
     "name": "stderr",
     "output_type": "stream",
     "text": [
      "[nltk_data] Downloading package stopwords to /home/fn/nltk_data...\n",
      "[nltk_data]   Package stopwords is already up-to-date!\n"
     ]
    },
    {
     "data": {
      "text/plain": [
       "True"
      ]
     },
     "execution_count": 2,
     "metadata": {},
     "output_type": "execute_result"
    }
   ],
   "source": [
    "import nltk\n",
    "nltk.download('stopwords')"
   ]
  },
  {
   "cell_type": "code",
   "execution_count": 3,
   "metadata": {
    "colab": {
     "base_uri": "https://localhost:8080/"
    },
    "id": "811CF6Kc0oQM",
    "outputId": "4e449f7f-6477-4b8f-ff75-905e647dc5d7"
   },
   "outputs": [
    {
     "name": "stdout",
     "output_type": "stream",
     "text": [
      "Requirement already satisfied: pymorphy2 in /home/fn/anaconda3/lib/python3.8/site-packages (0.9.1)\n",
      "Requirement already satisfied: pymorphy2-dicts-ru<3.0,>=2.4 in /home/fn/anaconda3/lib/python3.8/site-packages (from pymorphy2) (2.4.417127.4579844)\n",
      "Requirement already satisfied: docopt>=0.6 in /home/fn/anaconda3/lib/python3.8/site-packages (from pymorphy2) (0.6.2)\n",
      "Requirement already satisfied: dawg-python>=0.7.1 in /home/fn/anaconda3/lib/python3.8/site-packages (from pymorphy2) (0.7.2)\n",
      "\u001b[33mWARNING: You are using pip version 22.0.4; however, version 22.1.2 is available.\n",
      "You should consider upgrading via the '/home/fn/anaconda3/bin/python -m pip install --upgrade pip' command.\u001b[0m\u001b[33m\n",
      "\u001b[0m"
     ]
    }
   ],
   "source": [
    "! pip install pymorphy2"
   ]
  },
  {
   "cell_type": "code",
   "execution_count": 4,
   "metadata": {
    "id": "m12dW4Fb0oQM"
   },
   "outputs": [],
   "source": [
    "import pymorphy2\n",
    "morph = pymorphy2.MorphAnalyzer()"
   ]
  },
  {
   "cell_type": "code",
   "execution_count": 5,
   "metadata": {
    "id": "WyWZ_JDP0oQM"
   },
   "outputs": [],
   "source": [
    "words_regex = re.compile('\\w+')\n",
    "\n",
    "def find_words(text, regex = words_regex):\n",
    "    tokens =  regex.findall(text.lower())\n",
    "    return [w for w in tokens if w.isalpha() and len(w) >= 3]\n",
    "\n",
    "\n",
    "stopwords_list = stopwords.words('russian')\n",
    "\n",
    "def lemmatize(words, lemmer = morph, stopwords = stopwords_list):\n",
    "    lemmas = [lemmer.parse(w)[0].normal_form for w in words]\n",
    "    return [w for w in lemmas if not w in stopwords \n",
    "            and w.isalpha()]\n",
    "\n",
    "def preprocess(text):\n",
    "    return (lemmatize(find_words(text)))"
   ]
  },
  {
   "cell_type": "code",
   "execution_count": 6,
   "metadata": {
    "colab": {
     "base_uri": "https://localhost:8080/"
    },
    "id": "ks_6Gj9S0oQO",
    "outputId": "528e7f9b-35f8-46af-db79-df29998e7b8a"
   },
   "outputs": [
    {
     "name": "stdout",
     "output_type": "stream",
     "text": [
      "Requirement already satisfied: gensim in /home/fn/anaconda3/lib/python3.8/site-packages (4.2.0)\n",
      "Requirement already satisfied: numpy>=1.17.0 in /home/fn/anaconda3/lib/python3.8/site-packages (from gensim) (1.20.3)\n",
      "Requirement already satisfied: scipy>=0.18.1 in /home/fn/anaconda3/lib/python3.8/site-packages (from gensim) (1.7.1)\n",
      "Requirement already satisfied: smart-open>=1.8.1 in /home/fn/anaconda3/lib/python3.8/site-packages (from gensim) (5.2.0)\n",
      "\u001b[33mWARNING: You are using pip version 22.0.4; however, version 22.1.2 is available.\n",
      "You should consider upgrading via the '/home/fn/anaconda3/bin/python -m pip install --upgrade pip' command.\u001b[0m\u001b[33m\n",
      "\u001b[0m"
     ]
    }
   ],
   "source": [
    "!pip install -U gensim"
   ]
  },
  {
   "cell_type": "code",
   "execution_count": 7,
   "metadata": {
    "id": "9bBHVEQ10oQO"
   },
   "outputs": [],
   "source": [
    "from gensim.models import *\n",
    "from gensim import corpora"
   ]
  },
  {
   "cell_type": "code",
   "execution_count": 8,
   "metadata": {
    "colab": {
     "base_uri": "https://localhost:8080/"
    },
    "id": "9TRNqqMi0oQP",
    "outputId": "3e8c2bfc-627e-4823-d9ac-225bdd2c62d2"
   },
   "outputs": [
    {
     "name": "stdout",
     "output_type": "stream",
     "text": [
      "Requirement already satisfied: pyLDAvis in /home/fn/anaconda3/lib/python3.8/site-packages (3.3.1)\n",
      "Requirement already satisfied: funcy in /home/fn/anaconda3/lib/python3.8/site-packages (from pyLDAvis) (1.17)\n",
      "Requirement already satisfied: numpy>=1.20.0 in /home/fn/anaconda3/lib/python3.8/site-packages (from pyLDAvis) (1.20.3)\n",
      "Requirement already satisfied: sklearn in /home/fn/anaconda3/lib/python3.8/site-packages (from pyLDAvis) (0.0)\n",
      "Requirement already satisfied: joblib in /home/fn/anaconda3/lib/python3.8/site-packages (from pyLDAvis) (1.0.1)\n",
      "Requirement already satisfied: jinja2 in /home/fn/anaconda3/lib/python3.8/site-packages (from pyLDAvis) (2.11.2)\n",
      "Requirement already satisfied: setuptools in /home/fn/anaconda3/lib/python3.8/site-packages (from pyLDAvis) (58.0.4)\n",
      "Requirement already satisfied: scipy in /home/fn/anaconda3/lib/python3.8/site-packages (from pyLDAvis) (1.7.1)\n",
      "Requirement already satisfied: scikit-learn in /home/fn/anaconda3/lib/python3.8/site-packages (from pyLDAvis) (0.24.2)\n",
      "Requirement already satisfied: gensim in /home/fn/anaconda3/lib/python3.8/site-packages (from pyLDAvis) (4.2.0)\n",
      "Requirement already satisfied: future in /home/fn/anaconda3/lib/python3.8/site-packages (from pyLDAvis) (0.18.2)\n",
      "Requirement already satisfied: numexpr in /home/fn/anaconda3/lib/python3.8/site-packages (from pyLDAvis) (2.7.1)\n",
      "Requirement already satisfied: pandas>=1.2.0 in /home/fn/anaconda3/lib/python3.8/site-packages (from pyLDAvis) (1.3.2)\n",
      "Requirement already satisfied: pytz>=2017.3 in /home/fn/anaconda3/lib/python3.8/site-packages (from pandas>=1.2.0->pyLDAvis) (2021.1)\n",
      "Requirement already satisfied: python-dateutil>=2.7.3 in /home/fn/anaconda3/lib/python3.8/site-packages (from pandas>=1.2.0->pyLDAvis) (2.8.2)\n",
      "Requirement already satisfied: smart-open>=1.8.1 in /home/fn/anaconda3/lib/python3.8/site-packages (from gensim->pyLDAvis) (5.2.0)\n",
      "Requirement already satisfied: MarkupSafe>=0.23 in /home/fn/anaconda3/lib/python3.8/site-packages (from jinja2->pyLDAvis) (1.1.1)\n",
      "Requirement already satisfied: threadpoolctl>=2.0.0 in /home/fn/anaconda3/lib/python3.8/site-packages (from scikit-learn->pyLDAvis) (2.2.0)\n",
      "Requirement already satisfied: six>=1.5 in /home/fn/anaconda3/lib/python3.8/site-packages (from python-dateutil>=2.7.3->pandas>=1.2.0->pyLDAvis) (1.16.0)\n",
      "\u001b[33mWARNING: You are using pip version 22.0.4; however, version 22.1.2 is available.\n",
      "You should consider upgrading via the '/home/fn/anaconda3/bin/python -m pip install --upgrade pip' command.\u001b[0m\u001b[33m\n",
      "\u001b[0m"
     ]
    }
   ],
   "source": [
    "!pip install pyLDAvis"
   ]
  },
  {
   "cell_type": "code",
   "execution_count": 9,
   "metadata": {
    "colab": {
     "base_uri": "https://localhost:8080/"
    },
    "id": "33zZgYtk0oQQ",
    "outputId": "cfb78494-9b62-40b6-d884-003249f246cc"
   },
   "outputs": [],
   "source": [
    "import pyLDAvis\n",
    "import pyLDAvis.gensim_models as gensimvis"
   ]
  },
  {
   "cell_type": "code",
   "execution_count": 10,
   "metadata": {
    "id": "SY_6ID2Q0oQR"
   },
   "outputs": [
    {
     "name": "stderr",
     "output_type": "stream",
     "text": [
      "/home/fn/anaconda3/lib/python3.8/site-packages/ipykernel/ipkernel.py:287: DeprecationWarning: `should_run_async` will not call `transform_cell` automatically in the future. Please pass the result to `transformed_cell` argument and any exception that happen during thetransform in `preprocessing_exc_tuple` in IPython 7.17 and above.\n",
      "  and should_run_async(code)\n"
     ]
    }
   ],
   "source": [
    "import matplotlib.pyplot as plt\n",
    "%matplotlib inline"
   ]
  },
  {
   "cell_type": "markdown",
   "metadata": {
    "id": "8gNQ8Mkb0oQS"
   },
   "source": [
    "Удалю из корпуса неинформативные слова."
   ]
  },
  {
   "cell_type": "code",
   "execution_count": 11,
   "metadata": {
    "id": "-ze-y_mN0oQS"
   },
   "outputs": [
    {
     "name": "stderr",
     "output_type": "stream",
     "text": [
      "/home/fn/anaconda3/lib/python3.8/site-packages/ipykernel/ipkernel.py:287: DeprecationWarning: `should_run_async` will not call `transform_cell` automatically in the future. Please pass the result to `transformed_cell` argument and any exception that happen during thetransform in `preprocessing_exc_tuple` in IPython 7.17 and above.\n",
      "  and should_run_async(code)\n"
     ]
    }
   ],
   "source": [
    "my_stop_words = ['добрый', 'день', 'утро', 'май', 'это', 'сказать', 'всё', 'свой', 'который', 'мочь', 'ещё', 'свой', 'иметь', 'основание', 'являться', 'указанный', 'просить', \n",
    "                 'провести', 'который', 'уточнить', 'выполнять', 'выполнить', 'пора', 'сей', 'год', 'октябрь', 'период', 'почему', 'снова', 'время', 'спасибо', 'действие' \n",
    "                'неделя', 'назад', 'направить', 'однако', 'ноябрь', 'дать', 'здравствуйте', 'вопрос', 'день', 'получить', 'данный', 'декабрь', 'установленный', 'москва',\n",
    "                'сегодня', 'пожалуйста', 'поступить', 'московский', 'кроме', 'согласно', 'первый', 'второй', 'хотя', \"находиться\", 'должный', 'петербург', 'санкт']"
   ]
  },
  {
   "cell_type": "code",
   "execution_count": 12,
   "metadata": {
    "colab": {
     "base_uri": "https://localhost:8080/"
    },
    "id": "MEHTz8Um0oQS",
    "outputId": "2c00a8fa-135b-4e9c-ff55-4fe8bf8c34d2"
   },
   "outputs": [
    {
     "name": "stderr",
     "output_type": "stream",
     "text": [
      "/home/fn/anaconda3/lib/python3.8/site-packages/ipykernel/ipkernel.py:287: DeprecationWarning: `should_run_async` will not call `transform_cell` automatically in the future. Please pass the result to `transformed_cell` argument and any exception that happen during thetransform in `preprocessing_exc_tuple` in IPython 7.17 and above.\n",
      "  and should_run_async(code)\n"
     ]
    },
    {
     "data": {
      "text/plain": [
       "['здравствуйте',\n",
       " 'хотя',\n",
       " 'санкт',\n",
       " 'просить',\n",
       " 'добрый',\n",
       " 'который',\n",
       " 'май',\n",
       " 'ноябрь',\n",
       " 'дать',\n",
       " 'получить',\n",
       " 'пожалуйста',\n",
       " 'сегодня',\n",
       " 'поступить',\n",
       " 'уточнить',\n",
       " 'свой',\n",
       " 'основание',\n",
       " 'являться',\n",
       " 'однако',\n",
       " 'московский',\n",
       " 'всё',\n",
       " 'мочь',\n",
       " 'находиться',\n",
       " 'время',\n",
       " 'это',\n",
       " 'сказать',\n",
       " 'снова',\n",
       " 'пора',\n",
       " 'утро',\n",
       " 'выполнить',\n",
       " 'согласно',\n",
       " 'первый',\n",
       " 'петербург',\n",
       " 'спасибо',\n",
       " 'сей',\n",
       " 'второй',\n",
       " 'направить',\n",
       " 'почему',\n",
       " 'москва',\n",
       " 'провести',\n",
       " 'октябрь',\n",
       " 'действиенеделя',\n",
       " 'ещё',\n",
       " 'должный',\n",
       " 'данный',\n",
       " 'период',\n",
       " 'иметь',\n",
       " 'назад',\n",
       " 'указанный',\n",
       " 'вопрос',\n",
       " 'выполнять',\n",
       " 'декабрь',\n",
       " 'год',\n",
       " 'день',\n",
       " 'установленный',\n",
       " 'кроме']"
      ]
     },
     "execution_count": 12,
     "metadata": {},
     "output_type": "execute_result"
    }
   ],
   "source": [
    "my_stop_words = list(set(my_stop_words))\n",
    "my_stop_words"
   ]
  },
  {
   "cell_type": "code",
   "execution_count": 13,
   "metadata": {
    "id": "MR10T4yM0oQS"
   },
   "outputs": [
    {
     "name": "stderr",
     "output_type": "stream",
     "text": [
      "/home/fn/anaconda3/lib/python3.8/site-packages/ipykernel/ipkernel.py:287: DeprecationWarning: `should_run_async` will not call `transform_cell` automatically in the future. Please pass the result to `transformed_cell` argument and any exception that happen during thetransform in `preprocessing_exc_tuple` in IPython 7.17 and above.\n",
      "  and should_run_async(code)\n"
     ]
    }
   ],
   "source": [
    "stopwords_list += my_stop_words"
   ]
  },
  {
   "cell_type": "code",
   "execution_count": 14,
   "metadata": {
    "id": "vgLJD_Ed0oQT"
   },
   "outputs": [
    {
     "name": "stderr",
     "output_type": "stream",
     "text": [
      "/home/fn/anaconda3/lib/python3.8/site-packages/ipykernel/ipkernel.py:287: DeprecationWarning: `should_run_async` will not call `transform_cell` automatically in the future. Please pass the result to `transformed_cell` argument and any exception that happen during thetransform in `preprocessing_exc_tuple` in IPython 7.17 and above.\n",
      "  and should_run_async(code)\n"
     ]
    }
   ],
   "source": [
    "def lemmatize(words, lemmer = morph, stopwords = stopwords_list):\n",
    "    lemmas = [lemmer.parse(w)[0].normal_form for w in words]\n",
    "    return [w for w in lemmas if not w in stopwords \n",
    "            and w.isalpha()]\n",
    "\n",
    "def preprocess(text):\n",
    "    return (lemmatize(find_words(text)))"
   ]
  },
  {
   "cell_type": "code",
   "execution_count": 21,
   "metadata": {
    "colab": {
     "base_uri": "https://localhost:8080/",
     "height": 49,
     "referenced_widgets": [
      "7238640b64b945f7839b0f4eea594c43",
      "39c8b98ebaa543cb981b70e63eeea0df",
      "ee625bca78554458b296e174fbf35f63",
      "6fc16f172db14a0c9cf7b770ba82d30d",
      "fe3ff1670c494912a2a658fafa5f38ba",
      "9a92368b20a04f128f41f4779c086e3a",
      "354622ae18ca4af292a70f8e09e425a0",
      "ab9b985d94544ba0a047a6275676a2c7",
      "677eb56583194ab8a1ffc936a4c2fd85",
      "95b80bcb074c4946be74432e4b41e8b2",
      "aea4be47aa07464bbf1ae6ba91a7a88b"
     ]
    },
    "id": "tjtAjIO20oQT",
    "outputId": "240c2a25-0083-4aae-f383-07a6960c5515"
   },
   "outputs": [
    {
     "name": "stderr",
     "output_type": "stream",
     "text": [
      "/home/fn/anaconda3/lib/python3.8/site-packages/ipykernel/ipkernel.py:287: DeprecationWarning: `should_run_async` will not call `transform_cell` automatically in the future. Please pass the result to `transformed_cell` argument and any exception that happen during thetransform in `preprocessing_exc_tuple` in IPython 7.17 and above.\n",
      "  and should_run_async(code)\n"
     ]
    },
    {
     "data": {
      "application/vnd.jupyter.widget-view+json": {
       "model_id": "64149341d4a04bd987eac11130a249bf",
       "version_major": 2,
       "version_minor": 0
      },
      "text/plain": [
       "  0%|          | 0/1927 [00:00<?, ?it/s]"
      ]
     },
     "metadata": {},
     "output_type": "display_data"
    }
   ],
   "source": [
    "df['questions_new'] = list(tqdm(map(preprocess, df['questions']), total=len(df)))"
   ]
  },
  {
   "cell_type": "code",
   "execution_count": 22,
   "metadata": {
    "colab": {
     "base_uri": "https://localhost:8080/"
    },
    "id": "jWDncQCu0oQT",
    "outputId": "a47c22e1-8121-4d61-da18-0eaf30713572"
   },
   "outputs": [
    {
     "name": "stderr",
     "output_type": "stream",
     "text": [
      "/home/fn/anaconda3/lib/python3.8/site-packages/ipykernel/ipkernel.py:287: DeprecationWarning: `should_run_async` will not call `transform_cell` automatically in the future. Please pass the result to `transformed_cell` argument and any exception that happen during thetransform in `preprocessing_exc_tuple` in IPython 7.17 and above.\n",
      "  and should_run_async(code)\n"
     ]
    },
    {
     "data": {
      "text/plain": [
       "0       [купить, наушник, течение, гарантийный, срок, ...\n",
       "1       [ребёнок, дол, кировский, область, код, менее,...\n",
       "2       [посещать, фитнес, клуб, абонемент, вход, осущ...\n",
       "3       [исаченков, фёдор, михаилович, заявление, исач...\n",
       "4       [проживать, краснодарский, край, крымский, рай...\n",
       "                              ...                        \n",
       "1922    [месяц, приобрести, лак, ноготь, торговый, цен...\n",
       "1923    [законный, отказ, магазин, продавать, товар, м...\n",
       "1924    [приобрести, товар, интернет, магазин, wildber...\n",
       "1925    [пенсионер, приехать, бесплатный, консультация...\n",
       "1926    [заказывать, площадка, сбермегамаркет, товар, ...\n",
       "Name: questions_new, Length: 1927, dtype: object"
      ]
     },
     "execution_count": 22,
     "metadata": {},
     "output_type": "execute_result"
    }
   ],
   "source": [
    "df['questions_new']"
   ]
  },
  {
   "cell_type": "code",
   "execution_count": 23,
   "metadata": {
    "id": "AofjarMm0oQT"
   },
   "outputs": [
    {
     "name": "stderr",
     "output_type": "stream",
     "text": [
      "/home/fn/anaconda3/lib/python3.8/site-packages/ipykernel/ipkernel.py:287: DeprecationWarning: `should_run_async` will not call `transform_cell` automatically in the future. Please pass the result to `transformed_cell` argument and any exception that happen during thetransform in `preprocessing_exc_tuple` in IPython 7.17 and above.\n",
      "  and should_run_async(code)\n"
     ]
    }
   ],
   "source": [
    "dictionary = corpora.Dictionary(df['questions_new'])\n",
    "\n",
    "dictionary.filter_extremes(no_below = 10, no_above = 0.9, keep_n=None) # игнорируем слова, которые встречаются реже 10 раз или составляют более 0.9 словаря \n",
    "# dictionary.save('rospotrebnadzor.dict')"
   ]
  },
  {
   "cell_type": "code",
   "execution_count": 24,
   "metadata": {
    "id": "o0MnfcIn0oQV"
   },
   "outputs": [
    {
     "name": "stderr",
     "output_type": "stream",
     "text": [
      "/home/fn/anaconda3/lib/python3.8/site-packages/ipykernel/ipkernel.py:287: DeprecationWarning: `should_run_async` will not call `transform_cell` automatically in the future. Please pass the result to `transformed_cell` argument and any exception that happen during thetransform in `preprocessing_exc_tuple` in IPython 7.17 and above.\n",
      "  and should_run_async(code)\n"
     ]
    }
   ],
   "source": [
    "corpus = [dictionary.doc2bow(text) for text in df['questions_new']]\n",
    "# corpora.MmCorpus.serialize('rospotrebnadzor.model', corpus) "
   ]
  },
  {
   "cell_type": "code",
   "execution_count": 25,
   "metadata": {
    "colab": {
     "base_uri": "https://localhost:8080/"
    },
    "id": "4zVEEVcl0oQV",
    "outputId": "5688b667-d9e6-4604-badd-dc3f4ca103df"
   },
   "outputs": [
    {
     "name": "stderr",
     "output_type": "stream",
     "text": [
      "/home/fn/anaconda3/lib/python3.8/site-packages/ipykernel/ipkernel.py:287: DeprecationWarning: `should_run_async` will not call `transform_cell` automatically in the future. Please pass the result to `transformed_cell` argument and any exception that happen during thetransform in `preprocessing_exc_tuple` in IPython 7.17 and above.\n",
      "  and should_run_async(code)\n"
     ]
    },
    {
     "name": "stdout",
     "output_type": "stream",
     "text": [
      "CPU times: user 8 µs, sys: 0 ns, total: 8 µs\n",
      "Wall time: 15.5 µs\n"
     ]
    }
   ],
   "source": [
    "%time \n",
    "\n",
    "lda_15 = ldamodel.LdaModel(corpus, id2word=dictionary, num_topics=15, chunksize=50,\\\n",
    "                        update_every=1, passes=2)"
   ]
  },
  {
   "cell_type": "code",
   "execution_count": 26,
   "metadata": {
    "colab": {
     "base_uri": "https://localhost:8080/"
    },
    "id": "3b01sxU30oQV",
    "outputId": "a26e4d80-ab5f-44e5-b8de-e36a5873d079"
   },
   "outputs": [
    {
     "name": "stderr",
     "output_type": "stream",
     "text": [
      "/home/fn/anaconda3/lib/python3.8/site-packages/ipykernel/ipkernel.py:287: DeprecationWarning: `should_run_async` will not call `transform_cell` automatically in the future. Please pass the result to `transformed_cell` argument and any exception that happen during thetransform in `preprocessing_exc_tuple` in IPython 7.17 and above.\n",
      "  and should_run_async(code)\n"
     ]
    },
    {
     "data": {
      "text/plain": [
       "[(0,\n",
       "  '0.137*\"ребёнок\" + 0.047*\"детский\" + 0.045*\"родитель\" + 0.041*\"covid\" + 0.034*\"акт\" + 0.032*\"вакцинация\" + 0.029*\"сервисный\" + 0.029*\"организация\" + 0.029*\"сад\" + 0.025*\"пользоваться\" + 0.025*\"центр\" + 0.023*\"документ\"'),\n",
       " (1,\n",
       "  '0.177*\"вода\" + 0.080*\"работать\" + 0.075*\"запах\" + 0.057*\"температура\" + 0.051*\"качество\" + 0.034*\"медицинский\" + 0.033*\"последний\" + 0.030*\"привести\" + 0.028*\"химический\" + 0.026*\"след\" + 0.026*\"частично\" + 0.023*\"компенсация\"'),\n",
       " (2,\n",
       "  '0.076*\"компания\" + 0.050*\"личный\" + 0.046*\"связь\" + 0.044*\"кабинет\" + 0.037*\"срок\" + 0.033*\"отменить\" + 0.031*\"отношение\" + 0.031*\"помочь\" + 0.031*\"момент\" + 0.025*\"доставить\" + 0.022*\"новый\" + 0.019*\"писать\"'),\n",
       " (3,\n",
       "  '0.069*\"карта\" + 0.047*\"россия\" + 0.045*\"тест\" + 0.044*\"банк\" + 0.039*\"сообщение\" + 0.038*\"почта\" + 0.038*\"пцр\" + 0.030*\"результат\" + 0.027*\"посылка\" + 0.027*\"сдать\" + 0.024*\"телефон\" + 0.024*\"деньга\"'),\n",
       " (4,\n",
       "  '0.058*\"дом\" + 0.030*\"сообщить\" + 0.028*\"адрес\" + 0.024*\"принять\" + 0.024*\"мера\" + 0.024*\"наш\" + 0.023*\"город\" + 0.023*\"жалоба\" + 0.020*\"квартира\" + 0.020*\"требовать\" + 0.019*\"полный\" + 0.016*\"сторона\"'),\n",
       " (5,\n",
       "  '0.120*\"заказ\" + 0.052*\"доставка\" + 0.030*\"оплатить\" + 0.029*\"товар\" + 0.026*\"сайт\" + 0.022*\"говорить\" + 0.022*\"цена\" + 0.021*\"интернет\" + 0.020*\"оформить\" + 0.020*\"прийти\" + 0.018*\"сделать\" + 0.018*\"позвонить\"'),\n",
       " (6,\n",
       "  '0.078*\"средство\" + 0.075*\"возврат\" + 0.041*\"денежный\" + 0.021*\"заявление\" + 0.019*\"час\" + 0.018*\"обращение\" + 0.018*\"деньга\" + 0.018*\"рубль\" + 0.018*\"ждать\" + 0.016*\"сертификат\" + 0.015*\"билет\" + 0.014*\"вернуть\"'),\n",
       " (7,\n",
       "  '0.040*\"телефон\" + 0.031*\"сотрудник\" + 0.028*\"номер\" + 0.025*\"работа\" + 0.025*\"пункт\" + 0.023*\"ответ\" + 0.019*\"никакой\" + 0.019*\"звонить\" + 0.018*\"человек\" + 0.017*\"вообще\" + 0.015*\"весь\" + 0.015*\"адрес\"'),\n",
       " (8,\n",
       "  '0.130*\"маска\" + 0.082*\"режим\" + 0.077*\"салон\" + 0.061*\"система\" + 0.058*\"оформлять\" + 0.057*\"администратор\" + 0.055*\"пятёрочка\" + 0.049*\"мастер\" + 0.041*\"индивидуальный\" + 0.041*\"разъяснить\" + 0.037*\"носить\" + 0.033*\"обязательный\"'),\n",
       " (9,\n",
       "  '0.095*\"право\" + 0.069*\"потребитель\" + 0.058*\"защита\" + 0.047*\"закон\" + 0.042*\"услуга\" + 0.039*\"роспотребнадзор\" + 0.030*\"нарушить\" + 0.029*\"также\" + 0.023*\"статья\" + 0.022*\"нарушение\" + 0.022*\"отдел\" + 0.021*\"именно\"'),\n",
       " (10,\n",
       "  '0.131*\"товар\" + 0.103*\"магазин\" + 0.069*\"продавец\" + 0.032*\"возврат\" + 0.030*\"вернуть\" + 0.024*\"приобрести\" + 0.022*\"купить\" + 0.022*\"покупка\" + 0.016*\"ремонт\" + 0.016*\"интернет\" + 0.015*\"деньга\" + 0.015*\"отказать\"'),\n",
       " (11,\n",
       "  '0.184*\"договор\" + 0.061*\"сумма\" + 0.048*\"руб\" + 0.037*\"заключить\" + 0.035*\"иметься\" + 0.034*\"оплата\" + 0.031*\"обещать\" + 0.030*\"счёт\" + 0.028*\"конец\" + 0.026*\"оборудование\" + 0.023*\"оплатить\" + 0.021*\"кредитный\"'),\n",
       " (12,\n",
       "  '0.033*\"ооо\" + 0.032*\"организация\" + 0.029*\"правило\" + 0.028*\"постановление\" + 0.024*\"соответствие\" + 0.023*\"дом\" + 0.023*\"площадка\" + 0.020*\"данные\" + 0.020*\"адрес\" + 0.018*\"гражданин\" + 0.017*\"нарушение\" + 0.017*\"жилой\"'),\n",
       " (13,\n",
       "  '0.157*\"код\" + 0.120*\"область\" + 0.086*\"сервис\" + 0.068*\"переболеть\" + 0.064*\"обмен\" + 0.051*\"яндекс\" + 0.047*\"аэропорт\" + 0.045*\"писать\" + 0.044*\"помочь\" + 0.036*\"маркет\" + 0.023*\"кассир\" + 0.023*\"разобраться\"'),\n",
       " (14,\n",
       "  '0.029*\"услуга\" + 0.023*\"проблема\" + 0.022*\"решить\" + 0.021*\"месяц\" + 0.020*\"хотеть\" + 0.018*\"приложение\" + 0.018*\"сайт\" + 0.017*\"чек\" + 0.016*\"деньга\" + 0.016*\"делать\" + 0.016*\"машина\" + 0.015*\"https\"')]"
      ]
     },
     "execution_count": 26,
     "metadata": {},
     "output_type": "execute_result"
    }
   ],
   "source": [
    "lda_15.show_topics(num_topics=15, num_words=12, formatted=True)"
   ]
  },
  {
   "cell_type": "code",
   "execution_count": 27,
   "metadata": {
    "colab": {
     "base_uri": "https://localhost:8080/",
     "height": 934
    },
    "id": "cpjV6Umw0oQV",
    "outputId": "ef3c672b-e333-4250-9fac-a0268adc4a09"
   },
   "outputs": [
    {
     "name": "stderr",
     "output_type": "stream",
     "text": [
      "/home/fn/anaconda3/lib/python3.8/site-packages/ipykernel/ipkernel.py:287: DeprecationWarning: `should_run_async` will not call `transform_cell` automatically in the future. Please pass the result to `transformed_cell` argument and any exception that happen during thetransform in `preprocessing_exc_tuple` in IPython 7.17 and above.\n",
      "  and should_run_async(code)\n",
      "/home/fn/anaconda3/lib/python3.8/site-packages/pyLDAvis/_prepare.py:246: FutureWarning: In a future version of pandas all arguments of DataFrame.drop except for the argument 'labels' will be keyword-only\n",
      "  default_term_info = default_term_info.sort_values(\n"
     ]
    },
    {
     "name": "stdout",
     "output_type": "stream",
     "text": [
      "CPU times: user 1.14 s, sys: 259 ms, total: 1.4 s\n",
      "Wall time: 4.37 s\n"
     ]
    },
    {
     "data": {
      "text/html": [
       "\n",
       "<link rel=\"stylesheet\" type=\"text/css\" href=\"https://cdn.jsdelivr.net/gh/bmabey/pyLDAvis@3.3.1/pyLDAvis/js/ldavis.v1.0.0.css\">\n",
       "\n",
       "\n",
       "<div id=\"ldavis_el64641404684164900642139695653\"></div>\n",
       "<script type=\"text/javascript\">\n",
       "\n",
       "var ldavis_el64641404684164900642139695653_data = {\"mdsDat\": {\"x\": [-0.20379594470035758, -0.2118750198409321, -0.15359938211861912, 0.09326206052342983, -0.05199094245150141, -0.23451069179637563, 0.0954912002970826, -0.1260203998698702, -0.053581003703323374, 0.08906036179984875, 0.08559636901730079, 0.12266077890071951, 0.17604873322573908, 0.1785745057369585, 0.1946793749799003], \"y\": [0.04965868713166181, -0.0443379011300923, 0.025612911959229392, -0.015847990962168493, -0.11542163789190012, 0.08325996473505713, -0.29534876426470663, 0.07646385790866865, 0.02352232797305604, -0.2658681527123357, 0.07268875197993835, -0.039746124124929214, 0.16320307039617732, 0.15949116406283323, 0.12266983493951053], \"topics\": [1, 2, 3, 4, 5, 6, 7, 8, 9, 10, 11, 12, 13, 14, 15], \"cluster\": [1, 1, 1, 1, 1, 1, 1, 1, 1, 1, 1, 1, 1, 1, 1], \"Freq\": [13.33681723908336, 11.061471305891322, 10.427268704827966, 10.29261315290343, 9.716484772961206, 9.395465316800408, 7.217586647080941, 5.743943299285049, 5.240988229039777, 5.058549085378723, 4.184465376338692, 4.114954728857004, 1.675389194976704, 1.4467550546534214, 1.0872478919219988]}, \"tinfo\": {\"Term\": [\"\\u0442\\u043e\\u0432\\u0430\\u0440\", \"\\u0437\\u0430\\u043a\\u0430\\u0437\", \"\\u043c\\u0430\\u0433\\u0430\\u0437\\u0438\\u043d\", \"\\u0434\\u043e\\u0433\\u043e\\u0432\\u043e\\u0440\", \"\\u0432\\u043e\\u0437\\u0432\\u0440\\u0430\\u0442\", \"\\u0440\\u0435\\u0431\\u0451\\u043d\\u043e\\u043a\", \"\\u043f\\u0440\\u043e\\u0434\\u0430\\u0432\\u0435\\u0446\", \"\\u0441\\u0440\\u0435\\u0434\\u0441\\u0442\\u0432\\u043e\", \"\\u043f\\u0440\\u0430\\u0432\\u043e\", \"\\u0434\\u043e\\u043c\", \"\\u043a\\u043e\\u043c\\u043f\\u0430\\u043d\\u0438\\u044f\", \"\\u0432\\u043e\\u0434\\u0430\", \"\\u043a\\u0430\\u0440\\u0442\\u0430\", \"\\u0434\\u043e\\u0441\\u0442\\u0430\\u0432\\u043a\\u0430\", \"\\u043f\\u043e\\u0442\\u0440\\u0435\\u0431\\u0438\\u0442\\u0435\\u043b\\u044c\", \"\\u0443\\u0441\\u043b\\u0443\\u0433\\u0430\", \"\\u0441\\u0443\\u043c\\u043c\\u0430\", \"\\u043a\\u043e\\u0434\", \"\\u0434\\u0435\\u043d\\u0435\\u0436\\u043d\\u044b\\u0439\", \"\\u0440\\u0430\\u0431\\u043e\\u0442\\u0430\\u0442\\u044c\", \"\\u0442\\u0435\\u043b\\u0435\\u0444\\u043e\\u043d\", \"\\u0437\\u0430\\u0449\\u0438\\u0442\\u0430\", \"\\u043a\\u0430\\u0447\\u0435\\u0441\\u0442\\u0432\\u043e\", \"\\u0441\\u0432\\u044f\\u0437\\u044c\", \"\\u043e\\u0440\\u0433\\u0430\\u043d\\u0438\\u0437\\u0430\\u0446\\u0438\\u044f\", \"\\u043b\\u0438\\u0447\\u043d\\u044b\\u0439\", \"\\u0440\\u043e\\u0441\\u0441\\u0438\\u044f\", \"\\u043e\\u043f\\u043b\\u0430\\u0442\\u0438\\u0442\\u044c\", \"\\u043e\\u0431\\u043b\\u0430\\u0441\\u0442\\u044c\", \"\\u0442\\u0435\\u0441\\u0442\", \"\\u043f\\u0440\\u043e\\u0432\\u0435\\u0440\\u0438\\u0442\\u044c\", \"\\u0432\\u044b\\u0434\\u0430\\u0442\\u044c\", \"\\u0434\\u0438\\u0432\\u0430\\u043d\", \"\\u0430\\u043d\\u0430\\u043b\\u043e\\u0433\\u0438\\u0447\\u043d\\u044b\\u0439\", \"\\u0441\\u043e\\u0441\\u043b\\u0430\\u0442\\u044c\\u0441\\u044f\", \"\\u043e\\u0431\\u043c\\u0435\\u043d\\u044f\\u0442\\u044c\", \"\\u0432\\u0438\\u0434\\u0435\\u043e\", \"\\u043e\\u0441\\u0443\\u0449\\u0435\\u0441\\u0442\\u0432\\u0438\\u0442\\u044c\", \"\\u0431\\u0440\\u0430\\u043a\", \"\\u0432\\u043e\\u0437\\u0432\\u0440\\u0430\\u0442\\u0438\\u0442\\u044c\", \"\\u043d\\u0435\\u043d\\u0430\\u0434\\u043b\\u0435\\u0436\\u0430\\u0449\\u0438\\u0439\", \"\\u0443\\u043f\\u043b\\u0430\\u0442\\u0438\\u0442\\u044c\", \"\\u043f\\u043e\\u0434\\u043e\\u0439\\u0442\\u0438\", \"\\u0441\\u0430\\u043d\\u043f\\u0438\\u043d\", \"\\u043f\\u0440\\u0438\\u043b\\u043e\\u0436\\u0438\\u0442\\u044c\", \"\\u043f\\u0440\\u043e\\u0441\\u0440\\u043e\\u0447\\u0438\\u0442\\u044c\", \"\\u044d\\u043a\\u0441\\u043f\\u043b\\u0443\\u0430\\u0442\\u0430\\u0446\\u0438\\u044f\", \"\\u043e\\u0442\\u043a\\u0430\\u0437\\u044b\\u0432\\u0430\\u0442\\u044c\", \"\\u043f\\u0440\\u043e\\u0434\\u0430\\u0442\\u044c\", \"\\u043f\\u0440\\u0438\\u043e\\u0431\\u0440\\u0435\\u0441\\u0442\\u0438\", \"\\u043d\\u0435\\u043c\\u043e\\u0439\", \"\\u043f\\u0435\\u0440\\u0435\\u0447\\u0435\\u043d\\u044c\", \"\\u043f\\u0440\\u0435\\u0434\\u043f\\u0440\\u0438\\u043d\\u044f\\u0442\\u044c\", \"wildberries\", \"\\u0440\\u0430\\u0437\\u0440\\u0435\\u0448\\u0438\\u0442\\u044c\", \"\\u0432\\u0447\\u0435\\u0440\\u0430\", \"\\u043c\\u043e\\u0434\\u0435\\u043b\\u044c\", \"\\u0441\\u044b\\u043d\", \"\\u043f\\u043e\\u043c\\u0435\\u043d\\u044f\\u0442\\u044c\", \"\\u043f\\u0440\\u0435\\u0434\\u0443\\u0441\\u043c\\u043e\\u0442\\u0440\\u0435\\u0442\\u044c\", \"\\u043f\\u0440\\u043e\\u0434\\u0430\\u0432\\u0435\\u0446\", \"\\u043c\\u0430\\u0433\\u0430\\u0437\\u0438\\u043d\", \"\\u043f\\u043e\\u043a\\u0443\\u043f\\u043a\\u0430\", \"\\u0442\\u043e\\u0432\\u0430\\u0440\", \"\\u043e\\u0431\\u0440\\u0430\\u0442\\u043d\\u043e\", \"\\u043e\\u0431\\u043d\\u0430\\u0440\\u0443\\u0436\\u0438\\u0442\\u044c\", \"\\u0440\\u0430\\u0437\\u043c\\u0435\\u0440\", \"\\u043a\\u0443\\u043f\\u0438\\u0442\\u044c\", \"\\u043f\\u0440\\u043e\\u0434\\u0430\\u0436\\u0430\", \"\\u0440\\u0435\\u043c\\u043e\\u043d\\u0442\", \"\\u0437\\u0430\\u043a\\u0430\\u0437\\u0430\\u0442\\u044c\", \"\\u043e\\u0442\\u043a\\u0430\\u0437\\u0430\\u0442\\u044c\", \"\\u0432\\u0435\\u0440\\u043d\\u0443\\u0442\\u044c\", \"\\u043f\\u043e\\u043a\\u0443\\u043f\\u0430\\u0442\\u0435\\u043b\\u044c\", \"\\u0432\\u0438\\u0434\", \"\\u043a\\u0430\\u0447\\u0435\\u0441\\u0442\\u0432\\u043e\", \"\\u0438\\u043d\\u0442\\u0435\\u0440\\u043d\\u0435\\u0442\", \"\\u0432\\u043e\\u0437\\u0432\\u0440\\u0430\\u0442\", \"\\u043f\\u0440\\u0435\\u0442\\u0435\\u043d\\u0437\\u0438\\u044f\", \"\\u043f\\u043e\\u0434\\u0441\\u043a\\u0430\\u0437\\u0430\\u0442\\u044c\", \"\\u0441\\u0440\\u043e\\u043a\", \"\\u043d\\u0430\\u043b\\u0438\\u0447\\u0438\\u0435\", \"\\u0446\\u0435\\u043d\\u0442\\u0440\", \"\\u043e\\u0442\\u043f\\u0440\\u0430\\u0432\\u0438\\u0442\\u044c\", \"\\u0434\\u0435\\u043d\\u044c\\u0433\\u0430\", \"\\u043e\\u0442\\u043a\\u0430\\u0437\", \"\\u043d\\u0430\\u043f\\u0438\\u0441\\u0430\\u0442\\u044c\", \"\\u0436\\u0434\\u0430\\u0442\\u044c\", \"\\u0441\\u0435\\u0440\\u0442\\u0438\\u0444\\u0438\\u043a\\u0430\\u0442\", \"\\u0431\\u0438\\u043b\\u0435\\u0442\", \"\\u0442\\u043e\\u0440\\u0433\\u043e\\u0432\\u044b\\u0439\", \"\\u0434\\u0430\\u0442\\u0430\", \"\\u043f\\u0435\\u0440\\u0435\\u043d\\u0435\\u0441\\u0442\\u0438\", \"\\u043f\\u043e\\u0434\\u0430\\u0442\\u044c\", \"\\u043f\\u043e\\u044d\\u0442\\u043e\\u043c\\u0443\", \"\\u043a\\u043e\\u0432\\u0438\\u0434\", \"\\u043f\\u0440\\u043e\\u0434\\u0443\\u043a\\u0446\\u0438\\u044f\", \"\\u0441\\u0442\\u0440\\u0430\\u0445\\u043e\\u0432\\u043e\\u0439\", \"\\u043e\\u043d\\u043b\\u0430\\u0439\\u043d\", \"\\u043f\\u0440\\u043e\\u0434\\u0430\\u0432\\u0430\\u0442\\u044c\", \"\\u043c\\u0435\\u0440\\u043e\\u043f\\u0440\\u0438\\u044f\\u0442\\u0438\\u0435\", \"\\u043f\\u0440\\u043e\\u0438\\u0437\\u0432\\u043e\\u0434\\u0438\\u0442\\u0435\\u043b\\u044c\", \"\\u0441\\u043e\\u0431\\u0438\\u0440\\u0430\\u0442\\u044c\\u0441\\u044f\", \"\\u0441\\u043f\\u0443\\u0441\\u0442\\u044f\", \"\\u0432\\u0430\\u0440\\u0438\\u0430\\u043d\\u0442\", \"\\u0440\\u0435\\u0439\\u0441\", \"\\u0437\\u0430\\u0431\\u043e\\u043b\\u0435\\u0432\\u0430\\u043d\\u0438\\u0435\", \"\\u043f\\u043e\\u0434\\u0430\\u0440\\u043e\\u043a\", \"\\u0440\\u0430\\u0441\\u0442\\u043e\\u0440\\u0436\\u0435\\u043d\\u0438\\u0435\", \"\\u043a\\u043d\\u0438\\u0433\\u0430\", \"\\u0430\\u0432\\u0438\\u0430\\u043a\\u043e\\u043c\\u043f\\u0430\\u043d\\u0438\\u044f\", \"\\u043f\\u0440\\u0438\\u043a\\u0440\\u0435\\u043f\\u0438\\u0442\\u044c\", \"\\u0441\\u043e\\u0441\\u0442\\u0430\\u0432\", \"\\u043a\\u043e\\u043d\\u0446\\u0435\\u0440\\u0442\", \"\\u0432\\u044b\\u0441\\u043b\\u0430\\u0442\\u044c\", \"\\u043e\\u0436\\u0438\\u0434\\u0430\\u0442\\u044c\", \"\\u0438\\u044e\\u043d\\u044c\", \"\\u0434\\u0435\\u043d\\u0435\\u0436\\u043d\\u044b\\u0439\", \"\\u0441\\u0440\\u0435\\u0434\\u0441\\u0442\\u0432\\u043e\", \"\\u043e\\u0442\\u043c\\u0435\\u043d\\u0430\", \"\\u0447\\u0430\\u0441\", \"\\u0432\\u043e\\u0437\\u0432\\u0440\\u0430\\u0442\", \"\\u0437\\u0430\\u044f\\u0432\\u043b\\u0435\\u043d\\u0438\\u0435\", \"\\u043d\\u0430\\u0434\\u043b\\u0435\\u0436\\u0430\\u0449\\u0438\\u0439\", \"\\u0440\\u0443\\u0431\\u043b\\u044c\", \"\\u043f\\u0440\\u0438\\u0441\\u043b\\u0430\\u0442\\u044c\", \"\\u043e\\u0431\\u0440\\u0430\\u0449\\u0435\\u043d\\u0438\\u0435\", \"\\u0442\\u0435\\u0447\\u0435\\u043d\\u0438\\u0435\", \"\\u044d\\u043b\\u0435\\u043a\\u0442\\u0440\\u043e\\u043d\\u043d\\u044b\\u0439\", \"\\u0441\\u0441\\u044b\\u043b\\u0430\\u0442\\u044c\\u0441\\u044f\", \"\\u043f\\u0440\\u043e\\u0439\\u0442\\u0438\", \"\\u0447\\u0435\\u043a\", \"\\u0434\\u0435\\u043d\\u044c\\u0433\\u0430\", \"\\u0441\\u0443\\u043c\\u043c\\u0430\", \"\\u0432\\u0435\\u0440\\u043d\\u0443\\u0442\\u044c\", \"\\u043d\\u0430\\u043f\\u0438\\u0441\\u0430\\u0442\\u044c\", \"\\u043e\\u0442\\u0432\\u0435\\u0442\", \"\\u0441\\u0430\\u0439\\u0442\", \"\\u0441\\u0440\\u043e\\u043a\", \"\\u043c\\u0430\\u0448\\u0438\\u043d\\u0430\", \"https\", \"\\u044f\\u043d\\u0432\\u0430\\u0440\\u044c\", \"\\u043f\\u043e\\u043b\\u044c\\u0437\\u043e\\u0432\\u0430\\u0442\\u0435\\u043b\\u044c\", \"\\u043a\\u043e\\u0440\\u043e\\u0431\\u043a\\u0430\", \"\\u0436\\u0438\\u043b\\u0435\\u0446\", \"\\u043e\\u043f\\u043b\\u0430\\u0447\\u0438\\u0432\\u0430\\u0442\\u044c\", \"\\u043a\\u0443\\u0440\\u0441\", \"\\u0433\\u0430\\u0440\\u0430\\u043d\\u0442\\u0438\\u044f\", \"\\u0441\\u043b\\u043e\\u0432\\u043e\", \"\\u0441\\u0443\\u0442\\u043a\\u0438\", \"\\u0441\\u0438\\u043b\\u0430\", \"\\u0438\\u0437\\u0434\\u0435\\u043b\\u0438\\u0435\", \"\\u043c\\u0438\\u043d\\u0443\\u0442\\u0430\", \"\\u043f\\u0440\\u0435\\u0434\\u043e\\u043f\\u043b\\u0430\\u0442\\u0430\", \"\\u0443\\u043f\\u0430\\u043a\\u043e\\u0432\\u043a\\u0430\", \"\\u0432\\u043d\\u0435\\u0441\\u0442\\u0438\", \"\\u043f\\u043b\\u0430\\u043d\", \"\\u0434\\u043e\\u043c\\u043e\\u0439\", \"\\u0432\\u043b\\u043e\\u0436\\u0435\\u043d\\u0438\\u0435\", \"\\u043b\\u044e\\u0431\\u043e\\u0439\", \"\\u043f\\u043e\\u0434\\u043f\\u0438\\u0441\\u043a\\u0430\", \"\\u0432\\u043d\\u0438\\u043c\\u0430\\u043d\\u0438\\u0435\", \"\\u0441\\u0442\\u0430\\u0440\\u0448\\u0438\\u0439\", \"\\u0437\\u0430\\u043c\\u0435\\u043d\\u0438\\u0442\\u044c\", \"\\u0438\\u0441\\u043f\\u043e\\u043b\\u044c\\u0437\\u043e\\u0432\\u0430\\u0442\\u044c\", \"\\u0442\\u0430\\u0440\\u0438\\u0444\", \"\\u0441\\u0441\\u044b\\u043b\\u043a\\u0430\", \"\\u043d\\u0430\\u0437\\u0432\\u0430\\u043d\\u0438\\u0435\", \"\\u043e\\u0442\\u043a\\u043b\\u044e\\u0447\\u0438\\u0442\\u044c\", \"\\u0441\\u0447\\u0438\\u0442\\u0430\\u0442\\u044c\", \"\\u043f\\u0440\\u0438\\u043b\\u043e\\u0436\\u0435\\u043d\\u0438\\u0435\", \"\\u043f\\u0440\\u043e\\u0431\\u043b\\u0435\\u043c\\u0430\", \"\\u043f\\u043e\\u043d\\u0438\\u043c\\u0430\\u0442\\u044c\", \"\\u0440\\u0435\\u0448\\u0438\\u0442\\u044c\", \"\\u044f\\u043a\\u043e\\u0431\\u044b\", \"\\u0441\\u0440\\u0430\\u0437\\u0443\", \"\\u043c\\u0435\\u0441\\u044f\\u0446\", \"\\u043d\\u0435\\u0441\\u043a\\u043e\\u043b\\u044c\\u043a\\u043e\", \"\\u0443\\u0441\\u043b\\u0443\\u0433\\u0430\", \"\\u0445\\u043e\\u0442\\u0435\\u0442\\u044c\", \"\\u0447\\u0435\\u043a\", \"\\u0434\\u0435\\u043b\\u0430\\u0442\\u044c\", \"\\u0441\\u0442\\u043e\\u0438\\u0442\\u044c\", \"\\u043f\\u043e\\u043f\\u0440\\u043e\\u0441\\u0438\\u0442\\u044c\", \"\\u043e\\u043a\\u0430\\u0437\\u0430\\u0442\\u044c\\u0441\\u044f\", \"\\u0441\\u043b\\u0443\\u0447\\u0430\\u0439\", \"\\u0441\\u0430\\u0439\\u0442\", \"\\u043f\\u043e\\u043b\\u0443\\u0447\\u0435\\u043d\\u0438\\u0435\", \"\\u0434\\u0435\\u043d\\u044c\\u0433\\u0430\", \"\\u043e\\u0431\\u0440\\u0430\\u0442\\u0438\\u0442\\u044c\\u0441\\u044f\", \"\\u0440\\u0430\\u0437\\u043e\\u0431\\u0440\\u0430\\u0442\\u044c\\u0441\\u044f\", \"\\u043f\\u043e\\u0447\\u0442\\u0430\", \"\\u0441\\u0434\\u0435\\u043b\\u0430\\u0442\\u044c\", \"\\u0441\\u0438\\u0442\\u0443\\u0430\\u0446\\u0438\\u044f\", \"\\u0441\\u043e\\u043e\\u0431\\u0449\\u0438\\u0442\\u044c\", \"\\u043c\\u0435\\u0440\\u0430\", \"\\u0442\\u0440\\u0435\\u0431\\u043e\\u0432\\u0430\\u0442\\u044c\", \"\\u043f\\u043e\\u043b\\u043d\\u044b\\u0439\", \"\\u0441\\u0442\\u043e\\u0440\\u043e\\u043d\\u0430\", \"\\u0443\\u043b\\u0438\\u0446\\u0430\", \"\\u043f\\u0440\\u043e\\u0436\\u0438\\u0432\\u0430\\u0442\\u044c\", \"\\u0437\\u0434\\u043e\\u0440\\u043e\\u0432\\u044c\\u0435\", \"\\u0437\\u0430\\u044f\\u0432\\u043a\\u0430\", \"\\u043f\\u0440\\u043e\\u0434\\u0443\\u043a\\u0442\", \"\\u0443\\u0441\\u0442\\u0430\\u043d\\u043e\\u0432\\u0438\\u0442\\u044c\", \"\\u0432\\u0440\\u0430\\u0447\", \"\\u0433\\u0430\\u0437\", \"\\u043d\\u043e\\u0440\\u043c\\u0430\", \"\\u0448\\u0443\\u043c\", \"\\u0438\\u0434\\u0442\\u0438\", \"\\u043e\\u043a\\u043d\\u043e\", \"\\u0434\\u0432\\u0435\\u0440\\u044c\", \"\\u0436\\u0438\\u0442\\u044c\", \"\\u043d\\u0430\\u0440\\u0443\\u0448\\u0430\\u0442\\u044c\", \"\\u0441\\u043e\\u043e\\u0442\\u0432\\u0435\\u0442\\u0441\\u0442\\u0432\\u0443\\u044e\\u0449\\u0438\\u0439\", \"\\u044d\\u0442\\u0430\\u0436\", \"\\u0445\\u0440\\u0430\\u043d\\u0435\\u043d\\u0438\\u0435\", \"\\u0441\\u043f\\u0440\\u0430\\u0432\\u043a\\u0430\", \"\\u0440\\u0430\\u0439\\u043e\\u043d\", \"\\u0443\\u0440\\u043e\\u0432\\u0435\\u043d\\u044c\", \"\\u0435\\u0434\\u0430\", \"\\u043f\\u043e\\u0434\\u044a\\u0435\\u0437\\u0434\", \"\\u043f\\u043e\\u0434\\u0430\\u0447\\u0430\", \"\\u0440\\u0430\\u0431\\u043e\\u0442\\u043d\\u0438\\u043a\", \"\\u0433\\u043e\\u0440\\u043e\\u0434\", \"\\u0434\\u043e\\u043c\", \"\\u043a\\u0432\\u0430\\u0440\\u0442\\u0438\\u0440\\u0430\", \"\\u0436\\u0430\\u043b\\u043e\\u0431\\u0430\", \"\\u043f\\u0440\\u0438\\u043d\\u044f\\u0442\\u044c\", \"\\u0432\\u0437\\u044f\\u0442\\u044c\", \"\\u043d\\u0430\\u0448\", \"\\u0437\\u0430\\u043a\\u043b\\u044e\\u0447\\u0435\\u043d\\u0438\\u0435\", \"\\u0430\\u0434\\u0440\\u0435\\u0441\", \"\\u0440\\u0435\\u0437\\u0443\\u043b\\u044c\\u0442\\u0430\\u0442\", \"\\u0434\\u0435\\u0439\\u0441\\u0442\\u0432\\u0438\\u0435\", \"\\u0440\\u0430\\u0431\\u043e\\u0442\\u0430\\u0442\\u044c\", \"\\u0447\\u0435\\u043b\\u043e\\u0432\\u0435\\u043a\", \"\\u0441\\u0438\\u0442\\u0443\\u0430\\u0446\\u0438\\u044f\", \"\\u043f\\u0443\\u043d\\u043a\\u0442\", \"\\u0437\\u0432\\u043e\\u043d\\u0438\\u0442\\u044c\", \"\\u0432\\u043e\\u043e\\u0431\\u0449\\u0435\", \"\\u043f\\u0440\\u0438\\u0432\\u0435\\u0437\\u0442\\u0438\", \"\\u043e\\u0431\\u044a\\u044f\\u0441\\u043d\\u0438\\u0442\\u044c\", \"\\u0432\\u043e\\u0434\\u0438\\u0442\\u0435\\u043b\\u044c\", \"\\u043f\\u043e\\u0434\\u0442\\u0432\\u0435\\u0440\\u0436\\u0434\\u0430\\u0442\\u044c\", \"\\u0440\\u0443\\u043a\\u0430\", \"\\u043f\\u043e\\u0432\\u0442\\u043e\\u0440\\u043d\\u044b\\u0439\", \"\\u043f\\u044b\\u0442\\u0430\\u0442\\u044c\\u0441\\u044f\", \"\\u0432\\u044b\\u0439\\u0442\\u0438\", \"\\u0438\\u0441\\u043f\\u043e\\u043b\\u043d\\u0435\\u043d\\u0438\\u0435\", \"\\u043f\\u0440\\u0435\\u0434\\u043b\\u0430\\u0433\\u0430\\u0442\\u044c\", \"\\u043e\\u0446\\u0435\\u043d\\u043a\\u0430\", \"\\u0434\\u043e\\u0437\\u0432\\u043e\\u043d\\u0438\\u0442\\u044c\\u0441\\u044f\", \"\\u0433\\u0440\\u044f\\u0437\\u043d\\u044b\\u0439\", \"\\u043f\\u0440\\u0438\\u0439\\u0442\\u0438\\u0441\\u044c\", \"\\u0441\\u043f\\u0435\\u0446\\u0438\\u0430\\u043b\\u0438\\u0441\\u0442\", \"\\u043f\\u0430\\u0441\\u0441\\u0430\\u0436\\u0438\\u0440\", \"\\u043e\\u0441\\u0443\\u0449\\u0435\\u0441\\u0442\\u0432\\u043b\\u044f\\u0442\\u044c\\u0441\\u044f\", \"\\u0437\\u0430\\u0440\\u0430\\u043d\\u0435\\u0435\", \"\\u0438\\u0441\\u043f\\u043e\\u043b\\u044c\\u0437\\u043e\\u0432\\u0430\\u043d\\u0438\\u0435\", \"\\u0434\\u0430\\u043b\\u044c\\u043d\\u0435\\u0439\\u0448\\u0438\\u0439\", \"\\u0441\\u043c\\u044b\\u0441\\u043b\", \"\\u043f\\u043e\\u0435\\u0445\\u0430\\u0442\\u044c\", \"\\u0437\\u0430\\u0440\\u0435\\u0433\\u0438\\u0441\\u0442\\u0440\\u0438\\u0440\\u043e\\u0432\\u0430\\u0442\\u044c\", \"\\u0432\\u043e\\u0434\\u043e\\u0441\\u043d\\u0430\\u0431\\u0436\\u0435\\u043d\\u0438\\u0435\", \"\\u0430\\u0432\\u0442\\u043e\\u0431\\u0443\\u0441\", \"\\u0431\\u0435\\u0437\\u043e\\u043f\\u0430\\u0441\\u043d\\u043e\\u0441\\u0442\\u044c\", \"\\u043f\\u043e\\u0441\\u0435\\u0449\\u0430\\u0442\\u044c\", \"\\u0431\\u043b\\u0438\\u0437\\u043a\\u0438\\u0439\", \"\\u043f\\u043e\\u043b\\u0443\\u0447\\u0430\\u0442\\u044c\", \"\\u0441\\u043e\\u0442\\u0440\\u0443\\u0434\\u043d\\u0438\\u043a\", \"\\u0442\\u0435\\u043b\\u0435\\u0444\\u043e\\u043d\", \"\\u043d\\u043e\\u043c\\u0435\\u0440\", \"\\u043d\\u0438\\u043a\\u0430\\u043a\\u043e\\u0439\", \"\\u0440\\u0430\\u0431\\u043e\\u0442\\u0430\", \"\\u0441\\u043e\\u0441\\u0442\\u043e\\u044f\\u043d\\u0438\\u0435\", \"\\u0447\\u0435\\u043b\\u043e\\u0432\\u0435\\u043a\", \"\\u043c\\u0435\\u0441\\u0442\\u043e\", \"\\u043e\\u0442\\u0432\\u0435\\u0442\", \"\\u0437\\u0432\\u043e\\u043d\\u043e\\u043a\", \"\\u043f\\u0438\\u0441\\u044c\\u043c\\u043e\", \"\\u0433\\u043e\\u0440\\u044f\\u0447\\u0438\\u0439\", \"\\u0432\\u0435\\u0441\\u044c\", \"\\u0437\\u0430\\u043f\\u0440\\u043e\\u0441\", \"\\u0432\\u043e\\u0437\\u043c\\u043e\\u0436\\u043d\\u043e\", \"\\u043f\\u0440\\u0438\\u0447\\u0438\\u043d\\u0430\", \"\\u0430\\u0434\\u0440\\u0435\\u0441\", \"\\u043e\\u0442\\u0432\\u0435\\u0447\\u0430\\u0442\\u044c\", \"\\u043f\\u0440\\u043e\\u0441\\u0442\\u043e\", \"\\u043f\\u0440\\u043e\\u0432\\u0435\\u0440\\u043a\\u0430\", \"\\u043d\\u0438\\u043a\\u0442\\u043e\", \"\\u0434\\u0435\\u0439\\u0441\\u0442\\u0432\\u0438\\u0435\", \"\\u0434\\u043e\\u043a\\u0443\\u043c\\u0435\\u043d\\u0442\", \"\\u0441\\u0432\\u044f\\u0437\\u044c\", \"\\u0437\\u0430\\u043a\\u0430\\u0437\", \"\\u0433\\u043e\\u0432\\u043e\\u0440\\u0438\\u0442\\u044c\", \"\\u0441\\u0442\\u0430\\u0442\\u0443\\u0441\", \"\\u043a\\u0443\\u0440\\u044c\\u0435\\u0440\", \"\\u043e\\u0437\\u043e\\u043d\", \"\\u0441\\u0442\\u0430\\u0442\\u044c\", \"\\u043f\\u043e\\u0441\\u0442\\u043e\\u044f\\u043d\\u043d\\u043e\", \"\\u043f\\u043e\\u0434\\u0442\\u0432\\u0435\\u0440\\u0434\\u0438\\u0442\\u044c\", \"\\u043c\\u0435\\u043d\\u0435\\u0434\\u0436\\u0435\\u0440\", \"\\u0441\\u043a\\u043e\\u043b\\u044c\\u043a\\u043e\", \"\\u0441\\u043c\\u0441\", \"\\u0441\\u043a\\u043b\\u0430\\u0434\", \"\\u0446\\u0435\\u043d\\u043d\\u0438\\u043a\", \"\\u043c\\u0443\\u0441\\u043e\\u0440\", \"\\u043d\\u0438\\u043a\\u0430\\u043a\", \"\\u043f\\u043e\\u043b\\u043e\\u0436\\u0438\\u0442\\u044c\", \"\\u043e\\u0442\\u043f\\u0440\\u0430\\u0432\\u043a\\u0430\", \"\\u0432\\u0435\\u0447\\u0435\\u0440\", \"\\u0430\\u043a\\u0446\\u0438\\u044f\", \"\\u043a\\u0430\\u0441\\u0441\\u0430\", \"\\u043f\\u043e\\u0432\\u043e\\u0434\", \"\\u043a\\u0443\\u0440\\u044c\\u0435\\u0440\\u0441\\u043a\\u0438\\u0439\", \"\\u0437\\u0430\\u043a\\u043e\\u043d\\u0447\\u0438\\u0442\\u044c\\u0441\\u044f\", \"\\u043f\\u0440\\u0435\\u0436\\u043d\\u0438\\u0439\", \"\\u043e\\u0442\\u043f\\u0440\\u0430\\u0432\\u043b\\u0435\\u043d\\u0438\\u0435\", \"\\u0430\\u043b\\u0435\\u043a\\u0441\\u0430\\u043d\\u0434\\u0440\", \"\\u043f\\u0435\\u0440\\u0441\\u043e\\u043d\\u0430\\u043b\", \"\\u0441\\u0443\\u043f\\u0440\\u0443\\u0433\", \"\\u0434\\u043e\\u0441\\u0442\\u0430\\u0432\\u043a\\u0430\", \"\\u0445\\u043e\\u043b\\u043e\\u0434\\u0438\\u043b\\u044c\\u043d\\u0438\\u043a\", \"\\u0446\\u0435\\u043d\\u0430\", \"\\u0438\\u0437\\u043c\\u0435\\u043d\\u0438\\u0442\\u044c\\u0441\\u044f\", \"\\u043e\\u043f\\u043b\\u0430\\u0442\\u0438\\u0442\\u044c\", \"\\u043b\\u0438\\u043d\\u0438\\u044f\", \"\\u043e\\u0444\\u043e\\u0440\\u043c\\u0438\\u0442\\u044c\", \"\\u043f\\u043e\\u0437\\u0432\\u043e\\u043d\\u0438\\u0442\\u044c\", \"\\u0433\\u043e\\u0440\\u044f\\u0447\\u0438\\u0439\", \"\\u0438\\u043d\\u0442\\u0435\\u0440\\u043d\\u0435\\u0442\", \"\\u043f\\u0440\\u0438\\u0439\\u0442\\u0438\", \"\\u0441\\u0430\\u0439\\u0442\", \"\\u0441\\u0434\\u0435\\u043b\\u0430\\u0442\\u044c\", \"\\u0440\\u0443\\u0431\\u043b\\u044c\", \"\\u0441\\u043c\\u043e\\u0447\\u044c\", \"\\u0442\\u043e\\u0432\\u0430\\u0440\", \"\\u0441\\u043b\\u0443\\u0436\\u0431\\u0430\", \"\\u0441\\u0442\\u043e\\u0438\\u043c\\u043e\\u0441\\u0442\\u044c\", \"\\u043d\\u043e\\u043c\\u0435\\u0440\", \"\\u0434\\u0435\\u043d\\u044c\\u0433\\u0430\", \"\\u043c\\u0430\\u0433\\u0430\\u0437\\u0438\\u043d\", \"\\u0443\\u043a\\u0430\\u0437\\u0430\\u0442\\u044c\", \"\\u043f\\u043e\\u0441\\u0442\\u0430\\u043d\\u043e\\u0432\\u043b\\u0435\\u043d\\u0438\\u0435\", \"\\u043f\\u043b\\u043e\\u0449\\u0430\\u0434\\u043a\\u0430\", \"\\u0434\\u0430\\u043d\\u043d\\u044b\\u0435\", \"\\u0433\\u0440\\u0430\\u0436\\u0434\\u0430\\u043d\\u0438\\u043d\", \"\\u0436\\u0438\\u043b\\u043e\\u0439\", \"\\u043f\\u043e\\u043c\\u0435\\u0449\\u0435\\u043d\\u0438\\u0435\", \"\\u044e\\u0440\\u0438\\u0434\\u0438\\u0447\\u0435\\u0441\\u043a\\u0438\\u0439\", \"\\u043f\\u043e\\u0440\\u044f\\u0434\\u043e\\u043a\", \"\\u043d\\u0430\\u0441\\u0442\\u043e\\u044f\\u0449\\u0438\\u0439\", \"\\u043f\\u0440\\u0430\\u0432\\u0438\\u0442\\u0435\\u043b\\u044c\\u0441\\u0442\\u0432\\u043e\", \"\\u043a\\u043e\\u043f\\u0438\\u044f\", \"\\u0443\\u043f\\u0440\\u0430\\u0432\\u043b\\u044f\\u0442\\u044c\", \"\\u0441\\u043e\\u0431\\u0441\\u0442\\u0432\\u0435\\u043d\\u043d\\u0438\\u043a\", \"\\u043e\\u0431\\u0449\\u0438\\u0439\", \"\\u043a\\u0443\\u0445\\u043d\\u044f\", \"\\u0442\\u0435\\u0440\\u0440\\u0438\\u0442\\u043e\\u0440\\u0438\\u044f\", \"\\u044d\\u043f\\u0438\\u0434\\u0435\\u043c\\u0438\\u043e\\u043b\\u043e\\u0433\\u0438\\u0447\\u0435\\u0441\\u043a\\u0438\\u0439\", \"\\u0437\\u0438\\u043c\\u043d\\u0438\\u0439\", \"\\u043f\\u0438\\u0441\\u044c\\u043c\\u0435\\u043d\\u043d\\u044b\\u0439\", \"\\u0437\\u0430\\u043a\\u043e\\u043d\\u043e\\u0434\\u0430\\u0442\\u0435\\u043b\\u044c\\u0441\\u0442\\u0432\\u043e\", \"\\u043f\\u0435\\u043d\\u0441\\u0438\\u043e\\u043d\\u0435\\u0440\", \"\\u043a\\u043e\\u043c\\u043c\\u0443\\u043d\\u0430\\u043b\\u044c\\u043d\\u044b\\u0439\", \"\\u0444\\u0435\\u0434\\u0435\\u0440\\u0430\\u043b\\u044c\\u043d\\u044b\\u0439\", \"\\u043c\\u043d\\u043e\\u0433\\u043e\\u043a\\u0432\\u0430\\u0440\\u0442\\u0438\\u0440\\u043d\\u044b\\u0439\", \"\\u0440\\u0430\\u0441\\u043f\\u043e\\u043b\\u043e\\u0436\\u0438\\u0442\\u044c\", \"\\u043e\\u0433\\u0440\\u0430\\u043d\\u0438\\u0447\\u0435\\u043d\\u0438\\u0435\", \"\\u043f\\u043b\\u0430\\u0442\\u0438\\u0442\\u044c\", \"\\u0432\\u044b\\u0448\\u0435\", \"\\u043e\\u0431\\u044f\\u0437\\u0430\\u043d\\u043d\\u043e\\u0441\\u0442\\u044c\", \"\\u0442\\u044b\\u0441\\u044f\\u0447\\u0430\", \"\\u0441\\u043e\\u043e\\u0442\\u0432\\u0435\\u0442\\u0441\\u0442\\u0432\\u0438\\u0435\", \"\\u043f\\u0440\\u0430\\u0432\\u0438\\u043b\\u043e\", \"\\u0444\\u0435\\u0434\\u0435\\u0440\\u0430\\u0446\\u0438\\u044f\", \"\\u043e\\u0442\\u0432\\u0435\\u0442\\u0441\\u0442\\u0432\\u0435\\u043d\\u043d\\u043e\\u0441\\u0442\\u044c\", \"\\u043e\\u043e\\u043e\", \"\\u043e\\u0440\\u0433\\u0430\\u043d\\u0438\\u0437\\u0430\\u0446\\u0438\\u044f\", \"\\u0441\\u0430\\u043d\\u0438\\u0442\\u0430\\u0440\\u043d\\u044b\\u0439\", \"\\u0440\\u043e\\u0441\\u0441\\u0438\\u0439\\u0441\\u043a\\u0438\\u0439\", \"\\u0447\\u0438\\u0441\\u043b\\u043e\", \"\\u043d\\u0430\\u0440\\u0443\\u0448\\u0435\\u043d\\u0438\\u0435\", \"\\u043b\\u0438\\u0446\\u043e\", \"\\u0434\\u043e\\u043c\", \"\\u0430\\u0434\\u0440\\u0435\\u0441\", \"\\u043a\\u043e\\u043c\\u043f\\u0430\\u043d\\u0438\\u044f\", \"\\u0443\\u0441\\u043b\\u0443\\u0433\\u0430\", \"\\u0441\\u0432\\u044f\\u0437\\u044c\", \"\\u0442\\u0430\\u043a\\u0436\\u0435\", \"\\u0440\\u043e\\u0441\\u0441\\u0438\\u044f\", \"\\u0442\\u0435\\u0441\\u0442\", \"\\u0431\\u0430\\u043d\\u043a\", \"\\u043f\\u0446\\u0440\", \"\\u043f\\u043e\\u0441\\u044b\\u043b\\u043a\\u0430\", \"\\u0441\\u0434\\u0430\\u0442\\u044c\", \"\\u043e\\u0442\\u0434\\u0435\\u043b\\u0435\\u043d\\u0438\\u0435\", \"\\u0433\\u043e\\u0441\\u0443\\u0441\\u043b\\u0443\\u0433\\u0430\", \"\\u0441\\u0431\\u0435\\u0440\\u043c\\u0435\\u0433\\u0430\\u043c\\u0430\\u0440\\u043a\\u0435\\u0442\", \"\\u0432\\u0435\\u0440\\u043d\\u0443\\u0442\\u044c\\u0441\\u044f\", \"\\u043f\\u0440\\u0438\\u0445\\u043e\\u0434\\u0438\\u0442\\u044c\", \"\\u043f\\u043e\\u043b\\u043e\\u0436\\u0438\\u0442\\u0435\\u043b\\u044c\\u043d\\u044b\\u0439\", \"\\u043f\\u043e\\u0437\\u0434\\u043d\\u0438\\u0439\", \"\\u043f\\u043e\\u0440\\u0442\\u0430\\u043b\", \"\\u0441\\u0431\\u0435\\u0440\\u0431\\u0430\\u043d\\u043a\", \"\\u0441\\u043d\\u044f\\u0442\\u044c\", \"\\u0430\\u043d\\u0442\\u0438\\u0442\\u0435\\u043b\\u043e\", \"\\u0434\\u043e\\u0441\\u0442\\u0443\\u043f\", \"\\u0433\\u0440\\u0430\\u043d\\u0438\\u0446\\u0430\", \"\\u0441\\u0434\\u0430\\u0432\\u0430\\u0442\\u044c\", \"\\u0438\\u043d\\u0430\\u0447\\u0435\", \"\\u0447\\u0430\\u0442\", \"\\u0430\\u043d\\u0430\\u043b\\u0438\\u0437\", \"\\u0434\\u0438\\u0441\\u0442\\u0430\\u043d\\u0446\\u0438\\u043e\\u043d\\u043d\\u044b\\u0439\", \"\\u043f\\u043e\\u0447\\u0442\\u043e\\u0432\\u044b\\u0439\", \"\\u0440\\u0430\\u0441\\u0441\\u043c\\u043e\\u0442\\u0440\\u0435\\u0442\\u044c\", \"\\u043f\\u043b\\u0430\\u0442\\u0451\\u0436\", \"\\u043a\\u0430\\u0440\\u0442\\u0430\", \"\\u0431\\u0430\\u043d\\u043a\\u043e\\u0432\\u0441\\u043a\\u0438\\u0439\", \"\\u0441\\u043f\\u0438\\u0441\\u0430\\u043d\\u0438\\u0435\", \"\\u0441\\u043f\\u0438\\u0441\\u0430\\u0442\\u044c\", \"\\u0441\\u043e\\u043e\\u0431\\u0449\\u0435\\u043d\\u0438\\u0435\", \"\\u0440\\u0430\\u0431\\u043e\\u0447\\u0438\\u0439\", \"\\u043f\\u043e\\u0447\\u0442\\u0430\", \"\\u0440\\u0435\\u0437\\u0443\\u043b\\u044c\\u0442\\u0430\\u0442\", \"\\u043e\\u0442\\u043f\\u0440\\u0430\\u0432\\u0438\\u0442\\u044c\", \"\\u0441\\u0447\\u0451\\u0442\", \"\\u043f\\u0440\\u0438\\u0439\\u0442\\u0438\", \"\\u0442\\u0435\\u043b\\u0435\\u0444\\u043e\\u043d\", \"\\u0434\\u0435\\u043d\\u044c\\u0433\\u0430\", \"\\u0434\\u0435\\u043b\\u0430\\u0442\\u044c\", \"\\u043e\\u0431\\u0440\\u0430\\u0449\\u0435\\u043d\\u0438\\u0435\", \"\\u043e\\u0442\\u0432\\u0435\\u0442\", \"\\u043c\\u0435\\u0441\\u044f\\u0446\", \"\\u043a\\u0430\\u0431\\u0438\\u043d\\u0435\\u0442\", \"\\u043e\\u0442\\u043c\\u0435\\u043d\\u0438\\u0442\\u044c\", \"\\u043e\\u0442\\u043d\\u043e\\u0448\\u0435\\u043d\\u0438\\u0435\", \"\\u043f\\u0440\\u0438\\u043d\\u0438\\u043c\\u0430\\u0442\\u044c\", \"\\u0437\\u0430\\u043a\\u043e\\u043d\\u043d\\u044b\\u0439\", \"\\u0440\\u0430\\u0441\\u0441\\u043c\\u043e\\u0442\\u0440\\u0435\\u043d\\u0438\\u0435\", \"\\u043f\\u043e\\u0434\\u043e\\u0431\\u043d\\u044b\\u0439\", \"\\u0441\\u0435\\u0433\\u043e\\u0434\\u043d\\u044f\\u0448\\u043d\\u0438\\u0439\", \"\\u0442\\u0440\\u0430\\u043d\\u0441\\u043f\\u043e\\u0440\\u0442\\u043d\\u044b\\u0439\", \"\\u043f\\u043e\\u0441\\u0442\\u0443\\u043f\\u0430\\u0442\\u044c\", \"\\u0444\\u0438\\u043d\\u0430\\u043d\\u0441\\u043e\\u0432\\u044b\\u0439\", \"\\u043f\\u043e\\u0432\\u0442\\u043e\\u0440\\u043d\\u043e\", \"\\u0441\\u0442\\u0440\\u0430\\u0445\\u043e\\u0432\\u0430\\u043d\\u0438\\u0435\", \"\\u0443\\u043a\\u0440\\u0430\\u0438\\u043d\\u0430\", \"\\u0442\\u0443\\u0440\\u043e\\u043f\\u0435\\u0440\\u0430\\u0442\\u043e\\u0440\", \"\\u043d\\u0435\\u0443\\u0441\\u0442\\u043e\\u0439\\u043a\\u0430\", \"\\u0432\\u0432\\u0435\\u0434\\u0435\\u043d\\u0438\\u0435\", \"\\u0438\\u0433\\u0440\\u0443\\u0448\\u043a\\u0430\", \"\\u043d\\u0430\\u043a\\u043b\\u0430\\u0434\\u043d\\u044b\\u0439\", \"\\u043a\\u043b\\u0438\\u0435\\u043d\\u0442\", \"\\u043b\\u0438\\u0447\\u043d\\u044b\\u0439\", \"\\u043f\\u0440\\u0435\\u0434\\u044a\\u044f\\u0432\\u043b\\u0435\\u043d\\u0438\\u0435\", \"\\u0431\\u043b\\u0430\\u0433\\u043e\\u0434\\u0430\\u0440\\u0438\\u0442\\u044c\", \"\\u043f\\u0440\\u0435\\u0434\\u044a\\u044f\\u0432\\u0438\\u0442\\u044c\", \"\\u0433\\u0440\\u0443\\u0437\", \"\\u0441\\u0434\\u044d\\u043a\", \"\\u043e\\u0442\\u043f\\u0438\\u0441\\u043a\\u0430\", \"\\u043d\\u0430\\u043a\\u0430\\u0437\\u0430\\u0442\\u044c\", \"\\u0434\\u043e\\u0441\\u0442\\u0430\\u0432\\u0438\\u0442\\u044c\", \"\\u0437\\u0430\\u0439\\u0442\\u0438\", \"\\u043a\\u043e\\u043c\\u043f\\u0430\\u043d\\u0438\\u044f\", \"\\u043f\\u043e\\u043c\\u043e\\u0447\\u044c\", \"\\u043f\\u043e\\u0434\\u0442\\u0432\\u0435\\u0440\\u0436\\u0434\\u0435\\u043d\\u0438\\u0435\", \"\\u0441\\u043e\\u0441\\u0442\\u0430\\u0432\\u0438\\u0442\\u044c\", \"\\u0441\\u0443\\u0434\", \"\\u0441\\u0432\\u044f\\u0437\\u044c\", \"\\u043c\\u043e\\u043c\\u0435\\u043d\\u0442\", \"\\u043d\\u043e\\u0432\\u044b\\u0439\", \"\\u0441\\u0440\\u043e\\u043a\", \"\\u043f\\u0438\\u0441\\u0430\\u0442\\u044c\", \"\\u043f\\u0440\\u0435\\u0442\\u0435\\u043d\\u0437\\u0438\\u044f\", \"\\u0441\\u0438\\u0442\\u0443\\u0430\\u0446\\u0438\\u044f\", \"\\u0438\\u043d\\u0444\\u043e\\u0440\\u043c\\u0430\\u0446\\u0438\\u044f\", \"\\u0440\\u0435\\u0448\\u0435\\u043d\\u0438\\u0435\", \"\\u0441\\u043e\\u0442\\u0440\\u0443\\u0434\\u043d\\u0438\\u043a\", \"\\u0440\\u0430\\u0437\\u043e\\u0431\\u0440\\u0430\\u0442\\u044c\\u0441\\u044f\", \"\\u043d\\u0438\\u043a\\u0430\\u043a\\u043e\\u0439\", \"\\u0434\\u043e\\u043a\\u0443\\u043c\\u0435\\u043d\\u0442\", \"\\u043f\\u043e\\u0442\\u0440\\u0435\\u0431\\u0438\\u0442\\u0435\\u043b\\u044c\", \"\\u0437\\u0430\\u0449\\u0438\\u0442\\u0430\", \"\\u0440\\u043e\\u0441\\u043f\\u043e\\u0442\\u0440\\u0435\\u0431\\u043d\\u0430\\u0434\\u0437\\u043e\\u0440\", \"\\u043d\\u0430\\u0440\\u0443\\u0448\\u0438\\u0442\\u044c\", \"\\u0441\\u0442\\u0430\\u0442\\u044c\\u044f\", \"\\u043e\\u0442\\u0434\\u0435\\u043b\", \"\\u0438\\u043c\\u0435\\u043d\\u043d\\u043e\", \"\\u043d\\u0430\\u0447\\u0430\\u043b\\u043e\", \"\\u0437\\u0430\\u0431\\u043b\\u0443\\u0436\\u0434\\u0435\\u043d\\u0438\\u0435\", \"\\u043f\\u0430\\u0440\\u0430\", \"\\u043e\\u043a\\u0430\\u0437\\u0430\\u043d\\u0438\\u0435\", \"\\u0441\\u043c\\u0430\\u0440\\u0442\\u0444\\u043e\\u043d\", \"\\u0445\\u043e\\u0442\\u0435\\u0442\\u044c\\u0441\\u044f\", \"\\u0434\\u0435\\u0444\\u0435\\u043a\\u0442\", \"\\u043d\\u0435\\u0432\\u043e\\u0437\\u043c\\u043e\\u0436\\u043d\\u043e\\u0441\\u0442\\u044c\", \"\\u0437\\u0430\\u043a\\u043e\\u043d\", \"\\u0441\\u0442\\u0430\\u0432\\u0438\\u0442\\u044c\", \"\\u0441\\u043c\\u043e\\u0442\\u0440\\u0435\\u0442\\u044c\", \"\\u0432\\u044b\\u044f\\u0432\\u0438\\u0442\\u044c\", \"\\u043d\\u0430\\u0437\\u044b\\u0432\\u0430\\u0442\\u044c\", \"\\u043a\\u043e\\u0434\\u0435\\u043a\\u0441\", \"\\u043c\\u0430\\u0442\\u0435\\u0440\\u0438\\u0430\\u043b\", \"\\u0441\\u0442\\u0430\\u0440\\u044b\\u0439\", \"\\u043e\\u0434\\u0435\\u0436\\u0434\\u0430\", \"\\u0432\\u0432\\u043e\\u0434\\u0438\\u0442\\u044c\", \"\\u0443\\u0439\\u0442\\u0438\", \"\\u0432\\u043e\\u0437\\u043d\\u0438\\u043a\\u0430\\u0442\\u044c\", \"\\u0448\\u0442\\u0443\\u043a\\u0430\", \"\\u0433\\u0440\\u0430\\u0436\\u0434\\u0430\\u043d\\u0441\\u043a\\u0438\\u0439\", \"\\u044d\\u043a\\u0440\\u0430\\u043d\", \"\\u043f\\u0440\\u0430\\u0432\\u043e\", \"\\u043e\\u0431\\u0440\\u0430\\u0437\", \"\\u043d\\u0430\\u0440\\u0443\\u0448\\u0435\\u043d\\u0438\\u0435\", \"\\u0443\\u0441\\u043b\\u0443\\u0433\\u0430\", \"\\u0442\\u0430\\u043a\\u0436\\u0435\", \"\\u0443\\u0441\\u043b\\u043e\\u0432\\u0438\\u0435\", \"\\u043e\\u0442\\u043a\\u0430\\u0437\", \"\\u0432\\u043e\\u0437\\u043c\\u043e\\u0436\\u043d\\u043e\\u0441\\u0442\\u044c\", \"\\u0442\\u0440\\u0435\\u0431\\u043e\\u0432\\u0430\\u043d\\u0438\\u0435\", \"\\u043e\\u0442\\u043a\\u0430\\u0437\\u0430\\u0442\\u044c\\u0441\\u044f\", \"\\u0440\\u0430\\u0431\\u043e\\u0442\\u0430\", \"\\u043f\\u0440\\u043e\\u0432\\u0435\\u0440\\u043a\\u0430\", \"\\u043e\\u0431\\u044f\\u0437\\u0430\\u0442\\u044c\", \"\\u0434\\u043e\\u0433\\u043e\\u0432\\u043e\\u0440\", \"\\u0440\\u0443\\u0431\", \"\\u0437\\u0430\\u043a\\u043b\\u044e\\u0447\\u0438\\u0442\\u044c\", \"\\u0438\\u043c\\u0435\\u0442\\u044c\\u0441\\u044f\", \"\\u043e\\u0431\\u0435\\u0449\\u0430\\u0442\\u044c\", \"\\u043a\\u043e\\u043d\\u0435\\u0446\", \"\\u043e\\u0431\\u043e\\u0440\\u0443\\u0434\\u043e\\u0432\\u0430\\u043d\\u0438\\u0435\", \"\\u043a\\u0440\\u0435\\u0434\\u0438\\u0442\\u043d\\u044b\\u0439\", \"\\u043f\\u043e\\u0434\\u043f\\u0438\\u0441\\u0430\\u0442\\u044c\", \"\\u043f\\u043e\\u0435\\u0437\\u0434\\u043a\\u0430\", \"\\u0440\\u043e\\u0441\\u0442\\u0435\\u043b\\u0435\\u043a\\u043e\\u043c\", \"\\u043a\\u0432\\u0438\\u0442\\u0430\\u043d\\u0446\\u0438\\u044f\", \"\\u0442\\u0443\\u0440\", \"\\u043f\\u0440\\u0435\\u0434\\u043e\\u0441\\u0442\\u0430\\u0432\\u043b\\u044f\\u0442\\u044c\", \"\\u0443\\u0432\\u0430\\u0436\\u0435\\u043d\\u0438\\u0435\", \"\\u043e\\u0441\\u0442\\u0430\\u0442\\u044c\\u0441\\u044f\", \"\\u043e\\u0444\\u0438\\u0441\", \"\\u043c\\u0438\\u0440\", \"\\u043f\\u0430\\u043e\", \"\\u043f\\u043e\\u0434\\u043a\\u043b\\u044e\\u0447\\u0435\\u043d\\u0438\\u0435\", \"\\u0440\\u0430\\u0441\\u0442\\u043e\\u0440\\u0433\\u043d\\u0443\\u0442\\u044c\", \"\\u0432\\u0432\\u0435\\u0441\\u0442\\u0438\", \"\\u0441\\u043e\\u0433\\u043b\\u0430\\u0441\\u0438\\u0442\\u044c\\u0441\\u044f\", \"\\u0441\\u043e\\u0441\\u0442\\u043e\\u044f\\u0442\\u044c\\u0441\\u044f\", \"\\u0437\\u0430\\u043f\\u043b\\u0430\\u0442\\u0438\\u0442\\u044c\", \"\\u0436\\u0435\\u043d\\u0430\", \"\\u0434\\u043e\\u0433\\u043e\\u0432\\u043e\\u0440\", \"\\u0441\\u0442\\u0440\\u0430\\u0445\\u043e\\u0432\\u043a\\u0430\", \"\\u0440\\u0435\\u0433\\u0438\\u043e\\u043d\", \"\\u0432\\u043e\\u0432\\u0440\\u0435\\u043c\\u044f\", \"\\u0432\\u044b\\u043f\\u043b\\u0430\\u0442\\u0438\\u0442\\u044c\", \"\\u0441\\u0443\\u043c\\u043c\\u0430\", \"\\u0441\\u0447\\u0451\\u0442\", \"\\u043e\\u043f\\u043b\\u0430\\u0442\\u0430\", \"\\u043e\\u043f\\u0435\\u0440\\u0430\\u0442\\u043e\\u0440\", \"\\u043e\\u043f\\u043b\\u0430\\u0442\\u0438\\u0442\\u044c\", \"\\u043f\\u0440\\u0438\\u0441\\u043b\\u0430\\u0442\\u044c\", \"\\u043d\\u0430\\u0448\", \"\\u043f\\u0440\\u0435\\u0434\\u043e\\u0441\\u0442\\u0430\\u0432\\u043b\\u0435\\u043d\\u0438\\u0435\", \"\\u0440\\u0435\\u0431\\u0451\\u043d\\u043e\\u043a\", \"\\u0434\\u0435\\u0442\\u0441\\u043a\\u0438\\u0439\", \"\\u0440\\u043e\\u0434\\u0438\\u0442\\u0435\\u043b\\u044c\", \"covid\", \"\\u0430\\u043a\\u0442\", \"\\u0432\\u0430\\u043a\\u0446\\u0438\\u043d\\u0430\\u0446\\u0438\\u044f\", \"\\u0441\\u0435\\u0440\\u0432\\u0438\\u0441\\u043d\\u044b\\u0439\", \"\\u0441\\u0430\\u0434\", \"\\u043f\\u043e\\u043b\\u044c\\u0437\\u043e\\u0432\\u0430\\u0442\\u044c\\u0441\\u044f\", \"\\u0433\\u0430\\u0440\\u0430\\u043d\\u0442\\u0438\\u0439\\u043d\\u044b\\u0439\", \"\\u0434\\u0435\\u044f\\u0442\\u0435\\u043b\\u044c\\u043d\\u043e\\u0441\\u0442\\u044c\", \"\\u043f\\u0440\\u0435\\u0434\\u0441\\u0442\\u0430\\u0432\\u0438\\u0442\\u0435\\u043b\\u044c\", \"\\u043a\\u0440\\u0435\\u0434\\u0438\\u0442\", \"\\u044d\\u043a\\u0441\\u043f\\u0435\\u0440\\u0442\\u0438\\u0437\\u0430\", \"\\u043f\\u0440\\u043e\\u0432\\u0435\\u0434\\u0435\\u043d\\u0438\\u0435\", \"\\u0438\\u043d\\u0444\\u0435\\u043a\\u0446\\u0438\\u044f\", \"\\u0438\\u043d\\u043d\\u0430\", \"\\u0445\\u043e\\u0434\\u0438\\u0442\\u044c\", \"\\u043d\\u0430\\u0443\\u0448\\u043d\\u0438\\u043a\", \"\\u043f\\u043e\\u0441\\u0435\\u0449\\u0435\\u043d\\u0438\\u0435\", \"\\u0440\\u0443\\u043a\\u043e\\u0432\\u043e\\u0434\\u0441\\u0442\\u0432\\u043e\", \"\\u0448\\u043a\\u043e\\u043b\\u0430\", \"\\u043a\\u0430\\u0440\\u0430\\u043d\\u0442\\u0438\\u043d\", \"\\u0442\\u043e\\u0440\\u0433\\u043e\\u0432\\u043b\\u044f\", \"\\u0432\\u043e\\u0441\\u043f\\u043e\\u043b\\u044c\\u0437\\u043e\\u0432\\u0430\\u0442\\u044c\\u0441\\u044f\", \"\\u0436\\u0438\\u0437\\u043d\\u044c\", \"\\u043f\\u043b\\u044e\\u0441\", \"\\u0441\\u043e\\u0447\\u0438\", \"\\u0432\\u044b\\u0431\\u043e\\u0440\", \"\\u043d\\u0430\\u0441\\u043a\\u043e\\u043b\\u044c\\u043a\\u043e\", \"\\u043e\\u0444\\u0438\\u0446\\u0438\\u0430\\u043b\\u044c\\u043d\\u044b\\u0439\", \"\\u0433\\u0440\\u0443\\u043f\\u043f\\u0430\", \"\\u0446\\u0435\\u043d\\u0442\\u0440\", \"\\u043e\\u0440\\u0433\\u0430\\u043d\\u0438\\u0437\\u0430\\u0446\\u0438\\u044f\", \"\\u0434\\u043e\\u043a\\u0443\\u043c\\u0435\\u043d\\u0442\", \"\\u043f\\u043e\\u0434\\u0441\\u043a\\u0430\\u0437\\u0430\\u0442\\u044c\", \"\\u0441\\u0435\\u0442\\u044c\", \"\\u043d\\u0430\\u0448\", \"\\u0432\\u043e\\u0434\\u0430\", \"\\u0437\\u0430\\u043f\\u0430\\u0445\", \"\\u0442\\u0435\\u043c\\u043f\\u0435\\u0440\\u0430\\u0442\\u0443\\u0440\\u0430\", \"\\u043c\\u0435\\u0434\\u0438\\u0446\\u0438\\u043d\\u0441\\u043a\\u0438\\u0439\", \"\\u043f\\u043e\\u0441\\u043b\\u0435\\u0434\\u043d\\u0438\\u0439\", \"\\u043f\\u0440\\u0438\\u0432\\u0435\\u0441\\u0442\\u0438\", \"\\u0445\\u0438\\u043c\\u0438\\u0447\\u0435\\u0441\\u043a\\u0438\\u0439\", \"\\u0441\\u043b\\u0435\\u0434\", \"\\u0447\\u0430\\u0441\\u0442\\u0438\\u0447\\u043d\\u043e\", \"\\u043a\\u043e\\u043c\\u043f\\u0435\\u043d\\u0441\\u0430\\u0446\\u0438\\u044f\", \"\\u0445\\u043e\\u043b\\u043e\\u0434\\u043d\\u044b\\u0439\", \"\\u0431\\u0435\\u043b\\u044c\\u0451\", \"\\u0432\\u043c\\u0435\\u0441\\u0442\\u0435\", \"\\u0434\\u043e\\u0440\\u043e\\u0433\\u0430\", \"\\u043f\\u0440\\u043e\\u0438\\u0437\\u0432\\u043e\\u0434\\u0441\\u0442\\u0432\\u043e\", \"\\u0443\\u0441\\u0442\\u0440\\u043e\\u0438\\u0442\\u044c\", \"\\u043f\\u0440\\u0438\\u0445\\u043e\\u0434\\u0438\\u0442\\u044c\\u0441\\u044f\", \"\\u0432\\u043e\\u0437\\u0434\\u0443\\u0445\", \"\\u0441\\u0442\\u0438\\u0440\\u043a\\u0430\", \"\\u0442\\u0435\\u043a\\u0441\\u0442\", \"\\u0446\\u0435\\u043d\\u0442\\u0440\\u0430\\u043b\\u044c\\u043d\\u044b\\u0439\", \"\\u0441\\u043e\\u0441\\u0435\\u0434\\u043d\\u0438\\u0439\", \"\\u043c\\u0443\\u043d\\u0438\\u0446\\u0438\\u043f\\u0430\\u043b\\u044c\\u043d\\u044b\\u0439\", \"\\u0431\\u0435\\u043b\\u044b\\u0439\", \"\\u0435\\u043a\\u0430\\u0442\\u0435\\u0440\\u0438\\u043d\\u0430\", \"\\u0446\\u0432\\u0435\\u0442\", \"\\u0440\\u0430\\u0431\\u043e\\u0442\\u0430\\u0442\\u044c\", \"\\u043a\\u0430\\u0447\\u0435\\u0441\\u0442\\u0432\\u043e\", \"\\u0437\\u0430\\u043c\\u0435\\u043d\\u0430\", \"\\u0440\\u0430\\u0437\\u043d\\u044b\\u0439\", \"\\u043d\\u043e\\u0432\\u044b\\u0439\", \"\\u043a\\u0432\\u0430\\u0440\\u0442\\u0438\\u0440\\u0430\", \"\\u043c\\u0435\\u0441\\u044f\\u0446\", \"\\u043a\\u043e\\u0434\", \"\\u0441\\u0435\\u0440\\u0432\\u0438\\u0441\", \"\\u043f\\u0435\\u0440\\u0435\\u0431\\u043e\\u043b\\u0435\\u0442\\u044c\", \"\\u043e\\u0431\\u043c\\u0435\\u043d\", \"\\u044f\\u043d\\u0434\\u0435\\u043a\\u0441\", \"\\u043e\\u0431\\u043b\\u0430\\u0441\\u0442\\u044c\", \"\\u0430\\u044d\\u0440\\u043e\\u043f\\u043e\\u0440\\u0442\", \"\\u043c\\u0430\\u0440\\u043a\\u0435\\u0442\", \"\\u043a\\u0430\\u0441\\u0441\\u0438\\u0440\", \"\\u0441\\u0442\\u043e\\u044f\\u0442\\u044c\", \"\\u043a\\u043e\\u043d\\u0442\\u0435\\u0439\\u043d\\u0435\\u0440\", \"\\u043f\\u043e\\u043b\\u0433\\u043e\\u0434\\u0430\", \"\\u043c\\u0435\\u043d\\u0435\\u0435\", \"\\u0434\\u0435\\u0440\\u0435\\u0432\\u043d\\u044f\", \"\\u043c\\u0443\\u0441\\u043e\\u0440\\u043d\\u044b\\u0439\", \"\\u043a\\u0438\\u0440\\u043e\\u0432\\u0441\\u043a\\u0438\\u0439\", \"\\u043d\\u0435\\u0432\\u043e\\u0437\\u043c\\u043e\\u0436\\u043d\\u043e\", \"\\u043f\\u0438\\u0441\\u0430\\u0442\\u044c\", \"\\u043f\\u043e\\u043c\\u043e\\u0447\\u044c\", \"\\u0440\\u0430\\u0437\\u043e\\u0431\\u0440\\u0430\\u0442\\u044c\\u0441\\u044f\", \"\\u0433\\u043e\\u0440\\u043e\\u0434\", \"\\u0431\\u043e\\u043b\\u0435\\u0437\\u043d\\u044c\", \"\\u0433\\u0440\\u0430\\u0436\\u0434\\u0430\\u043d\\u043a\\u0430\", \"\\u043a\\u043e\\u0440\\u043e\\u043d\\u0430\\u0432\\u0438\\u0440\\u0443\\u0441\", \"\\u043d\\u0435\\u0434\\u0430\\u0432\\u043d\\u043e\", \"\\u0440\\u0435\\u043a\\u043e\\u043c\\u0435\\u043d\\u0434\\u0430\\u0446\\u0438\\u044f\", \"\\u043f\\u0435\\u0440\\u0435\\u0441\\u0442\\u0430\\u0442\\u044c\", \"\\u043e\\u0442\\u0437\\u044b\\u0432\", \"\\u043f\\u0440\\u043e\\u0434\\u043b\\u0438\\u0442\\u044c\", \"\\u0444\\u0430\\u043a\\u0442\\u0438\\u0447\\u0435\\u0441\\u043a\\u0438\\u0439\", \"\\u043e\\u0442\\u0441\\u0443\\u0442\\u0441\\u0442\\u0432\\u0438\\u0435\", \"\\u043d\\u0430\\u0439\\u0442\\u0438\", \"\\u043c\\u0430\\u0441\\u043a\\u0430\", \"\\u0440\\u0435\\u0436\\u0438\\u043c\", \"\\u0441\\u0430\\u043b\\u043e\\u043d\", \"\\u0441\\u0438\\u0441\\u0442\\u0435\\u043c\\u0430\", \"\\u043e\\u0444\\u043e\\u0440\\u043c\\u043b\\u044f\\u0442\\u044c\", \"\\u043f\\u044f\\u0442\\u0451\\u0440\\u043e\\u0447\\u043a\\u0430\", \"\\u043c\\u0430\\u0441\\u0442\\u0435\\u0440\", \"\\u0430\\u0434\\u043c\\u0438\\u043d\\u0438\\u0441\\u0442\\u0440\\u0430\\u0442\\u043e\\u0440\", \"\\u0438\\u043d\\u0434\\u0438\\u0432\\u0438\\u0434\\u0443\\u0430\\u043b\\u044c\\u043d\\u044b\\u0439\", \"\\u0440\\u0430\\u0437\\u044a\\u044f\\u0441\\u043d\\u0438\\u0442\\u044c\", \"\\u043d\\u043e\\u0441\\u0438\\u0442\\u044c\", \"\\u043e\\u0431\\u044f\\u0437\\u0430\\u0442\\u0435\\u043b\\u044c\\u043d\\u044b\\u0439\", \"\\u043d\\u0430\\u0434\\u0435\\u0442\\u044c\", \"\\u043f\\u0440\\u043e\\u0434\\u043e\\u043b\\u0436\\u0430\\u0442\\u044c\", \"\\u0441\\u043e\\u0431\\u0441\\u0442\\u0432\\u0435\\u043d\\u043d\\u044b\\u0439\", \"\\u043f\\u0440\\u0438\\u043e\\u0441\\u0442\\u0430\\u043d\\u043e\\u0432\\u0438\\u0442\\u044c\", \"\\u0440\\u0430\\u0441\\u043f\\u0440\\u043e\\u0441\\u0442\\u0440\\u0430\\u043d\\u044f\\u0442\\u044c\\u0441\\u044f\", \"\\u0433\\u0443\\u0431\\u0435\\u0440\\u043d\\u0430\\u0442\\u043e\\u0440\", \"\\u043a\\u0438\\u0440\\u043e\\u0432\", \"\\u0441\\u043e\\u0446\\u0438\\u0430\\u043b\\u044c\\u043d\\u044b\\u0439\", \"\\u043d\\u043e\\u0432\\u0433\\u043e\\u0440\\u043e\\u0434\", \"\\u043d\\u0438\\u0436\\u043d\\u0438\\u0439\", \"\\u043c\\u0442\\u0441\", \"\\u0441\\u0438\\u0435\", \"\\u0441\\u0438\\u0434\\u0435\\u0442\\u044c\", \"\\u0441\\u043e\\u0431\\u043b\\u044e\\u0434\\u0435\\u043d\\u0438\\u0435\", \"\\u043f\\u0440\\u043e\\u0434\\u0443\\u043a\\u0442\\u043e\\u0432\\u044b\\u0439\", \"\\u0431\\u043e\\u043b\\u044c\\u043d\\u043e\\u0439\", \"\\u0432\\u043e\\u0441\\u0441\\u0442\\u0430\\u043d\\u043e\\u0432\\u043b\\u0435\\u043d\\u0438\\u0435\", \"\\u0433\\u0440\\u044f\\u0437\\u044c\", \"\\u0434\\u0435\\u0439\\u0441\\u0442\\u0432\\u0438\\u0435\", \"\\u043e\\u0431\\u043b\\u0430\\u0441\\u0442\\u044c\", \"\\u0440\\u0430\\u0431\\u043e\\u0442\\u0430\", \"\\u0441\\u043b\\u0435\\u0434\\u0443\\u044e\\u0449\\u0438\\u0439\"], \"Freq\": [1693.0, 945.0, 1287.0, 689.0, 1054.0, 472.0, 844.0, 771.0, 467.0, 638.0, 449.0, 249.0, 347.0, 426.0, 293.0, 522.0, 340.0, 190.0, 395.0, 229.0, 495.0, 245.0, 261.0, 439.0, 297.0, 231.0, 224.0, 326.0, 148.0, 219.0, 121.14913878819765, 114.62498741602813, 79.93915610250474, 67.50127704353301, 61.88256147815154, 59.32126174835627, 59.09479882396545, 58.426852245746936, 53.206388488106334, 51.37609477532626, 50.105090977096985, 49.30536940674178, 70.89407759754695, 45.04273849493553, 44.971953884988665, 44.72307964644677, 40.715420971674455, 37.78860523678487, 35.78991734910769, 264.3108356521577, 32.13726823872004, 29.567684484545346, 28.391602557131282, 40.56813845225578, 27.28763868946222, 24.353978952002493, 22.89846001270065, 21.299938329989143, 19.666462327276886, 27.989134656656358, 769.8878535383216, 1154.0454140296472, 241.26196094263733, 1467.8325917862503, 100.10627164399877, 83.00593987780336, 161.04914871002075, 250.43068897371043, 126.849441726413, 183.2282710412692, 125.69779858067933, 168.00817627132622, 330.8819105932368, 115.10044414755873, 96.07574937385729, 166.85649153651502, 179.99151790476225, 356.4181448513484, 108.27304601661861, 92.18363555371769, 159.7983779980072, 89.5788908338133, 103.12499404158302, 109.12250292505854, 169.06811550111817, 90.86988858106253, 92.43703780307509, 162.41756010125061, 150.18886511223468, 134.46663793200983, 120.42209024573249, 119.40931162355163, 118.38892713696818, 100.16786305704382, 92.29863050850163, 90.90846476177312, 85.23226507274335, 82.58758874132408, 79.8627662605196, 79.75605132629943, 76.49828368471312, 67.27197779833696, 65.87878091630515, 63.823735856382555, 59.90175290563733, 56.569573694969336, 56.055556960903736, 55.23555509464143, 50.234315507339325, 49.46726580702279, 48.70971912549499, 48.262439108676254, 42.4964953937532, 40.3669654656022, 40.2756994044855, 40.26854195839235, 40.19855420840197, 382.1751627873967, 719.4481306265563, 68.73566690095728, 175.63032631721356, 694.7891248778524, 191.45512918572516, 56.001194864311906, 165.1312842288962, 104.36294569338789, 170.966706911497, 129.65436785671045, 112.29132634163238, 87.49610490800377, 102.77448419616297, 113.3006642156311, 166.0845008267814, 120.4420966010772, 131.32849449789845, 105.45880243082345, 114.96152802297419, 112.79139899095988, 94.1591439446985, 138.18374153254575, 131.01809231723075, 129.93387747017974, 123.79187384788672, 130.19787520120204, 99.11275204908252, 90.04664595661183, 84.7684065572907, 84.41246972238055, 82.87407895372753, 81.25947058666138, 77.73867439034042, 72.87602250182063, 71.84432918882968, 65.15366209638997, 63.4783706691538, 56.43497363627642, 54.50076104480646, 49.75792263570338, 47.07080519608652, 46.69801285879693, 45.98413945249949, 41.66703762326971, 41.40046299605533, 41.231099135758996, 39.39093106178493, 38.92956096627129, 72.59288908109436, 39.22192081342663, 33.99271763509822, 104.94549561228538, 159.1336637038731, 203.6370023595581, 49.20524343458228, 196.23887158526088, 86.56095082577166, 104.48991337194133, 185.25053099765788, 108.70926791958848, 255.09329468208543, 175.86848279981976, 152.4745249769886, 138.53784121118017, 105.26803847382936, 117.87911643856819, 103.24477664155131, 116.66408143246612, 157.88403975992463, 94.89973000027963, 141.41555954990037, 113.16494091897074, 98.03293499647918, 101.57786622369696, 95.36056358112867, 95.55543221051857, 254.5812789175839, 207.52548847675763, 168.4190601235986, 165.94780216252897, 141.596657127874, 138.68325885934854, 141.42726977550217, 129.8529942749766, 114.86760574074694, 113.27412090322117, 110.8064577092696, 108.07859114901231, 102.33577414914392, 95.17697196223848, 92.38612476111116, 93.76467783072448, 74.51706700338389, 72.8390810664821, 66.34888951547127, 65.38718098693045, 62.16817535714918, 60.79721703547617, 55.0198445342819, 53.008102925744396, 70.74155852518614, 50.8069740607239, 50.449940667191896, 66.53640316007464, 47.64753484545388, 45.85292359007516, 199.4810255411363, 496.3007699519076, 176.55790174413693, 198.40070173374957, 211.07257678631638, 92.61832424964437, 203.189798130671, 82.95204361334117, 243.66727708189111, 138.8348328568049, 100.7152964620976, 98.29395601495997, 93.34112920945745, 98.2613222697162, 200.6710191848922, 150.7534250964653, 142.04577209536293, 109.47940044856679, 80.31479780890571, 76.64731684694632, 75.66155109767273, 80.67345365122917, 68.10107715462301, 64.05448057526802, 62.01145348730271, 61.26424371594356, 60.51814745326105, 59.85000816027677, 59.58757613237071, 56.93961841232059, 55.485622264519904, 55.39393959603207, 54.97287803103855, 52.253235349346376, 48.46015894103985, 47.578706987589456, 44.7393242487137, 43.67037864380622, 42.520351427505844, 41.16154133433548, 40.965563807246845, 40.85232300478815, 39.46085377788082, 39.03634185096752, 63.045906835345704, 76.542851553344, 251.72036228256687, 328.9601263445973, 229.79437655418386, 153.43373895469412, 203.194987335054, 69.90340078365465, 142.9123848413471, 110.84637248458803, 189.06442588049177, 94.70974561272486, 89.80010406008434, 116.32045688783963, 122.5516893167616, 65.590099939022, 76.86555697267879, 86.11037564925901, 118.73524816346803, 86.91251094044345, 83.39010425178344, 89.47408083938649, 76.9029541994582, 77.05210376301629, 80.3021250196811, 83.81507067203415, 944.1905605973072, 174.92853806818434, 138.14372971383656, 127.5946144684322, 126.48134472732976, 120.96945460807385, 109.3742437566789, 106.52692766352648, 106.12619010970414, 93.8107342409917, 78.91586043545831, 75.76077092792744, 65.29095207187221, 51.26459566584684, 50.41722079616113, 44.580454263346056, 42.801925464176435, 41.41956731519353, 41.3962530340834, 40.63321389568958, 39.40610483413043, 32.659334226278666, 30.708184160538902, 30.044309456581, 28.044815035234215, 25.719730049398876, 24.630106028684047, 23.786653495641282, 407.4010873926268, 23.383636152313603, 171.3942454040865, 43.02222088317372, 237.4807616112955, 127.88343907815094, 157.21973380986927, 139.79074487262528, 136.59252064895944, 166.8071258036995, 157.20301901580916, 205.27563103841925, 145.10417427976085, 109.79433296953137, 68.83222510351577, 224.2291820550931, 90.9416566872115, 91.72523773618445, 96.66076044536332, 115.5515321018754, 123.83375650640829, 87.11098040048078, 166.21881385067897, 135.95188207958702, 121.84856510171093, 108.20037497846553, 100.13123906612716, 97.09018412327656, 93.90161779871592, 90.94432294238254, 90.76399061584817, 90.18972254988363, 78.88613401004574, 78.32685565726686, 72.45933386907389, 92.33188985728479, 69.41668655053576, 67.56544009179778, 65.85878472154785, 63.20220129230975, 58.37869277112957, 57.694449500880516, 55.320751893868234, 49.684495947133314, 49.187078295091396, 48.739159331823636, 45.09852711508463, 44.21512153512708, 43.26779023013109, 42.57211899160872, 42.2730533945085, 40.38998192909703, 142.94059952809903, 176.42056281629343, 58.71176374797364, 91.49230274258002, 198.4744709327107, 195.77888836605146, 96.39764136843708, 69.59351339984991, 76.49993934860952, 102.25492806343009, 81.26175597212915, 140.79748692346993, 118.27912276906542, 92.05306656243137, 87.7895397401818, 74.38444292728195, 71.67175498221265, 223.58865629216612, 218.26167567452478, 212.39589268178415, 181.5882042303041, 130.84742509919369, 129.10814359162202, 102.16703969219482, 92.04097259603398, 91.76028702643879, 70.17478666927009, 66.82941070777007, 62.41492462811137, 60.711090409536794, 56.07093012275503, 49.01367311353154, 48.995582278823576, 46.02179385339687, 38.886311895778974, 36.09335569263239, 36.016745037780616, 34.98520474714666, 33.34268457665099, 32.94658261616956, 32.02574121781668, 30.1539398680798, 30.01481060214504, 29.895073009404054, 333.0333521998941, 25.9440660546905, 48.029473492336344, 93.06911413826612, 186.48496330452903, 41.89332655722872, 184.59303814014424, 146.3575305891961, 105.7814899523995, 91.00485138364105, 110.48517862334015, 116.18882474897534, 114.35002573879233, 62.545608519229496, 69.01332373551315, 55.45723437872243, 53.523109207830736, 191.5335557881447, 144.3454565983991, 137.37029125262245, 81.61826810979696, 71.65577275888168, 53.556857921541045, 51.03109186097487, 50.30608994876357, 48.981124776299076, 49.264550623733314, 44.23936801952669, 43.947214839458965, 36.227063787505514, 36.225041301712636, 33.062249418010154, 30.889707436796666, 28.579472988472496, 24.607525397340755, 23.035324615644782, 84.71992780676621, 219.87099238591387, 17.599863403577046, 30.38828009295519, 15.185169606965976, 13.181673729940043, 13.002711316622587, 31.69733912967897, 9.885051509825285, 110.23292826523554, 44.33253719838499, 333.9555671100742, 137.24448037881618, 75.89589175157354, 66.4720476976633, 44.751485937261194, 203.74708191235644, 136.74374558314014, 95.32491990703325, 164.26729303955872, 85.47710562931864, 78.41447083737272, 75.47039342739234, 64.13134113005987, 54.310309467238746, 47.6369602892069, 46.78229456560814, 45.004031082427694, 44.8647778283011, 292.56194189392744, 244.02817554379658, 163.65346791219292, 126.65518662754991, 98.57700152971809, 91.80705173355888, 89.52880926668657, 77.24642966700516, 66.95219329280329, 55.79329460150756, 60.71140388391694, 55.1807861885307, 44.00946515131742, 43.66760219166627, 40.386525428679974, 196.98122597393143, 36.256288647584554, 35.60006540778354, 34.65292265739899, 33.059005537314526, 32.259432369226786, 27.683886035802008, 27.56867567871996, 27.30576560047911, 26.392139522460692, 23.343504569601265, 19.126043202155213, 19.01915384503699, 17.557629355419582, 15.588220210664298, 402.80176739379306, 78.44864458689688, 94.15523003614608, 178.52466440109305, 124.67922913187523, 67.70725897008927, 84.83374616292832, 66.71167301422813, 60.17502670520625, 69.18867301578133, 77.33633590263324, 60.12101513387709, 36.883885281348896, 42.61521259434593, 169.1394627777966, 130.04754414350882, 123.28856827185875, 107.60284994526431, 98.67362823834813, 89.51814869161451, 74.98271846342813, 73.9691089164874, 70.60747159485943, 70.5312084993369, 69.48012962588527, 67.21323863414939, 64.2410983216411, 63.94548667008574, 62.841945520041016, 62.18159675734767, 61.90165658799311, 57.89914568034516, 52.489388518278595, 50.017319852833005, 46.51733374683038, 32.00057620060016, 27.215049014605945, 25.18877105782168, 18.672218727497377, 646.1318445757133, 16.57626074161048, 12.9465436984655, 12.42157840430158, 10.435620098252393, 213.14687685835378, 104.2795366396428, 117.85503965042557, 56.88340267183921, 81.66515721696932, 49.35165374709484, 41.834463903337614, 34.590963904227046, 471.4377448210447, 162.95407642909223, 154.9506446186478, 140.5009876314692, 117.87778587223718, 111.87630272887446, 101.30097902868675, 99.03816995604203, 86.48804354715564, 71.08578862119109, 70.28224643876405, 70.15019299621159, 69.48582598023329, 62.42685666181762, 59.963195727395366, 55.66497871729136, 55.32841631150112, 45.94370369548702, 44.94407029914826, 43.26735023131375, 40.630188704456174, 39.11135276422496, 32.28438162168996, 29.14934101884019, 28.65983798838547, 23.616159341413947, 22.09217298329288, 21.898348209891395, 21.292799575732154, 20.010335897207092, 71.82175783418063, 72.73811197270524, 85.07869929985414, 99.19500828094705, 78.01492442180034, 48.95570529008547, 38.595611634784795, 36.73535640138543, 248.80723988517087, 104.72564929458572, 79.6399481866442, 47.526489981160765, 46.912300498580976, 42.50318174236309, 39.0090386543819, 36.51204180440614, 36.45648733126041, 32.739705780320755, 32.52399497348598, 29.50169266327758, 29.19829946374005, 28.255584436386677, 23.19383711016062, 22.58703503765541, 22.412098659340494, 16.459451359698253, 15.807341319004014, 11.753454326406064, 9.194651916895443, 9.131389381416765, 7.627373555385662, 3.9276998799780762, 2.528984198456179, 27.71707672349599, 112.30663668040036, 71.19593471680548, 12.60314101525836, 8.11754636889074, 30.18863820858624, 12.86947308310101, 14.048561722695778, 189.5939367109734, 103.65681054106784, 82.6840374373249, 78.04432653509477, 62.10333275360597, 145.50420429819422, 57.48069792347597, 43.161669323817364, 28.23434907889206, 23.30786844166231, 15.57196001275285, 14.747627858470697, 12.019647516894524, 11.37649316432166, 8.465712568611096, 4.861321436481171, 27.033860606645927, 55.00154099128929, 53.3292904991214, 27.87781558142995, 26.98032024055651, 0.10004524102975157, 0.09203226740965806, 0.09300436602578252, 0.09009228209661316, 0.08969270489965704, 0.09022794466578724, 0.09001578025031742, 0.08827322644707469, 0.08794085491490751, 5.409494931478258, 0.8395417293666614, 118.11804673669644, 74.79669897399984, 69.92076931616505, 55.12746260521482, 52.86487151371776, 50.29149941717685, 44.6145383640978, 52.25991247297135, 37.580046389178584, 36.92921473761175, 33.39818662428481, 29.664478195004815, 27.29775153033378, 26.21426962051245, 23.473828661658715, 11.542277826344995, 8.845677759018693, 3.164508538079872, 0.10211236970483765, 0.09772994530957187, 0.09712751368058363, 0.09741619746036645, 0.0969621835296526, 0.09385757638254262, 0.09359303622154838, 0.09356142304653557, 0.0924762845904509, 0.09229661792424909, 0.09203126326377296, 0.0916568054044047, 11.288833346780592, 1.2470456961198353, 0.7010291354410795, 0.09275485003520659], \"Total\": [1693.0, 945.0, 1287.0, 689.0, 1054.0, 472.0, 844.0, 771.0, 467.0, 638.0, 449.0, 249.0, 347.0, 426.0, 293.0, 522.0, 340.0, 190.0, 395.0, 229.0, 495.0, 245.0, 261.0, 439.0, 297.0, 231.0, 224.0, 326.0, 148.0, 219.0, 122.28576667621472, 115.76162004545695, 81.0758258167234, 68.63807954528119, 63.01919576404727, 60.457885934304706, 60.23142991247315, 59.563478803730575, 54.34301195472324, 52.5127195727771, 51.242264690650636, 50.44207940836024, 72.67704376185972, 46.17939768370397, 46.10858091354467, 45.85971243535943, 41.85205960651992, 38.925345285802145, 36.926541487792605, 272.8175134179193, 33.27391427211406, 30.70433675729124, 29.53269793307097, 42.20967735249377, 28.424877137932523, 25.490639847038537, 24.03508701046754, 22.436566237407547, 20.8030947652152, 29.720320886081343, 844.7366291690131, 1287.4651611273525, 263.4439707745362, 1693.130838327677, 112.30452442086475, 93.29818016146098, 191.29904478616564, 318.26432282922605, 151.5666449667831, 244.06758264737184, 162.1081847590852, 235.82236814116555, 552.1519289401401, 150.62031435954992, 120.07628853319352, 261.46760651747087, 347.87013308212727, 1054.8341555851555, 189.0614141407375, 150.71074608857342, 481.4630591612971, 147.45733688964864, 207.35927929512138, 245.61204520317696, 721.1279814703196, 257.87913980562945, 323.99116967360885, 163.54426111871837, 151.3239468027075, 135.59326742394663, 121.55743723324254, 120.5359424349859, 119.51555976437348, 101.29449669376984, 93.42526532996976, 92.03509649335865, 86.35889645590052, 83.71431796544282, 80.98939798518008, 80.88268283324703, 77.6249242395318, 68.39864473019662, 67.00542455724715, 64.95074680513378, 61.02838583139714, 57.696204340144845, 57.182190738480195, 56.36218781568809, 51.36094778865639, 50.593896325748716, 49.83634997610303, 49.38907193415248, 43.623127464082295, 41.49359404144855, 41.4023299015905, 41.39520290564838, 41.325185651176, 395.0097805900183, 771.4289980141278, 72.87198657188142, 201.90910184688101, 1054.8341555851555, 290.0944328553008, 59.96522839967521, 275.97613307774577, 154.75333460144165, 428.7215518118471, 272.11984799063276, 215.6291418525059, 137.13269178914987, 197.83841549372605, 266.8214222218964, 721.1279814703196, 340.4542727173121, 552.1519289401401, 323.99116967360885, 499.1394248397346, 526.0400584237228, 481.4630591612971, 139.3144864365491, 132.14908900189738, 131.06467550027705, 124.9226212481911, 131.3959851503718, 100.243494947683, 91.17738909824047, 85.89914666144647, 85.54320878047461, 84.00481905029477, 82.39020966241483, 78.86941556553475, 74.00676024813598, 72.97510402660677, 66.28440090541126, 64.60910903262292, 57.56571695202292, 55.631501701416646, 50.88866046268603, 48.20154671643975, 47.82875310390743, 47.11487766119475, 42.79777958762513, 42.531207232823185, 42.362253306045034, 40.52166969453418, 40.060306203391285, 74.76360354120395, 40.42321913892621, 35.12345607365174, 111.97431660459057, 177.72539799695065, 231.49363059021286, 51.54596918884296, 233.92312604564026, 104.07438374766645, 143.51185674139398, 314.22695352820494, 153.99685055109242, 522.5581997174663, 321.6550327122622, 266.8214222218964, 250.56207156021514, 168.2750541950642, 205.9064503717877, 165.28847855268992, 234.62875206734657, 526.0400584237228, 146.35496647935264, 721.1279814703196, 364.4589040376876, 227.500760130966, 310.33949039796977, 338.9177006916147, 365.46981348187876, 255.70954468707052, 208.65482881077276, 169.5473289694181, 167.07606870282714, 142.72492598473997, 139.8115231431138, 142.58059856935668, 130.98126139019215, 115.99586974705068, 114.40238535410583, 111.93472287327478, 109.20687150868787, 103.47211505496465, 96.30524322128268, 93.51439168037847, 94.92175866999537, 75.64533345699758, 73.9674072347058, 67.49233052123996, 66.51868119876087, 63.29644955844323, 61.92548015123914, 56.14811359727024, 54.13636765159458, 72.29799169834342, 51.93523944926119, 51.578204507508076, 68.04818292930959, 48.77584622629276, 46.981190194495454, 233.18050638061223, 638.3046526020345, 219.30072823106335, 259.9736182352001, 302.0714227560955, 109.19401182563347, 323.55668715011535, 98.47258414110522, 592.1463493951929, 286.24787444781623, 190.01404968516593, 229.65672169465557, 245.88121200816872, 365.46981348187876, 201.80087394892152, 151.88282220687762, 143.17516409843117, 110.60879299113002, 81.44419044935029, 77.7768244135112, 76.79094776144298, 81.90128527477383, 69.23047054199363, 65.18402777902412, 63.1425526992847, 62.393761365575024, 61.647539892840996, 60.981461543069315, 60.71698095819753, 58.0690145811309, 56.61501415322308, 56.52338390278662, 56.10226847520007, 53.38262792742805, 49.589681181435466, 48.708096716157726, 45.86871583905667, 44.79981479098817, 43.64974434080912, 42.290934313775516, 42.09496268001004, 41.98171206472674, 40.59024705411833, 40.165744604704244, 66.94313588841734, 84.16969840138435, 356.41358602148927, 495.60006851817633, 340.762646560342, 215.77432800486002, 357.7138503959075, 85.98063244517826, 245.88121200816872, 169.69662744248626, 499.1394248397346, 160.1143692060399, 144.43865197346508, 253.982011348597, 292.1523682097553, 79.531040242514, 126.00590034052865, 194.34521541902194, 592.1463493951929, 212.16723880261858, 201.58715995302185, 285.6680315942159, 171.06510992723727, 190.01404968516593, 269.90481154679566, 439.2076844999824, 945.3999987872339, 176.06375257642347, 139.27895976609435, 128.72987645858709, 127.61660208703655, 122.10467121524404, 110.50946399285861, 107.6621443545348, 107.26153667058743, 94.94595788134838, 80.056508743731, 76.89598576394599, 66.42616567832395, 52.39980901249495, 51.553570626386914, 45.715672065700865, 43.937172607905616, 42.55478245240089, 42.53150070931561, 41.768431344308766, 40.54133988384932, 33.79456157434319, 31.8434154365919, 31.179534862991954, 29.18003584941802, 26.854952610393497, 25.76532661641699, 24.92187456477561, 426.9192565179777, 24.52962641208257, 183.30754452986525, 47.41709030572493, 326.08898841079656, 163.6747676895385, 245.4364449492243, 213.93682696491697, 253.982011348597, 347.87013308212727, 335.4999210098461, 526.0400584237228, 338.9177006916147, 275.97613307774577, 113.86916085584508, 1693.130838327677, 228.63174137638876, 239.38776747742375, 340.762646560342, 721.1279814703196, 1287.4651611273525, 276.6256492550114, 167.55045486150067, 137.07481577987932, 122.97150053203494, 109.32330912660346, 101.2541797642035, 98.21328892103077, 95.02455085936045, 92.06725825768464, 91.8880704929492, 91.31281270815445, 80.00906620437424, 79.44978982981759, 73.58226987517773, 93.82117249318931, 70.53961784110928, 68.68837299488932, 66.98171630863366, 64.32514073954852, 59.50266484914246, 58.81989693477744, 56.44376736708866, 50.80743341232305, 50.310009511793254, 49.86209403143547, 46.22148130456082, 45.338235012813705, 44.391057238545834, 43.69518387645197, 43.395992110049434, 41.512913935889586, 147.463304380407, 194.3728137844347, 61.569512814857134, 105.33221835701113, 275.547345849078, 297.46791330664945, 155.34452760774792, 90.3856962664689, 109.47148292513891, 197.456922126907, 135.17661118568105, 638.3046526020345, 592.1463493951929, 449.35494619196726, 522.5581997174663, 439.2076844999824, 359.2901312080016, 224.7272345326332, 219.40025518593228, 213.53446848651237, 182.7267824867084, 131.9861938133923, 130.24671871718968, 103.30561391778713, 93.17955180844389, 92.89886548191947, 71.31337775402461, 67.9679875591198, 63.5535072046324, 61.849670955525816, 57.2095254305652, 50.1522470165495, 50.13416959874255, 47.16036855339649, 40.02490455768371, 37.23195028038845, 37.15533527754644, 36.123784528722375, 34.48126012574458, 34.08515689948404, 33.16433851140752, 31.292518818127423, 31.15338700926333, 31.033686358241546, 347.006053241603, 27.08265219949032, 50.23216893935947, 102.90491299199897, 220.96746522086713, 45.0649267375201, 310.33949039796977, 286.24787444781623, 245.61204520317696, 196.36776346680793, 335.4999210098461, 495.60006851817633, 721.1279814703196, 250.56207156021514, 428.7215518118471, 499.1394248397346, 314.22695352820494, 192.71967013888874, 145.46887085491238, 138.4931827123671, 82.74134743232497, 72.77866414885364, 54.67974781640426, 52.15399137603722, 51.43881143236123, 50.104215380889855, 50.40127839929125, 45.362255619160706, 45.07309342893272, 37.349950000149164, 37.34792815924916, 34.185135299489126, 32.012593785541334, 29.702362193475405, 25.73042154838608, 24.158241462223216, 88.9116345255777, 231.80876090669284, 18.722755859875967, 32.41264064021607, 16.308185721249153, 14.305096767955803, 14.128530242630003, 34.676105638959655, 11.007938631897877, 129.5441758592141, 56.546428238058525, 449.35494619196726, 191.61244026925698, 101.06336539797054, 90.86078408307897, 60.25202951443357, 439.2076844999824, 286.13551685067847, 194.33787913117115, 481.4630591612971, 188.70981979054696, 189.0614141407375, 365.46981348187876, 281.2985631111055, 187.79659829910787, 356.41358602148927, 227.500760130966, 215.77432800486002, 269.90481154679566, 293.6993617783362, 245.16183376160774, 164.8936864925513, 127.7888188204029, 99.71061828459545, 92.94067154348615, 90.66243376332797, 78.3809071694816, 68.08582889930554, 56.92691967373478, 61.94659525219473, 56.314401818746674, 45.14308239941998, 44.80121845766654, 41.5201432575529, 202.98127276300605, 37.38990916354448, 36.73368433708123, 35.78659554793624, 34.19382789877002, 33.393061798780856, 28.817501099354054, 28.702613930836904, 28.440400114854867, 27.525757013249926, 24.477126396328707, 20.25966613230736, 20.15277176002946, 18.691289311626587, 16.7218386769859, 467.58017479248934, 97.81836867099256, 197.456922126907, 522.5581997174663, 359.2901312080016, 140.7902719854035, 257.87913980562945, 161.2461938067021, 150.09718688327212, 250.8793564403955, 357.7138503959075, 285.6680315942159, 61.70873102965525, 689.8657147792011, 170.26275210492193, 131.17066150835973, 124.41169110671115, 108.72597133995893, 99.79674745627686, 90.64157150284272, 76.10583908322371, 75.10444535046194, 71.73058918239997, 71.65433895377576, 70.60348851263267, 68.33844410323995, 65.36421887216243, 65.06861506351812, 63.96506327964264, 63.30473184704592, 63.02477821809759, 59.02226236236913, 53.61251651015402, 51.14044829467193, 47.640477043746785, 33.12394616984277, 28.338167367357382, 26.311889685135007, 19.795336983463837, 689.8657147792011, 17.76933944342958, 14.069660529371973, 13.544826888401445, 11.55873801789194, 340.4542727173121, 196.36776346680793, 293.1423567422569, 157.82518287520773, 326.08898841079656, 154.75333460144165, 323.55668715011535, 111.92821068260055, 472.6799845223529, 164.10100859445234, 156.09759599187345, 141.64801140100286, 119.02477494735132, 113.02343151435764, 102.44791048641795, 100.18510051922172, 87.63498721240829, 72.23272141651945, 71.4292449630944, 71.3012829067092, 70.63423716176939, 63.57378730215408, 61.11085772744806, 56.81212535591121, 56.47534984654218, 47.09064430718531, 46.09100386259864, 44.414281955346645, 41.777486822149264, 40.25828224563488, 33.43131805378003, 30.29627457623239, 29.806778107524085, 24.763273776324528, 23.239105348127502, 23.045287484150542, 22.439746871416762, 21.157272163746956, 88.31218957140742, 99.81350628832351, 207.35927929512138, 297.46791330664945, 269.90481154679566, 150.71074608857342, 79.99790960506624, 323.55668715011535, 249.94103226651558, 106.14618783461093, 80.77371606462984, 48.66025843445031, 48.04606936502876, 43.63699032314712, 40.14281090386018, 37.64581064186396, 37.590279608117584, 33.87362013105958, 33.65776352593691, 30.635460955565456, 30.332069429507865, 29.38953266972392, 24.327605432561263, 23.72080395054056, 23.545867329962643, 17.593613203570126, 16.94110919364752, 12.887222457750587, 10.328419283411352, 10.265158743148282, 8.761143839400344, 5.061467435059964, 3.6627514276869144, 56.081937239964, 229.65672169465557, 261.46760651747087, 66.56087181687369, 48.57945782516241, 194.33787913117115, 219.30072823106335, 314.22695352820494, 190.72104692377107, 104.78392028396037, 83.81117450562367, 79.17143669421786, 63.230443001215356, 148.23201651329538, 58.60780928619642, 44.28877876792119, 29.36146349261313, 24.434987130443613, 16.699069378300344, 15.874751071359325, 13.14675857752089, 12.503604025127636, 9.592822747909754, 5.988430278506574, 85.8836642016225, 188.70981979054696, 191.61244026925698, 227.500760130966, 233.18050638061223, 1.2459383508563207, 1.2304232765449608, 1.2515270445058906, 1.2232158200797008, 1.2287527110324006, 1.2366543994931303, 1.235646707056677, 1.2228992907222322, 1.2206200343447173, 95.74280808702325, 70.50902567121761, 119.24085240065378, 75.91950826488682, 71.04357591554137, 56.28977085278638, 53.98768187204472, 51.41430803060883, 45.73734409084362, 53.73998522089741, 38.70285918807552, 38.05218082595117, 34.5210088480192, 30.78728444546267, 28.42056110493446, 27.3370762151606, 24.596663595982474, 12.665086224188107, 9.968485037342898, 4.287314016659935, 1.2481291339555545, 1.2300388384949834, 1.2248561445223987, 1.2290277630771715, 1.2596142277515052, 1.2307515585895432, 1.2288511613445527, 1.2298375584187993, 1.2168825716304839, 1.2224082222718053, 1.222457438542228, 1.2208960427410398, 190.01404968516593, 148.23201651329538, 357.7138503959075, 126.44022605674631], \"Category\": [\"Default\", \"Default\", \"Default\", \"Default\", \"Default\", \"Default\", \"Default\", \"Default\", \"Default\", \"Default\", \"Default\", \"Default\", \"Default\", \"Default\", \"Default\", \"Default\", \"Default\", \"Default\", \"Default\", \"Default\", \"Default\", \"Default\", \"Default\", \"Default\", \"Default\", \"Default\", \"Default\", \"Default\", \"Default\", \"Default\", \"Topic1\", \"Topic1\", \"Topic1\", \"Topic1\", \"Topic1\", \"Topic1\", \"Topic1\", \"Topic1\", \"Topic1\", \"Topic1\", \"Topic1\", \"Topic1\", \"Topic1\", \"Topic1\", \"Topic1\", \"Topic1\", \"Topic1\", \"Topic1\", \"Topic1\", \"Topic1\", \"Topic1\", \"Topic1\", \"Topic1\", \"Topic1\", \"Topic1\", \"Topic1\", \"Topic1\", \"Topic1\", \"Topic1\", \"Topic1\", \"Topic1\", \"Topic1\", \"Topic1\", \"Topic1\", \"Topic1\", \"Topic1\", \"Topic1\", \"Topic1\", \"Topic1\", \"Topic1\", \"Topic1\", \"Topic1\", \"Topic1\", \"Topic1\", \"Topic1\", \"Topic1\", \"Topic1\", \"Topic1\", \"Topic1\", \"Topic1\", \"Topic1\", \"Topic1\", \"Topic1\", \"Topic1\", \"Topic1\", \"Topic1\", \"Topic1\", \"Topic2\", \"Topic2\", \"Topic2\", \"Topic2\", \"Topic2\", \"Topic2\", \"Topic2\", \"Topic2\", \"Topic2\", \"Topic2\", \"Topic2\", \"Topic2\", \"Topic2\", \"Topic2\", \"Topic2\", \"Topic2\", \"Topic2\", \"Topic2\", \"Topic2\", \"Topic2\", \"Topic2\", \"Topic2\", \"Topic2\", \"Topic2\", \"Topic2\", \"Topic2\", \"Topic2\", \"Topic2\", \"Topic2\", \"Topic2\", \"Topic2\", \"Topic2\", \"Topic2\", \"Topic2\", \"Topic2\", \"Topic2\", \"Topic2\", \"Topic2\", \"Topic2\", \"Topic2\", \"Topic2\", \"Topic2\", \"Topic2\", \"Topic2\", \"Topic2\", \"Topic2\", \"Topic2\", \"Topic2\", \"Topic2\", \"Topic2\", \"Topic2\", \"Topic2\", \"Topic3\", \"Topic3\", \"Topic3\", \"Topic3\", \"Topic3\", \"Topic3\", \"Topic3\", \"Topic3\", \"Topic3\", \"Topic3\", \"Topic3\", \"Topic3\", \"Topic3\", \"Topic3\", \"Topic3\", \"Topic3\", \"Topic3\", \"Topic3\", \"Topic3\", \"Topic3\", \"Topic3\", \"Topic3\", \"Topic3\", \"Topic3\", \"Topic3\", \"Topic3\", \"Topic3\", \"Topic3\", \"Topic3\", \"Topic3\", \"Topic3\", \"Topic3\", \"Topic3\", \"Topic3\", \"Topic3\", \"Topic3\", \"Topic3\", \"Topic3\", \"Topic3\", \"Topic3\", \"Topic3\", \"Topic3\", \"Topic3\", \"Topic3\", \"Topic3\", \"Topic3\", \"Topic3\", \"Topic3\", \"Topic3\", \"Topic3\", \"Topic3\", \"Topic3\", \"Topic3\", \"Topic3\", \"Topic3\", \"Topic4\", \"Topic4\", \"Topic4\", \"Topic4\", \"Topic4\", \"Topic4\", \"Topic4\", \"Topic4\", \"Topic4\", \"Topic4\", \"Topic4\", \"Topic4\", \"Topic4\", \"Topic4\", \"Topic4\", \"Topic4\", \"Topic4\", \"Topic4\", \"Topic4\", \"Topic4\", \"Topic4\", \"Topic4\", \"Topic4\", \"Topic4\", \"Topic4\", \"Topic4\", \"Topic4\", \"Topic4\", \"Topic4\", \"Topic4\", \"Topic4\", \"Topic4\", \"Topic4\", \"Topic4\", \"Topic4\", \"Topic4\", \"Topic4\", \"Topic4\", \"Topic4\", \"Topic4\", \"Topic4\", \"Topic4\", \"Topic4\", \"Topic4\", \"Topic5\", \"Topic5\", \"Topic5\", \"Topic5\", \"Topic5\", \"Topic5\", \"Topic5\", \"Topic5\", \"Topic5\", \"Topic5\", \"Topic5\", \"Topic5\", \"Topic5\", \"Topic5\", \"Topic5\", \"Topic5\", \"Topic5\", \"Topic5\", \"Topic5\", \"Topic5\", \"Topic5\", \"Topic5\", \"Topic5\", \"Topic5\", \"Topic5\", \"Topic5\", \"Topic5\", \"Topic5\", \"Topic5\", \"Topic5\", \"Topic5\", \"Topic5\", \"Topic5\", \"Topic5\", \"Topic5\", \"Topic5\", \"Topic5\", \"Topic5\", \"Topic5\", \"Topic5\", \"Topic5\", \"Topic5\", \"Topic5\", \"Topic5\", \"Topic5\", \"Topic5\", \"Topic5\", \"Topic5\", \"Topic5\", \"Topic5\", \"Topic5\", \"Topic5\", \"Topic5\", \"Topic5\", \"Topic5\", \"Topic5\", \"Topic6\", \"Topic6\", \"Topic6\", \"Topic6\", \"Topic6\", \"Topic6\", \"Topic6\", \"Topic6\", \"Topic6\", \"Topic6\", \"Topic6\", \"Topic6\", \"Topic6\", \"Topic6\", \"Topic6\", \"Topic6\", \"Topic6\", \"Topic6\", \"Topic6\", \"Topic6\", \"Topic6\", \"Topic6\", \"Topic6\", \"Topic6\", \"Topic6\", \"Topic6\", \"Topic6\", \"Topic6\", \"Topic6\", \"Topic6\", \"Topic6\", \"Topic6\", \"Topic6\", \"Topic6\", \"Topic6\", \"Topic6\", \"Topic6\", \"Topic6\", \"Topic6\", \"Topic6\", \"Topic6\", \"Topic6\", \"Topic6\", \"Topic6\", \"Topic6\", \"Topic6\", \"Topic6\", \"Topic6\", \"Topic6\", \"Topic6\", \"Topic7\", \"Topic7\", \"Topic7\", \"Topic7\", \"Topic7\", \"Topic7\", \"Topic7\", \"Topic7\", \"Topic7\", \"Topic7\", \"Topic7\", \"Topic7\", \"Topic7\", \"Topic7\", \"Topic7\", \"Topic7\", \"Topic7\", \"Topic7\", \"Topic7\", \"Topic7\", \"Topic7\", \"Topic7\", \"Topic7\", \"Topic7\", \"Topic7\", \"Topic7\", \"Topic7\", \"Topic7\", \"Topic7\", \"Topic7\", \"Topic7\", \"Topic7\", \"Topic7\", \"Topic7\", \"Topic7\", \"Topic7\", \"Topic7\", \"Topic7\", \"Topic7\", \"Topic7\", \"Topic7\", \"Topic7\", \"Topic7\", \"Topic7\", \"Topic7\", \"Topic7\", \"Topic7\", \"Topic8\", \"Topic8\", \"Topic8\", \"Topic8\", \"Topic8\", \"Topic8\", \"Topic8\", \"Topic8\", \"Topic8\", \"Topic8\", \"Topic8\", \"Topic8\", \"Topic8\", \"Topic8\", \"Topic8\", \"Topic8\", \"Topic8\", \"Topic8\", \"Topic8\", \"Topic8\", \"Topic8\", \"Topic8\", \"Topic8\", \"Topic8\", \"Topic8\", \"Topic8\", \"Topic8\", \"Topic8\", \"Topic8\", \"Topic8\", \"Topic8\", \"Topic8\", \"Topic8\", \"Topic8\", \"Topic8\", \"Topic8\", \"Topic8\", \"Topic8\", \"Topic8\", \"Topic8\", \"Topic8\", \"Topic8\", \"Topic8\", \"Topic8\", \"Topic9\", \"Topic9\", \"Topic9\", \"Topic9\", \"Topic9\", \"Topic9\", \"Topic9\", \"Topic9\", \"Topic9\", \"Topic9\", \"Topic9\", \"Topic9\", \"Topic9\", \"Topic9\", \"Topic9\", \"Topic9\", \"Topic9\", \"Topic9\", \"Topic9\", \"Topic9\", \"Topic9\", \"Topic9\", \"Topic9\", \"Topic9\", \"Topic9\", \"Topic9\", \"Topic9\", \"Topic9\", \"Topic9\", \"Topic9\", \"Topic9\", \"Topic9\", \"Topic9\", \"Topic9\", \"Topic9\", \"Topic9\", \"Topic9\", \"Topic9\", \"Topic9\", \"Topic9\", \"Topic9\", \"Topic9\", \"Topic9\", \"Topic9\", \"Topic9\", \"Topic9\", \"Topic9\", \"Topic9\", \"Topic10\", \"Topic10\", \"Topic10\", \"Topic10\", \"Topic10\", \"Topic10\", \"Topic10\", \"Topic10\", \"Topic10\", \"Topic10\", \"Topic10\", \"Topic10\", \"Topic10\", \"Topic10\", \"Topic10\", \"Topic10\", \"Topic10\", \"Topic10\", \"Topic10\", \"Topic10\", \"Topic10\", \"Topic10\", \"Topic10\", \"Topic10\", \"Topic10\", \"Topic10\", \"Topic10\", \"Topic10\", \"Topic10\", \"Topic10\", \"Topic10\", \"Topic10\", \"Topic10\", \"Topic10\", \"Topic10\", \"Topic10\", \"Topic10\", \"Topic10\", \"Topic10\", \"Topic10\", \"Topic10\", \"Topic10\", \"Topic10\", \"Topic10\", \"Topic11\", \"Topic11\", \"Topic11\", \"Topic11\", \"Topic11\", \"Topic11\", \"Topic11\", \"Topic11\", \"Topic11\", \"Topic11\", \"Topic11\", \"Topic11\", \"Topic11\", \"Topic11\", \"Topic11\", \"Topic11\", \"Topic11\", \"Topic11\", \"Topic11\", \"Topic11\", \"Topic11\", \"Topic11\", \"Topic11\", \"Topic11\", \"Topic11\", \"Topic11\", \"Topic11\", \"Topic11\", \"Topic11\", \"Topic11\", \"Topic11\", \"Topic11\", \"Topic11\", \"Topic11\", \"Topic11\", \"Topic11\", \"Topic11\", \"Topic11\", \"Topic12\", \"Topic12\", \"Topic12\", \"Topic12\", \"Topic12\", \"Topic12\", \"Topic12\", \"Topic12\", \"Topic12\", \"Topic12\", \"Topic12\", \"Topic12\", \"Topic12\", \"Topic12\", \"Topic12\", \"Topic12\", \"Topic12\", \"Topic12\", \"Topic12\", \"Topic12\", \"Topic12\", \"Topic12\", \"Topic12\", \"Topic12\", \"Topic12\", \"Topic12\", \"Topic12\", \"Topic12\", \"Topic12\", \"Topic12\", \"Topic12\", \"Topic12\", \"Topic12\", \"Topic12\", \"Topic12\", \"Topic12\", \"Topic12\", \"Topic12\", \"Topic13\", \"Topic13\", \"Topic13\", \"Topic13\", \"Topic13\", \"Topic13\", \"Topic13\", \"Topic13\", \"Topic13\", \"Topic13\", \"Topic13\", \"Topic13\", \"Topic13\", \"Topic13\", \"Topic13\", \"Topic13\", \"Topic13\", \"Topic13\", \"Topic13\", \"Topic13\", \"Topic13\", \"Topic13\", \"Topic13\", \"Topic13\", \"Topic13\", \"Topic13\", \"Topic13\", \"Topic13\", \"Topic13\", \"Topic13\", \"Topic13\", \"Topic13\", \"Topic13\", \"Topic14\", \"Topic14\", \"Topic14\", \"Topic14\", \"Topic14\", \"Topic14\", \"Topic14\", \"Topic14\", \"Topic14\", \"Topic14\", \"Topic14\", \"Topic14\", \"Topic14\", \"Topic14\", \"Topic14\", \"Topic14\", \"Topic14\", \"Topic14\", \"Topic14\", \"Topic14\", \"Topic14\", \"Topic14\", \"Topic14\", \"Topic14\", \"Topic14\", \"Topic14\", \"Topic14\", \"Topic14\", \"Topic14\", \"Topic14\", \"Topic14\", \"Topic14\", \"Topic15\", \"Topic15\", \"Topic15\", \"Topic15\", \"Topic15\", \"Topic15\", \"Topic15\", \"Topic15\", \"Topic15\", \"Topic15\", \"Topic15\", \"Topic15\", \"Topic15\", \"Topic15\", \"Topic15\", \"Topic15\", \"Topic15\", \"Topic15\", \"Topic15\", \"Topic15\", \"Topic15\", \"Topic15\", \"Topic15\", \"Topic15\", \"Topic15\", \"Topic15\", \"Topic15\", \"Topic15\", \"Topic15\", \"Topic15\", \"Topic15\", \"Topic15\", \"Topic15\", \"Topic15\"], \"logprob\": [30.0, 29.0, 28.0, 27.0, 26.0, 25.0, 24.0, 23.0, 22.0, 21.0, 20.0, 19.0, 18.0, 17.0, 16.0, 15.0, 14.0, 13.0, 12.0, 11.0, 10.0, 9.0, 8.0, 7.0, 6.0, 5.0, 4.0, 3.0, 2.0, 1.0, -4.5234, -4.5788, -4.9392, -5.1083, -5.1952, -5.2375, -5.2413, -5.2527, -5.3463, -5.3813, -5.4063, -5.4224, -5.0593, -5.5128, -5.5144, -5.52, -5.6138, -5.6884, -5.7428, -3.7433, -5.8504, -5.9338, -5.9744, -5.6175, -6.014, -6.1278, -6.1894, -6.2617, -6.3415, -5.9886, -2.6742, -2.2694, -3.8346, -2.0289, -4.7142, -4.9015, -4.2387, -3.7973, -4.4774, -4.1097, -4.4866, -4.1964, -3.5187, -4.5746, -4.7553, -4.2033, -4.1275, -3.4443, -4.6358, -4.7967, -4.2465, -4.8253, -4.6845, -4.628, -4.1901, -4.811, -4.7939, -4.0432, -4.1215, -4.2321, -4.3424, -4.3508, -4.3594, -4.5265, -4.6084, -4.6235, -4.688, -4.7195, -4.7531, -4.7544, -4.7961, -4.9246, -4.9456, -4.9773, -5.0407, -5.0979, -5.107, -5.1218, -5.2167, -5.2321, -5.2475, -5.2567, -5.384, -5.4354, -5.4376, -5.4378, -5.4396, -3.1875, -2.5549, -4.9031, -3.965, -2.5898, -3.8787, -5.108, -4.0266, -4.4855, -3.9919, -4.2685, -4.4123, -4.6618, -4.5009, -4.4033, -4.0209, -4.3422, -4.2557, -4.4751, -4.3888, -4.4078, -4.5884, -4.1458, -4.199, -4.2073, -4.2557, -4.2053, -4.4781, -4.574, -4.6344, -4.6386, -4.657, -4.6767, -4.721, -4.7856, -4.7998, -4.8976, -4.9236, -5.0413, -5.0761, -5.1672, -5.2227, -5.2306, -5.246, -5.3446, -5.3511, -5.3552, -5.4008, -5.4126, -4.7895, -5.4051, -5.5482, -4.4209, -4.0046, -3.758, -5.1783, -3.795, -4.6135, -4.4253, -3.8526, -4.3857, -3.5327, -3.9046, -4.0473, -4.1432, -4.4178, -4.3047, -4.4372, -4.315, -4.0125, -4.5215, -4.1226, -4.3455, -4.489, -4.4535, -4.5167, -4.5146, -3.5217, -3.7261, -3.9349, -3.9497, -4.1084, -4.1292, -4.1096, -4.1949, -4.3176, -4.3315, -4.3536, -4.3785, -4.4331, -4.5056, -4.5354, -4.5206, -4.7503, -4.7731, -4.8664, -4.881, -4.9315, -4.9538, -5.0537, -5.0909, -4.8023, -5.1333, -5.1404, -4.8636, -5.1975, -5.2359, -3.7656, -2.8542, -3.8877, -3.7711, -3.7091, -4.5329, -3.7472, -4.6431, -3.5655, -4.1281, -4.449, -4.4734, -4.5251, -4.4737, -3.7021, -3.9881, -4.0476, -4.308, -4.6178, -4.6645, -4.6775, -4.6133, -4.7828, -4.844, -4.8764, -4.8885, -4.9008, -4.9119, -4.9163, -4.9618, -4.9876, -4.9893, -4.9969, -5.0476, -5.123, -5.1414, -5.2029, -5.2271, -5.2538, -5.2862, -5.291, -5.2938, -5.3284, -5.3393, -4.8599, -4.6659, -3.4754, -3.2078, -3.5666, -3.9705, -3.6896, -4.7566, -4.0415, -4.2956, -3.7617, -4.4529, -4.5062, -4.2474, -4.1952, -4.8203, -4.6617, -4.5481, -4.2268, -4.5388, -4.5802, -4.5098, -4.6612, -4.6593, -4.6179, -4.5751, -2.1198, -3.8058, -4.0419, -4.1213, -4.1301, -4.1746, -4.2754, -4.3017, -4.3055, -4.4289, -4.6018, -4.6426, -4.7913, -5.0331, -5.0498, -5.1729, -5.2136, -5.2464, -5.247, -5.2656, -5.2962, -5.484, -5.5456, -5.5675, -5.6363, -5.7229, -5.7662, -5.801, -2.9603, -5.8181, -3.8262, -5.2084, -3.5001, -4.119, -3.9125, -4.03, -4.0531, -3.8533, -3.9126, -3.6458, -3.9927, -4.2715, -4.7385, -3.5575, -4.4599, -4.4513, -4.3989, -4.2204, -4.1512, -4.503, -3.5931, -3.7941, -3.9037, -4.0225, -4.1, -4.1308, -4.1642, -4.1962, -4.1982, -4.2045, -4.3384, -4.3455, -4.4234, -4.1811, -4.4663, -4.4933, -4.5189, -4.5601, -4.6395, -4.6513, -4.6933, -4.8007, -4.8108, -4.82, -4.8976, -4.9174, -4.939, -4.9552, -4.9623, -5.0079, -3.744, -3.5336, -4.6338, -4.1902, -3.4158, -3.4295, -4.138, -4.4638, -4.3692, -4.079, -4.3088, -3.7591, -3.9334, -4.1841, -4.2315, -4.3972, -4.4343, -3.0683, -3.0924, -3.1196, -3.2763, -3.604, -3.6174, -3.8515, -3.9558, -3.9589, -4.2271, -4.2759, -4.3443, -4.3719, -4.4514, -4.586, -4.5863, -4.649, -4.8174, -4.892, -4.8941, -4.9231, -4.9712, -4.9832, -5.0115, -5.0718, -5.0764, -5.0804, -2.6698, -5.2221, -4.6063, -3.9447, -3.2497, -4.7429, -3.2599, -3.492, -3.8167, -3.9672, -3.7732, -3.7228, -3.7388, -4.3422, -4.2438, -4.4625, -4.498, -3.1314, -3.4142, -3.4637, -3.9844, -4.1146, -4.4057, -4.454, -4.4683, -4.495, -4.4892, -4.5968, -4.6034, -4.7966, -4.7967, -4.888, -4.956, -5.0337, -5.1834, -5.2494, -3.9471, -2.9934, -5.5185, -4.9724, -5.6661, -5.8076, -5.8213, -4.9302, -6.0954, -3.6838, -4.5947, -2.5754, -3.4647, -4.0571, -4.1896, -4.5853, -3.0696, -3.4683, -3.8291, -3.2849, -3.9382, -4.0244, -4.0627, -4.2255, -4.3917, -4.5228, -4.5409, -4.5797, -4.5828, -2.6723, -2.8537, -3.2532, -3.5095, -3.7602, -3.8313, -3.8564, -4.004, -4.147, -4.3293, -4.2449, -4.3404, -4.5666, -4.5744, -4.6525, -3.0679, -4.7604, -4.7787, -4.8056, -4.8527, -4.8772, -5.0301, -5.0343, -5.0439, -5.0779, -5.2007, -5.3999, -5.4056, -5.4855, -5.6045, -2.3526, -3.9886, -3.8061, -3.1663, -3.5253, -4.1358, -3.9103, -4.1506, -4.2537, -4.1142, -4.0028, -4.2546, -4.7432, -4.5988, -3.0306, -3.2934, -3.3468, -3.4829, -3.5695, -3.6669, -3.844, -3.8577, -3.9042, -3.9052, -3.9203, -3.9534, -3.9987, -4.0033, -4.0207, -4.0312, -4.0358, -4.1026, -4.2007, -4.2489, -4.3215, -4.6955, -4.8575, -4.9349, -5.2343, -1.6903, -5.3533, -5.6005, -5.6419, -5.8161, -2.7993, -3.5142, -3.3918, -4.1203, -3.7587, -4.2623, -4.4276, -4.6177, -1.9888, -3.0511, -3.1014, -3.1993, -3.3749, -3.4272, -3.5265, -3.549, -3.6845, -3.8807, -3.892, -3.8939, -3.9034, -4.0106, -4.0508, -4.1252, -4.1313, -4.3171, -4.3391, -4.3771, -4.44, -4.4781, -4.67, -4.7721, -4.7891, -4.9826, -5.0493, -5.0581, -5.0862, -5.1483, -3.8704, -3.8577, -3.701, -3.5475, -3.7876, -4.2536, -4.4914, -4.5408, -1.7293, -2.5946, -2.8684, -3.3847, -3.3977, -3.4964, -3.5822, -3.6483, -3.6498, -3.7574, -3.764, -3.8615, -3.8719, -3.9047, -4.1021, -4.1286, -4.1364, -4.4451, -4.4855, -4.7818, -5.0273, -5.0342, -5.2142, -5.8779, -6.3181, -3.9239, -2.5247, -2.9805, -4.712, -5.1519, -3.8385, -4.6911, -4.6034, -1.8544, -2.4582, -2.6842, -2.742, -2.9704, -2.119, -3.0478, -3.3343, -3.7587, -3.9505, -4.3538, -4.4082, -4.6127, -4.6677, -4.9632, -5.5179, -3.8022, -3.0919, -3.1228, -3.7714, -3.8041, -9.4014, -9.4849, -9.4744, -9.5062, -9.5106, -9.5047, -9.507, -9.5266, -9.5303, -5.4111, -7.2741, -2.0419, -2.4988, -2.5662, -2.8039, -2.8458, -2.8957, -3.0155, -2.8573, -3.1871, -3.2046, -3.3051, -3.4236, -3.5068, -3.5473, -3.6577, -4.3676, -4.6336, -5.6616, -9.0953, -9.1391, -9.1453, -9.1423, -9.147, -9.1795, -9.1824, -9.1827, -9.1944, -9.1963, -9.1992, -9.2033, -4.3898, -6.5928, -7.1688, -9.1914], \"loglift\": [30.0, 29.0, 28.0, 27.0, 26.0, 25.0, 24.0, 23.0, 22.0, 21.0, 20.0, 19.0, 18.0, 17.0, 16.0, 15.0, 14.0, 13.0, 12.0, 11.0, 10.0, 9.0, 8.0, 7.0, 6.0, 5.0, 4.0, 3.0, 2.0, 1.0, 2.0053, 2.0048, 2.0005, 1.9979, 1.9964, 1.9957, 1.9956, 1.9954, 1.9935, 1.9928, 1.9922, 1.9918, 1.9898, 1.9897, 1.9897, 1.9895, 1.9871, 1.985, 1.9834, 1.983, 1.9799, 1.9769, 1.9752, 1.975, 1.9738, 1.969, 1.9662, 1.9627, 1.9585, 1.9546, 1.9219, 1.9052, 1.9267, 1.8718, 1.8997, 1.8978, 1.8425, 1.7749, 1.8366, 1.7279, 1.7603, 1.6756, 1.5026, 1.7457, 1.7917, 1.5655, 1.3557, 0.9296, 1.4572, 1.5231, 0.9117, 1.5162, 1.3161, 1.2034, 0.5641, 0.9716, 0.7605, 2.1948, 2.1942, 2.1934, 2.1923, 2.1923, 2.1922, 2.1905, 2.1896, 2.1894, 2.1886, 2.1882, 2.1877, 2.1877, 2.1871, 2.1851, 2.1847, 2.1842, 2.1831, 2.182, 2.1818, 2.1815, 2.1795, 2.1792, 2.1788, 2.1786, 2.1755, 2.1742, 2.1741, 2.1741, 2.1741, 2.1687, 2.1319, 2.1433, 2.0623, 1.7842, 1.7861, 2.1333, 1.6881, 1.8077, 1.2824, 1.4603, 1.5492, 1.7523, 1.5468, 1.3452, 0.7334, 1.1626, 0.7656, 1.0793, 0.7334, 0.6619, 0.5699, 2.2526, 2.2522, 2.2521, 2.2517, 2.2516, 2.2494, 2.2483, 2.2475, 2.2474, 2.2472, 2.2469, 2.2463, 2.2453, 2.2451, 2.2435, 2.2431, 2.2409, 2.2402, 2.2383, 2.237, 2.2368, 2.2365, 2.234, 2.2338, 2.2337, 2.2324, 2.2321, 2.2313, 2.2306, 2.228, 2.1959, 2.1503, 2.1325, 2.2143, 2.0851, 2.0765, 1.9434, 1.7323, 1.9125, 1.5436, 1.657, 1.7012, 1.6682, 1.7917, 1.703, 1.7902, 1.562, 1.0572, 1.8275, 0.6316, 1.0912, 1.4189, 1.1439, 0.9927, 0.9193, 2.2693, 2.2683, 2.2671, 2.267, 2.2658, 2.2656, 2.2656, 2.2651, 2.264, 2.2638, 2.2636, 2.2634, 2.2627, 2.262, 2.2616, 2.2615, 2.2587, 2.2584, 2.2567, 2.2566, 2.2558, 2.2554, 2.2534, 2.2527, 2.252, 2.2518, 2.2516, 2.2513, 2.2503, 2.2494, 2.1176, 2.0221, 2.0569, 2.0035, 1.9153, 2.1091, 1.8085, 2.1022, 1.3858, 1.5502, 1.6389, 1.4251, 1.3052, 0.9602, 2.3257, 2.3239, 2.3234, 2.3211, 2.3174, 2.3167, 2.3165, 2.3162, 2.3149, 2.3139, 2.3133, 2.3131, 2.3129, 2.3126, 2.3126, 2.3117, 2.3112, 2.3112, 2.311, 2.31, 2.3083, 2.3079, 2.3064, 2.3058, 2.3051, 2.3043, 2.3042, 2.3041, 2.3031, 2.3028, 2.2714, 2.2364, 1.9836, 1.9215, 1.9373, 1.9904, 1.7658, 2.1243, 1.7887, 1.9055, 1.3605, 1.8063, 1.8561, 1.5504, 1.4626, 2.1386, 1.8371, 1.5173, 0.7245, 1.4389, 1.4487, 1.1705, 1.5318, 1.4287, 1.1191, 0.675, 2.3637, 2.3585, 2.3568, 2.3561, 2.356, 2.3556, 2.3546, 2.3543, 2.3543, 2.3529, 2.3506, 2.3501, 2.3477, 2.343, 2.3427, 2.3398, 2.3388, 2.3379, 2.3379, 2.3374, 2.3365, 2.3308, 2.3286, 2.3279, 2.3253, 2.3218, 2.3199, 2.3183, 2.3181, 2.3171, 2.2977, 2.2677, 2.0479, 2.1182, 1.9195, 1.9394, 1.7447, 1.63, 1.6069, 1.4239, 1.5166, 1.4432, 1.8616, 0.3433, 1.443, 1.4057, 1.105, 0.5338, 0.0235, 1.2095, 2.6207, 2.6204, 2.6195, 2.6183, 2.6175, 2.6171, 2.6168, 2.6164, 2.6163, 2.6163, 2.6145, 2.6144, 2.6133, 2.6126, 2.6126, 2.6122, 2.6117, 2.611, 2.6096, 2.6093, 2.6086, 2.6063, 2.6061, 2.6059, 2.6041, 2.6036, 2.603, 2.6026, 2.6024, 2.6012, 2.5975, 2.5317, 2.5811, 2.4878, 2.3006, 2.2103, 2.1515, 2.3672, 2.2703, 1.9706, 2.1197, 1.1172, 1.0179, 1.0432, 0.8449, 0.8529, 1.0166, 2.8519, 2.8518, 2.8517, 2.8508, 2.8484, 2.8482, 2.8459, 2.8447, 2.8447, 2.8409, 2.8401, 2.8389, 2.8384, 2.8369, 2.8341, 2.8341, 2.8326, 2.8282, 2.826, 2.8259, 2.825, 2.8234, 2.823, 2.8221, 2.82, 2.8198, 2.8196, 2.8159, 2.8141, 2.8122, 2.7566, 2.6874, 2.784, 2.3375, 2.1862, 2.0146, 2.0879, 1.7463, 1.4065, 1.0155, 1.4692, 1.0305, 0.6598, 1.087, 2.9425, 2.9409, 2.9405, 2.935, 2.9331, 2.9279, 2.9269, 2.9264, 2.926, 2.9258, 2.9236, 2.9234, 2.9181, 2.9181, 2.9153, 2.913, 2.9101, 2.904, 2.9011, 2.9004, 2.8958, 2.8868, 2.8842, 2.8773, 2.8669, 2.8656, 2.8588, 2.8411, 2.7872, 2.7053, 2.6519, 2.6149, 2.6623, 2.6361, 2.6512, 2.1806, 2.2103, 2.2364, 1.8733, 2.1567, 2.0686, 1.3712, 1.4702, 1.708, 0.9362, 1.367, 1.3812, 1.1542, 2.9802, 2.9795, 2.9765, 2.9752, 2.9727, 2.9718, 2.9715, 2.9695, 2.9673, 2.964, 2.9639, 2.9638, 2.9587, 2.9585, 2.9564, 2.9541, 2.9533, 2.9527, 2.9519, 2.9503, 2.9496, 2.944, 2.9438, 2.9434, 2.942, 2.9367, 2.9265, 2.9262, 2.9215, 2.9139, 2.835, 2.7634, 2.2435, 1.9101, 1.9257, 2.252, 1.8723, 2.1015, 2.0701, 1.696, 1.4525, 1.4256, 2.4694, 0.1998, 3.1672, 3.1652, 3.1647, 3.1634, 3.1625, 3.1613, 3.1589, 3.1586, 3.158, 3.158, 3.1578, 3.1572, 3.1565, 3.1564, 3.1561, 3.1559, 3.1558, 3.1546, 3.1526, 3.1516, 3.1499, 3.1393, 3.1334, 3.1302, 3.1154, 3.1083, 3.1043, 3.0906, 3.0872, 3.0716, 2.7055, 2.5409, 2.2626, 2.1533, 1.7892, 2.0309, 1.1281, 1.9995, 3.1879, 3.1835, 3.1832, 3.1824, 3.1809, 3.1803, 3.1793, 3.179, 3.1774, 3.1745, 3.1744, 3.1743, 3.1742, 3.1723, 3.1716, 3.1701, 3.17, 3.1659, 3.1653, 3.1644, 3.1627, 3.1616, 3.1556, 3.1519, 3.1513, 3.1431, 3.1399, 3.1395, 3.1381, 3.1348, 2.9839, 2.8741, 2.2997, 2.0923, 1.9494, 2.0661, 2.4617, 1.0149, 4.0846, 4.0757, 4.075, 4.0655, 4.0652, 4.0628, 4.0605, 4.0585, 4.0585, 4.0551, 4.0549, 4.0514, 4.051, 4.0498, 4.0414, 4.0401, 4.0398, 4.0225, 4.0199, 3.997, 3.9728, 3.9721, 3.9505, 3.8355, 3.7187, 3.3844, 3.3738, 2.7883, 2.425, 2.3, 2.227, 1.2535, 0.9815, 4.2299, 4.225, 4.2223, 4.2215, 4.2179, 4.2173, 4.2164, 4.2101, 4.1967, 4.1886, 4.166, 4.1622, 4.1462, 4.1414, 4.1109, 4.0273, 3.0799, 3.003, 2.9569, 2.1365, 2.0791, 1.7138, 1.6429, 1.6364, 1.6274, 1.6185, 1.618, 1.6165, 1.6073, 1.6054, 1.3623, -0.1948, 4.5121, 4.5066, 4.5056, 4.5007, 4.5005, 4.4994, 4.4967, 4.4936, 4.4921, 4.4916, 4.4885, 4.4844, 4.4812, 4.4796, 4.4748, 4.4287, 4.402, 4.2179, 2.0182, 1.9889, 1.987, 1.9865, 1.9573, 1.9479, 1.9466, 1.9455, 1.9444, 1.9379, 1.935, 1.9322, 1.6982, -0.2565, -1.7134, -2.696]}, \"token.table\": {\"Topic\": [12, 3, 1, 3, 2, 5, 15, 1, 2, 4, 5, 6, 7, 10, 12, 6, 6, 8, 1, 8, 14, 8, 8, 5, 13, 13, 2, 5, 9, 5, 7, 11, 1, 12, 2, 9, 11, 10, 1, 2, 3, 6, 8, 9, 8, 1, 3, 5, 6, 7, 10, 11, 12, 6, 4, 5, 6, 1, 6, 1, 3, 13, 3, 3, 11, 13, 5, 5, 1, 2, 6, 1, 13, 1, 5, 12, 2, 7, 9, 10, 10, 5, 12, 4, 1, 12, 1, 5, 11, 2, 7, 10, 4, 12, 3, 6, 2, 4, 7, 11, 14, 5, 6, 8, 7, 10, 8, 9, 2, 12, 5, 15, 5, 7, 2, 4, 4, 5, 15, 2, 3, 4, 6, 8, 10, 1, 2, 8, 9, 1, 2, 3, 6, 8, 9, 11, 14, 12, 10, 12, 1, 8, 10, 11, 5, 1, 2, 5, 7, 9, 12, 4, 7, 3, 13, 1, 9, 6, 9, 8, 4, 13, 2, 4, 5, 6, 2, 11, 12, 3, 7, 4, 10, 2, 6, 9, 6, 1, 9, 4, 12, 11, 1, 10, 9, 7, 6, 1, 13, 3, 13, 11, 5, 9, 5, 5, 10, 4, 1, 2, 7, 8, 10, 12, 5, 3, 5, 6, 9, 4, 7, 9, 4, 3, 3, 6, 10, 11, 8, 15, 12, 1, 6, 12, 2, 3, 5, 7, 9, 5, 5, 3, 2, 9, 12, 2, 8, 6, 14, 1, 2, 3, 7, 10, 12, 13, 4, 7, 13, 11, 14, 1, 2, 9, 2, 2, 14, 10, 7, 2, 3, 5, 7, 9, 13, 11, 14, 2, 7, 3, 12, 11, 1, 2, 3, 6, 6, 7, 5, 6, 3, 5, 7, 3, 8, 9, 3, 1, 2, 4, 6, 14, 15, 15, 10, 3, 13, 6, 14, 4, 2, 5, 7, 10, 3, 4, 8, 9, 11, 13, 3, 11, 7, 1, 1, 2, 4, 6, 8, 9, 13, 6, 14, 15, 2, 3, 3, 10, 1, 5, 6, 7, 14, 9, 9, 1, 4, 1, 2, 3, 8, 4, 7, 10, 10, 12, 7, 12, 10, 3, 4, 5, 7, 11, 12, 5, 14, 10, 1, 1, 1, 2, 3, 8, 9, 6, 5, 8, 9, 3, 5, 6, 3, 7, 9, 13, 2, 5, 6, 4, 15, 11, 5, 14, 15, 14, 1, 1, 3, 11, 4, 7, 10, 1, 2, 3, 4, 5, 6, 10, 11, 12, 1, 8, 1, 2, 3, 5, 6, 7, 8, 9, 7, 5, 7, 15, 4, 10, 7, 10, 2, 6, 10, 1, 3, 5, 6, 4, 2, 2, 5, 7, 9, 5, 6, 9, 11, 1, 3, 5, 6, 7, 8, 9, 11, 1, 6, 8, 9, 11, 3, 3, 7, 10, 12, 11, 1, 5, 1, 2, 3, 4, 5, 6, 7, 8, 9, 11, 2, 7, 10, 1, 2, 5, 8, 9, 10, 8, 1, 2, 10, 1, 4, 1, 2, 6, 9, 10, 1, 3, 2, 9, 9, 9, 1, 9, 1, 5, 8, 9, 6, 6, 1, 4, 13, 14, 11, 4, 12, 2, 6, 9, 15, 5, 11, 10, 5, 7, 14, 2, 1, 6, 1, 4, 9, 14, 7, 2, 5, 3, 7, 8, 7, 12, 6, 9, 5, 2, 2, 4, 11, 9, 1, 6, 11, 3, 1, 4, 9, 12, 6, 5, 6, 9, 4, 11, 5, 3, 4, 5, 6, 8, 1, 6, 1, 2, 14, 4, 8, 6, 5, 12, 2, 3, 3, 12, 1, 7, 9, 14, 3, 13, 1, 3, 6, 8, 7, 5, 12, 13, 7, 6, 9, 8, 10, 3, 8, 9, 12, 8, 2, 2, 7, 7, 1, 3, 10, 5, 3, 2, 7, 10, 11, 11, 1, 12, 1, 13, 9, 9, 6, 1, 2, 9, 5, 13, 1, 3, 6, 8, 5, 2, 3, 8, 9, 1, 9, 1, 2, 3, 4, 6, 1, 3, 15, 2, 11, 8, 13, 2, 3, 5, 8, 3, 6, 10, 12, 1, 1, 5, 7, 10, 12, 2, 1, 6, 1, 2, 4, 1, 15, 4, 2, 4, 2, 13, 2, 3, 5, 8, 1, 3, 5, 6, 5, 8, 5, 15, 3, 4, 5, 8, 10, 15, 4, 6, 13, 4, 2, 8, 1, 4, 4, 13, 2, 3, 6, 9, 14, 1, 15, 4, 5, 7, 15, 9, 8, 11, 2, 12, 11, 15, 4, 8, 2, 1, 7, 10, 1, 3, 5, 7, 9, 10, 11, 3, 5, 6, 13, 12, 10, 7, 10, 8, 11, 11, 2, 6, 5, 12, 12, 1, 2, 3, 6, 9, 15, 4, 7, 1, 8, 8, 4, 5, 7, 9, 8, 8, 2, 3, 4, 5, 6, 7, 8, 10, 9, 9, 14, 12, 2, 4, 12, 3, 15, 1, 2, 3, 4, 6, 9, 6, 6, 13, 1, 2, 4, 6, 7, 8, 3, 1, 2, 3, 5, 6, 8, 10, 2, 3, 5, 8, 9, 10, 10, 2, 6, 6, 5, 8, 2, 7, 15, 11, 4, 8, 4, 7, 10, 4, 13, 1, 2, 9, 12, 5, 7, 11, 1, 4, 5, 6, 8, 9, 12, 12, 5, 8, 9, 3, 8, 4, 2, 1, 3, 1, 2, 8, 9, 10, 1, 2, 3, 6, 8, 9, 12, 2, 3, 4, 5, 3, 4, 10, 3, 10, 6, 6, 10, 13, 1, 2, 3, 6, 9, 3, 4, 11, 4, 14, 9, 11, 2, 9, 10, 2, 3, 11, 6, 3, 2, 3, 4, 6, 8, 11, 1, 1, 2, 3, 4, 5, 7, 10, 3, 13, 1, 5, 6, 8, 9, 13, 7, 8, 1, 2, 5, 6, 11, 12, 1, 6, 12, 2, 9, 1, 7, 9, 10, 12, 4, 11, 9, 7, 11, 10, 1, 2, 3, 5, 6, 7, 9, 12, 9, 4, 3, 1, 7, 4, 6, 7, 10, 3, 7, 10, 4, 13, 7, 7, 10, 9, 13, 12, 6, 13, 1, 2, 3, 4, 5, 6, 10, 10, 4, 2, 13, 1, 6, 13, 6, 1, 6, 9, 12, 13, 2, 10, 13, 8, 2, 3, 4, 5, 7, 10, 5, 7, 12, 10, 4, 10, 12, 1, 2, 3, 5, 8, 9, 7, 4, 7, 3, 9, 3, 14], \"Freq\": [0.9954251994461938, 0.9913046014121151, 0.9713412319551336, 0.023691249559881306, 0.9832180732235795, 0.9766157210736629, 0.9676221492479905, 0.09457121547265696, 0.07430595501423046, 0.4120602959880053, 0.200963832879396, 0.015198945343819867, 0.19927506117452715, 0.0016887717048688741, 0.9913902383112708, 0.963991378536517, 0.9681640618474743, 0.9681633591218567, 0.9907037092309635, 0.9753952611273027, 0.9725666373512599, 0.9928139541246509, 0.9600241441822048, 0.9608219419803462, 0.7902846459690027, 0.9792573398361086, 0.9882496568287191, 0.030852160769624163, 0.9255648230887249, 0.9410972337030958, 0.029876102657241138, 0.014938051328620569, 0.9752863909007806, 0.9909449615832304, 0.9831490573216494, 0.9763533220388212, 0.9865560321077672, 0.9445698437098213, 0.5994726861415789, 0.23725354043669739, 0.023544244470817297, 0.11409903089703767, 0.02173314874229289, 0.0036221914570488153, 0.981583010153372, 0.05134307173998507, 0.2601382301492577, 0.42101318826787754, 0.05818881463864974, 0.05134307173998507, 0.023960100145326367, 0.01711435724666169, 0.11637762927729949, 0.9634639783638895, 0.8516950558470836, 0.10989613623833336, 0.02747403405958334, 0.7994917329033039, 0.19154489434141656, 0.9795550277610438, 0.9750724448012381, 0.9560837933394682, 0.9728012255397108, 0.9813593229529177, 0.8859470924855972, 0.9962349828758323, 0.9900121351139112, 0.9739882729358015, 0.3374938118139658, 0.6588713460974894, 0.002844048975960386, 0.9711932730758568, 0.9094209253590532, 0.23808408906984155, 0.61108249527926, 0.14285045344190492, 0.3845052000069164, 0.043411877420135726, 0.14884072258332248, 0.4155136838784419, 0.9378239441814584, 0.991792123265015, 0.9729330656062947, 0.9889487585166117, 0.9415220702193665, 0.9358394334986604, 0.9934207896783245, 0.9819051867490045, 0.8651463494129595, 0.9661292032375061, 0.9840901487354395, 0.9780198273713243, 0.9857728330557208, 0.9829340305564407, 0.981959891352277, 0.9939581398166455, 0.01715409260442613, 0.8534161070701999, 0.0042885231511065325, 0.008577046302213065, 0.11579012507987636, 0.4567252593365242, 0.5394082804233088, 0.9873410873356766, 0.9878954530632531, 0.9630154292675475, 0.9669114760008323, 0.9087670087713569, 0.2604857896174474, 0.7313639477720638, 0.981590619561189, 0.699738808107453, 0.981060820579656, 0.9920997911887571, 0.9872573905844363, 0.9869211687840277, 0.5315396422914347, 0.4052331926380245, 0.057890456091146354, 0.019955135144220735, 0.5547527570093365, 0.11573978383648026, 0.011973081086532441, 0.2514347028171813, 0.04390129731728562, 0.012657914425641813, 0.9670646621190345, 0.012657914425641813, 0.005063165770256725, 0.23435507197408031, 0.23019492276743983, 0.19552701271210252, 0.16085910265676517, 0.1580856698523382, 0.008320298413280958, 0.011093731217707944, 0.8797463497639604, 0.9932906652805937, 0.9821161458270687, 0.9799907591934808, 0.9867306215399475, 0.9648918518001791, 0.06233097120033369, 0.9364141254747805, 0.9881914260741792, 0.0037050099043033236, 0.2334156239711094, 0.2964007923442659, 0.007410019808606647, 0.16672544569364955, 0.28899077253565925, 0.7770584124337293, 0.22089765353458837, 0.9825371614303419, 0.9527201509006855, 0.13894873992298984, 0.8491311884182713, 0.9533418645004622, 0.042162539461936904, 0.9743933291282025, 0.9694017168186159, 0.8190564004215125, 0.0153861765942003, 0.7616157414129149, 0.038465441485500754, 0.18078757498185352, 0.9905575340390735, 0.9598220033269337, 0.9691771862146, 0.9875952554494236, 0.9876135506986065, 0.9778888873785396, 0.9840520572803569, 0.9793258928485814, 0.1945304123134069, 0.7781216492536276, 0.9985191466162155, 0.7772587188441665, 0.21590519967893515, 0.842874194111389, 0.14217155081396923, 0.9910752793734663, 0.02463281430813486, 0.9705328837405135, 0.9893009282602242, 0.9860608913394292, 0.9735136628710149, 0.7962636088333822, 0.19530994178932015, 0.9678427562338701, 0.9892017993486791, 0.9501408032325339, 0.8298646641455487, 0.1634581914226081, 0.9679433070840031, 0.9694749162031396, 0.9952609517404023, 0.9914146102855012, 0.08273168072815519, 0.6584062924615685, 0.07583737400080894, 0.103414600910194, 0.05515445381877013, 0.020682920182038798, 0.9941874782542878, 0.09368303466066533, 0.5933258861842137, 0.11866517723684274, 0.18736606932133065, 0.9925083834147163, 0.9793993340035743, 0.9716125308319368, 0.9902892794770064, 0.9863963745371311, 0.06326832753037555, 0.9068460279353827, 0.9926934041385075, 0.9886530671341787, 0.9688907310409616, 0.9818396055790092, 0.9738762158968279, 0.5174344759212327, 0.48006420821581036, 0.9857050699859671, 0.2417360374967212, 0.15997237775518314, 0.2666206295919719, 0.09953836838100284, 0.22751627058514937, 0.9776618473534757, 0.9854624433329001, 0.9624480011311223, 0.9679327356841944, 0.9962657151790988, 0.9571863110070171, 0.037463323416288496, 0.9596374382787747, 0.9816025807152207, 0.9536309389702032, 0.6387024466407134, 0.022947393292480724, 0.022947393292480724, 0.003824565548746787, 0.02677195884122751, 0.007649131097493574, 0.2715441539610219, 0.8071108629128959, 0.13223850296312983, 0.05927932891450648, 0.9772888203343414, 0.8349433436581524, 0.022494243983611044, 0.011247121991805522, 0.9560053693034694, 0.9684962724458616, 0.9887532416132867, 0.9962193636444369, 0.9582828969929401, 0.9841079669234539, 0.03338118368812147, 0.006676236737624294, 0.00890164898349906, 0.20473792662047838, 0.7432876901221714, 0.9742094252790378, 0.9920162983605659, 0.9581372253468956, 0.9640042258099749, 0.9873881017209138, 0.9893757396866105, 0.9768633848479655, 0.9854697208973092, 0.785510602563344, 0.2105168414869762, 0.9895325309226847, 0.9943301704416543, 0.9764884781062991, 0.9781737144567856, 0.21383870277664718, 0.7820386844403098, 0.007397729468349978, 0.38468193235419884, 0.5992160869363482, 0.004313900803785919, 0.04313900803785918, 0.9490581768329021, 0.9826724919609137, 0.8963349338241623, 0.001553440093282777, 0.0054370403264897196, 0.09631328578353217, 0.9709005575729566, 0.9895937308760216, 0.9838787296136149, 0.9716317838755152, 0.9905646105428686, 0.9864312591898841, 0.988238685462229, 0.9127725232985044, 0.9968616647191683, 0.9790669780943339, 0.6541084621002278, 0.33000066556407887, 0.01178573805585996, 0.5887464392305686, 0.10501963510599331, 0.17185031199162543, 0.009547239555090301, 0.0795603296257525, 0.044553784590421405, 0.986637853558232, 0.9837400741887368, 0.9827104326807462, 0.9569343347907687, 0.2271650884707215, 0.09785573041815696, 0.15726813817203797, 0.02096908508960506, 0.017474237574670884, 0.4787941095459823, 0.9131227778754926, 0.9732859901805909, 0.8339568248296024, 0.9500164300173575, 0.9338745385367916, 0.05002899313589955, 0.9647920386044738, 0.9650864506218984, 0.028365162912986006, 0.18437355893440904, 0.7374942357376362, 0.028365162912986006, 0.014182581456493003, 0.9084352969613078, 0.9520560524227567, 0.6103460288812385, 0.38655248495811767, 0.2839583563116288, 0.3240829066600111, 0.2561798214550564, 0.12963316266400443, 0.9771691024026321, 0.51656836793214, 0.47605320181981525, 0.9938271687015785, 0.9453014474271431, 0.990335301544749, 0.9763293534276012, 0.9823820976389608, 0.06799426769316938, 0.6274016518960629, 0.021634539720553892, 0.03708778237809239, 0.12980723832332336, 0.11435399566578486, 0.6753321547138214, 0.3143787616771237, 0.9633878127991196, 0.9617143248703476, 0.9757570299019729, 0.01298727858941796, 0.2662392110830682, 0.7078066831232789, 0.00649363929470898, 0.9683688928074714, 0.9698649267643211, 0.7090741582407054, 0.07415154595981234, 0.20855122301197218, 0.19290900414489304, 0.4501210096714171, 0.35074364389980556, 0.324177665628826, 0.025728386161017934, 0.4888393370593408, 0.15437031696610762, 0.0381497213125382, 0.6749566078372143, 0.28465561287047736, 0.9864468103955296, 0.9559396176770055, 0.9933229261508366, 0.006746180909643815, 0.984942412807997, 0.006746180909643815, 0.9852037964304946, 0.9758859260165186, 0.8896207820598533, 0.09646490407877926, 0.9929218846032187, 0.010223028799053607, 0.18401451838296493, 0.7973962463261813, 0.21950348616459495, 0.2304786604728247, 0.3100486742074904, 0.10975174308229747, 0.06585104584937848, 0.005487587154114874, 0.01646276146234462, 0.03292552292468924, 0.00823138073117231, 0.8904360756228026, 0.09794796831850829, 0.020992646537046095, 0.39886028420387576, 0.011662581409470052, 0.10962826524901849, 0.12595587922227655, 0.12129084665848855, 0.16094362345068672, 0.04898284191977422, 0.9805888964634127, 0.9822677290868472, 0.9678313124744495, 0.974428259599924, 0.3727187322803143, 0.5995910041031144, 0.9704833015128294, 0.9493537324004622, 0.9662955413256833, 0.9873323528396877, 0.9847191722427845, 0.363001707834545, 0.6231529317826355, 0.006050028463909083, 0.006050028463909083, 0.9914689587909024, 0.9877836110676965, 0.12339077299123172, 0.014516561528380203, 0.71856979565482, 0.13790733451961193, 0.10771411564554871, 0.4562009603811475, 0.06969736894711975, 0.3611590936350751, 0.0477583661248565, 0.04093574239273414, 0.057992301723040034, 0.25925970182064956, 0.0477583661248565, 0.034113118660611785, 0.1091619797139577, 0.40253480019521903, 0.006133295115995955, 0.7267954712455206, 0.0030666475579979773, 0.006133295115995955, 0.25146509975583414, 0.9870868302998689, 0.0033617071128244154, 0.6588945941135854, 0.0033617071128244154, 0.3328090041696171, 0.9849126502787376, 0.9737510495503051, 0.9740996653572828, 0.04607930941817493, 0.23039654709087465, 0.008013792942291292, 0.022037930591301054, 0.37865171652326357, 0.06010344706718469, 0.08013792942291292, 0.11018965295650526, 0.056096550596039046, 0.004006896471145646, 0.028481314139154022, 0.8639331955543387, 0.09493771379718008, 0.1319713644671065, 0.30164883306767204, 0.41005388245136665, 0.10369178636701226, 0.04713263016682375, 0.9898787954954036, 0.9873616363305661, 0.3528784843496422, 0.31410062892660456, 0.32961177109581963, 0.7124006145991781, 0.28411214986991035, 0.28300455249640416, 0.17538310295551807, 0.2590886748206517, 0.003985979612625411, 0.27503259327115337, 0.976227692291283, 0.9680140795001517, 0.9468659116619242, 0.04116808311573583, 0.9899025073455241, 0.9892183666869131, 0.05767660361932164, 0.9228256579091463, 0.44378930972148467, 0.0040714615570778415, 0.4315749250502512, 0.11807238515525739, 0.9786701657781004, 0.9595601645074211, 0.36556270595476525, 0.5326770858198008, 0.04177859496625889, 0.05222324370782361, 0.979389663158224, 0.16985197709169367, 0.8152894900401295, 0.2526112208511923, 0.6396768011876967, 0.10593373777630645, 0.9817054217222069, 0.983905575264441, 0.9826800545852865, 0.9837173752058388, 0.9803525150558337, 0.9744211374535128, 0.9903214039129205, 0.9873191426508697, 0.9770606750812169, 0.9702962579201561, 0.1907690868443262, 0.058290554313544116, 0.45042701060465906, 0.2914527715677206, 0.974746259634721, 0.37386114632197187, 0.6231019105366198, 0.9886484872400889, 0.9686635704333272, 0.9666914737002543, 0.992158911367021, 0.9466801613243969, 0.9619810324901632, 0.9761921504095413, 0.9822264599336032, 0.975831530526412, 0.987220463736709, 0.9840936388331786, 0.9699227602970546, 0.9778733833098835, 0.9769247113661519, 0.013759502976988055, 0.9852945408849204, 0.9763370358464711, 0.610440876896271, 0.02654090769114222, 0.02654090769114222, 0.32512611921649215, 0.993849794108184, 0.9896999869841414, 0.2374747754093883, 0.752003455463063, 0.9845964596821274, 0.9898148169319759, 0.9851145900022681, 0.042068493431829244, 0.051417047527791304, 0.24773668354299447, 0.6543987867173439, 0.9862623205200753, 0.7635092284131098, 0.22573316318300637, 0.914805525028529, 0.07971334450456061, 0.9448967062584357, 0.993559408530607, 0.9755559170065886, 0.98434514831867, 0.9148185328264592, 0.08316532116604175, 0.3416351436700569, 0.6491067729731081, 0.9926144581423881, 0.981343213887332, 0.9613954186009838, 0.9876463874251649, 0.7149848924604547, 0.2765999948934606, 0.9506077928321497, 0.01940015903739081, 0.27196816757748765, 0.5730757816811346, 0.1505538070518235, 0.9788579712650616, 0.9884078414206979, 0.9709766464887667, 0.9681570455924844, 0.9782277847313321, 0.9907463404812461, 0.986340862236413, 0.9721975623675657, 0.9925280532387605, 0.9976187834590392, 0.32867231904389077, 0.5961213629717627, 0.07089010802907449, 0.0032222776376852036, 0.9586955966811249, 0.9847443266557944, 0.08746079078143877, 0.9054764222078366, 0.9856229080101788, 0.13045891012610109, 0.004277341315609871, 0.8618842750953891, 0.9894960951569749, 0.9806228782659722, 0.1697516638935566, 0.4645835011823654, 0.04467149049830437, 0.3127004334881306, 0.9791289654232612, 0.9481016622137105, 0.9817495162266322, 0.942116342125801, 0.03364701221877861, 0.9197834913331518, 0.9613969297423315, 0.9621695811635733, 0.571242950291299, 0.005289286576771287, 0.41256435298816035, 0.9854551076128366, 0.9854025147373826, 0.0029806266332046394, 0.19672135779150618, 0.46795838141312834, 0.3278689296525103, 0.9714737481323912, 0.9718749132195792, 0.894638592975485, 0.07314655162692645, 0.0281332890872794, 0.9759571669398522, 0.9910401817793537, 0.04965713030097388, 0.22511232403108158, 0.0033104753533982584, 0.6985102995670326, 0.016552376766991294, 0.967679811653396, 0.025658176824143075, 0.9474866406422162, 0.6720372150160515, 0.3166329186133319, 0.9857581841999098, 0.93434655397062, 0.43222057110534, 0.04116386391479429, 0.4425115370840386, 0.08232772782958858, 0.8812337491959693, 0.09503501216819277, 0.021598866401861993, 0.9818222527263086, 0.9894855573860927, 0.26254250285357644, 0.3115504367195774, 0.119019267960288, 0.21003400228286118, 0.09451530102728753, 0.9890868749362972, 0.9115267095230223, 0.08760126818792682, 0.8379152288277738, 0.1121618810241902, 0.04618430395113714, 0.9749085224214971, 0.9510892750696183, 0.9877416423637927, 0.984264545846826, 0.9889143503028022, 0.979551572465892, 0.945428026764018, 0.5206268951505345, 0.1516389015001557, 0.1010926010001038, 0.21734909215022316, 0.9812534272522704, 0.42661447296564703, 0.4117325727459151, 0.1587402690104733, 0.9960313653095267, 0.9960225727349997, 0.9818356149601861, 0.9724919368793831, 0.005591061117109267, 0.20127820021593362, 0.5674927033865906, 0.005591061117109267, 0.21525585300870678, 0.0027955305585546336, 0.42672384799735036, 0.07837784963216639, 0.48768439771125754, 0.979115254627789, 0.04438041165913718, 0.9319886448418807, 0.841614239004518, 0.1515951113734846, 0.8028084656761938, 0.1646786596258859, 0.10549415301374752, 0.4307677914728024, 0.12747210155827826, 0.20659271631858891, 0.12307651184937211, 0.9498721795342064, 0.9723490006850385, 0.982046642405239, 0.013831642850778014, 0.9735732981703403, 0.9028453136344329, 0.9875685634343703, 0.962977155295494, 0.9776996813148635, 0.9735022843765168, 0.996445831054068, 0.9239739631856122, 0.9878883796022676, 0.48559312542717264, 0.5100474554846561, 0.9879332731137666, 0.7497923239744538, 0.23763909721594711, 0.008194451628136108, 0.03194946050323907, 0.10649820167746356, 0.13844766218070262, 0.33546933528401024, 0.2875451445291516, 0.06389892100647813, 0.03194946050323907, 0.8378820996166015, 0.01282472601453982, 0.13679707748842473, 0.004274908671513273, 0.9929685272543813, 0.9945802261350275, 0.7744588235911887, 0.22127394959748248, 0.9967639234552695, 0.9908681182001012, 0.9925835093741244, 0.5978777880532065, 0.398585192035471, 0.9889954684868489, 0.98138981347875, 0.9881708905507925, 0.055128881414275556, 0.21481253792459096, 0.30035735391225993, 0.38970416172160305, 0.03801991821674176, 0.9853107631183712, 0.37336365106116043, 0.6179812155495069, 0.9744605225953357, 0.9770250171209821, 0.9903242577048004, 0.17303886676418806, 0.19125348431831313, 0.1684852123756568, 0.464472747630189, 0.9689052657198163, 0.9904280220686654, 0.09441820222047707, 0.28030403784204133, 0.029505688193899086, 0.029505688193899086, 0.42783247881153674, 0.011802275277559634, 0.1032699086786468, 0.02065398173572936, 0.9201240169182715, 0.9720286804399987, 0.992518696744348, 0.9858668617100794, 0.9912509101785878, 0.5000130653097317, 0.4875127386769884, 0.9889765182193808, 0.9770869407843301, 0.1012395514898923, 0.035570653226178375, 0.2626755930548557, 0.2681480012434985, 0.1231291842444636, 0.205215307074106, 0.9883480814369625, 0.9900368809535787, 0.9828450860573105, 0.29262839172238125, 0.15026863358716877, 0.11072425632738751, 0.3242638935302063, 0.055362128163693756, 0.06327100361565001, 0.9880385546727602, 0.030616921158274937, 0.1749538351901425, 0.3017953657029958, 0.07435537995581055, 0.39801997505757414, 0.008747691759507124, 0.008747691759507124, 0.31112981404361933, 0.49866011291922546, 0.05966873146042014, 0.07245488820193875, 0.055406679213247274, 0.9766595794983812, 0.9800269330364827, 0.3864083977548818, 0.6059586237519737, 0.9868029625534509, 0.9821469174656262, 0.9773773135603906, 0.9849948781924641, 0.9784965878619696, 0.9350861717585442, 0.966068470100762, 0.14934325271376483, 0.841752878932129, 0.9972251927946654, 0.9697327792893264, 0.0203440443207551, 0.979517815493803, 0.876752150180557, 0.9838272172202375, 0.962792042697564, 0.7263859834145014, 0.2531345093717202, 0.8141368353464067, 0.17445789328851571, 0.9527786200846985, 0.0112229167374075, 0.002805729184351875, 0.7070437544566726, 0.022445833474815, 0.04489166694963, 0.13467500084889, 0.07856041716185251, 0.9546420288803322, 0.9730486075390203, 0.9555629592253093, 0.01990756165052728, 0.08745938107639006, 0.9037469377893639, 0.9790091633242204, 0.9853620342813575, 0.2647864842866285, 0.7246787991002465, 0.03240738948672779, 0.9320365216382912, 0.020740729271505786, 0.012962955794691117, 0.0012962955794691116, 0.33232040746535796, 0.1952382393858978, 0.03115503819987731, 0.01453901782660941, 0.05192506366646218, 0.3406284176519919, 0.03115503819987731, 0.6344220248645593, 0.34273373757050907, 0.0072922071823512576, 0.014584414364702515, 0.9764109344965965, 0.013375492253378035, 0.9628266236896972, 0.963998030330033, 0.9755209078681839, 0.9908172794495146, 0.9909530798105444, 0.9928731934790817, 0.9444481950449612, 0.10861039506729188, 0.07936913485686714, 0.2715259876682297, 0.3843137056227251, 0.15038362393932722, 0.6239784054877447, 0.2971325740417832, 0.07131181777002797, 0.9949208172311998, 0.9412732602320155, 0.9638567119863943, 0.9567041056377562, 0.9914671948263655, 0.7468628088157612, 0.2323573182982368, 0.3524702423095717, 0.017623512115478586, 0.6256346800994897, 0.9630094212062771, 0.9831265186954729, 0.008930619362753078, 0.9377150330890731, 0.008930619362753078, 0.03572247745101231, 0.46341618600438833, 0.5296184982907296, 0.93597209919705, 0.002783265982390917, 0.22266127859127335, 0.013916329911954585, 0.08628124545411843, 0.1280302351899822, 0.20039515073214603, 0.34790824779886464, 0.9735322491543631, 0.9311548737007331, 0.05246165537817402, 0.6638417161315098, 0.012106535856501698, 0.2340596932256995, 0.03430185159342148, 0.9904211901800982, 0.9899783185293887, 0.9936178051172018, 0.26091444826341387, 0.4777306799189268, 0.02572395968794221, 0.20211682611954596, 0.018374256919958722, 0.011024554151975233, 0.8670328168199681, 0.13229928540032213, 0.9572134001832251, 0.9871876433997687, 0.9779616271306584, 0.13990935097492083, 0.3531045524605145, 0.006662350046424801, 0.3997410027854881, 0.09327290064994721, 0.9908737638108284, 0.9804144779588786, 0.965331852891428, 0.9635555832523331, 0.9835771045307331, 0.939652785526725, 0.22412961403605922, 0.18074968873875744, 0.16628971363965683, 0.05060991284685208, 0.31450445840543795, 0.0036149937747751485, 0.014459975099100594, 0.04337992529730179, 0.9639088906484536, 0.9941955918591696, 0.9750947032590955, 0.9714111823843401, 0.9817521250474915, 0.981992199146884, 0.07102763464393871, 0.44037133479242, 0.48298791557878323, 0.48798392243748523, 0.16840229480195568, 0.34254557692670534, 0.9916493930633749, 0.9696130050210995, 0.9739612549370286, 0.9582664747959952, 0.032483609315118483, 0.9699694029636106, 0.971531368179544, 0.9768394694268625, 0.9376416751569798, 0.9804573014653802, 0.1772084817680735, 0.006217841465546438, 0.5471700489680866, 0.13679251224202166, 0.003108920732773219, 0.09948546344874301, 0.027980286594958974, 0.9746786807930805, 0.9795520539566969, 0.48143843327793956, 0.49926948636230767, 0.05455312832675448, 0.9328584943875016, 0.005455312832675448, 0.9785300617044446, 0.49672240543142804, 0.0434029286299306, 0.0434029286299306, 0.4099165481715668, 0.8713821305119799, 0.8716793764625363, 0.12381809324751937, 0.9576943926808631, 0.9570415895375403, 0.42350422638114094, 0.5696694018578179, 0.37823142012538286, 0.5815816459992447, 0.016268018069908942, 0.016268018069908942, 0.2923135701183742, 0.6942447290311388, 0.968744760694023, 0.9427983518219643, 0.9838057901766127, 0.9568325773899876, 0.9752447137579806, 0.9796411547118415, 0.519410312714642, 0.07883906532275817, 0.15767813064551633, 0.14376535441208843, 0.09738943363399538, 0.9853435181608339, 0.9850549378223816, 0.9892180404948526, 0.8359405731475275, 0.15373619736046482, 0.9918767166193854, 0.9805403387543606], \"Term\": [\"covid\", \"https\", \"wildberries\", \"wildberries\", \"\\u0430\\u0432\\u0438\\u0430\\u043a\\u043e\\u043c\\u043f\\u0430\\u043d\\u0438\\u044f\", \"\\u0430\\u0432\\u0442\\u043e\\u0431\\u0443\\u0441\", \"\\u0430\\u0434\\u043c\\u0438\\u043d\\u0438\\u0441\\u0442\\u0440\\u0430\\u0442\\u043e\\u0440\", \"\\u0430\\u0434\\u0440\\u0435\\u0441\", \"\\u0430\\u0434\\u0440\\u0435\\u0441\", \"\\u0430\\u0434\\u0440\\u0435\\u0441\", \"\\u0430\\u0434\\u0440\\u0435\\u0441\", \"\\u0430\\u0434\\u0440\\u0435\\u0441\", \"\\u0430\\u0434\\u0440\\u0435\\u0441\", \"\\u0430\\u0434\\u0440\\u0435\\u0441\", \"\\u0430\\u043a\\u0442\", \"\\u0430\\u043a\\u0446\\u0438\\u044f\", \"\\u0430\\u043b\\u0435\\u043a\\u0441\\u0430\\u043d\\u0434\\u0440\", \"\\u0430\\u043d\\u0430\\u043b\\u0438\\u0437\", \"\\u0430\\u043d\\u0430\\u043b\\u043e\\u0433\\u0438\\u0447\\u043d\\u044b\\u0439\", \"\\u0430\\u043d\\u0442\\u0438\\u0442\\u0435\\u043b\\u043e\", \"\\u0430\\u044d\\u0440\\u043e\\u043f\\u043e\\u0440\\u0442\", \"\\u0431\\u0430\\u043d\\u043a\", \"\\u0431\\u0430\\u043d\\u043a\\u043e\\u0432\\u0441\\u043a\\u0438\\u0439\", \"\\u0431\\u0435\\u0437\\u043e\\u043f\\u0430\\u0441\\u043d\\u043e\\u0441\\u0442\\u044c\", \"\\u0431\\u0435\\u043b\\u044b\\u0439\", \"\\u0431\\u0435\\u043b\\u044c\\u0451\", \"\\u0431\\u0438\\u043b\\u0435\\u0442\", \"\\u0431\\u043b\\u0430\\u0433\\u043e\\u0434\\u0430\\u0440\\u0438\\u0442\\u044c\", \"\\u0431\\u043b\\u0430\\u0433\\u043e\\u0434\\u0430\\u0440\\u0438\\u0442\\u044c\", \"\\u0431\\u043b\\u0438\\u0437\\u043a\\u0438\\u0439\", \"\\u0431\\u043b\\u0438\\u0437\\u043a\\u0438\\u0439\", \"\\u0431\\u043b\\u0438\\u0437\\u043a\\u0438\\u0439\", \"\\u0431\\u0440\\u0430\\u043a\", \"\\u0432\\u0430\\u043a\\u0446\\u0438\\u043d\\u0430\\u0446\\u0438\\u044f\", \"\\u0432\\u0430\\u0440\\u0438\\u0430\\u043d\\u0442\", \"\\u0432\\u0432\\u0435\\u0434\\u0435\\u043d\\u0438\\u0435\", \"\\u0432\\u0432\\u0435\\u0441\\u0442\\u0438\", \"\\u0432\\u0432\\u043e\\u0434\\u0438\\u0442\\u044c\", \"\\u0432\\u0435\\u0440\\u043d\\u0443\\u0442\\u044c\", \"\\u0432\\u0435\\u0440\\u043d\\u0443\\u0442\\u044c\", \"\\u0432\\u0435\\u0440\\u043d\\u0443\\u0442\\u044c\", \"\\u0432\\u0435\\u0440\\u043d\\u0443\\u0442\\u044c\", \"\\u0432\\u0435\\u0440\\u043d\\u0443\\u0442\\u044c\", \"\\u0432\\u0435\\u0440\\u043d\\u0443\\u0442\\u044c\", \"\\u0432\\u0435\\u0440\\u043d\\u0443\\u0442\\u044c\\u0441\\u044f\", \"\\u0432\\u0435\\u0441\\u044c\", \"\\u0432\\u0435\\u0441\\u044c\", \"\\u0432\\u0435\\u0441\\u044c\", \"\\u0432\\u0435\\u0441\\u044c\", \"\\u0432\\u0435\\u0441\\u044c\", \"\\u0432\\u0435\\u0441\\u044c\", \"\\u0432\\u0435\\u0441\\u044c\", \"\\u0432\\u0435\\u0441\\u044c\", \"\\u0432\\u0435\\u0447\\u0435\\u0440\", \"\\u0432\\u0437\\u044f\\u0442\\u044c\", \"\\u0432\\u0437\\u044f\\u0442\\u044c\", \"\\u0432\\u0437\\u044f\\u0442\\u044c\", \"\\u0432\\u0438\\u0434\", \"\\u0432\\u0438\\u0434\", \"\\u0432\\u0438\\u0434\\u0435\\u043e\", \"\\u0432\\u043b\\u043e\\u0436\\u0435\\u043d\\u0438\\u0435\", \"\\u0432\\u043c\\u0435\\u0441\\u0442\\u0435\", \"\\u0432\\u043d\\u0435\\u0441\\u0442\\u0438\", \"\\u0432\\u043d\\u0438\\u043c\\u0430\\u043d\\u0438\\u0435\", \"\\u0432\\u043e\\u0432\\u0440\\u0435\\u043c\\u044f\", \"\\u0432\\u043e\\u0434\\u0430\", \"\\u0432\\u043e\\u0434\\u0438\\u0442\\u0435\\u043b\\u044c\", \"\\u0432\\u043e\\u0434\\u043e\\u0441\\u043d\\u0430\\u0431\\u0436\\u0435\\u043d\\u0438\\u0435\", \"\\u0432\\u043e\\u0437\\u0432\\u0440\\u0430\\u0442\", \"\\u0432\\u043e\\u0437\\u0432\\u0440\\u0430\\u0442\", \"\\u0432\\u043e\\u0437\\u0432\\u0440\\u0430\\u0442\", \"\\u0432\\u043e\\u0437\\u0432\\u0440\\u0430\\u0442\\u0438\\u0442\\u044c\", \"\\u0432\\u043e\\u0437\\u0434\\u0443\\u0445\", \"\\u0432\\u043e\\u0437\\u043c\\u043e\\u0436\\u043d\\u043e\", \"\\u0432\\u043e\\u0437\\u043c\\u043e\\u0436\\u043d\\u043e\", \"\\u0432\\u043e\\u0437\\u043c\\u043e\\u0436\\u043d\\u043e\", \"\\u0432\\u043e\\u0437\\u043c\\u043e\\u0436\\u043d\\u043e\\u0441\\u0442\\u044c\", \"\\u0432\\u043e\\u0437\\u043c\\u043e\\u0436\\u043d\\u043e\\u0441\\u0442\\u044c\", \"\\u0432\\u043e\\u0437\\u043c\\u043e\\u0436\\u043d\\u043e\\u0441\\u0442\\u044c\", \"\\u0432\\u043e\\u0437\\u043c\\u043e\\u0436\\u043d\\u043e\\u0441\\u0442\\u044c\", \"\\u0432\\u043e\\u0437\\u043d\\u0438\\u043a\\u0430\\u0442\\u044c\", \"\\u0432\\u043e\\u043e\\u0431\\u0449\\u0435\", \"\\u0432\\u043e\\u0441\\u043f\\u043e\\u043b\\u044c\\u0437\\u043e\\u0432\\u0430\\u0442\\u044c\\u0441\\u044f\", \"\\u0432\\u0440\\u0430\\u0447\", \"\\u0432\\u0447\\u0435\\u0440\\u0430\", \"\\u0432\\u044b\\u0431\\u043e\\u0440\", \"\\u0432\\u044b\\u0434\\u0430\\u0442\\u044c\", \"\\u0432\\u044b\\u0439\\u0442\\u0438\", \"\\u0432\\u044b\\u043f\\u043b\\u0430\\u0442\\u0438\\u0442\\u044c\", \"\\u0432\\u044b\\u0441\\u043b\\u0430\\u0442\\u044c\", \"\\u0432\\u044b\\u0448\\u0435\", \"\\u0432\\u044b\\u044f\\u0432\\u0438\\u0442\\u044c\", \"\\u0433\\u0430\\u0437\", \"\\u0433\\u0430\\u0440\\u0430\\u043d\\u0442\\u0438\\u0439\\u043d\\u044b\\u0439\", \"\\u0433\\u0430\\u0440\\u0430\\u043d\\u0442\\u0438\\u044f\", \"\\u0433\\u043e\\u0432\\u043e\\u0440\\u0438\\u0442\\u044c\", \"\\u0433\\u043e\\u0440\\u043e\\u0434\", \"\\u0433\\u043e\\u0440\\u043e\\u0434\", \"\\u0433\\u043e\\u0440\\u043e\\u0434\", \"\\u0433\\u043e\\u0440\\u043e\\u0434\", \"\\u0433\\u043e\\u0440\\u043e\\u0434\", \"\\u0433\\u043e\\u0440\\u044f\\u0447\\u0438\\u0439\", \"\\u0433\\u043e\\u0440\\u044f\\u0447\\u0438\\u0439\", \"\\u0433\\u043e\\u0441\\u0443\\u0441\\u043b\\u0443\\u0433\\u0430\", \"\\u0433\\u0440\\u0430\\u0436\\u0434\\u0430\\u043d\\u0438\\u043d\", \"\\u0433\\u0440\\u0430\\u0436\\u0434\\u0430\\u043d\\u0441\\u043a\\u0438\\u0439\", \"\\u0433\\u0440\\u0430\\u043d\\u0438\\u0446\\u0430\", \"\\u0433\\u0440\\u0443\\u0437\", \"\\u0433\\u0440\\u0443\\u043f\\u043f\\u0430\", \"\\u0433\\u0440\\u0443\\u043f\\u043f\\u0430\", \"\\u0433\\u0440\\u044f\\u0437\\u043d\\u044b\\u0439\", \"\\u0433\\u0443\\u0431\\u0435\\u0440\\u043d\\u0430\\u0442\\u043e\\u0440\", \"\\u0434\\u0430\\u043b\\u044c\\u043d\\u0435\\u0439\\u0448\\u0438\\u0439\", \"\\u0434\\u0430\\u043d\\u043d\\u044b\\u0435\", \"\\u0434\\u0430\\u0442\\u0430\", \"\\u0434\\u0432\\u0435\\u0440\\u044c\", \"\\u0434\\u0435\\u0439\\u0441\\u0442\\u0432\\u0438\\u0435\", \"\\u0434\\u0435\\u0439\\u0441\\u0442\\u0432\\u0438\\u0435\", \"\\u0434\\u0435\\u0439\\u0441\\u0442\\u0432\\u0438\\u0435\", \"\\u0434\\u0435\\u043b\\u0430\\u0442\\u044c\", \"\\u0434\\u0435\\u043b\\u0430\\u0442\\u044c\", \"\\u0434\\u0435\\u043b\\u0430\\u0442\\u044c\", \"\\u0434\\u0435\\u043b\\u0430\\u0442\\u044c\", \"\\u0434\\u0435\\u043b\\u0430\\u0442\\u044c\", \"\\u0434\\u0435\\u043b\\u0430\\u0442\\u044c\", \"\\u0434\\u0435\\u043d\\u0435\\u0436\\u043d\\u044b\\u0439\", \"\\u0434\\u0435\\u043d\\u0435\\u0436\\u043d\\u044b\\u0439\", \"\\u0434\\u0435\\u043d\\u0435\\u0436\\u043d\\u044b\\u0439\", \"\\u0434\\u0435\\u043d\\u0435\\u0436\\u043d\\u044b\\u0439\", \"\\u0434\\u0435\\u043d\\u044c\\u0433\\u0430\", \"\\u0434\\u0435\\u043d\\u044c\\u0433\\u0430\", \"\\u0434\\u0435\\u043d\\u044c\\u0433\\u0430\", \"\\u0434\\u0435\\u043d\\u044c\\u0433\\u0430\", \"\\u0434\\u0435\\u043d\\u044c\\u0433\\u0430\", \"\\u0434\\u0435\\u043d\\u044c\\u0433\\u0430\", \"\\u0434\\u0435\\u043d\\u044c\\u0433\\u0430\", \"\\u0434\\u0435\\u0440\\u0435\\u0432\\u043d\\u044f\", \"\\u0434\\u0435\\u0442\\u0441\\u043a\\u0438\\u0439\", \"\\u0434\\u0435\\u0444\\u0435\\u043a\\u0442\", \"\\u0434\\u0435\\u044f\\u0442\\u0435\\u043b\\u044c\\u043d\\u043e\\u0441\\u0442\\u044c\", \"\\u0434\\u0438\\u0432\\u0430\\u043d\", \"\\u0434\\u0438\\u0441\\u0442\\u0430\\u043d\\u0446\\u0438\\u043e\\u043d\\u043d\\u044b\\u0439\", \"\\u0434\\u043e\\u0433\\u043e\\u0432\\u043e\\u0440\", \"\\u0434\\u043e\\u0433\\u043e\\u0432\\u043e\\u0440\", \"\\u0434\\u043e\\u0437\\u0432\\u043e\\u043d\\u0438\\u0442\\u044c\\u0441\\u044f\", \"\\u0434\\u043e\\u043a\\u0443\\u043c\\u0435\\u043d\\u0442\", \"\\u0434\\u043e\\u043a\\u0443\\u043c\\u0435\\u043d\\u0442\", \"\\u0434\\u043e\\u043a\\u0443\\u043c\\u0435\\u043d\\u0442\", \"\\u0434\\u043e\\u043a\\u0443\\u043c\\u0435\\u043d\\u0442\", \"\\u0434\\u043e\\u043a\\u0443\\u043c\\u0435\\u043d\\u0442\", \"\\u0434\\u043e\\u043a\\u0443\\u043c\\u0435\\u043d\\u0442\", \"\\u0434\\u043e\\u043c\", \"\\u0434\\u043e\\u043c\", \"\\u0434\\u043e\\u043c\\u043e\\u0439\", \"\\u0434\\u043e\\u0440\\u043e\\u0433\\u0430\", \"\\u0434\\u043e\\u0441\\u0442\\u0430\\u0432\\u0438\\u0442\\u044c\", \"\\u0434\\u043e\\u0441\\u0442\\u0430\\u0432\\u0438\\u0442\\u044c\", \"\\u0434\\u043e\\u0441\\u0442\\u0430\\u0432\\u043a\\u0430\", \"\\u0434\\u043e\\u0441\\u0442\\u0430\\u0432\\u043a\\u0430\", \"\\u0434\\u043e\\u0441\\u0442\\u0443\\u043f\", \"\\u0435\\u0434\\u0430\", \"\\u0435\\u043a\\u0430\\u0442\\u0435\\u0440\\u0438\\u043d\\u0430\", \"\\u0436\\u0430\\u043b\\u043e\\u0431\\u0430\", \"\\u0436\\u0430\\u043b\\u043e\\u0431\\u0430\", \"\\u0436\\u0430\\u043b\\u043e\\u0431\\u0430\", \"\\u0436\\u0430\\u043b\\u043e\\u0431\\u0430\", \"\\u0436\\u0434\\u0430\\u0442\\u044c\", \"\\u0436\\u0435\\u043d\\u0430\", \"\\u0436\\u0438\\u0437\\u043d\\u044c\", \"\\u0436\\u0438\\u043b\\u0435\\u0446\", \"\\u0436\\u0438\\u043b\\u043e\\u0439\", \"\\u0436\\u0438\\u0442\\u044c\", \"\\u0437\\u0430\\u0431\\u043b\\u0443\\u0436\\u0434\\u0435\\u043d\\u0438\\u0435\", \"\\u0437\\u0430\\u0431\\u043e\\u043b\\u0435\\u0432\\u0430\\u043d\\u0438\\u0435\", \"\\u0437\\u0430\\u0439\\u0442\\u0438\", \"\\u0437\\u0430\\u0439\\u0442\\u0438\", \"\\u0437\\u0430\\u043a\\u0430\\u0437\", \"\\u0437\\u0430\\u043a\\u0430\\u0437\\u0430\\u0442\\u044c\", \"\\u0437\\u0430\\u043a\\u0430\\u0437\\u0430\\u0442\\u044c\", \"\\u0437\\u0430\\u043a\\u043b\\u044e\\u0447\\u0435\\u043d\\u0438\\u0435\", \"\\u0437\\u0430\\u043a\\u043b\\u044e\\u0447\\u0435\\u043d\\u0438\\u0435\", \"\\u0437\\u0430\\u043a\\u043b\\u044e\\u0447\\u0438\\u0442\\u044c\", \"\\u0437\\u0430\\u043a\\u043e\\u043d\", \"\\u0437\\u0430\\u043a\\u043e\\u043d\", \"\\u0437\\u0430\\u043a\\u043e\\u043d\\u043d\\u044b\\u0439\", \"\\u0437\\u0430\\u043a\\u043e\\u043d\\u043e\\u0434\\u0430\\u0442\\u0435\\u043b\\u044c\\u0441\\u0442\\u0432\\u043e\", \"\\u0437\\u0430\\u043a\\u043e\\u043d\\u0447\\u0438\\u0442\\u044c\\u0441\\u044f\", \"\\u0437\\u0430\\u043c\\u0435\\u043d\\u0430\", \"\\u0437\\u0430\\u043c\\u0435\\u043d\\u0430\", \"\\u0437\\u0430\\u043c\\u0435\\u043d\\u0438\\u0442\\u044c\", \"\\u0437\\u0430\\u043f\\u0430\\u0445\", \"\\u0437\\u0430\\u043f\\u043b\\u0430\\u0442\\u0438\\u0442\\u044c\", \"\\u0437\\u0430\\u043f\\u0440\\u043e\\u0441\", \"\\u0437\\u0430\\u043f\\u0440\\u043e\\u0441\", \"\\u0437\\u0430\\u0440\\u0430\\u043d\\u0435\\u0435\", \"\\u0437\\u0430\\u0440\\u0435\\u0433\\u0438\\u0441\\u0442\\u0440\\u0438\\u0440\\u043e\\u0432\\u0430\\u0442\\u044c\", \"\\u0437\\u0430\\u0449\\u0438\\u0442\\u0430\", \"\\u0437\\u0430\\u044f\\u0432\\u043a\\u0430\", \"\\u0437\\u0430\\u044f\\u0432\\u043b\\u0435\\u043d\\u0438\\u0435\", \"\\u0437\\u0430\\u044f\\u0432\\u043b\\u0435\\u043d\\u0438\\u0435\", \"\\u0437\\u0430\\u044f\\u0432\\u043b\\u0435\\u043d\\u0438\\u0435\", \"\\u0437\\u0430\\u044f\\u0432\\u043b\\u0435\\u043d\\u0438\\u0435\", \"\\u0437\\u0430\\u044f\\u0432\\u043b\\u0435\\u043d\\u0438\\u0435\", \"\\u0437\\u0430\\u044f\\u0432\\u043b\\u0435\\u043d\\u0438\\u0435\", \"\\u0437\\u0432\\u043e\\u043d\\u0438\\u0442\\u044c\", \"\\u0437\\u0432\\u043e\\u043d\\u043e\\u043a\", \"\\u0437\\u0432\\u043e\\u043d\\u043e\\u043a\", \"\\u0437\\u0432\\u043e\\u043d\\u043e\\u043a\", \"\\u0437\\u0432\\u043e\\u043d\\u043e\\u043a\", \"\\u0437\\u0434\\u043e\\u0440\\u043e\\u0432\\u044c\\u0435\", \"\\u0437\\u0438\\u043c\\u043d\\u0438\\u0439\", \"\\u0438\\u0433\\u0440\\u0443\\u0448\\u043a\\u0430\", \"\\u0438\\u0434\\u0442\\u0438\", \"\\u0438\\u0437\\u0434\\u0435\\u043b\\u0438\\u0435\", \"\\u0438\\u0437\\u043c\\u0435\\u043d\\u0438\\u0442\\u044c\\u0441\\u044f\", \"\\u0438\\u0437\\u043c\\u0435\\u043d\\u0438\\u0442\\u044c\\u0441\\u044f\", \"\\u0438\\u043c\\u0435\\u043d\\u043d\\u043e\", \"\\u0438\\u043c\\u0435\\u0442\\u044c\\u0441\\u044f\", \"\\u0438\\u043d\\u0430\\u0447\\u0435\", \"\\u0438\\u043d\\u0434\\u0438\\u0432\\u0438\\u0434\\u0443\\u0430\\u043b\\u044c\\u043d\\u044b\\u0439\", \"\\u0438\\u043d\\u043d\\u0430\", \"\\u0438\\u043d\\u0442\\u0435\\u0440\\u043d\\u0435\\u0442\", \"\\u0438\\u043d\\u0442\\u0435\\u0440\\u043d\\u0435\\u0442\", \"\\u0438\\u043d\\u0444\\u0435\\u043a\\u0446\\u0438\\u044f\", \"\\u0438\\u043d\\u0444\\u043e\\u0440\\u043c\\u0430\\u0446\\u0438\\u044f\", \"\\u0438\\u043d\\u0444\\u043e\\u0440\\u043c\\u0430\\u0446\\u0438\\u044f\", \"\\u0438\\u043d\\u0444\\u043e\\u0440\\u043c\\u0430\\u0446\\u0438\\u044f\", \"\\u0438\\u043d\\u0444\\u043e\\u0440\\u043c\\u0430\\u0446\\u0438\\u044f\", \"\\u0438\\u043d\\u0444\\u043e\\u0440\\u043c\\u0430\\u0446\\u0438\\u044f\", \"\\u0438\\u0441\\u043f\\u043e\\u043b\\u043d\\u0435\\u043d\\u0438\\u0435\", \"\\u0438\\u0441\\u043f\\u043e\\u043b\\u044c\\u0437\\u043e\\u0432\\u0430\\u043d\\u0438\\u0435\", \"\\u0438\\u0441\\u043f\\u043e\\u043b\\u044c\\u0437\\u043e\\u0432\\u0430\\u0442\\u044c\", \"\\u0438\\u044e\\u043d\\u044c\", \"\\u043a\\u0430\\u0431\\u0438\\u043d\\u0435\\u0442\", \"\\u043a\\u0430\\u0440\\u0430\\u043d\\u0442\\u0438\\u043d\", \"\\u043a\\u0430\\u0440\\u0442\\u0430\", \"\\u043a\\u0430\\u0440\\u0442\\u0430\", \"\\u043a\\u0430\\u0441\\u0441\\u0430\", \"\\u043a\\u0430\\u0441\\u0441\\u0438\\u0440\", \"\\u043a\\u0430\\u0447\\u0435\\u0441\\u0442\\u0432\\u043e\", \"\\u043a\\u0430\\u0447\\u0435\\u0441\\u0442\\u0432\\u043e\", \"\\u043a\\u0430\\u0447\\u0435\\u0441\\u0442\\u0432\\u043e\", \"\\u043a\\u0430\\u0447\\u0435\\u0441\\u0442\\u0432\\u043e\", \"\\u043a\\u0430\\u0447\\u0435\\u0441\\u0442\\u0432\\u043e\", \"\\u043a\\u0430\\u0447\\u0435\\u0441\\u0442\\u0432\\u043e\", \"\\u043a\\u0430\\u0447\\u0435\\u0441\\u0442\\u0432\\u043e\", \"\\u043a\\u0432\\u0430\\u0440\\u0442\\u0438\\u0440\\u0430\", \"\\u043a\\u0432\\u0430\\u0440\\u0442\\u0438\\u0440\\u0430\", \"\\u043a\\u0432\\u0430\\u0440\\u0442\\u0438\\u0440\\u0430\", \"\\u043a\\u0432\\u0438\\u0442\\u0430\\u043d\\u0446\\u0438\\u044f\", \"\\u043a\\u0438\\u0440\\u043e\\u0432\\u0441\\u043a\\u0438\\u0439\", \"\\u043a\\u043b\\u0438\\u0435\\u043d\\u0442\", \"\\u043a\\u043b\\u0438\\u0435\\u043d\\u0442\", \"\\u043a\\u043b\\u0438\\u0435\\u043d\\u0442\", \"\\u043a\\u043d\\u0438\\u0433\\u0430\", \"\\u043a\\u043e\\u0432\\u0438\\u0434\", \"\\u043a\\u043e\\u0434\", \"\\u043a\\u043e\\u0434\\u0435\\u043a\\u0441\", \"\\u043a\\u043e\\u043c\\u043c\\u0443\\u043d\\u0430\\u043b\\u044c\\u043d\\u044b\\u0439\", \"\\u043a\\u043e\\u043c\\u043f\\u0430\\u043d\\u0438\\u044f\", \"\\u043a\\u043e\\u043c\\u043f\\u0430\\u043d\\u0438\\u044f\", \"\\u043a\\u043e\\u043c\\u043f\\u0430\\u043d\\u0438\\u044f\", \"\\u043a\\u043e\\u043c\\u043f\\u0430\\u043d\\u0438\\u044f\", \"\\u043a\\u043e\\u043c\\u043f\\u0430\\u043d\\u0438\\u044f\", \"\\u043a\\u043e\\u043c\\u043f\\u0435\\u043d\\u0441\\u0430\\u0446\\u0438\\u044f\", \"\\u043a\\u043e\\u043d\\u0435\\u0446\", \"\\u043a\\u043e\\u043d\\u0442\\u0435\\u0439\\u043d\\u0435\\u0440\", \"\\u043a\\u043e\\u043d\\u0446\\u0435\\u0440\\u0442\", \"\\u043a\\u043e\\u043f\\u0438\\u044f\", \"\\u043a\\u043e\\u0440\\u043e\\u0431\\u043a\\u0430\", \"\\u043a\\u0440\\u0435\\u0434\\u0438\\u0442\", \"\\u043a\\u0440\\u0435\\u0434\\u0438\\u0442\\u043d\\u044b\\u0439\", \"\\u043a\\u0443\\u043f\\u0438\\u0442\\u044c\", \"\\u043a\\u0443\\u043f\\u0438\\u0442\\u044c\", \"\\u043a\\u0443\\u0440\\u0441\", \"\\u043a\\u0443\\u0440\\u044c\\u0435\\u0440\", \"\\u043a\\u0443\\u0440\\u044c\\u0435\\u0440\\u0441\\u043a\\u0438\\u0439\", \"\\u043a\\u0443\\u0445\\u043d\\u044f\", \"\\u043b\\u0438\\u043d\\u0438\\u044f\", \"\\u043b\\u0438\\u043d\\u0438\\u044f\", \"\\u043b\\u0438\\u0446\\u043e\", \"\\u043b\\u0438\\u0446\\u043e\", \"\\u043b\\u0438\\u0446\\u043e\", \"\\u043b\\u0438\\u0447\\u043d\\u044b\\u0439\", \"\\u043b\\u0438\\u0447\\u043d\\u044b\\u0439\", \"\\u043b\\u0438\\u0447\\u043d\\u044b\\u0439\", \"\\u043b\\u044e\\u0431\\u043e\\u0439\", \"\\u043c\\u0430\\u0433\\u0430\\u0437\\u0438\\u043d\", \"\\u043c\\u0430\\u0433\\u0430\\u0437\\u0438\\u043d\", \"\\u043c\\u0430\\u0433\\u0430\\u0437\\u0438\\u043d\", \"\\u043c\\u0430\\u0433\\u0430\\u0437\\u0438\\u043d\", \"\\u043c\\u0430\\u0440\\u043a\\u0435\\u0442\", \"\\u043c\\u0430\\u0441\\u043a\\u0430\", \"\\u043c\\u0430\\u0441\\u0442\\u0435\\u0440\", \"\\u043c\\u0430\\u0442\\u0435\\u0440\\u0438\\u0430\\u043b\", \"\\u043c\\u0430\\u0448\\u0438\\u043d\\u0430\", \"\\u043c\\u0435\\u0434\\u0438\\u0446\\u0438\\u043d\\u0441\\u043a\\u0438\\u0439\", \"\\u043c\\u0435\\u043d\\u0435\\u0434\\u0436\\u0435\\u0440\", \"\\u043c\\u0435\\u043d\\u0435\\u0435\", \"\\u043c\\u0435\\u0440\\u0430\", \"\\u043c\\u0435\\u0440\\u043e\\u043f\\u0440\\u0438\\u044f\\u0442\\u0438\\u0435\", \"\\u043c\\u0435\\u0441\\u0442\\u043e\", \"\\u043c\\u0435\\u0441\\u0442\\u043e\", \"\\u043c\\u0435\\u0441\\u0442\\u043e\", \"\\u043c\\u0435\\u0441\\u044f\\u0446\", \"\\u043c\\u0435\\u0441\\u044f\\u0446\", \"\\u043c\\u0435\\u0441\\u044f\\u0446\", \"\\u043c\\u0435\\u0441\\u044f\\u0446\", \"\\u043c\\u0435\\u0441\\u044f\\u0446\", \"\\u043c\\u0435\\u0441\\u044f\\u0446\", \"\\u043c\\u0438\\u043d\\u0443\\u0442\\u0430\", \"\\u043c\\u0438\\u0440\", \"\\u043c\\u043d\\u043e\\u0433\\u043e\\u043a\\u0432\\u0430\\u0440\\u0442\\u0438\\u0440\\u043d\\u044b\\u0439\", \"\\u043c\\u043e\\u0434\\u0435\\u043b\\u044c\", \"\\u043c\\u043e\\u043c\\u0435\\u043d\\u0442\", \"\\u043c\\u043e\\u043c\\u0435\\u043d\\u0442\", \"\\u043c\\u043e\\u043c\\u0435\\u043d\\u0442\", \"\\u043c\\u043e\\u043c\\u0435\\u043d\\u0442\", \"\\u043c\\u043e\\u043c\\u0435\\u043d\\u0442\", \"\\u043c\\u043e\\u043c\\u0435\\u043d\\u0442\", \"\\u043c\\u0443\\u043d\\u0438\\u0446\\u0438\\u043f\\u0430\\u043b\\u044c\\u043d\\u044b\\u0439\", \"\\u043c\\u0443\\u0441\\u043e\\u0440\", \"\\u043c\\u0443\\u0441\\u043e\\u0440\\u043d\\u044b\\u0439\", \"\\u043d\\u0430\\u0434\\u0435\\u0442\\u044c\", \"\\u043d\\u0430\\u0434\\u043b\\u0435\\u0436\\u0430\\u0449\\u0438\\u0439\", \"\\u043d\\u0430\\u0434\\u043b\\u0435\\u0436\\u0430\\u0449\\u0438\\u0439\", \"\\u043d\\u0430\\u0437\\u0432\\u0430\\u043d\\u0438\\u0435\", \"\\u043d\\u0430\\u0437\\u044b\\u0432\\u0430\\u0442\\u044c\", \"\\u043d\\u0430\\u0439\\u0442\\u0438\", \"\\u043d\\u0430\\u0439\\u0442\\u0438\", \"\\u043d\\u0430\\u0439\\u0442\\u0438\", \"\\u043d\\u0430\\u0439\\u0442\\u0438\", \"\\u043d\\u0430\\u0439\\u0442\\u0438\", \"\\u043d\\u0430\\u043a\\u0430\\u0437\\u0430\\u0442\\u044c\", \"\\u043d\\u0430\\u043a\\u043b\\u0430\\u0434\\u043d\\u044b\\u0439\", \"\\u043d\\u0430\\u043b\\u0438\\u0447\\u0438\\u0435\", \"\\u043d\\u0430\\u043b\\u0438\\u0447\\u0438\\u0435\", \"\\u043d\\u0430\\u043f\\u0438\\u0441\\u0430\\u0442\\u044c\", \"\\u043d\\u0430\\u043f\\u0438\\u0441\\u0430\\u0442\\u044c\", \"\\u043d\\u0430\\u043f\\u0438\\u0441\\u0430\\u0442\\u044c\", \"\\u043d\\u0430\\u043f\\u0438\\u0441\\u0430\\u0442\\u044c\", \"\\u043d\\u0430\\u0440\\u0443\\u0448\\u0430\\u0442\\u044c\", \"\\u043d\\u0430\\u0440\\u0443\\u0448\\u0435\\u043d\\u0438\\u0435\", \"\\u043d\\u0430\\u0440\\u0443\\u0448\\u0435\\u043d\\u0438\\u0435\", \"\\u043d\\u0430\\u0440\\u0443\\u0448\\u0438\\u0442\\u044c\", \"\\u043d\\u0430\\u0441\\u043a\\u043e\\u043b\\u044c\\u043a\\u043e\", \"\\u043d\\u0430\\u0441\\u0442\\u043e\\u044f\\u0449\\u0438\\u0439\", \"\\u043d\\u0430\\u0443\\u0448\\u043d\\u0438\\u043a\", \"\\u043d\\u0430\\u0447\\u0430\\u043b\\u043e\", \"\\u043d\\u0430\\u0448\", \"\\u043d\\u0430\\u0448\", \"\\u043d\\u0430\\u0448\", \"\\u043d\\u0430\\u0448\", \"\\u043d\\u0430\\u0448\", \"\\u043d\\u0430\\u0448\", \"\\u043d\\u0435\\u0432\\u043e\\u0437\\u043c\\u043e\\u0436\\u043d\\u043e\", \"\\u043d\\u0435\\u0432\\u043e\\u0437\\u043c\\u043e\\u0436\\u043d\\u043e\", \"\\u043d\\u0435\\u0432\\u043e\\u0437\\u043c\\u043e\\u0436\\u043d\\u043e\\u0441\\u0442\\u044c\", \"\\u043d\\u0435\\u043c\\u043e\\u0439\", \"\\u043d\\u0435\\u043d\\u0430\\u0434\\u043b\\u0435\\u0436\\u0430\\u0449\\u0438\\u0439\", \"\\u043d\\u0435\\u0441\\u043a\\u043e\\u043b\\u044c\\u043a\\u043e\", \"\\u043d\\u0435\\u0441\\u043a\\u043e\\u043b\\u044c\\u043a\\u043e\", \"\\u043d\\u0435\\u0441\\u043a\\u043e\\u043b\\u044c\\u043a\\u043e\", \"\\u043d\\u0435\\u0441\\u043a\\u043e\\u043b\\u044c\\u043a\\u043e\", \"\\u043d\\u0435\\u0443\\u0441\\u0442\\u043e\\u0439\\u043a\\u0430\", \"\\u043d\\u0438\\u043a\\u0430\\u043a\", \"\\u043d\\u0438\\u043a\\u0430\\u043a\\u043e\\u0439\", \"\\u043d\\u0438\\u043a\\u0430\\u043a\\u043e\\u0439\", \"\\u043d\\u0438\\u043a\\u0430\\u043a\\u043e\\u0439\", \"\\u043d\\u0438\\u043a\\u0442\\u043e\", \"\\u043d\\u0438\\u043a\\u0442\\u043e\", \"\\u043d\\u0438\\u043a\\u0442\\u043e\", \"\\u043d\\u043e\\u0432\\u044b\\u0439\", \"\\u043d\\u043e\\u0432\\u044b\\u0439\", \"\\u043d\\u043e\\u0432\\u044b\\u0439\", \"\\u043d\\u043e\\u0432\\u044b\\u0439\", \"\\u043d\\u043e\\u043c\\u0435\\u0440\", \"\\u043d\\u043e\\u043c\\u0435\\u0440\", \"\\u043d\\u043e\\u043c\\u0435\\u0440\", \"\\u043d\\u043e\\u0440\\u043c\\u0430\", \"\\u043d\\u043e\\u0441\\u0438\\u0442\\u044c\", \"\\u043e\\u0431\\u0435\\u0449\\u0430\\u0442\\u044c\", \"\\u043e\\u0431\\u043b\\u0430\\u0441\\u0442\\u044c\", \"\\u043e\\u0431\\u043b\\u0430\\u0441\\u0442\\u044c\", \"\\u043e\\u0431\\u043b\\u0430\\u0441\\u0442\\u044c\", \"\\u043e\\u0431\\u043c\\u0435\\u043d\", \"\\u043e\\u0431\\u043c\\u0435\\u043d\\u044f\\u0442\\u044c\", \"\\u043e\\u0431\\u043d\\u0430\\u0440\\u0443\\u0436\\u0438\\u0442\\u044c\", \"\\u043e\\u0431\\u043d\\u0430\\u0440\\u0443\\u0436\\u0438\\u0442\\u044c\", \"\\u043e\\u0431\\u043e\\u0440\\u0443\\u0434\\u043e\\u0432\\u0430\\u043d\\u0438\\u0435\", \"\\u043e\\u0431\\u0440\\u0430\\u0437\", \"\\u043e\\u0431\\u0440\\u0430\\u0437\", \"\\u043e\\u0431\\u0440\\u0430\\u0437\", \"\\u043e\\u0431\\u0440\\u0430\\u0442\\u0438\\u0442\\u044c\\u0441\\u044f\", \"\\u043e\\u0431\\u0440\\u0430\\u0442\\u0438\\u0442\\u044c\\u0441\\u044f\", \"\\u043e\\u0431\\u0440\\u0430\\u0442\\u0438\\u0442\\u044c\\u0441\\u044f\", \"\\u043e\\u0431\\u0440\\u0430\\u0442\\u0438\\u0442\\u044c\\u0441\\u044f\", \"\\u043e\\u0431\\u0440\\u0430\\u0442\\u0438\\u0442\\u044c\\u0441\\u044f\", \"\\u043e\\u0431\\u0440\\u0430\\u0442\\u0438\\u0442\\u044c\\u0441\\u044f\", \"\\u043e\\u0431\\u0440\\u0430\\u0442\\u0438\\u0442\\u044c\\u0441\\u044f\", \"\\u043e\\u0431\\u0440\\u0430\\u0442\\u0438\\u0442\\u044c\\u0441\\u044f\", \"\\u043e\\u0431\\u0440\\u0430\\u0442\\u0438\\u0442\\u044c\\u0441\\u044f\", \"\\u043e\\u0431\\u0440\\u0430\\u0442\\u043d\\u043e\", \"\\u043e\\u0431\\u0440\\u0430\\u0442\\u043d\\u043e\", \"\\u043e\\u0431\\u0440\\u0430\\u0449\\u0435\\u043d\\u0438\\u0435\", \"\\u043e\\u0431\\u0440\\u0430\\u0449\\u0435\\u043d\\u0438\\u0435\", \"\\u043e\\u0431\\u0440\\u0430\\u0449\\u0435\\u043d\\u0438\\u0435\", \"\\u043e\\u0431\\u0440\\u0430\\u0449\\u0435\\u043d\\u0438\\u0435\", \"\\u043e\\u0431\\u0440\\u0430\\u0449\\u0435\\u043d\\u0438\\u0435\", \"\\u043e\\u0431\\u0440\\u0430\\u0449\\u0435\\u043d\\u0438\\u0435\", \"\\u043e\\u0431\\u0440\\u0430\\u0449\\u0435\\u043d\\u0438\\u0435\", \"\\u043e\\u0431\\u0440\\u0430\\u0449\\u0435\\u043d\\u0438\\u0435\", \"\\u043e\\u0431\\u0449\\u0438\\u0439\", \"\\u043e\\u0431\\u044a\\u044f\\u0441\\u043d\\u0438\\u0442\\u044c\", \"\\u043e\\u0431\\u044f\\u0437\\u0430\\u043d\\u043d\\u043e\\u0441\\u0442\\u044c\", \"\\u043e\\u0431\\u044f\\u0437\\u0430\\u0442\\u0435\\u043b\\u044c\\u043d\\u044b\\u0439\", \"\\u043e\\u0431\\u044f\\u0437\\u0430\\u0442\\u044c\", \"\\u043e\\u0431\\u044f\\u0437\\u0430\\u0442\\u044c\", \"\\u043e\\u0433\\u0440\\u0430\\u043d\\u0438\\u0447\\u0435\\u043d\\u0438\\u0435\", \"\\u043e\\u0434\\u0435\\u0436\\u0434\\u0430\", \"\\u043e\\u0436\\u0438\\u0434\\u0430\\u0442\\u044c\", \"\\u043e\\u0437\\u043e\\u043d\", \"\\u043e\\u043a\\u0430\\u0437\\u0430\\u043d\\u0438\\u0435\", \"\\u043e\\u043a\\u0430\\u0437\\u0430\\u0442\\u044c\\u0441\\u044f\", \"\\u043e\\u043a\\u0430\\u0437\\u0430\\u0442\\u044c\\u0441\\u044f\", \"\\u043e\\u043a\\u0430\\u0437\\u0430\\u0442\\u044c\\u0441\\u044f\", \"\\u043e\\u043a\\u0430\\u0437\\u0430\\u0442\\u044c\\u0441\\u044f\", \"\\u043e\\u043a\\u043d\\u043e\", \"\\u043e\\u043d\\u043b\\u0430\\u0439\\u043d\", \"\\u043e\\u043e\\u043e\", \"\\u043e\\u043e\\u043e\", \"\\u043e\\u043e\\u043e\", \"\\u043e\\u043e\\u043e\", \"\\u043e\\u043f\\u0435\\u0440\\u0430\\u0442\\u043e\\u0440\", \"\\u043e\\u043f\\u0435\\u0440\\u0430\\u0442\\u043e\\u0440\", \"\\u043e\\u043f\\u0435\\u0440\\u0430\\u0442\\u043e\\u0440\", \"\\u043e\\u043f\\u0435\\u0440\\u0430\\u0442\\u043e\\u0440\", \"\\u043e\\u043f\\u043b\\u0430\\u0442\\u0430\", \"\\u043e\\u043f\\u043b\\u0430\\u0442\\u0430\", \"\\u043e\\u043f\\u043b\\u0430\\u0442\\u0430\", \"\\u043e\\u043f\\u043b\\u0430\\u0442\\u0430\", \"\\u043e\\u043f\\u043b\\u0430\\u0442\\u0430\", \"\\u043e\\u043f\\u043b\\u0430\\u0442\\u0430\", \"\\u043e\\u043f\\u043b\\u0430\\u0442\\u0430\", \"\\u043e\\u043f\\u043b\\u0430\\u0442\\u0430\", \"\\u043e\\u043f\\u043b\\u0430\\u0442\\u0438\\u0442\\u044c\", \"\\u043e\\u043f\\u043b\\u0430\\u0442\\u0438\\u0442\\u044c\", \"\\u043e\\u043f\\u043b\\u0430\\u0442\\u0438\\u0442\\u044c\", \"\\u043e\\u043f\\u043b\\u0430\\u0442\\u0438\\u0442\\u044c\", \"\\u043e\\u043f\\u043b\\u0430\\u0442\\u0438\\u0442\\u044c\", \"\\u043e\\u043f\\u043b\\u0430\\u0447\\u0438\\u0432\\u0430\\u0442\\u044c\", \"\\u043e\\u0440\\u0433\\u0430\\u043d\\u0438\\u0437\\u0430\\u0446\\u0438\\u044f\", \"\\u043e\\u0440\\u0433\\u0430\\u043d\\u0438\\u0437\\u0430\\u0446\\u0438\\u044f\", \"\\u043e\\u0440\\u0433\\u0430\\u043d\\u0438\\u0437\\u0430\\u0446\\u0438\\u044f\", \"\\u043e\\u0440\\u0433\\u0430\\u043d\\u0438\\u0437\\u0430\\u0446\\u0438\\u044f\", \"\\u043e\\u0441\\u0442\\u0430\\u0442\\u044c\\u0441\\u044f\", \"\\u043e\\u0441\\u0443\\u0449\\u0435\\u0441\\u0442\\u0432\\u0438\\u0442\\u044c\", \"\\u043e\\u0441\\u0443\\u0449\\u0435\\u0441\\u0442\\u0432\\u043b\\u044f\\u0442\\u044c\\u0441\\u044f\", \"\\u043e\\u0442\\u0432\\u0435\\u0442\", \"\\u043e\\u0442\\u0432\\u0435\\u0442\", \"\\u043e\\u0442\\u0432\\u0435\\u0442\", \"\\u043e\\u0442\\u0432\\u0435\\u0442\", \"\\u043e\\u0442\\u0432\\u0435\\u0442\", \"\\u043e\\u0442\\u0432\\u0435\\u0442\", \"\\u043e\\u0442\\u0432\\u0435\\u0442\", \"\\u043e\\u0442\\u0432\\u0435\\u0442\", \"\\u043e\\u0442\\u0432\\u0435\\u0442\", \"\\u043e\\u0442\\u0432\\u0435\\u0442\", \"\\u043e\\u0442\\u0432\\u0435\\u0442\\u0441\\u0442\\u0432\\u0435\\u043d\\u043d\\u043e\\u0441\\u0442\\u044c\", \"\\u043e\\u0442\\u0432\\u0435\\u0442\\u0441\\u0442\\u0432\\u0435\\u043d\\u043d\\u043e\\u0441\\u0442\\u044c\", \"\\u043e\\u0442\\u0432\\u0435\\u0442\\u0441\\u0442\\u0432\\u0435\\u043d\\u043d\\u043e\\u0441\\u0442\\u044c\", \"\\u043e\\u0442\\u0432\\u0435\\u0447\\u0430\\u0442\\u044c\", \"\\u043e\\u0442\\u0432\\u0435\\u0447\\u0430\\u0442\\u044c\", \"\\u043e\\u0442\\u0432\\u0435\\u0447\\u0430\\u0442\\u044c\", \"\\u043e\\u0442\\u0432\\u0435\\u0447\\u0430\\u0442\\u044c\", \"\\u043e\\u0442\\u0432\\u0435\\u0447\\u0430\\u0442\\u044c\", \"\\u043e\\u0442\\u0434\\u0435\\u043b\", \"\\u043e\\u0442\\u0434\\u0435\\u043b\\u0435\\u043d\\u0438\\u0435\", \"\\u043e\\u0442\\u043a\\u0430\\u0437\", \"\\u043e\\u0442\\u043a\\u0430\\u0437\", \"\\u043e\\u0442\\u043a\\u0430\\u0437\", \"\\u043e\\u0442\\u043a\\u0430\\u0437\\u0430\\u0442\\u044c\", \"\\u043e\\u0442\\u043a\\u0430\\u0437\\u0430\\u0442\\u044c\", \"\\u043e\\u0442\\u043a\\u0430\\u0437\\u0430\\u0442\\u044c\\u0441\\u044f\", \"\\u043e\\u0442\\u043a\\u0430\\u0437\\u0430\\u0442\\u044c\\u0441\\u044f\", \"\\u043e\\u0442\\u043a\\u0430\\u0437\\u0430\\u0442\\u044c\\u0441\\u044f\", \"\\u043e\\u0442\\u043a\\u0430\\u0437\\u0430\\u0442\\u044c\\u0441\\u044f\", \"\\u043e\\u0442\\u043a\\u0430\\u0437\\u0430\\u0442\\u044c\\u0441\\u044f\", \"\\u043e\\u0442\\u043a\\u0430\\u0437\\u044b\\u0432\\u0430\\u0442\\u044c\", \"\\u043e\\u0442\\u043a\\u043b\\u044e\\u0447\\u0438\\u0442\\u044c\", \"\\u043e\\u0442\\u043c\\u0435\\u043d\\u0430\", \"\\u043e\\u0442\\u043c\\u0435\\u043d\\u0430\", \"\\u043e\\u0442\\u043c\\u0435\\u043d\\u0438\\u0442\\u044c\", \"\\u043e\\u0442\\u043d\\u043e\\u0448\\u0435\\u043d\\u0438\\u0435\", \"\\u043e\\u0442\\u043f\\u0438\\u0441\\u043a\\u0430\", \"\\u043e\\u0442\\u043f\\u0438\\u0441\\u043a\\u0430\", \"\\u043e\\u0442\\u043f\\u0440\\u0430\\u0432\\u0438\\u0442\\u044c\", \"\\u043e\\u0442\\u043f\\u0440\\u0430\\u0432\\u0438\\u0442\\u044c\", \"\\u043e\\u0442\\u043f\\u0440\\u0430\\u0432\\u0438\\u0442\\u044c\", \"\\u043e\\u0442\\u043f\\u0440\\u0430\\u0432\\u0438\\u0442\\u044c\", \"\\u043e\\u0442\\u043f\\u0440\\u0430\\u0432\\u043a\\u0430\", \"\\u043e\\u0442\\u043f\\u0440\\u0430\\u0432\\u043b\\u0435\\u043d\\u0438\\u0435\", \"\\u043e\\u0442\\u0441\\u0443\\u0442\\u0441\\u0442\\u0432\\u0438\\u0435\", \"\\u043e\\u0442\\u0441\\u0443\\u0442\\u0441\\u0442\\u0432\\u0438\\u0435\", \"\\u043e\\u0442\\u0441\\u0443\\u0442\\u0441\\u0442\\u0432\\u0438\\u0435\", \"\\u043e\\u0442\\u0441\\u0443\\u0442\\u0441\\u0442\\u0432\\u0438\\u0435\", \"\\u043e\\u0444\\u0438\\u0441\", \"\\u043e\\u0444\\u0438\\u0446\\u0438\\u0430\\u043b\\u044c\\u043d\\u044b\\u0439\", \"\\u043e\\u0444\\u0438\\u0446\\u0438\\u0430\\u043b\\u044c\\u043d\\u044b\\u0439\", \"\\u043e\\u0444\\u043e\\u0440\\u043c\\u0438\\u0442\\u044c\", \"\\u043e\\u0444\\u043e\\u0440\\u043c\\u0438\\u0442\\u044c\", \"\\u043e\\u0444\\u043e\\u0440\\u043c\\u0438\\u0442\\u044c\", \"\\u043e\\u0444\\u043e\\u0440\\u043c\\u043b\\u044f\\u0442\\u044c\", \"\\u043e\\u0446\\u0435\\u043d\\u043a\\u0430\", \"\\u043f\\u0430\\u043e\", \"\\u043f\\u0430\\u0440\\u0430\", \"\\u043f\\u0430\\u0441\\u0441\\u0430\\u0436\\u0438\\u0440\", \"\\u043f\\u0435\\u043d\\u0441\\u0438\\u043e\\u043d\\u0435\\u0440\", \"\\u043f\\u0435\\u0440\\u0435\\u0431\\u043e\\u043b\\u0435\\u0442\\u044c\", \"\\u043f\\u0435\\u0440\\u0435\\u043d\\u0435\\u0441\\u0442\\u0438\", \"\\u043f\\u0435\\u0440\\u0435\\u0447\\u0435\\u043d\\u044c\", \"\\u043f\\u0435\\u0440\\u0441\\u043e\\u043d\\u0430\\u043b\", \"\\u043f\\u0438\\u0441\\u0430\\u0442\\u044c\", \"\\u043f\\u0438\\u0441\\u0430\\u0442\\u044c\", \"\\u043f\\u0438\\u0441\\u0430\\u0442\\u044c\", \"\\u043f\\u0438\\u0441\\u0430\\u0442\\u044c\", \"\\u043f\\u0438\\u0441\\u044c\\u043c\\u0435\\u043d\\u043d\\u044b\\u0439\", \"\\u043f\\u0438\\u0441\\u044c\\u043c\\u043e\", \"\\u043f\\u0438\\u0441\\u044c\\u043c\\u043e\", \"\\u043f\\u043b\\u0430\\u043d\", \"\\u043f\\u043b\\u0430\\u0442\\u0438\\u0442\\u044c\", \"\\u043f\\u043b\\u0430\\u0442\\u0451\\u0436\", \"\\u043f\\u043b\\u043e\\u0449\\u0430\\u0434\\u043a\\u0430\", \"\\u043f\\u043b\\u044e\\u0441\", \"\\u043f\\u043e\\u0432\\u043e\\u0434\", \"\\u043f\\u043e\\u0432\\u0442\\u043e\\u0440\\u043d\\u043e\", \"\\u043f\\u043e\\u0432\\u0442\\u043e\\u0440\\u043d\\u044b\\u0439\", \"\\u043f\\u043e\\u0434\\u0430\\u0440\\u043e\\u043a\", \"\\u043f\\u043e\\u0434\\u0430\\u0442\\u044c\", \"\\u043f\\u043e\\u0434\\u0430\\u0447\\u0430\", \"\\u043f\\u043e\\u0434\\u043a\\u043b\\u044e\\u0447\\u0435\\u043d\\u0438\\u0435\", \"\\u043f\\u043e\\u0434\\u043e\\u0431\\u043d\\u044b\\u0439\", \"\\u043f\\u043e\\u0434\\u043e\\u0439\\u0442\\u0438\", \"\\u043f\\u043e\\u0434\\u043e\\u0439\\u0442\\u0438\", \"\\u043f\\u043e\\u0434\\u043f\\u0438\\u0441\\u0430\\u0442\\u044c\", \"\\u043f\\u043e\\u0434\\u043f\\u0438\\u0441\\u043a\\u0430\", \"\\u043f\\u043e\\u0434\\u0441\\u043a\\u0430\\u0437\\u0430\\u0442\\u044c\", \"\\u043f\\u043e\\u0434\\u0441\\u043a\\u0430\\u0437\\u0430\\u0442\\u044c\", \"\\u043f\\u043e\\u0434\\u0441\\u043a\\u0430\\u0437\\u0430\\u0442\\u044c\", \"\\u043f\\u043e\\u0434\\u0441\\u043a\\u0430\\u0437\\u0430\\u0442\\u044c\", \"\\u043f\\u043e\\u0434\\u0442\\u0432\\u0435\\u0440\\u0434\\u0438\\u0442\\u044c\", \"\\u043f\\u043e\\u0434\\u0442\\u0432\\u0435\\u0440\\u0436\\u0434\\u0430\\u0442\\u044c\", \"\\u043f\\u043e\\u0434\\u0442\\u0432\\u0435\\u0440\\u0436\\u0434\\u0435\\u043d\\u0438\\u0435\", \"\\u043f\\u043e\\u0434\\u0442\\u0432\\u0435\\u0440\\u0436\\u0434\\u0435\\u043d\\u0438\\u0435\", \"\\u043f\\u043e\\u0434\\u044a\\u0435\\u0437\\u0434\", \"\\u043f\\u043e\\u0435\\u0437\\u0434\\u043a\\u0430\", \"\\u043f\\u043e\\u0435\\u0445\\u0430\\u0442\\u044c\", \"\\u043f\\u043e\\u0437\\u0432\\u043e\\u043d\\u0438\\u0442\\u044c\", \"\\u043f\\u043e\\u0437\\u0432\\u043e\\u043d\\u0438\\u0442\\u044c\", \"\\u043f\\u043e\\u0437\\u0432\\u043e\\u043d\\u0438\\u0442\\u044c\", \"\\u043f\\u043e\\u0437\\u0432\\u043e\\u043d\\u0438\\u0442\\u044c\", \"\\u043f\\u043e\\u0437\\u0434\\u043d\\u0438\\u0439\", \"\\u043f\\u043e\\u043a\\u0443\\u043f\\u0430\\u0442\\u0435\\u043b\\u044c\", \"\\u043f\\u043e\\u043a\\u0443\\u043f\\u0430\\u0442\\u0435\\u043b\\u044c\", \"\\u043f\\u043e\\u043a\\u0443\\u043f\\u043a\\u0430\", \"\\u043f\\u043e\\u043a\\u0443\\u043f\\u043a\\u0430\", \"\\u043f\\u043e\\u043b\\u0433\\u043e\\u0434\\u0430\", \"\\u043f\\u043e\\u043b\\u043d\\u044b\\u0439\", \"\\u043f\\u043e\\u043b\\u043e\\u0436\\u0438\\u0442\\u0435\\u043b\\u044c\\u043d\\u044b\\u0439\", \"\\u043f\\u043e\\u043b\\u043e\\u0436\\u0438\\u0442\\u044c\", \"\\u043f\\u043e\\u043b\\u0443\\u0447\\u0430\\u0442\\u044c\", \"\\u043f\\u043e\\u043b\\u0443\\u0447\\u0430\\u0442\\u044c\", \"\\u043f\\u043e\\u043b\\u0443\\u0447\\u0435\\u043d\\u0438\\u0435\", \"\\u043f\\u043e\\u043b\\u0443\\u0447\\u0435\\u043d\\u0438\\u0435\", \"\\u043f\\u043e\\u043b\\u044c\\u0437\\u043e\\u0432\\u0430\\u0442\\u0435\\u043b\\u044c\", \"\\u043f\\u043e\\u043b\\u044c\\u0437\\u043e\\u0432\\u0430\\u0442\\u044c\\u0441\\u044f\", \"\\u043f\\u043e\\u043c\\u0435\\u043d\\u044f\\u0442\\u044c\", \"\\u043f\\u043e\\u043c\\u0435\\u0449\\u0435\\u043d\\u0438\\u0435\", \"\\u043f\\u043e\\u043c\\u043e\\u0447\\u044c\", \"\\u043f\\u043e\\u043c\\u043e\\u0447\\u044c\", \"\\u043f\\u043e\\u043d\\u0438\\u043c\\u0430\\u0442\\u044c\", \"\\u043f\\u043e\\u043d\\u0438\\u043c\\u0430\\u0442\\u044c\", \"\\u043f\\u043e\\u043f\\u0440\\u043e\\u0441\\u0438\\u0442\\u044c\", \"\\u043f\\u043e\\u043f\\u0440\\u043e\\u0441\\u0438\\u0442\\u044c\", \"\\u043f\\u043e\\u043f\\u0440\\u043e\\u0441\\u0438\\u0442\\u044c\", \"\\u043f\\u043e\\u0440\\u0442\\u0430\\u043b\", \"\\u043f\\u043e\\u0440\\u044f\\u0434\\u043e\\u043a\", \"\\u043f\\u043e\\u0441\\u0435\\u0449\\u0430\\u0442\\u044c\", \"\\u043f\\u043e\\u0441\\u0435\\u0449\\u0435\\u043d\\u0438\\u0435\", \"\\u043f\\u043e\\u0441\\u043b\\u0435\\u0434\\u043d\\u0438\\u0439\", \"\\u043f\\u043e\\u0441\\u0442\\u0430\\u043d\\u043e\\u0432\\u043b\\u0435\\u043d\\u0438\\u0435\", \"\\u043f\\u043e\\u0441\\u0442\\u043e\\u044f\\u043d\\u043d\\u043e\", \"\\u043f\\u043e\\u0441\\u0442\\u0443\\u043f\\u0430\\u0442\\u044c\", \"\\u043f\\u043e\\u0441\\u044b\\u043b\\u043a\\u0430\", \"\\u043f\\u043e\\u0442\\u0440\\u0435\\u0431\\u0438\\u0442\\u0435\\u043b\\u044c\", \"\\u043f\\u043e\\u0447\\u0442\\u0430\", \"\\u043f\\u043e\\u0447\\u0442\\u0430\", \"\\u043f\\u043e\\u0447\\u0442\\u0430\", \"\\u043f\\u043e\\u0447\\u0442\\u0430\", \"\\u043f\\u043e\\u0447\\u0442\\u043e\\u0432\\u044b\\u0439\", \"\\u043f\\u043e\\u044d\\u0442\\u043e\\u043c\\u0443\", \"\\u043f\\u0440\\u0430\\u0432\\u0438\\u043b\\u043e\", \"\\u043f\\u0440\\u0430\\u0432\\u0438\\u043b\\u043e\", \"\\u043f\\u0440\\u0430\\u0432\\u0438\\u0442\\u0435\\u043b\\u044c\\u0441\\u0442\\u0432\\u043e\", \"\\u043f\\u0440\\u0430\\u0432\\u043e\", \"\\u043f\\u0440\\u0430\\u0432\\u043e\", \"\\u043f\\u0440\\u0430\\u0432\\u043e\", \"\\u043f\\u0440\\u0435\\u0434\\u043b\\u0430\\u0433\\u0430\\u0442\\u044c\", \"\\u043f\\u0440\\u0435\\u0434\\u043e\\u043f\\u043b\\u0430\\u0442\\u0430\", \"\\u043f\\u0440\\u0435\\u0434\\u043e\\u0441\\u0442\\u0430\\u0432\\u043b\\u0435\\u043d\\u0438\\u0435\", \"\\u043f\\u0440\\u0435\\u0434\\u043e\\u0441\\u0442\\u0430\\u0432\\u043b\\u0435\\u043d\\u0438\\u0435\", \"\\u043f\\u0440\\u0435\\u0434\\u043e\\u0441\\u0442\\u0430\\u0432\\u043b\\u0435\\u043d\\u0438\\u0435\", \"\\u043f\\u0440\\u0435\\u0434\\u043e\\u0441\\u0442\\u0430\\u0432\\u043b\\u0435\\u043d\\u0438\\u0435\", \"\\u043f\\u0440\\u0435\\u0434\\u043e\\u0441\\u0442\\u0430\\u0432\\u043b\\u044f\\u0442\\u044c\", \"\\u043f\\u0440\\u0435\\u0434\\u043f\\u0440\\u0438\\u043d\\u044f\\u0442\\u044c\", \"\\u043f\\u0440\\u0435\\u0434\\u0441\\u0442\\u0430\\u0432\\u0438\\u0442\\u0435\\u043b\\u044c\", \"\\u043f\\u0440\\u0435\\u0434\\u0443\\u0441\\u043c\\u043e\\u0442\\u0440\\u0435\\u0442\\u044c\", \"\\u043f\\u0440\\u0435\\u0434\\u0443\\u0441\\u043c\\u043e\\u0442\\u0440\\u0435\\u0442\\u044c\", \"\\u043f\\u0440\\u0435\\u0434\\u044a\\u044f\\u0432\\u0438\\u0442\\u044c\", \"\\u043f\\u0440\\u0435\\u0434\\u044a\\u044f\\u0432\\u043b\\u0435\\u043d\\u0438\\u0435\", \"\\u043f\\u0440\\u0435\\u0436\\u043d\\u0438\\u0439\", \"\\u043f\\u0440\\u0435\\u0442\\u0435\\u043d\\u0437\\u0438\\u044f\", \"\\u043f\\u0440\\u0435\\u0442\\u0435\\u043d\\u0437\\u0438\\u044f\", \"\\u043f\\u0440\\u0435\\u0442\\u0435\\u043d\\u0437\\u0438\\u044f\", \"\\u043f\\u0440\\u0438\\u0432\\u0435\\u0437\\u0442\\u0438\", \"\\u043f\\u0440\\u0438\\u0432\\u0435\\u0441\\u0442\\u0438\", \"\\u043f\\u0440\\u0438\\u0439\\u0442\\u0438\", \"\\u043f\\u0440\\u0438\\u0439\\u0442\\u0438\", \"\\u043f\\u0440\\u0438\\u0439\\u0442\\u0438\", \"\\u043f\\u0440\\u0438\\u0439\\u0442\\u0438\", \"\\u043f\\u0440\\u0438\\u0439\\u0442\\u0438\\u0441\\u044c\", \"\\u043f\\u0440\\u0438\\u043a\\u0440\\u0435\\u043f\\u0438\\u0442\\u044c\", \"\\u043f\\u0440\\u0438\\u043b\\u043e\\u0436\\u0435\\u043d\\u0438\\u0435\", \"\\u043f\\u0440\\u0438\\u043b\\u043e\\u0436\\u0435\\u043d\\u0438\\u0435\", \"\\u043f\\u0440\\u0438\\u043b\\u043e\\u0436\\u0435\\u043d\\u0438\\u0435\", \"\\u043f\\u0440\\u0438\\u043b\\u043e\\u0436\\u0438\\u0442\\u044c\", \"\\u043f\\u0440\\u0438\\u043d\\u0438\\u043c\\u0430\\u0442\\u044c\", \"\\u043f\\u0440\\u0438\\u043d\\u044f\\u0442\\u044c\", \"\\u043f\\u0440\\u0438\\u043d\\u044f\\u0442\\u044c\", \"\\u043f\\u0440\\u0438\\u043d\\u044f\\u0442\\u044c\", \"\\u043f\\u0440\\u0438\\u043d\\u044f\\u0442\\u044c\", \"\\u043f\\u0440\\u0438\\u043d\\u044f\\u0442\\u044c\", \"\\u043f\\u0440\\u0438\\u043e\\u0431\\u0440\\u0435\\u0441\\u0442\\u0438\", \"\\u043f\\u0440\\u0438\\u043e\\u0431\\u0440\\u0435\\u0441\\u0442\\u0438\", \"\\u043f\\u0440\\u0438\\u043e\\u0441\\u0442\\u0430\\u043d\\u043e\\u0432\\u0438\\u0442\\u044c\", \"\\u043f\\u0440\\u0438\\u0441\\u043b\\u0430\\u0442\\u044c\", \"\\u043f\\u0440\\u0438\\u0441\\u043b\\u0430\\u0442\\u044c\", \"\\u043f\\u0440\\u0438\\u0445\\u043e\\u0434\\u0438\\u0442\\u044c\", \"\\u043f\\u0440\\u0438\\u0445\\u043e\\u0434\\u0438\\u0442\\u044c\\u0441\\u044f\", \"\\u043f\\u0440\\u0438\\u0447\\u0438\\u043d\\u0430\", \"\\u043f\\u0440\\u0438\\u0447\\u0438\\u043d\\u0430\", \"\\u043f\\u0440\\u0438\\u0447\\u0438\\u043d\\u0430\", \"\\u043f\\u0440\\u0438\\u0447\\u0438\\u043d\\u0430\", \"\\u043f\\u0440\\u043e\\u0431\\u043b\\u0435\\u043c\\u0430\", \"\\u043f\\u0440\\u043e\\u0431\\u043b\\u0435\\u043c\\u0430\", \"\\u043f\\u0440\\u043e\\u0431\\u043b\\u0435\\u043c\\u0430\", \"\\u043f\\u0440\\u043e\\u0432\\u0435\\u0434\\u0435\\u043d\\u0438\\u0435\", \"\\u043f\\u0440\\u043e\\u0432\\u0435\\u0440\\u0438\\u0442\\u044c\", \"\\u043f\\u0440\\u043e\\u0432\\u0435\\u0440\\u043a\\u0430\", \"\\u043f\\u0440\\u043e\\u0432\\u0435\\u0440\\u043a\\u0430\", \"\\u043f\\u0440\\u043e\\u0432\\u0435\\u0440\\u043a\\u0430\", \"\\u043f\\u0440\\u043e\\u0432\\u0435\\u0440\\u043a\\u0430\", \"\\u043f\\u0440\\u043e\\u0432\\u0435\\u0440\\u043a\\u0430\", \"\\u043f\\u0440\\u043e\\u0434\\u0430\\u0432\\u0430\\u0442\\u044c\", \"\\u043f\\u0440\\u043e\\u0434\\u0430\\u0432\\u0435\\u0446\", \"\\u043f\\u0440\\u043e\\u0434\\u0430\\u0432\\u0435\\u0446\", \"\\u043f\\u0440\\u043e\\u0434\\u0430\\u0436\\u0430\", \"\\u043f\\u0440\\u043e\\u0434\\u0430\\u0436\\u0430\", \"\\u043f\\u0440\\u043e\\u0434\\u0430\\u0436\\u0430\", \"\\u043f\\u0440\\u043e\\u0434\\u0430\\u0442\\u044c\", \"\\u043f\\u0440\\u043e\\u0434\\u043e\\u043b\\u0436\\u0430\\u0442\\u044c\", \"\\u043f\\u0440\\u043e\\u0434\\u0443\\u043a\\u0442\", \"\\u043f\\u0440\\u043e\\u0434\\u0443\\u043a\\u0446\\u0438\\u044f\", \"\\u043f\\u0440\\u043e\\u0436\\u0438\\u0432\\u0430\\u0442\\u044c\", \"\\u043f\\u0440\\u043e\\u0438\\u0437\\u0432\\u043e\\u0434\\u0438\\u0442\\u0435\\u043b\\u044c\", \"\\u043f\\u0440\\u043e\\u0438\\u0437\\u0432\\u043e\\u0434\\u0441\\u0442\\u0432\\u043e\", \"\\u043f\\u0440\\u043e\\u0439\\u0442\\u0438\", \"\\u043f\\u0440\\u043e\\u0439\\u0442\\u0438\", \"\\u043f\\u0440\\u043e\\u0439\\u0442\\u0438\", \"\\u043f\\u0440\\u043e\\u0439\\u0442\\u0438\", \"\\u043f\\u0440\\u043e\\u0441\\u0440\\u043e\\u0447\\u0438\\u0442\\u044c\", \"\\u043f\\u0440\\u043e\\u0441\\u0442\\u043e\", \"\\u043f\\u0440\\u043e\\u0441\\u0442\\u043e\", \"\\u043f\\u0440\\u043e\\u0441\\u0442\\u043e\", \"\\u043f\\u0443\\u043d\\u043a\\u0442\", \"\\u043f\\u0446\\u0440\", \"\\u043f\\u044b\\u0442\\u0430\\u0442\\u044c\\u0441\\u044f\", \"\\u043f\\u044f\\u0442\\u0451\\u0440\\u043e\\u0447\\u043a\\u0430\", \"\\u0440\\u0430\\u0431\\u043e\\u0442\\u0430\", \"\\u0440\\u0430\\u0431\\u043e\\u0442\\u0430\", \"\\u0440\\u0430\\u0431\\u043e\\u0442\\u0430\", \"\\u0440\\u0430\\u0431\\u043e\\u0442\\u0430\", \"\\u0440\\u0430\\u0431\\u043e\\u0442\\u0430\", \"\\u0440\\u0430\\u0431\\u043e\\u0442\\u0430\", \"\\u0440\\u0430\\u0431\\u043e\\u0442\\u0430\\u0442\\u044c\", \"\\u0440\\u0430\\u0431\\u043e\\u0442\\u0430\\u0442\\u044c\", \"\\u0440\\u0430\\u0431\\u043e\\u0442\\u0430\\u0442\\u044c\", \"\\u0440\\u0430\\u0431\\u043e\\u0442\\u043d\\u0438\\u043a\", \"\\u0440\\u0430\\u0431\\u043e\\u0447\\u0438\\u0439\", \"\\u0440\\u0430\\u0431\\u043e\\u0447\\u0438\\u0439\", \"\\u0440\\u0430\\u0437\\u043c\\u0435\\u0440\", \"\\u0440\\u0430\\u0437\\u043c\\u0435\\u0440\", \"\\u0440\\u0430\\u0437\\u043d\\u044b\\u0439\", \"\\u0440\\u0430\\u0437\\u043d\\u044b\\u0439\", \"\\u0440\\u0430\\u0437\\u043e\\u0431\\u0440\\u0430\\u0442\\u044c\\u0441\\u044f\", \"\\u0440\\u0430\\u0437\\u043e\\u0431\\u0440\\u0430\\u0442\\u044c\\u0441\\u044f\", \"\\u0440\\u0430\\u0437\\u043e\\u0431\\u0440\\u0430\\u0442\\u044c\\u0441\\u044f\", \"\\u0440\\u0430\\u0437\\u043e\\u0431\\u0440\\u0430\\u0442\\u044c\\u0441\\u044f\", \"\\u0440\\u0430\\u0437\\u043e\\u0431\\u0440\\u0430\\u0442\\u044c\\u0441\\u044f\", \"\\u0440\\u0430\\u0437\\u0440\\u0435\\u0448\\u0438\\u0442\\u044c\", \"\\u0440\\u0430\\u0437\\u044a\\u044f\\u0441\\u043d\\u0438\\u0442\\u044c\", \"\\u0440\\u0430\\u0439\\u043e\\u043d\", \"\\u0440\\u0430\\u0439\\u043e\\u043d\", \"\\u0440\\u0430\\u0441\\u043f\\u043e\\u043b\\u043e\\u0436\\u0438\\u0442\\u044c\", \"\\u0440\\u0430\\u0441\\u043f\\u0440\\u043e\\u0441\\u0442\\u0440\\u0430\\u043d\\u044f\\u0442\\u044c\\u0441\\u044f\", \"\\u0440\\u0430\\u0441\\u0441\\u043c\\u043e\\u0442\\u0440\\u0435\\u043d\\u0438\\u0435\", \"\\u0440\\u0430\\u0441\\u0441\\u043c\\u043e\\u0442\\u0440\\u0435\\u0442\\u044c\", \"\\u0440\\u0430\\u0441\\u0442\\u043e\\u0440\\u0433\\u043d\\u0443\\u0442\\u044c\", \"\\u0440\\u0430\\u0441\\u0442\\u043e\\u0440\\u0436\\u0435\\u043d\\u0438\\u0435\", \"\\u0440\\u0435\\u0431\\u0451\\u043d\\u043e\\u043a\", \"\\u0440\\u0435\\u0433\\u0438\\u043e\\u043d\", \"\\u0440\\u0435\\u0436\\u0438\\u043c\", \"\\u0440\\u0435\\u0437\\u0443\\u043b\\u044c\\u0442\\u0430\\u0442\", \"\\u0440\\u0435\\u0437\\u0443\\u043b\\u044c\\u0442\\u0430\\u0442\", \"\\u0440\\u0435\\u0439\\u0441\", \"\\u0440\\u0435\\u043c\\u043e\\u043d\\u0442\", \"\\u0440\\u0435\\u043c\\u043e\\u043d\\u0442\", \"\\u0440\\u0435\\u043c\\u043e\\u043d\\u0442\", \"\\u0440\\u0435\\u0448\\u0435\\u043d\\u0438\\u0435\", \"\\u0440\\u0435\\u0448\\u0435\\u043d\\u0438\\u0435\", \"\\u0440\\u0435\\u0448\\u0435\\u043d\\u0438\\u0435\", \"\\u0440\\u0435\\u0448\\u0435\\u043d\\u0438\\u0435\", \"\\u0440\\u0435\\u0448\\u0435\\u043d\\u0438\\u0435\", \"\\u0440\\u0435\\u0448\\u0435\\u043d\\u0438\\u0435\", \"\\u0440\\u0435\\u0448\\u0435\\u043d\\u0438\\u0435\", \"\\u0440\\u0435\\u0448\\u0438\\u0442\\u044c\", \"\\u0440\\u0435\\u0448\\u0438\\u0442\\u044c\", \"\\u0440\\u0435\\u0448\\u0438\\u0442\\u044c\", \"\\u0440\\u0435\\u0448\\u0438\\u0442\\u044c\", \"\\u0440\\u043e\\u0434\\u0438\\u0442\\u0435\\u043b\\u044c\", \"\\u0440\\u043e\\u0441\\u043f\\u043e\\u0442\\u0440\\u0435\\u0431\\u043d\\u0430\\u0434\\u0437\\u043e\\u0440\", \"\\u0440\\u043e\\u0441\\u0441\\u0438\\u0439\\u0441\\u043a\\u0438\\u0439\", \"\\u0440\\u043e\\u0441\\u0441\\u0438\\u0439\\u0441\\u043a\\u0438\\u0439\", \"\\u0440\\u043e\\u0441\\u0441\\u0438\\u044f\", \"\\u0440\\u043e\\u0441\\u0442\\u0435\\u043b\\u0435\\u043a\\u043e\\u043c\", \"\\u0440\\u0443\\u0431\", \"\\u0440\\u0443\\u0431\\u043b\\u044c\", \"\\u0440\\u0443\\u0431\\u043b\\u044c\", \"\\u0440\\u0443\\u043a\\u0430\", \"\\u0440\\u0443\\u043a\\u043e\\u0432\\u043e\\u0434\\u0441\\u0442\\u0432\\u043e\", \"\\u0441\\u0430\\u0434\", \"\\u0441\\u0430\\u0439\\u0442\", \"\\u0441\\u0430\\u0439\\u0442\", \"\\u0441\\u0430\\u0439\\u0442\", \"\\u0441\\u0430\\u0439\\u0442\", \"\\u0441\\u0430\\u0439\\u0442\", \"\\u0441\\u0430\\u043b\\u043e\\u043d\", \"\\u0441\\u0430\\u043d\\u0438\\u0442\\u0430\\u0440\\u043d\\u044b\\u0439\", \"\\u0441\\u0430\\u043d\\u0438\\u0442\\u0430\\u0440\\u043d\\u044b\\u0439\", \"\\u0441\\u0430\\u043d\\u043f\\u0438\\u043d\", \"\\u0441\\u0431\\u0435\\u0440\\u0431\\u0430\\u043d\\u043a\", \"\\u0441\\u0431\\u0435\\u0440\\u043c\\u0435\\u0433\\u0430\\u043c\\u0430\\u0440\\u043a\\u0435\\u0442\", \"\\u0441\\u0432\\u044f\\u0437\\u044c\", \"\\u0441\\u0432\\u044f\\u0437\\u044c\", \"\\u0441\\u0432\\u044f\\u0437\\u044c\", \"\\u0441\\u0432\\u044f\\u0437\\u044c\", \"\\u0441\\u0434\\u0430\\u0432\\u0430\\u0442\\u044c\", \"\\u0441\\u0434\\u0430\\u0442\\u044c\", \"\\u0441\\u0434\\u0435\\u043b\\u0430\\u0442\\u044c\", \"\\u0441\\u0434\\u0435\\u043b\\u0430\\u0442\\u044c\", \"\\u0441\\u0434\\u0435\\u043b\\u0430\\u0442\\u044c\", \"\\u0441\\u0434\\u0435\\u043b\\u0430\\u0442\\u044c\", \"\\u0441\\u0434\\u0435\\u043b\\u0430\\u0442\\u044c\", \"\\u0441\\u0434\\u0435\\u043b\\u0430\\u0442\\u044c\", \"\\u0441\\u0434\\u0435\\u043b\\u0430\\u0442\\u044c\", \"\\u0441\\u0434\\u0435\\u043b\\u0430\\u0442\\u044c\", \"\\u0441\\u0434\\u044d\\u043a\", \"\\u0441\\u0435\\u0433\\u043e\\u0434\\u043d\\u044f\\u0448\\u043d\\u0438\\u0439\", \"\\u0441\\u0435\\u0440\\u0432\\u0438\\u0441\", \"\\u0441\\u0435\\u0440\\u0432\\u0438\\u0441\\u043d\\u044b\\u0439\", \"\\u0441\\u0435\\u0440\\u0442\\u0438\\u0444\\u0438\\u043a\\u0430\\u0442\", \"\\u0441\\u0435\\u0442\\u044c\", \"\\u0441\\u0435\\u0442\\u044c\", \"\\u0441\\u0438\\u043b\\u0430\", \"\\u0441\\u0438\\u0441\\u0442\\u0435\\u043c\\u0430\", \"\\u0441\\u0438\\u0442\\u0443\\u0430\\u0446\\u0438\\u044f\", \"\\u0441\\u0438\\u0442\\u0443\\u0430\\u0446\\u0438\\u044f\", \"\\u0441\\u0438\\u0442\\u0443\\u0430\\u0446\\u0438\\u044f\", \"\\u0441\\u0438\\u0442\\u0443\\u0430\\u0446\\u0438\\u044f\", \"\\u0441\\u0438\\u0442\\u0443\\u0430\\u0446\\u0438\\u044f\", \"\\u0441\\u0438\\u0442\\u0443\\u0430\\u0446\\u0438\\u044f\", \"\\u0441\\u043a\\u043b\\u0430\\u0434\", \"\\u0441\\u043a\\u043e\\u043b\\u044c\\u043a\\u043e\", \"\\u0441\\u043b\\u0435\\u0434\", \"\\u0441\\u043b\\u0435\\u0434\\u0443\\u044e\\u0449\\u0438\\u0439\", \"\\u0441\\u043b\\u0435\\u0434\\u0443\\u044e\\u0449\\u0438\\u0439\", \"\\u0441\\u043b\\u0435\\u0434\\u0443\\u044e\\u0449\\u0438\\u0439\", \"\\u0441\\u043b\\u0435\\u0434\\u0443\\u044e\\u0449\\u0438\\u0439\", \"\\u0441\\u043b\\u0435\\u0434\\u0443\\u044e\\u0449\\u0438\\u0439\", \"\\u0441\\u043b\\u0435\\u0434\\u0443\\u044e\\u0449\\u0438\\u0439\", \"\\u0441\\u043b\\u043e\\u0432\\u043e\", \"\\u0441\\u043b\\u0443\\u0436\\u0431\\u0430\", \"\\u0441\\u043b\\u0443\\u0436\\u0431\\u0430\", \"\\u0441\\u043b\\u0443\\u0436\\u0431\\u0430\", \"\\u0441\\u043b\\u0443\\u0436\\u0431\\u0430\", \"\\u0441\\u043b\\u0443\\u0436\\u0431\\u0430\", \"\\u0441\\u043b\\u0443\\u0436\\u0431\\u0430\", \"\\u0441\\u043b\\u0443\\u0436\\u0431\\u0430\", \"\\u0441\\u043b\\u0443\\u0447\\u0430\\u0439\", \"\\u0441\\u043b\\u0443\\u0447\\u0430\\u0439\", \"\\u0441\\u043b\\u0443\\u0447\\u0430\\u0439\", \"\\u0441\\u043b\\u0443\\u0447\\u0430\\u0439\", \"\\u0441\\u043b\\u0443\\u0447\\u0430\\u0439\", \"\\u0441\\u043c\\u0430\\u0440\\u0442\\u0444\\u043e\\u043d\", \"\\u0441\\u043c\\u043e\\u0442\\u0440\\u0435\\u0442\\u044c\", \"\\u0441\\u043c\\u043e\\u0447\\u044c\", \"\\u0441\\u043c\\u043e\\u0447\\u044c\", \"\\u0441\\u043c\\u0441\", \"\\u0441\\u043c\\u044b\\u0441\\u043b\", \"\\u0441\\u043d\\u044f\\u0442\\u044c\", \"\\u0441\\u043e\\u0431\\u0438\\u0440\\u0430\\u0442\\u044c\\u0441\\u044f\", \"\\u0441\\u043e\\u0431\\u0441\\u0442\\u0432\\u0435\\u043d\\u043d\\u0438\\u043a\", \"\\u0441\\u043e\\u0431\\u0441\\u0442\\u0432\\u0435\\u043d\\u043d\\u044b\\u0439\", \"\\u0441\\u043e\\u0433\\u043b\\u0430\\u0441\\u0438\\u0442\\u044c\\u0441\\u044f\", \"\\u0441\\u043e\\u043e\\u0431\\u0449\\u0435\\u043d\\u0438\\u0435\", \"\\u0441\\u043e\\u043e\\u0431\\u0449\\u0435\\u043d\\u0438\\u0435\", \"\\u0441\\u043e\\u043e\\u0431\\u0449\\u0438\\u0442\\u044c\", \"\\u0441\\u043e\\u043e\\u0442\\u0432\\u0435\\u0442\\u0441\\u0442\\u0432\\u0438\\u0435\", \"\\u0441\\u043e\\u043e\\u0442\\u0432\\u0435\\u0442\\u0441\\u0442\\u0432\\u0438\\u0435\", \"\\u0441\\u043e\\u043e\\u0442\\u0432\\u0435\\u0442\\u0441\\u0442\\u0432\\u0443\\u044e\\u0449\\u0438\\u0439\", \"\\u0441\\u043e\\u0441\\u0435\\u0434\\u043d\\u0438\\u0439\", \"\\u0441\\u043e\\u0441\\u043b\\u0430\\u0442\\u044c\\u0441\\u044f\", \"\\u0441\\u043e\\u0441\\u0442\\u0430\\u0432\", \"\\u0441\\u043e\\u0441\\u0442\\u0430\\u0432\\u0438\\u0442\\u044c\", \"\\u0441\\u043e\\u0441\\u0442\\u0430\\u0432\\u0438\\u0442\\u044c\", \"\\u0441\\u043e\\u0441\\u0442\\u043e\\u044f\\u043d\\u0438\\u0435\", \"\\u0441\\u043e\\u0441\\u0442\\u043e\\u044f\\u043d\\u0438\\u0435\", \"\\u0441\\u043e\\u0441\\u0442\\u043e\\u044f\\u0442\\u044c\\u0441\\u044f\", \"\\u0441\\u043e\\u0442\\u0440\\u0443\\u0434\\u043d\\u0438\\u043a\", \"\\u0441\\u043e\\u0442\\u0440\\u0443\\u0434\\u043d\\u0438\\u043a\", \"\\u0441\\u043e\\u0442\\u0440\\u0443\\u0434\\u043d\\u0438\\u043a\", \"\\u0441\\u043e\\u0442\\u0440\\u0443\\u0434\\u043d\\u0438\\u043a\", \"\\u0441\\u043e\\u0442\\u0440\\u0443\\u0434\\u043d\\u0438\\u043a\", \"\\u0441\\u043e\\u0442\\u0440\\u0443\\u0434\\u043d\\u0438\\u043a\", \"\\u0441\\u043e\\u0442\\u0440\\u0443\\u0434\\u043d\\u0438\\u043a\", \"\\u0441\\u043e\\u0447\\u0438\", \"\\u0441\\u043f\\u0435\\u0446\\u0438\\u0430\\u043b\\u0438\\u0441\\u0442\", \"\\u0441\\u043f\\u0438\\u0441\\u0430\\u043d\\u0438\\u0435\", \"\\u0441\\u043f\\u0438\\u0441\\u0430\\u043d\\u0438\\u0435\", \"\\u0441\\u043f\\u0438\\u0441\\u0430\\u0442\\u044c\", \"\\u0441\\u043f\\u0438\\u0441\\u0430\\u0442\\u044c\", \"\\u0441\\u043f\\u0440\\u0430\\u0432\\u043a\\u0430\", \"\\u0441\\u043f\\u0443\\u0441\\u0442\\u044f\", \"\\u0441\\u0440\\u0430\\u0437\\u0443\", \"\\u0441\\u0440\\u0430\\u0437\\u0443\", \"\\u0441\\u0440\\u0435\\u0434\\u0441\\u0442\\u0432\\u043e\", \"\\u0441\\u0440\\u0435\\u0434\\u0441\\u0442\\u0432\\u043e\", \"\\u0441\\u0440\\u0435\\u0434\\u0441\\u0442\\u0432\\u043e\", \"\\u0441\\u0440\\u0435\\u0434\\u0441\\u0442\\u0432\\u043e\", \"\\u0441\\u0440\\u0435\\u0434\\u0441\\u0442\\u0432\\u043e\", \"\\u0441\\u0440\\u043e\\u043a\", \"\\u0441\\u0440\\u043e\\u043a\", \"\\u0441\\u0440\\u043e\\u043a\", \"\\u0441\\u0440\\u043e\\u043a\", \"\\u0441\\u0440\\u043e\\u043a\", \"\\u0441\\u0440\\u043e\\u043a\", \"\\u0441\\u0440\\u043e\\u043a\", \"\\u0441\\u0441\\u044b\\u043b\\u0430\\u0442\\u044c\\u0441\\u044f\", \"\\u0441\\u0441\\u044b\\u043b\\u0430\\u0442\\u044c\\u0441\\u044f\", \"\\u0441\\u0441\\u044b\\u043b\\u0430\\u0442\\u044c\\u0441\\u044f\", \"\\u0441\\u0441\\u044b\\u043b\\u0430\\u0442\\u044c\\u0441\\u044f\", \"\\u0441\\u0441\\u044b\\u043b\\u043a\\u0430\", \"\\u0441\\u0441\\u044b\\u043b\\u043a\\u0430\", \"\\u0441\\u0442\\u0430\\u0432\\u0438\\u0442\\u044c\", \"\\u0441\\u0442\\u0430\\u0440\\u0448\\u0438\\u0439\", \"\\u0441\\u0442\\u0430\\u0440\\u044b\\u0439\", \"\\u0441\\u0442\\u0430\\u0442\\u0443\\u0441\", \"\\u0441\\u0442\\u0430\\u0442\\u044c\", \"\\u0441\\u0442\\u0430\\u0442\\u044c\\u044f\", \"\\u0441\\u0442\\u0438\\u0440\\u043a\\u0430\", \"\\u0441\\u0442\\u043e\\u0438\\u043c\\u043e\\u0441\\u0442\\u044c\", \"\\u0441\\u0442\\u043e\\u0438\\u043c\\u043e\\u0441\\u0442\\u044c\", \"\\u0441\\u0442\\u043e\\u0438\\u043c\\u043e\\u0441\\u0442\\u044c\", \"\\u0441\\u0442\\u043e\\u0438\\u043c\\u043e\\u0441\\u0442\\u044c\", \"\\u0441\\u0442\\u043e\\u0438\\u043c\\u043e\\u0441\\u0442\\u044c\", \"\\u0441\\u0442\\u043e\\u0438\\u0442\\u044c\", \"\\u0441\\u0442\\u043e\\u0438\\u0442\\u044c\", \"\\u0441\\u0442\\u043e\\u0438\\u0442\\u044c\", \"\\u0441\\u0442\\u043e\\u0440\\u043e\\u043d\\u0430\", \"\\u0441\\u0442\\u043e\\u044f\\u0442\\u044c\", \"\\u0441\\u0442\\u0440\\u0430\\u0445\\u043e\\u0432\\u0430\\u043d\\u0438\\u0435\", \"\\u0441\\u0442\\u0440\\u0430\\u0445\\u043e\\u0432\\u043a\\u0430\", \"\\u0441\\u0442\\u0440\\u0430\\u0445\\u043e\\u0432\\u043e\\u0439\", \"\\u0441\\u0443\\u0434\", \"\\u0441\\u0443\\u0434\", \"\\u0441\\u0443\\u043c\\u043c\\u0430\", \"\\u0441\\u0443\\u043c\\u043c\\u0430\", \"\\u0441\\u0443\\u043c\\u043c\\u0430\", \"\\u0441\\u0443\\u043f\\u0440\\u0443\\u0433\", \"\\u0441\\u0443\\u0442\\u043a\\u0438\", \"\\u0441\\u0447\\u0438\\u0442\\u0430\\u0442\\u044c\", \"\\u0441\\u0447\\u0438\\u0442\\u0430\\u0442\\u044c\", \"\\u0441\\u0447\\u0438\\u0442\\u0430\\u0442\\u044c\", \"\\u0441\\u0447\\u0438\\u0442\\u0430\\u0442\\u044c\", \"\\u0441\\u0447\\u0451\\u0442\", \"\\u0441\\u0447\\u0451\\u0442\", \"\\u0441\\u044b\\u043d\", \"\\u0442\\u0430\\u043a\\u0436\\u0435\", \"\\u0442\\u0430\\u043a\\u0436\\u0435\", \"\\u0442\\u0430\\u043a\\u0436\\u0435\", \"\\u0442\\u0430\\u043a\\u0436\\u0435\", \"\\u0442\\u0430\\u043a\\u0436\\u0435\", \"\\u0442\\u0430\\u043a\\u0436\\u0435\", \"\\u0442\\u0430\\u043a\\u0436\\u0435\", \"\\u0442\\u0430\\u0440\\u0438\\u0444\", \"\\u0442\\u0435\\u043a\\u0441\\u0442\", \"\\u0442\\u0435\\u043b\\u0435\\u0444\\u043e\\u043d\", \"\\u0442\\u0435\\u043b\\u0435\\u0444\\u043e\\u043d\", \"\\u0442\\u0435\\u043b\\u0435\\u0444\\u043e\\u043d\", \"\\u0442\\u0435\\u043b\\u0435\\u0444\\u043e\\u043d\", \"\\u0442\\u0435\\u043b\\u0435\\u0444\\u043e\\u043d\", \"\\u0442\\u0435\\u043c\\u043f\\u0435\\u0440\\u0430\\u0442\\u0443\\u0440\\u0430\", \"\\u0442\\u0435\\u0440\\u0440\\u0438\\u0442\\u043e\\u0440\\u0438\\u044f\", \"\\u0442\\u0435\\u0441\\u0442\", \"\\u0442\\u0435\\u0447\\u0435\\u043d\\u0438\\u0435\", \"\\u0442\\u0435\\u0447\\u0435\\u043d\\u0438\\u0435\", \"\\u0442\\u0435\\u0447\\u0435\\u043d\\u0438\\u0435\", \"\\u0442\\u0435\\u0447\\u0435\\u043d\\u0438\\u0435\", \"\\u0442\\u0435\\u0447\\u0435\\u043d\\u0438\\u0435\", \"\\u0442\\u0435\\u0447\\u0435\\u043d\\u0438\\u0435\", \"\\u0442\\u043e\\u0432\\u0430\\u0440\", \"\\u0442\\u043e\\u0432\\u0430\\u0440\", \"\\u0442\\u043e\\u0440\\u0433\\u043e\\u0432\\u043b\\u044f\", \"\\u0442\\u043e\\u0440\\u0433\\u043e\\u0432\\u044b\\u0439\", \"\\u0442\\u0440\\u0430\\u043d\\u0441\\u043f\\u043e\\u0440\\u0442\\u043d\\u044b\\u0439\", \"\\u0442\\u0440\\u0435\\u0431\\u043e\\u0432\\u0430\\u043d\\u0438\\u0435\", \"\\u0442\\u0440\\u0435\\u0431\\u043e\\u0432\\u0430\\u043d\\u0438\\u0435\", \"\\u0442\\u0440\\u0435\\u0431\\u043e\\u0432\\u0430\\u043d\\u0438\\u0435\", \"\\u0442\\u0440\\u0435\\u0431\\u043e\\u0432\\u0430\\u043d\\u0438\\u0435\", \"\\u0442\\u0440\\u0435\\u0431\\u043e\\u0432\\u0430\\u043d\\u0438\\u0435\", \"\\u0442\\u0440\\u0435\\u0431\\u043e\\u0432\\u0430\\u0442\\u044c\", \"\\u0442\\u0443\\u0440\", \"\\u0442\\u0443\\u0440\\u043e\\u043f\\u0435\\u0440\\u0430\\u0442\\u043e\\u0440\", \"\\u0442\\u044b\\u0441\\u044f\\u0447\\u0430\", \"\\u0443\\u0432\\u0430\\u0436\\u0435\\u043d\\u0438\\u0435\", \"\\u0443\\u0439\\u0442\\u0438\", \"\\u0443\\u043a\\u0430\\u0437\\u0430\\u0442\\u044c\", \"\\u0443\\u043a\\u0430\\u0437\\u0430\\u0442\\u044c\", \"\\u0443\\u043a\\u0430\\u0437\\u0430\\u0442\\u044c\", \"\\u0443\\u043a\\u0430\\u0437\\u0430\\u0442\\u044c\", \"\\u0443\\u043a\\u0430\\u0437\\u0430\\u0442\\u044c\", \"\\u0443\\u043a\\u0430\\u0437\\u0430\\u0442\\u044c\", \"\\u0443\\u043a\\u0430\\u0437\\u0430\\u0442\\u044c\", \"\\u0443\\u043a\\u0430\\u0437\\u0430\\u0442\\u044c\", \"\\u0443\\u043a\\u0440\\u0430\\u0438\\u043d\\u0430\", \"\\u0443\\u043b\\u0438\\u0446\\u0430\", \"\\u0443\\u043f\\u0430\\u043a\\u043e\\u0432\\u043a\\u0430\", \"\\u0443\\u043f\\u043b\\u0430\\u0442\\u0438\\u0442\\u044c\", \"\\u0443\\u043f\\u0440\\u0430\\u0432\\u043b\\u044f\\u0442\\u044c\", \"\\u0443\\u0440\\u043e\\u0432\\u0435\\u043d\\u044c\", \"\\u0443\\u0441\\u043b\\u043e\\u0432\\u0438\\u0435\", \"\\u0443\\u0441\\u043b\\u043e\\u0432\\u0438\\u0435\", \"\\u0443\\u0441\\u043b\\u043e\\u0432\\u0438\\u0435\", \"\\u0443\\u0441\\u043b\\u0443\\u0433\\u0430\", \"\\u0443\\u0441\\u043b\\u0443\\u0433\\u0430\", \"\\u0443\\u0441\\u043b\\u0443\\u0433\\u0430\", \"\\u0443\\u0441\\u0442\\u0430\\u043d\\u043e\\u0432\\u0438\\u0442\\u044c\", \"\\u0443\\u0441\\u0442\\u0440\\u043e\\u0438\\u0442\\u044c\", \"\\u0444\\u0435\\u0434\\u0435\\u0440\\u0430\\u043b\\u044c\\u043d\\u044b\\u0439\", \"\\u0444\\u0435\\u0434\\u0435\\u0440\\u0430\\u0446\\u0438\\u044f\", \"\\u0444\\u0435\\u0434\\u0435\\u0440\\u0430\\u0446\\u0438\\u044f\", \"\\u0444\\u0438\\u043d\\u0430\\u043d\\u0441\\u043e\\u0432\\u044b\\u0439\", \"\\u0445\\u0438\\u043c\\u0438\\u0447\\u0435\\u0441\\u043a\\u0438\\u0439\", \"\\u0445\\u043e\\u0434\\u0438\\u0442\\u044c\", \"\\u0445\\u043e\\u043b\\u043e\\u0434\\u0438\\u043b\\u044c\\u043d\\u0438\\u043a\", \"\\u0445\\u043e\\u043b\\u043e\\u0434\\u043d\\u044b\\u0439\", \"\\u0445\\u043e\\u0442\\u0435\\u0442\\u044c\", \"\\u0445\\u043e\\u0442\\u0435\\u0442\\u044c\", \"\\u0445\\u043e\\u0442\\u0435\\u0442\\u044c\", \"\\u0445\\u043e\\u0442\\u0435\\u0442\\u044c\", \"\\u0445\\u043e\\u0442\\u0435\\u0442\\u044c\", \"\\u0445\\u043e\\u0442\\u0435\\u0442\\u044c\", \"\\u0445\\u043e\\u0442\\u0435\\u0442\\u044c\", \"\\u0445\\u043e\\u0442\\u0435\\u0442\\u044c\\u0441\\u044f\", \"\\u0445\\u0440\\u0430\\u043d\\u0435\\u043d\\u0438\\u0435\", \"\\u0446\\u0432\\u0435\\u0442\", \"\\u0446\\u0432\\u0435\\u0442\", \"\\u0446\\u0435\\u043d\\u0430\", \"\\u0446\\u0435\\u043d\\u0430\", \"\\u0446\\u0435\\u043d\\u0430\", \"\\u0446\\u0435\\u043d\\u043d\\u0438\\u043a\", \"\\u0446\\u0435\\u043d\\u0442\\u0440\", \"\\u0446\\u0435\\u043d\\u0442\\u0440\", \"\\u0446\\u0435\\u043d\\u0442\\u0440\", \"\\u0446\\u0435\\u043d\\u0442\\u0440\", \"\\u0446\\u0435\\u043d\\u0442\\u0440\\u0430\\u043b\\u044c\\u043d\\u044b\\u0439\", \"\\u0447\\u0430\\u0441\", \"\\u0447\\u0430\\u0441\", \"\\u0447\\u0430\\u0441\\u0442\\u0438\\u0447\\u043d\\u043e\", \"\\u0447\\u0430\\u0442\", \"\\u0447\\u0435\\u043a\", \"\\u0447\\u0435\\u043a\", \"\\u0447\\u0435\\u043b\\u043e\\u0432\\u0435\\u043a\", \"\\u0447\\u0435\\u043b\\u043e\\u0432\\u0435\\u043a\", \"\\u0447\\u0435\\u043b\\u043e\\u0432\\u0435\\u043a\", \"\\u0447\\u0435\\u043b\\u043e\\u0432\\u0435\\u043a\", \"\\u0447\\u0438\\u0441\\u043b\\u043e\", \"\\u0447\\u0438\\u0441\\u043b\\u043e\", \"\\u0448\\u043a\\u043e\\u043b\\u0430\", \"\\u0448\\u0442\\u0443\\u043a\\u0430\", \"\\u0448\\u0443\\u043c\", \"\\u044d\\u043a\\u0440\\u0430\\u043d\", \"\\u044d\\u043a\\u0441\\u043f\\u0435\\u0440\\u0442\\u0438\\u0437\\u0430\", \"\\u044d\\u043a\\u0441\\u043f\\u043b\\u0443\\u0430\\u0442\\u0430\\u0446\\u0438\\u044f\", \"\\u044d\\u043b\\u0435\\u043a\\u0442\\u0440\\u043e\\u043d\\u043d\\u044b\\u0439\", \"\\u044d\\u043b\\u0435\\u043a\\u0442\\u0440\\u043e\\u043d\\u043d\\u044b\\u0439\", \"\\u044d\\u043b\\u0435\\u043a\\u0442\\u0440\\u043e\\u043d\\u043d\\u044b\\u0439\", \"\\u044d\\u043b\\u0435\\u043a\\u0442\\u0440\\u043e\\u043d\\u043d\\u044b\\u0439\", \"\\u044d\\u043b\\u0435\\u043a\\u0442\\u0440\\u043e\\u043d\\u043d\\u044b\\u0439\", \"\\u044d\\u043f\\u0438\\u0434\\u0435\\u043c\\u0438\\u043e\\u043b\\u043e\\u0433\\u0438\\u0447\\u0435\\u0441\\u043a\\u0438\\u0439\", \"\\u044d\\u0442\\u0430\\u0436\", \"\\u044e\\u0440\\u0438\\u0434\\u0438\\u0447\\u0435\\u0441\\u043a\\u0438\\u0439\", \"\\u044f\\u043a\\u043e\\u0431\\u044b\", \"\\u044f\\u043a\\u043e\\u0431\\u044b\", \"\\u044f\\u043d\\u0432\\u0430\\u0440\\u044c\", \"\\u044f\\u043d\\u0434\\u0435\\u043a\\u0441\"]}, \"R\": 30, \"lambda.step\": 0.01, \"plot.opts\": {\"xlab\": \"PC1\", \"ylab\": \"PC2\"}, \"topic.order\": [11, 7, 15, 5, 8, 6, 13, 4, 3, 10, 12, 1, 2, 14, 9]};\n",
       "\n",
       "function LDAvis_load_lib(url, callback){\n",
       "  var s = document.createElement('script');\n",
       "  s.src = url;\n",
       "  s.async = true;\n",
       "  s.onreadystatechange = s.onload = callback;\n",
       "  s.onerror = function(){console.warn(\"failed to load library \" + url);};\n",
       "  document.getElementsByTagName(\"head\")[0].appendChild(s);\n",
       "}\n",
       "\n",
       "if(typeof(LDAvis) !== \"undefined\"){\n",
       "   // already loaded: just create the visualization\n",
       "   !function(LDAvis){\n",
       "       new LDAvis(\"#\" + \"ldavis_el64641404684164900642139695653\", ldavis_el64641404684164900642139695653_data);\n",
       "   }(LDAvis);\n",
       "}else if(typeof define === \"function\" && define.amd){\n",
       "   // require.js is available: use it to load d3/LDAvis\n",
       "   require.config({paths: {d3: \"https://d3js.org/d3.v5\"}});\n",
       "   require([\"d3\"], function(d3){\n",
       "      window.d3 = d3;\n",
       "      LDAvis_load_lib(\"https://cdn.jsdelivr.net/gh/bmabey/pyLDAvis@3.3.1/pyLDAvis/js/ldavis.v3.0.0.js\", function(){\n",
       "        new LDAvis(\"#\" + \"ldavis_el64641404684164900642139695653\", ldavis_el64641404684164900642139695653_data);\n",
       "      });\n",
       "    });\n",
       "}else{\n",
       "    // require.js not available: dynamically load d3 & LDAvis\n",
       "    LDAvis_load_lib(\"https://d3js.org/d3.v5.js\", function(){\n",
       "         LDAvis_load_lib(\"https://cdn.jsdelivr.net/gh/bmabey/pyLDAvis@3.3.1/pyLDAvis/js/ldavis.v3.0.0.js\", function(){\n",
       "                 new LDAvis(\"#\" + \"ldavis_el64641404684164900642139695653\", ldavis_el64641404684164900642139695653_data);\n",
       "            })\n",
       "         });\n",
       "}\n",
       "</script>"
      ],
      "text/plain": [
       "<IPython.core.display.HTML object>"
      ]
     },
     "execution_count": 27,
     "metadata": {},
     "output_type": "execute_result"
    }
   ],
   "source": [
    "%time vis_data = gensimvis.prepare(lda_15, corpus, dictionary)\n",
    "pyLDAvis.display(vis_data)"
   ]
  },
  {
   "cell_type": "markdown",
   "metadata": {
    "id": "7HrmFklr0oQW"
   },
   "source": [
    "Визуально разделение на кластеры ухудшилось."
   ]
  },
  {
   "cell_type": "markdown",
   "metadata": {},
   "source": [
    "# 1-й кластер связан с возвратом товаров в интернет-магазинах, 2-й с возвратом денежных средств, 3-й с интернет-магазинами, 8-й с ПЦР, 6-й с интернет-магазинами, 9-й со взаимодействием через личный кабинет компаний, 5-й с обращениями по телефону, 13-й с водоснабжением, 14-й с какими-то проблемами областного масштаба, 15-й с масочным режимом, 11-й с интернет-провайдерами, 4-й с ЖКХ, 12-й с детскими учреждениями, 10-й мусорный какой-то, 7-й со строительными услугами."
   ]
  },
  {
   "cell_type": "code",
   "execution_count": null,
   "metadata": {
    "colab": {
     "base_uri": "https://localhost:8080/"
    },
    "id": "l4iAGAR20oQW",
    "outputId": "ff7d2f18-7885-4a93-889d-2c4586601b43"
   },
   "outputs": [
    {
     "name": "stdout",
     "output_type": "stream",
     "text": [
      "-9.726982878251139\n"
     ]
    }
   ],
   "source": [
    "print(lda_15.log_perplexity(corpus))"
   ]
  },
  {
   "cell_type": "code",
   "execution_count": null,
   "metadata": {
    "colab": {
     "base_uri": "https://localhost:8080/"
    },
    "id": "NDBZibAU0oQW",
    "outputId": "5d04bb9f-5afd-41aa-a9cd-e4871739741f"
   },
   "outputs": [
    {
     "name": "stdout",
     "output_type": "stream",
     "text": [
      "Персплексия:  5.965362442986596e-05\n"
     ]
    }
   ],
   "source": [
    "print('Персплексия: ', np.exp(lda_15.log_perplexity(corpus)))"
   ]
  },
  {
   "cell_type": "markdown",
   "metadata": {},
   "source": [
    "# Перплексия увеличилась в 5 раз."
   ]
  },
  {
   "cell_type": "code",
   "execution_count": null,
   "metadata": {
    "colab": {
     "base_uri": "https://localhost:8080/"
    },
    "id": "VM9sCb0-0oQW",
    "outputId": "8d254a29-7a5a-4dbf-d59c-507218d02cfc"
   },
   "outputs": [
    {
     "name": "stdout",
     "output_type": "stream",
     "text": [
      "Средняя когерентность:  0.3558249137427096\n"
     ]
    }
   ],
   "source": [
    "coherence_model_lda = CoherenceModel(model=lda_15, texts=df['questions_new'], dictionary=dictionary, coherence='c_v')\n",
    "coherence_lda = coherence_model_lda.get_coherence()\n",
    "print('Средняя когерентность: ', coherence_lda)"
   ]
  },
  {
   "cell_type": "markdown",
   "metadata": {
    "id": "34LG9nts0oQW"
   },
   "source": [
    "# Средняя когерентность слегка уменьшилась."
   ]
  },
  {
   "cell_type": "markdown",
   "metadata": {
    "id": "ACfX3roR0oQW"
   },
   "source": [
    "Таким образом дополнительная чистка стоп-слоа привела к ухудшению предсказаний. Но возможна дополнительная чистка. Судя  по диаграмме, первоначально было произведено достаточно качественное расделение кластеров со всего тремя пересечениями. Поэтому улучшить его будет достаточно трудно."
   ]
  }
 ],
 "metadata": {
  "colab": {
   "name": "Копия блокнота \"hw_lesson4.ipynb\"",
   "provenance": []
  },
  "kernelspec": {
   "display_name": "Python 3",
   "language": "python",
   "name": "python3"
  },
  "language_info": {
   "codemirror_mode": {
    "name": "ipython",
    "version": 3
   },
   "file_extension": ".py",
   "mimetype": "text/x-python",
   "name": "python",
   "nbconvert_exporter": "python",
   "pygments_lexer": "ipython3",
   "version": "3.8.5"
  },
  "widgets": {
   "application/vnd.jupyter.widget-state+json": {
    "354622ae18ca4af292a70f8e09e425a0": {
     "model_module": "@jupyter-widgets/controls",
     "model_module_version": "1.5.0",
     "model_name": "DescriptionStyleModel",
     "state": {
      "_model_module": "@jupyter-widgets/controls",
      "_model_module_version": "1.5.0",
      "_model_name": "DescriptionStyleModel",
      "_view_count": null,
      "_view_module": "@jupyter-widgets/base",
      "_view_module_version": "1.2.0",
      "_view_name": "StyleView",
      "description_width": ""
     }
    },
    "39c8b98ebaa543cb981b70e63eeea0df": {
     "model_module": "@jupyter-widgets/controls",
     "model_module_version": "1.5.0",
     "model_name": "HTMLModel",
     "state": {
      "_dom_classes": [],
      "_model_module": "@jupyter-widgets/controls",
      "_model_module_version": "1.5.0",
      "_model_name": "HTMLModel",
      "_view_count": null,
      "_view_module": "@jupyter-widgets/controls",
      "_view_module_version": "1.5.0",
      "_view_name": "HTMLView",
      "description": "",
      "description_tooltip": null,
      "layout": "IPY_MODEL_9a92368b20a04f128f41f4779c086e3a",
      "placeholder": "​",
      "style": "IPY_MODEL_354622ae18ca4af292a70f8e09e425a0",
      "value": "100%"
     }
    },
    "677eb56583194ab8a1ffc936a4c2fd85": {
     "model_module": "@jupyter-widgets/controls",
     "model_module_version": "1.5.0",
     "model_name": "ProgressStyleModel",
     "state": {
      "_model_module": "@jupyter-widgets/controls",
      "_model_module_version": "1.5.0",
      "_model_name": "ProgressStyleModel",
      "_view_count": null,
      "_view_module": "@jupyter-widgets/base",
      "_view_module_version": "1.2.0",
      "_view_name": "StyleView",
      "bar_color": null,
      "description_width": ""
     }
    },
    "6fc16f172db14a0c9cf7b770ba82d30d": {
     "model_module": "@jupyter-widgets/controls",
     "model_module_version": "1.5.0",
     "model_name": "HTMLModel",
     "state": {
      "_dom_classes": [],
      "_model_module": "@jupyter-widgets/controls",
      "_model_module_version": "1.5.0",
      "_model_name": "HTMLModel",
      "_view_count": null,
      "_view_module": "@jupyter-widgets/controls",
      "_view_module_version": "1.5.0",
      "_view_name": "HTMLView",
      "description": "",
      "description_tooltip": null,
      "layout": "IPY_MODEL_95b80bcb074c4946be74432e4b41e8b2",
      "placeholder": "​",
      "style": "IPY_MODEL_aea4be47aa07464bbf1ae6ba91a7a88b",
      "value": " 2495/2495 [00:40&lt;00:00, 74.09it/s]"
     }
    },
    "7238640b64b945f7839b0f4eea594c43": {
     "model_module": "@jupyter-widgets/controls",
     "model_module_version": "1.5.0",
     "model_name": "HBoxModel",
     "state": {
      "_dom_classes": [],
      "_model_module": "@jupyter-widgets/controls",
      "_model_module_version": "1.5.0",
      "_model_name": "HBoxModel",
      "_view_count": null,
      "_view_module": "@jupyter-widgets/controls",
      "_view_module_version": "1.5.0",
      "_view_name": "HBoxView",
      "box_style": "",
      "children": [
       "IPY_MODEL_39c8b98ebaa543cb981b70e63eeea0df",
       "IPY_MODEL_ee625bca78554458b296e174fbf35f63",
       "IPY_MODEL_6fc16f172db14a0c9cf7b770ba82d30d"
      ],
      "layout": "IPY_MODEL_fe3ff1670c494912a2a658fafa5f38ba"
     }
    },
    "95b80bcb074c4946be74432e4b41e8b2": {
     "model_module": "@jupyter-widgets/base",
     "model_module_version": "1.2.0",
     "model_name": "LayoutModel",
     "state": {
      "_model_module": "@jupyter-widgets/base",
      "_model_module_version": "1.2.0",
      "_model_name": "LayoutModel",
      "_view_count": null,
      "_view_module": "@jupyter-widgets/base",
      "_view_module_version": "1.2.0",
      "_view_name": "LayoutView",
      "align_content": null,
      "align_items": null,
      "align_self": null,
      "border": null,
      "bottom": null,
      "display": null,
      "flex": null,
      "flex_flow": null,
      "grid_area": null,
      "grid_auto_columns": null,
      "grid_auto_flow": null,
      "grid_auto_rows": null,
      "grid_column": null,
      "grid_gap": null,
      "grid_row": null,
      "grid_template_areas": null,
      "grid_template_columns": null,
      "grid_template_rows": null,
      "height": null,
      "justify_content": null,
      "justify_items": null,
      "left": null,
      "margin": null,
      "max_height": null,
      "max_width": null,
      "min_height": null,
      "min_width": null,
      "object_fit": null,
      "object_position": null,
      "order": null,
      "overflow": null,
      "overflow_x": null,
      "overflow_y": null,
      "padding": null,
      "right": null,
      "top": null,
      "visibility": null,
      "width": null
     }
    },
    "9a92368b20a04f128f41f4779c086e3a": {
     "model_module": "@jupyter-widgets/base",
     "model_module_version": "1.2.0",
     "model_name": "LayoutModel",
     "state": {
      "_model_module": "@jupyter-widgets/base",
      "_model_module_version": "1.2.0",
      "_model_name": "LayoutModel",
      "_view_count": null,
      "_view_module": "@jupyter-widgets/base",
      "_view_module_version": "1.2.0",
      "_view_name": "LayoutView",
      "align_content": null,
      "align_items": null,
      "align_self": null,
      "border": null,
      "bottom": null,
      "display": null,
      "flex": null,
      "flex_flow": null,
      "grid_area": null,
      "grid_auto_columns": null,
      "grid_auto_flow": null,
      "grid_auto_rows": null,
      "grid_column": null,
      "grid_gap": null,
      "grid_row": null,
      "grid_template_areas": null,
      "grid_template_columns": null,
      "grid_template_rows": null,
      "height": null,
      "justify_content": null,
      "justify_items": null,
      "left": null,
      "margin": null,
      "max_height": null,
      "max_width": null,
      "min_height": null,
      "min_width": null,
      "object_fit": null,
      "object_position": null,
      "order": null,
      "overflow": null,
      "overflow_x": null,
      "overflow_y": null,
      "padding": null,
      "right": null,
      "top": null,
      "visibility": null,
      "width": null
     }
    },
    "ab9b985d94544ba0a047a6275676a2c7": {
     "model_module": "@jupyter-widgets/base",
     "model_module_version": "1.2.0",
     "model_name": "LayoutModel",
     "state": {
      "_model_module": "@jupyter-widgets/base",
      "_model_module_version": "1.2.0",
      "_model_name": "LayoutModel",
      "_view_count": null,
      "_view_module": "@jupyter-widgets/base",
      "_view_module_version": "1.2.0",
      "_view_name": "LayoutView",
      "align_content": null,
      "align_items": null,
      "align_self": null,
      "border": null,
      "bottom": null,
      "display": null,
      "flex": null,
      "flex_flow": null,
      "grid_area": null,
      "grid_auto_columns": null,
      "grid_auto_flow": null,
      "grid_auto_rows": null,
      "grid_column": null,
      "grid_gap": null,
      "grid_row": null,
      "grid_template_areas": null,
      "grid_template_columns": null,
      "grid_template_rows": null,
      "height": null,
      "justify_content": null,
      "justify_items": null,
      "left": null,
      "margin": null,
      "max_height": null,
      "max_width": null,
      "min_height": null,
      "min_width": null,
      "object_fit": null,
      "object_position": null,
      "order": null,
      "overflow": null,
      "overflow_x": null,
      "overflow_y": null,
      "padding": null,
      "right": null,
      "top": null,
      "visibility": null,
      "width": null
     }
    },
    "aea4be47aa07464bbf1ae6ba91a7a88b": {
     "model_module": "@jupyter-widgets/controls",
     "model_module_version": "1.5.0",
     "model_name": "DescriptionStyleModel",
     "state": {
      "_model_module": "@jupyter-widgets/controls",
      "_model_module_version": "1.5.0",
      "_model_name": "DescriptionStyleModel",
      "_view_count": null,
      "_view_module": "@jupyter-widgets/base",
      "_view_module_version": "1.2.0",
      "_view_name": "StyleView",
      "description_width": ""
     }
    },
    "ee625bca78554458b296e174fbf35f63": {
     "model_module": "@jupyter-widgets/controls",
     "model_module_version": "1.5.0",
     "model_name": "FloatProgressModel",
     "state": {
      "_dom_classes": [],
      "_model_module": "@jupyter-widgets/controls",
      "_model_module_version": "1.5.0",
      "_model_name": "FloatProgressModel",
      "_view_count": null,
      "_view_module": "@jupyter-widgets/controls",
      "_view_module_version": "1.5.0",
      "_view_name": "ProgressView",
      "bar_style": "success",
      "description": "",
      "description_tooltip": null,
      "layout": "IPY_MODEL_ab9b985d94544ba0a047a6275676a2c7",
      "max": 2495,
      "min": 0,
      "orientation": "horizontal",
      "style": "IPY_MODEL_677eb56583194ab8a1ffc936a4c2fd85",
      "value": 2495
     }
    },
    "fe3ff1670c494912a2a658fafa5f38ba": {
     "model_module": "@jupyter-widgets/base",
     "model_module_version": "1.2.0",
     "model_name": "LayoutModel",
     "state": {
      "_model_module": "@jupyter-widgets/base",
      "_model_module_version": "1.2.0",
      "_model_name": "LayoutModel",
      "_view_count": null,
      "_view_module": "@jupyter-widgets/base",
      "_view_module_version": "1.2.0",
      "_view_name": "LayoutView",
      "align_content": null,
      "align_items": null,
      "align_self": null,
      "border": null,
      "bottom": null,
      "display": null,
      "flex": null,
      "flex_flow": null,
      "grid_area": null,
      "grid_auto_columns": null,
      "grid_auto_flow": null,
      "grid_auto_rows": null,
      "grid_column": null,
      "grid_gap": null,
      "grid_row": null,
      "grid_template_areas": null,
      "grid_template_columns": null,
      "grid_template_rows": null,
      "height": null,
      "justify_content": null,
      "justify_items": null,
      "left": null,
      "margin": null,
      "max_height": null,
      "max_width": null,
      "min_height": null,
      "min_width": null,
      "object_fit": null,
      "object_position": null,
      "order": null,
      "overflow": null,
      "overflow_x": null,
      "overflow_y": null,
      "padding": null,
      "right": null,
      "top": null,
      "visibility": null,
      "width": null
     }
    }
   }
  }
 },
 "nbformat": 4,
 "nbformat_minor": 5
}
