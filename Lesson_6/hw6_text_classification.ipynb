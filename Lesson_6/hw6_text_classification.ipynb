{
 "cells": [
  {
   "cell_type": "markdown",
   "metadata": {},
   "source": [
    "#  Взять ноутбук colab_text_classification_part1.ipynb который разбирали на занятии и\n",
    "добавить пункты которые мы пропустили\n",
    "1. Посмотрите на токены если будут мусорные добавьте их в стоп слова и обучите\n",
    "заново\n",
    "2. Проверьте изменилось ли качество при лемматизации/и без неё\n",
    "3. Замените все токены которые принадлежат сущностям на их тег. Проверьте\n",
    "изменилось ли качество после этого"
   ]
  },
  {
   "cell_type": "code",
   "execution_count": 1,
   "metadata": {
    "colab": {
     "base_uri": "https://localhost:8080/"
    },
    "executionInfo": {
     "elapsed": 31198,
     "status": "ok",
     "timestamp": 1655378009916,
     "user": {
      "displayName": "Дмитрий Яковлев",
      "userId": "04985982272505825493"
     },
     "user_tz": -420
    },
    "id": "OlqOAQmQGXOL",
    "outputId": "4037eb69-fc34-45ac-f190-6e0b1540b67e"
   },
   "outputs": [
    {
     "name": "stdout",
     "output_type": "stream",
     "text": [
      "Archive:  imdb.zip\n",
      "  inflating: test.tsv                \n",
      "  inflating: train.tsv               \n",
      "\u001b[K     |████████████████████████████████| 216 kB 29.6 MB/s \n",
      "\u001b[K     |████████████████████████████████| 133 kB 57.3 MB/s \n",
      "\u001b[?25h  Building wheel for eli5 (setup.py) ... \u001b[?25l\u001b[?25hdone\n",
      "\u001b[31mERROR: pip's dependency resolver does not currently take into account all the packages that are installed. This behaviour is the source of the following dependency conflicts.\n",
      "flask 1.1.4 requires Jinja2<3.0,>=2.10.1, but you have jinja2 3.1.2 which is incompatible.\n",
      "datascience 0.10.6 requires folium==0.2.1, but you have folium 0.8.3 which is incompatible.\u001b[0m\n",
      "Looking in indexes: https://pypi.org/simple, https://us-python.pkg.dev/colab-wheels/public/simple/\n",
      "Collecting en_core_web_sm==2.2.5\n",
      "  Downloading https://github.com/explosion/spacy-models/releases/download/en_core_web_sm-2.2.5/en_core_web_sm-2.2.5.tar.gz (12.0 MB)\n",
      "\u001b[K     |████████████████████████████████| 12.0 MB 12.4 MB/s \n",
      "\u001b[?25hRequirement already satisfied: spacy>=2.2.2 in /usr/local/lib/python3.7/dist-packages (from en_core_web_sm==2.2.5) (2.2.4)\n",
      "Requirement already satisfied: setuptools in /usr/local/lib/python3.7/dist-packages (from spacy>=2.2.2->en_core_web_sm==2.2.5) (57.4.0)\n",
      "Requirement already satisfied: tqdm<5.0.0,>=4.38.0 in /usr/local/lib/python3.7/dist-packages (from spacy>=2.2.2->en_core_web_sm==2.2.5) (4.64.0)\n",
      "Requirement already satisfied: srsly<1.1.0,>=1.0.2 in /usr/local/lib/python3.7/dist-packages (from spacy>=2.2.2->en_core_web_sm==2.2.5) (1.0.5)\n",
      "Requirement already satisfied: wasabi<1.1.0,>=0.4.0 in /usr/local/lib/python3.7/dist-packages (from spacy>=2.2.2->en_core_web_sm==2.2.5) (0.9.1)\n",
      "Requirement already satisfied: plac<1.2.0,>=0.9.6 in /usr/local/lib/python3.7/dist-packages (from spacy>=2.2.2->en_core_web_sm==2.2.5) (1.1.3)\n",
      "Requirement already satisfied: preshed<3.1.0,>=3.0.2 in /usr/local/lib/python3.7/dist-packages (from spacy>=2.2.2->en_core_web_sm==2.2.5) (3.0.6)\n",
      "Requirement already satisfied: thinc==7.4.0 in /usr/local/lib/python3.7/dist-packages (from spacy>=2.2.2->en_core_web_sm==2.2.5) (7.4.0)\n",
      "Requirement already satisfied: blis<0.5.0,>=0.4.0 in /usr/local/lib/python3.7/dist-packages (from spacy>=2.2.2->en_core_web_sm==2.2.5) (0.4.1)\n",
      "Requirement already satisfied: catalogue<1.1.0,>=0.0.7 in /usr/local/lib/python3.7/dist-packages (from spacy>=2.2.2->en_core_web_sm==2.2.5) (1.0.0)\n",
      "Requirement already satisfied: requests<3.0.0,>=2.13.0 in /usr/local/lib/python3.7/dist-packages (from spacy>=2.2.2->en_core_web_sm==2.2.5) (2.23.0)\n",
      "Requirement already satisfied: cymem<2.1.0,>=2.0.2 in /usr/local/lib/python3.7/dist-packages (from spacy>=2.2.2->en_core_web_sm==2.2.5) (2.0.6)\n",
      "Requirement already satisfied: murmurhash<1.1.0,>=0.28.0 in /usr/local/lib/python3.7/dist-packages (from spacy>=2.2.2->en_core_web_sm==2.2.5) (1.0.7)\n",
      "Requirement already satisfied: numpy>=1.15.0 in /usr/local/lib/python3.7/dist-packages (from spacy>=2.2.2->en_core_web_sm==2.2.5) (1.21.6)\n",
      "Requirement already satisfied: importlib-metadata>=0.20 in /usr/local/lib/python3.7/dist-packages (from catalogue<1.1.0,>=0.0.7->spacy>=2.2.2->en_core_web_sm==2.2.5) (4.11.4)\n",
      "Requirement already satisfied: zipp>=0.5 in /usr/local/lib/python3.7/dist-packages (from importlib-metadata>=0.20->catalogue<1.1.0,>=0.0.7->spacy>=2.2.2->en_core_web_sm==2.2.5) (3.8.0)\n",
      "Requirement already satisfied: typing-extensions>=3.6.4 in /usr/local/lib/python3.7/dist-packages (from importlib-metadata>=0.20->catalogue<1.1.0,>=0.0.7->spacy>=2.2.2->en_core_web_sm==2.2.5) (4.2.0)\n",
      "Requirement already satisfied: idna<3,>=2.5 in /usr/local/lib/python3.7/dist-packages (from requests<3.0.0,>=2.13.0->spacy>=2.2.2->en_core_web_sm==2.2.5) (2.10)\n",
      "Requirement already satisfied: chardet<4,>=3.0.2 in /usr/local/lib/python3.7/dist-packages (from requests<3.0.0,>=2.13.0->spacy>=2.2.2->en_core_web_sm==2.2.5) (3.0.4)\n",
      "Requirement already satisfied: certifi>=2017.4.17 in /usr/local/lib/python3.7/dist-packages (from requests<3.0.0,>=2.13.0->spacy>=2.2.2->en_core_web_sm==2.2.5) (2022.5.18.1)\n",
      "Requirement already satisfied: urllib3!=1.25.0,!=1.25.1,<1.26,>=1.21.1 in /usr/local/lib/python3.7/dist-packages (from requests<3.0.0,>=2.13.0->spacy>=2.2.2->en_core_web_sm==2.2.5) (1.24.3)\n",
      "\u001b[38;5;2m✔ Download and installation successful\u001b[0m\n",
      "You can now load the model via spacy.load('en_core_web_sm')\n",
      "\u001b[38;5;2m✔ Linking successful\u001b[0m\n",
      "/usr/local/lib/python3.7/dist-packages/en_core_web_sm -->\n",
      "/usr/local/lib/python3.7/dist-packages/spacy/data/en\n",
      "You can now load the model via spacy.load('en')\n"
     ]
    }
   ],
   "source": [
    "!wget -O imdb.zip -qq --no-check-certificate \"https://drive.google.com/uc?export=download&id=1vrQ5czMHoO3pEnmofFskymXMkq_u1dPc\"\n",
    "!unzip imdb.zip\n",
    "!pip -q install eli5\n",
    "!pip -q install spacy\n",
    "!python -m spacy download en"
   ]
  },
  {
   "cell_type": "markdown",
   "metadata": {
    "id": "kqbkG4qoS0AB"
   },
   "source": [
    "# Классификация текстов\n",
    "\n",
    "Начнём с самого простого - анализа тональности текста.\n",
    "\n",
    "Будем классифицировать отзывы с IMDB на положительные/отрицательные.\n",
    "\n",
    "Датасет взят с http://ai.stanford.edu/~amaas/data/sentiment/"
   ]
  },
  {
   "cell_type": "code",
   "execution_count": 2,
   "metadata": {
    "colab": {
     "base_uri": "https://localhost:8080/"
    },
    "executionInfo": {
     "elapsed": 486,
     "status": "ok",
     "timestamp": 1655378010369,
     "user": {
      "displayName": "Дмитрий Яковлев",
      "userId": "04985982272505825493"
     },
     "user_tz": -420
    },
    "id": "Js5kqmWMGqN4",
    "outputId": "ffb92da6-b8d1-4974-f3c1-40dbce1f15c9"
   },
   "outputs": [
    {
     "name": "stdout",
     "output_type": "stream",
     "text": [
      "is_positive\treview\r\n",
      "0\t\"Dreamgirls, despite its fistful of Tony wins in an incredibly weak year on Broadway, has never been what one would call a jewel in the crown of stage musicals. However, that is not to say that in the right cinematic hands it could not be fleshed out and polished into something worthwhile on-screen. Unfortunately, what transfers to the screen is basically a slavishly faithful version of the stage hit with all of its inherent weaknesses intact. First, the score has never been one of the strong points of this production and the film does not change that factor. There are lots of songs (perhaps too many?), but few of them are especially memorable. The closest any come to catchy tunes are the title song and One Night Only - the much acclaimed And I Am Telling You That I Am Not Going is less a great song than it is a dramatic set piece for the character of Effie (Jennifer Hudson). The film is slick and technically well-produced, but the story and characters are surprisingly thin and lacking in any resonance. There is some interest in the opening moments, watching Jamie Foxx's Svengali-like manager manipulate his acts to the top, but that takes a back seat in the latter portion of the film, when the story conveniently tries to cast him as a villain, despite his having been right from a business stand-point for a good majority of the film. Beyonce Knowles is lovely and sings her songs perfectly well, but is stuck with a character who is basically all surface glitz. Anika Noni Rose as the third member of the Dreamgirls trio literally has nothing to do for the entire film. Eddie Murphy acquits himself well as a singer obviously based on James Brown, but the role is not especially meaty and ultimately has little impact. Foxx would seem ideal casting, but he seems oddly withdrawn and bored. The film's biggest selling point is surely former American Idol contestant/Oscar winner Jennifer Hudson in the central role of Effie White, the temperamental singer who gets booted from the group and makes a triumphant closing act return. For me, Effie has always been a big problem in both the show and the movie. The film obviously wants you to feel sorry for her and rather ham-handedly takes her side, but I have never been sure that this character deserves that kind of devotion. From the start, Effie conducts herself for the most part like an obnoxious, egotistical, self-centered diva, who is more interested in what everyone else can do for her rather than having much vested interest in the group of which she is a part. When she is booted from the group for her unprofessionalism and bad attitude, the charges are more than well-founded, but the stage show/film seem to think Effie should be cut unlimited slack simply because she has a great voice. Even though the film tries to soften some of Effie's harder edges to make her more likable, the charges still stand. Her story becomes more manipulative by suggesting she should have our further sympathy because she is an unwed mother struggling to raise her daughter - using the implication that (much like the talent card) motherhood immediately makes any behavior excusable. Indeed the only big effort the film makes to show Effie's mothering is to tell us about it and then include a scene where she barks at her daughter in the unemployment office, insists that the girl has \"\"no father\"\" and then refuse to look for gainful employment to support them since singing is all she knows. In the hands of a skillful actress, the gaps could perhaps have been remedied with technique and charisma. Unfortunately, Hudson is not that actress. She sings well, but the dialog-driven moments do not come naturally to her nor do high emotional moments. Effie's signature moment (the aforementioned And I Am Telling You... number) is well-sung by Hudson, but emotionally flat in the acting department. Effie is supposed to expressing her rage and desperation at her predicament, but Hudson comes off as a cabaret performer belting out a hot number. All in all, not quite the emotional highlight one expects. The latter portion of the film is basically a predictable melange of events that maneuver Foxx into Hudson's earlier position and allow her to strut back in and lord it over everyone. Foxx's criminal offenses in the film are undoubtedly par for the course of many struggling record producers, but the film's seeming implication that he has it coming because he helped usher in the disco era is rather ridiculous, not to mention pretentious and condescending, particularly coming from a film with all of the depth of a puddle. The end result is a faithful rendition of the stage hit, drained of emotion, energy or anything that can be described as dynamic.\"\r\n",
      "0\tThis show comes up with interesting locations as fast as the travel channel. It is billed as reality but in actuality it is pure prime time soap opera. It's tries to use exotic locales as a facade to bring people into a phony contest & then proceeds to hook viewers on the contestants soap opera style.<br /><br />It also borrows from an early CBS game show pioneer- Beat The Clock- by inventing situations for its contestants to try & overcome. Then it rewards the winner money. If they can spice it up with a little interaction between the characters, even better. While the game format is in slow motion versus Beat The Clock- the real accomplishment of this series is to escape reality. <br /><br />This show has elements of several types of successful past programs. Reality television, hardly, but if your hooked on the contestants, locale or contest, this is your cup of tea. If your not, this entire series is as I say, drivel dripping with gravy. It is another show hiding behind the reality label which is the trend it started in 2000.<br /><br />It is slick & well produced, so it might last a while yet. After all, so do re-runs of Gilligan's Island, Green Acres, The Beverly Hillbillies & The Brady Bunch. This just doesn't employ professional actors. The intelligence level is about the same.\r\n",
      "1\tI simply love this movie. I also love the Ramones, so I am sorta biased to begin with in the first place. There isn't a lot of critical praise to give this film, either you like it or you don't. I think it's a great cult movie.\r\n",
      "0\t\"Spoilers ahead if you want to call them that...<br /><br />I would almost recommend this film just so people can truly see a 1/10. Where to begin, we'll start from the top...<br /><br />THE STORY: Don't believe the premise - the movie has nothing to do with abandoned cars, and people finially understanding what the mysterious happenings are. It's a draub, basic, go to cabin movie with no intensity or \"\"effort\"\".<br /><br />THE SCREENPLAY: I usually give credit to indie screenwriters, it's hard work when you are starting out...but this is crap. The story is flat - it leaves you emotionless the entire movie. The dialogue is extremely weak and predictable boasting lines of \"\"Woah, you totally freaked me out\"\" and \"\"I was wondering if you'd uh...if you'd like to..uh, would you come to the cabin with me?\"\". It makes me want to rip out all my hair, one strand at a time and feed it to myself.<br /><br />THE CHARACTERS: HOLY CRAP!!!! Some have described the characters as flat, I want to take it one step further and say that they actually have a reverse character arch.. They actually start working on a parallel universe and almost start acting backwards...<br /><br />THE ACTORS: Worse than the characters are the actors. They take already poor written characters and add in terrible high school drama acting. The \"\"Woah you totally freaked me out\"\" was said so monotone and slow - like it was dumbed down. I could complain for hours on the actors alone.<br /><br />TECHNICAL: LIGHTING: An eight year old would be disappointed with lighting on this movie. Too shadowy in areas, too bleached in others. The director shouldn't use light as an emotion until he learns how to light a basic scene properly. Baby Steps! SOUND: How many sound guys does it take to make a really shotty sounding movie? 9. With that many sound guys this should sound amazing but quite the opposite has occured. There is one scene in particular that really sticks out, these guys are driving in a car and the sound of the car changes with every camera angle....WEAK! CAMERA: Learn to use it.<br /><br />Anyway, I'm running out of complaining space.....rent it - I dare you...Rent it and learn from it...give it a 1 rating..it deserves it.<br /><br />Signing off... Amanda Christmas\"\r\n",
      "1\t\"My all-time favorite movie! I have seen many movies, but this one beats them all! Excelent acting, wonderful story. You will, as a \"\"normal\"\" caring person start to love George. Altough he is an actor, he is also himself and a very lovable person. And maby most important thing: you will learn to respect & look different to people with Down Syndrome.\"\r\n",
      "1\tWonderful film, one of the best horror films of the 70s. She is realistic settings and atmospheres. As usual it was inevitable the usual negative comments. I have noticed that most horror films of a certain period many times fail to reach even sufficiency. Obviously because most horror movies are old and must be denigrati, is like a mental mechanism that moves the minds of the potential of music critics here.<br /><br />Before you read the review already knew what was the final judgment. In the film a good gift because 10 is really well done. Raines reads quite well and the film as a way in which it was produced reminds me a lot of Kubrick films. He really impression. Excellent film really. I consider a film anthology of years'70.\r\n",
      "0\tand shot in Vancouver with the 'mountains' of the low country of South Carolina visible in the background. For heaven's sake, they should have reset the location. There are no coastal mountains in South Carolina. Period.<br /><br />Lame visuals. They should have been beautiful. And the story limped along.<br /><br />I really don't understand why it was such a hit as a book, although I have to admit it's one I haven't read as yet. Usually I read the book and give the film a miss. There was nothing in this movie that made me want to buy the book, or even borrow it from the library.<br /><br />Verdict: The Mermaid Chair seemed pretty shallow to moi.\r\n",
      "1\tThis is the best dub I've ever heard by Disney, as well as the best adaptation since the biggest abuse ever on soundtrack, themes, characters, dialogues in Kiki Delivery Service. Urrrghhh<br /><br />This one has different atmosphere, especially the deviation from the common heroine. This one has both hero and heroine (although I don't really endorse the use of hero & heroine here, since Miyazaki is out from the stereotype & common theme). As usual, after being introduced by Spirited away, amazed by Mononoke, troubled by Grave of Fireflies, and deeply touched by Majo no Takkyuubin , this one start with a bit doubt in my part. Wondering if this will be the first Ghibi's dud. Well, in the end just like Only Yesterday and Whisper of the Heart, I ended up giving 10 rating. I'd give 9.8 rating, but the additional 0.2 is there to share the good feeling by encouraging people to see the movie.<br /><br />SPOILER Somehow I see this as a sad movie, people die in this one, the lonely robot, the abandoned place, and it ends with destruction. It is as if mankind really can't live with too much power. The collapsing scene gave me patches of Metropolis ending. It's just sad somehow. The plot is apparent in most reviews and the soundtrack rules as well (as always). Joe Hisaishi really belongs to Uematsu, Kanno, Williams caliber.People who can brings a movie, a game, an event to life, even to be a lingering moments by astounding composition.<br /><br />This is a feel good movie that used to be part of US cinema in the classic days (It's a Wonderful Life etc etc). Well, things change....\r\n",
      "1\t\"Linking story: another first-time viewing for me and, again, this is one of the most popular of the Amicus anthologies - and it's easy to see why, though I realize how the film's rather meaningless title could be misleading for some; I certainly fancied director Peter Duffell's choice - DEATH AND THE MAIDEN (which, incidentally, is a classical piece by Schubert that is heard in the film during the Peter Cushing episode) - a great deal more. Though the linking device itself is not all that great, the episodes are all equally compelling and enjoyable. Production values come off as very respectable indeed for the budget Duffell had to work with. The latter infuses the film with a great deal of style which is not so common with this type of film and, frankly, it makes one regret the fact that he wished to distance himself from the genre (though more so as not to be typecast rather than because he felt it was beneath him).<br /><br />Now to the individual stories themselves: <br /><br />\"\"Method For Murder\"\": the opening segment does not offer any real surprises but, to make up for this, it's quietly suspenseful and appropriately creepy at times (Tom Adams' 'fictitious' villain looking like the long-lost brother of Boris Karloff from THE OLD DARK HOUSE [1932]); also, it ends with a satisfactory DIABOLIQUE-type twist, and features a fairly intense role for Denholm Elliott in the lead. That's all we need out of it, really.<br /><br />\"\"Waxworks\"\": for the second story we are introduced to a curiously romantic mood which is quite unusual for this type of film; Peter Cushing and Joss Ackland are both excellent (as well as impeccably dressed) in their roles of two jilted lovers of a woman who continues to obsess them even after such a long time, and whose friendly rivalry can only lead them blindly and inexorably to a fate that is literally worse than death; an ominous hallucination scene with Peter Cushing is quite well done in view of the limited resources at hand, and Ackland's inexplicable inability - or unwillingness - to leave town somewhat recalls the house-trapped aristocrats of Bunuel's THE EXTERMINATING ANGEL (1962).<br /><br />\"\"Sweets To The Sweet\"\": this is perhaps the finest episode of all - with his ambiguous role here, Christopher Lee continues to demonstrate his versatility and he is matched by an understanding Nyree Dawn Porter and the deceptive innocence of Chloe Franks (who appears as Lee's daughter). The film's treatment of the occult here is both subtle and mature, culminating in a powerful and extremely chilling 'curtain'. Trivia Note: Chloe Franks appears as a grown-up in the featurette included on the disc, and when I saw her I felt an immediate familiarity with her face but couldn't quite put my finger on it. Later, on reading her filmography, it was revealed to me that she had played one of the leads in the long-running stage adaptation of Agatha Christie's \"\"The Mousetrap\"\" in London's West End, which my brother and I were fortunate enough to catch while we there on holiday in the Summer of 2002! Needless to say, we had no idea then that she had once created such a delicate - and delicious - portrayal in sheer evil, mainly by virtue of her peculiar look and a devilish smile!! <br /><br />\"\"The Cloak\"\": a wacky but oddly reverent vampire tale (that still manages to debunk many of the myths attached to the subgenre, while inventing some new ones!) which takes in some wonderful digs at exploitation cinema and, at one point, Christopher Lee himself!; Jon Pertwee is marvelous as the campy horror star who gets more than he bargained for when he attempts to bring a measure of authenticity to his work; Ingrid Pitt sends up her image nicely though her role is somewhat subsidiary to the proceedings; Geoffrey Bayldon (made up to look like Ernest Thesiger) also has a memorably quirky bit; the 'silent-cinema' style of the ending was a pretty audacious one to pull on an audience, I suppose - and, while some of the humor comes off as heavy-handed a' la THE FEARLESS VAMPIRE KILLERS (1967) or THEATRE OF BLOOD (1973), it's also rather infectious and certainly ends the film on a high (and highly unusual) note! <br /><br />Video and audio quality are relatively satisfactory, considering I had no other version to compare it with; the main culprit is some noticeable print damage but this is never so nasty as to affect one's enjoyment of the film. As for the extras, beginning with the Audio Commentary: frankly, this is one of the finest chats about a genre film that I can remember listening to; Jonathan Rigby gets to butt in with his opinion more than is usual for a moderator but his effort certainly allows director Peter Duffell to touch on every aspect of the production (whereas with some other films, you're left rather expecting there to be more!) and, as such, it's an extremely pleasant track that complements the main feature very nicely indeed. The featurette \"\"A-Rated Horror Film\"\" is a worthwhile effort with Peter Duffell again at center-stage but this time backed up with valid, if all-too-brief, contributions from producer Max J. Rosenberg and stars Chloe Franks, Ingrid Pitt and Geoffrey Bayldon. We also get film notes, reviews, bios and a poster/stills gallery which, again, are wonderfully assembled (with the contemporary reviews being something of a novelty - and a welcome one at that).\"\r\n"
     ]
    }
   ],
   "source": [
    "!head train.tsv"
   ]
  },
  {
   "cell_type": "code",
   "execution_count": 3,
   "metadata": {
    "colab": {
     "base_uri": "https://localhost:8080/"
    },
    "executionInfo": {
     "elapsed": 1706,
     "status": "ok",
     "timestamp": 1655378012071,
     "user": {
      "displayName": "Дмитрий Яковлев",
      "userId": "04985982272505825493"
     },
     "user_tz": -420
    },
    "id": "5R9e3pctHIV2",
    "outputId": "8c5428b2-dbfe-4285-ae5f-d14c2c3d1af9"
   },
   "outputs": [
    {
     "name": "stdout",
     "output_type": "stream",
     "text": [
      "Train size = 25000\n",
      "Test size = 25000\n"
     ]
    }
   ],
   "source": [
    "import pandas as pd\n",
    "\n",
    "train_df = pd.read_csv(\"train.tsv\", delimiter=\"\\t\")\n",
    "test_df = pd.read_csv(\"test.tsv\", delimiter=\"\\t\")\n",
    "\n",
    "print('Train size = {}'.format(len(train_df)))\n",
    "print('Test size = {}'.format(len(test_df)))"
   ]
  },
  {
   "cell_type": "markdown",
   "metadata": {
    "id": "6oHbJCPPwhjp"
   },
   "source": [
    "Посмотрите глазами на тексты? Какие есть зацепки, как определить, что это за сентимент?\n",
    "\n",
    "Самое простое, как всегда - найти ключевые слова."
   ]
  },
  {
   "cell_type": "code",
   "execution_count": null,
   "metadata": {
    "colab": {
     "base_uri": "https://localhost:8080/"
    },
    "executionInfo": {
     "elapsed": 644,
     "status": "ok",
     "timestamp": 1655296440124,
     "user": {
      "displayName": "Дмитрий Яковлев",
      "userId": "04985982272505825493"
     },
     "user_tz": -420
    },
    "id": "DywUCyMLr_TD",
    "outputId": "83840461-f669-4b04-cd5f-c6b8a6b6a175"
   },
   "outputs": [
    {
     "name": "stdout",
     "output_type": "stream",
     "text": [
      "Test accuracy = 66.73%\n"
     ]
    }
   ],
   "source": [
    "#@title Начинаем классифицировать! { vertical-output: true, display-mode: \"form\" }\n",
    "positive_words = 'love', 'great', 'best', 'wonderful' #@param {type:\"raw\"}\n",
    "negative_words = 'worst', 'awful', '1/10', 'crap' #@param {type:\"raw\"}\n",
    "\n",
    "positives_count = test_df.review.apply(lambda text: sum(word in text for word in positive_words))\n",
    "negatives_count = test_df.review.apply(lambda text: sum(word in text for word in negative_words))\n",
    "is_positive = positives_count > negatives_count\n",
    "correct_count = (is_positive == test_df.is_positive).values.sum()\n",
    "\n",
    "accuracy = correct_count / len(test_df)\n",
    "\n",
    "print('Test accuracy = {:.2%}'.format(accuracy))\n",
    "if accuracy > 0.71:\n",
    "    from IPython.display import Image, display\n",
    "    display(Image('https://s3.amazonaws.com/achgen360/t/rmmoZsub.png', width=500))"
   ]
  },
  {
   "cell_type": "markdown",
   "metadata": {
    "id": "Oo8HRABxv1kW"
   },
   "source": [
    "**Задание** Придумайте хорошие ключевые слова или фразы и наберите хотя бы 71% точности на тесте (и не забудьте посмотреть на код классификации!)"
   ]
  },
  {
   "cell_type": "markdown",
   "metadata": {
    "id": "eaIrBClMUHZB"
   },
   "source": [
    "**Задание** Кому-нибудь нравятся эти `<br /><br />`? Лично мне - нет. Напишите регулярку, которая будет их удалять"
   ]
  },
  {
   "cell_type": "code",
   "execution_count": 4,
   "metadata": {
    "colab": {
     "base_uri": "https://localhost:8080/"
    },
    "executionInfo": {
     "elapsed": 43,
     "status": "ok",
     "timestamp": 1655378012072,
     "user": {
      "displayName": "Дмитрий Яковлев",
      "userId": "04985982272505825493"
     },
     "user_tz": -420
    },
    "id": "09OkUmtde6ny",
    "outputId": "6e0045ce-0fc6-4c25-90e2-f0a617bfebb9"
   },
   "outputs": [
    {
     "name": "stdout",
     "output_type": "stream",
     "text": [
      "Spoilers ahead if you want to call them that...<br /><br />I would almost recommend this film just so people can truly see a 1/10. Where to begin, we'll start from the top...<br /><br />THE STORY: Don't believe the premise - the movie has nothing to do with abandoned cars, and people finially understanding what the mysterious happenings are. It's a draub, basic, go to cabin movie with no intensity or \"effort\".<br /><br />THE SCREENPLAY: I usually give credit to indie screenwriters, it's hard work when you are starting out...but this is crap. The story is flat - it leaves you emotionless the entire movie. The dialogue is extremely weak and predictable boasting lines of \"Woah, you totally freaked me out\" and \"I was wondering if you'd uh...if you'd like to..uh, would you come to the cabin with me?\". It makes me want to rip out all my hair, one strand at a time and feed it to myself.<br /><br />THE CHARACTERS: HOLY CRAP!!!! Some have described the characters as flat, I want to take it one step further and say that they actually have a reverse character arch.. They actually start working on a parallel universe and almost start acting backwards...<br /><br />THE ACTORS: Worse than the characters are the actors. They take already poor written characters and add in terrible high school drama acting. The \"Woah you totally freaked me out\" was said so monotone and slow - like it was dumbed down. I could complain for hours on the actors alone.<br /><br />TECHNICAL: LIGHTING: An eight year old would be disappointed with lighting on this movie. Too shadowy in areas, too bleached in others. The director shouldn't use light as an emotion until he learns how to light a basic scene properly. Baby Steps! SOUND: How many sound guys does it take to make a really shotty sounding movie? 9. With that many sound guys this should sound amazing but quite the opposite has occured. There is one scene in particular that really sticks out, these guys are driving in a car and the sound of the car changes with every camera angle....WEAK! CAMERA: Learn to use it.<br /><br />Anyway, I'm running out of complaining space.....rent it - I dare you...Rent it and learn from it...give it a 1 rating..it deserves it.<br /><br />Signing off... Amanda Christmas\n",
      "Spoilers ahead if you want to call them that...  I would almost recommend this film just so people can truly see a 1/10. Where to begin, we'll start from the top...  THE STORY: Don't believe the premise - the movie has nothing to do with abandoned cars, and people finially understanding what the mysterious happenings are. It's a draub, basic, go to cabin movie with no intensity or \"effort\".  THE SCREENPLAY: I usually give credit to indie screenwriters, it's hard work when you are starting out...but this is crap. The story is flat - it leaves you emotionless the entire movie. The dialogue is extremely weak and predictable boasting lines of \"Woah, you totally freaked me out\" and \"I was wondering if you'd uh...if you'd like to..uh, would you come to the cabin with me?\". It makes me want to rip out all my hair, one strand at a time and feed it to myself.  THE CHARACTERS: HOLY CRAP!!!! Some have described the characters as flat, I want to take it one step further and say that they actually have a reverse character arch.. They actually start working on a parallel universe and almost start acting backwards...  THE ACTORS: Worse than the characters are the actors. They take already poor written characters and add in terrible high school drama acting. The \"Woah you totally freaked me out\" was said so monotone and slow - like it was dumbed down. I could complain for hours on the actors alone.  TECHNICAL: LIGHTING: An eight year old would be disappointed with lighting on this movie. Too shadowy in areas, too bleached in others. The director shouldn't use light as an emotion until he learns how to light a basic scene properly. Baby Steps! SOUND: How many sound guys does it take to make a really shotty sounding movie? 9. With that many sound guys this should sound amazing but quite the opposite has occured. There is one scene in particular that really sticks out, these guys are driving in a car and the sound of the car changes with every camera angle....WEAK! CAMERA: Learn to use it.  Anyway, I'm running out of complaining space.....rent it - I dare you...Rent it and learn from it...give it a 1 rating..it deserves it.  Signing off... Amanda Christmas\n"
     ]
    }
   ],
   "source": [
    "import re\n",
    "\n",
    "pattern = re.compile('<br />')\n",
    "\n",
    "print(train_df['review'].iloc[3])\n",
    "print(pattern.subn(' ', train_df['review'].iloc[3])[0])"
   ]
  },
  {
   "cell_type": "markdown",
   "metadata": {
    "id": "vO6D9NuMi4II"
   },
   "source": [
    "Применим ее:"
   ]
  },
  {
   "cell_type": "code",
   "execution_count": 5,
   "metadata": {
    "executionInfo": {
     "elapsed": 24,
     "status": "ok",
     "timestamp": 1655378012078,
     "user": {
      "displayName": "Дмитрий Яковлев",
      "userId": "04985982272505825493"
     },
     "user_tz": -420
    },
    "id": "7LTwQqs_hD-K"
   },
   "outputs": [],
   "source": [
    "train_df['review'] = train_df['review'].apply(lambda text: pattern.subn(' ', text)[0])\n",
    "test_df['review'] = test_df['review'].apply(lambda text: pattern.subn(' ', text)[0])"
   ]
  },
  {
   "cell_type": "markdown",
   "metadata": {
    "id": "vGxzf4oXmXqw"
   },
   "source": [
    "Пора переходить к машинке!\n",
    "\n",
    "Как будем представлять текст? Проще всего - мешком слов.\n",
    "\n",
    "Заведём большой-большой словарь - список всех слов в обучающей выборке. Тогда каждое предложение можно представить в виде вектора, в котором будет записано, сколько раз встретилось каждое из возможных слов:\n",
    "\n",
    "![bow](https://raw.githubusercontent.com/DanAnastasyev/DeepNLP-Course/master/Week%2001/Images/BOW.png)\n",
    "\n",
    "Простой и приятный способ сделать это - запихнуть тексты в `CountVectorizer`.\n",
    "\n",
    "Он имеет такую сигнатуру:\n",
    "\n",
    "```python\n",
    "CountVectorizer(input='content', encoding='utf-8', decode_error='strict', strip_accents=None, lowercase=True, preprocessor=None, tokenizer=None, stop_words=None, token_pattern=r'(?u)\\b\\w\\w+\\b', ngram_range=(1, 1), analyzer='word', max_df=1.0, min_df=1, max_features=None, vocabulary=None, binary=False, dtype=<class ‘numpy.int64'>)\n",
    "```\n",
    "\n",
    "Для начала обратим внимание на параметры `lowercase=True` и `max_df=1.0, min_df=1, max_features=None` - они про то, что по умолчанию все слова будут приводиться к нижнему регистру и в словарь попадут все слова, встречавшиеся в текстах.\n",
    "\n",
    "При желании можно было бы убрать слишком редкие или слишком частотные слова - пока не будем этого делать.\n",
    "\n",
    "Посмотрим на простом примере, как он будет работать:"
   ]
  },
  {
   "cell_type": "code",
   "execution_count": null,
   "metadata": {
    "colab": {
     "base_uri": "https://localhost:8080/"
    },
    "executionInfo": {
     "elapsed": 741,
     "status": "ok",
     "timestamp": 1655300568698,
     "user": {
      "displayName": "Дмитрий Яковлев",
      "userId": "04985982272505825493"
     },
     "user_tz": -420
    },
    "id": "5Odnum4iyGDr",
    "outputId": "c5db5e3a-ae31-49d6-ed1a-7d621d48460d"
   },
   "outputs": [
    {
     "name": "stdout",
     "output_type": "stream",
     "text": [
      "[[0 1 1 1 1]\n",
      " [1 0 1 1 1]]\n",
      "['awful', 'excellent', 'movie', 'the', 'was']\n"
     ]
    },
    {
     "name": "stderr",
     "output_type": "stream",
     "text": [
      "/usr/local/lib/python3.7/dist-packages/sklearn/utils/deprecation.py:87: FutureWarning: Function get_feature_names is deprecated; get_feature_names is deprecated in 1.0 and will be removed in 1.2. Please use get_feature_names_out instead.\n",
      "  warnings.warn(msg, category=FutureWarning)\n"
     ]
    }
   ],
   "source": [
    "from sklearn.feature_extraction.text import CountVectorizer\n",
    "\n",
    "vectorizer = CountVectorizer()\n",
    "\n",
    "dummy_data = ['The movie was excellent',\n",
    "              'the movie was awful']\n",
    "\n",
    "dummy_matrix = vectorizer.fit_transform(dummy_data)\n",
    "\n",
    "print(dummy_matrix.toarray())\n",
    "print(vectorizer.get_feature_names())"
   ]
  },
  {
   "cell_type": "markdown",
   "metadata": {
    "id": "q3zC1ItWybVc"
   },
   "source": [
    "*Как именно vectorizer определяет границы слов? Обратите внимание на параметр `token_pattern=r'(?u)\\b\\w\\w+\\b'` - как он будет работать?*\n",
    "\n",
    "Запустим его на реальных данных:"
   ]
  },
  {
   "cell_type": "code",
   "execution_count": null,
   "metadata": {
    "colab": {
     "base_uri": "https://localhost:8080/"
    },
    "executionInfo": {
     "elapsed": 3794,
     "status": "ok",
     "timestamp": 1655300586693,
     "user": {
      "displayName": "Дмитрий Яковлев",
      "userId": "04985982272505825493"
     },
     "user_tz": -420
    },
    "id": "Ccd2gaCdQq2W",
    "outputId": "c0f715bf-d526-42c3-bd7a-791b377c8451"
   },
   "outputs": [
    {
     "data": {
      "text/plain": [
       "CountVectorizer()"
      ]
     },
     "execution_count": 8,
     "metadata": {},
     "output_type": "execute_result"
    }
   ],
   "source": [
    "vectorizer = CountVectorizer()\n",
    "vectorizer.fit(train_df['review'].values)"
   ]
  },
  {
   "cell_type": "markdown",
   "metadata": {
    "id": "J_JC9n6C0bFR"
   },
   "source": [
    "Посмотрим на слова, попавшие в словарь:"
   ]
  },
  {
   "cell_type": "code",
   "execution_count": null,
   "metadata": {
    "colab": {
     "base_uri": "https://localhost:8080/"
    },
    "executionInfo": {
     "elapsed": 282,
     "status": "ok",
     "timestamp": 1655300588754,
     "user": {
      "displayName": "Дмитрий Яковлев",
      "userId": "04985982272505825493"
     },
     "user_tz": -420
    },
    "id": "stV4ICO3mKsf",
    "outputId": "08596fa7-14da-4028-b61c-f701903d27fa"
   },
   "outputs": [
    {
     "name": "stderr",
     "output_type": "stream",
     "text": [
      "/usr/local/lib/python3.7/dist-packages/sklearn/utils/deprecation.py:87: FutureWarning: Function get_feature_names is deprecated; get_feature_names is deprecated in 1.0 and will be removed in 1.2. Please use get_feature_names_out instead.\n",
      "  warnings.warn(msg, category=FutureWarning)\n"
     ]
    },
    {
     "data": {
      "text/plain": [
       "['00',\n",
       " '000',\n",
       " '0000000000001',\n",
       " '00001',\n",
       " '00015',\n",
       " '000s',\n",
       " '001',\n",
       " '003830',\n",
       " '006',\n",
       " '007',\n",
       " '0079',\n",
       " '0080',\n",
       " '0083',\n",
       " '0093638',\n",
       " '00am',\n",
       " '00pm',\n",
       " '00s',\n",
       " '01',\n",
       " '01pm',\n",
       " '02',\n",
       " '020410',\n",
       " '029',\n",
       " '03',\n",
       " '04',\n",
       " '041',\n",
       " '05',\n",
       " '050',\n",
       " '06',\n",
       " '06th',\n",
       " '07',\n",
       " '08',\n",
       " '087',\n",
       " '089',\n",
       " '08th',\n",
       " '09',\n",
       " '0f',\n",
       " '0ne',\n",
       " '0r',\n",
       " '0s',\n",
       " '10',\n",
       " '100',\n",
       " '1000',\n",
       " '1000000',\n",
       " '10000000000000',\n",
       " '1000lb',\n",
       " '1000s',\n",
       " '1001',\n",
       " '100b',\n",
       " '100k',\n",
       " '100m',\n",
       " '100min',\n",
       " '100mph',\n",
       " '100s',\n",
       " '100th',\n",
       " '100x',\n",
       " '100yards',\n",
       " '101',\n",
       " '101st',\n",
       " '102',\n",
       " '102nd',\n",
       " '103',\n",
       " '104',\n",
       " '1040',\n",
       " '1040a',\n",
       " '1040s',\n",
       " '105',\n",
       " '1050',\n",
       " '105lbs',\n",
       " '106',\n",
       " '106min',\n",
       " '107',\n",
       " '108',\n",
       " '109',\n",
       " '10am',\n",
       " '10lines',\n",
       " '10mil',\n",
       " '10min',\n",
       " '10minutes',\n",
       " '10p',\n",
       " '10pm',\n",
       " '10s',\n",
       " '10star',\n",
       " '10th',\n",
       " '10x',\n",
       " '10yr',\n",
       " '11',\n",
       " '110',\n",
       " '1100',\n",
       " '11001001',\n",
       " '1100ad',\n",
       " '111',\n",
       " '112',\n",
       " '1138',\n",
       " '114',\n",
       " '1146',\n",
       " '115',\n",
       " '116',\n",
       " '117',\n",
       " '11f',\n",
       " '11m',\n",
       " '11th',\n",
       " '12',\n",
       " '120',\n",
       " '1200',\n",
       " '1200f',\n",
       " '1201',\n",
       " '1202',\n",
       " '123',\n",
       " '12383499143743701',\n",
       " '125',\n",
       " '125m',\n",
       " '127',\n",
       " '128',\n",
       " '12a',\n",
       " '12hr',\n",
       " '12m',\n",
       " '12mm',\n",
       " '12s',\n",
       " '12th',\n",
       " '13',\n",
       " '130',\n",
       " '1300',\n",
       " '1300s',\n",
       " '131',\n",
       " '1318',\n",
       " '132',\n",
       " '134',\n",
       " '135',\n",
       " '135m',\n",
       " '136',\n",
       " '137',\n",
       " '138',\n",
       " '139',\n",
       " '13k',\n",
       " '13s',\n",
       " '13th',\n",
       " '14',\n",
       " '140',\n",
       " '1408',\n",
       " '140hp',\n",
       " '1415',\n",
       " '142',\n",
       " '145',\n",
       " '1454',\n",
       " '146',\n",
       " '147',\n",
       " '1473',\n",
       " '149',\n",
       " '1492',\n",
       " '14a',\n",
       " '14ieme',\n",
       " '14s',\n",
       " '14th',\n",
       " '14yr',\n",
       " '14ème',\n",
       " '15',\n",
       " '150',\n",
       " '1500',\n",
       " '1500s',\n",
       " '150_worst_cases_of_nepotism',\n",
       " '150k',\n",
       " '150m',\n",
       " '151',\n",
       " '152',\n",
       " '153',\n",
       " '1547',\n",
       " '155',\n",
       " '156',\n",
       " '1561',\n",
       " '157',\n",
       " '158',\n",
       " '1594',\n",
       " '15mins',\n",
       " '15minutes',\n",
       " '15s',\n",
       " '15th',\n",
       " '16',\n",
       " '160',\n",
       " '1600',\n",
       " '1600s',\n",
       " '160lbs',\n",
       " '161',\n",
       " '1610',\n",
       " '163',\n",
       " '164',\n",
       " '165',\n",
       " '166',\n",
       " '1660s',\n",
       " '168',\n",
       " '169',\n",
       " '1692',\n",
       " '16ieme',\n",
       " '16k',\n",
       " '16mm',\n",
       " '16s',\n",
       " '16th',\n",
       " '16x9',\n",
       " '16ème',\n",
       " '16éme',\n",
       " '17',\n",
       " '170',\n",
       " '1700',\n",
       " '1700s',\n",
       " '1701',\n",
       " '171',\n",
       " '175',\n",
       " '177',\n",
       " '1775',\n",
       " '1780s',\n",
       " '1790s',\n",
       " '1794',\n",
       " '1798',\n",
       " '17million',\n",
       " '17th',\n",
       " '18',\n",
       " '180',\n",
       " '1800',\n",
       " '1800mph',\n",
       " '1800s',\n",
       " '1801',\n",
       " '1805',\n",
       " '1809',\n",
       " '180d',\n",
       " '1812',\n",
       " '1813',\n",
       " '18137',\n",
       " '1814',\n",
       " '1816',\n",
       " '1820',\n",
       " '1824',\n",
       " '183',\n",
       " '1830',\n",
       " '1832',\n",
       " '1836',\n",
       " '1837',\n",
       " '1838',\n",
       " '1839',\n",
       " '1840',\n",
       " '1840s',\n",
       " '1844',\n",
       " '1846',\n",
       " '1847',\n",
       " '185',\n",
       " '1850',\n",
       " '1850ies',\n",
       " '1850s',\n",
       " '1852',\n",
       " '1853',\n",
       " '1854',\n",
       " '1855',\n",
       " '1859',\n",
       " '1860',\n",
       " '1860s',\n",
       " '1861',\n",
       " '1862',\n",
       " '1863',\n",
       " '1864',\n",
       " '1865',\n",
       " '1870',\n",
       " '1870s',\n",
       " '1871',\n",
       " '1873',\n",
       " '1874',\n",
       " '1875',\n",
       " '1876',\n",
       " '188',\n",
       " '1880',\n",
       " '1880s',\n",
       " '1881',\n",
       " '1886',\n",
       " '1887',\n",
       " '1888',\n",
       " '1889',\n",
       " '188o',\n",
       " '1890',\n",
       " '1890s',\n",
       " '1892',\n",
       " '1893',\n",
       " '1894',\n",
       " '1895',\n",
       " '1896',\n",
       " '1897',\n",
       " '1898',\n",
       " '1899',\n",
       " '18a',\n",
       " '18s',\n",
       " '18th',\n",
       " '18year',\n",
       " '19',\n",
       " '190',\n",
       " '1900',\n",
       " '1900s',\n",
       " '1901',\n",
       " '1902',\n",
       " '1903',\n",
       " '1904',\n",
       " '1905',\n",
       " '1906',\n",
       " '1907',\n",
       " '1908',\n",
       " '1909',\n",
       " '1910',\n",
       " '1910s',\n",
       " '1911',\n",
       " '1912',\n",
       " '1913',\n",
       " '1914',\n",
       " '1915',\n",
       " '1916',\n",
       " '1917',\n",
       " '1918',\n",
       " '1919',\n",
       " '192',\n",
       " '1920',\n",
       " '1920ies',\n",
       " '1920s',\n",
       " '1921',\n",
       " '1922',\n",
       " '1923',\n",
       " '1924',\n",
       " '1925',\n",
       " '1926',\n",
       " '1927',\n",
       " '1928',\n",
       " '1929',\n",
       " '1930',\n",
       " '1930ies',\n",
       " '1930s',\n",
       " '1931',\n",
       " '1932',\n",
       " '1933',\n",
       " '1934',\n",
       " '1935',\n",
       " '1936',\n",
       " '1937',\n",
       " '1938',\n",
       " '1939',\n",
       " '193o',\n",
       " '194',\n",
       " '1940',\n",
       " '1940s',\n",
       " '1941',\n",
       " '1942',\n",
       " '1943',\n",
       " '1944',\n",
       " '1945',\n",
       " '1946',\n",
       " '1947',\n",
       " '1948',\n",
       " '1949',\n",
       " '1949er',\n",
       " '195',\n",
       " '1950',\n",
       " '1950s',\n",
       " '1951',\n",
       " '1952',\n",
       " '1953',\n",
       " '1954',\n",
       " '1955',\n",
       " '1956',\n",
       " '1957',\n",
       " '1958',\n",
       " '1959',\n",
       " '1960',\n",
       " '1960s',\n",
       " '1961',\n",
       " '1961s',\n",
       " '1962',\n",
       " '1963',\n",
       " '1964',\n",
       " '1965',\n",
       " '1966',\n",
       " '1967',\n",
       " '1968',\n",
       " '1969',\n",
       " '197',\n",
       " '1970',\n",
       " '1970ies',\n",
       " '1970s',\n",
       " '1971',\n",
       " '1972',\n",
       " '1973',\n",
       " '1974',\n",
       " '1975',\n",
       " '1976',\n",
       " '1977',\n",
       " '1978',\n",
       " '1979',\n",
       " '19796',\n",
       " '197o',\n",
       " '1980',\n",
       " '1980ies',\n",
       " '1980s',\n",
       " '1981',\n",
       " '1982',\n",
       " '1982s',\n",
       " '1983',\n",
       " '1983s',\n",
       " '1984',\n",
       " '1984ish',\n",
       " '1985',\n",
       " '1986',\n",
       " '1987',\n",
       " '1988',\n",
       " '1989',\n",
       " '1990',\n",
       " '1990s',\n",
       " '1991',\n",
       " '1992',\n",
       " '1993',\n",
       " '1994',\n",
       " '1995',\n",
       " '1996',\n",
       " '1997',\n",
       " '1998',\n",
       " '1999',\n",
       " '19k',\n",
       " '19th',\n",
       " '19thc',\n",
       " '1am',\n",
       " '1and',\n",
       " '1d',\n",
       " '1h',\n",
       " '1h30',\n",
       " '1h40',\n",
       " '1h40m',\n",
       " '1h53',\n",
       " '1hour',\n",
       " '1hr',\n",
       " '1million',\n",
       " '1min',\n",
       " '1mln',\n",
       " '1o',\n",
       " '1s',\n",
       " '1st',\n",
       " '1ton',\n",
       " '1tv',\n",
       " '1½',\n",
       " '1ç',\n",
       " '20',\n",
       " '200',\n",
       " '2000',\n",
       " '20000',\n",
       " '20001',\n",
       " '2000ad',\n",
       " '2000s',\n",
       " '2001',\n",
       " '2002',\n",
       " '2003',\n",
       " '2004',\n",
       " '2004s',\n",
       " '2005',\n",
       " '2006',\n",
       " '2007',\n",
       " '2008',\n",
       " '2009',\n",
       " '200ft',\n",
       " '200th',\n",
       " '201',\n",
       " '2010',\n",
       " '2012',\n",
       " '2013',\n",
       " '2015',\n",
       " '2017',\n",
       " '2019',\n",
       " '2020',\n",
       " '2022',\n",
       " '2023',\n",
       " '2030',\n",
       " '2031',\n",
       " '2033',\n",
       " '2035',\n",
       " '2036',\n",
       " '2038',\n",
       " '204',\n",
       " '2040',\n",
       " '2044',\n",
       " '2046',\n",
       " '2047',\n",
       " '2050',\n",
       " '2053',\n",
       " '2054',\n",
       " '206',\n",
       " '2060',\n",
       " '2070',\n",
       " '2080',\n",
       " '209',\n",
       " '2090',\n",
       " '20c',\n",
       " '20ft',\n",
       " '20k',\n",
       " '20m',\n",
       " '20mins',\n",
       " '20minutes',\n",
       " '20mn',\n",
       " '20p',\n",
       " '20perr',\n",
       " '20s',\n",
       " '20th',\n",
       " '20ties',\n",
       " '20widow',\n",
       " '20x',\n",
       " '20year',\n",
       " '20yrs',\n",
       " '21',\n",
       " '210',\n",
       " '2100',\n",
       " '214',\n",
       " '215',\n",
       " '2151',\n",
       " '216',\n",
       " '21699',\n",
       " '21849889',\n",
       " '21849890',\n",
       " '21849907',\n",
       " '21st',\n",
       " '22',\n",
       " '220',\n",
       " '2200',\n",
       " '221',\n",
       " '2210',\n",
       " '22101',\n",
       " '222',\n",
       " '223',\n",
       " '225',\n",
       " '2257',\n",
       " '225mins',\n",
       " '227',\n",
       " '22d',\n",
       " '22h45',\n",
       " '22nd',\n",
       " '23',\n",
       " '230lbs',\n",
       " '230mph',\n",
       " '231',\n",
       " '232',\n",
       " '233',\n",
       " '236',\n",
       " '237',\n",
       " '23d',\n",
       " '23rd',\n",
       " '24',\n",
       " '240',\n",
       " '2400',\n",
       " '241',\n",
       " '242',\n",
       " '248',\n",
       " '2480',\n",
       " '249',\n",
       " '24m30s',\n",
       " '24th',\n",
       " '24years',\n",
       " '25',\n",
       " '250',\n",
       " '2500',\n",
       " '250000',\n",
       " '25million',\n",
       " '25mins',\n",
       " '25s',\n",
       " '25th',\n",
       " '25yo',\n",
       " '25yrs',\n",
       " '26',\n",
       " '260',\n",
       " '2600',\n",
       " '261k',\n",
       " '262',\n",
       " '2642',\n",
       " '269',\n",
       " '26th',\n",
       " '27',\n",
       " '270',\n",
       " '272',\n",
       " '273',\n",
       " '274',\n",
       " '275',\n",
       " '2772',\n",
       " '278',\n",
       " '27th',\n",
       " '27x41',\n",
       " '28',\n",
       " '280',\n",
       " '285',\n",
       " '28th',\n",
       " '29',\n",
       " '29th',\n",
       " '2am',\n",
       " '2d',\n",
       " '2fast',\n",
       " '2furious',\n",
       " '2h',\n",
       " '2h30',\n",
       " '2hour',\n",
       " '2hours',\n",
       " '2hr',\n",
       " '2hrs',\n",
       " '2in',\n",
       " '2inch',\n",
       " '2k',\n",
       " '2more',\n",
       " '2nd',\n",
       " '2oo4',\n",
       " '2oo5',\n",
       " '2pac',\n",
       " '2point4',\n",
       " '2s',\n",
       " '2x4',\n",
       " '30',\n",
       " '300',\n",
       " '3000',\n",
       " '300ad',\n",
       " '300c',\n",
       " '300lbs',\n",
       " '300mln',\n",
       " '3012',\n",
       " '303',\n",
       " '305',\n",
       " '30am',\n",
       " '30ish',\n",
       " '30k',\n",
       " '30lbs',\n",
       " '30min',\n",
       " '30mins',\n",
       " '30pm',\n",
       " '30s',\n",
       " '30something',\n",
       " '30th',\n",
       " '30ties',\n",
       " '31',\n",
       " '3199',\n",
       " '31st',\n",
       " '32',\n",
       " '3200',\n",
       " '320x180',\n",
       " '32lb',\n",
       " '32nd',\n",
       " '33',\n",
       " '330am',\n",
       " '330mins',\n",
       " '332960073452',\n",
       " '336th',\n",
       " '33m',\n",
       " '34',\n",
       " '345',\n",
       " '3462',\n",
       " '34th',\n",
       " '35',\n",
       " '350',\n",
       " '3500',\n",
       " '3516',\n",
       " '356',\n",
       " '357',\n",
       " '35c',\n",
       " '35mins',\n",
       " '35mm',\n",
       " '35pm',\n",
       " '35th',\n",
       " '35yr',\n",
       " '36',\n",
       " '360',\n",
       " '365',\n",
       " '36th',\n",
       " '37',\n",
       " '370',\n",
       " '372',\n",
       " '378',\n",
       " '38',\n",
       " '38k',\n",
       " '38th',\n",
       " '39',\n",
       " '395',\n",
       " '39th',\n",
       " '3am',\n",
       " '3bs',\n",
       " '3d',\n",
       " '3dvd',\n",
       " '3k',\n",
       " '3lbs',\n",
       " '3m',\n",
       " '3mins',\n",
       " '3p',\n",
       " '3p0',\n",
       " '3pm',\n",
       " '3po',\n",
       " '3rd',\n",
       " '3rds',\n",
       " '3th',\n",
       " '3who',\n",
       " '3x5',\n",
       " '3yrs',\n",
       " '40',\n",
       " '400',\n",
       " '4000',\n",
       " '401k',\n",
       " '405',\n",
       " '409',\n",
       " '40am',\n",
       " '40min',\n",
       " '40mins',\n",
       " '40mph',\n",
       " '40s',\n",
       " '40th',\n",
       " '41',\n",
       " '42',\n",
       " '420',\n",
       " '425',\n",
       " '428',\n",
       " '42nd',\n",
       " '43',\n",
       " '430',\n",
       " '44',\n",
       " '440',\n",
       " '442nd',\n",
       " '44c',\n",
       " '44yrs',\n",
       " '45',\n",
       " '450',\n",
       " '4500',\n",
       " '451',\n",
       " '454',\n",
       " '45am',\n",
       " '45min',\n",
       " '45mins',\n",
       " '45s',\n",
       " '46',\n",
       " '465',\n",
       " '469',\n",
       " '47',\n",
       " '475',\n",
       " '477',\n",
       " '47s',\n",
       " '48',\n",
       " '480m',\n",
       " '480p',\n",
       " '48hrs',\n",
       " '49',\n",
       " '498',\n",
       " '49th',\n",
       " '4am',\n",
       " '4cylinder',\n",
       " '4d',\n",
       " '4eva',\n",
       " '4ever',\n",
       " '4f',\n",
       " '4h',\n",
       " '4hrs',\n",
       " '4k',\n",
       " '4kids',\n",
       " '4m',\n",
       " '4o',\n",
       " '4pm',\n",
       " '4th',\n",
       " '4w',\n",
       " '4ward',\n",
       " '4x',\n",
       " '4x4',\n",
       " '50',\n",
       " '500',\n",
       " '5000',\n",
       " '500000',\n",
       " '500ad',\n",
       " '500db',\n",
       " '500lbs',\n",
       " '502',\n",
       " '50c',\n",
       " '50ft',\n",
       " '50ies',\n",
       " '50ish',\n",
       " '50k',\n",
       " '50min',\n",
       " '50mins',\n",
       " '50s',\n",
       " '50th',\n",
       " '50usd',\n",
       " '51',\n",
       " '51b',\n",
       " '51st',\n",
       " '52',\n",
       " '5200',\n",
       " '5250',\n",
       " '529',\n",
       " '52s',\n",
       " '53',\n",
       " '53m',\n",
       " '54',\n",
       " '5400',\n",
       " '540i',\n",
       " '54th',\n",
       " '55',\n",
       " '5539',\n",
       " '555',\n",
       " '55th',\n",
       " '56',\n",
       " '57',\n",
       " '571',\n",
       " '576',\n",
       " '578',\n",
       " '57d',\n",
       " '58',\n",
       " '58th',\n",
       " '59',\n",
       " '598947',\n",
       " '59th',\n",
       " '5hrs',\n",
       " '5ive',\n",
       " '5kph',\n",
       " '5million',\n",
       " '5min',\n",
       " '5mins',\n",
       " '5s',\n",
       " '5seconds',\n",
       " '5th',\n",
       " '5x',\n",
       " '5x5',\n",
       " '5years',\n",
       " '5yo',\n",
       " '5yrs',\n",
       " '60',\n",
       " '600',\n",
       " '6000',\n",
       " '607',\n",
       " '608',\n",
       " '60ies',\n",
       " '60ish',\n",
       " '60mph',\n",
       " '60s',\n",
       " '60th',\n",
       " '60ties',\n",
       " '61',\n",
       " '618',\n",
       " '62',\n",
       " '6200',\n",
       " '62229249',\n",
       " '63',\n",
       " '637',\n",
       " '63rd',\n",
       " '64',\n",
       " '65',\n",
       " '65m',\n",
       " '66',\n",
       " '660',\n",
       " '666',\n",
       " '66er',\n",
       " '67',\n",
       " '6723',\n",
       " '67th',\n",
       " '68',\n",
       " '68th',\n",
       " '69',\n",
       " '69th',\n",
       " '6am',\n",
       " '6b',\n",
       " '6ft',\n",
       " '6hours',\n",
       " '6k',\n",
       " '6million',\n",
       " '6pm',\n",
       " '6th',\n",
       " '6wks',\n",
       " '6yo',\n",
       " '70',\n",
       " '700',\n",
       " '701',\n",
       " '707',\n",
       " '70ies',\n",
       " '70m',\n",
       " '70mm',\n",
       " '70s',\n",
       " '70th',\n",
       " '71',\n",
       " '713',\n",
       " '72',\n",
       " '72nd',\n",
       " '73',\n",
       " '7300',\n",
       " '735',\n",
       " '737',\n",
       " '74',\n",
       " '740',\n",
       " '740il',\n",
       " '747',\n",
       " '747s',\n",
       " '74th',\n",
       " '75',\n",
       " '750',\n",
       " '75054',\n",
       " '75c',\n",
       " '75m',\n",
       " '76',\n",
       " '7600',\n",
       " '77',\n",
       " '78',\n",
       " '788',\n",
       " '78rpm',\n",
       " '79',\n",
       " '79th',\n",
       " '7days',\n",
       " '7even',\n",
       " '7eventy',\n",
       " '7ft',\n",
       " '7ish',\n",
       " '7mm',\n",
       " '7th',\n",
       " '7½th',\n",
       " '80',\n",
       " '800',\n",
       " '8000',\n",
       " '80ies',\n",
       " '80ish',\n",
       " '80min',\n",
       " '80s',\n",
       " '80yr',\n",
       " '81',\n",
       " '817',\n",
       " '819',\n",
       " '82',\n",
       " '820',\n",
       " '8217',\n",
       " '8230',\n",
       " '83',\n",
       " '84',\n",
       " '849',\n",
       " '84f',\n",
       " '84s',\n",
       " '85',\n",
       " '850',\n",
       " '850pm',\n",
       " '86',\n",
       " '86s',\n",
       " '87',\n",
       " '8700',\n",
       " '8763',\n",
       " '878',\n",
       " '87minutes',\n",
       " '88',\n",
       " '88min',\n",
       " '89',\n",
       " '89or',\n",
       " '89s',\n",
       " '8bit',\n",
       " '8ftdf',\n",
       " '8k',\n",
       " '8mm',\n",
       " '8o',\n",
       " '8p',\n",
       " '8pm',\n",
       " '8star',\n",
       " '8th',\n",
       " '8u',\n",
       " '8½',\n",
       " '90',\n",
       " '900',\n",
       " '9000',\n",
       " '90210',\n",
       " '905',\n",
       " '90c',\n",
       " '90ish',\n",
       " '90min',\n",
       " '90mins',\n",
       " '90s',\n",
       " '91',\n",
       " '911',\n",
       " '914',\n",
       " '917',\n",
       " '92',\n",
       " '921',\n",
       " '92fs',\n",
       " '92nd',\n",
       " '93',\n",
       " '937',\n",
       " '94',\n",
       " '9484',\n",
       " '94s',\n",
       " '94th',\n",
       " '95',\n",
       " '950',\n",
       " '95th',\n",
       " '96',\n",
       " '97',\n",
       " '970',\n",
       " '974th',\n",
       " '978',\n",
       " '98',\n",
       " '987',\n",
       " '98minutes',\n",
       " '99',\n",
       " '998',\n",
       " '999',\n",
       " '9999',\n",
       " '99cents',\n",
       " '99p',\n",
       " '99½',\n",
       " '9_',\n",
       " '9am',\n",
       " '9as',\n",
       " '9do',\n",
       " '9ers',\n",
       " '9is',\n",
       " '9lbs',\n",
       " '9mm',\n",
       " ...]"
      ]
     },
     "execution_count": 9,
     "metadata": {},
     "output_type": "execute_result"
    }
   ],
   "source": [
    "vectorizer.get_feature_names()"
   ]
  },
  {
   "cell_type": "markdown",
   "metadata": {
    "id": "oesbuQ9g0krj"
   },
   "source": [
    "Попробуем кого-нибудь таки сконвертировать"
   ]
  },
  {
   "cell_type": "code",
   "execution_count": null,
   "metadata": {
    "colab": {
     "base_uri": "https://localhost:8080/"
    },
    "executionInfo": {
     "elapsed": 1132,
     "status": "ok",
     "timestamp": 1655300594991,
     "user": {
      "displayName": "Дмитрий Яковлев",
      "userId": "04985982272505825493"
     },
     "user_tz": -420
    },
    "id": "lUWtDWcp0g7U",
    "outputId": "889b723f-b410-4bc0-a443-82e79db4a300"
   },
   "outputs": [
    {
     "data": {
      "text/plain": [
       "<1x74849 sparse matrix of type '<class 'numpy.int64'>'\n",
       "\twith 206 stored elements in Compressed Sparse Row format>"
      ]
     },
     "execution_count": 10,
     "metadata": {},
     "output_type": "execute_result"
    }
   ],
   "source": [
    "vectorizer.transform([train_df['review'].iloc[3]])"
   ]
  },
  {
   "cell_type": "markdown",
   "metadata": {
    "id": "lZCRef3pyCRC"
   },
   "source": [
    "То, что и хотели - вектор с bow (т.е. bag-of-words) представлением исходного текста.\n",
    "\n",
    "И чем эта информация может помочь? Ну, всё тем же - какие-то слова носят положительный окрас, какие-то - отрицательный. Большинство вообще нейтральный, да.\n",
    "\n",
    "![bow with weights](https://github.com/DanAnastasyev/DeepNLP-Course/raw/master/Week%2001/Images/BOW_weights.png)\n",
    "\n",
    "Хочется, наверное, подобрать коэффициенты, которые будут определять уровень окраса, да? Подбирать нужно по обучающей выборке, а не как мы перед этим делали.\n",
    "\n",
    "Например, для выборки\n",
    "```\n",
    "1   The movie was excellent\n",
    "0   the movie was awful\n",
    "```\n",
    "легко подобрать коэффициенты на глазок: что-нибудь вроде `+1` для `excellent`,  `-1` для `awful` и по нулям всем остальным.\n",
    "\n",
    "Построим линейную модель, которая станет этим заниматься. Она будет учиться строить разделяющую гиперплоскость в пространстве bow-векторов.\n",
    "\n",
    "Проверим, как справится логистическая регрессия с нашей супер-выборкой из пары предложений"
   ]
  },
  {
   "cell_type": "code",
   "execution_count": null,
   "metadata": {
    "colab": {
     "base_uri": "https://localhost:8080/"
    },
    "executionInfo": {
     "elapsed": 328,
     "status": "ok",
     "timestamp": 1655300617791,
     "user": {
      "displayName": "Дмитрий Яковлев",
      "userId": "04985982272505825493"
     },
     "user_tz": -420
    },
    "id": "i6WVgK4LtUn2",
    "outputId": "bbb1960a-470a-40c0-ab28-54bff6b87fb2"
   },
   "outputs": [
    {
     "name": "stdout",
     "output_type": "stream",
     "text": [
      "['awful', 'excellent', 'movie', 'the', 'was']\n",
      "[[-0.40104279  0.40104279  0.          0.          0.        ]]\n"
     ]
    },
    {
     "name": "stderr",
     "output_type": "stream",
     "text": [
      "/usr/local/lib/python3.7/dist-packages/sklearn/utils/deprecation.py:87: FutureWarning: Function get_feature_names is deprecated; get_feature_names is deprecated in 1.0 and will be removed in 1.2. Please use get_feature_names_out instead.\n",
      "  warnings.warn(msg, category=FutureWarning)\n"
     ]
    }
   ],
   "source": [
    "from sklearn.linear_model import LogisticRegression\n",
    "from sklearn.pipeline import Pipeline\n",
    "\n",
    "dummy_data = ['The movie was excellent',\n",
    "              'the movie was awful']\n",
    "dummy_labels = [1, 0]\n",
    "\n",
    "vectorizer = CountVectorizer()\n",
    "classifier = LogisticRegression()\n",
    "\n",
    "model = Pipeline([\n",
    "    ('vectorizer', vectorizer),\n",
    "    ('classifier', classifier)\n",
    "])\n",
    "\n",
    "model.fit(dummy_data, dummy_labels)\n",
    "\n",
    "print(vectorizer.get_feature_names())\n",
    "print(classifier.coef_)"
   ]
  },
  {
   "cell_type": "markdown",
   "metadata": {
    "id": "C9Y-kq-tv-XY"
   },
   "source": [
    "Получилось что надо.\n",
    "\n",
    "Запустим теперь её на реальных данных."
   ]
  },
  {
   "cell_type": "code",
   "execution_count": null,
   "metadata": {
    "colab": {
     "base_uri": "https://localhost:8080/"
    },
    "executionInfo": {
     "elapsed": 8393,
     "status": "ok",
     "timestamp": 1655300629907,
     "user": {
      "displayName": "Дмитрий Яковлев",
      "userId": "04985982272505825493"
     },
     "user_tz": -420
    },
    "id": "kvxHIIbSiUXq",
    "outputId": "107858cf-dba3-4f52-907d-50f21a7542d2"
   },
   "outputs": [
    {
     "name": "stderr",
     "output_type": "stream",
     "text": [
      "/usr/local/lib/python3.7/dist-packages/sklearn/linear_model/_logistic.py:818: ConvergenceWarning: lbfgs failed to converge (status=1):\n",
      "STOP: TOTAL NO. of ITERATIONS REACHED LIMIT.\n",
      "\n",
      "Increase the number of iterations (max_iter) or scale the data as shown in:\n",
      "    https://scikit-learn.org/stable/modules/preprocessing.html\n",
      "Please also refer to the documentation for alternative solver options:\n",
      "    https://scikit-learn.org/stable/modules/linear_model.html#logistic-regression\n",
      "  extra_warning_msg=_LOGISTIC_SOLVER_CONVERGENCE_MSG,\n"
     ]
    },
    {
     "data": {
      "text/plain": [
       "Pipeline(steps=[('vectorizer', CountVectorizer()),\n",
       "                ('classifier', LogisticRegression())])"
      ]
     },
     "execution_count": 13,
     "metadata": {},
     "output_type": "execute_result"
    }
   ],
   "source": [
    "model.fit(train_df['review'], train_df['is_positive'])"
   ]
  },
  {
   "cell_type": "code",
   "execution_count": null,
   "metadata": {
    "colab": {
     "base_uri": "https://localhost:8080/"
    },
    "executionInfo": {
     "elapsed": 3505,
     "status": "ok",
     "timestamp": 1655300635884,
     "user": {
      "displayName": "Дмитрий Яковлев",
      "userId": "04985982272505825493"
     },
     "user_tz": -420
    },
    "id": "-d3BBV_uUu-O",
    "outputId": "4cf1edb3-8808-4c98-85ec-5e09791e51d1"
   },
   "outputs": [
    {
     "name": "stdout",
     "output_type": "stream",
     "text": [
      "Test accuracy = 86.50%\n"
     ]
    }
   ],
   "source": [
    "from sklearn.metrics import accuracy_score\n",
    "\n",
    "def eval_model(model, test_df):\n",
    "    preds = model.predict(test_df['review'])\n",
    "    print('Test accuracy = {:.2%}'.format(accuracy_score(test_df['is_positive'], preds)))\n",
    "    \n",
    "eval_model(model, test_df)"
   ]
  },
  {
   "cell_type": "markdown",
   "metadata": {
    "id": "Pnmmz3u71ctO"
   },
   "source": [
    "Прогресс!\n",
    "\n",
    "Хочется как-то посмотреть, что заинтересовало классификатор. К счастью, сделать это совсем просто:"
   ]
  },
  {
   "cell_type": "code",
   "execution_count": null,
   "metadata": {
    "id": "mIcDCJC1oW_W"
   },
   "outputs": [],
   "source": [
    "import eli5"
   ]
  },
  {
   "cell_type": "code",
   "execution_count": null,
   "metadata": {
    "colab": {
     "base_uri": "https://localhost:8080/",
     "height": 874
    },
    "executionInfo": {
     "elapsed": 2678,
     "status": "ok",
     "timestamp": 1655296564840,
     "user": {
      "displayName": "Дмитрий Яковлев",
      "userId": "04985982272505825493"
     },
     "user_tz": -420
    },
    "id": "8W1Ngl-aVuYx",
    "outputId": "46a8f15a-97e8-4ad3-a895-51ed905e838d"
   },
   "outputs": [
    {
     "name": "stderr",
     "output_type": "stream",
     "text": [
      "/usr/local/lib/python3.7/dist-packages/sklearn/utils/deprecation.py:87: FutureWarning: Function get_feature_names is deprecated; get_feature_names is deprecated in 1.0 and will be removed in 1.2. Please use get_feature_names_out instead.\n",
      "  warnings.warn(msg, category=FutureWarning)\n"
     ]
    },
    {
     "data": {
      "text/html": [
       "\n",
       "    <style>\n",
       "    table.eli5-weights tr:hover {\n",
       "        filter: brightness(85%);\n",
       "    }\n",
       "</style>\n",
       "\n",
       "\n",
       "\n",
       "    \n",
       "\n",
       "    \n",
       "\n",
       "    \n",
       "\n",
       "    \n",
       "\n",
       "    \n",
       "\n",
       "    \n",
       "\n",
       "\n",
       "    \n",
       "\n",
       "    \n",
       "\n",
       "    \n",
       "\n",
       "    \n",
       "        \n",
       "\n",
       "    \n",
       "\n",
       "        \n",
       "            \n",
       "                \n",
       "                \n",
       "    \n",
       "        <p style=\"margin-bottom: 0.5em; margin-top: 0em\">\n",
       "            <b>\n",
       "    \n",
       "        y=1\n",
       "    \n",
       "</b>\n",
       "\n",
       "top features\n",
       "        </p>\n",
       "    \n",
       "    <table class=\"eli5-weights\"\n",
       "           style=\"border-collapse: collapse; border: none; margin-top: 0em; table-layout: auto; margin-bottom: 2em;\">\n",
       "        <thead>\n",
       "        <tr style=\"border: none;\">\n",
       "            \n",
       "                <th style=\"padding: 0 1em 0 0.5em; text-align: right; border: none;\" title=\"Feature weights. Note that weights do not account for feature value scales, so if feature values have different scales, features with highest weights might not be the most important.\">\n",
       "                    Weight<sup>?</sup>\n",
       "                </th>\n",
       "            \n",
       "            <th style=\"padding: 0 0.5em 0 0.5em; text-align: left; border: none;\">Feature</th>\n",
       "            \n",
       "        </tr>\n",
       "        </thead>\n",
       "        <tbody>\n",
       "        \n",
       "            <tr style=\"background-color: hsl(120, 100.00%, 84.41%); border: none;\">\n",
       "    <td style=\"padding: 0 1em 0 0.5em; text-align: right; border: none;\">\n",
       "        +1.855\n",
       "    </td>\n",
       "    <td style=\"padding: 0 0.5em 0 0.5em; text-align: left; border: none;\">\n",
       "        refreshing\n",
       "    </td>\n",
       "    \n",
       "</tr>\n",
       "        \n",
       "            <tr style=\"background-color: hsl(120, 100.00%, 84.97%); border: none;\">\n",
       "    <td style=\"padding: 0 1em 0 0.5em; text-align: right; border: none;\">\n",
       "        +1.760\n",
       "    </td>\n",
       "    <td style=\"padding: 0 0.5em 0 0.5em; text-align: left; border: none;\">\n",
       "        wonderfully\n",
       "    </td>\n",
       "    \n",
       "</tr>\n",
       "        \n",
       "            <tr style=\"background-color: hsl(120, 100.00%, 85.40%); border: none;\">\n",
       "    <td style=\"padding: 0 1em 0 0.5em; text-align: right; border: none;\">\n",
       "        +1.689\n",
       "    </td>\n",
       "    <td style=\"padding: 0 0.5em 0 0.5em; text-align: left; border: none;\">\n",
       "        funniest\n",
       "    </td>\n",
       "    \n",
       "</tr>\n",
       "        \n",
       "            <tr style=\"background-color: hsl(120, 100.00%, 85.65%); border: none;\">\n",
       "    <td style=\"padding: 0 1em 0 0.5em; text-align: right; border: none;\">\n",
       "        +1.647\n",
       "    </td>\n",
       "    <td style=\"padding: 0 0.5em 0 0.5em; text-align: left; border: none;\">\n",
       "        surprisingly\n",
       "    </td>\n",
       "    \n",
       "</tr>\n",
       "        \n",
       "            <tr style=\"background-color: hsl(120, 100.00%, 85.79%); border: none;\">\n",
       "    <td style=\"padding: 0 1em 0 0.5em; text-align: right; border: none;\">\n",
       "        +1.626\n",
       "    </td>\n",
       "    <td style=\"padding: 0 0.5em 0 0.5em; text-align: left; border: none;\">\n",
       "        rare\n",
       "    </td>\n",
       "    \n",
       "</tr>\n",
       "        \n",
       "            <tr style=\"background-color: hsl(120, 100.00%, 86.99%); border: none;\">\n",
       "    <td style=\"padding: 0 1em 0 0.5em; text-align: right; border: none;\">\n",
       "        +1.432\n",
       "    </td>\n",
       "    <td style=\"padding: 0 0.5em 0 0.5em; text-align: left; border: none;\">\n",
       "        superb\n",
       "    </td>\n",
       "    \n",
       "</tr>\n",
       "        \n",
       "            <tr style=\"background-color: hsl(120, 100.00%, 87.19%); border: none;\">\n",
       "    <td style=\"padding: 0 1em 0 0.5em; text-align: right; border: none;\">\n",
       "        +1.401\n",
       "    </td>\n",
       "    <td style=\"padding: 0 0.5em 0 0.5em; text-align: left; border: none;\">\n",
       "        excellent\n",
       "    </td>\n",
       "    \n",
       "</tr>\n",
       "        \n",
       "            <tr style=\"background-color: hsl(120, 100.00%, 87.42%); border: none;\">\n",
       "    <td style=\"padding: 0 1em 0 0.5em; text-align: right; border: none;\">\n",
       "        +1.365\n",
       "    </td>\n",
       "    <td style=\"padding: 0 0.5em 0 0.5em; text-align: left; border: none;\">\n",
       "        incredible\n",
       "    </td>\n",
       "    \n",
       "</tr>\n",
       "        \n",
       "            <tr style=\"background-color: hsl(120, 100.00%, 87.51%); border: none;\">\n",
       "    <td style=\"padding: 0 1em 0 0.5em; text-align: right; border: none;\">\n",
       "        +1.351\n",
       "    </td>\n",
       "    <td style=\"padding: 0 0.5em 0 0.5em; text-align: left; border: none;\">\n",
       "        perfect\n",
       "    </td>\n",
       "    \n",
       "</tr>\n",
       "        \n",
       "            <tr style=\"background-color: hsl(120, 100.00%, 87.83%); border: none;\">\n",
       "    <td style=\"padding: 0 1em 0 0.5em; text-align: right; border: none;\">\n",
       "        +1.302\n",
       "    </td>\n",
       "    <td style=\"padding: 0 0.5em 0 0.5em; text-align: left; border: none;\">\n",
       "        delightful\n",
       "    </td>\n",
       "    \n",
       "</tr>\n",
       "        \n",
       "            <tr style=\"background-color: hsl(120, 100.00%, 88.08%); border: none;\">\n",
       "    <td style=\"padding: 0 1em 0 0.5em; text-align: right; border: none;\">\n",
       "        +1.264\n",
       "    </td>\n",
       "    <td style=\"padding: 0 0.5em 0 0.5em; text-align: left; border: none;\">\n",
       "        vengeance\n",
       "    </td>\n",
       "    \n",
       "</tr>\n",
       "        \n",
       "        \n",
       "            <tr style=\"background-color: hsl(120, 100.00%, 88.08%); border: none;\">\n",
       "                <td colspan=\"2\" style=\"padding: 0 0.5em 0 0.5em; text-align: center; border: none; white-space: nowrap;\">\n",
       "                    <i>&hellip; 37681 more positive &hellip;</i>\n",
       "                </td>\n",
       "            </tr>\n",
       "        \n",
       "\n",
       "        \n",
       "            <tr style=\"background-color: hsl(0, 100.00%, 87.97%); border: none;\">\n",
       "                <td colspan=\"2\" style=\"padding: 0 0.5em 0 0.5em; text-align: center; border: none; white-space: nowrap;\">\n",
       "                    <i>&hellip; 37129 more negative &hellip;</i>\n",
       "                </td>\n",
       "            </tr>\n",
       "        \n",
       "        \n",
       "            <tr style=\"background-color: hsl(0, 100.00%, 87.97%); border: none;\">\n",
       "    <td style=\"padding: 0 1em 0 0.5em; text-align: right; border: none;\">\n",
       "        -1.280\n",
       "    </td>\n",
       "    <td style=\"padding: 0 0.5em 0 0.5em; text-align: left; border: none;\">\n",
       "        dull\n",
       "    </td>\n",
       "    \n",
       "</tr>\n",
       "        \n",
       "            <tr style=\"background-color: hsl(0, 100.00%, 87.97%); border: none;\">\n",
       "    <td style=\"padding: 0 1em 0 0.5em; text-align: right; border: none;\">\n",
       "        -1.281\n",
       "    </td>\n",
       "    <td style=\"padding: 0 0.5em 0 0.5em; text-align: left; border: none;\">\n",
       "        worse\n",
       "    </td>\n",
       "    \n",
       "</tr>\n",
       "        \n",
       "            <tr style=\"background-color: hsl(0, 100.00%, 87.88%); border: none;\">\n",
       "    <td style=\"padding: 0 1em 0 0.5em; text-align: right; border: none;\">\n",
       "        -1.295\n",
       "    </td>\n",
       "    <td style=\"padding: 0 0.5em 0 0.5em; text-align: left; border: none;\">\n",
       "        mildly\n",
       "    </td>\n",
       "    \n",
       "</tr>\n",
       "        \n",
       "            <tr style=\"background-color: hsl(0, 100.00%, 87.83%); border: none;\">\n",
       "    <td style=\"padding: 0 1em 0 0.5em; text-align: right; border: none;\">\n",
       "        -1.303\n",
       "    </td>\n",
       "    <td style=\"padding: 0 0.5em 0 0.5em; text-align: left; border: none;\">\n",
       "        redeeming\n",
       "    </td>\n",
       "    \n",
       "</tr>\n",
       "        \n",
       "            <tr style=\"background-color: hsl(0, 100.00%, 87.53%); border: none;\">\n",
       "    <td style=\"padding: 0 1em 0 0.5em; text-align: right; border: none;\">\n",
       "        -1.349\n",
       "    </td>\n",
       "    <td style=\"padding: 0 0.5em 0 0.5em; text-align: left; border: none;\">\n",
       "        baldwin\n",
       "    </td>\n",
       "    \n",
       "</tr>\n",
       "        \n",
       "            <tr style=\"background-color: hsl(0, 100.00%, 87.49%); border: none;\">\n",
       "    <td style=\"padding: 0 1em 0 0.5em; text-align: right; border: none;\">\n",
       "        -1.355\n",
       "    </td>\n",
       "    <td style=\"padding: 0 0.5em 0 0.5em; text-align: left; border: none;\">\n",
       "        wooden\n",
       "    </td>\n",
       "    \n",
       "</tr>\n",
       "        \n",
       "            <tr style=\"background-color: hsl(0, 100.00%, 87.47%); border: none;\">\n",
       "    <td style=\"padding: 0 1em 0 0.5em; text-align: right; border: none;\">\n",
       "        -1.357\n",
       "    </td>\n",
       "    <td style=\"padding: 0 0.5em 0 0.5em; text-align: left; border: none;\">\n",
       "        weak\n",
       "    </td>\n",
       "    \n",
       "</tr>\n",
       "        \n",
       "            <tr style=\"background-color: hsl(0, 100.00%, 87.33%); border: none;\">\n",
       "    <td style=\"padding: 0 1em 0 0.5em; text-align: right; border: none;\">\n",
       "        -1.379\n",
       "    </td>\n",
       "    <td style=\"padding: 0 0.5em 0 0.5em; text-align: left; border: none;\">\n",
       "        badly\n",
       "    </td>\n",
       "    \n",
       "</tr>\n",
       "        \n",
       "            <tr style=\"background-color: hsl(0, 100.00%, 87.24%); border: none;\">\n",
       "    <td style=\"padding: 0 1em 0 0.5em; text-align: right; border: none;\">\n",
       "        -1.393\n",
       "    </td>\n",
       "    <td style=\"padding: 0 0.5em 0 0.5em; text-align: left; border: none;\">\n",
       "        horrible\n",
       "    </td>\n",
       "    \n",
       "</tr>\n",
       "        \n",
       "            <tr style=\"background-color: hsl(0, 100.00%, 87.17%); border: none;\">\n",
       "    <td style=\"padding: 0 1em 0 0.5em; text-align: right; border: none;\">\n",
       "        -1.405\n",
       "    </td>\n",
       "    <td style=\"padding: 0 0.5em 0 0.5em; text-align: left; border: none;\">\n",
       "        mst3k\n",
       "    </td>\n",
       "    \n",
       "</tr>\n",
       "        \n",
       "            <tr style=\"background-color: hsl(0, 100.00%, 87.09%); border: none;\">\n",
       "    <td style=\"padding: 0 1em 0 0.5em; text-align: right; border: none;\">\n",
       "        -1.416\n",
       "    </td>\n",
       "    <td style=\"padding: 0 0.5em 0 0.5em; text-align: left; border: none;\">\n",
       "        save\n",
       "    </td>\n",
       "    \n",
       "</tr>\n",
       "        \n",
       "            <tr style=\"background-color: hsl(0, 100.00%, 87.05%); border: none;\">\n",
       "    <td style=\"padding: 0 1em 0 0.5em; text-align: right; border: none;\">\n",
       "        -1.423\n",
       "    </td>\n",
       "    <td style=\"padding: 0 0.5em 0 0.5em; text-align: left; border: none;\">\n",
       "        lame\n",
       "    </td>\n",
       "    \n",
       "</tr>\n",
       "        \n",
       "            <tr style=\"background-color: hsl(0, 100.00%, 86.87%); border: none;\">\n",
       "    <td style=\"padding: 0 1em 0 0.5em; text-align: right; border: none;\">\n",
       "        -1.452\n",
       "    </td>\n",
       "    <td style=\"padding: 0 0.5em 0 0.5em; text-align: left; border: none;\">\n",
       "        mediocre\n",
       "    </td>\n",
       "    \n",
       "</tr>\n",
       "        \n",
       "            <tr style=\"background-color: hsl(0, 100.00%, 86.31%); border: none;\">\n",
       "    <td style=\"padding: 0 1em 0 0.5em; text-align: right; border: none;\">\n",
       "        -1.541\n",
       "    </td>\n",
       "    <td style=\"padding: 0 0.5em 0 0.5em; text-align: left; border: none;\">\n",
       "        pointless\n",
       "    </td>\n",
       "    \n",
       "</tr>\n",
       "        \n",
       "            <tr style=\"background-color: hsl(0, 100.00%, 86.13%); border: none;\">\n",
       "    <td style=\"padding: 0 1em 0 0.5em; text-align: right; border: none;\">\n",
       "        -1.569\n",
       "    </td>\n",
       "    <td style=\"padding: 0 0.5em 0 0.5em; text-align: left; border: none;\">\n",
       "        alright\n",
       "    </td>\n",
       "    \n",
       "</tr>\n",
       "        \n",
       "            <tr style=\"background-color: hsl(0, 100.00%, 86.12%); border: none;\">\n",
       "    <td style=\"padding: 0 1em 0 0.5em; text-align: right; border: none;\">\n",
       "        -1.570\n",
       "    </td>\n",
       "    <td style=\"padding: 0 0.5em 0 0.5em; text-align: left; border: none;\">\n",
       "        unfunny\n",
       "    </td>\n",
       "    \n",
       "</tr>\n",
       "        \n",
       "            <tr style=\"background-color: hsl(0, 100.00%, 86.02%); border: none;\">\n",
       "    <td style=\"padding: 0 1em 0 0.5em; text-align: right; border: none;\">\n",
       "        -1.588\n",
       "    </td>\n",
       "    <td style=\"padding: 0 0.5em 0 0.5em; text-align: left; border: none;\">\n",
       "        forgettable\n",
       "    </td>\n",
       "    \n",
       "</tr>\n",
       "        \n",
       "            <tr style=\"background-color: hsl(0, 100.00%, 85.91%); border: none;\">\n",
       "    <td style=\"padding: 0 1em 0 0.5em; text-align: right; border: none;\">\n",
       "        -1.605\n",
       "    </td>\n",
       "    <td style=\"padding: 0 0.5em 0 0.5em; text-align: left; border: none;\">\n",
       "        disappointing\n",
       "    </td>\n",
       "    \n",
       "</tr>\n",
       "        \n",
       "            <tr style=\"background-color: hsl(0, 100.00%, 85.62%); border: none;\">\n",
       "    <td style=\"padding: 0 1em 0 0.5em; text-align: right; border: none;\">\n",
       "        -1.653\n",
       "    </td>\n",
       "    <td style=\"padding: 0 0.5em 0 0.5em; text-align: left; border: none;\">\n",
       "        boring\n",
       "    </td>\n",
       "    \n",
       "</tr>\n",
       "        \n",
       "            <tr style=\"background-color: hsl(0, 100.00%, 85.42%); border: none;\">\n",
       "    <td style=\"padding: 0 1em 0 0.5em; text-align: right; border: none;\">\n",
       "        -1.686\n",
       "    </td>\n",
       "    <td style=\"padding: 0 0.5em 0 0.5em; text-align: left; border: none;\">\n",
       "        avoid\n",
       "    </td>\n",
       "    \n",
       "</tr>\n",
       "        \n",
       "            <tr style=\"background-color: hsl(0, 100.00%, 85.19%); border: none;\">\n",
       "    <td style=\"padding: 0 1em 0 0.5em; text-align: right; border: none;\">\n",
       "        -1.723\n",
       "    </td>\n",
       "    <td style=\"padding: 0 0.5em 0 0.5em; text-align: left; border: none;\">\n",
       "        fails\n",
       "    </td>\n",
       "    \n",
       "</tr>\n",
       "        \n",
       "            <tr style=\"background-color: hsl(0, 100.00%, 85.18%); border: none;\">\n",
       "    <td style=\"padding: 0 1em 0 0.5em; text-align: right; border: none;\">\n",
       "        -1.725\n",
       "    </td>\n",
       "    <td style=\"padding: 0 0.5em 0 0.5em; text-align: left; border: none;\">\n",
       "        awful\n",
       "    </td>\n",
       "    \n",
       "</tr>\n",
       "        \n",
       "            <tr style=\"background-color: hsl(0, 100.00%, 85.17%); border: none;\">\n",
       "    <td style=\"padding: 0 1em 0 0.5em; text-align: right; border: none;\">\n",
       "        -1.727\n",
       "    </td>\n",
       "    <td style=\"padding: 0 0.5em 0 0.5em; text-align: left; border: none;\">\n",
       "        laughable\n",
       "    </td>\n",
       "    \n",
       "</tr>\n",
       "        \n",
       "            <tr style=\"background-color: hsl(0, 100.00%, 83.67%); border: none;\">\n",
       "    <td style=\"padding: 0 1em 0 0.5em; text-align: right; border: none;\">\n",
       "        -1.983\n",
       "    </td>\n",
       "    <td style=\"padding: 0 0.5em 0 0.5em; text-align: left; border: none;\">\n",
       "        mess\n",
       "    </td>\n",
       "    \n",
       "</tr>\n",
       "        \n",
       "            <tr style=\"background-color: hsl(0, 100.00%, 82.75%); border: none;\">\n",
       "    <td style=\"padding: 0 1em 0 0.5em; text-align: right; border: none;\">\n",
       "        -2.143\n",
       "    </td>\n",
       "    <td style=\"padding: 0 0.5em 0 0.5em; text-align: left; border: none;\">\n",
       "        lacks\n",
       "    </td>\n",
       "    \n",
       "</tr>\n",
       "        \n",
       "            <tr style=\"background-color: hsl(0, 100.00%, 81.77%); border: none;\">\n",
       "    <td style=\"padding: 0 1em 0 0.5em; text-align: right; border: none;\">\n",
       "        -2.320\n",
       "    </td>\n",
       "    <td style=\"padding: 0 0.5em 0 0.5em; text-align: left; border: none;\">\n",
       "        worst\n",
       "    </td>\n",
       "    \n",
       "</tr>\n",
       "        \n",
       "            <tr style=\"background-color: hsl(0, 100.00%, 81.60%); border: none;\">\n",
       "    <td style=\"padding: 0 1em 0 0.5em; text-align: right; border: none;\">\n",
       "        -2.350\n",
       "    </td>\n",
       "    <td style=\"padding: 0 0.5em 0 0.5em; text-align: left; border: none;\">\n",
       "        poorly\n",
       "    </td>\n",
       "    \n",
       "</tr>\n",
       "        \n",
       "            <tr style=\"background-color: hsl(0, 100.00%, 80.17%); border: none;\">\n",
       "    <td style=\"padding: 0 1em 0 0.5em; text-align: right; border: none;\">\n",
       "        -2.615\n",
       "    </td>\n",
       "    <td style=\"padding: 0 0.5em 0 0.5em; text-align: left; border: none;\">\n",
       "        waste\n",
       "    </td>\n",
       "    \n",
       "</tr>\n",
       "        \n",
       "            <tr style=\"background-color: hsl(0, 100.00%, 80.00%); border: none;\">\n",
       "    <td style=\"padding: 0 1em 0 0.5em; text-align: right; border: none;\">\n",
       "        -2.648\n",
       "    </td>\n",
       "    <td style=\"padding: 0 0.5em 0 0.5em; text-align: left; border: none;\">\n",
       "        disappointment\n",
       "    </td>\n",
       "    \n",
       "</tr>\n",
       "        \n",
       "\n",
       "        </tbody>\n",
       "    </table>\n",
       "\n",
       "            \n",
       "        \n",
       "\n",
       "        \n",
       "\n",
       "\n",
       "\n",
       "    \n",
       "\n",
       "    \n",
       "\n",
       "    \n",
       "\n",
       "    \n",
       "\n",
       "\n",
       "    \n",
       "\n",
       "    \n",
       "\n",
       "    \n",
       "\n",
       "    \n",
       "\n",
       "    \n",
       "\n",
       "    \n",
       "\n",
       "\n",
       "    \n",
       "\n",
       "    \n",
       "\n",
       "    \n",
       "\n",
       "    \n",
       "\n",
       "    \n",
       "\n",
       "    \n",
       "\n",
       "\n",
       "\n"
      ],
      "text/plain": [
       "<IPython.core.display.HTML object>"
      ]
     },
     "execution_count": 14,
     "metadata": {},
     "output_type": "execute_result"
    }
   ],
   "source": [
    "eli5.show_weights(classifier, vec=vectorizer, top=40)"
   ]
  },
  {
   "cell_type": "markdown",
   "metadata": {
    "id": "0VgCE9tDk-aO"
   },
   "source": [
    "Посмотрим на конкретные примеры его работы:"
   ]
  },
  {
   "cell_type": "code",
   "execution_count": null,
   "metadata": {
    "colab": {
     "base_uri": "https://localhost:8080/",
     "height": 450
    },
    "executionInfo": {
     "elapsed": 303,
     "status": "ok",
     "timestamp": 1655296574107,
     "user": {
      "displayName": "Дмитрий Яковлев",
      "userId": "04985982272505825493"
     },
     "user_tz": -420
    },
    "id": "v-4sVWBOWJpo",
    "outputId": "8c29e8ac-a43b-47ff-d669-8a94f528d34c"
   },
   "outputs": [
    {
     "name": "stdout",
     "output_type": "stream",
     "text": [
      "Positive\n"
     ]
    },
    {
     "name": "stderr",
     "output_type": "stream",
     "text": [
      "/usr/local/lib/python3.7/dist-packages/sklearn/utils/deprecation.py:87: FutureWarning: Function get_feature_names is deprecated; get_feature_names is deprecated in 1.0 and will be removed in 1.2. Please use get_feature_names_out instead.\n",
      "  warnings.warn(msg, category=FutureWarning)\n"
     ]
    },
    {
     "data": {
      "text/html": [
       "\n",
       "    <style>\n",
       "    table.eli5-weights tr:hover {\n",
       "        filter: brightness(85%);\n",
       "    }\n",
       "</style>\n",
       "\n",
       "\n",
       "\n",
       "    \n",
       "\n",
       "    \n",
       "\n",
       "    \n",
       "\n",
       "    \n",
       "\n",
       "    \n",
       "\n",
       "    \n",
       "\n",
       "\n",
       "    \n",
       "\n",
       "    \n",
       "\n",
       "    \n",
       "\n",
       "    \n",
       "        \n",
       "\n",
       "    \n",
       "\n",
       "        \n",
       "\n",
       "        \n",
       "    \n",
       "        \n",
       "        \n",
       "    \n",
       "        <p style=\"margin-bottom: 0.5em; margin-top: 0em\">\n",
       "            <b>\n",
       "    \n",
       "        y=positive\n",
       "    \n",
       "</b>\n",
       "\n",
       "    \n",
       "    (probability <b>1.000</b>, score <b>18.921</b>)\n",
       "\n",
       "top features\n",
       "        </p>\n",
       "    \n",
       "    <table class=\"eli5-weights\"\n",
       "           style=\"border-collapse: collapse; border: none; margin-top: 0em; table-layout: auto; margin-bottom: 2em;\">\n",
       "        <thead>\n",
       "        <tr style=\"border: none;\">\n",
       "            \n",
       "                <th style=\"padding: 0 1em 0 0.5em; text-align: right; border: none;\" title=\"Feature contribution already accounts for the feature value (for linear models, contribution = weight * feature value), and the sum of feature contributions is equal to the score or, for some classifiers, to the probability. Feature values are shown if &quot;show_feature_values&quot; is True.\">\n",
       "                    Contribution<sup>?</sup>\n",
       "                </th>\n",
       "            \n",
       "            <th style=\"padding: 0 0.5em 0 0.5em; text-align: left; border: none;\">Feature</th>\n",
       "            \n",
       "        </tr>\n",
       "        </thead>\n",
       "        <tbody>\n",
       "        \n",
       "            <tr style=\"background-color: hsl(120, 100.00%, 80.00%); border: none;\">\n",
       "    <td style=\"padding: 0 1em 0 0.5em; text-align: right; border: none;\">\n",
       "        +18.937\n",
       "    </td>\n",
       "    <td style=\"padding: 0 0.5em 0 0.5em; text-align: left; border: none;\">\n",
       "        Highlighted in text (sum)\n",
       "    </td>\n",
       "    \n",
       "</tr>\n",
       "        \n",
       "        \n",
       "\n",
       "        \n",
       "        \n",
       "            <tr style=\"background-color: hsl(0, 100.00%, 99.86%); border: none;\">\n",
       "    <td style=\"padding: 0 1em 0 0.5em; text-align: right; border: none;\">\n",
       "        -0.016\n",
       "    </td>\n",
       "    <td style=\"padding: 0 0.5em 0 0.5em; text-align: left; border: none;\">\n",
       "        &lt;BIAS&gt;\n",
       "    </td>\n",
       "    \n",
       "</tr>\n",
       "        \n",
       "\n",
       "        </tbody>\n",
       "    </table>\n",
       "\n",
       "    \n",
       "\n",
       "\n",
       "\n",
       "    <p style=\"margin-bottom: 2.5em; margin-top:-0.5em;\">\n",
       "        <span style=\"background-color: hsl(0, 100.00%, 95.29%); opacity: 0.81\" title=\"-0.055\">this</span><span style=\"opacity: 0.80\"> </span><span style=\"background-color: hsl(120, 100.00%, 94.33%); opacity: 0.81\" title=\"0.071\">is</span><span style=\"opacity: 0.80\"> </span><span style=\"background-color: hsl(120, 100.00%, 83.44%); opacity: 0.86\" title=\"0.329\">both</span><span style=\"opacity: 0.80\"> </span><span style=\"background-color: hsl(0, 100.00%, 94.51%); opacity: 0.81\" title=\"-0.068\">an</span><span style=\"opacity: 0.80\"> </span><span style=\"background-color: hsl(120, 100.00%, 71.13%); opacity: 0.93\" title=\"0.728\">entertaining</span><span style=\"opacity: 0.80\"> </span><span style=\"background-color: hsl(120, 100.00%, 92.69%); opacity: 0.82\" title=\"0.102\">and</span><span style=\"opacity: 0.80\"> a </span><span style=\"background-color: hsl(120, 100.00%, 60.00%); opacity: 1.00\" title=\"1.161\">touching</span><span style=\"opacity: 0.80\"> </span><span style=\"background-color: hsl(0, 100.00%, 96.68%); opacity: 0.81\" title=\"-0.033\">version</span><span style=\"opacity: 0.80\"> </span><span style=\"background-color: hsl(0, 100.00%, 94.25%); opacity: 0.81\" title=\"-0.073\">of</span><span style=\"opacity: 0.80\"> </span><span style=\"background-color: hsl(120, 100.00%, 96.85%); opacity: 0.81\" title=\"0.031\">the</span><span style=\"opacity: 0.80\"> </span><span style=\"background-color: hsl(120, 100.00%, 79.12%); opacity: 0.88\" title=\"0.458\">classic</span><span style=\"opacity: 0.80\"> </span><span style=\"background-color: hsl(120, 100.00%, 90.78%); opacity: 0.82\" title=\"0.143\">tale</span><span style=\"opacity: 0.80\">, </span><span style=\"background-color: hsl(120, 100.00%, 86.26%); opacity: 0.84\" title=\"0.252\">also</span><span style=\"opacity: 0.80\"> </span><span style=\"background-color: hsl(120, 100.00%, 89.29%); opacity: 0.83\" title=\"0.177\">quite</span><span style=\"opacity: 0.80\"> </span><span style=\"background-color: hsl(120, 100.00%, 82.92%); opacity: 0.86\" title=\"0.344\">intelligent</span><span style=\"opacity: 0.80\">, </span><span style=\"background-color: hsl(0, 100.00%, 87.65%); opacity: 0.84\" title=\"-0.217\">not</span><span style=\"opacity: 0.80\"> </span><span style=\"background-color: hsl(0, 100.00%, 94.25%); opacity: 0.81\" title=\"-0.073\">of</span><span style=\"opacity: 0.80\"> </span><span style=\"background-color: hsl(120, 100.00%, 96.85%); opacity: 0.81\" title=\"0.031\">the</span><span style=\"opacity: 0.80\"> &#x27;</span><span style=\"background-color: hsl(120, 100.00%, 95.80%); opacity: 0.81\" title=\"0.046\">me</span><span style=\"opacity: 0.80\"> </span><span style=\"background-color: hsl(120, 100.00%, 93.37%); opacity: 0.82\" title=\"0.089\">tarzan</span><span style=\"opacity: 0.80\">, </span><span style=\"background-color: hsl(120, 100.00%, 85.62%); opacity: 0.85\" title=\"0.269\">you</span><span style=\"opacity: 0.80\"> </span><span style=\"background-color: hsl(120, 100.00%, 86.93%); opacity: 0.84\" title=\"0.235\">jane</span><span style=\"opacity: 0.80\">&#x27; </span><span style=\"background-color: hsl(120, 100.00%, 91.98%); opacity: 0.82\" title=\"0.117\">school</span><span style=\"opacity: 0.80\"> </span><span style=\"background-color: hsl(0, 100.00%, 97.49%); opacity: 0.80\" title=\"-0.022\">at</span><span style=\"opacity: 0.80\"> </span><span style=\"background-color: hsl(0, 100.00%, 97.18%); opacity: 0.80\" title=\"-0.026\">all</span><span style=\"opacity: 0.80\">.  </span><span style=\"background-color: hsl(120, 100.00%, 89.60%); opacity: 0.83\" title=\"0.169\">it</span><span style=\"opacity: 0.80\">&#x27;s </span><span style=\"background-color: hsl(120, 100.00%, 96.85%); opacity: 0.81\" title=\"0.031\">the</span><span style=\"opacity: 0.80\"> </span><span style=\"background-color: hsl(120, 100.00%, 84.63%); opacity: 0.85\" title=\"0.296\">famous</span><span style=\"opacity: 0.80\"> </span><span style=\"background-color: hsl(0, 100.00%, 99.54%); opacity: 0.80\" title=\"-0.002\">story</span><span style=\"opacity: 0.80\"> </span><span style=\"background-color: hsl(0, 100.00%, 94.25%); opacity: 0.81\" title=\"-0.073\">of</span><span style=\"opacity: 0.80\"> a </span><span style=\"background-color: hsl(0, 100.00%, 92.74%); opacity: 0.82\" title=\"-0.101\">child</span><span style=\"opacity: 0.80\"> </span><span style=\"background-color: hsl(0, 100.00%, 97.08%); opacity: 0.80\" title=\"-0.028\">reared</span><span style=\"opacity: 0.80\"> </span><span style=\"background-color: hsl(120, 100.00%, 98.14%); opacity: 0.80\" title=\"0.014\">to</span><span style=\"opacity: 0.80\"> </span><span style=\"background-color: hsl(120, 100.00%, 91.22%); opacity: 0.82\" title=\"0.133\">manhood</span><span style=\"opacity: 0.80\"> </span><span style=\"background-color: hsl(120, 100.00%, 98.82%); opacity: 0.80\" title=\"0.008\">in</span><span style=\"opacity: 0.80\"> </span><span style=\"background-color: hsl(120, 100.00%, 96.85%); opacity: 0.81\" title=\"0.031\">the</span><span style=\"opacity: 0.80\"> </span><span style=\"background-color: hsl(0, 100.00%, 85.71%); opacity: 0.85\" title=\"-0.267\">jungle</span><span style=\"opacity: 0.80\"> </span><span style=\"background-color: hsl(0, 100.00%, 93.96%); opacity: 0.81\" title=\"-0.078\">by</span><span style=\"opacity: 0.80\"> </span><span style=\"background-color: hsl(0, 100.00%, 95.91%); opacity: 0.81\" title=\"-0.045\">apes</span><span style=\"opacity: 0.80\">. a </span><span style=\"background-color: hsl(0, 100.00%, 81.00%); opacity: 0.87\" title=\"-0.401\">titled</span><span style=\"opacity: 0.80\"> </span><span style=\"background-color: hsl(120, 100.00%, 91.81%); opacity: 0.82\" title=\"0.120\">british</span><span style=\"opacity: 0.80\"> </span><span style=\"background-color: hsl(0, 100.00%, 86.07%); opacity: 0.84\" title=\"-0.257\">couple</span><span style=\"opacity: 0.80\"> (</span><span style=\"background-color: hsl(120, 100.00%, 96.85%); opacity: 0.81\" title=\"0.031\">the</span><span style=\"opacity: 0.80\"> </span><span style=\"background-color: hsl(120, 100.00%, 92.76%); opacity: 0.82\" title=\"0.101\">wife</span><span style=\"opacity: 0.80\"> </span><span style=\"background-color: hsl(0, 100.00%, 83.30%); opacity: 0.86\" title=\"-0.333\">pregnant</span><span style=\"opacity: 0.80\">) </span><span style=\"background-color: hsl(120, 100.00%, 94.33%); opacity: 0.81\" title=\"0.071\">is</span><span style=\"opacity: 0.80\"> </span><span style=\"background-color: hsl(120, 100.00%, 97.23%); opacity: 0.80\" title=\"0.026\">stranded</span><span style=\"opacity: 0.80\"> </span><span style=\"background-color: hsl(120, 100.00%, 98.82%); opacity: 0.80\" title=\"0.008\">in</span><span style=\"opacity: 0.80\"> </span><span style=\"background-color: hsl(120, 100.00%, 96.85%); opacity: 0.81\" title=\"0.031\">the</span><span style=\"opacity: 0.80\"> </span><span style=\"background-color: hsl(120, 100.00%, 91.27%); opacity: 0.82\" title=\"0.132\">african</span><span style=\"opacity: 0.80\"> </span><span style=\"background-color: hsl(0, 100.00%, 92.23%); opacity: 0.82\" title=\"-0.112\">wilds</span><span style=\"opacity: 0.80\"> </span><span style=\"background-color: hsl(0, 100.00%, 96.52%); opacity: 0.81\" title=\"-0.035\">after</span><span style=\"opacity: 0.80\"> a </span><span style=\"background-color: hsl(0, 100.00%, 99.19%); opacity: 0.80\" title=\"-0.004\">shipwreck</span><span style=\"opacity: 0.80\">. </span><span style=\"background-color: hsl(0, 100.00%, 96.52%); opacity: 0.81\" title=\"-0.035\">after</span><span style=\"opacity: 0.80\"> </span><span style=\"background-color: hsl(120, 100.00%, 96.85%); opacity: 0.81\" title=\"0.031\">the</span><span style=\"opacity: 0.80\"> </span><span style=\"background-color: hsl(120, 100.00%, 74.32%); opacity: 0.91\" title=\"0.616\">parents</span><span style=\"opacity: 0.80\">&#x27; </span><span style=\"background-color: hsl(120, 100.00%, 95.90%); opacity: 0.81\" title=\"0.045\">deaths</span><span style=\"opacity: 0.80\">, </span><span style=\"background-color: hsl(120, 100.00%, 96.85%); opacity: 0.81\" title=\"0.031\">the</span><span style=\"opacity: 0.80\"> </span><span style=\"background-color: hsl(0, 100.00%, 87.90%); opacity: 0.84\" title=\"-0.210\">baby</span><span style=\"opacity: 0.80\"> </span><span style=\"background-color: hsl(120, 100.00%, 94.33%); opacity: 0.81\" title=\"0.071\">is</span><span style=\"opacity: 0.80\"> </span><span style=\"background-color: hsl(120, 100.00%, 88.31%); opacity: 0.83\" title=\"0.200\">raised</span><span style=\"opacity: 0.80\"> </span><span style=\"background-color: hsl(120, 100.00%, 98.82%); opacity: 0.80\" title=\"0.008\">in</span><span style=\"opacity: 0.80\"> </span><span style=\"background-color: hsl(120, 100.00%, 96.85%); opacity: 0.81\" title=\"0.031\">the</span><span style=\"opacity: 0.80\"> </span><span style=\"background-color: hsl(0, 100.00%, 85.71%); opacity: 0.85\" title=\"-0.267\">jungle</span><span style=\"opacity: 0.80\"> </span><span style=\"background-color: hsl(0, 100.00%, 93.96%); opacity: 0.81\" title=\"-0.078\">by</span><span style=\"opacity: 0.80\"> </span><span style=\"background-color: hsl(0, 100.00%, 95.91%); opacity: 0.81\" title=\"-0.045\">apes</span><span style=\"opacity: 0.80\">. </span><span style=\"background-color: hsl(120, 100.00%, 79.73%); opacity: 0.88\" title=\"0.440\">twenty</span><span style=\"opacity: 0.80\"> </span><span style=\"background-color: hsl(120, 100.00%, 94.85%); opacity: 0.81\" title=\"0.062\">years</span><span style=\"opacity: 0.80\"> </span><span style=\"background-color: hsl(120, 100.00%, 83.84%); opacity: 0.85\" title=\"0.318\">later</span><span style=\"opacity: 0.80\">, </span><span style=\"background-color: hsl(0, 100.00%, 95.29%); opacity: 0.81\" title=\"-0.055\">this</span><span style=\"opacity: 0.80\"> </span><span style=\"background-color: hsl(0, 100.00%, 94.77%); opacity: 0.81\" title=\"-0.063\">young</span><span style=\"opacity: 0.80\"> </span><span style=\"background-color: hsl(0, 100.00%, 98.21%); opacity: 0.80\" title=\"-0.014\">man</span><span style=\"opacity: 0.80\"> (i.e. </span><span style=\"background-color: hsl(120, 100.00%, 93.37%); opacity: 0.82\" title=\"0.089\">tarzan</span><span style=\"opacity: 0.80\">) </span><span style=\"background-color: hsl(0, 100.00%, 91.84%); opacity: 0.82\" title=\"-0.120\">rescues</span><span style=\"opacity: 0.80\"> a </span><span style=\"background-color: hsl(0, 100.00%, 93.86%); opacity: 0.81\" title=\"-0.080\">wounded</span><span style=\"opacity: 0.80\"> </span><span style=\"background-color: hsl(0, 100.00%, 89.08%); opacity: 0.83\" title=\"-0.182\">belgian</span><span style=\"opacity: 0.80\"> </span><span style=\"background-color: hsl(0, 100.00%, 96.70%); opacity: 0.81\" title=\"-0.033\">explorer</span><span style=\"opacity: 0.80\">, </span><span style=\"background-color: hsl(120, 100.00%, 94.90%); opacity: 0.81\" title=\"0.061\">nursing</span><span style=\"opacity: 0.80\"> </span><span style=\"background-color: hsl(120, 100.00%, 90.59%); opacity: 0.83\" title=\"0.147\">him</span><span style=\"opacity: 0.80\"> </span><span style=\"background-color: hsl(0, 100.00%, 96.34%); opacity: 0.81\" title=\"-0.038\">back</span><span style=\"opacity: 0.80\"> </span><span style=\"background-color: hsl(120, 100.00%, 98.14%); opacity: 0.80\" title=\"0.014\">to</span><span style=\"opacity: 0.80\"> </span><span style=\"background-color: hsl(0, 100.00%, 97.07%); opacity: 0.80\" title=\"-0.028\">health</span><span style=\"opacity: 0.80\">. </span><span style=\"background-color: hsl(120, 100.00%, 96.85%); opacity: 0.81\" title=\"0.031\">the</span><span style=\"opacity: 0.80\"> </span><span style=\"background-color: hsl(0, 100.00%, 89.08%); opacity: 0.83\" title=\"-0.182\">belgian</span><span style=\"opacity: 0.80\"> </span><span style=\"background-color: hsl(120, 100.00%, 74.14%); opacity: 0.91\" title=\"0.623\">discovers</span><span style=\"opacity: 0.80\"> </span><span style=\"background-color: hsl(120, 100.00%, 91.83%); opacity: 0.82\" title=\"0.120\">evidence</span><span style=\"opacity: 0.80\"> </span><span style=\"background-color: hsl(120, 100.00%, 98.78%); opacity: 0.80\" title=\"0.008\">that</span><span style=\"opacity: 0.80\"> </span><span style=\"background-color: hsl(120, 100.00%, 93.57%); opacity: 0.81\" title=\"0.085\">his</span><span style=\"opacity: 0.80\"> </span><span style=\"background-color: hsl(120, 100.00%, 96.35%); opacity: 0.81\" title=\"0.038\">rescuer</span><span style=\"opacity: 0.80\"> </span><span style=\"background-color: hsl(120, 100.00%, 94.33%); opacity: 0.81\" title=\"0.071\">is</span><span style=\"opacity: 0.80\"> </span><span style=\"background-color: hsl(120, 100.00%, 96.85%); opacity: 0.81\" title=\"0.031\">the</span><span style=\"opacity: 0.80\"> </span><span style=\"background-color: hsl(0, 100.00%, 94.77%); opacity: 0.81\" title=\"-0.063\">young</span><span style=\"opacity: 0.80\"> </span><span style=\"background-color: hsl(0, 100.00%, 93.22%); opacity: 0.82\" title=\"-0.092\">lord</span><span style=\"opacity: 0.80\"> </span><span style=\"background-color: hsl(0, 100.00%, 97.56%); opacity: 0.80\" title=\"-0.021\">greystoke</span><span style=\"opacity: 0.80\"> </span><span style=\"background-color: hsl(120, 100.00%, 92.69%); opacity: 0.82\" title=\"0.102\">and</span><span style=\"opacity: 0.80\"> </span><span style=\"background-color: hsl(120, 100.00%, 84.63%); opacity: 0.85\" title=\"0.296\">returns</span><span style=\"opacity: 0.80\"> </span><span style=\"background-color: hsl(120, 100.00%, 90.59%); opacity: 0.83\" title=\"0.147\">him</span><span style=\"opacity: 0.80\"> </span><span style=\"background-color: hsl(120, 100.00%, 98.14%); opacity: 0.80\" title=\"0.014\">to</span><span style=\"opacity: 0.80\"> </span><span style=\"background-color: hsl(120, 100.00%, 93.57%); opacity: 0.81\" title=\"0.085\">his</span><span style=\"opacity: 0.80\"> </span><span style=\"background-color: hsl(120, 100.00%, 95.27%); opacity: 0.81\" title=\"0.055\">rightful</span><span style=\"opacity: 0.80\"> </span><span style=\"background-color: hsl(0, 100.00%, 81.31%); opacity: 0.87\" title=\"-0.391\">estate</span><span style=\"opacity: 0.80\"> </span><span style=\"background-color: hsl(120, 100.00%, 98.82%); opacity: 0.80\" title=\"0.008\">in</span><span style=\"opacity: 0.80\"> </span><span style=\"background-color: hsl(0, 100.00%, 93.43%); opacity: 0.82\" title=\"-0.088\">scotland</span><span style=\"opacity: 0.80\">, </span><span style=\"background-color: hsl(0, 100.00%, 99.18%); opacity: 0.80\" title=\"-0.005\">where</span><span style=\"opacity: 0.80\"> </span><span style=\"background-color: hsl(0, 100.00%, 98.31%); opacity: 0.80\" title=\"-0.013\">he</span><span style=\"opacity: 0.80\"> </span><span style=\"background-color: hsl(120, 100.00%, 86.83%); opacity: 0.84\" title=\"0.237\">must</span><span style=\"opacity: 0.80\"> </span><span style=\"background-color: hsl(120, 100.00%, 91.78%); opacity: 0.82\" title=\"0.121\">adjust</span><span style=\"opacity: 0.80\"> </span><span style=\"background-color: hsl(120, 100.00%, 98.14%); opacity: 0.80\" title=\"0.014\">to</span><span style=\"opacity: 0.80\"> </span><span style=\"background-color: hsl(120, 100.00%, 94.41%); opacity: 0.81\" title=\"0.070\">civilized</span><span style=\"opacity: 0.80\"> </span><span style=\"background-color: hsl(120, 100.00%, 87.00%); opacity: 0.84\" title=\"0.233\">society</span><span style=\"opacity: 0.80\">.   </span><span style=\"background-color: hsl(120, 100.00%, 96.85%); opacity: 0.81\" title=\"0.031\">the</span><span style=\"opacity: 0.80\"> </span><span style=\"background-color: hsl(120, 100.00%, 96.55%); opacity: 0.81\" title=\"0.035\">movie</span><span style=\"opacity: 0.80\"> </span><span style=\"background-color: hsl(120, 100.00%, 94.33%); opacity: 0.81\" title=\"0.071\">is</span><span style=\"opacity: 0.80\"> </span><span style=\"background-color: hsl(0, 100.00%, 88.64%); opacity: 0.83\" title=\"-0.192\">sort</span><span style=\"opacity: 0.80\"> </span><span style=\"background-color: hsl(0, 100.00%, 94.25%); opacity: 0.81\" title=\"-0.073\">of</span><span style=\"opacity: 0.80\"> </span><span style=\"background-color: hsl(120, 100.00%, 92.10%); opacity: 0.82\" title=\"0.114\">divided</span><span style=\"opacity: 0.80\"> </span><span style=\"background-color: hsl(120, 100.00%, 96.33%); opacity: 0.81\" title=\"0.038\">into</span><span style=\"opacity: 0.80\"> </span><span style=\"background-color: hsl(120, 100.00%, 95.39%); opacity: 0.81\" title=\"0.053\">two</span><span style=\"opacity: 0.80\"> </span><span style=\"background-color: hsl(120, 100.00%, 86.93%); opacity: 0.84\" title=\"0.235\">parts</span><span style=\"opacity: 0.80\">. </span><span style=\"background-color: hsl(120, 100.00%, 98.82%); opacity: 0.80\" title=\"0.008\">in</span><span style=\"opacity: 0.80\"> </span><span style=\"background-color: hsl(120, 100.00%, 96.85%); opacity: 0.81\" title=\"0.031\">the</span><span style=\"opacity: 0.80\"> </span><span style=\"background-color: hsl(120, 100.00%, 92.22%); opacity: 0.82\" title=\"0.112\">first</span><span style=\"opacity: 0.80\"> </span><span style=\"background-color: hsl(0, 100.00%, 80.06%); opacity: 0.87\" title=\"-0.429\">half</span><span style=\"opacity: 0.80\">, </span><span style=\"background-color: hsl(120, 100.00%, 95.78%); opacity: 0.81\" title=\"0.047\">we</span><span style=\"opacity: 0.80\"> </span><span style=\"background-color: hsl(120, 100.00%, 90.04%); opacity: 0.83\" title=\"0.159\">see</span><span style=\"opacity: 0.80\"> </span><span style=\"background-color: hsl(120, 100.00%, 93.37%); opacity: 0.82\" title=\"0.089\">tarzan</span><span style=\"opacity: 0.80\"> </span><span style=\"background-color: hsl(120, 100.00%, 98.82%); opacity: 0.80\" title=\"0.008\">in</span><span style=\"opacity: 0.80\"> </span><span style=\"background-color: hsl(120, 100.00%, 93.57%); opacity: 0.81\" title=\"0.085\">his</span><span style=\"opacity: 0.80\"> </span><span style=\"background-color: hsl(0, 100.00%, 85.71%); opacity: 0.85\" title=\"-0.267\">jungle</span><span style=\"opacity: 0.80\"> </span><span style=\"background-color: hsl(0, 100.00%, 88.27%); opacity: 0.83\" title=\"-0.201\">environment</span><span style=\"opacity: 0.80\">. </span><span style=\"background-color: hsl(0, 100.00%, 87.65%); opacity: 0.84\" title=\"-0.217\">not</span><span style=\"opacity: 0.80\"> </span><span style=\"background-color: hsl(120, 100.00%, 97.79%); opacity: 0.80\" title=\"0.018\">being</span><span style=\"opacity: 0.80\"> </span><span style=\"background-color: hsl(0, 100.00%, 94.51%); opacity: 0.81\" title=\"-0.068\">an</span><span style=\"opacity: 0.80\"> </span><span style=\"background-color: hsl(120, 100.00%, 90.83%); opacity: 0.82\" title=\"0.141\">expert</span><span style=\"opacity: 0.80\">, i </span><span style=\"background-color: hsl(0, 100.00%, 82.31%); opacity: 0.86\" title=\"-0.362\">am</span><span style=\"opacity: 0.80\"> </span><span style=\"background-color: hsl(120, 100.00%, 90.76%); opacity: 0.82\" title=\"0.143\">unaware</span><span style=\"opacity: 0.80\"> </span><span style=\"background-color: hsl(120, 100.00%, 95.58%); opacity: 0.81\" title=\"0.050\">as</span><span style=\"opacity: 0.80\"> </span><span style=\"background-color: hsl(120, 100.00%, 98.14%); opacity: 0.80\" title=\"0.014\">to</span><span style=\"opacity: 0.80\"> </span><span style=\"background-color: hsl(120, 100.00%, 96.85%); opacity: 0.81\" title=\"0.031\">the</span><span style=\"opacity: 0.80\"> </span><span style=\"background-color: hsl(120, 100.00%, 78.65%); opacity: 0.88\" title=\"0.473\">realism</span><span style=\"opacity: 0.80\"> </span><span style=\"background-color: hsl(0, 100.00%, 94.25%); opacity: 0.81\" title=\"-0.073\">of</span><span style=\"opacity: 0.80\"> </span><span style=\"background-color: hsl(120, 100.00%, 94.61%); opacity: 0.81\" title=\"0.066\">its</span><span style=\"opacity: 0.80\"> </span><span style=\"background-color: hsl(120, 100.00%, 92.70%); opacity: 0.82\" title=\"0.102\">depiction</span><span style=\"opacity: 0.80\"> </span><span style=\"background-color: hsl(0, 100.00%, 94.25%); opacity: 0.81\" title=\"-0.073\">of</span><span style=\"opacity: 0.80\"> </span><span style=\"background-color: hsl(0, 100.00%, 91.37%); opacity: 0.82\" title=\"-0.130\">ape</span><span style=\"opacity: 0.80\"> </span><span style=\"background-color: hsl(120, 100.00%, 81.45%); opacity: 0.87\" title=\"0.387\">community</span><span style=\"opacity: 0.80\"> </span><span style=\"background-color: hsl(120, 100.00%, 89.47%); opacity: 0.83\" title=\"0.172\">life</span><span style=\"opacity: 0.80\">, </span><span style=\"background-color: hsl(0, 100.00%, 92.19%); opacity: 0.82\" title=\"-0.113\">but</span><span style=\"opacity: 0.80\"> </span><span style=\"background-color: hsl(120, 100.00%, 89.60%); opacity: 0.83\" title=\"0.169\">it</span><span style=\"opacity: 0.80\"> </span><span style=\"background-color: hsl(120, 100.00%, 94.33%); opacity: 0.81\" title=\"0.071\">is</span><span style=\"opacity: 0.80\"> </span><span style=\"background-color: hsl(120, 100.00%, 93.05%); opacity: 0.82\" title=\"0.095\">certainly</span><span style=\"opacity: 0.80\"> </span><span style=\"background-color: hsl(120, 100.00%, 71.13%); opacity: 0.93\" title=\"0.728\">entertaining</span><span style=\"opacity: 0.80\">. </span><span style=\"background-color: hsl(0, 100.00%, 92.38%); opacity: 0.82\" title=\"-0.109\">for</span><span style=\"opacity: 0.80\"> </span><span style=\"background-color: hsl(120, 100.00%, 95.80%); opacity: 0.81\" title=\"0.046\">me</span><span style=\"opacity: 0.80\">, </span><span style=\"background-color: hsl(120, 100.00%, 96.85%); opacity: 0.81\" title=\"0.031\">the</span><span style=\"opacity: 0.80\"> </span><span style=\"background-color: hsl(120, 100.00%, 91.44%); opacity: 0.82\" title=\"0.128\">more</span><span style=\"opacity: 0.80\"> </span><span style=\"background-color: hsl(120, 100.00%, 69.74%); opacity: 0.93\" title=\"0.779\">moving</span><span style=\"opacity: 0.80\"> </span><span style=\"background-color: hsl(0, 100.00%, 86.14%); opacity: 0.84\" title=\"-0.255\">section</span><span style=\"opacity: 0.80\"> </span><span style=\"background-color: hsl(120, 100.00%, 94.33%); opacity: 0.81\" title=\"0.071\">is</span><span style=\"opacity: 0.80\"> </span><span style=\"background-color: hsl(120, 100.00%, 96.85%); opacity: 0.81\" title=\"0.031\">the</span><span style=\"opacity: 0.80\"> </span><span style=\"background-color: hsl(0, 100.00%, 94.82%); opacity: 0.81\" title=\"-0.063\">second</span><span style=\"opacity: 0.80\"> </span><span style=\"background-color: hsl(0, 100.00%, 80.06%); opacity: 0.87\" title=\"-0.429\">half</span><span style=\"opacity: 0.80\">, </span><span style=\"background-color: hsl(0, 100.00%, 99.03%); opacity: 0.80\" title=\"-0.006\">when</span><span style=\"opacity: 0.80\"> </span><span style=\"background-color: hsl(120, 100.00%, 93.37%); opacity: 0.82\" title=\"0.089\">tarzan</span><span style=\"opacity: 0.80\"> </span><span style=\"background-color: hsl(120, 100.00%, 86.83%); opacity: 0.84\" title=\"0.237\">must</span><span style=\"opacity: 0.80\"> </span><span style=\"background-color: hsl(0, 100.00%, 86.33%); opacity: 0.84\" title=\"-0.250\">meet</span><span style=\"opacity: 0.80\"> </span><span style=\"background-color: hsl(120, 100.00%, 93.57%); opacity: 0.81\" title=\"0.085\">his</span><span style=\"opacity: 0.80\"> </span><span style=\"background-color: hsl(120, 100.00%, 85.98%); opacity: 0.84\" title=\"0.260\">real</span><span style=\"opacity: 0.80\"> </span><span style=\"background-color: hsl(120, 100.00%, 84.34%); opacity: 0.85\" title=\"0.304\">family</span><span style=\"opacity: 0.80\">, </span><span style=\"background-color: hsl(120, 100.00%, 93.07%); opacity: 0.82\" title=\"0.095\">develop</span><span style=\"opacity: 0.80\"> </span><span style=\"background-color: hsl(120, 100.00%, 78.42%); opacity: 0.88\" title=\"0.481\">language</span><span style=\"opacity: 0.80\"> </span><span style=\"background-color: hsl(0, 100.00%, 92.16%); opacity: 0.82\" title=\"-0.113\">skills</span><span style=\"opacity: 0.80\">, </span><span style=\"background-color: hsl(120, 100.00%, 92.69%); opacity: 0.82\" title=\"0.102\">and</span><span style=\"opacity: 0.80\"> </span><span style=\"background-color: hsl(120, 100.00%, 91.78%); opacity: 0.82\" title=\"0.121\">adjust</span><span style=\"opacity: 0.80\"> </span><span style=\"background-color: hsl(120, 100.00%, 98.14%); opacity: 0.80\" title=\"0.014\">to</span><span style=\"opacity: 0.80\"> </span><span style=\"background-color: hsl(120, 100.00%, 97.71%); opacity: 0.80\" title=\"0.019\">aristocratic</span><span style=\"opacity: 0.80\"> </span><span style=\"background-color: hsl(120, 100.00%, 91.81%); opacity: 0.82\" title=\"0.120\">british</span><span style=\"opacity: 0.80\"> </span><span style=\"background-color: hsl(120, 100.00%, 87.00%); opacity: 0.84\" title=\"0.233\">society</span><span style=\"opacity: 0.80\">, </span><span style=\"background-color: hsl(0, 100.00%, 97.18%); opacity: 0.80\" title=\"-0.026\">all</span><span style=\"opacity: 0.80\"> </span><span style=\"background-color: hsl(120, 100.00%, 96.85%); opacity: 0.81\" title=\"0.031\">the</span><span style=\"opacity: 0.80\"> </span><span style=\"background-color: hsl(120, 100.00%, 91.74%); opacity: 0.82\" title=\"0.122\">while</span><span style=\"opacity: 0.80\"> </span><span style=\"background-color: hsl(0, 100.00%, 94.73%); opacity: 0.81\" title=\"-0.064\">wooing</span><span style=\"opacity: 0.80\"> </span><span style=\"background-color: hsl(120, 100.00%, 86.93%); opacity: 0.84\" title=\"0.235\">jane</span><span style=\"opacity: 0.80\"> (</span><span style=\"background-color: hsl(0, 100.00%, 97.89%); opacity: 0.80\" title=\"-0.017\">andie</span><span style=\"opacity: 0.80\"> </span><span style=\"background-color: hsl(0, 100.00%, 98.14%); opacity: 0.80\" title=\"-0.014\">macdowell</span><span style=\"opacity: 0.80\">). </span><span style=\"background-color: hsl(0, 100.00%, 98.31%); opacity: 0.80\" title=\"-0.013\">he</span><span style=\"opacity: 0.80\"> </span><span style=\"background-color: hsl(120, 100.00%, 94.33%); opacity: 0.81\" title=\"0.071\">is</span><span style=\"opacity: 0.80\"> </span><span style=\"background-color: hsl(0, 100.00%, 83.43%); opacity: 0.86\" title=\"-0.329\">portrayed</span><span style=\"opacity: 0.80\"> </span><span style=\"background-color: hsl(120, 100.00%, 95.58%); opacity: 0.81\" title=\"0.050\">as</span><span style=\"opacity: 0.80\"> a &#x27;</span><span style=\"background-color: hsl(120, 100.00%, 92.93%); opacity: 0.82\" title=\"0.098\">noble</span><span style=\"opacity: 0.80\"> </span><span style=\"background-color: hsl(120, 100.00%, 79.67%); opacity: 0.88\" title=\"0.441\">savage</span><span style=\"opacity: 0.80\">&#x27;, </span><span style=\"background-color: hsl(0, 100.00%, 81.07%); opacity: 0.87\" title=\"-0.399\">whether</span><span style=\"opacity: 0.80\"> </span><span style=\"background-color: hsl(120, 100.00%, 98.82%); opacity: 0.80\" title=\"0.008\">in</span><span style=\"opacity: 0.80\"> </span><span style=\"background-color: hsl(120, 100.00%, 96.85%); opacity: 0.81\" title=\"0.031\">the</span><span style=\"opacity: 0.80\"> </span><span style=\"background-color: hsl(0, 100.00%, 88.01%); opacity: 0.84\" title=\"-0.208\">wild</span><span style=\"opacity: 0.80\"> </span><span style=\"background-color: hsl(0, 100.00%, 96.30%); opacity: 0.81\" title=\"-0.039\">or</span><span style=\"opacity: 0.80\"> </span><span style=\"background-color: hsl(120, 100.00%, 98.82%); opacity: 0.80\" title=\"0.008\">in</span><span style=\"opacity: 0.80\"> </span><span style=\"background-color: hsl(120, 100.00%, 88.61%); opacity: 0.83\" title=\"0.193\">elegant</span><span style=\"opacity: 0.80\"> </span><span style=\"background-color: hsl(0, 100.00%, 99.26%); opacity: 0.80\" title=\"-0.004\">edwardian</span><span style=\"opacity: 0.80\"> </span><span style=\"background-color: hsl(0, 100.00%, 91.52%); opacity: 0.82\" title=\"-0.127\">parlors</span><span style=\"opacity: 0.80\">. </span><span style=\"background-color: hsl(0, 100.00%, 93.96%); opacity: 0.81\" title=\"-0.078\">by</span><span style=\"opacity: 0.80\"> </span><span style=\"background-color: hsl(120, 100.00%, 73.07%); opacity: 0.91\" title=\"0.660\">contrast</span><span style=\"opacity: 0.80\">, </span><span style=\"background-color: hsl(120, 100.00%, 96.85%); opacity: 0.81\" title=\"0.031\">the</span><span style=\"opacity: 0.80\"> </span><span style=\"background-color: hsl(0, 100.00%, 87.89%); opacity: 0.84\" title=\"-0.211\">upper</span><span style=\"opacity: 0.80\"> </span><span style=\"background-color: hsl(0, 100.00%, 96.82%); opacity: 0.81\" title=\"-0.031\">crust</span><span style=\"opacity: 0.80\"> </span><span style=\"background-color: hsl(120, 100.00%, 94.33%); opacity: 0.81\" title=\"0.071\">is</span><span style=\"opacity: 0.80\"> </span><span style=\"background-color: hsl(0, 100.00%, 73.07%); opacity: 0.91\" title=\"-0.660\">depicted</span><span style=\"opacity: 0.80\"> </span><span style=\"background-color: hsl(120, 100.00%, 95.58%); opacity: 0.81\" title=\"0.050\">as</span><span style=\"opacity: 0.80\"> </span><span style=\"background-color: hsl(120, 100.00%, 82.83%); opacity: 0.86\" title=\"0.347\">often</span><span style=\"opacity: 0.80\"> </span><span style=\"background-color: hsl(0, 100.00%, 81.99%); opacity: 0.86\" title=\"-0.371\">far</span><span style=\"opacity: 0.80\"> </span><span style=\"background-color: hsl(120, 100.00%, 91.44%); opacity: 0.82\" title=\"0.128\">more</span><span style=\"opacity: 0.80\"> </span><span style=\"background-color: hsl(0, 100.00%, 97.28%); opacity: 0.80\" title=\"-0.025\">barbaric</span><span style=\"opacity: 0.80\"> </span><span style=\"background-color: hsl(0, 100.00%, 96.78%); opacity: 0.81\" title=\"-0.032\">than</span><span style=\"opacity: 0.80\"> </span><span style=\"background-color: hsl(120, 100.00%, 96.85%); opacity: 0.81\" title=\"0.031\">the</span><span style=\"opacity: 0.80\"> </span><span style=\"background-color: hsl(0, 100.00%, 85.71%); opacity: 0.85\" title=\"-0.267\">jungle</span><span style=\"opacity: 0.80\"> </span><span style=\"background-color: hsl(120, 100.00%, 93.37%); opacity: 0.82\" title=\"0.089\">tarzan</span><span style=\"opacity: 0.80\"> </span><span style=\"background-color: hsl(0, 100.00%, 78.00%); opacity: 0.89\" title=\"-0.494\">left</span><span style=\"opacity: 0.80\">.  </span><span style=\"background-color: hsl(0, 100.00%, 92.83%); opacity: 0.82\" title=\"-0.100\">christopher</span><span style=\"opacity: 0.80\"> </span><span style=\"background-color: hsl(0, 100.00%, 99.35%); opacity: 0.80\" title=\"-0.003\">lambert</span><span style=\"opacity: 0.80\"> </span><span style=\"background-color: hsl(120, 100.00%, 94.33%); opacity: 0.81\" title=\"0.071\">is</span><span style=\"opacity: 0.80\"> </span><span style=\"background-color: hsl(120, 100.00%, 72.44%); opacity: 0.92\" title=\"0.682\">fantastic</span><span style=\"opacity: 0.80\"> </span><span style=\"background-color: hsl(120, 100.00%, 98.82%); opacity: 0.80\" title=\"0.008\">in</span><span style=\"opacity: 0.80\"> </span><span style=\"background-color: hsl(120, 100.00%, 93.57%); opacity: 0.81\" title=\"0.085\">his</span><span style=\"opacity: 0.80\"> </span><span style=\"background-color: hsl(120, 100.00%, 67.21%); opacity: 0.95\" title=\"0.874\">sympathetic</span><span style=\"opacity: 0.80\"> </span><span style=\"background-color: hsl(120, 100.00%, 76.30%); opacity: 0.89\" title=\"0.549\">portrayal</span><span style=\"opacity: 0.80\"> </span><span style=\"background-color: hsl(0, 100.00%, 94.25%); opacity: 0.81\" title=\"-0.073\">of</span><span style=\"opacity: 0.80\"> </span><span style=\"background-color: hsl(120, 100.00%, 93.37%); opacity: 0.82\" title=\"0.089\">tarzan</span><span style=\"opacity: 0.80\"> </span><span style=\"background-color: hsl(120, 100.00%, 98.82%); opacity: 0.80\" title=\"0.008\">in</span><span style=\"opacity: 0.80\"> </span><span style=\"background-color: hsl(120, 100.00%, 83.44%); opacity: 0.86\" title=\"0.329\">both</span><span style=\"opacity: 0.80\"> </span><span style=\"background-color: hsl(120, 100.00%, 96.85%); opacity: 0.81\" title=\"0.031\">the</span><span style=\"opacity: 0.80\"> </span><span style=\"background-color: hsl(0, 100.00%, 85.71%); opacity: 0.85\" title=\"-0.267\">jungle</span><span style=\"opacity: 0.80\"> </span><span style=\"background-color: hsl(120, 100.00%, 92.69%); opacity: 0.82\" title=\"0.102\">and</span><span style=\"opacity: 0.80\"> </span><span style=\"background-color: hsl(120, 100.00%, 94.41%); opacity: 0.81\" title=\"0.070\">civilized</span><span style=\"opacity: 0.80\"> </span><span style=\"background-color: hsl(0, 100.00%, 95.79%); opacity: 0.81\" title=\"-0.047\">environments</span><span style=\"opacity: 0.80\">. </span><span style=\"background-color: hsl(0, 100.00%, 98.31%); opacity: 0.80\" title=\"-0.013\">he</span><span style=\"opacity: 0.80\"> </span><span style=\"background-color: hsl(120, 100.00%, 86.86%); opacity: 0.84\" title=\"0.237\">conveys</span><span style=\"opacity: 0.80\"> a </span><span style=\"background-color: hsl(120, 100.00%, 85.98%); opacity: 0.84\" title=\"0.260\">real</span><span style=\"opacity: 0.80\"> </span><span style=\"background-color: hsl(120, 100.00%, 93.11%); opacity: 0.82\" title=\"0.094\">sense</span><span style=\"opacity: 0.80\"> </span><span style=\"background-color: hsl(0, 100.00%, 94.25%); opacity: 0.81\" title=\"-0.073\">of</span><span style=\"opacity: 0.80\"> </span><span style=\"background-color: hsl(120, 100.00%, 93.57%); opacity: 0.81\" title=\"0.085\">his</span><span style=\"opacity: 0.80\"> </span><span style=\"background-color: hsl(0, 100.00%, 92.99%); opacity: 0.82\" title=\"-0.096\">confusion</span><span style=\"opacity: 0.80\"> </span><span style=\"background-color: hsl(120, 100.00%, 92.69%); opacity: 0.82\" title=\"0.102\">and</span><span style=\"opacity: 0.80\"> </span><span style=\"background-color: hsl(0, 100.00%, 81.91%); opacity: 0.86\" title=\"-0.374\">conflict</span><span style=\"opacity: 0.80\">, </span><span style=\"background-color: hsl(120, 100.00%, 80.06%); opacity: 0.87\" title=\"0.429\">torn</span><span style=\"opacity: 0.80\"> </span><span style=\"background-color: hsl(120, 100.00%, 95.58%); opacity: 0.81\" title=\"0.050\">as</span><span style=\"opacity: 0.80\"> </span><span style=\"background-color: hsl(0, 100.00%, 98.31%); opacity: 0.80\" title=\"-0.013\">he</span><span style=\"opacity: 0.80\"> </span><span style=\"background-color: hsl(120, 100.00%, 94.33%); opacity: 0.81\" title=\"0.071\">is</span><span style=\"opacity: 0.80\"> </span><span style=\"background-color: hsl(0, 100.00%, 93.29%); opacity: 0.82\" title=\"-0.091\">between</span><span style=\"opacity: 0.80\"> </span><span style=\"background-color: hsl(120, 100.00%, 96.85%); opacity: 0.81\" title=\"0.031\">the</span><span style=\"opacity: 0.80\"> </span><span style=\"background-color: hsl(120, 100.00%, 95.39%); opacity: 0.81\" title=\"0.053\">two</span><span style=\"opacity: 0.80\"> </span><span style=\"background-color: hsl(120, 100.00%, 90.63%); opacity: 0.83\" title=\"0.146\">very</span><span style=\"opacity: 0.80\"> </span><span style=\"background-color: hsl(120, 100.00%, 93.02%); opacity: 0.82\" title=\"0.096\">different</span><span style=\"opacity: 0.80\"> </span><span style=\"background-color: hsl(120, 100.00%, 70.19%); opacity: 0.93\" title=\"0.763\">worlds</span><span style=\"opacity: 0.80\">, </span><span style=\"background-color: hsl(120, 100.00%, 93.57%); opacity: 0.81\" title=\"0.085\">his</span><span style=\"opacity: 0.80\"> </span><span style=\"background-color: hsl(0, 100.00%, 87.45%); opacity: 0.84\" title=\"-0.222\">original</span><span style=\"opacity: 0.80\"> </span><span style=\"background-color: hsl(0, 100.00%, 91.37%); opacity: 0.82\" title=\"-0.130\">ape</span><span style=\"opacity: 0.80\"> </span><span style=\"background-color: hsl(120, 100.00%, 84.34%); opacity: 0.85\" title=\"0.304\">family</span><span style=\"opacity: 0.80\"> </span><span style=\"background-color: hsl(120, 100.00%, 92.69%); opacity: 0.82\" title=\"0.102\">and</span><span style=\"opacity: 0.80\"> </span><span style=\"background-color: hsl(120, 100.00%, 93.57%); opacity: 0.81\" title=\"0.085\">his</span><span style=\"opacity: 0.80\"> </span><span style=\"background-color: hsl(120, 100.00%, 96.79%); opacity: 0.81\" title=\"0.032\">new</span><span style=\"opacity: 0.80\"> </span><span style=\"background-color: hsl(120, 100.00%, 85.10%); opacity: 0.85\" title=\"0.283\">human</span><span style=\"opacity: 0.80\"> </span><span style=\"background-color: hsl(0, 100.00%, 92.96%); opacity: 0.82\" title=\"-0.097\">one</span><span style=\"opacity: 0.80\">. </span><span style=\"background-color: hsl(120, 100.00%, 80.71%); opacity: 0.87\" title=\"0.409\">sir</span><span style=\"opacity: 0.80\"> </span><span style=\"background-color: hsl(120, 100.00%, 70.78%); opacity: 0.93\" title=\"0.741\">ralph</span><span style=\"opacity: 0.80\"> </span><span style=\"background-color: hsl(0, 100.00%, 97.33%); opacity: 0.80\" title=\"-0.024\">richardson</span><span style=\"opacity: 0.80\">, </span><span style=\"background-color: hsl(0, 100.00%, 92.96%); opacity: 0.82\" title=\"-0.097\">one</span><span style=\"opacity: 0.80\"> </span><span style=\"background-color: hsl(0, 100.00%, 94.25%); opacity: 0.81\" title=\"-0.073\">of</span><span style=\"opacity: 0.80\"> </span><span style=\"background-color: hsl(120, 100.00%, 96.85%); opacity: 0.81\" title=\"0.031\">the</span><span style=\"opacity: 0.80\"> </span><span style=\"background-color: hsl(0, 100.00%, 96.81%); opacity: 0.81\" title=\"-0.031\">old</span><span style=\"opacity: 0.80\"> </span><span style=\"background-color: hsl(120, 100.00%, 91.81%); opacity: 0.82\" title=\"0.120\">british</span><span style=\"opacity: 0.80\"> </span><span style=\"background-color: hsl(0, 100.00%, 80.54%); opacity: 0.87\" title=\"-0.415\">legends</span><span style=\"opacity: 0.80\">, </span><span style=\"background-color: hsl(120, 100.00%, 94.33%); opacity: 0.81\" title=\"0.071\">is</span><span style=\"opacity: 0.80\"> </span><span style=\"background-color: hsl(120, 100.00%, 64.07%); opacity: 0.97\" title=\"0.996\">brilliant</span><span style=\"opacity: 0.80\"> </span><span style=\"background-color: hsl(120, 100.00%, 95.58%); opacity: 0.81\" title=\"0.050\">as</span><span style=\"opacity: 0.80\"> </span><span style=\"background-color: hsl(120, 100.00%, 84.25%); opacity: 0.85\" title=\"0.307\">always</span><span style=\"opacity: 0.80\"> </span><span style=\"background-color: hsl(120, 100.00%, 98.82%); opacity: 0.80\" title=\"0.008\">in</span><span style=\"opacity: 0.80\"> </span><span style=\"background-color: hsl(120, 100.00%, 96.85%); opacity: 0.81\" title=\"0.031\">the</span><span style=\"opacity: 0.80\"> </span><span style=\"background-color: hsl(120, 100.00%, 98.98%); opacity: 0.80\" title=\"0.006\">role</span><span style=\"opacity: 0.80\"> </span><span style=\"background-color: hsl(0, 100.00%, 94.25%); opacity: 0.81\" title=\"-0.073\">of</span><span style=\"opacity: 0.80\"> </span><span style=\"background-color: hsl(120, 100.00%, 93.37%); opacity: 0.82\" title=\"0.089\">tarzan</span><span style=\"opacity: 0.80\">&#x27;s </span><span style=\"background-color: hsl(0, 100.00%, 88.78%); opacity: 0.83\" title=\"-0.189\">grandfather</span><span style=\"opacity: 0.80\">, </span><span style=\"background-color: hsl(120, 100.00%, 96.85%); opacity: 0.81\" title=\"0.031\">the</span><span style=\"opacity: 0.80\"> </span><span style=\"background-color: hsl(0, 100.00%, 89.74%); opacity: 0.83\" title=\"-0.166\">sixth</span><span style=\"opacity: 0.80\"> </span><span style=\"background-color: hsl(120, 100.00%, 92.33%); opacity: 0.82\" title=\"0.110\">earl</span><span style=\"opacity: 0.80\"> </span><span style=\"background-color: hsl(0, 100.00%, 94.25%); opacity: 0.81\" title=\"-0.073\">of</span><span style=\"opacity: 0.80\"> </span><span style=\"background-color: hsl(0, 100.00%, 97.56%); opacity: 0.80\" title=\"-0.021\">greystoke</span><span style=\"opacity: 0.80\">.   </span><span style=\"background-color: hsl(120, 100.00%, 96.85%); opacity: 0.81\" title=\"0.031\">the</span><span style=\"opacity: 0.80\"> </span><span style=\"background-color: hsl(120, 100.00%, 92.70%); opacity: 0.82\" title=\"0.102\">film</span><span style=\"opacity: 0.80\"> </span><span style=\"background-color: hsl(120, 100.00%, 72.23%); opacity: 0.92\" title=\"0.689\">focuses</span><span style=\"opacity: 0.80\"> </span><span style=\"background-color: hsl(120, 100.00%, 91.44%); opacity: 0.82\" title=\"0.128\">more</span><span style=\"opacity: 0.80\"> </span><span style=\"background-color: hsl(0, 100.00%, 97.21%); opacity: 0.80\" title=\"-0.026\">on</span><span style=\"opacity: 0.80\"> </span><span style=\"background-color: hsl(120, 100.00%, 93.37%); opacity: 0.82\" title=\"0.089\">tarzan</span><span style=\"opacity: 0.80\">&#x27;s </span><span style=\"background-color: hsl(0, 100.00%, 85.29%); opacity: 0.85\" title=\"-0.278\">struggles</span><span style=\"opacity: 0.80\"> </span><span style=\"background-color: hsl(120, 100.00%, 98.82%); opacity: 0.80\" title=\"0.008\">in</span><span style=\"opacity: 0.80\"> </span><span style=\"background-color: hsl(120, 100.00%, 88.58%); opacity: 0.83\" title=\"0.194\">adapting</span><span style=\"opacity: 0.80\"> </span><span style=\"background-color: hsl(120, 100.00%, 98.14%); opacity: 0.80\" title=\"0.014\">to</span><span style=\"opacity: 0.80\"> </span><span style=\"background-color: hsl(0, 100.00%, 99.79%); opacity: 0.80\" title=\"-0.001\">civilization</span><span style=\"opacity: 0.80\"> </span><span style=\"background-color: hsl(120, 100.00%, 92.69%); opacity: 0.82\" title=\"0.102\">and</span><span style=\"opacity: 0.80\"> </span><span style=\"background-color: hsl(120, 100.00%, 93.57%); opacity: 0.81\" title=\"0.085\">his</span><span style=\"opacity: 0.80\"> </span><span style=\"background-color: hsl(0, 100.00%, 80.25%); opacity: 0.87\" title=\"-0.424\">inner</span><span style=\"opacity: 0.80\"> </span><span style=\"background-color: hsl(0, 100.00%, 81.91%); opacity: 0.86\" title=\"-0.374\">conflict</span><span style=\"opacity: 0.80\"> </span><span style=\"background-color: hsl(0, 100.00%, 96.78%); opacity: 0.81\" title=\"-0.032\">than</span><span style=\"opacity: 0.80\"> </span><span style=\"background-color: hsl(0, 100.00%, 97.21%); opacity: 0.80\" title=\"-0.026\">on</span><span style=\"opacity: 0.80\"> </span><span style=\"background-color: hsl(120, 100.00%, 93.57%); opacity: 0.81\" title=\"0.085\">his</span><span style=\"opacity: 0.80\"> </span><span style=\"background-color: hsl(0, 100.00%, 85.71%); opacity: 0.85\" title=\"-0.267\">jungle</span><span style=\"opacity: 0.80\"> </span><span style=\"background-color: hsl(0, 100.00%, 92.92%); opacity: 0.82\" title=\"-0.098\">exploits</span><span style=\"opacity: 0.80\">. </span><span style=\"background-color: hsl(0, 100.00%, 95.29%); opacity: 0.81\" title=\"-0.055\">this</span><span style=\"opacity: 0.80\"> </span><span style=\"background-color: hsl(120, 100.00%, 91.18%); opacity: 0.82\" title=\"0.134\">unusual</span><span style=\"opacity: 0.80\"> </span><span style=\"background-color: hsl(120, 100.00%, 88.06%); opacity: 0.84\" title=\"0.206\">take</span><span style=\"opacity: 0.80\"> </span><span style=\"background-color: hsl(0, 100.00%, 97.21%); opacity: 0.80\" title=\"-0.026\">on</span><span style=\"opacity: 0.80\"> </span><span style=\"background-color: hsl(120, 100.00%, 96.85%); opacity: 0.81\" title=\"0.031\">the</span><span style=\"opacity: 0.80\"> </span><span style=\"background-color: hsl(0, 100.00%, 96.81%); opacity: 0.81\" title=\"-0.031\">old</span><span style=\"opacity: 0.80\"> </span><span style=\"background-color: hsl(120, 100.00%, 79.12%); opacity: 0.88\" title=\"0.458\">classic</span><span style=\"opacity: 0.80\"> </span><span style=\"background-color: hsl(120, 100.00%, 85.17%); opacity: 0.85\" title=\"0.281\">makes</span><span style=\"opacity: 0.80\"> </span><span style=\"background-color: hsl(120, 100.00%, 89.60%); opacity: 0.83\" title=\"0.169\">it</span><span style=\"opacity: 0.80\"> </span><span style=\"background-color: hsl(120, 100.00%, 83.44%); opacity: 0.86\" title=\"0.329\">both</span><span style=\"opacity: 0.80\"> </span><span style=\"background-color: hsl(120, 100.00%, 96.85%); opacity: 0.81\" title=\"0.031\">the</span><span style=\"opacity: 0.80\"> </span><span style=\"background-color: hsl(0, 100.00%, 99.10%); opacity: 0.80\" title=\"-0.005\">typical</span><span style=\"opacity: 0.80\"> </span><span style=\"background-color: hsl(120, 100.00%, 87.48%); opacity: 0.84\" title=\"0.221\">dramatic</span><span style=\"opacity: 0.80\"> </span><span style=\"background-color: hsl(120, 100.00%, 82.67%); opacity: 0.86\" title=\"0.351\">adventure</span><span style=\"opacity: 0.80\"> </span><span style=\"background-color: hsl(0, 100.00%, 92.19%); opacity: 0.82\" title=\"-0.113\">but</span><span style=\"opacity: 0.80\"> </span><span style=\"background-color: hsl(120, 100.00%, 86.26%); opacity: 0.84\" title=\"0.252\">also</span><span style=\"opacity: 0.80\">, </span><span style=\"background-color: hsl(120, 100.00%, 81.52%); opacity: 0.87\" title=\"0.385\">above</span><span style=\"opacity: 0.80\"> </span><span style=\"background-color: hsl(0, 100.00%, 97.18%); opacity: 0.80\" title=\"-0.026\">all</span><span style=\"opacity: 0.80\">, a </span><span style=\"background-color: hsl(120, 100.00%, 69.74%); opacity: 0.93\" title=\"0.779\">moving</span><span style=\"opacity: 0.80\"> </span><span style=\"background-color: hsl(0, 100.00%, 84.97%); opacity: 0.85\" title=\"-0.287\">personal</span><span style=\"opacity: 0.80\"> </span><span style=\"background-color: hsl(0, 100.00%, 99.54%); opacity: 0.80\" title=\"-0.002\">story</span><span style=\"opacity: 0.80\">. i </span><span style=\"background-color: hsl(0, 100.00%, 87.57%); opacity: 0.84\" title=\"-0.218\">wasn</span><span style=\"opacity: 0.80\">&#x27;t </span><span style=\"background-color: hsl(120, 100.00%, 67.58%); opacity: 0.95\" title=\"0.860\">surprised</span><span style=\"opacity: 0.80\"> </span><span style=\"background-color: hsl(120, 100.00%, 98.14%); opacity: 0.80\" title=\"0.014\">to</span><span style=\"opacity: 0.80\"> </span><span style=\"background-color: hsl(0, 100.00%, 81.29%); opacity: 0.87\" title=\"-0.392\">note</span><span style=\"opacity: 0.80\"> </span><span style=\"background-color: hsl(0, 100.00%, 85.85%); opacity: 0.85\" title=\"-0.263\">here</span><span style=\"opacity: 0.80\"> </span><span style=\"background-color: hsl(120, 100.00%, 98.78%); opacity: 0.80\" title=\"0.008\">that</span><span style=\"opacity: 0.80\"> </span><span style=\"background-color: hsl(120, 100.00%, 94.61%); opacity: 0.81\" title=\"0.066\">its</span><span style=\"opacity: 0.80\"> </span><span style=\"background-color: hsl(0, 100.00%, 82.17%); opacity: 0.86\" title=\"-0.366\">director</span><span style=\"opacity: 0.80\"> </span><span style=\"background-color: hsl(120, 100.00%, 94.33%); opacity: 0.81\" title=\"0.071\">is</span><span style=\"opacity: 0.80\"> </span><span style=\"background-color: hsl(120, 100.00%, 96.85%); opacity: 0.81\" title=\"0.031\">the</span><span style=\"opacity: 0.80\"> </span><span style=\"background-color: hsl(0, 100.00%, 89.73%); opacity: 0.83\" title=\"-0.167\">same</span><span style=\"opacity: 0.80\"> </span><span style=\"background-color: hsl(120, 100.00%, 99.43%); opacity: 0.80\" title=\"0.003\">individual</span><span style=\"opacity: 0.80\">, </span><span style=\"background-color: hsl(0, 100.00%, 94.78%); opacity: 0.81\" title=\"-0.063\">hugh</span><span style=\"opacity: 0.80\"> </span><span style=\"background-color: hsl(120, 100.00%, 84.95%); opacity: 0.85\" title=\"0.287\">hudson</span><span style=\"opacity: 0.80\">, </span><span style=\"background-color: hsl(120, 100.00%, 88.28%); opacity: 0.83\" title=\"0.201\">who</span><span style=\"opacity: 0.80\"> </span><span style=\"background-color: hsl(120, 100.00%, 86.26%); opacity: 0.84\" title=\"0.252\">also</span><span style=\"opacity: 0.80\"> </span><span style=\"background-color: hsl(0, 100.00%, 75.60%); opacity: 0.90\" title=\"-0.573\">directed</span><span style=\"opacity: 0.80\"> </span><span style=\"background-color: hsl(0, 100.00%, 96.92%); opacity: 0.81\" title=\"-0.030\">chariots</span><span style=\"opacity: 0.80\"> </span><span style=\"background-color: hsl(0, 100.00%, 94.25%); opacity: 0.81\" title=\"-0.073\">of</span><span style=\"opacity: 0.80\"> </span><span style=\"background-color: hsl(0, 100.00%, 96.85%); opacity: 0.81\" title=\"-0.031\">fire</span><span style=\"opacity: 0.80\">, </span><span style=\"background-color: hsl(0, 100.00%, 94.14%); opacity: 0.81\" title=\"-0.075\">another</span><span style=\"opacity: 0.80\"> </span><span style=\"background-color: hsl(120, 100.00%, 64.07%); opacity: 0.97\" title=\"0.996\">brilliant</span><span style=\"opacity: 0.80\"> </span><span style=\"background-color: hsl(120, 100.00%, 96.55%); opacity: 0.81\" title=\"0.035\">movie</span><span style=\"opacity: 0.80\">.</span>\n",
       "    </p>\n",
       "\n",
       "\n",
       "    \n",
       "\n",
       "    \n",
       "\n",
       "    \n",
       "\n",
       "    \n",
       "\n",
       "\n",
       "    \n",
       "\n",
       "    \n",
       "\n",
       "    \n",
       "\n",
       "    \n",
       "\n",
       "    \n",
       "\n",
       "    \n",
       "\n",
       "\n",
       "    \n",
       "\n",
       "    \n",
       "\n",
       "    \n",
       "\n",
       "    \n",
       "\n",
       "    \n",
       "\n",
       "    \n",
       "\n",
       "\n",
       "\n"
      ],
      "text/plain": [
       "<IPython.core.display.HTML object>"
      ]
     },
     "execution_count": 15,
     "metadata": {},
     "output_type": "execute_result"
    }
   ],
   "source": [
    "print('Positive' if test_df['is_positive'].iloc[1] else 'Negative')\n",
    "eli5.show_prediction(classifier, test_df['review'].iloc[1], vec=vectorizer, \n",
    "                     targets=['positive'], target_names=['negative', 'positive'])"
   ]
  },
  {
   "cell_type": "code",
   "execution_count": null,
   "metadata": {
    "colab": {
     "base_uri": "https://localhost:8080/",
     "height": 311
    },
    "executionInfo": {
     "elapsed": 544,
     "status": "ok",
     "timestamp": 1655296581988,
     "user": {
      "displayName": "Дмитрий Яковлев",
      "userId": "04985982272505825493"
     },
     "user_tz": -420
    },
    "id": "AoZhtlYlW-xG",
    "outputId": "38e8632d-61fa-437e-c311-23b941305f92"
   },
   "outputs": [
    {
     "name": "stdout",
     "output_type": "stream",
     "text": [
      "Negative\n"
     ]
    },
    {
     "name": "stderr",
     "output_type": "stream",
     "text": [
      "/usr/local/lib/python3.7/dist-packages/sklearn/utils/deprecation.py:87: FutureWarning: Function get_feature_names is deprecated; get_feature_names is deprecated in 1.0 and will be removed in 1.2. Please use get_feature_names_out instead.\n",
      "  warnings.warn(msg, category=FutureWarning)\n"
     ]
    },
    {
     "data": {
      "text/html": [
       "\n",
       "    <style>\n",
       "    table.eli5-weights tr:hover {\n",
       "        filter: brightness(85%);\n",
       "    }\n",
       "</style>\n",
       "\n",
       "\n",
       "\n",
       "    \n",
       "\n",
       "    \n",
       "\n",
       "    \n",
       "\n",
       "    \n",
       "\n",
       "    \n",
       "\n",
       "    \n",
       "\n",
       "\n",
       "    \n",
       "\n",
       "    \n",
       "\n",
       "    \n",
       "\n",
       "    \n",
       "        \n",
       "\n",
       "    \n",
       "\n",
       "        \n",
       "\n",
       "        \n",
       "    \n",
       "        \n",
       "        \n",
       "    \n",
       "        <p style=\"margin-bottom: 0.5em; margin-top: 0em\">\n",
       "            <b>\n",
       "    \n",
       "        y=positive\n",
       "    \n",
       "</b>\n",
       "\n",
       "    \n",
       "    (probability <b>0.000</b>, score <b>-10.913</b>)\n",
       "\n",
       "top features\n",
       "        </p>\n",
       "    \n",
       "    <table class=\"eli5-weights\"\n",
       "           style=\"border-collapse: collapse; border: none; margin-top: 0em; table-layout: auto; margin-bottom: 2em;\">\n",
       "        <thead>\n",
       "        <tr style=\"border: none;\">\n",
       "            \n",
       "                <th style=\"padding: 0 1em 0 0.5em; text-align: right; border: none;\" title=\"Feature contribution already accounts for the feature value (for linear models, contribution = weight * feature value), and the sum of feature contributions is equal to the score or, for some classifiers, to the probability. Feature values are shown if &quot;show_feature_values&quot; is True.\">\n",
       "                    Contribution<sup>?</sup>\n",
       "                </th>\n",
       "            \n",
       "            <th style=\"padding: 0 0.5em 0 0.5em; text-align: left; border: none;\">Feature</th>\n",
       "            \n",
       "        </tr>\n",
       "        </thead>\n",
       "        <tbody>\n",
       "        \n",
       "        \n",
       "\n",
       "        \n",
       "        \n",
       "            <tr style=\"background-color: hsl(0, 100.00%, 99.79%); border: none;\">\n",
       "    <td style=\"padding: 0 1em 0 0.5em; text-align: right; border: none;\">\n",
       "        -0.016\n",
       "    </td>\n",
       "    <td style=\"padding: 0 0.5em 0 0.5em; text-align: left; border: none;\">\n",
       "        &lt;BIAS&gt;\n",
       "    </td>\n",
       "    \n",
       "</tr>\n",
       "        \n",
       "            <tr style=\"background-color: hsl(0, 100.00%, 80.00%); border: none;\">\n",
       "    <td style=\"padding: 0 1em 0 0.5em; text-align: right; border: none;\">\n",
       "        -10.897\n",
       "    </td>\n",
       "    <td style=\"padding: 0 0.5em 0 0.5em; text-align: left; border: none;\">\n",
       "        Highlighted in text (sum)\n",
       "    </td>\n",
       "    \n",
       "</tr>\n",
       "        \n",
       "\n",
       "        </tbody>\n",
       "    </table>\n",
       "\n",
       "    \n",
       "\n",
       "\n",
       "\n",
       "    <p style=\"margin-bottom: 2.5em; margin-top:-0.5em;\">\n",
       "        <span style=\"background-color: hsl(0, 100.00%, 95.90%); opacity: 0.81\" title=\"-0.055\">this</span><span style=\"opacity: 0.80\"> </span><span style=\"background-color: hsl(120, 100.00%, 96.99%); opacity: 0.80\" title=\"0.035\">movie</span><span style=\"opacity: 0.80\"> </span><span style=\"background-color: hsl(120, 100.00%, 95.07%); opacity: 0.81\" title=\"0.071\">is</span><span style=\"opacity: 0.80\"> </span><span style=\"background-color: hsl(0, 100.00%, 66.37%); opacity: 0.96\" title=\"-1.105\">terrible</span><span style=\"opacity: 0.80\">, </span><span style=\"background-color: hsl(120, 100.00%, 90.95%); opacity: 0.82\" title=\"0.169\">it</span><span style=\"opacity: 0.80\"> </span><span style=\"background-color: hsl(0, 100.00%, 97.04%); opacity: 0.80\" title=\"-0.034\">was</span><span style=\"opacity: 0.80\"> </span><span style=\"background-color: hsl(120, 100.00%, 95.56%); opacity: 0.81\" title=\"0.061\">so</span><span style=\"opacity: 0.80\"> </span><span style=\"background-color: hsl(0, 100.00%, 91.95%); opacity: 0.82\" title=\"-0.143\">difficult</span><span style=\"opacity: 0.80\"> </span><span style=\"background-color: hsl(120, 100.00%, 98.38%); opacity: 0.80\" title=\"0.014\">to</span><span style=\"opacity: 0.80\"> </span><span style=\"background-color: hsl(0, 100.00%, 94.12%); opacity: 0.81\" title=\"-0.092\">believe</span><span style=\"opacity: 0.80\"> </span><span style=\"background-color: hsl(120, 100.00%, 98.94%); opacity: 0.80\" title=\"0.008\">that</span><span style=\"opacity: 0.80\"> </span><span style=\"background-color: hsl(0, 100.00%, 80.46%); opacity: 0.87\" title=\"-0.509\">katie</span><span style=\"opacity: 0.80\"> </span><span style=\"background-color: hsl(120, 100.00%, 86.80%); opacity: 0.84\" title=\"0.291\">became</span><span style=\"opacity: 0.80\"> a </span><span style=\"background-color: hsl(120, 100.00%, 81.07%); opacity: 0.87\" title=\"0.486\">heartfelt</span><span style=\"opacity: 0.80\"> </span><span style=\"background-color: hsl(120, 100.00%, 93.45%); opacity: 0.82\" title=\"0.107\">teenager</span><span style=\"opacity: 0.80\"> </span><span style=\"background-color: hsl(120, 100.00%, 98.63%); opacity: 0.80\" title=\"0.011\">with</span><span style=\"opacity: 0.80\"> </span><span style=\"background-color: hsl(120, 100.00%, 97.26%); opacity: 0.80\" title=\"0.031\">the</span><span style=\"opacity: 0.80\"> </span><span style=\"background-color: hsl(0, 100.00%, 85.51%); opacity: 0.85\" title=\"-0.332\">power</span><span style=\"opacity: 0.80\"> </span><span style=\"background-color: hsl(120, 100.00%, 98.38%); opacity: 0.80\" title=\"0.014\">to</span><span style=\"opacity: 0.80\"> </span><span style=\"background-color: hsl(0, 100.00%, 60.00%); opacity: 1.00\" title=\"-1.416\">save</span><span style=\"opacity: 0.80\"> </span><span style=\"background-color: hsl(120, 100.00%, 97.26%); opacity: 0.80\" title=\"0.031\">the</span><span style=\"opacity: 0.80\"> </span><span style=\"background-color: hsl(120, 100.00%, 88.35%); opacity: 0.83\" title=\"0.243\">pity</span><span style=\"opacity: 0.80\"> </span><span style=\"background-color: hsl(120, 100.00%, 87.57%); opacity: 0.84\" title=\"0.267\">chinese</span><span style=\"opacity: 0.80\"> </span><span style=\"background-color: hsl(120, 100.00%, 94.82%); opacity: 0.81\" title=\"0.076\">people</span><span style=\"opacity: 0.80\">, </span><span style=\"background-color: hsl(120, 100.00%, 97.26%); opacity: 0.80\" title=\"0.031\">the</span><span style=\"opacity: 0.80\"> </span><span style=\"background-color: hsl(120, 100.00%, 96.99%); opacity: 0.80\" title=\"0.035\">movie</span><span style=\"opacity: 0.80\"> </span><span style=\"background-color: hsl(0, 100.00%, 87.88%); opacity: 0.84\" title=\"-0.257\">didn</span><span style=\"opacity: 0.80\">&#x27;t </span><span style=\"background-color: hsl(0, 100.00%, 96.02%); opacity: 0.81\" title=\"-0.052\">show</span><span style=\"opacity: 0.80\"> </span><span style=\"background-color: hsl(0, 100.00%, 92.13%); opacity: 0.82\" title=\"-0.139\">any</span><span style=\"opacity: 0.80\"> </span><span style=\"background-color: hsl(0, 100.00%, 87.70%); opacity: 0.84\" title=\"-0.263\">convincing</span><span style=\"opacity: 0.80\"> </span><span style=\"background-color: hsl(0, 100.00%, 95.57%); opacity: 0.81\" title=\"-0.061\">argument</span><span style=\"opacity: 0.80\"> </span><span style=\"background-color: hsl(120, 100.00%, 98.38%); opacity: 0.80\" title=\"0.014\">to</span><span style=\"opacity: 0.80\"> </span><span style=\"background-color: hsl(0, 100.00%, 83.43%); opacity: 0.86\" title=\"-0.402\">prove</span><span style=\"opacity: 0.80\"> </span><span style=\"background-color: hsl(120, 100.00%, 98.94%); opacity: 0.80\" title=\"0.008\">that</span><span style=\"opacity: 0.80\">. </span><span style=\"background-color: hsl(120, 100.00%, 93.64%); opacity: 0.81\" title=\"0.102\">and</span><span style=\"opacity: 0.80\"> </span><span style=\"background-color: hsl(120, 100.00%, 97.26%); opacity: 0.80\" title=\"0.031\">the</span><span style=\"opacity: 0.80\"> </span><span style=\"background-color: hsl(0, 100.00%, 88.51%); opacity: 0.83\" title=\"-0.238\">rest</span><span style=\"opacity: 0.80\"> </span><span style=\"background-color: hsl(0, 100.00%, 94.99%); opacity: 0.81\" title=\"-0.073\">of</span><span style=\"opacity: 0.80\"> </span><span style=\"background-color: hsl(120, 100.00%, 97.26%); opacity: 0.80\" title=\"0.031\">the</span><span style=\"opacity: 0.80\"> </span><span style=\"background-color: hsl(0, 100.00%, 88.23%); opacity: 0.83\" title=\"-0.247\">plot</span><span style=\"opacity: 0.80\"> </span><span style=\"background-color: hsl(0, 100.00%, 87.88%); opacity: 0.84\" title=\"-0.257\">didn</span><span style=\"opacity: 0.80\">&#x27;t </span><span style=\"background-color: hsl(0, 100.00%, 91.84%); opacity: 0.82\" title=\"-0.146\">make</span><span style=\"opacity: 0.80\"> </span><span style=\"background-color: hsl(0, 100.00%, 92.13%); opacity: 0.82\" title=\"-0.139\">any</span><span style=\"opacity: 0.80\"> </span><span style=\"background-color: hsl(0, 100.00%, 74.84%); opacity: 0.90\" title=\"-0.730\">effort</span><span style=\"opacity: 0.80\"> </span><span style=\"background-color: hsl(120, 100.00%, 98.38%); opacity: 0.80\" title=\"0.014\">to</span><span style=\"opacity: 0.80\"> </span><span style=\"background-color: hsl(0, 100.00%, 96.02%); opacity: 0.81\" title=\"-0.052\">show</span><span style=\"opacity: 0.80\"> </span><span style=\"background-color: hsl(120, 100.00%, 89.59%); opacity: 0.83\" title=\"0.207\">us</span><span style=\"opacity: 0.80\"> </span><span style=\"background-color: hsl(120, 100.00%, 92.55%); opacity: 0.82\" title=\"0.128\">more</span><span style=\"opacity: 0.80\"> </span><span style=\"background-color: hsl(0, 100.00%, 97.20%); opacity: 0.80\" title=\"-0.032\">than</span><span style=\"opacity: 0.80\"> a </span><span style=\"background-color: hsl(0, 100.00%, 74.55%); opacity: 0.90\" title=\"-0.742\">cheap</span><span style=\"opacity: 0.80\"> </span><span style=\"background-color: hsl(120, 100.00%, 82.93%); opacity: 0.86\" title=\"0.420\">common</span><span style=\"opacity: 0.80\"> </span><span style=\"background-color: hsl(120, 100.00%, 94.01%); opacity: 0.81\" title=\"0.094\">sense</span><span style=\"opacity: 0.80\">...   </span><span style=\"background-color: hsl(120, 100.00%, 97.26%); opacity: 0.80\" title=\"0.031\">the</span><span style=\"opacity: 0.80\"> </span><span style=\"background-color: hsl(0, 100.00%, 88.23%); opacity: 0.83\" title=\"-0.247\">plot</span><span style=\"opacity: 0.80\"> </span><span style=\"background-color: hsl(120, 100.00%, 95.07%); opacity: 0.81\" title=\"0.071\">is</span><span style=\"opacity: 0.80\"> </span><span style=\"background-color: hsl(0, 100.00%, 64.88%); opacity: 0.97\" title=\"-1.176\">ridiculous</span><span style=\"opacity: 0.80\"> </span><span style=\"background-color: hsl(120, 100.00%, 93.64%); opacity: 0.81\" title=\"0.102\">and</span><span style=\"opacity: 0.80\"> </span><span style=\"background-color: hsl(120, 100.00%, 97.26%); opacity: 0.80\" title=\"0.031\">the</span><span style=\"opacity: 0.80\"> </span><span style=\"background-color: hsl(0, 100.00%, 91.87%); opacity: 0.82\" title=\"-0.145\">only</span><span style=\"opacity: 0.80\"> </span><span style=\"background-color: hsl(120, 100.00%, 98.24%); opacity: 0.80\" title=\"0.016\">thing</span><span style=\"opacity: 0.80\"> </span><span style=\"background-color: hsl(120, 100.00%, 96.33%); opacity: 0.81\" title=\"0.047\">we</span><span style=\"opacity: 0.80\"> </span><span style=\"background-color: hsl(0, 100.00%, 97.42%); opacity: 0.80\" title=\"-0.028\">can</span><span style=\"opacity: 0.80\"> </span><span style=\"background-color: hsl(120, 100.00%, 93.45%); opacity: 0.82\" title=\"0.107\">extract</span><span style=\"opacity: 0.80\"> </span><span style=\"background-color: hsl(0, 100.00%, 98.50%); opacity: 0.80\" title=\"-0.013\">from</span><span style=\"opacity: 0.80\"> </span><span style=\"background-color: hsl(120, 100.00%, 90.95%); opacity: 0.82\" title=\"0.169\">it</span><span style=\"opacity: 0.80\"> </span><span style=\"background-color: hsl(120, 100.00%, 95.07%); opacity: 0.81\" title=\"0.071\">is</span><span style=\"opacity: 0.80\"> </span><span style=\"background-color: hsl(120, 100.00%, 98.94%); opacity: 0.80\" title=\"0.008\">that</span><span style=\"opacity: 0.80\"> </span><span style=\"background-color: hsl(120, 100.00%, 90.95%); opacity: 0.82\" title=\"0.169\">it</span><span style=\"opacity: 0.80\"> </span><span style=\"background-color: hsl(120, 100.00%, 91.50%); opacity: 0.82\" title=\"0.155\">demonstrate</span><span style=\"opacity: 0.80\"> </span><span style=\"background-color: hsl(0, 100.00%, 94.93%); opacity: 0.81\" title=\"-0.074\">how</span><span style=\"opacity: 0.80\"> </span><span style=\"background-color: hsl(0, 100.00%, 86.24%); opacity: 0.84\" title=\"-0.308\">arrogant</span><span style=\"opacity: 0.80\"> a </span><span style=\"background-color: hsl(120, 100.00%, 87.03%); opacity: 0.84\" title=\"0.283\">human</span><span style=\"opacity: 0.80\"> </span><span style=\"background-color: hsl(0, 100.00%, 97.42%); opacity: 0.80\" title=\"-0.028\">can</span><span style=\"opacity: 0.80\"> </span><span style=\"background-color: hsl(0, 100.00%, 94.01%); opacity: 0.81\" title=\"-0.094\">be</span><span style=\"opacity: 0.80\">. </span><span style=\"background-color: hsl(0, 100.00%, 80.46%); opacity: 0.87\" title=\"-0.509\">katie</span><span style=\"opacity: 0.80\"> </span><span style=\"background-color: hsl(120, 100.00%, 88.54%); opacity: 0.83\" title=\"0.237\">must</span><span style=\"opacity: 0.80\"> </span><span style=\"background-color: hsl(0, 100.00%, 96.41%); opacity: 0.81\" title=\"-0.045\">have</span><span style=\"opacity: 0.80\"> </span><span style=\"background-color: hsl(0, 100.00%, 91.45%); opacity: 0.82\" title=\"-0.156\">inherited</span><span style=\"opacity: 0.80\"> </span><span style=\"background-color: hsl(120, 100.00%, 98.79%); opacity: 0.80\" title=\"0.010\">her</span><span style=\"opacity: 0.80\"> </span><span style=\"background-color: hsl(0, 100.00%, 94.17%); opacity: 0.81\" title=\"-0.090\">arrogance</span><span style=\"opacity: 0.80\"> </span><span style=\"background-color: hsl(0, 100.00%, 98.50%); opacity: 0.80\" title=\"-0.013\">from</span><span style=\"opacity: 0.80\"> </span><span style=\"background-color: hsl(120, 100.00%, 98.79%); opacity: 0.80\" title=\"0.010\">her</span><span style=\"opacity: 0.80\"> </span><span style=\"background-color: hsl(0, 100.00%, 79.22%); opacity: 0.88\" title=\"-0.556\">mother</span><span style=\"opacity: 0.80\">, </span><span style=\"background-color: hsl(120, 100.00%, 97.26%); opacity: 0.80\" title=\"0.031\">the</span><span style=\"opacity: 0.80\"> </span><span style=\"background-color: hsl(120, 100.00%, 84.26%); opacity: 0.85\" title=\"0.374\">most</span><span style=\"opacity: 0.80\"> </span><span style=\"background-color: hsl(0, 100.00%, 63.78%); opacity: 0.97\" title=\"-1.229\">annoying</span><span style=\"opacity: 0.80\"> </span><span style=\"background-color: hsl(120, 100.00%, 96.33%); opacity: 0.81\" title=\"0.047\">character</span><span style=\"opacity: 0.80\"> i </span><span style=\"background-color: hsl(0, 100.00%, 96.41%); opacity: 0.81\" title=\"-0.045\">have</span><span style=\"opacity: 0.80\"> </span><span style=\"background-color: hsl(120, 100.00%, 90.54%); opacity: 0.83\" title=\"0.181\">seen</span><span style=\"opacity: 0.80\"> </span><span style=\"background-color: hsl(0, 100.00%, 93.37%); opacity: 0.82\" title=\"-0.109\">for</span><span style=\"opacity: 0.80\"> a </span><span style=\"background-color: hsl(0, 100.00%, 95.79%); opacity: 0.81\" title=\"-0.057\">long</span><span style=\"opacity: 0.80\"> </span><span style=\"background-color: hsl(120, 100.00%, 94.95%); opacity: 0.81\" title=\"0.074\">time</span><span style=\"opacity: 0.80\">.   </span><span style=\"background-color: hsl(120, 100.00%, 97.26%); opacity: 0.80\" title=\"0.031\">the</span><span style=\"opacity: 0.80\"> </span><span style=\"background-color: hsl(0, 100.00%, 92.40%); opacity: 0.82\" title=\"-0.132\">acting</span><span style=\"opacity: 0.80\"> </span><span style=\"background-color: hsl(120, 100.00%, 93.64%); opacity: 0.81\" title=\"0.102\">and</span><span style=\"opacity: 0.80\"> </span><span style=\"background-color: hsl(0, 100.00%, 85.07%); opacity: 0.85\" title=\"-0.346\">scenery</span><span style=\"opacity: 0.80\"> </span><span style=\"background-color: hsl(0, 100.00%, 88.60%); opacity: 0.83\" title=\"-0.236\">were</span><span style=\"opacity: 0.80\"> </span><span style=\"background-color: hsl(0, 100.00%, 84.22%); opacity: 0.85\" title=\"-0.375\">ok</span><span style=\"opacity: 0.80\">, </span><span style=\"background-color: hsl(0, 100.00%, 93.20%); opacity: 0.82\" title=\"-0.113\">but</span><span style=\"opacity: 0.80\"> </span><span style=\"background-color: hsl(120, 100.00%, 97.26%); opacity: 0.80\" title=\"0.031\">the</span><span style=\"opacity: 0.80\"> </span><span style=\"background-color: hsl(0, 100.00%, 88.23%); opacity: 0.83\" title=\"-0.247\">plot</span><span style=\"opacity: 0.80\"> </span><span style=\"background-color: hsl(0, 100.00%, 76.41%); opacity: 0.89\" title=\"-0.666\">ruins</span><span style=\"opacity: 0.80\"> </span><span style=\"background-color: hsl(120, 100.00%, 87.98%); opacity: 0.84\" title=\"0.254\">everything</span><span style=\"opacity: 0.80\">, </span><span style=\"background-color: hsl(120, 100.00%, 93.46%); opacity: 0.82\" title=\"0.107\">full</span><span style=\"opacity: 0.80\"> </span><span style=\"background-color: hsl(0, 100.00%, 94.99%); opacity: 0.81\" title=\"-0.073\">of</span><span style=\"opacity: 0.80\"> </span><span style=\"background-color: hsl(0, 100.00%, 74.55%); opacity: 0.90\" title=\"-0.742\">cheap</span><span style=\"opacity: 0.80\"> </span><span style=\"background-color: hsl(0, 100.00%, 86.90%); opacity: 0.84\" title=\"-0.287\">clichés</span><span style=\"opacity: 0.80\"> </span><span style=\"background-color: hsl(120, 100.00%, 93.64%); opacity: 0.81\" title=\"0.102\">and</span><span style=\"opacity: 0.80\"> </span><span style=\"background-color: hsl(0, 100.00%, 89.67%); opacity: 0.83\" title=\"-0.205\">hypocritical</span><span style=\"opacity: 0.80\"> </span><span style=\"background-color: hsl(0, 100.00%, 89.21%); opacity: 0.83\" title=\"-0.218\">scenes</span><span style=\"opacity: 0.80\">, i </span><span style=\"background-color: hsl(120, 100.00%, 87.86%); opacity: 0.84\" title=\"0.258\">expect</span><span style=\"opacity: 0.80\"> </span><span style=\"background-color: hsl(0, 100.00%, 89.25%); opacity: 0.83\" title=\"-0.217\">not</span><span style=\"opacity: 0.80\"> </span><span style=\"background-color: hsl(120, 100.00%, 98.38%); opacity: 0.80\" title=\"0.014\">to</span><span style=\"opacity: 0.80\"> </span><span style=\"background-color: hsl(120, 100.00%, 91.33%); opacity: 0.82\" title=\"0.159\">see</span><span style=\"opacity: 0.80\"> </span><span style=\"background-color: hsl(0, 100.00%, 95.90%); opacity: 0.81\" title=\"-0.055\">this</span><span style=\"opacity: 0.80\"> </span><span style=\"background-color: hsl(120, 100.00%, 96.99%); opacity: 0.80\" title=\"0.035\">movie</span><span style=\"opacity: 0.80\"> </span><span style=\"background-color: hsl(120, 100.00%, 94.60%); opacity: 0.81\" title=\"0.081\">again</span><span style=\"opacity: 0.80\"> </span><span style=\"background-color: hsl(120, 100.00%, 98.98%); opacity: 0.80\" title=\"0.008\">in</span><span style=\"opacity: 0.80\"> </span><span style=\"background-color: hsl(120, 100.00%, 93.54%); opacity: 0.81\" title=\"0.105\">my</span><span style=\"opacity: 0.80\"> </span><span style=\"background-color: hsl(120, 100.00%, 90.84%); opacity: 0.82\" title=\"0.172\">life</span><span style=\"opacity: 0.80\">. </span><span style=\"background-color: hsl(0, 100.00%, 66.28%); opacity: 0.96\" title=\"-1.110\">skip</span><span style=\"opacity: 0.80\"> </span><span style=\"background-color: hsl(0, 100.00%, 95.90%); opacity: 0.81\" title=\"-0.055\">this</span><span style=\"opacity: 0.80\"> </span><span style=\"background-color: hsl(0, 100.00%, 93.87%); opacity: 0.81\" title=\"-0.097\">one</span><span style=\"opacity: 0.80\">!</span>\n",
       "    </p>\n",
       "\n",
       "\n",
       "    \n",
       "\n",
       "    \n",
       "\n",
       "    \n",
       "\n",
       "    \n",
       "\n",
       "\n",
       "    \n",
       "\n",
       "    \n",
       "\n",
       "    \n",
       "\n",
       "    \n",
       "\n",
       "    \n",
       "\n",
       "    \n",
       "\n",
       "\n",
       "    \n",
       "\n",
       "    \n",
       "\n",
       "    \n",
       "\n",
       "    \n",
       "\n",
       "    \n",
       "\n",
       "    \n",
       "\n",
       "\n",
       "\n"
      ],
      "text/plain": [
       "<IPython.core.display.HTML object>"
      ]
     },
     "execution_count": 16,
     "metadata": {},
     "output_type": "execute_result"
    }
   ],
   "source": [
    "print('Positive' if test_df['is_positive'].iloc[6] else 'Negative')\n",
    "eli5.show_prediction(classifier, test_df['review'].iloc[6], vec=vectorizer, \n",
    "                     targets=['positive'], target_names=['negative', 'positive'])"
   ]
  },
  {
   "cell_type": "markdown",
   "metadata": {
    "id": "UNNUqZvplhAC"
   },
   "source": [
    "Посмотрим на примеры неправильной классификации, наконец:"
   ]
  },
  {
   "cell_type": "code",
   "execution_count": null,
   "metadata": {
    "colab": {
     "base_uri": "https://localhost:8080/",
     "height": 225
    },
    "id": "yf9ZzS8fXKFm",
    "outputId": "3d3227f5-149b-46e9-be81-41e0ce29327b"
   },
   "outputs": [
    {
     "name": "stderr",
     "output_type": "stream",
     "text": [
      "/usr/local/lib/python3.7/dist-packages/sklearn/utils/deprecation.py:87: FutureWarning: Function get_feature_names is deprecated; get_feature_names is deprecated in 1.0 and will be removed in 1.2. Please use get_feature_names_out instead.\n",
      "  warnings.warn(msg, category=FutureWarning)\n"
     ]
    },
    {
     "data": {
      "text/html": [
       "\n",
       "    <style>\n",
       "    table.eli5-weights tr:hover {\n",
       "        filter: brightness(85%);\n",
       "    }\n",
       "</style>\n",
       "\n",
       "\n",
       "\n",
       "    \n",
       "\n",
       "    \n",
       "\n",
       "    \n",
       "\n",
       "    \n",
       "\n",
       "    \n",
       "\n",
       "    \n",
       "\n",
       "\n",
       "    \n",
       "\n",
       "    \n",
       "\n",
       "    \n",
       "\n",
       "    \n",
       "        \n",
       "\n",
       "    \n",
       "\n",
       "        \n",
       "\n",
       "        \n",
       "    \n",
       "        \n",
       "        \n",
       "    \n",
       "        <p style=\"margin-bottom: 0.5em; margin-top: 0em\">\n",
       "            <b>\n",
       "    \n",
       "        y=positive\n",
       "    \n",
       "</b>\n",
       "\n",
       "    \n",
       "    (probability <b>0.644</b>, score <b>0.592</b>)\n",
       "\n",
       "top features\n",
       "        </p>\n",
       "    \n",
       "    <table class=\"eli5-weights\"\n",
       "           style=\"border-collapse: collapse; border: none; margin-top: 0em; table-layout: auto; margin-bottom: 2em;\">\n",
       "        <thead>\n",
       "        <tr style=\"border: none;\">\n",
       "            \n",
       "                <th style=\"padding: 0 1em 0 0.5em; text-align: right; border: none;\" title=\"Feature contribution already accounts for the feature value (for linear models, contribution = weight * feature value), and the sum of feature contributions is equal to the score or, for some classifiers, to the probability. Feature values are shown if &quot;show_feature_values&quot; is True.\">\n",
       "                    Contribution<sup>?</sup>\n",
       "                </th>\n",
       "            \n",
       "            <th style=\"padding: 0 0.5em 0 0.5em; text-align: left; border: none;\">Feature</th>\n",
       "            \n",
       "        </tr>\n",
       "        </thead>\n",
       "        <tbody>\n",
       "        \n",
       "            <tr style=\"background-color: hsl(120, 100.00%, 80.00%); border: none;\">\n",
       "    <td style=\"padding: 0 1em 0 0.5em; text-align: right; border: none;\">\n",
       "        +0.608\n",
       "    </td>\n",
       "    <td style=\"padding: 0 0.5em 0 0.5em; text-align: left; border: none;\">\n",
       "        Highlighted in text (sum)\n",
       "    </td>\n",
       "    \n",
       "</tr>\n",
       "        \n",
       "        \n",
       "\n",
       "        \n",
       "        \n",
       "            <tr style=\"background-color: hsl(0, 100.00%, 98.40%); border: none;\">\n",
       "    <td style=\"padding: 0 1em 0 0.5em; text-align: right; border: none;\">\n",
       "        -0.016\n",
       "    </td>\n",
       "    <td style=\"padding: 0 0.5em 0 0.5em; text-align: left; border: none;\">\n",
       "        &lt;BIAS&gt;\n",
       "    </td>\n",
       "    \n",
       "</tr>\n",
       "        \n",
       "\n",
       "        </tbody>\n",
       "    </table>\n",
       "\n",
       "    \n",
       "\n",
       "\n",
       "\n",
       "    <p style=\"margin-bottom: 2.5em; margin-top:-0.5em;\">\n",
       "        <span style=\"background-color: hsl(120, 100.00%, 88.25%); opacity: 0.83\" title=\"0.184\">yet</span><span style=\"opacity: 0.80\"> </span><span style=\"background-color: hsl(0, 100.00%, 93.74%); opacity: 0.81\" title=\"-0.075\">another</span><span style=\"opacity: 0.80\"> &quot;</span><span style=\"background-color: hsl(0, 100.00%, 82.78%); opacity: 0.86\" title=\"-0.317\">gay</span><span style=\"opacity: 0.80\">&quot; </span><span style=\"background-color: hsl(120, 100.00%, 92.20%); opacity: 0.82\" title=\"0.102\">film</span><span style=\"opacity: 0.80\"> </span><span style=\"background-color: hsl(0, 100.00%, 71.18%); opacity: 0.93\" title=\"-0.662\">ruined</span><span style=\"opacity: 0.80\"> </span><span style=\"background-color: hsl(0, 100.00%, 93.55%); opacity: 0.81\" title=\"-0.078\">by</span><span style=\"opacity: 0.80\"> </span><span style=\"background-color: hsl(120, 100.00%, 91.21%); opacity: 0.82\" title=\"0.121\">asinine</span><span style=\"opacity: 0.80\"> </span><span style=\"background-color: hsl(0, 100.00%, 97.30%); opacity: 0.80\" title=\"-0.022\">politics</span><span style=\"opacity: 0.80\">. </span><span style=\"background-color: hsl(0, 100.00%, 89.55%); opacity: 0.83\" title=\"-0.155\">luigi</span><span style=\"opacity: 0.80\">&#x27;s </span><span style=\"background-color: hsl(120, 100.00%, 91.42%); opacity: 0.82\" title=\"0.117\">final</span><span style=\"opacity: 0.80\"> </span><span style=\"background-color: hsl(120, 100.00%, 92.49%); opacity: 0.82\" title=\"0.097\">speech</span><span style=\"opacity: 0.80\"> </span><span style=\"background-color: hsl(0, 100.00%, 83.19%); opacity: 0.86\" title=\"-0.306\">just</span><span style=\"opacity: 0.80\"> </span><span style=\"background-color: hsl(0, 100.00%, 98.37%); opacity: 0.80\" title=\"-0.011\">about</span><span style=\"opacity: 0.80\"> </span><span style=\"background-color: hsl(120, 100.00%, 60.00%); opacity: 1.00\" title=\"1.057\">sent</span><span style=\"opacity: 0.80\"> </span><span style=\"background-color: hsl(120, 100.00%, 95.52%); opacity: 0.81\" title=\"0.046\">me</span><span style=\"opacity: 0.80\"> </span><span style=\"background-color: hsl(120, 100.00%, 98.24%); opacity: 0.80\" title=\"0.012\">running</span><span style=\"opacity: 0.80\"> </span><span style=\"background-color: hsl(120, 100.00%, 94.10%); opacity: 0.81\" title=\"0.069\">out</span><span style=\"opacity: 0.80\"> </span><span style=\"background-color: hsl(0, 100.00%, 93.86%); opacity: 0.81\" title=\"-0.073\">of</span><span style=\"opacity: 0.80\"> </span><span style=\"background-color: hsl(120, 100.00%, 96.63%); opacity: 0.81\" title=\"0.031\">the</span><span style=\"opacity: 0.80\"> </span><span style=\"background-color: hsl(0, 100.00%, 88.19%); opacity: 0.84\" title=\"-0.185\">theatre</span><span style=\"opacity: 0.80\"> </span><span style=\"background-color: hsl(120, 100.00%, 98.32%); opacity: 0.80\" title=\"0.011\">with</span><span style=\"opacity: 0.80\"> </span><span style=\"background-color: hsl(120, 100.00%, 94.25%); opacity: 0.81\" title=\"0.066\">its</span><span style=\"opacity: 0.80\"> </span><span style=\"background-color: hsl(120, 100.00%, 96.73%); opacity: 0.81\" title=\"0.030\">bumper</span><span style=\"opacity: 0.80\">-</span><span style=\"background-color: hsl(120, 100.00%, 97.65%); opacity: 0.80\" title=\"0.018\">sticker</span><span style=\"opacity: 0.80\"> </span><span style=\"background-color: hsl(120, 100.00%, 95.50%); opacity: 0.81\" title=\"0.047\">epigrams</span><span style=\"opacity: 0.80\">. </span><span style=\"background-color: hsl(0, 100.00%, 86.63%); opacity: 0.84\" title=\"-0.221\">read</span><span style=\"opacity: 0.80\"> </span><span style=\"background-color: hsl(120, 100.00%, 96.63%); opacity: 0.81\" title=\"0.031\">the</span><span style=\"opacity: 0.80\"> </span><span style=\"background-color: hsl(120, 100.00%, 91.51%); opacity: 0.82\" title=\"0.115\">comic</span><span style=\"opacity: 0.80\"> </span><span style=\"background-color: hsl(0, 100.00%, 80.95%); opacity: 0.87\" title=\"-0.366\">book</span><span style=\"opacity: 0.80\"> </span><span style=\"background-color: hsl(120, 100.00%, 88.89%); opacity: 0.83\" title=\"0.169\">it</span><span style=\"opacity: 0.80\"> </span><span style=\"background-color: hsl(0, 100.00%, 96.37%); opacity: 0.81\" title=\"-0.034\">was</span><span style=\"opacity: 0.80\"> </span><span style=\"background-color: hsl(120, 100.00%, 87.17%); opacity: 0.84\" title=\"0.208\">based</span><span style=\"opacity: 0.80\"> </span><span style=\"background-color: hsl(0, 100.00%, 97.02%); opacity: 0.80\" title=\"-0.026\">on</span><span style=\"opacity: 0.80\"> </span><span style=\"background-color: hsl(0, 100.00%, 91.86%); opacity: 0.82\" title=\"-0.109\">for</span><span style=\"opacity: 0.80\"> a </span><span style=\"background-color: hsl(0, 100.00%, 88.28%); opacity: 0.83\" title=\"-0.183\">much</span><span style=\"opacity: 0.80\"> </span><span style=\"background-color: hsl(120, 100.00%, 90.86%); opacity: 0.82\" title=\"0.128\">more</span><span style=\"opacity: 0.80\"> </span><span style=\"background-color: hsl(120, 100.00%, 69.17%); opacity: 0.94\" title=\"0.728\">entertaining</span><span style=\"opacity: 0.80\"> </span><span style=\"background-color: hsl(120, 100.00%, 95.73%); opacity: 0.81\" title=\"0.043\">experience</span><span style=\"opacity: 0.80\">.</span>\n",
       "    </p>\n",
       "\n",
       "\n",
       "    \n",
       "\n",
       "    \n",
       "\n",
       "    \n",
       "\n",
       "    \n",
       "\n",
       "\n",
       "    \n",
       "\n",
       "    \n",
       "\n",
       "    \n",
       "\n",
       "    \n",
       "\n",
       "    \n",
       "\n",
       "    \n",
       "\n",
       "\n",
       "    \n",
       "\n",
       "    \n",
       "\n",
       "    \n",
       "\n",
       "    \n",
       "\n",
       "    \n",
       "\n",
       "    \n",
       "\n",
       "\n",
       "\n"
      ],
      "text/plain": [
       "<IPython.core.display.HTML object>"
      ]
     },
     "execution_count": 18,
     "metadata": {},
     "output_type": "execute_result"
    }
   ],
   "source": [
    "import numpy as np\n",
    "\n",
    "preds = model.predict(test_df['review'])\n",
    "incorrect_pred_index = np.random.choice(np.where(preds != test_df['is_positive'])[0])\n",
    "\n",
    "eli5.show_prediction(classifier, test_df['review'].iloc[incorrect_pred_index],\n",
    "                     vec=vectorizer, targets=['positive'], target_names=['negative', 'positive'])"
   ]
  },
  {
   "cell_type": "markdown",
   "metadata": {
    "id": "ZbFXKNrngP46"
   },
   "source": [
    "## Придумываем новые признаки"
   ]
  },
  {
   "cell_type": "markdown",
   "metadata": {
    "id": "dz7GSFzIlv4V"
   },
   "source": [
    "### Tf-idf\n",
    "\n",
    "Сейчас мы на все слова смотрим с одинаковым весом - хотя какие-то из них более редкие, какие-то более частые, и эта частотность - полезная, вообще говоря, информация.\n",
    "\n",
    "Самый простой способ добавить статистическую информацию о частотностях - сделать *tf-idf* взвешивание:\n",
    "\n",
    "$$\\text{tf-idf}(t, d) = \\text{tf}(t, d) \\times \\text{idf}(t)$$\n",
    "\n",
    "*tf* - term-frequency - частотность слова `t` в конкретном документе `d` (рецензии в нашем случае). Это ровно то, что мы уже считали.\n",
    "\n",
    "*idf* - inverse document-frequency - коэффициент, который тем больше, чем в меньшем числе документов встречалось данное слово. Считается как-нибудь так:\n",
    "$$\\text{idf}(t) = \\text{log}\\frac{1 + n_d}{1 + n_{d(t)}} + 1$$\n",
    "где $n_d$ - число всех документов, а $n_{d(t)}$ - число документов со словом `t`.\n",
    "\n",
    "Использовать его просто - нужно заменить `CountVectorizer` на `TfidfVectorizer`.\n",
    "\n",
    "**Задание** Попробуйте запустить `TfidfVectorizer`. Посмотрите на ошибки, которые он научился исправлять, и на ошибки, которые он начал делать - по сравнению с `CountVectorizer`."
   ]
  },
  {
   "cell_type": "code",
   "execution_count": null,
   "metadata": {
    "colab": {
     "base_uri": "https://localhost:8080/"
    },
    "executionInfo": {
     "elapsed": 13922,
     "status": "ok",
     "timestamp": 1655300705521,
     "user": {
      "displayName": "Дмитрий Яковлев",
      "userId": "04985982272505825493"
     },
     "user_tz": -420
    },
    "id": "p3DjjiJglvT3",
    "outputId": "8fc5e641-8b1b-4280-fb9e-cf79526285cb"
   },
   "outputs": [
    {
     "name": "stdout",
     "output_type": "stream",
     "text": [
      "Test accuracy = 88.28%\n"
     ]
    }
   ],
   "source": [
    "from sklearn.feature_extraction.text import TfidfVectorizer\n",
    "\n",
    "vectorizer = TfidfVectorizer()\n",
    "classifier = LogisticRegression()\n",
    "\n",
    "model = Pipeline([\n",
    "    ('vectorizer', vectorizer),\n",
    "    ('classifier', classifier)\n",
    "])\n",
    "\n",
    "model.fit(train_df['review'], train_df['is_positive'])\n",
    "\n",
    "eval_model(model, test_df)"
   ]
  },
  {
   "cell_type": "markdown",
   "metadata": {
    "id": "Xe_CJxQ0tFP9"
   },
   "source": [
    "### N-граммы слов\n",
    "\n",
    "До сих пор мы смотрели на тексты как на мешок слов - но очевидно, что есть разница между `good movie` и `not good movie`.\n",
    "\n",
    "Добавим информацию (хоть какую-то) о последовательностях слов - будем извлекать еще и биграммы слов.\n",
    "\n",
    "В Vectorizer'ах для этого есть параметр `ngram_range=(n_1, n_2)` - он говорит, что нужны n_1-...n_2-граммы.\n",
    "\n",
    "**Задание** Попробуйте увеличенный range и поинтерпретируйте полученный результат."
   ]
  },
  {
   "cell_type": "code",
   "execution_count": null,
   "metadata": {
    "colab": {
     "base_uri": "https://localhost:8080/"
    },
    "executionInfo": {
     "elapsed": 39322,
     "status": "ok",
     "timestamp": 1655300744807,
     "user": {
      "displayName": "Дмитрий Яковлев",
      "userId": "04985982272505825493"
     },
     "user_tz": -420
    },
    "id": "RDpdrT0HuKYN",
    "outputId": "ea6a4db2-c26b-47e1-f961-f471fb9d2082"
   },
   "outputs": [
    {
     "name": "stdout",
     "output_type": "stream",
     "text": [
      "Test accuracy = 88.64%\n"
     ]
    }
   ],
   "source": [
    "vectorizer = TfidfVectorizer(ngram_range=(1, 2))\n",
    "classifier = LogisticRegression()\n",
    "\n",
    "model = Pipeline([\n",
    "    ('vectorizer', vectorizer),\n",
    "    ('classifier', classifier)\n",
    "])\n",
    "\n",
    "model.fit(train_df['review'], train_df['is_positive'])\n",
    "\n",
    "eval_model(model, test_df)"
   ]
  },
  {
   "cell_type": "markdown",
   "metadata": {
    "id": "YrBoThj6wl2F"
   },
   "source": [
    "### N-граммы символов\n",
    "\n",
    "Символьные n-граммы дают простой способ выучить полезные корни и суффиксы, не связываясь с этой вашей лингвистикой - только статистика, только хардкор.\n",
    "\n",
    "Например, слово `badass` мы можем представить в виде такой последовательности триграмм:\n",
    "\n",
    "`##b #ba bad ada das ass ss# s##`\n",
    "\n",
    "So interpretable, неправда ли?\n",
    "\n",
    "Реализовать это дело всё так же просто - нужно поставить `analyzer='char'` в вашем любимом Vectorizer'е и выбрать размер `ngram_range`.\n",
    "\n",
    "**Задание** Запилите классификатор на n-граммах символов и визуализируйте его."
   ]
  },
  {
   "cell_type": "code",
   "execution_count": null,
   "metadata": {
    "colab": {
     "base_uri": "https://localhost:8080/"
    },
    "executionInfo": {
     "elapsed": 236633,
     "status": "ok",
     "timestamp": 1655300981422,
     "user": {
      "displayName": "Дмитрий Яковлев",
      "userId": "04985982272505825493"
     },
     "user_tz": -420
    },
    "id": "QFaWmUrGyY3n",
    "outputId": "24ee9084-e3af-4c86-c524-9c8d6ad75af2"
   },
   "outputs": [
    {
     "name": "stderr",
     "output_type": "stream",
     "text": [
      "/usr/local/lib/python3.7/dist-packages/sklearn/linear_model/_logistic.py:818: ConvergenceWarning: lbfgs failed to converge (status=1):\n",
      "STOP: TOTAL NO. of ITERATIONS REACHED LIMIT.\n",
      "\n",
      "Increase the number of iterations (max_iter) or scale the data as shown in:\n",
      "    https://scikit-learn.org/stable/modules/preprocessing.html\n",
      "Please also refer to the documentation for alternative solver options:\n",
      "    https://scikit-learn.org/stable/modules/linear_model.html#logistic-regression\n",
      "  extra_warning_msg=_LOGISTIC_SOLVER_CONVERGENCE_MSG,\n"
     ]
    },
    {
     "name": "stdout",
     "output_type": "stream",
     "text": [
      "Test accuracy = 87.86%\n"
     ]
    }
   ],
   "source": [
    "vectorizer = TfidfVectorizer(ngram_range=(2, 6), max_features=20000, analyzer='char')\n",
    "classifier = LogisticRegression()\n",
    "\n",
    "model = Pipeline([\n",
    "    ('vectorizer', vectorizer),\n",
    "    ('classifier', classifier)\n",
    "])\n",
    "\n",
    "model.fit(train_df['review'], train_df['is_positive'])\n",
    "\n",
    "eval_model(model, test_df)"
   ]
  },
  {
   "cell_type": "code",
   "execution_count": null,
   "metadata": {
    "colab": {
     "base_uri": "https://localhost:8080/",
     "height": 450
    },
    "executionInfo": {
     "elapsed": 912,
     "status": "ok",
     "timestamp": 1655301064079,
     "user": {
      "displayName": "Дмитрий Яковлев",
      "userId": "04985982272505825493"
     },
     "user_tz": -420
    },
    "id": "9E1E1Bn8yvhq",
    "outputId": "82186b32-6a8a-4b59-d438-6f2425d88af9"
   },
   "outputs": [
    {
     "name": "stdout",
     "output_type": "stream",
     "text": [
      "Positive\n"
     ]
    },
    {
     "name": "stderr",
     "output_type": "stream",
     "text": [
      "/usr/local/lib/python3.7/dist-packages/sklearn/utils/deprecation.py:87: FutureWarning: Function get_feature_names is deprecated; get_feature_names is deprecated in 1.0 and will be removed in 1.2. Please use get_feature_names_out instead.\n",
      "  warnings.warn(msg, category=FutureWarning)\n"
     ]
    },
    {
     "data": {
      "text/html": [
       "\n",
       "    <style>\n",
       "    table.eli5-weights tr:hover {\n",
       "        filter: brightness(85%);\n",
       "    }\n",
       "</style>\n",
       "\n",
       "\n",
       "\n",
       "    \n",
       "\n",
       "    \n",
       "\n",
       "    \n",
       "\n",
       "    \n",
       "\n",
       "    \n",
       "\n",
       "    \n",
       "\n",
       "\n",
       "    \n",
       "\n",
       "    \n",
       "\n",
       "    \n",
       "\n",
       "    \n",
       "        \n",
       "\n",
       "    \n",
       "\n",
       "        \n",
       "\n",
       "        \n",
       "    \n",
       "        \n",
       "        \n",
       "    \n",
       "        <p style=\"margin-bottom: 0.5em; margin-top: 0em\">\n",
       "            <b>\n",
       "    \n",
       "        y=positive\n",
       "    \n",
       "</b>\n",
       "\n",
       "    \n",
       "    (probability <b>0.962</b>, score <b>3.245</b>)\n",
       "\n",
       "top features\n",
       "        </p>\n",
       "    \n",
       "    <table class=\"eli5-weights\"\n",
       "           style=\"border-collapse: collapse; border: none; margin-top: 0em; table-layout: auto; margin-bottom: 2em;\">\n",
       "        <thead>\n",
       "        <tr style=\"border: none;\">\n",
       "            \n",
       "                <th style=\"padding: 0 1em 0 0.5em; text-align: right; border: none;\" title=\"Feature contribution already accounts for the feature value (for linear models, contribution = weight * feature value), and the sum of feature contributions is equal to the score or, for some classifiers, to the probability. Feature values are shown if &quot;show_feature_values&quot; is True.\">\n",
       "                    Contribution<sup>?</sup>\n",
       "                </th>\n",
       "            \n",
       "            <th style=\"padding: 0 0.5em 0 0.5em; text-align: left; border: none;\">Feature</th>\n",
       "            \n",
       "        </tr>\n",
       "        </thead>\n",
       "        <tbody>\n",
       "        \n",
       "            <tr style=\"background-color: hsl(120, 100.00%, 80.00%); border: none;\">\n",
       "    <td style=\"padding: 0 1em 0 0.5em; text-align: right; border: none;\">\n",
       "        +3.195\n",
       "    </td>\n",
       "    <td style=\"padding: 0 0.5em 0 0.5em; text-align: left; border: none;\">\n",
       "        Highlighted in text (sum)\n",
       "    </td>\n",
       "    \n",
       "</tr>\n",
       "        \n",
       "            <tr style=\"background-color: hsl(120, 100.00%, 98.91%); border: none;\">\n",
       "    <td style=\"padding: 0 1em 0 0.5em; text-align: right; border: none;\">\n",
       "        +0.050\n",
       "    </td>\n",
       "    <td style=\"padding: 0 0.5em 0 0.5em; text-align: left; border: none;\">\n",
       "        &lt;BIAS&gt;\n",
       "    </td>\n",
       "    \n",
       "</tr>\n",
       "        \n",
       "        \n",
       "\n",
       "        \n",
       "        \n",
       "\n",
       "        </tbody>\n",
       "    </table>\n",
       "\n",
       "    \n",
       "\n",
       "\n",
       "\n",
       "    <p style=\"margin-bottom: 2.5em; margin-top:-0.5em;\">\n",
       "        <span style=\"background-color: hsl(0, 100.00%, 94.93%); opacity: 0.81\" title=\"-0.002\">t</span><span style=\"background-color: hsl(120, 100.00%, 98.16%); opacity: 0.80\" title=\"0.000\">h</span><span style=\"background-color: hsl(120, 100.00%, 92.76%); opacity: 0.82\" title=\"0.003\">i</span><span style=\"background-color: hsl(120, 100.00%, 86.80%); opacity: 0.84\" title=\"0.007\">s</span><span style=\"background-color: hsl(120, 100.00%, 81.04%); opacity: 0.87\" title=\"0.011\"> </span><span style=\"background-color: hsl(120, 100.00%, 83.93%); opacity: 0.85\" title=\"0.009\">i</span><span style=\"background-color: hsl(120, 100.00%, 89.70%); opacity: 0.83\" title=\"0.005\">s</span><span style=\"background-color: hsl(120, 100.00%, 92.26%); opacity: 0.82\" title=\"0.003\"> </span><span style=\"background-color: hsl(120, 100.00%, 92.75%); opacity: 0.82\" title=\"0.003\">b</span><span style=\"background-color: hsl(120, 100.00%, 86.27%); opacity: 0.84\" title=\"0.007\">o</span><span style=\"background-color: hsl(120, 100.00%, 81.77%); opacity: 0.87\" title=\"0.011\">t</span><span style=\"background-color: hsl(120, 100.00%, 81.37%); opacity: 0.87\" title=\"0.011\">h</span><span style=\"background-color: hsl(120, 100.00%, 83.22%); opacity: 0.86\" title=\"0.009\"> </span><span style=\"background-color: hsl(120, 100.00%, 91.76%); opacity: 0.82\" title=\"0.003\">a</span><span style=\"background-color: hsl(120, 100.00%, 89.80%); opacity: 0.83\" title=\"0.005\">n</span><span style=\"background-color: hsl(120, 100.00%, 87.11%); opacity: 0.84\" title=\"0.006\"> </span><span style=\"background-color: hsl(120, 100.00%, 82.60%); opacity: 0.86\" title=\"0.010\">e</span><span style=\"background-color: hsl(120, 100.00%, 83.40%); opacity: 0.86\" title=\"0.009\">n</span><span style=\"background-color: hsl(120, 100.00%, 87.89%); opacity: 0.84\" title=\"0.006\">t</span><span style=\"background-color: hsl(120, 100.00%, 83.18%); opacity: 0.86\" title=\"0.009\">e</span><span style=\"background-color: hsl(120, 100.00%, 75.75%); opacity: 0.90\" title=\"0.016\">r</span><span style=\"background-color: hsl(120, 100.00%, 73.19%); opacity: 0.91\" title=\"0.018\">t</span><span style=\"background-color: hsl(120, 100.00%, 76.27%); opacity: 0.89\" title=\"0.016\">a</span><span style=\"background-color: hsl(120, 100.00%, 79.55%); opacity: 0.88\" title=\"0.013\">i</span><span style=\"background-color: hsl(120, 100.00%, 82.18%); opacity: 0.86\" title=\"0.010\">n</span><span style=\"background-color: hsl(120, 100.00%, 88.42%); opacity: 0.83\" title=\"0.006\">i</span><span style=\"background-color: hsl(120, 100.00%, 96.38%); opacity: 0.81\" title=\"0.001\">n</span><span style=\"background-color: hsl(120, 100.00%, 97.01%); opacity: 0.80\" title=\"0.001\">g</span><span style=\"background-color: hsl(120, 100.00%, 92.90%); opacity: 0.82\" title=\"0.003\"> </span><span style=\"background-color: hsl(120, 100.00%, 86.29%); opacity: 0.84\" title=\"0.007\">a</span><span style=\"background-color: hsl(120, 100.00%, 81.53%); opacity: 0.87\" title=\"0.011\">n</span><span style=\"background-color: hsl(120, 100.00%, 86.23%); opacity: 0.84\" title=\"0.007\">d</span><span style=\"background-color: hsl(120, 100.00%, 94.01%); opacity: 0.81\" title=\"0.002\"> </span><span style=\"background-color: hsl(120, 100.00%, 98.84%); opacity: 0.80\" title=\"0.000\">a</span><span style=\"background-color: hsl(120, 100.00%, 88.19%); opacity: 0.83\" title=\"0.006\"> </span><span style=\"background-color: hsl(120, 100.00%, 79.57%); opacity: 0.88\" title=\"0.013\">t</span><span style=\"background-color: hsl(120, 100.00%, 73.75%); opacity: 0.91\" title=\"0.018\">o</span><span style=\"background-color: hsl(120, 100.00%, 73.15%); opacity: 0.91\" title=\"0.018\">u</span><span style=\"background-color: hsl(120, 100.00%, 80.55%); opacity: 0.87\" title=\"0.012\">c</span><span style=\"background-color: hsl(120, 100.00%, 89.33%); opacity: 0.83\" title=\"0.005\">h</span><span style=\"background-color: hsl(0, 100.00%, 90.56%); opacity: 0.83\" title=\"-0.004\">i</span><span style=\"background-color: hsl(0, 100.00%, 87.40%); opacity: 0.84\" title=\"-0.006\">n</span><span style=\"background-color: hsl(0, 100.00%, 85.96%); opacity: 0.84\" title=\"-0.007\">g</span><span style=\"background-color: hsl(0, 100.00%, 93.29%); opacity: 0.82\" title=\"-0.003\"> </span><span style=\"background-color: hsl(120, 100.00%, 92.69%); opacity: 0.82\" title=\"0.003\">v</span><span style=\"background-color: hsl(120, 100.00%, 87.94%); opacity: 0.84\" title=\"0.006\">e</span><span style=\"background-color: hsl(120, 100.00%, 94.41%); opacity: 0.81\" title=\"0.002\">r</span><span style=\"background-color: hsl(0, 100.00%, 96.49%); opacity: 0.81\" title=\"-0.001\">s</span><span style=\"background-color: hsl(0, 100.00%, 95.70%); opacity: 0.81\" title=\"-0.001\">i</span><span style=\"background-color: hsl(0, 100.00%, 93.26%); opacity: 0.82\" title=\"-0.003\">o</span><span style=\"background-color: hsl(0, 100.00%, 90.99%); opacity: 0.82\" title=\"-0.004\">n</span><span style=\"background-color: hsl(0, 100.00%, 88.83%); opacity: 0.83\" title=\"-0.005\"> </span><span style=\"background-color: hsl(0, 100.00%, 89.70%); opacity: 0.83\" title=\"-0.005\">o</span><span style=\"background-color: hsl(0, 100.00%, 93.80%); opacity: 0.81\" title=\"-0.002\">f</span><span style=\"background-color: hsl(0, 100.00%, 96.08%); opacity: 0.81\" title=\"-0.001\"> </span><span style=\"background-color: hsl(120, 100.00%, 97.17%); opacity: 0.80\" title=\"0.001\">t</span><span style=\"background-color: hsl(120, 100.00%, 91.56%); opacity: 0.82\" title=\"0.004\">h</span><span style=\"background-color: hsl(120, 100.00%, 90.04%); opacity: 0.83\" title=\"0.004\">e</span><span style=\"background-color: hsl(120, 100.00%, 88.14%); opacity: 0.84\" title=\"0.006\"> </span><span style=\"background-color: hsl(120, 100.00%, 86.59%); opacity: 0.84\" title=\"0.007\">c</span><span style=\"background-color: hsl(120, 100.00%, 80.50%); opacity: 0.87\" title=\"0.012\">l</span><span style=\"background-color: hsl(120, 100.00%, 76.49%); opacity: 0.89\" title=\"0.015\">a</span><span style=\"background-color: hsl(120, 100.00%, 74.71%); opacity: 0.90\" title=\"0.017\">s</span><span style=\"background-color: hsl(120, 100.00%, 76.05%); opacity: 0.90\" title=\"0.016\">s</span><span style=\"background-color: hsl(120, 100.00%, 76.94%); opacity: 0.89\" title=\"0.015\">i</span><span style=\"background-color: hsl(120, 100.00%, 79.68%); opacity: 0.88\" title=\"0.012\">c</span><span style=\"background-color: hsl(120, 100.00%, 89.05%); opacity: 0.83\" title=\"0.005\"> </span><span style=\"background-color: hsl(0, 100.00%, 97.25%); opacity: 0.80\" title=\"-0.001\">t</span><span style=\"background-color: hsl(0, 100.00%, 94.27%); opacity: 0.81\" title=\"-0.002\">a</span><span style=\"background-color: hsl(0, 100.00%, 92.30%); opacity: 0.82\" title=\"-0.003\">l</span><span style=\"background-color: hsl(0, 100.00%, 98.90%); opacity: 0.80\" title=\"-0.000\">e</span><span style=\"background-color: hsl(120, 100.00%, 88.98%); opacity: 0.83\" title=\"0.005\">,</span><span style=\"background-color: hsl(120, 100.00%, 84.41%); opacity: 0.85\" title=\"0.009\"> </span><span style=\"background-color: hsl(120, 100.00%, 79.54%); opacity: 0.88\" title=\"0.013\">a</span><span style=\"background-color: hsl(120, 100.00%, 78.07%); opacity: 0.88\" title=\"0.014\">l</span><span style=\"background-color: hsl(120, 100.00%, 77.53%); opacity: 0.89\" title=\"0.014\">s</span><span style=\"background-color: hsl(120, 100.00%, 83.52%); opacity: 0.86\" title=\"0.009\">o</span><span style=\"background-color: hsl(120, 100.00%, 84.56%); opacity: 0.85\" title=\"0.008\"> </span><span style=\"background-color: hsl(120, 100.00%, 84.84%); opacity: 0.85\" title=\"0.008\">q</span><span style=\"background-color: hsl(120, 100.00%, 83.56%); opacity: 0.86\" title=\"0.009\">u</span><span style=\"background-color: hsl(120, 100.00%, 80.90%); opacity: 0.87\" title=\"0.011\">i</span><span style=\"background-color: hsl(120, 100.00%, 87.81%); opacity: 0.84\" title=\"0.006\">t</span><span style=\"background-color: hsl(120, 100.00%, 91.58%); opacity: 0.82\" title=\"0.004\">e</span><span style=\"background-color: hsl(120, 100.00%, 88.94%); opacity: 0.83\" title=\"0.005\"> </span><span style=\"background-color: hsl(120, 100.00%, 99.80%); opacity: 0.80\" title=\"0.000\">i</span><span style=\"background-color: hsl(0, 100.00%, 93.17%); opacity: 0.82\" title=\"-0.003\">n</span><span style=\"background-color: hsl(0, 100.00%, 88.35%); opacity: 0.83\" title=\"-0.006\">t</span><span style=\"background-color: hsl(0, 100.00%, 94.77%); opacity: 0.81\" title=\"-0.002\">e</span><span style=\"background-color: hsl(120, 100.00%, 93.45%); opacity: 0.82\" title=\"0.002\">l</span><span style=\"background-color: hsl(120, 100.00%, 89.15%); opacity: 0.83\" title=\"0.005\">l</span><span style=\"background-color: hsl(120, 100.00%, 92.35%); opacity: 0.82\" title=\"0.003\">i</span><span style=\"background-color: hsl(120, 100.00%, 92.38%); opacity: 0.82\" title=\"0.003\">g</span><span style=\"background-color: hsl(120, 100.00%, 90.98%); opacity: 0.82\" title=\"0.004\">e</span><span style=\"background-color: hsl(120, 100.00%, 90.07%); opacity: 0.83\" title=\"0.004\">n</span><span style=\"background-color: hsl(120, 100.00%, 89.90%); opacity: 0.83\" title=\"0.005\">t</span><span style=\"background-color: hsl(120, 100.00%, 93.98%); opacity: 0.81\" title=\"0.002\">,</span><span style=\"background-color: hsl(0, 100.00%, 90.15%); opacity: 0.83\" title=\"-0.004\"> </span><span style=\"background-color: hsl(0, 100.00%, 82.37%); opacity: 0.86\" title=\"-0.010\">n</span><span style=\"background-color: hsl(0, 100.00%, 85.05%); opacity: 0.85\" title=\"-0.008\">o</span><span style=\"background-color: hsl(0, 100.00%, 89.86%); opacity: 0.83\" title=\"-0.005\">t</span><span style=\"background-color: hsl(0, 100.00%, 93.77%); opacity: 0.81\" title=\"-0.002\"> </span><span style=\"background-color: hsl(0, 100.00%, 98.38%); opacity: 0.80\" title=\"-0.000\">o</span><span style=\"background-color: hsl(0, 100.00%, 97.77%); opacity: 0.80\" title=\"-0.001\">f</span><span style=\"background-color: hsl(0, 100.00%, 97.12%); opacity: 0.80\" title=\"-0.001\"> </span><span style=\"background-color: hsl(120, 100.00%, 98.18%); opacity: 0.80\" title=\"0.000\">t</span><span style=\"background-color: hsl(120, 100.00%, 91.72%); opacity: 0.82\" title=\"0.003\">h</span><span style=\"background-color: hsl(120, 100.00%, 93.21%); opacity: 0.82\" title=\"0.003\">e</span><span style=\"background-color: hsl(0, 100.00%, 92.73%); opacity: 0.82\" title=\"-0.003\"> </span><span style=\"background-color: hsl(0, 100.00%, 84.53%); opacity: 0.85\" title=\"-0.008\">&#x27;</span><span style=\"background-color: hsl(0, 100.00%, 93.91%); opacity: 0.81\" title=\"-0.002\">m</span><span style=\"background-color: hsl(120, 100.00%, 95.92%); opacity: 0.81\" title=\"0.001\">e</span><span style=\"background-color: hsl(120, 100.00%, 95.76%); opacity: 0.81\" title=\"0.001\"> </span><span style=\"background-color: hsl(0, 100.00%, 99.20%); opacity: 0.80\" title=\"-0.000\">t</span><span style=\"background-color: hsl(120, 100.00%, 99.40%); opacity: 0.80\" title=\"0.000\">a</span><span style=\"background-color: hsl(0, 100.00%, 99.95%); opacity: 0.80\" title=\"-0.000\">r</span><span style=\"background-color: hsl(120, 100.00%, 97.98%); opacity: 0.80\" title=\"0.000\">z</span><span style=\"background-color: hsl(120, 100.00%, 95.67%); opacity: 0.81\" title=\"0.001\">a</span><span style=\"background-color: hsl(120, 100.00%, 92.13%); opacity: 0.82\" title=\"0.003\">n</span><span style=\"background-color: hsl(120, 100.00%, 91.29%); opacity: 0.82\" title=\"0.004\">,</span><span style=\"background-color: hsl(120, 100.00%, 88.41%); opacity: 0.83\" title=\"0.006\"> </span><span style=\"background-color: hsl(120, 100.00%, 86.99%); opacity: 0.84\" title=\"0.007\">y</span><span style=\"background-color: hsl(120, 100.00%, 85.86%); opacity: 0.85\" title=\"0.007\">o</span><span style=\"background-color: hsl(120, 100.00%, 84.96%); opacity: 0.85\" title=\"0.008\">u</span><span style=\"background-color: hsl(120, 100.00%, 83.87%); opacity: 0.85\" title=\"0.009\"> </span><span style=\"background-color: hsl(120, 100.00%, 89.66%); opacity: 0.83\" title=\"0.005\">j</span><span style=\"background-color: hsl(120, 100.00%, 91.05%); opacity: 0.82\" title=\"0.004\">a</span><span style=\"background-color: hsl(120, 100.00%, 94.05%); opacity: 0.81\" title=\"0.002\">n</span><span style=\"background-color: hsl(0, 100.00%, 98.55%); opacity: 0.80\" title=\"-0.000\">e</span><span style=\"background-color: hsl(0, 100.00%, 95.53%); opacity: 0.81\" title=\"-0.001\">&#x27;</span><span style=\"background-color: hsl(0, 100.00%, 89.12%); opacity: 0.83\" title=\"-0.005\"> </span><span style=\"background-color: hsl(0, 100.00%, 89.78%); opacity: 0.83\" title=\"-0.005\">s</span><span style=\"background-color: hsl(0, 100.00%, 91.23%); opacity: 0.82\" title=\"-0.004\">c</span><span style=\"background-color: hsl(0, 100.00%, 96.55%); opacity: 0.81\" title=\"-0.001\">h</span><span style=\"background-color: hsl(0, 100.00%, 96.97%); opacity: 0.81\" title=\"-0.001\">o</span><span style=\"background-color: hsl(0, 100.00%, 95.62%); opacity: 0.81\" title=\"-0.001\">o</span><span style=\"background-color: hsl(120, 100.00%, 95.64%); opacity: 0.81\" title=\"0.001\">l</span><span style=\"background-color: hsl(0, 100.00%, 90.54%); opacity: 0.83\" title=\"-0.004\"> </span><span style=\"background-color: hsl(0, 100.00%, 84.46%); opacity: 0.85\" title=\"-0.008\">a</span><span style=\"background-color: hsl(0, 100.00%, 78.49%); opacity: 0.88\" title=\"-0.013\">t</span><span style=\"background-color: hsl(0, 100.00%, 77.00%); opacity: 0.89\" title=\"-0.015\"> </span><span style=\"background-color: hsl(0, 100.00%, 75.69%); opacity: 0.90\" title=\"-0.016\">a</span><span style=\"background-color: hsl(0, 100.00%, 80.33%); opacity: 0.87\" title=\"-0.012\">l</span><span style=\"background-color: hsl(0, 100.00%, 87.60%); opacity: 0.84\" title=\"-0.006\">l</span><span style=\"background-color: hsl(0, 100.00%, 94.31%); opacity: 0.81\" title=\"-0.002\">.</span><span style=\"background-color: hsl(120, 100.00%, 90.57%); opacity: 0.83\" title=\"0.004\"> </span><span style=\"background-color: hsl(120, 100.00%, 82.96%); opacity: 0.86\" title=\"0.010\">i</span><span style=\"background-color: hsl(120, 100.00%, 85.70%); opacity: 0.85\" title=\"0.008\">t</span><span style=\"background-color: hsl(120, 100.00%, 89.59%); opacity: 0.83\" title=\"0.005\">&#x27;</span><span style=\"background-color: hsl(120, 100.00%, 90.05%); opacity: 0.83\" title=\"0.004\">s</span><span style=\"background-color: hsl(120, 100.00%, 96.53%); opacity: 0.81\" title=\"0.001\"> </span><span style=\"background-color: hsl(0, 100.00%, 95.84%); opacity: 0.81\" title=\"-0.001\">t</span><span style=\"background-color: hsl(120, 100.00%, 92.81%); opacity: 0.82\" title=\"0.003\">h</span><span style=\"background-color: hsl(120, 100.00%, 90.58%); opacity: 0.83\" title=\"0.004\">e</span><span style=\"background-color: hsl(120, 100.00%, 87.41%); opacity: 0.84\" title=\"0.006\"> </span><span style=\"background-color: hsl(120, 100.00%, 87.73%); opacity: 0.84\" title=\"0.006\">f</span><span style=\"background-color: hsl(120, 100.00%, 86.97%); opacity: 0.84\" title=\"0.007\">a</span><span style=\"background-color: hsl(120, 100.00%, 83.41%); opacity: 0.86\" title=\"0.009\">m</span><span style=\"background-color: hsl(120, 100.00%, 87.23%); opacity: 0.84\" title=\"0.006\">o</span><span style=\"background-color: hsl(120, 100.00%, 95.41%); opacity: 0.81\" title=\"0.001\">u</span><span style=\"background-color: hsl(0, 100.00%, 98.99%); opacity: 0.80\" title=\"-0.000\">s</span><span style=\"background-color: hsl(0, 100.00%, 94.28%); opacity: 0.81\" title=\"-0.002\"> </span><span style=\"background-color: hsl(0, 100.00%, 93.79%); opacity: 0.81\" title=\"-0.002\">s</span><span style=\"background-color: hsl(120, 100.00%, 94.10%); opacity: 0.81\" title=\"0.002\">t</span><span style=\"background-color: hsl(120, 100.00%, 90.28%); opacity: 0.83\" title=\"0.004\">o</span><span style=\"background-color: hsl(120, 100.00%, 85.56%); opacity: 0.85\" title=\"0.008\">r</span><span style=\"background-color: hsl(120, 100.00%, 79.64%); opacity: 0.88\" title=\"0.012\">y</span><span style=\"background-color: hsl(120, 100.00%, 84.63%); opacity: 0.85\" title=\"0.008\"> </span><span style=\"background-color: hsl(120, 100.00%, 88.07%); opacity: 0.84\" title=\"0.006\">o</span><span style=\"background-color: hsl(120, 100.00%, 92.19%); opacity: 0.82\" title=\"0.003\">f</span><span style=\"background-color: hsl(120, 100.00%, 97.32%); opacity: 0.80\" title=\"0.001\"> </span><span style=\"background-color: hsl(120, 100.00%, 99.16%); opacity: 0.80\" title=\"0.000\">a</span><span style=\"background-color: hsl(0, 100.00%, 98.64%); opacity: 0.80\" title=\"-0.000\"> </span><span style=\"background-color: hsl(0, 100.00%, 97.07%); opacity: 0.80\" title=\"-0.001\">c</span><span style=\"background-color: hsl(120, 100.00%, 94.97%); opacity: 0.81\" title=\"0.002\">h</span><span style=\"background-color: hsl(120, 100.00%, 92.80%); opacity: 0.82\" title=\"0.003\">i</span><span style=\"background-color: hsl(120, 100.00%, 93.92%); opacity: 0.81\" title=\"0.002\">l</span><span style=\"background-color: hsl(0, 100.00%, 98.36%); opacity: 0.80\" title=\"-0.000\">d</span><span style=\"background-color: hsl(120, 100.00%, 97.45%); opacity: 0.80\" title=\"0.001\"> </span><span style=\"background-color: hsl(120, 100.00%, 91.34%); opacity: 0.82\" title=\"0.004\">r</span><span style=\"background-color: hsl(120, 100.00%, 90.61%); opacity: 0.83\" title=\"0.004\">e</span><span style=\"background-color: hsl(120, 100.00%, 87.65%); opacity: 0.84\" title=\"0.006\">a</span><span style=\"background-color: hsl(120, 100.00%, 97.86%); opacity: 0.80\" title=\"0.000\">r</span><span style=\"background-color: hsl(0, 100.00%, 91.26%); opacity: 0.82\" title=\"-0.004\">e</span><span style=\"background-color: hsl(0, 100.00%, 88.92%); opacity: 0.83\" title=\"-0.005\">d</span><span style=\"background-color: hsl(0, 100.00%, 87.59%); opacity: 0.84\" title=\"-0.006\"> </span><span style=\"background-color: hsl(0, 100.00%, 86.99%); opacity: 0.84\" title=\"-0.007\">t</span><span style=\"background-color: hsl(0, 100.00%, 82.47%); opacity: 0.86\" title=\"-0.010\">o</span><span style=\"background-color: hsl(0, 100.00%, 86.70%); opacity: 0.84\" title=\"-0.007\"> </span><span style=\"background-color: hsl(0, 100.00%, 97.49%); opacity: 0.80\" title=\"-0.001\">m</span><span style=\"background-color: hsl(120, 100.00%, 94.24%); opacity: 0.81\" title=\"0.002\">a</span><span style=\"background-color: hsl(120, 100.00%, 94.44%); opacity: 0.81\" title=\"0.002\">n</span><span style=\"background-color: hsl(120, 100.00%, 96.43%); opacity: 0.81\" title=\"0.001\">h</span><span style=\"background-color: hsl(120, 100.00%, 97.15%); opacity: 0.80\" title=\"0.001\">o</span><span style=\"background-color: hsl(0, 100.00%, 99.50%); opacity: 0.80\" title=\"-0.000\">o</span><span style=\"background-color: hsl(120, 100.00%, 99.18%); opacity: 0.80\" title=\"0.000\">d</span><span style=\"background-color: hsl(120, 100.00%, 97.52%); opacity: 0.80\" title=\"0.001\"> </span><span style=\"background-color: hsl(0, 100.00%, 99.30%); opacity: 0.80\" title=\"-0.000\">i</span><span style=\"background-color: hsl(0, 100.00%, 96.55%); opacity: 0.81\" title=\"-0.001\">n</span><span style=\"background-color: hsl(0, 100.00%, 96.46%); opacity: 0.81\" title=\"-0.001\"> </span><span style=\"background-color: hsl(0, 100.00%, 94.25%); opacity: 0.81\" title=\"-0.002\">t</span><span style=\"background-color: hsl(120, 100.00%, 98.91%); opacity: 0.80\" title=\"0.000\">h</span><span style=\"background-color: hsl(120, 100.00%, 94.02%); opacity: 0.81\" title=\"0.002\">e</span><span style=\"background-color: hsl(120, 100.00%, 95.56%); opacity: 0.81\" title=\"0.001\"> </span><span style=\"background-color: hsl(0, 100.00%, 93.25%); opacity: 0.82\" title=\"-0.003\">j</span><span style=\"background-color: hsl(0, 100.00%, 92.38%); opacity: 0.82\" title=\"-0.003\">u</span><span style=\"background-color: hsl(0, 100.00%, 94.09%); opacity: 0.81\" title=\"-0.002\">n</span><span style=\"background-color: hsl(0, 100.00%, 95.18%); opacity: 0.81\" title=\"-0.002\">g</span><span style=\"background-color: hsl(0, 100.00%, 91.77%); opacity: 0.82\" title=\"-0.003\">l</span><span style=\"background-color: hsl(0, 100.00%, 92.49%); opacity: 0.82\" title=\"-0.003\">e</span><span style=\"background-color: hsl(0, 100.00%, 93.87%); opacity: 0.81\" title=\"-0.002\"> </span><span style=\"background-color: hsl(0, 100.00%, 93.86%); opacity: 0.81\" title=\"-0.002\">b</span><span style=\"background-color: hsl(0, 100.00%, 94.08%); opacity: 0.81\" title=\"-0.002\">y</span><span style=\"background-color: hsl(0, 100.00%, 95.30%); opacity: 0.81\" title=\"-0.002\"> </span><span style=\"background-color: hsl(0, 100.00%, 88.83%); opacity: 0.83\" title=\"-0.005\">a</span><span style=\"background-color: hsl(0, 100.00%, 85.76%); opacity: 0.85\" title=\"-0.007\">p</span><span style=\"background-color: hsl(0, 100.00%, 93.49%); opacity: 0.81\" title=\"-0.002\">e</span><span style=\"background-color: hsl(0, 100.00%, 96.23%); opacity: 0.81\" title=\"-0.001\">s</span><span style=\"background-color: hsl(120, 100.00%, 95.28%); opacity: 0.81\" title=\"0.002\">.</span><span style=\"background-color: hsl(120, 100.00%, 93.73%); opacity: 0.81\" title=\"0.002\"> </span><span style=\"background-color: hsl(120, 100.00%, 91.06%); opacity: 0.82\" title=\"0.004\">a</span><span style=\"background-color: hsl(120, 100.00%, 94.41%); opacity: 0.81\" title=\"0.002\"> </span><span style=\"background-color: hsl(120, 100.00%, 98.34%); opacity: 0.80\" title=\"0.000\">t</span><span style=\"background-color: hsl(0, 100.00%, 97.94%); opacity: 0.80\" title=\"-0.000\">i</span><span style=\"background-color: hsl(0, 100.00%, 98.10%); opacity: 0.80\" title=\"-0.000\">t</span><span style=\"background-color: hsl(0, 100.00%, 89.56%); opacity: 0.83\" title=\"-0.005\">l</span><span style=\"background-color: hsl(0, 100.00%, 90.51%); opacity: 0.83\" title=\"-0.004\">e</span><span style=\"background-color: hsl(0, 100.00%, 94.30%); opacity: 0.81\" title=\"-0.002\">d</span><span style=\"background-color: hsl(120, 100.00%, 97.01%); opacity: 0.80\" title=\"0.001\"> </span><span style=\"background-color: hsl(120, 100.00%, 86.18%); opacity: 0.84\" title=\"0.007\">b</span><span style=\"background-color: hsl(120, 100.00%, 84.57%); opacity: 0.85\" title=\"0.008\">r</span><span style=\"background-color: hsl(120, 100.00%, 90.20%); opacity: 0.83\" title=\"0.004\">i</span><span style=\"background-color: hsl(120, 100.00%, 94.27%); opacity: 0.81\" title=\"0.002\">t</span><span style=\"background-color: hsl(0, 100.00%, 94.57%); opacity: 0.81\" title=\"-0.002\">i</span><span style=\"background-color: hsl(0, 100.00%, 89.29%); opacity: 0.83\" title=\"-0.005\">s</span><span style=\"background-color: hsl(0, 100.00%, 94.91%); opacity: 0.81\" title=\"-0.002\">h</span><span style=\"background-color: hsl(0, 100.00%, 98.15%); opacity: 0.80\" title=\"-0.000\"> </span><span style=\"background-color: hsl(120, 100.00%, 98.88%); opacity: 0.80\" title=\"0.000\">c</span><span style=\"background-color: hsl(0, 100.00%, 92.69%); opacity: 0.82\" title=\"-0.003\">o</span><span style=\"background-color: hsl(0, 100.00%, 87.58%); opacity: 0.84\" title=\"-0.006\">u</span><span style=\"background-color: hsl(0, 100.00%, 87.56%); opacity: 0.84\" title=\"-0.006\">p</span><span style=\"background-color: hsl(0, 100.00%, 89.09%); opacity: 0.83\" title=\"-0.005\">l</span><span style=\"background-color: hsl(0, 100.00%, 93.57%); opacity: 0.81\" title=\"-0.002\">e</span><span style=\"background-color: hsl(120, 100.00%, 92.12%); opacity: 0.82\" title=\"0.003\"> </span><span style=\"background-color: hsl(120, 100.00%, 85.55%); opacity: 0.85\" title=\"0.008\">(</span><span style=\"background-color: hsl(120, 100.00%, 86.73%); opacity: 0.84\" title=\"0.007\">t</span><span style=\"background-color: hsl(120, 100.00%, 87.50%); opacity: 0.84\" title=\"0.006\">h</span><span style=\"background-color: hsl(120, 100.00%, 87.83%); opacity: 0.84\" title=\"0.006\">e</span><span style=\"background-color: hsl(120, 100.00%, 94.69%); opacity: 0.81\" title=\"0.002\"> </span><span style=\"background-color: hsl(0, 100.00%, 92.28%); opacity: 0.82\" title=\"-0.003\">w</span><span style=\"background-color: hsl(120, 100.00%, 95.21%); opacity: 0.81\" title=\"0.002\">i</span><span style=\"background-color: hsl(0, 100.00%, 95.63%); opacity: 0.81\" title=\"-0.001\">f</span><span style=\"background-color: hsl(0, 100.00%, 95.83%); opacity: 0.81\" title=\"-0.001\">e</span><span style=\"background-color: hsl(0, 100.00%, 88.54%); opacity: 0.83\" title=\"-0.005\"> </span><span style=\"background-color: hsl(0, 100.00%, 89.03%); opacity: 0.83\" title=\"-0.005\">p</span><span style=\"background-color: hsl(0, 100.00%, 88.23%); opacity: 0.83\" title=\"-0.006\">r</span><span style=\"background-color: hsl(0, 100.00%, 88.35%); opacity: 0.83\" title=\"-0.006\">e</span><span style=\"background-color: hsl(0, 100.00%, 90.69%); opacity: 0.82\" title=\"-0.004\">g</span><span style=\"background-color: hsl(120, 100.00%, 97.23%); opacity: 0.80\" title=\"0.001\">n</span><span style=\"background-color: hsl(120, 100.00%, 92.01%); opacity: 0.82\" title=\"0.003\">a</span><span style=\"background-color: hsl(120, 100.00%, 91.10%); opacity: 0.82\" title=\"0.004\">n</span><span style=\"background-color: hsl(120, 100.00%, 95.11%); opacity: 0.81\" title=\"0.002\">t</span><span style=\"background-color: hsl(120, 100.00%, 95.97%); opacity: 0.81\" title=\"0.001\">)</span><span style=\"background-color: hsl(120, 100.00%, 93.13%); opacity: 0.82\" title=\"0.003\"> </span><span style=\"background-color: hsl(120, 100.00%, 94.92%); opacity: 0.81\" title=\"0.002\">i</span><span style=\"background-color: hsl(120, 100.00%, 98.66%); opacity: 0.80\" title=\"0.000\">s</span><span style=\"background-color: hsl(0, 100.00%, 96.33%); opacity: 0.81\" title=\"-0.001\"> </span><span style=\"background-color: hsl(0, 100.00%, 91.68%); opacity: 0.82\" title=\"-0.003\">s</span><span style=\"background-color: hsl(120, 100.00%, 94.55%); opacity: 0.81\" title=\"0.002\">t</span><span style=\"background-color: hsl(120, 100.00%, 92.44%); opacity: 0.82\" title=\"0.003\">r</span><span style=\"background-color: hsl(0, 100.00%, 97.96%); opacity: 0.80\" title=\"-0.000\">a</span><span style=\"background-color: hsl(120, 100.00%, 98.33%); opacity: 0.80\" title=\"0.000\">n</span><span style=\"background-color: hsl(0, 100.00%, 95.40%); opacity: 0.81\" title=\"-0.001\">d</span><span style=\"background-color: hsl(0, 100.00%, 88.62%); opacity: 0.83\" title=\"-0.005\">e</span><span style=\"background-color: hsl(0, 100.00%, 90.32%); opacity: 0.83\" title=\"-0.004\">d</span><span style=\"background-color: hsl(0, 100.00%, 96.99%); opacity: 0.80\" title=\"-0.001\"> </span><span style=\"background-color: hsl(120, 100.00%, 94.33%); opacity: 0.81\" title=\"0.002\">i</span><span style=\"background-color: hsl(0, 100.00%, 96.58%); opacity: 0.81\" title=\"-0.001\">n</span><span style=\"background-color: hsl(0, 100.00%, 96.02%); opacity: 0.81\" title=\"-0.001\"> </span><span style=\"background-color: hsl(0, 100.00%, 93.16%); opacity: 0.82\" title=\"-0.003\">t</span><span style=\"background-color: hsl(0, 100.00%, 98.28%); opacity: 0.80\" title=\"-0.000\">h</span><span style=\"background-color: hsl(120, 100.00%, 94.31%); opacity: 0.81\" title=\"0.002\">e</span><span style=\"background-color: hsl(120, 100.00%, 94.37%); opacity: 0.81\" title=\"0.002\"> </span><span style=\"background-color: hsl(120, 100.00%, 98.03%); opacity: 0.80\" title=\"0.000\">a</span><span style=\"background-color: hsl(120, 100.00%, 92.89%); opacity: 0.82\" title=\"0.003\">f</span><span style=\"background-color: hsl(120, 100.00%, 92.31%); opacity: 0.82\" title=\"0.003\">r</span><span style=\"background-color: hsl(120, 100.00%, 93.49%); opacity: 0.81\" title=\"0.002\">i</span><span style=\"background-color: hsl(120, 100.00%, 95.12%); opacity: 0.81\" title=\"0.002\">c</span><span style=\"background-color: hsl(120, 100.00%, 95.32%); opacity: 0.81\" title=\"0.002\">a</span><span style=\"background-color: hsl(0, 100.00%, 98.70%); opacity: 0.80\" title=\"-0.000\">n</span><span style=\"background-color: hsl(120, 100.00%, 98.34%); opacity: 0.80\" title=\"0.000\"> </span><span style=\"background-color: hsl(120, 100.00%, 94.36%); opacity: 0.81\" title=\"0.002\">w</span><span style=\"background-color: hsl(120, 100.00%, 88.70%); opacity: 0.83\" title=\"0.005\">i</span><span style=\"background-color: hsl(120, 100.00%, 88.32%); opacity: 0.83\" title=\"0.006\">l</span><span style=\"background-color: hsl(120, 100.00%, 88.04%); opacity: 0.84\" title=\"0.006\">d</span><span style=\"background-color: hsl(120, 100.00%, 85.90%); opacity: 0.85\" title=\"0.007\">s</span><span style=\"background-color: hsl(120, 100.00%, 92.21%); opacity: 0.82\" title=\"0.003\"> </span><span style=\"background-color: hsl(120, 100.00%, 91.46%); opacity: 0.82\" title=\"0.004\">a</span><span style=\"background-color: hsl(120, 100.00%, 91.30%); opacity: 0.82\" title=\"0.004\">f</span><span style=\"background-color: hsl(0, 100.00%, 97.41%); opacity: 0.80\" title=\"-0.001\">t</span><span style=\"background-color: hsl(0, 100.00%, 94.62%); opacity: 0.81\" title=\"-0.002\">e</span><span style=\"background-color: hsl(0, 100.00%, 92.76%); opacity: 0.82\" title=\"-0.003\">r</span><span style=\"background-color: hsl(0, 100.00%, 91.30%); opacity: 0.82\" title=\"-0.004\"> </span><span style=\"background-color: hsl(0, 100.00%, 93.34%); opacity: 0.82\" title=\"-0.003\">a</span><span style=\"background-color: hsl(0, 100.00%, 92.18%); opacity: 0.82\" title=\"-0.003\"> </span><span style=\"background-color: hsl(120, 100.00%, 96.12%); opacity: 0.81\" title=\"0.001\">s</span><span style=\"background-color: hsl(120, 100.00%, 89.17%); opacity: 0.83\" title=\"0.005\">h</span><span style=\"background-color: hsl(120, 100.00%, 88.67%); opacity: 0.83\" title=\"0.005\">i</span><span style=\"background-color: hsl(120, 100.00%, 96.05%); opacity: 0.81\" title=\"0.001\">p</span><span style=\"background-color: hsl(0, 100.00%, 90.29%); opacity: 0.83\" title=\"-0.004\">w</span><span style=\"background-color: hsl(0, 100.00%, 89.01%); opacity: 0.83\" title=\"-0.005\">r</span><span style=\"background-color: hsl(120, 100.00%, 96.52%); opacity: 0.81\" title=\"0.001\">e</span><span style=\"background-color: hsl(0, 100.00%, 92.24%); opacity: 0.82\" title=\"-0.003\">c</span><span style=\"background-color: hsl(0, 100.00%, 83.74%); opacity: 0.86\" title=\"-0.009\">k</span><span style=\"background-color: hsl(0, 100.00%, 82.24%); opacity: 0.86\" title=\"-0.010\">.</span><span style=\"background-color: hsl(0, 100.00%, 89.66%); opacity: 0.83\" title=\"-0.005\"> </span><span style=\"background-color: hsl(120, 100.00%, 95.40%); opacity: 0.81\" title=\"0.001\">a</span><span style=\"background-color: hsl(120, 100.00%, 92.36%); opacity: 0.82\" title=\"0.003\">f</span><span style=\"background-color: hsl(120, 100.00%, 99.03%); opacity: 0.80\" title=\"0.000\">t</span><span style=\"background-color: hsl(0, 100.00%, 95.15%); opacity: 0.81\" title=\"-0.002\">e</span><span style=\"background-color: hsl(0, 100.00%, 91.62%); opacity: 0.82\" title=\"-0.004\">r</span><span style=\"background-color: hsl(0, 100.00%, 89.36%); opacity: 0.83\" title=\"-0.005\"> </span><span style=\"background-color: hsl(0, 100.00%, 92.59%); opacity: 0.82\" title=\"-0.003\">t</span><span style=\"background-color: hsl(120, 100.00%, 96.63%); opacity: 0.81\" title=\"0.001\">h</span><span style=\"background-color: hsl(120, 100.00%, 92.38%); opacity: 0.82\" title=\"0.003\">e</span><span style=\"background-color: hsl(120, 100.00%, 92.71%); opacity: 0.82\" title=\"0.003\"> </span><span style=\"background-color: hsl(120, 100.00%, 98.87%); opacity: 0.80\" title=\"0.000\">p</span><span style=\"background-color: hsl(120, 100.00%, 93.92%); opacity: 0.81\" title=\"0.002\">a</span><span style=\"background-color: hsl(0, 100.00%, 96.96%); opacity: 0.81\" title=\"-0.001\">r</span><span style=\"background-color: hsl(0, 100.00%, 92.92%); opacity: 0.82\" title=\"-0.003\">e</span><span style=\"background-color: hsl(0, 100.00%, 97.14%); opacity: 0.80\" title=\"-0.001\">n</span><span style=\"background-color: hsl(0, 100.00%, 98.10%); opacity: 0.80\" title=\"-0.000\">t</span><span style=\"background-color: hsl(120, 100.00%, 93.19%); opacity: 0.82\" title=\"0.003\">s</span><span style=\"background-color: hsl(120, 100.00%, 98.13%); opacity: 0.80\" title=\"0.000\">&#x27;</span><span style=\"background-color: hsl(0, 100.00%, 97.00%); opacity: 0.80\" title=\"-0.001\"> </span><span style=\"background-color: hsl(120, 100.00%, 99.00%); opacity: 0.80\" title=\"0.000\">d</span><span style=\"background-color: hsl(120, 100.00%, 88.73%); opacity: 0.83\" title=\"0.005\">e</span><span style=\"background-color: hsl(120, 100.00%, 90.27%); opacity: 0.83\" title=\"0.004\">a</span><span style=\"background-color: hsl(120, 100.00%, 90.99%); opacity: 0.82\" title=\"0.004\">t</span><span style=\"background-color: hsl(120, 100.00%, 95.02%); opacity: 0.81\" title=\"0.002\">h</span><span style=\"background-color: hsl(120, 100.00%, 88.96%); opacity: 0.83\" title=\"0.005\">s</span><span style=\"background-color: hsl(120, 100.00%, 89.16%); opacity: 0.83\" title=\"0.005\">,</span><span style=\"background-color: hsl(120, 100.00%, 90.58%); opacity: 0.83\" title=\"0.004\"> </span><span style=\"background-color: hsl(120, 100.00%, 91.30%); opacity: 0.82\" title=\"0.004\">t</span><span style=\"background-color: hsl(120, 100.00%, 87.72%); opacity: 0.84\" title=\"0.006\">h</span><span style=\"background-color: hsl(120, 100.00%, 86.94%); opacity: 0.84\" title=\"0.007\">e</span><span style=\"background-color: hsl(0, 100.00%, 98.48%); opacity: 0.80\" title=\"-0.000\"> </span><span style=\"background-color: hsl(0, 100.00%, 85.81%); opacity: 0.85\" title=\"-0.007\">b</span><span style=\"background-color: hsl(0, 100.00%, 82.12%); opacity: 0.86\" title=\"-0.010\">a</span><span style=\"background-color: hsl(0, 100.00%, 94.98%); opacity: 0.81\" title=\"-0.002\">b</span><span style=\"background-color: hsl(0, 100.00%, 91.78%); opacity: 0.82\" title=\"-0.003\">y</span><span style=\"background-color: hsl(120, 100.00%, 99.10%); opacity: 0.80\" title=\"0.000\"> </span><span style=\"background-color: hsl(0, 100.00%, 98.85%); opacity: 0.80\" title=\"-0.000\">i</span><span style=\"background-color: hsl(0, 100.00%, 95.85%); opacity: 0.81\" title=\"-0.001\">s</span><span style=\"background-color: hsl(120, 100.00%, 94.70%); opacity: 0.81\" title=\"0.002\"> </span><span style=\"background-color: hsl(120, 100.00%, 98.15%); opacity: 0.80\" title=\"0.000\">r</span><span style=\"background-color: hsl(120, 100.00%, 95.94%); opacity: 0.81\" title=\"0.001\">a</span><span style=\"background-color: hsl(0, 100.00%, 98.22%); opacity: 0.80\" title=\"-0.000\">i</span><span style=\"background-color: hsl(0, 100.00%, 96.48%); opacity: 0.81\" title=\"-0.001\">s</span><span style=\"background-color: hsl(0, 100.00%, 94.42%); opacity: 0.81\" title=\"-0.002\">e</span><span style=\"background-color: hsl(0, 100.00%, 94.57%); opacity: 0.81\" title=\"-0.002\">d</span><span style=\"background-color: hsl(120, 100.00%, 98.25%); opacity: 0.80\" title=\"0.000\"> </span><span style=\"background-color: hsl(120, 100.00%, 95.15%); opacity: 0.81\" title=\"0.002\">i</span><span style=\"background-color: hsl(0, 100.00%, 96.58%); opacity: 0.81\" title=\"-0.001\">n</span><span style=\"background-color: hsl(0, 100.00%, 96.51%); opacity: 0.81\" title=\"-0.001\"> </span><span style=\"background-color: hsl(0, 100.00%, 94.25%); opacity: 0.81\" title=\"-0.002\">t</span><span style=\"background-color: hsl(120, 100.00%, 98.91%); opacity: 0.80\" title=\"0.000\">h</span><span style=\"background-color: hsl(120, 100.00%, 94.02%); opacity: 0.81\" title=\"0.002\">e</span><span style=\"background-color: hsl(120, 100.00%, 95.56%); opacity: 0.81\" title=\"0.001\"> </span><span style=\"background-color: hsl(0, 100.00%, 93.25%); opacity: 0.82\" title=\"-0.003\">j</span><span style=\"background-color: hsl(0, 100.00%, 92.38%); opacity: 0.82\" title=\"-0.003\">u</span><span style=\"background-color: hsl(0, 100.00%, 94.09%); opacity: 0.81\" title=\"-0.002\">n</span><span style=\"background-color: hsl(0, 100.00%, 95.18%); opacity: 0.81\" title=\"-0.002\">g</span><span style=\"background-color: hsl(0, 100.00%, 91.77%); opacity: 0.82\" title=\"-0.003\">l</span><span style=\"background-color: hsl(0, 100.00%, 92.49%); opacity: 0.82\" title=\"-0.003\">e</span><span style=\"background-color: hsl(0, 100.00%, 93.87%); opacity: 0.81\" title=\"-0.002\"> </span><span style=\"background-color: hsl(0, 100.00%, 93.86%); opacity: 0.81\" title=\"-0.002\">b</span><span style=\"background-color: hsl(0, 100.00%, 94.08%); opacity: 0.81\" title=\"-0.002\">y</span><span style=\"background-color: hsl(0, 100.00%, 95.30%); opacity: 0.81\" title=\"-0.002\"> </span><span style=\"background-color: hsl(0, 100.00%, 88.83%); opacity: 0.83\" title=\"-0.005\">a</span><span style=\"background-color: hsl(0, 100.00%, 85.76%); opacity: 0.85\" title=\"-0.007\">p</span><span style=\"background-color: hsl(0, 100.00%, 92.76%); opacity: 0.82\" title=\"-0.003\">e</span><span style=\"background-color: hsl(0, 100.00%, 94.57%); opacity: 0.81\" title=\"-0.002\">s</span><span style=\"background-color: hsl(0, 100.00%, 96.01%); opacity: 0.81\" title=\"-0.001\">.</span><span style=\"background-color: hsl(0, 100.00%, 95.65%); opacity: 0.81\" title=\"-0.001\"> </span><span style=\"background-color: hsl(120, 100.00%, 98.40%); opacity: 0.80\" title=\"0.000\">t</span><span style=\"background-color: hsl(0, 100.00%, 99.10%); opacity: 0.80\" title=\"-0.000\">w</span><span style=\"background-color: hsl(120, 100.00%, 98.78%); opacity: 0.80\" title=\"0.000\">e</span><span style=\"background-color: hsl(120, 100.00%, 89.53%); opacity: 0.83\" title=\"0.005\">n</span><span style=\"background-color: hsl(120, 100.00%, 84.81%); opacity: 0.85\" title=\"0.008\">t</span><span style=\"background-color: hsl(120, 100.00%, 85.26%); opacity: 0.85\" title=\"0.008\">y</span><span style=\"background-color: hsl(120, 100.00%, 85.13%); opacity: 0.85\" title=\"0.008\"> </span><span style=\"background-color: hsl(120, 100.00%, 82.87%); opacity: 0.86\" title=\"0.010\">y</span><span style=\"background-color: hsl(120, 100.00%, 80.85%); opacity: 0.87\" title=\"0.011\">e</span><span style=\"background-color: hsl(120, 100.00%, 81.57%); opacity: 0.87\" title=\"0.011\">a</span><span style=\"background-color: hsl(120, 100.00%, 85.43%); opacity: 0.85\" title=\"0.008\">r</span><span style=\"background-color: hsl(120, 100.00%, 90.81%); opacity: 0.82\" title=\"0.004\">s</span><span style=\"background-color: hsl(120, 100.00%, 91.77%); opacity: 0.82\" title=\"0.003\"> </span><span style=\"background-color: hsl(120, 100.00%, 90.15%); opacity: 0.83\" title=\"0.004\">l</span><span style=\"background-color: hsl(120, 100.00%, 86.14%); opacity: 0.84\" title=\"0.007\">a</span><span style=\"background-color: hsl(120, 100.00%, 88.00%); opacity: 0.84\" title=\"0.006\">t</span><span style=\"background-color: hsl(120, 100.00%, 90.31%); opacity: 0.83\" title=\"0.004\">e</span><span style=\"background-color: hsl(120, 100.00%, 91.44%); opacity: 0.82\" title=\"0.004\">r</span><span style=\"background-color: hsl(120, 100.00%, 93.32%); opacity: 0.82\" title=\"0.003\">,</span><span style=\"background-color: hsl(0, 100.00%, 96.51%); opacity: 0.81\" title=\"-0.001\"> </span><span style=\"background-color: hsl(0, 100.00%, 89.75%); opacity: 0.83\" title=\"-0.005\">t</span><span style=\"background-color: hsl(0, 100.00%, 90.27%); opacity: 0.83\" title=\"-0.004\">h</span><span style=\"background-color: hsl(0, 100.00%, 89.75%); opacity: 0.83\" title=\"-0.005\">i</span><span style=\"background-color: hsl(0, 100.00%, 91.93%); opacity: 0.82\" title=\"-0.003\">s</span><span style=\"background-color: hsl(120, 100.00%, 93.52%); opacity: 0.81\" title=\"0.002\"> </span><span style=\"background-color: hsl(120, 100.00%, 89.04%); opacity: 0.83\" title=\"0.005\">y</span><span style=\"background-color: hsl(120, 100.00%, 86.78%); opacity: 0.84\" title=\"0.007\">o</span><span style=\"background-color: hsl(120, 100.00%, 86.36%); opacity: 0.84\" title=\"0.007\">u</span><span style=\"background-color: hsl(120, 100.00%, 90.40%); opacity: 0.83\" title=\"0.004\">n</span><span style=\"background-color: hsl(120, 100.00%, 91.73%); opacity: 0.82\" title=\"0.003\">g</span><span style=\"background-color: hsl(120, 100.00%, 90.35%); opacity: 0.83\" title=\"0.004\"> </span><span style=\"background-color: hsl(120, 100.00%, 89.09%); opacity: 0.83\" title=\"0.005\">m</span><span style=\"background-color: hsl(120, 100.00%, 86.88%); opacity: 0.84\" title=\"0.007\">a</span><span style=\"background-color: hsl(120, 100.00%, 88.69%); opacity: 0.83\" title=\"0.005\">n</span><span style=\"background-color: hsl(120, 100.00%, 92.01%); opacity: 0.82\" title=\"0.003\"> </span><span style=\"background-color: hsl(120, 100.00%, 93.81%); opacity: 0.81\" title=\"0.002\">(</span><span style=\"background-color: hsl(120, 100.00%, 97.32%); opacity: 0.80\" title=\"0.001\">i</span><span style=\"background-color: hsl(0, 100.00%, 99.48%); opacity: 0.80\" title=\"-0.000\">.</span><span style=\"background-color: hsl(0, 100.00%, 95.70%); opacity: 0.81\" title=\"-0.001\">e</span><span style=\"background-color: hsl(0, 100.00%, 93.12%); opacity: 0.82\" title=\"-0.003\">.</span><span style=\"background-color: hsl(0, 100.00%, 93.85%); opacity: 0.81\" title=\"-0.002\"> </span><span style=\"background-color: hsl(0, 100.00%, 94.55%); opacity: 0.81\" title=\"-0.002\">t</span><span style=\"background-color: hsl(120, 100.00%, 98.97%); opacity: 0.80\" title=\"0.000\">a</span><span style=\"background-color: hsl(0, 100.00%, 99.95%); opacity: 0.80\" title=\"-0.000\">r</span><span style=\"background-color: hsl(120, 100.00%, 97.98%); opacity: 0.80\" title=\"0.000\">z</span><span style=\"background-color: hsl(120, 100.00%, 95.28%); opacity: 0.81\" title=\"0.002\">a</span><span style=\"background-color: hsl(120, 100.00%, 93.65%); opacity: 0.81\" title=\"0.002\">n</span><span style=\"background-color: hsl(120, 100.00%, 97.81%); opacity: 0.80\" title=\"0.001\">)</span><span style=\"background-color: hsl(0, 100.00%, 96.80%); opacity: 0.81\" title=\"-0.001\"> </span><span style=\"background-color: hsl(0, 100.00%, 95.33%); opacity: 0.81\" title=\"-0.002\">r</span><span style=\"background-color: hsl(0, 100.00%, 96.90%); opacity: 0.81\" title=\"-0.001\">e</span><span style=\"background-color: hsl(0, 100.00%, 95.55%); opacity: 0.81\" title=\"-0.001\">s</span><span style=\"background-color: hsl(0, 100.00%, 92.96%); opacity: 0.82\" title=\"-0.003\">c</span><span style=\"background-color: hsl(0, 100.00%, 99.61%); opacity: 0.80\" title=\"-0.000\">u</span><span style=\"background-color: hsl(120, 100.00%, 88.23%); opacity: 0.83\" title=\"0.006\">e</span><span style=\"background-color: hsl(120, 100.00%, 85.25%); opacity: 0.85\" title=\"0.008\">s</span><span style=\"background-color: hsl(120, 100.00%, 85.07%); opacity: 0.85\" title=\"0.008\"> </span><span style=\"background-color: hsl(120, 100.00%, 84.29%); opacity: 0.85\" title=\"0.009\">a</span><span style=\"background-color: hsl(120, 100.00%, 90.03%); opacity: 0.83\" title=\"0.004\"> </span><span style=\"background-color: hsl(0, 100.00%, 96.60%); opacity: 0.81\" title=\"-0.001\">w</span><span style=\"background-color: hsl(0, 100.00%, 98.93%); opacity: 0.80\" title=\"-0.000\">o</span><span style=\"background-color: hsl(0, 100.00%, 98.64%); opacity: 0.80\" title=\"-0.000\">u</span><span style=\"background-color: hsl(120, 100.00%, 95.06%); opacity: 0.81\" title=\"0.002\">n</span><span style=\"background-color: hsl(120, 100.00%, 95.03%); opacity: 0.81\" title=\"0.002\">d</span><span style=\"background-color: hsl(0, 100.00%, 95.02%); opacity: 0.81\" title=\"-0.002\">e</span><span style=\"background-color: hsl(0, 100.00%, 91.14%); opacity: 0.82\" title=\"-0.004\">d</span><span style=\"background-color: hsl(0, 100.00%, 90.86%); opacity: 0.82\" title=\"-0.004\"> </span><span style=\"background-color: hsl(0, 100.00%, 95.18%); opacity: 0.81\" title=\"-0.002\">b</span><span style=\"background-color: hsl(120, 100.00%, 98.18%); opacity: 0.80\" title=\"0.000\">e</span><span style=\"background-color: hsl(0, 100.00%, 97.95%); opacity: 0.80\" title=\"-0.000\">l</span><span style=\"background-color: hsl(0, 100.00%, 90.41%); opacity: 0.83\" title=\"-0.004\">g</span><span style=\"background-color: hsl(0, 100.00%, 88.94%); opacity: 0.83\" title=\"-0.005\">i</span><span style=\"background-color: hsl(0, 100.00%, 95.95%); opacity: 0.81\" title=\"-0.001\">a</span><span style=\"background-color: hsl(120, 100.00%, 95.42%); opacity: 0.81\" title=\"0.001\">n</span><span style=\"background-color: hsl(120, 100.00%, 92.48%); opacity: 0.82\" title=\"0.003\"> </span><span style=\"background-color: hsl(120, 100.00%, 90.96%); opacity: 0.82\" title=\"0.004\">e</span><span style=\"background-color: hsl(120, 100.00%, 93.13%); opacity: 0.82\" title=\"0.003\">x</span><span style=\"background-color: hsl(0, 100.00%, 98.59%); opacity: 0.80\" title=\"-0.000\">p</span><span style=\"background-color: hsl(0, 100.00%, 95.65%); opacity: 0.81\" title=\"-0.001\">l</span><span style=\"background-color: hsl(0, 100.00%, 93.58%); opacity: 0.81\" title=\"-0.002\">o</span><span style=\"background-color: hsl(0, 100.00%, 95.27%); opacity: 0.81\" title=\"-0.002\">r</span><span style=\"background-color: hsl(120, 100.00%, 97.25%); opacity: 0.80\" title=\"0.001\">e</span><span style=\"background-color: hsl(120, 100.00%, 94.22%); opacity: 0.81\" title=\"0.002\">r</span><span style=\"background-color: hsl(120, 100.00%, 96.34%); opacity: 0.81\" title=\"0.001\">,</span><span style=\"background-color: hsl(0, 100.00%, 91.36%); opacity: 0.82\" title=\"-0.004\"> </span><span style=\"background-color: hsl(0, 100.00%, 86.40%); opacity: 0.84\" title=\"-0.007\">n</span><span style=\"background-color: hsl(0, 100.00%, 91.99%); opacity: 0.82\" title=\"-0.003\">u</span><span style=\"background-color: hsl(0, 100.00%, 98.78%); opacity: 0.80\" title=\"-0.000\">r</span><span style=\"background-color: hsl(0, 100.00%, 94.33%); opacity: 0.81\" title=\"-0.002\">s</span><span style=\"background-color: hsl(0, 100.00%, 91.43%); opacity: 0.82\" title=\"-0.004\">i</span><span style=\"background-color: hsl(0, 100.00%, 90.57%); opacity: 0.83\" title=\"-0.004\">n</span><span style=\"background-color: hsl(0, 100.00%, 90.86%); opacity: 0.82\" title=\"-0.004\">g</span><span style=\"background-color: hsl(120, 100.00%, 95.25%); opacity: 0.81\" title=\"0.002\"> </span><span style=\"background-color: hsl(120, 100.00%, 86.73%); opacity: 0.84\" title=\"0.007\">h</span><span style=\"background-color: hsl(120, 100.00%, 81.00%); opacity: 0.87\" title=\"0.011\">i</span><span style=\"background-color: hsl(120, 100.00%, 85.29%); opacity: 0.85\" title=\"0.008\">m</span><span style=\"background-color: hsl(0, 100.00%, 96.54%); opacity: 0.81\" title=\"-0.001\"> </span><span style=\"background-color: hsl(0, 100.00%, 85.61%); opacity: 0.85\" title=\"-0.008\">b</span><span style=\"background-color: hsl(0, 100.00%, 88.97%); opacity: 0.83\" title=\"-0.005\">a</span><span style=\"background-color: hsl(120, 100.00%, 92.79%); opacity: 0.82\" title=\"0.003\">c</span><span style=\"background-color: hsl(120, 100.00%, 92.22%); opacity: 0.82\" title=\"0.003\">k</span><span style=\"background-color: hsl(120, 100.00%, 91.73%); opacity: 0.82\" title=\"0.003\"> </span><span style=\"background-color: hsl(120, 100.00%, 93.89%); opacity: 0.81\" title=\"0.002\">t</span><span style=\"background-color: hsl(120, 100.00%, 98.51%); opacity: 0.80\" title=\"0.000\">o</span><span style=\"background-color: hsl(120, 100.00%, 94.82%); opacity: 0.81\" title=\"0.002\"> </span><span style=\"background-color: hsl(120, 100.00%, 89.92%); opacity: 0.83\" title=\"0.005\">h</span><span style=\"background-color: hsl(120, 100.00%, 89.11%); opacity: 0.83\" title=\"0.005\">e</span><span style=\"background-color: hsl(120, 100.00%, 92.00%); opacity: 0.82\" title=\"0.003\">a</span><span style=\"background-color: hsl(120, 100.00%, 94.83%); opacity: 0.81\" title=\"0.002\">l</span><span style=\"background-color: hsl(120, 100.00%, 98.27%); opacity: 0.80\" title=\"0.000\">t</span><span style=\"background-color: hsl(0, 100.00%, 91.87%); opacity: 0.82\" title=\"-0.003\">h</span><span style=\"background-color: hsl(0, 100.00%, 87.62%); opacity: 0.84\" title=\"-0.006\">.</span><span style=\"background-color: hsl(0, 100.00%, 91.25%); opacity: 0.82\" title=\"-0.004\"> </span><span style=\"background-color: hsl(120, 100.00%, 97.70%); opacity: 0.80\" title=\"0.001\">t</span><span style=\"background-color: hsl(120, 100.00%, 86.80%); opacity: 0.84\" title=\"0.007\">h</span><span style=\"background-color: hsl(120, 100.00%, 82.66%); opacity: 0.86\" title=\"0.010\">e</span><span style=\"background-color: hsl(120, 100.00%, 84.63%); opacity: 0.85\" title=\"0.008\"> </span><span style=\"background-color: hsl(120, 100.00%, 89.92%); opacity: 0.83\" title=\"0.005\">b</span><span style=\"background-color: hsl(120, 100.00%, 88.94%); opacity: 0.83\" title=\"0.005\">e</span><span style=\"background-color: hsl(0, 100.00%, 97.95%); opacity: 0.80\" title=\"-0.000\">l</span><span style=\"background-color: hsl(0, 100.00%, 90.41%); opacity: 0.83\" title=\"-0.004\">g</span><span style=\"background-color: hsl(0, 100.00%, 88.94%); opacity: 0.83\" title=\"-0.005\">i</span><span style=\"background-color: hsl(0, 100.00%, 93.00%); opacity: 0.82\" title=\"-0.003\">a</span><span style=\"background-color: hsl(120, 100.00%, 96.68%); opacity: 0.81\" title=\"0.001\">n</span><span style=\"background-color: hsl(0, 100.00%, 98.41%); opacity: 0.80\" title=\"-0.000\"> </span><span style=\"background-color: hsl(120, 100.00%, 95.43%); opacity: 0.81\" title=\"0.001\">d</span><span style=\"background-color: hsl(120, 100.00%, 86.34%); opacity: 0.84\" title=\"0.007\">i</span><span style=\"background-color: hsl(120, 100.00%, 78.85%); opacity: 0.88\" title=\"0.013\">s</span><span style=\"background-color: hsl(120, 100.00%, 72.51%); opacity: 0.92\" title=\"0.019\">c</span><span style=\"background-color: hsl(120, 100.00%, 72.39%); opacity: 0.92\" title=\"0.019\">o</span><span style=\"background-color: hsl(120, 100.00%, 75.40%); opacity: 0.90\" title=\"0.016\">v</span><span style=\"background-color: hsl(120, 100.00%, 81.54%); opacity: 0.87\" title=\"0.011\">e</span><span style=\"background-color: hsl(120, 100.00%, 90.19%); opacity: 0.83\" title=\"0.004\">r</span><span style=\"background-color: hsl(120, 100.00%, 91.19%); opacity: 0.82\" title=\"0.004\">s</span><span style=\"background-color: hsl(120, 100.00%, 94.16%); opacity: 0.81\" title=\"0.002\"> </span><span style=\"background-color: hsl(0, 100.00%, 97.15%); opacity: 0.80\" title=\"-0.001\">e</span><span style=\"background-color: hsl(0, 100.00%, 93.32%); opacity: 0.82\" title=\"-0.003\">v</span><span style=\"background-color: hsl(0, 100.00%, 93.60%); opacity: 0.81\" title=\"-0.002\">i</span><span style=\"background-color: hsl(120, 100.00%, 96.97%); opacity: 0.81\" title=\"0.001\">d</span><span style=\"background-color: hsl(120, 100.00%, 94.53%); opacity: 0.81\" title=\"0.002\">e</span><span style=\"background-color: hsl(120, 100.00%, 92.71%); opacity: 0.82\" title=\"0.003\">n</span><span style=\"background-color: hsl(120, 100.00%, 88.45%); opacity: 0.83\" title=\"0.006\">c</span><span style=\"background-color: hsl(120, 100.00%, 87.76%); opacity: 0.84\" title=\"0.006\">e</span><span style=\"background-color: hsl(120, 100.00%, 92.97%); opacity: 0.82\" title=\"0.003\"> </span><span style=\"background-color: hsl(120, 100.00%, 95.48%); opacity: 0.81\" title=\"0.001\">t</span><span style=\"background-color: hsl(0, 100.00%, 98.45%); opacity: 0.80\" title=\"-0.000\">h</span><span style=\"background-color: hsl(120, 100.00%, 92.51%); opacity: 0.82\" title=\"0.003\">a</span><span style=\"background-color: hsl(120, 100.00%, 89.88%); opacity: 0.83\" title=\"0.005\">t</span><span style=\"background-color: hsl(120, 100.00%, 84.78%); opacity: 0.85\" title=\"0.008\"> </span><span style=\"background-color: hsl(120, 100.00%, 85.25%); opacity: 0.85\" title=\"0.008\">h</span><span style=\"background-color: hsl(120, 100.00%, 89.39%); opacity: 0.83\" title=\"0.005\">i</span><span style=\"background-color: hsl(120, 100.00%, 95.33%); opacity: 0.81\" title=\"0.002\">s</span><span style=\"background-color: hsl(120, 100.00%, 94.39%); opacity: 0.81\" title=\"0.002\"> </span><span style=\"background-color: hsl(0, 100.00%, 97.41%); opacity: 0.80\" title=\"-0.001\">r</span><span style=\"background-color: hsl(0, 100.00%, 97.93%); opacity: 0.80\" title=\"-0.000\">e</span><span style=\"background-color: hsl(0, 100.00%, 95.55%); opacity: 0.81\" title=\"-0.001\">s</span><span style=\"background-color: hsl(0, 100.00%, 92.96%); opacity: 0.82\" title=\"-0.003\">c</span><span style=\"background-color: hsl(0, 100.00%, 96.51%); opacity: 0.81\" title=\"-0.001\">u</span><span style=\"background-color: hsl(120, 100.00%, 98.06%); opacity: 0.80\" title=\"0.000\">e</span><span style=\"background-color: hsl(0, 100.00%, 90.59%); opacity: 0.83\" title=\"-0.004\">r</span><span style=\"background-color: hsl(0, 100.00%, 91.91%); opacity: 0.82\" title=\"-0.003\"> </span><span style=\"background-color: hsl(0, 100.00%, 92.11%); opacity: 0.82\" title=\"-0.003\">i</span><span style=\"background-color: hsl(0, 100.00%, 93.90%); opacity: 0.81\" title=\"-0.002\">s</span><span style=\"background-color: hsl(120, 100.00%, 98.34%); opacity: 0.80\" title=\"0.000\"> </span><span style=\"background-color: hsl(120, 100.00%, 96.24%); opacity: 0.81\" title=\"0.001\">t</span><span style=\"background-color: hsl(120, 100.00%, 88.56%); opacity: 0.83\" title=\"0.005\">h</span><span style=\"background-color: hsl(120, 100.00%, 88.01%); opacity: 0.84\" title=\"0.006\">e</span><span style=\"background-color: hsl(120, 100.00%, 85.96%); opacity: 0.84\" title=\"0.007\"> </span><span style=\"background-color: hsl(120, 100.00%, 86.20%); opacity: 0.84\" title=\"0.007\">y</span><span style=\"background-color: hsl(120, 100.00%, 87.27%); opacity: 0.84\" title=\"0.006\">o</span><span style=\"background-color: hsl(120, 100.00%, 86.80%); opacity: 0.84\" title=\"0.007\">u</span><span style=\"background-color: hsl(120, 100.00%, 89.83%); opacity: 0.83\" title=\"0.005\">n</span><span style=\"background-color: hsl(120, 100.00%, 89.84%); opacity: 0.83\" title=\"0.005\">g</span><span style=\"background-color: hsl(120, 100.00%, 94.53%); opacity: 0.81\" title=\"0.002\"> </span><span style=\"background-color: hsl(120, 100.00%, 98.72%); opacity: 0.80\" title=\"0.000\">l</span><span style=\"background-color: hsl(0, 100.00%, 96.10%); opacity: 0.81\" title=\"-0.001\">o</span><span style=\"background-color: hsl(0, 100.00%, 95.35%); opacity: 0.81\" title=\"-0.002\">r</span><span style=\"background-color: hsl(0, 100.00%, 91.39%); opacity: 0.82\" title=\"-0.004\">d</span><span style=\"background-color: hsl(120, 100.00%, 93.62%); opacity: 0.81\" title=\"0.002\"> </span><span style=\"background-color: hsl(120, 100.00%, 83.04%); opacity: 0.86\" title=\"0.010\">g</span><span style=\"background-color: hsl(120, 100.00%, 83.52%); opacity: 0.86\" title=\"0.009\">r</span><span style=\"background-color: hsl(120, 100.00%, 89.66%); opacity: 0.83\" title=\"0.005\">e</span><span style=\"background-color: hsl(120, 100.00%, 94.32%); opacity: 0.81\" title=\"0.002\">y</span><span style=\"background-color: hsl(120, 100.00%, 96.37%); opacity: 0.81\" title=\"0.001\">s</span><span style=\"background-color: hsl(0, 100.00%, 96.52%); opacity: 0.81\" title=\"-0.001\">t</span><span style=\"background-color: hsl(0, 100.00%, 90.62%); opacity: 0.83\" title=\"-0.004\">o</span><span style=\"background-color: hsl(0, 100.00%, 84.67%); opacity: 0.85\" title=\"-0.008\">k</span><span style=\"background-color: hsl(0, 100.00%, 89.82%); opacity: 0.83\" title=\"-0.005\">e</span><span style=\"background-color: hsl(120, 100.00%, 98.33%); opacity: 0.80\" title=\"0.000\"> </span><span style=\"background-color: hsl(120, 100.00%, 88.08%); opacity: 0.84\" title=\"0.006\">a</span><span style=\"background-color: hsl(120, 100.00%, 80.73%); opacity: 0.87\" title=\"0.012\">n</span><span style=\"background-color: hsl(120, 100.00%, 82.75%); opacity: 0.86\" title=\"0.010\">d</span><span style=\"background-color: hsl(120, 100.00%, 86.90%); opacity: 0.84\" title=\"0.007\"> </span><span style=\"background-color: hsl(120, 100.00%, 89.56%); opacity: 0.83\" title=\"0.005\">r</span><span style=\"background-color: hsl(120, 100.00%, 92.45%); opacity: 0.82\" title=\"0.003\">e</span><span style=\"background-color: hsl(120, 100.00%, 94.43%); opacity: 0.81\" title=\"0.002\">t</span><span style=\"background-color: hsl(120, 100.00%, 88.74%); opacity: 0.83\" title=\"0.005\">u</span><span style=\"background-color: hsl(120, 100.00%, 85.81%); opacity: 0.85\" title=\"0.007\">r</span><span style=\"background-color: hsl(120, 100.00%, 92.14%); opacity: 0.82\" title=\"0.003\">n</span><span style=\"background-color: hsl(120, 100.00%, 92.16%); opacity: 0.82\" title=\"0.003\">s</span><span style=\"background-color: hsl(120, 100.00%, 86.36%); opacity: 0.84\" title=\"0.007\"> </span><span style=\"background-color: hsl(120, 100.00%, 83.87%); opacity: 0.85\" title=\"0.009\">h</span><span style=\"background-color: hsl(120, 100.00%, 81.15%); opacity: 0.87\" title=\"0.011\">i</span><span style=\"background-color: hsl(120, 100.00%, 84.83%); opacity: 0.85\" title=\"0.008\">m</span><span style=\"background-color: hsl(120, 100.00%, 93.04%); opacity: 0.82\" title=\"0.003\"> </span><span style=\"background-color: hsl(0, 100.00%, 97.06%); opacity: 0.80\" title=\"-0.001\">t</span><span style=\"background-color: hsl(0, 100.00%, 95.49%); opacity: 0.81\" title=\"-0.001\">o</span><span style=\"background-color: hsl(120, 100.00%, 92.89%); opacity: 0.82\" title=\"0.003\"> </span><span style=\"background-color: hsl(120, 100.00%, 87.98%); opacity: 0.84\" title=\"0.006\">h</span><span style=\"background-color: hsl(120, 100.00%, 91.89%); opacity: 0.82\" title=\"0.003\">i</span><span style=\"background-color: hsl(120, 100.00%, 96.88%); opacity: 0.81\" title=\"0.001\">s</span><span style=\"background-color: hsl(120, 100.00%, 88.33%); opacity: 0.83\" title=\"0.006\"> </span><span style=\"background-color: hsl(120, 100.00%, 90.56%); opacity: 0.83\" title=\"0.004\">r</span><span style=\"background-color: hsl(120, 100.00%, 88.97%); opacity: 0.83\" title=\"0.005\">i</span><span style=\"background-color: hsl(120, 100.00%, 87.37%); opacity: 0.84\" title=\"0.006\">g</span><span style=\"background-color: hsl(120, 100.00%, 87.48%); opacity: 0.84\" title=\"0.006\">h</span><span style=\"background-color: hsl(120, 100.00%, 87.23%); opacity: 0.84\" title=\"0.006\">t</span><span style=\"background-color: hsl(120, 100.00%, 90.32%); opacity: 0.83\" title=\"0.004\">f</span><span style=\"background-color: hsl(120, 100.00%, 97.89%); opacity: 0.80\" title=\"0.000\">u</span><span style=\"background-color: hsl(0, 100.00%, 98.31%); opacity: 0.80\" title=\"-0.000\">l</span><span style=\"background-color: hsl(120, 100.00%, 91.22%); opacity: 0.82\" title=\"0.004\"> </span><span style=\"background-color: hsl(120, 100.00%, 91.08%); opacity: 0.82\" title=\"0.004\">e</span><span style=\"background-color: hsl(120, 100.00%, 95.04%); opacity: 0.81\" title=\"0.002\">s</span><span style=\"background-color: hsl(0, 100.00%, 94.04%); opacity: 0.81\" title=\"-0.002\">t</span><span style=\"background-color: hsl(120, 100.00%, 98.38%); opacity: 0.80\" title=\"0.000\">a</span><span style=\"background-color: hsl(0, 100.00%, 95.55%); opacity: 0.81\" title=\"-0.001\">t</span><span style=\"background-color: hsl(120, 100.00%, 98.76%); opacity: 0.80\" title=\"0.000\">e</span><span style=\"background-color: hsl(120, 100.00%, 90.18%); opacity: 0.83\" title=\"0.004\"> </span><span style=\"background-color: hsl(120, 100.00%, 94.30%); opacity: 0.81\" title=\"0.002\">i</span><span style=\"background-color: hsl(0, 100.00%, 96.39%); opacity: 0.81\" title=\"-0.001\">n</span><span style=\"background-color: hsl(0, 100.00%, 91.37%); opacity: 0.82\" title=\"-0.004\"> </span><span style=\"background-color: hsl(0, 100.00%, 90.25%); opacity: 0.83\" title=\"-0.004\">s</span><span style=\"background-color: hsl(0, 100.00%, 92.36%); opacity: 0.82\" title=\"-0.003\">c</span><span style=\"background-color: hsl(0, 100.00%, 94.23%); opacity: 0.81\" title=\"-0.002\">o</span><span style=\"background-color: hsl(0, 100.00%, 92.31%); opacity: 0.82\" title=\"-0.003\">t</span><span style=\"background-color: hsl(0, 100.00%, 97.73%); opacity: 0.80\" title=\"-0.001\">l</span><span style=\"background-color: hsl(120, 100.00%, 97.99%); opacity: 0.80\" title=\"0.000\">a</span><span style=\"background-color: hsl(120, 100.00%, 92.88%); opacity: 0.82\" title=\"0.003\">n</span><span style=\"background-color: hsl(120, 100.00%, 98.37%); opacity: 0.80\" title=\"0.000\">d</span><span style=\"background-color: hsl(120, 100.00%, 96.27%); opacity: 0.81\" title=\"0.001\">,</span><span style=\"background-color: hsl(120, 100.00%, 95.16%); opacity: 0.81\" title=\"0.002\"> </span><span style=\"background-color: hsl(0, 100.00%, 99.61%); opacity: 0.80\" title=\"-0.000\">w</span><span style=\"background-color: hsl(0, 100.00%, 98.77%); opacity: 0.80\" title=\"-0.000\">h</span><span style=\"background-color: hsl(0, 100.00%, 94.75%); opacity: 0.81\" title=\"-0.002\">e</span><span style=\"background-color: hsl(0, 100.00%, 91.32%); opacity: 0.82\" title=\"-0.004\">r</span><span style=\"background-color: hsl(0, 100.00%, 91.87%); opacity: 0.82\" title=\"-0.003\">e</span><span style=\"background-color: hsl(120, 100.00%, 93.22%); opacity: 0.82\" title=\"0.003\"> </span><span style=\"background-color: hsl(120, 100.00%, 89.02%); opacity: 0.83\" title=\"0.005\">h</span><span style=\"background-color: hsl(120, 100.00%, 90.21%); opacity: 0.83\" title=\"0.004\">e</span><span style=\"background-color: hsl(120, 100.00%, 90.05%); opacity: 0.83\" title=\"0.004\"> </span><span style=\"background-color: hsl(120, 100.00%, 91.05%); opacity: 0.82\" title=\"0.004\">m</span><span style=\"background-color: hsl(120, 100.00%, 93.87%); opacity: 0.81\" title=\"0.002\">u</span><span style=\"background-color: hsl(120, 100.00%, 92.52%); opacity: 0.82\" title=\"0.003\">s</span><span style=\"background-color: hsl(120, 100.00%, 95.69%); opacity: 0.81\" title=\"0.001\">t</span><span style=\"background-color: hsl(120, 100.00%, 94.07%); opacity: 0.81\" title=\"0.002\"> </span><span style=\"background-color: hsl(0, 100.00%, 95.78%); opacity: 0.81\" title=\"-0.001\">a</span><span style=\"background-color: hsl(0, 100.00%, 93.29%); opacity: 0.82\" title=\"-0.003\">d</span><span style=\"background-color: hsl(0, 100.00%, 88.97%); opacity: 0.83\" title=\"-0.005\">j</span><span style=\"background-color: hsl(0, 100.00%, 86.12%); opacity: 0.84\" title=\"-0.007\">u</span><span style=\"background-color: hsl(0, 100.00%, 85.65%); opacity: 0.85\" title=\"-0.008\">s</span><span style=\"background-color: hsl(0, 100.00%, 89.92%); opacity: 0.83\" title=\"-0.005\">t</span><span style=\"background-color: hsl(0, 100.00%, 93.66%); opacity: 0.81\" title=\"-0.002\"> </span><span style=\"background-color: hsl(0, 100.00%, 97.58%); opacity: 0.80\" title=\"-0.001\">t</span><span style=\"background-color: hsl(0, 100.00%, 92.97%); opacity: 0.82\" title=\"-0.003\">o</span><span style=\"background-color: hsl(0, 100.00%, 92.80%); opacity: 0.82\" title=\"-0.003\"> </span><span style=\"background-color: hsl(120, 100.00%, 97.40%); opacity: 0.80\" title=\"0.001\">c</span><span style=\"background-color: hsl(120, 100.00%, 94.34%); opacity: 0.81\" title=\"0.002\">i</span><span style=\"background-color: hsl(0, 100.00%, 97.39%); opacity: 0.80\" title=\"-0.001\">v</span><span style=\"background-color: hsl(0, 100.00%, 98.66%); opacity: 0.80\" title=\"-0.000\">i</span><span style=\"background-color: hsl(120, 100.00%, 94.92%); opacity: 0.81\" title=\"0.002\">l</span><span style=\"background-color: hsl(120, 100.00%, 94.83%); opacity: 0.81\" title=\"0.002\">i</span><span style=\"background-color: hsl(0, 100.00%, 96.66%); opacity: 0.81\" title=\"-0.001\">z</span><span style=\"background-color: hsl(0, 100.00%, 95.19%); opacity: 0.81\" title=\"-0.002\">e</span><span style=\"background-color: hsl(0, 100.00%, 94.44%); opacity: 0.81\" title=\"-0.002\">d</span><span style=\"background-color: hsl(0, 100.00%, 94.24%); opacity: 0.81\" title=\"-0.002\"> </span><span style=\"background-color: hsl(120, 100.00%, 93.29%); opacity: 0.82\" title=\"0.003\">s</span><span style=\"background-color: hsl(120, 100.00%, 89.34%); opacity: 0.83\" title=\"0.005\">o</span><span style=\"background-color: hsl(120, 100.00%, 89.56%); opacity: 0.83\" title=\"0.005\">c</span><span style=\"background-color: hsl(120, 100.00%, 87.48%); opacity: 0.84\" title=\"0.006\">i</span><span style=\"background-color: hsl(120, 100.00%, 89.71%); opacity: 0.83\" title=\"0.005\">e</span><span style=\"background-color: hsl(120, 100.00%, 88.08%); opacity: 0.84\" title=\"0.006\">t</span><span style=\"background-color: hsl(120, 100.00%, 94.22%); opacity: 0.81\" title=\"0.002\">y</span><span style=\"background-color: hsl(0, 100.00%, 91.07%); opacity: 0.82\" title=\"-0.004\">.</span><span style=\"background-color: hsl(0, 100.00%, 89.97%); opacity: 0.83\" title=\"-0.005\"> </span><span style=\"background-color: hsl(0, 100.00%, 92.05%); opacity: 0.82\" title=\"-0.003\">t</span><span style=\"background-color: hsl(0, 100.00%, 95.32%); opacity: 0.81\" title=\"-0.002\">h</span><span style=\"background-color: hsl(0, 100.00%, 96.32%); opacity: 0.81\" title=\"-0.001\">e</span><span style=\"background-color: hsl(0, 100.00%, 96.63%); opacity: 0.81\" title=\"-0.001\"> </span><span style=\"background-color: hsl(0, 100.00%, 91.93%); opacity: 0.82\" title=\"-0.003\">m</span><span style=\"background-color: hsl(0, 100.00%, 94.11%); opacity: 0.81\" title=\"-0.002\">o</span><span style=\"background-color: hsl(0, 100.00%, 90.80%); opacity: 0.82\" title=\"-0.004\">v</span><span style=\"background-color: hsl(0, 100.00%, 91.60%); opacity: 0.82\" title=\"-0.004\">i</span><span style=\"background-color: hsl(0, 100.00%, 96.09%); opacity: 0.81\" title=\"-0.001\">e</span><span style=\"background-color: hsl(120, 100.00%, 96.70%); opacity: 0.81\" title=\"0.001\"> </span><span style=\"background-color: hsl(0, 100.00%, 95.77%); opacity: 0.81\" title=\"-0.001\">i</span><span style=\"background-color: hsl(0, 100.00%, 93.19%); opacity: 0.82\" title=\"-0.003\">s</span><span style=\"background-color: hsl(0, 100.00%, 87.97%); opacity: 0.84\" title=\"-0.006\"> </span><span style=\"background-color: hsl(0, 100.00%, 82.97%); opacity: 0.86\" title=\"-0.010\">s</span><span style=\"background-color: hsl(0, 100.00%, 81.74%); opacity: 0.87\" title=\"-0.011\">o</span><span style=\"background-color: hsl(0, 100.00%, 85.84%); opacity: 0.85\" title=\"-0.007\">r</span><span style=\"background-color: hsl(0, 100.00%, 93.07%); opacity: 0.82\" title=\"-0.003\">t</span><span style=\"background-color: hsl(0, 100.00%, 87.69%); opacity: 0.84\" title=\"-0.006\"> </span><span style=\"background-color: hsl(0, 100.00%, 87.81%); opacity: 0.84\" title=\"-0.006\">o</span><span style=\"background-color: hsl(0, 100.00%, 86.56%); opacity: 0.84\" title=\"-0.007\">f</span><span style=\"background-color: hsl(0, 100.00%, 85.06%); opacity: 0.85\" title=\"-0.008\"> </span><span style=\"background-color: hsl(0, 100.00%, 87.10%); opacity: 0.84\" title=\"-0.006\">d</span><span style=\"background-color: hsl(120, 100.00%, 98.19%); opacity: 0.80\" title=\"0.000\">i</span><span style=\"background-color: hsl(120, 100.00%, 92.43%); opacity: 0.82\" title=\"0.003\">v</span><span style=\"background-color: hsl(0, 100.00%, 95.61%); opacity: 0.81\" title=\"-0.001\">i</span><span style=\"background-color: hsl(0, 100.00%, 94.16%); opacity: 0.81\" title=\"-0.002\">d</span><span style=\"background-color: hsl(0, 100.00%, 93.41%); opacity: 0.82\" title=\"-0.002\">e</span><span style=\"background-color: hsl(0, 100.00%, 90.72%); opacity: 0.82\" title=\"-0.004\">d</span><span style=\"background-color: hsl(0, 100.00%, 99.22%); opacity: 0.80\" title=\"-0.000\"> </span><span style=\"background-color: hsl(120, 100.00%, 94.55%); opacity: 0.81\" title=\"0.002\">i</span><span style=\"background-color: hsl(120, 100.00%, 94.71%); opacity: 0.81\" title=\"0.002\">n</span><span style=\"background-color: hsl(120, 100.00%, 93.17%); opacity: 0.82\" title=\"0.003\">t</span><span style=\"background-color: hsl(120, 100.00%, 97.01%); opacity: 0.80\" title=\"0.001\">o</span><span style=\"background-color: hsl(120, 100.00%, 96.22%); opacity: 0.81\" title=\"0.001\"> </span><span style=\"background-color: hsl(120, 100.00%, 87.48%); opacity: 0.84\" title=\"0.006\">t</span><span style=\"background-color: hsl(120, 100.00%, 91.25%); opacity: 0.82\" title=\"0.004\">w</span><span style=\"background-color: hsl(0, 100.00%, 97.00%); opacity: 0.80\" title=\"-0.001\">o</span><span style=\"background-color: hsl(0, 100.00%, 96.58%); opacity: 0.81\" title=\"-0.001\"> </span><span style=\"background-color: hsl(120, 100.00%, 93.22%); opacity: 0.82\" title=\"0.003\">p</span><span style=\"background-color: hsl(120, 100.00%, 88.75%); opacity: 0.83\" title=\"0.005\">a</span><span style=\"background-color: hsl(120, 100.00%, 87.52%); opacity: 0.84\" title=\"0.006\">r</span><span style=\"background-color: hsl(120, 100.00%, 91.48%); opacity: 0.82\" title=\"0.004\">t</span><span style=\"background-color: hsl(120, 100.00%, 98.38%); opacity: 0.80\" title=\"0.000\">s</span><span style=\"background-color: hsl(0, 100.00%, 94.30%); opacity: 0.81\" title=\"-0.002\">.</span><span style=\"background-color: hsl(120, 100.00%, 98.95%); opacity: 0.80\" title=\"0.000\"> </span><span style=\"background-color: hsl(0, 100.00%, 98.85%); opacity: 0.80\" title=\"-0.000\">i</span><span style=\"background-color: hsl(0, 100.00%, 91.56%); opacity: 0.82\" title=\"-0.004\">n</span><span style=\"background-color: hsl(0, 100.00%, 93.59%); opacity: 0.81\" title=\"-0.002\"> </span><span style=\"background-color: hsl(0, 100.00%, 92.32%); opacity: 0.82\" title=\"-0.003\">t</span><span style=\"background-color: hsl(0, 100.00%, 98.02%); opacity: 0.80\" title=\"-0.000\">h</span><span style=\"background-color: hsl(120, 100.00%, 95.58%); opacity: 0.81\" title=\"0.001\">e</span><span style=\"background-color: hsl(120, 100.00%, 88.56%); opacity: 0.83\" title=\"0.005\"> </span><span style=\"background-color: hsl(120, 100.00%, 86.63%); opacity: 0.84\" title=\"0.007\">f</span><span style=\"background-color: hsl(120, 100.00%, 85.41%); opacity: 0.85\" title=\"0.008\">i</span><span style=\"background-color: hsl(120, 100.00%, 95.92%); opacity: 0.81\" title=\"0.001\">r</span><span style=\"background-color: hsl(0, 100.00%, 90.70%); opacity: 0.82\" title=\"-0.004\">s</span><span style=\"background-color: hsl(0, 100.00%, 87.92%); opacity: 0.84\" title=\"-0.006\">t</span><span style=\"background-color: hsl(0, 100.00%, 85.45%); opacity: 0.85\" title=\"-0.008\"> </span><span style=\"background-color: hsl(0, 100.00%, 81.52%); opacity: 0.87\" title=\"-0.011\">h</span><span style=\"background-color: hsl(0, 100.00%, 77.45%); opacity: 0.89\" title=\"-0.014\">a</span><span style=\"background-color: hsl(0, 100.00%, 76.94%); opacity: 0.89\" title=\"-0.015\">l</span><span style=\"background-color: hsl(0, 100.00%, 80.24%); opacity: 0.87\" title=\"-0.012\">f</span><span style=\"background-color: hsl(120, 100.00%, 99.71%); opacity: 0.80\" title=\"0.000\">,</span><span style=\"background-color: hsl(120, 100.00%, 97.35%); opacity: 0.80\" title=\"0.001\"> </span><span style=\"background-color: hsl(120, 100.00%, 94.10%); opacity: 0.81\" title=\"0.002\">w</span><span style=\"background-color: hsl(120, 100.00%, 89.79%); opacity: 0.83\" title=\"0.005\">e</span><span style=\"background-color: hsl(120, 100.00%, 90.52%); opacity: 0.83\" title=\"0.004\"> </span><span style=\"background-color: hsl(120, 100.00%, 88.78%); opacity: 0.83\" title=\"0.005\">s</span><span style=\"background-color: hsl(120, 100.00%, 84.24%); opacity: 0.85\" title=\"0.009\">e</span><span style=\"background-color: hsl(120, 100.00%, 83.02%); opacity: 0.86\" title=\"0.010\">e</span><span style=\"background-color: hsl(120, 100.00%, 87.84%); opacity: 0.84\" title=\"0.006\"> </span><span style=\"background-color: hsl(120, 100.00%, 94.39%); opacity: 0.81\" title=\"0.002\">t</span><span style=\"background-color: hsl(120, 100.00%, 99.40%); opacity: 0.80\" title=\"0.000\">a</span><span style=\"background-color: hsl(0, 100.00%, 99.95%); opacity: 0.80\" title=\"-0.000\">r</span><span style=\"background-color: hsl(120, 100.00%, 97.98%); opacity: 0.80\" title=\"0.000\">z</span><span style=\"background-color: hsl(120, 100.00%, 95.62%); opacity: 0.81\" title=\"0.001\">a</span><span style=\"background-color: hsl(120, 100.00%, 93.12%); opacity: 0.82\" title=\"0.003\">n</span><span style=\"background-color: hsl(120, 100.00%, 90.11%); opacity: 0.83\" title=\"0.004\"> </span><span style=\"background-color: hsl(120, 100.00%, 90.13%); opacity: 0.83\" title=\"0.004\">i</span><span style=\"background-color: hsl(120, 100.00%, 91.20%); opacity: 0.82\" title=\"0.004\">n</span><span style=\"background-color: hsl(120, 100.00%, 85.64%); opacity: 0.85\" title=\"0.008\"> </span><span style=\"background-color: hsl(120, 100.00%, 88.52%); opacity: 0.83\" title=\"0.005\">h</span><span style=\"background-color: hsl(0, 100.00%, 98.71%); opacity: 0.80\" title=\"-0.000\">i</span><span style=\"background-color: hsl(0, 100.00%, 86.66%); opacity: 0.84\" title=\"-0.007\">s</span><span style=\"background-color: hsl(0, 100.00%, 87.42%); opacity: 0.84\" title=\"-0.006\"> </span><span style=\"background-color: hsl(0, 100.00%, 83.40%); opacity: 0.86\" title=\"-0.009\">j</span><span style=\"background-color: hsl(0, 100.00%, 87.00%); opacity: 0.84\" title=\"-0.007\">u</span><span style=\"background-color: hsl(0, 100.00%, 94.09%); opacity: 0.81\" title=\"-0.002\">n</span><span style=\"background-color: hsl(0, 100.00%, 95.18%); opacity: 0.81\" title=\"-0.002\">g</span><span style=\"background-color: hsl(0, 100.00%, 89.76%); opacity: 0.83\" title=\"-0.005\">l</span><span style=\"background-color: hsl(0, 100.00%, 89.60%); opacity: 0.83\" title=\"-0.005\">e</span><span style=\"background-color: hsl(0, 100.00%, 98.10%); opacity: 0.80\" title=\"-0.000\"> </span><span style=\"background-color: hsl(120, 100.00%, 96.38%); opacity: 0.81\" title=\"0.001\">e</span><span style=\"background-color: hsl(0, 100.00%, 97.65%); opacity: 0.80\" title=\"-0.001\">n</span><span style=\"background-color: hsl(0, 100.00%, 93.47%); opacity: 0.82\" title=\"-0.002\">v</span><span style=\"background-color: hsl(0, 100.00%, 97.28%); opacity: 0.80\" title=\"-0.001\">i</span><span style=\"background-color: hsl(0, 100.00%, 99.00%); opacity: 0.80\" title=\"-0.000\">r</span><span style=\"background-color: hsl(120, 100.00%, 99.69%); opacity: 0.80\" title=\"0.000\">o</span><span style=\"background-color: hsl(0, 100.00%, 97.40%); opacity: 0.80\" title=\"-0.001\">n</span><span style=\"background-color: hsl(0, 100.00%, 91.50%); opacity: 0.82\" title=\"-0.004\">m</span><span style=\"background-color: hsl(0, 100.00%, 92.46%); opacity: 0.82\" title=\"-0.003\">e</span><span style=\"background-color: hsl(0, 100.00%, 99.61%); opacity: 0.80\" title=\"-0.000\">n</span><span style=\"background-color: hsl(120, 100.00%, 95.08%); opacity: 0.81\" title=\"0.002\">t</span><span style=\"background-color: hsl(0, 100.00%, 91.32%); opacity: 0.82\" title=\"-0.004\">.</span><span style=\"background-color: hsl(0, 100.00%, 84.96%); opacity: 0.85\" title=\"-0.008\"> </span><span style=\"background-color: hsl(0, 100.00%, 82.78%); opacity: 0.86\" title=\"-0.010\">n</span><span style=\"background-color: hsl(0, 100.00%, 89.53%); opacity: 0.83\" title=\"-0.005\">o</span><span style=\"background-color: hsl(120, 100.00%, 95.83%); opacity: 0.81\" title=\"0.001\">t</span><span style=\"background-color: hsl(120, 100.00%, 91.15%); opacity: 0.82\" title=\"0.004\"> </span><span style=\"background-color: hsl(120, 100.00%, 87.80%); opacity: 0.84\" title=\"0.006\">b</span><span style=\"background-color: hsl(120, 100.00%, 90.26%); opacity: 0.83\" title=\"0.004\">e</span><span style=\"background-color: hsl(0, 100.00%, 94.24%); opacity: 0.81\" title=\"-0.002\">i</span><span style=\"background-color: hsl(0, 100.00%, 92.20%); opacity: 0.82\" title=\"-0.003\">n</span><span style=\"background-color: hsl(0, 100.00%, 92.17%); opacity: 0.82\" title=\"-0.003\">g</span><span style=\"background-color: hsl(0, 100.00%, 94.77%); opacity: 0.81\" title=\"-0.002\"> </span><span style=\"background-color: hsl(120, 100.00%, 92.28%); opacity: 0.82\" title=\"0.003\">a</span><span style=\"background-color: hsl(120, 100.00%, 89.81%); opacity: 0.83\" title=\"0.005\">n</span><span style=\"background-color: hsl(120, 100.00%, 91.09%); opacity: 0.82\" title=\"0.004\"> </span><span style=\"background-color: hsl(120, 100.00%, 88.68%); opacity: 0.83\" title=\"0.005\">e</span><span style=\"background-color: hsl(120, 100.00%, 89.84%); opacity: 0.83\" title=\"0.005\">x</span><span style=\"background-color: hsl(120, 100.00%, 86.73%); opacity: 0.84\" title=\"0.007\">p</span><span style=\"background-color: hsl(120, 100.00%, 86.49%); opacity: 0.84\" title=\"0.007\">e</span><span style=\"background-color: hsl(120, 100.00%, 87.25%); opacity: 0.84\" title=\"0.006\">r</span><span style=\"background-color: hsl(120, 100.00%, 89.18%); opacity: 0.83\" title=\"0.005\">t</span><span style=\"background-color: hsl(120, 100.00%, 93.73%); opacity: 0.81\" title=\"0.002\">,</span><span style=\"background-color: hsl(120, 100.00%, 98.88%); opacity: 0.80\" title=\"0.000\"> </span><span style=\"background-color: hsl(0, 100.00%, 90.07%); opacity: 0.83\" title=\"-0.004\">i</span><span style=\"background-color: hsl(0, 100.00%, 85.49%); opacity: 0.85\" title=\"-0.008\"> </span><span style=\"background-color: hsl(0, 100.00%, 83.01%); opacity: 0.86\" title=\"-0.010\">a</span><span style=\"background-color: hsl(0, 100.00%, 84.05%); opacity: 0.85\" title=\"-0.009\">m</span><span style=\"background-color: hsl(0, 100.00%, 83.94%); opacity: 0.85\" title=\"-0.009\"> </span><span style=\"background-color: hsl(0, 100.00%, 85.22%); opacity: 0.85\" title=\"-0.008\">u</span><span style=\"background-color: hsl(0, 100.00%, 88.62%); opacity: 0.83\" title=\"-0.005\">n</span><span style=\"background-color: hsl(0, 100.00%, 98.07%); opacity: 0.80\" title=\"-0.000\">a</span><span style=\"background-color: hsl(120, 100.00%, 92.90%); opacity: 0.82\" title=\"0.003\">w</span><span style=\"background-color: hsl(120, 100.00%, 90.94%); opacity: 0.82\" title=\"0.004\">a</span><span style=\"background-color: hsl(120, 100.00%, 91.42%); opacity: 0.82\" title=\"0.004\">r</span><span style=\"background-color: hsl(120, 100.00%, 99.18%); opacity: 0.80\" title=\"0.000\">e</span><span style=\"background-color: hsl(120, 100.00%, 91.13%); opacity: 0.82\" title=\"0.004\"> </span><span style=\"background-color: hsl(120, 100.00%, 92.24%); opacity: 0.82\" title=\"0.003\">a</span><span style=\"background-color: hsl(120, 100.00%, 92.21%); opacity: 0.82\" title=\"0.003\">s</span><span style=\"background-color: hsl(120, 100.00%, 91.52%); opacity: 0.82\" title=\"0.004\"> </span><span style=\"background-color: hsl(120, 100.00%, 93.28%); opacity: 0.82\" title=\"0.003\">t</span><span style=\"background-color: hsl(120, 100.00%, 93.74%); opacity: 0.81\" title=\"0.002\">o</span><span style=\"background-color: hsl(120, 100.00%, 93.36%); opacity: 0.82\" title=\"0.003\"> </span><span style=\"background-color: hsl(120, 100.00%, 87.57%); opacity: 0.84\" title=\"0.006\">t</span><span style=\"background-color: hsl(120, 100.00%, 86.05%); opacity: 0.84\" title=\"0.007\">h</span><span style=\"background-color: hsl(120, 100.00%, 84.32%); opacity: 0.85\" title=\"0.009\">e</span><span style=\"background-color: hsl(120, 100.00%, 83.73%); opacity: 0.86\" title=\"0.009\"> </span><span style=\"background-color: hsl(120, 100.00%, 83.82%); opacity: 0.85\" title=\"0.009\">r</span><span style=\"background-color: hsl(120, 100.00%, 82.59%); opacity: 0.86\" title=\"0.010\">e</span><span style=\"background-color: hsl(120, 100.00%, 78.40%); opacity: 0.88\" title=\"0.014\">a</span><span style=\"background-color: hsl(120, 100.00%, 79.58%); opacity: 0.88\" title=\"0.013\">l</span><span style=\"background-color: hsl(120, 100.00%, 82.97%); opacity: 0.86\" title=\"0.010\">i</span><span style=\"background-color: hsl(120, 100.00%, 87.95%); opacity: 0.84\" title=\"0.006\">s</span><span style=\"background-color: hsl(120, 100.00%, 89.28%); opacity: 0.83\" title=\"0.005\">m</span><span style=\"background-color: hsl(120, 100.00%, 94.38%); opacity: 0.81\" title=\"0.002\"> </span><span style=\"background-color: hsl(120, 100.00%, 96.04%); opacity: 0.81\" title=\"0.001\">o</span><span style=\"background-color: hsl(0, 100.00%, 98.63%); opacity: 0.80\" title=\"-0.000\">f</span><span style=\"background-color: hsl(120, 100.00%, 92.52%); opacity: 0.82\" title=\"0.003\"> </span><span style=\"background-color: hsl(120, 100.00%, 88.31%); opacity: 0.83\" title=\"0.006\">i</span><span style=\"background-color: hsl(120, 100.00%, 90.59%); opacity: 0.83\" title=\"0.004\">t</span><span style=\"background-color: hsl(120, 100.00%, 96.07%); opacity: 0.81\" title=\"0.001\">s</span><span style=\"background-color: hsl(120, 100.00%, 95.04%); opacity: 0.81\" title=\"0.002\"> </span><span style=\"background-color: hsl(120, 100.00%, 94.68%); opacity: 0.81\" title=\"0.002\">d</span><span style=\"background-color: hsl(120, 100.00%, 88.61%); opacity: 0.83\" title=\"0.005\">e</span><span style=\"background-color: hsl(120, 100.00%, 91.15%); opacity: 0.82\" title=\"0.004\">p</span><span style=\"background-color: hsl(120, 100.00%, 91.03%); opacity: 0.82\" title=\"0.004\">i</span><span style=\"background-color: hsl(120, 100.00%, 93.59%); opacity: 0.81\" title=\"0.002\">c</span><span style=\"background-color: hsl(120, 100.00%, 94.62%); opacity: 0.81\" title=\"0.002\">t</span><span style=\"background-color: hsl(120, 100.00%, 96.26%); opacity: 0.81\" title=\"0.001\">i</span><span style=\"background-color: hsl(120, 100.00%, 98.02%); opacity: 0.80\" title=\"0.000\">o</span><span style=\"background-color: hsl(0, 100.00%, 95.21%); opacity: 0.81\" title=\"-0.002\">n</span><span style=\"background-color: hsl(0, 100.00%, 90.50%); opacity: 0.83\" title=\"-0.004\"> </span><span style=\"background-color: hsl(0, 100.00%, 88.60%); opacity: 0.83\" title=\"-0.005\">o</span><span style=\"background-color: hsl(0, 100.00%, 91.31%); opacity: 0.82\" title=\"-0.004\">f</span><span style=\"background-color: hsl(0, 100.00%, 94.24%); opacity: 0.81\" title=\"-0.002\"> </span><span style=\"background-color: hsl(0, 100.00%, 88.79%); opacity: 0.83\" title=\"-0.005\">a</span><span style=\"background-color: hsl(0, 100.00%, 91.34%); opacity: 0.82\" title=\"-0.004\">p</span><span style=\"background-color: hsl(120, 100.00%, 98.44%); opacity: 0.80\" title=\"0.000\">e</span><span style=\"background-color: hsl(120, 100.00%, 92.19%); opacity: 0.82\" title=\"0.003\"> </span><span style=\"background-color: hsl(120, 100.00%, 89.73%); opacity: 0.83\" title=\"0.005\">c</span><span style=\"background-color: hsl(120, 100.00%, 89.18%); opacity: 0.83\" title=\"0.005\">o</span><span style=\"background-color: hsl(120, 100.00%, 89.57%); opacity: 0.83\" title=\"0.005\">m</span><span style=\"background-color: hsl(120, 100.00%, 96.29%); opacity: 0.81\" title=\"0.001\">m</span><span style=\"background-color: hsl(0, 100.00%, 91.34%); opacity: 0.82\" title=\"-0.004\">u</span><span style=\"background-color: hsl(120, 100.00%, 98.57%); opacity: 0.80\" title=\"0.000\">n</span><span style=\"background-color: hsl(120, 100.00%, 94.14%); opacity: 0.81\" title=\"0.002\">i</span><span style=\"background-color: hsl(120, 100.00%, 91.59%); opacity: 0.82\" title=\"0.004\">t</span><span style=\"background-color: hsl(0, 100.00%, 95.91%); opacity: 0.81\" title=\"-0.001\">y</span><span style=\"background-color: hsl(120, 100.00%, 94.91%); opacity: 0.81\" title=\"0.002\"> </span><span style=\"background-color: hsl(120, 100.00%, 85.53%); opacity: 0.85\" title=\"0.008\">l</span><span style=\"background-color: hsl(120, 100.00%, 80.38%); opacity: 0.87\" title=\"0.012\">i</span><span style=\"background-color: hsl(120, 100.00%, 80.33%); opacity: 0.87\" title=\"0.012\">f</span><span style=\"background-color: hsl(120, 100.00%, 84.63%); opacity: 0.85\" title=\"0.008\">e</span><span style=\"background-color: hsl(120, 100.00%, 94.68%); opacity: 0.81\" title=\"0.002\">,</span><span style=\"background-color: hsl(0, 100.00%, 94.12%); opacity: 0.81\" title=\"-0.002\"> </span><span style=\"background-color: hsl(0, 100.00%, 93.21%); opacity: 0.82\" title=\"-0.003\">b</span><span style=\"background-color: hsl(120, 100.00%, 96.79%); opacity: 0.81\" title=\"0.001\">u</span><span style=\"background-color: hsl(120, 100.00%, 93.56%); opacity: 0.81\" title=\"0.002\">t</span><span style=\"background-color: hsl(120, 100.00%, 84.80%); opacity: 0.85\" title=\"0.008\"> </span><span style=\"background-color: hsl(120, 100.00%, 77.15%); opacity: 0.89\" title=\"0.015\">i</span><span style=\"background-color: hsl(120, 100.00%, 79.76%); opacity: 0.88\" title=\"0.012\">t</span><span style=\"background-color: hsl(120, 100.00%, 82.31%); opacity: 0.86\" title=\"0.010\"> </span><span style=\"background-color: hsl(120, 100.00%, 86.39%); opacity: 0.84\" title=\"0.007\">i</span><span style=\"background-color: hsl(120, 100.00%, 91.26%); opacity: 0.82\" title=\"0.004\">s</span><span style=\"background-color: hsl(120, 100.00%, 87.74%); opacity: 0.84\" title=\"0.006\"> </span><span style=\"background-color: hsl(120, 100.00%, 84.51%); opacity: 0.85\" title=\"0.008\">c</span><span style=\"background-color: hsl(120, 100.00%, 79.45%); opacity: 0.88\" title=\"0.013\">e</span><span style=\"background-color: hsl(120, 100.00%, 77.35%); opacity: 0.89\" title=\"0.015\">r</span><span style=\"background-color: hsl(120, 100.00%, 75.66%); opacity: 0.90\" title=\"0.016\">t</span><span style=\"background-color: hsl(120, 100.00%, 79.28%); opacity: 0.88\" title=\"0.013\">a</span><span style=\"background-color: hsl(120, 100.00%, 83.68%); opacity: 0.86\" title=\"0.009\">i</span><span style=\"background-color: hsl(120, 100.00%, 97.71%); opacity: 0.80\" title=\"0.001\">n</span><span style=\"background-color: hsl(0, 100.00%, 95.23%); opacity: 0.81\" title=\"-0.002\">l</span><span style=\"background-color: hsl(120, 100.00%, 93.45%); opacity: 0.82\" title=\"0.002\">y</span><span style=\"background-color: hsl(120, 100.00%, 85.73%); opacity: 0.85\" title=\"0.007\"> </span><span style=\"background-color: hsl(120, 100.00%, 79.95%); opacity: 0.87\" title=\"0.012\">e</span><span style=\"background-color: hsl(120, 100.00%, 81.99%); opacity: 0.86\" title=\"0.010\">n</span><span style=\"background-color: hsl(120, 100.00%, 87.89%); opacity: 0.84\" title=\"0.006\">t</span><span style=\"background-color: hsl(120, 100.00%, 83.18%); opacity: 0.86\" title=\"0.009\">e</span><span style=\"background-color: hsl(120, 100.00%, 75.75%); opacity: 0.90\" title=\"0.016\">r</span><span style=\"background-color: hsl(120, 100.00%, 73.19%); opacity: 0.91\" title=\"0.018\">t</span><span style=\"background-color: hsl(120, 100.00%, 76.27%); opacity: 0.89\" title=\"0.016\">a</span><span style=\"background-color: hsl(120, 100.00%, 80.11%); opacity: 0.87\" title=\"0.012\">i</span><span style=\"background-color: hsl(120, 100.00%, 82.55%); opacity: 0.86\" title=\"0.010\">n</span><span style=\"background-color: hsl(120, 100.00%, 86.90%); opacity: 0.84\" title=\"0.007\">i</span><span style=\"background-color: hsl(120, 100.00%, 94.51%); opacity: 0.81\" title=\"0.002\">n</span><span style=\"background-color: hsl(120, 100.00%, 96.85%); opacity: 0.81\" title=\"0.001\">g</span><span style=\"background-color: hsl(0, 100.00%, 95.05%); opacity: 0.81\" title=\"-0.002\">.</span><span style=\"background-color: hsl(0, 100.00%, 97.11%); opacity: 0.80\" title=\"-0.001\"> </span><span style=\"background-color: hsl(120, 100.00%, 97.68%); opacity: 0.80\" title=\"0.001\">f</span><span style=\"background-color: hsl(0, 100.00%, 90.09%); opacity: 0.83\" title=\"-0.004\">o</span><span style=\"background-color: hsl(0, 100.00%, 89.13%); opacity: 0.83\" title=\"-0.005\">r</span><span style=\"background-color: hsl(0, 100.00%, 94.32%); opacity: 0.81\" title=\"-0.002\"> </span><span style=\"background-color: hsl(0, 100.00%, 99.35%); opacity: 0.80\" title=\"-0.000\">m</span><span style=\"background-color: hsl(0, 100.00%, 96.14%); opacity: 0.81\" title=\"-0.001\">e</span><span style=\"background-color: hsl(120, 100.00%, 94.61%); opacity: 0.81\" title=\"0.002\">,</span><span style=\"background-color: hsl(0, 100.00%, 97.84%); opacity: 0.80\" title=\"-0.001\"> </span><span style=\"background-color: hsl(0, 100.00%, 93.87%); opacity: 0.81\" title=\"-0.002\">t</span><span style=\"background-color: hsl(0, 100.00%, 98.52%); opacity: 0.80\" title=\"-0.000\">h</span><span style=\"background-color: hsl(120, 100.00%, 93.17%); opacity: 0.82\" title=\"0.003\">e</span><span style=\"background-color: hsl(120, 100.00%, 89.32%); opacity: 0.83\" title=\"0.005\"> </span><span style=\"background-color: hsl(120, 100.00%, 87.59%); opacity: 0.84\" title=\"0.006\">m</span><span style=\"background-color: hsl(120, 100.00%, 89.47%); opacity: 0.83\" title=\"0.005\">o</span><span style=\"background-color: hsl(120, 100.00%, 92.17%); opacity: 0.82\" title=\"0.003\">r</span><span style=\"background-color: hsl(120, 100.00%, 93.23%); opacity: 0.82\" title=\"0.003\">e</span><span style=\"background-color: hsl(120, 100.00%, 97.81%); opacity: 0.80\" title=\"0.001\"> </span><span style=\"background-color: hsl(0, 100.00%, 96.69%); opacity: 0.81\" title=\"-0.001\">m</span><span style=\"background-color: hsl(120, 100.00%, 87.68%); opacity: 0.84\" title=\"0.006\">o</span><span style=\"background-color: hsl(120, 100.00%, 87.91%); opacity: 0.84\" title=\"0.006\">v</span><span style=\"background-color: hsl(120, 100.00%, 94.60%); opacity: 0.81\" title=\"0.002\">i</span><span style=\"background-color: hsl(120, 100.00%, 93.77%); opacity: 0.81\" title=\"0.002\">n</span><span style=\"background-color: hsl(0, 100.00%, 97.87%); opacity: 0.80\" title=\"-0.000\">g</span><span style=\"background-color: hsl(0, 100.00%, 89.88%); opacity: 0.83\" title=\"-0.005\"> </span><span style=\"background-color: hsl(0, 100.00%, 89.56%); opacity: 0.83\" title=\"-0.005\">s</span><span style=\"background-color: hsl(120, 100.00%, 97.39%); opacity: 0.80\" title=\"0.001\">e</span><span style=\"background-color: hsl(120, 100.00%, 94.23%); opacity: 0.81\" title=\"0.002\">c</span><span style=\"background-color: hsl(120, 100.00%, 91.45%); opacity: 0.82\" title=\"0.004\">t</span><span style=\"background-color: hsl(120, 100.00%, 92.53%); opacity: 0.82\" title=\"0.003\">i</span><span style=\"background-color: hsl(120, 100.00%, 95.84%); opacity: 0.81\" title=\"0.001\">o</span><span style=\"background-color: hsl(0, 100.00%, 97.81%); opacity: 0.80\" title=\"-0.001\">n</span><span style=\"background-color: hsl(0, 100.00%, 99.40%); opacity: 0.80\" title=\"-0.000\"> </span><span style=\"background-color: hsl(0, 100.00%, 92.20%); opacity: 0.82\" title=\"-0.003\">i</span><span style=\"background-color: hsl(0, 100.00%, 93.26%); opacity: 0.82\" title=\"-0.003\">s</span><span style=\"background-color: hsl(120, 100.00%, 97.82%); opacity: 0.80\" title=\"0.001\"> </span><span style=\"background-color: hsl(120, 100.00%, 96.08%); opacity: 0.81\" title=\"0.001\">t</span><span style=\"background-color: hsl(120, 100.00%, 88.46%); opacity: 0.83\" title=\"0.006\">h</span><span style=\"background-color: hsl(120, 100.00%, 86.62%); opacity: 0.84\" title=\"0.007\">e</span><span style=\"background-color: hsl(120, 100.00%, 94.13%); opacity: 0.81\" title=\"0.002\"> </span><span style=\"background-color: hsl(0, 100.00%, 90.78%); opacity: 0.82\" title=\"-0.004\">s</span><span style=\"background-color: hsl(0, 100.00%, 91.37%); opacity: 0.82\" title=\"-0.004\">e</span><span style=\"background-color: hsl(0, 100.00%, 89.52%); opacity: 0.83\" title=\"-0.005\">c</span><span style=\"background-color: hsl(0, 100.00%, 89.78%); opacity: 0.83\" title=\"-0.005\">o</span><span style=\"background-color: hsl(0, 100.00%, 97.46%); opacity: 0.80\" title=\"-0.001\">n</span><span style=\"background-color: hsl(0, 100.00%, 96.89%); opacity: 0.81\" title=\"-0.001\">d</span><span style=\"background-color: hsl(0, 100.00%, 89.90%); opacity: 0.83\" title=\"-0.005\"> </span><span style=\"background-color: hsl(0, 100.00%, 83.01%); opacity: 0.86\" title=\"-0.010\">h</span><span style=\"background-color: hsl(0, 100.00%, 77.95%); opacity: 0.89\" title=\"-0.014\">a</span><span style=\"background-color: hsl(0, 100.00%, 76.94%); opacity: 0.89\" title=\"-0.015\">l</span><span style=\"background-color: hsl(0, 100.00%, 80.24%); opacity: 0.87\" title=\"-0.012\">f</span><span style=\"background-color: hsl(120, 100.00%, 96.62%); opacity: 0.81\" title=\"0.001\">,</span><span style=\"background-color: hsl(120, 100.00%, 93.36%); opacity: 0.82\" title=\"0.003\"> </span><span style=\"background-color: hsl(120, 100.00%, 91.58%); opacity: 0.82\" title=\"0.004\">w</span><span style=\"background-color: hsl(120, 100.00%, 91.10%); opacity: 0.82\" title=\"0.004\">h</span><span style=\"background-color: hsl(120, 100.00%, 93.29%); opacity: 0.82\" title=\"0.003\">e</span><span style=\"background-color: hsl(120, 100.00%, 97.17%); opacity: 0.80\" title=\"0.001\">n</span><span style=\"background-color: hsl(0, 100.00%, 96.05%); opacity: 0.81\" title=\"-0.001\"> </span><span style=\"background-color: hsl(0, 100.00%, 93.51%); opacity: 0.81\" title=\"-0.002\">t</span><span style=\"background-color: hsl(120, 100.00%, 98.97%); opacity: 0.80\" title=\"0.000\">a</span><span style=\"background-color: hsl(0, 100.00%, 99.95%); opacity: 0.80\" title=\"-0.000\">r</span><span style=\"background-color: hsl(120, 100.00%, 97.98%); opacity: 0.80\" title=\"0.000\">z</span><span style=\"background-color: hsl(120, 100.00%, 94.01%); opacity: 0.81\" title=\"0.002\">a</span><span style=\"background-color: hsl(120, 100.00%, 91.59%); opacity: 0.82\" title=\"0.004\">n</span><span style=\"background-color: hsl(120, 100.00%, 89.62%); opacity: 0.83\" title=\"0.005\"> </span><span style=\"background-color: hsl(120, 100.00%, 88.23%); opacity: 0.83\" title=\"0.006\">m</span><span style=\"background-color: hsl(120, 100.00%, 95.70%); opacity: 0.81\" title=\"0.001\">u</span><span style=\"background-color: hsl(120, 100.00%, 98.23%); opacity: 0.80\" title=\"0.000\">s</span><span style=\"background-color: hsl(0, 100.00%, 96.09%); opacity: 0.81\" title=\"-0.001\">t</span><span style=\"background-color: hsl(120, 100.00%, 98.27%); opacity: 0.80\" title=\"0.000\"> </span><span style=\"background-color: hsl(120, 100.00%, 93.63%); opacity: 0.81\" title=\"0.002\">m</span><span style=\"background-color: hsl(120, 100.00%, 84.45%); opacity: 0.85\" title=\"0.008\">e</span><span style=\"background-color: hsl(120, 100.00%, 82.96%); opacity: 0.86\" title=\"0.010\">e</span><span style=\"background-color: hsl(120, 100.00%, 86.43%); opacity: 0.84\" title=\"0.007\">t</span><span style=\"background-color: hsl(120, 100.00%, 86.07%); opacity: 0.84\" title=\"0.007\"> </span><span style=\"background-color: hsl(120, 100.00%, 87.70%); opacity: 0.84\" title=\"0.006\">h</span><span style=\"background-color: hsl(120, 100.00%, 89.51%); opacity: 0.83\" title=\"0.005\">i</span><span style=\"background-color: hsl(120, 100.00%, 94.14%); opacity: 0.81\" title=\"0.002\">s</span><span style=\"background-color: hsl(120, 100.00%, 90.35%); opacity: 0.83\" title=\"0.004\"> </span><span style=\"background-color: hsl(120, 100.00%, 91.05%); opacity: 0.82\" title=\"0.004\">r</span><span style=\"background-color: hsl(120, 100.00%, 88.96%); opacity: 0.83\" title=\"0.005\">e</span><span style=\"background-color: hsl(120, 100.00%, 87.57%); opacity: 0.84\" title=\"0.006\">a</span><span style=\"background-color: hsl(120, 100.00%, 92.50%); opacity: 0.82\" title=\"0.003\">l</span><span style=\"background-color: hsl(120, 100.00%, 88.92%); opacity: 0.83\" title=\"0.005\"> </span><span style=\"background-color: hsl(120, 100.00%, 83.32%); opacity: 0.86\" title=\"0.009\">f</span><span style=\"background-color: hsl(120, 100.00%, 84.67%); opacity: 0.85\" title=\"0.008\">a</span><span style=\"background-color: hsl(120, 100.00%, 85.69%); opacity: 0.85\" title=\"0.008\">m</span><span style=\"background-color: hsl(120, 100.00%, 85.15%); opacity: 0.85\" title=\"0.008\">i</span><span style=\"background-color: hsl(120, 100.00%, 91.97%); opacity: 0.82\" title=\"0.003\">l</span><span style=\"background-color: hsl(0, 100.00%, 95.06%); opacity: 0.81\" title=\"-0.002\">y</span><span style=\"background-color: hsl(0, 100.00%, 95.73%); opacity: 0.81\" title=\"-0.001\">,</span><span style=\"background-color: hsl(0, 100.00%, 96.60%); opacity: 0.81\" title=\"-0.001\"> </span><span style=\"background-color: hsl(0, 100.00%, 95.18%); opacity: 0.81\" title=\"-0.002\">d</span><span style=\"background-color: hsl(0, 100.00%, 93.43%); opacity: 0.82\" title=\"-0.002\">e</span><span style=\"background-color: hsl(0, 100.00%, 92.64%); opacity: 0.82\" title=\"-0.003\">v</span><span style=\"background-color: hsl(0, 100.00%, 99.28%); opacity: 0.80\" title=\"-0.000\">e</span><span style=\"background-color: hsl(0, 100.00%, 92.92%); opacity: 0.82\" title=\"-0.003\">l</span><span style=\"background-color: hsl(0, 100.00%, 90.80%); opacity: 0.82\" title=\"-0.004\">o</span><span style=\"background-color: hsl(0, 100.00%, 92.53%); opacity: 0.82\" title=\"-0.003\">p</span><span style=\"background-color: hsl(0, 100.00%, 94.31%); opacity: 0.81\" title=\"-0.002\"> </span><span style=\"background-color: hsl(0, 100.00%, 94.79%); opacity: 0.81\" title=\"-0.002\">l</span><span style=\"background-color: hsl(120, 100.00%, 96.07%); opacity: 0.81\" title=\"0.001\">a</span><span style=\"background-color: hsl(120, 100.00%, 91.79%); opacity: 0.82\" title=\"0.003\">n</span><span style=\"background-color: hsl(120, 100.00%, 93.57%); opacity: 0.81\" title=\"0.002\">g</span><span style=\"background-color: hsl(120, 100.00%, 95.90%); opacity: 0.81\" title=\"0.001\">u</span><span style=\"background-color: hsl(120, 100.00%, 92.84%); opacity: 0.82\" title=\"0.003\">a</span><span style=\"background-color: hsl(120, 100.00%, 97.22%); opacity: 0.80\" title=\"0.001\">g</span><span style=\"background-color: hsl(120, 100.00%, 97.55%); opacity: 0.80\" title=\"0.001\">e</span><span style=\"background-color: hsl(0, 100.00%, 88.82%); opacity: 0.83\" title=\"-0.005\"> </span><span style=\"background-color: hsl(0, 100.00%, 86.25%); opacity: 0.84\" title=\"-0.007\">s</span><span style=\"background-color: hsl(0, 100.00%, 83.14%); opacity: 0.86\" title=\"-0.010\">k</span><span style=\"background-color: hsl(0, 100.00%, 87.74%); opacity: 0.84\" title=\"-0.006\">i</span><span style=\"background-color: hsl(0, 100.00%, 95.39%); opacity: 0.81\" title=\"-0.001\">l</span><span style=\"background-color: hsl(0, 100.00%, 93.82%); opacity: 0.81\" title=\"-0.002\">l</span><span style=\"background-color: hsl(120, 100.00%, 97.74%); opacity: 0.80\" title=\"0.001\">s</span><span style=\"background-color: hsl(120, 100.00%, 87.46%); opacity: 0.84\" title=\"0.006\">,</span><span style=\"background-color: hsl(120, 100.00%, 84.32%); opacity: 0.85\" title=\"0.009\"> </span><span style=\"background-color: hsl(120, 100.00%, 81.61%); opacity: 0.87\" title=\"0.011\">a</span><span style=\"background-color: hsl(120, 100.00%, 81.04%); opacity: 0.87\" title=\"0.011\">n</span><span style=\"background-color: hsl(120, 100.00%, 86.41%); opacity: 0.84\" title=\"0.007\">d</span><span style=\"background-color: hsl(120, 100.00%, 92.14%); opacity: 0.82\" title=\"0.003\"> </span><span style=\"background-color: hsl(0, 100.00%, 94.64%); opacity: 0.81\" title=\"-0.002\">a</span><span style=\"background-color: hsl(0, 100.00%, 93.29%); opacity: 0.82\" title=\"-0.003\">d</span><span style=\"background-color: hsl(0, 100.00%, 88.97%); opacity: 0.83\" title=\"-0.005\">j</span><span style=\"background-color: hsl(0, 100.00%, 86.12%); opacity: 0.84\" title=\"-0.007\">u</span><span style=\"background-color: hsl(0, 100.00%, 85.65%); opacity: 0.85\" title=\"-0.008\">s</span><span style=\"background-color: hsl(0, 100.00%, 89.92%); opacity: 0.83\" title=\"-0.005\">t</span><span style=\"background-color: hsl(0, 100.00%, 94.29%); opacity: 0.81\" title=\"-0.002\"> </span><span style=\"background-color: hsl(0, 100.00%, 98.47%); opacity: 0.80\" title=\"-0.000\">t</span><span style=\"background-color: hsl(0, 100.00%, 93.22%); opacity: 0.82\" title=\"-0.003\">o</span><span style=\"background-color: hsl(0, 100.00%, 90.82%); opacity: 0.82\" title=\"-0.004\"> </span><span style=\"background-color: hsl(120, 100.00%, 95.26%); opacity: 0.81\" title=\"0.002\">a</span><span style=\"background-color: hsl(120, 100.00%, 99.60%); opacity: 0.80\" title=\"0.000\">r</span><span style=\"background-color: hsl(0, 100.00%, 93.37%); opacity: 0.82\" title=\"-0.003\">i</span><span style=\"background-color: hsl(0, 100.00%, 88.88%); opacity: 0.83\" title=\"-0.005\">s</span><span style=\"background-color: hsl(0, 100.00%, 90.86%); opacity: 0.82\" title=\"-0.004\">t</span><span style=\"background-color: hsl(120, 100.00%, 97.85%); opacity: 0.80\" title=\"0.001\">o</span><span style=\"background-color: hsl(0, 100.00%, 91.49%); opacity: 0.82\" title=\"-0.004\">c</span><span style=\"background-color: hsl(0, 100.00%, 91.65%); opacity: 0.82\" title=\"-0.003\">r</span><span style=\"background-color: hsl(0, 100.00%, 96.43%); opacity: 0.81\" title=\"-0.001\">a</span><span style=\"background-color: hsl(120, 100.00%, 94.85%); opacity: 0.81\" title=\"0.002\">t</span><span style=\"background-color: hsl(120, 100.00%, 93.76%); opacity: 0.81\" title=\"0.002\">i</span><span style=\"background-color: hsl(120, 100.00%, 93.91%); opacity: 0.81\" title=\"0.002\">c</span><span style=\"background-color: hsl(120, 100.00%, 92.02%); opacity: 0.82\" title=\"0.003\"> </span><span style=\"background-color: hsl(120, 100.00%, 88.19%); opacity: 0.84\" title=\"0.006\">b</span><span style=\"background-color: hsl(120, 100.00%, 85.62%); opacity: 0.85\" title=\"0.008\">r</span><span style=\"background-color: hsl(120, 100.00%, 90.20%); opacity: 0.83\" title=\"0.004\">i</span><span style=\"background-color: hsl(120, 100.00%, 94.27%); opacity: 0.81\" title=\"0.002\">t</span><span style=\"background-color: hsl(0, 100.00%, 94.57%); opacity: 0.81\" title=\"-0.002\">i</span><span style=\"background-color: hsl(0, 100.00%, 89.29%); opacity: 0.83\" title=\"-0.005\">s</span><span style=\"background-color: hsl(0, 100.00%, 93.41%); opacity: 0.82\" title=\"-0.002\">h</span><span style=\"background-color: hsl(0, 100.00%, 96.06%); opacity: 0.81\" title=\"-0.001\"> </span><span style=\"background-color: hsl(120, 100.00%, 92.48%); opacity: 0.82\" title=\"0.003\">s</span><span style=\"background-color: hsl(120, 100.00%, 90.78%); opacity: 0.82\" title=\"0.004\">o</span><span style=\"background-color: hsl(120, 100.00%, 89.56%); opacity: 0.83\" title=\"0.005\">c</span><span style=\"background-color: hsl(120, 100.00%, 87.48%); opacity: 0.84\" title=\"0.006\">i</span><span style=\"background-color: hsl(120, 100.00%, 89.71%); opacity: 0.83\" title=\"0.005\">e</span><span style=\"background-color: hsl(120, 100.00%, 86.44%); opacity: 0.84\" title=\"0.007\">t</span><span style=\"background-color: hsl(120, 100.00%, 90.43%); opacity: 0.83\" title=\"0.004\">y</span><span style=\"background-color: hsl(120, 100.00%, 91.09%); opacity: 0.82\" title=\"0.004\">,</span><span style=\"background-color: hsl(120, 100.00%, 91.76%); opacity: 0.82\" title=\"0.003\"> </span><span style=\"background-color: hsl(120, 100.00%, 92.65%); opacity: 0.82\" title=\"0.003\">a</span><span style=\"background-color: hsl(120, 100.00%, 92.76%); opacity: 0.82\" title=\"0.003\">l</span><span style=\"background-color: hsl(120, 100.00%, 93.57%); opacity: 0.81\" title=\"0.002\">l</span><span style=\"background-color: hsl(120, 100.00%, 98.60%); opacity: 0.80\" title=\"0.000\"> </span><span style=\"background-color: hsl(0, 100.00%, 93.23%); opacity: 0.82\" title=\"-0.003\">t</span><span style=\"background-color: hsl(0, 100.00%, 94.65%); opacity: 0.81\" title=\"-0.002\">h</span><span style=\"background-color: hsl(0, 100.00%, 98.65%); opacity: 0.80\" title=\"-0.000\">e</span><span style=\"background-color: hsl(0, 100.00%, 97.26%); opacity: 0.80\" title=\"-0.001\"> </span><span style=\"background-color: hsl(0, 100.00%, 95.33%); opacity: 0.81\" title=\"-0.002\">w</span><span style=\"background-color: hsl(120, 100.00%, 89.51%); opacity: 0.83\" title=\"0.005\">h</span><span style=\"background-color: hsl(120, 100.00%, 89.53%); opacity: 0.83\" title=\"0.005\">i</span><span style=\"background-color: hsl(120, 100.00%, 93.66%); opacity: 0.81\" title=\"0.002\">l</span><span style=\"background-color: hsl(0, 100.00%, 94.11%); opacity: 0.81\" title=\"-0.002\">e</span><span style=\"background-color: hsl(0, 100.00%, 89.80%); opacity: 0.83\" title=\"-0.005\"> </span><span style=\"background-color: hsl(0, 100.00%, 84.88%); opacity: 0.85\" title=\"-0.008\">w</span><span style=\"background-color: hsl(0, 100.00%, 84.54%); opacity: 0.85\" title=\"-0.008\">o</span><span style=\"background-color: hsl(0, 100.00%, 84.19%); opacity: 0.85\" title=\"-0.009\">o</span><span style=\"background-color: hsl(0, 100.00%, 86.48%); opacity: 0.84\" title=\"-0.007\">i</span><span style=\"background-color: hsl(0, 100.00%, 88.63%); opacity: 0.83\" title=\"-0.005\">n</span><span style=\"background-color: hsl(0, 100.00%, 93.30%); opacity: 0.82\" title=\"-0.003\">g</span><span style=\"background-color: hsl(120, 100.00%, 95.92%); opacity: 0.81\" title=\"0.001\"> </span><span style=\"background-color: hsl(120, 100.00%, 88.54%); opacity: 0.83\" title=\"0.005\">j</span><span style=\"background-color: hsl(120, 100.00%, 92.27%); opacity: 0.82\" title=\"0.003\">a</span><span style=\"background-color: hsl(0, 100.00%, 99.47%); opacity: 0.80\" title=\"-0.000\">n</span><span style=\"background-color: hsl(0, 100.00%, 96.96%); opacity: 0.81\" title=\"-0.001\">e</span><span style=\"background-color: hsl(0, 100.00%, 92.91%); opacity: 0.82\" title=\"-0.003\"> </span><span style=\"background-color: hsl(0, 100.00%, 86.18%); opacity: 0.84\" title=\"-0.007\">(</span><span style=\"background-color: hsl(0, 100.00%, 88.75%); opacity: 0.83\" title=\"-0.005\">a</span><span style=\"background-color: hsl(120, 100.00%, 93.73%); opacity: 0.81\" title=\"0.002\">n</span><span style=\"background-color: hsl(120, 100.00%, 89.25%); opacity: 0.83\" title=\"0.005\">d</span><span style=\"background-color: hsl(120, 100.00%, 91.28%); opacity: 0.82\" title=\"0.004\">i</span><span style=\"background-color: hsl(120, 100.00%, 90.09%); opacity: 0.83\" title=\"0.004\">e</span><span style=\"background-color: hsl(120, 100.00%, 90.57%); opacity: 0.83\" title=\"0.004\"> </span><span style=\"background-color: hsl(120, 100.00%, 94.54%); opacity: 0.81\" title=\"0.002\">m</span><span style=\"background-color: hsl(120, 100.00%, 94.93%); opacity: 0.81\" title=\"0.002\">a</span><span style=\"background-color: hsl(0, 100.00%, 96.64%); opacity: 0.81\" title=\"-0.001\">c</span><span style=\"background-color: hsl(0, 100.00%, 94.57%); opacity: 0.81\" title=\"-0.002\">d</span><span style=\"background-color: hsl(0, 100.00%, 95.17%); opacity: 0.81\" title=\"-0.002\">o</span><span style=\"background-color: hsl(120, 100.00%, 87.82%); opacity: 0.84\" title=\"0.006\">w</span><span style=\"background-color: hsl(120, 100.00%, 82.71%); opacity: 0.86\" title=\"0.010\">e</span><span style=\"background-color: hsl(120, 100.00%, 82.26%); opacity: 0.86\" title=\"0.010\">l</span><span style=\"background-color: hsl(120, 100.00%, 88.14%); opacity: 0.84\" title=\"0.006\">l</span><span style=\"background-color: hsl(120, 100.00%, 99.12%); opacity: 0.80\" title=\"0.000\">)</span><span style=\"background-color: hsl(120, 100.00%, 96.40%); opacity: 0.81\" title=\"0.001\">.</span><span style=\"background-color: hsl(120, 100.00%, 95.11%); opacity: 0.81\" title=\"0.002\"> </span><span style=\"background-color: hsl(120, 100.00%, 90.31%); opacity: 0.83\" title=\"0.004\">h</span><span style=\"background-color: hsl(120, 100.00%, 90.47%); opacity: 0.83\" title=\"0.004\">e</span><span style=\"background-color: hsl(120, 100.00%, 90.92%); opacity: 0.82\" title=\"0.004\"> </span><span style=\"background-color: hsl(0, 100.00%, 99.39%); opacity: 0.80\" title=\"-0.000\">i</span><span style=\"background-color: hsl(0, 100.00%, 94.78%); opacity: 0.81\" title=\"-0.002\">s</span><span style=\"background-color: hsl(0, 100.00%, 96.79%); opacity: 0.81\" title=\"-0.001\"> </span><span style=\"background-color: hsl(120, 100.00%, 98.71%); opacity: 0.80\" title=\"0.000\">p</span><span style=\"background-color: hsl(120, 100.00%, 94.01%); opacity: 0.81\" title=\"0.002\">o</span><span style=\"background-color: hsl(120, 100.00%, 79.18%); opacity: 0.88\" title=\"0.013\">r</span><span style=\"background-color: hsl(120, 100.00%, 75.45%); opacity: 0.90\" title=\"0.016\">t</span><span style=\"background-color: hsl(120, 100.00%, 80.61%); opacity: 0.87\" title=\"0.012\">r</span><span style=\"background-color: hsl(120, 100.00%, 87.41%); opacity: 0.84\" title=\"0.006\">a</span><span style=\"background-color: hsl(120, 100.00%, 91.28%); opacity: 0.82\" title=\"0.004\">y</span><span style=\"background-color: hsl(0, 100.00%, 97.90%); opacity: 0.80\" title=\"-0.000\">e</span><span style=\"background-color: hsl(0, 100.00%, 90.36%); opacity: 0.83\" title=\"-0.004\">d</span><span style=\"background-color: hsl(0, 100.00%, 92.72%); opacity: 0.82\" title=\"-0.003\"> </span><span style=\"background-color: hsl(0, 100.00%, 93.18%); opacity: 0.82\" title=\"-0.003\">a</span><span style=\"background-color: hsl(120, 100.00%, 95.68%); opacity: 0.81\" title=\"0.001\">s</span><span style=\"background-color: hsl(120, 100.00%, 92.74%); opacity: 0.82\" title=\"0.003\"> </span><span style=\"background-color: hsl(120, 100.00%, 94.73%); opacity: 0.81\" title=\"0.002\">a</span><span style=\"background-color: hsl(0, 100.00%, 94.26%); opacity: 0.81\" title=\"-0.002\"> </span><span style=\"background-color: hsl(0, 100.00%, 90.66%); opacity: 0.83\" title=\"-0.004\">&#x27;</span><span style=\"background-color: hsl(0, 100.00%, 92.83%); opacity: 0.82\" title=\"-0.003\">n</span><span style=\"background-color: hsl(0, 100.00%, 88.37%); opacity: 0.83\" title=\"-0.006\">o</span><span style=\"background-color: hsl(0, 100.00%, 87.12%); opacity: 0.84\" title=\"-0.006\">b</span><span style=\"background-color: hsl(0, 100.00%, 87.63%); opacity: 0.84\" title=\"-0.006\">l</span><span style=\"background-color: hsl(0, 100.00%, 94.47%); opacity: 0.81\" title=\"-0.002\">e</span><span style=\"background-color: hsl(0, 100.00%, 86.94%); opacity: 0.84\" title=\"-0.007\"> </span><span style=\"background-color: hsl(0, 100.00%, 77.25%); opacity: 0.89\" title=\"-0.015\">s</span><span style=\"background-color: hsl(0, 100.00%, 82.89%); opacity: 0.86\" title=\"-0.010\">a</span><span style=\"background-color: hsl(0, 100.00%, 91.27%); opacity: 0.82\" title=\"-0.004\">v</span><span style=\"background-color: hsl(120, 100.00%, 86.08%); opacity: 0.84\" title=\"0.007\">a</span><span style=\"background-color: hsl(120, 100.00%, 94.32%); opacity: 0.81\" title=\"0.002\">g</span><span style=\"background-color: hsl(0, 100.00%, 99.14%); opacity: 0.80\" title=\"-0.000\">e</span><span style=\"background-color: hsl(0, 100.00%, 96.23%); opacity: 0.81\" title=\"-0.001\">&#x27;</span><span style=\"background-color: hsl(120, 100.00%, 95.16%); opacity: 0.81\" title=\"0.002\">,</span><span style=\"background-color: hsl(120, 100.00%, 95.21%); opacity: 0.81\" title=\"0.002\"> </span><span style=\"background-color: hsl(120, 100.00%, 96.34%); opacity: 0.81\" title=\"0.001\">w</span><span style=\"background-color: hsl(120, 100.00%, 96.94%); opacity: 0.81\" title=\"0.001\">h</span><span style=\"background-color: hsl(120, 100.00%, 95.41%); opacity: 0.81\" title=\"0.001\">e</span><span style=\"background-color: hsl(0, 100.00%, 96.42%); opacity: 0.81\" title=\"-0.001\">t</span><span style=\"background-color: hsl(120, 100.00%, 93.83%); opacity: 0.81\" title=\"0.002\">h</span><span style=\"background-color: hsl(120, 100.00%, 90.61%); opacity: 0.83\" title=\"0.004\">e</span><span style=\"background-color: hsl(120, 100.00%, 95.68%); opacity: 0.81\" title=\"0.001\">r</span><span style=\"background-color: hsl(120, 100.00%, 92.73%); opacity: 0.82\" title=\"0.003\"> </span><span style=\"background-color: hsl(120, 100.00%, 92.64%); opacity: 0.82\" title=\"0.003\">i</span><span style=\"background-color: hsl(120, 100.00%, 97.99%); opacity: 0.80\" title=\"0.000\">n</span><span style=\"background-color: hsl(0, 100.00%, 97.28%); opacity: 0.80\" title=\"-0.001\"> </span><span style=\"background-color: hsl(0, 100.00%, 92.09%); opacity: 0.82\" title=\"-0.003\">t</span><span style=\"background-color: hsl(0, 100.00%, 95.80%); opacity: 0.81\" title=\"-0.001\">h</span><span style=\"background-color: hsl(120, 100.00%, 95.15%); opacity: 0.81\" title=\"0.002\">e</span><span style=\"background-color: hsl(120, 100.00%, 93.30%); opacity: 0.82\" title=\"0.003\"> </span><span style=\"background-color: hsl(120, 100.00%, 92.79%); opacity: 0.82\" title=\"0.003\">w</span><span style=\"background-color: hsl(120, 100.00%, 85.84%); opacity: 0.85\" title=\"0.007\">i</span><span style=\"background-color: hsl(120, 100.00%, 91.19%); opacity: 0.82\" title=\"0.004\">l</span><span style=\"background-color: hsl(120, 100.00%, 93.58%); opacity: 0.81\" title=\"0.002\">d</span><span style=\"background-color: hsl(0, 100.00%, 96.97%); opacity: 0.81\" title=\"-0.001\"> </span><span style=\"background-color: hsl(0, 100.00%, 91.50%); opacity: 0.82\" title=\"-0.004\">o</span><span style=\"background-color: hsl(0, 100.00%, 89.29%); opacity: 0.83\" title=\"-0.005\">r</span><span style=\"background-color: hsl(0, 100.00%, 96.69%); opacity: 0.81\" title=\"-0.001\"> </span><span style=\"background-color: hsl(0, 100.00%, 97.71%); opacity: 0.80\" title=\"-0.001\">i</span><span style=\"background-color: hsl(120, 100.00%, 97.46%); opacity: 0.80\" title=\"0.001\">n</span><span style=\"background-color: hsl(120, 100.00%, 92.20%); opacity: 0.82\" title=\"0.003\"> </span><span style=\"background-color: hsl(120, 100.00%, 90.50%); opacity: 0.83\" title=\"0.004\">e</span><span style=\"background-color: hsl(120, 100.00%, 97.84%); opacity: 0.80\" title=\"0.001\">l</span><span style=\"background-color: hsl(0, 100.00%, 93.05%); opacity: 0.82\" title=\"-0.003\">e</span><span style=\"background-color: hsl(0, 100.00%, 87.71%); opacity: 0.84\" title=\"-0.006\">g</span><span style=\"background-color: hsl(0, 100.00%, 94.42%); opacity: 0.81\" title=\"-0.002\">a</span><span style=\"background-color: hsl(120, 100.00%, 96.45%); opacity: 0.81\" title=\"0.001\">n</span><span style=\"background-color: hsl(0, 100.00%, 95.42%); opacity: 0.81\" title=\"-0.001\">t</span><span style=\"background-color: hsl(0, 100.00%, 98.65%); opacity: 0.80\" title=\"-0.000\"> </span><span style=\"background-color: hsl(0, 100.00%, 98.36%); opacity: 0.80\" title=\"-0.000\">e</span><span style=\"background-color: hsl(0, 100.00%, 96.94%); opacity: 0.81\" title=\"-0.001\">d</span><span style=\"background-color: hsl(120, 100.00%, 97.64%); opacity: 0.80\" title=\"0.001\">w</span><span style=\"background-color: hsl(120, 100.00%, 94.50%); opacity: 0.81\" title=\"0.002\">a</span><span style=\"background-color: hsl(120, 100.00%, 93.29%); opacity: 0.82\" title=\"0.003\">r</span><span style=\"background-color: hsl(0, 100.00%, 93.93%); opacity: 0.81\" title=\"-0.002\">d</span><span style=\"background-color: hsl(0, 100.00%, 94.23%); opacity: 0.81\" title=\"-0.002\">i</span><span style=\"background-color: hsl(0, 100.00%, 97.55%); opacity: 0.80\" title=\"-0.001\">a</span><span style=\"background-color: hsl(120, 100.00%, 97.34%); opacity: 0.80\" title=\"0.001\">n</span><span style=\"background-color: hsl(120, 100.00%, 98.17%); opacity: 0.80\" title=\"0.000\"> </span><span style=\"background-color: hsl(120, 100.00%, 94.60%); opacity: 0.81\" title=\"0.002\">p</span><span style=\"background-color: hsl(120, 100.00%, 91.82%); opacity: 0.82\" title=\"0.003\">a</span><span style=\"background-color: hsl(120, 100.00%, 89.81%); opacity: 0.83\" title=\"0.005\">r</span><span style=\"background-color: hsl(120, 100.00%, 93.37%); opacity: 0.82\" title=\"0.003\">l</span><span style=\"background-color: hsl(0, 100.00%, 88.88%); opacity: 0.83\" title=\"-0.005\">o</span><span style=\"background-color: hsl(0, 100.00%, 87.18%); opacity: 0.84\" title=\"-0.006\">r</span><span style=\"background-color: hsl(0, 100.00%, 89.73%); opacity: 0.83\" title=\"-0.005\">s</span><span style=\"background-color: hsl(120, 100.00%, 98.22%); opacity: 0.80\" title=\"0.000\">.</span><span style=\"background-color: hsl(0, 100.00%, 95.46%); opacity: 0.81\" title=\"-0.001\"> </span><span style=\"background-color: hsl(0, 100.00%, 95.69%); opacity: 0.81\" title=\"-0.001\">b</span><span style=\"background-color: hsl(0, 100.00%, 96.11%); opacity: 0.81\" title=\"-0.001\">y</span><span style=\"background-color: hsl(0, 100.00%, 98.43%); opacity: 0.80\" title=\"-0.000\"> </span><span style=\"background-color: hsl(120, 100.00%, 99.57%); opacity: 0.80\" title=\"0.000\">c</span><span style=\"background-color: hsl(120, 100.00%, 97.21%); opacity: 0.80\" title=\"0.001\">o</span><span style=\"background-color: hsl(120, 100.00%, 93.29%); opacity: 0.82\" title=\"0.003\">n</span><span style=\"background-color: hsl(120, 100.00%, 87.54%); opacity: 0.84\" title=\"0.006\">t</span><span style=\"background-color: hsl(120, 100.00%, 93.55%); opacity: 0.81\" title=\"0.002\">r</span><span style=\"background-color: hsl(0, 100.00%, 93.38%); opacity: 0.82\" title=\"-0.002\">a</span><span style=\"background-color: hsl(0, 100.00%, 85.31%); opacity: 0.85\" title=\"-0.008\">s</span><span style=\"background-color: hsl(0, 100.00%, 97.76%); opacity: 0.80\" title=\"-0.001\">t</span><span style=\"background-color: hsl(120, 100.00%, 91.33%); opacity: 0.82\" title=\"0.004\">,</span><span style=\"background-color: hsl(120, 100.00%, 92.36%); opacity: 0.82\" title=\"0.003\"> </span><span style=\"background-color: hsl(120, 100.00%, 92.88%); opacity: 0.82\" title=\"0.003\">t</span><span style=\"background-color: hsl(120, 100.00%, 89.05%); opacity: 0.83\" title=\"0.005\">h</span><span style=\"background-color: hsl(120, 100.00%, 88.02%); opacity: 0.84\" title=\"0.006\">e</span><span style=\"background-color: hsl(120, 100.00%, 93.82%); opacity: 0.81\" title=\"0.002\"> </span><span style=\"background-color: hsl(0, 100.00%, 92.91%); opacity: 0.82\" title=\"-0.003\">u</span><span style=\"background-color: hsl(0, 100.00%, 89.45%); opacity: 0.83\" title=\"-0.005\">p</span><span style=\"background-color: hsl(0, 100.00%, 95.04%); opacity: 0.81\" title=\"-0.002\">p</span><span style=\"background-color: hsl(120, 100.00%, 94.35%); opacity: 0.81\" title=\"0.002\">e</span><span style=\"background-color: hsl(120, 100.00%, 96.58%); opacity: 0.81\" title=\"0.001\">r</span><span style=\"background-color: hsl(0, 100.00%, 94.04%); opacity: 0.81\" title=\"-0.002\"> </span><span style=\"background-color: hsl(0, 100.00%, 90.93%); opacity: 0.82\" title=\"-0.004\">c</span><span style=\"background-color: hsl(0, 100.00%, 89.80%); opacity: 0.83\" title=\"-0.005\">r</span><span style=\"background-color: hsl(0, 100.00%, 90.72%); opacity: 0.82\" title=\"-0.004\">u</span><span style=\"background-color: hsl(0, 100.00%, 89.58%); opacity: 0.83\" title=\"-0.005\">s</span><span style=\"background-color: hsl(0, 100.00%, 95.51%); opacity: 0.81\" title=\"-0.001\">t</span><span style=\"background-color: hsl(120, 100.00%, 93.07%); opacity: 0.82\" title=\"0.003\"> </span><span style=\"background-color: hsl(120, 100.00%, 92.49%); opacity: 0.82\" title=\"0.003\">i</span><span style=\"background-color: hsl(120, 100.00%, 93.25%); opacity: 0.82\" title=\"0.003\">s</span><span style=\"background-color: hsl(120, 100.00%, 91.69%); opacity: 0.82\" title=\"0.003\"> </span><span style=\"background-color: hsl(120, 100.00%, 93.35%); opacity: 0.82\" title=\"0.003\">d</span><span style=\"background-color: hsl(120, 100.00%, 87.92%); opacity: 0.84\" title=\"0.006\">e</span><span style=\"background-color: hsl(120, 100.00%, 91.15%); opacity: 0.82\" title=\"0.004\">p</span><span style=\"background-color: hsl(120, 100.00%, 90.28%); opacity: 0.83\" title=\"0.004\">i</span><span style=\"background-color: hsl(120, 100.00%, 93.39%); opacity: 0.82\" title=\"0.002\">c</span><span style=\"background-color: hsl(0, 100.00%, 95.67%); opacity: 0.81\" title=\"-0.001\">t</span><span style=\"background-color: hsl(0, 100.00%, 89.98%); opacity: 0.83\" title=\"-0.005\">e</span><span style=\"background-color: hsl(0, 100.00%, 89.20%); opacity: 0.83\" title=\"-0.005\">d</span><span style=\"background-color: hsl(0, 100.00%, 93.65%); opacity: 0.81\" title=\"-0.002\"> </span><span style=\"background-color: hsl(0, 100.00%, 98.19%); opacity: 0.80\" title=\"-0.000\">a</span><span style=\"background-color: hsl(120, 100.00%, 94.84%); opacity: 0.81\" title=\"0.002\">s</span><span style=\"background-color: hsl(120, 100.00%, 89.36%); opacity: 0.83\" title=\"0.005\"> </span><span style=\"background-color: hsl(120, 100.00%, 84.98%); opacity: 0.85\" title=\"0.008\">o</span><span style=\"background-color: hsl(120, 100.00%, 79.47%); opacity: 0.88\" title=\"0.013\">f</span><span style=\"background-color: hsl(120, 100.00%, 81.20%); opacity: 0.87\" title=\"0.011\">t</span><span style=\"background-color: hsl(120, 100.00%, 87.67%); opacity: 0.84\" title=\"0.006\">e</span><span style=\"background-color: hsl(120, 100.00%, 91.29%); opacity: 0.82\" title=\"0.004\">n</span><span style=\"background-color: hsl(0, 100.00%, 95.21%); opacity: 0.81\" title=\"-0.002\"> </span><span style=\"background-color: hsl(0, 100.00%, 89.19%); opacity: 0.83\" title=\"-0.005\">f</span><span style=\"background-color: hsl(0, 100.00%, 89.67%); opacity: 0.83\" title=\"-0.005\">a</span><span style=\"background-color: hsl(0, 100.00%, 85.87%); opacity: 0.85\" title=\"-0.007\">r</span><span style=\"background-color: hsl(0, 100.00%, 91.92%); opacity: 0.82\" title=\"-0.003\"> </span><span style=\"background-color: hsl(120, 100.00%, 88.14%); opacity: 0.84\" title=\"0.006\">m</span><span style=\"background-color: hsl(120, 100.00%, 90.94%); opacity: 0.82\" title=\"0.004\">o</span><span style=\"background-color: hsl(120, 100.00%, 93.74%); opacity: 0.81\" title=\"0.002\">r</span><span style=\"background-color: hsl(120, 100.00%, 91.93%); opacity: 0.82\" title=\"0.003\">e</span><span style=\"background-color: hsl(0, 100.00%, 89.47%); opacity: 0.83\" title=\"-0.005\"> </span><span style=\"background-color: hsl(0, 100.00%, 77.23%); opacity: 0.89\" title=\"-0.015\">b</span><span style=\"background-color: hsl(0, 100.00%, 79.01%); opacity: 0.88\" title=\"-0.013\">a</span><span style=\"background-color: hsl(120, 100.00%, 95.80%); opacity: 0.81\" title=\"0.001\">r</span><span style=\"background-color: hsl(0, 100.00%, 91.57%); opacity: 0.82\" title=\"-0.004\">b</span><span style=\"background-color: hsl(0, 100.00%, 89.35%); opacity: 0.83\" title=\"-0.005\">a</span><span style=\"background-color: hsl(120, 100.00%, 99.24%); opacity: 0.80\" title=\"0.000\">r</span><span style=\"background-color: hsl(120, 100.00%, 91.34%); opacity: 0.82\" title=\"0.004\">i</span><span style=\"background-color: hsl(120, 100.00%, 91.63%); opacity: 0.82\" title=\"0.003\">c</span><span style=\"background-color: hsl(120, 100.00%, 94.79%); opacity: 0.81\" title=\"0.002\"> </span><span style=\"background-color: hsl(120, 100.00%, 98.49%); opacity: 0.80\" title=\"0.000\">t</span><span style=\"background-color: hsl(0, 100.00%, 92.39%); opacity: 0.82\" title=\"-0.003\">h</span><span style=\"background-color: hsl(0, 100.00%, 93.12%); opacity: 0.82\" title=\"-0.003\">a</span><span style=\"background-color: hsl(0, 100.00%, 92.21%); opacity: 0.82\" title=\"-0.003\">n</span><span style=\"background-color: hsl(0, 100.00%, 87.53%); opacity: 0.84\" title=\"-0.006\"> </span><span style=\"background-color: hsl(0, 100.00%, 87.45%); opacity: 0.84\" title=\"-0.006\">t</span><span style=\"background-color: hsl(0, 100.00%, 96.38%); opacity: 0.81\" title=\"-0.001\">h</span><span style=\"background-color: hsl(120, 100.00%, 93.30%); opacity: 0.82\" title=\"0.003\">e</span><span style=\"background-color: hsl(120, 100.00%, 95.56%); opacity: 0.81\" title=\"0.001\"> </span><span style=\"background-color: hsl(0, 100.00%, 93.25%); opacity: 0.82\" title=\"-0.003\">j</span><span style=\"background-color: hsl(0, 100.00%, 92.38%); opacity: 0.82\" title=\"-0.003\">u</span><span style=\"background-color: hsl(0, 100.00%, 94.09%); opacity: 0.81\" title=\"-0.002\">n</span><span style=\"background-color: hsl(0, 100.00%, 95.18%); opacity: 0.81\" title=\"-0.002\">g</span><span style=\"background-color: hsl(0, 100.00%, 89.93%); opacity: 0.83\" title=\"-0.005\">l</span><span style=\"background-color: hsl(0, 100.00%, 91.03%); opacity: 0.82\" title=\"-0.004\">e</span><span style=\"background-color: hsl(0, 100.00%, 96.12%); opacity: 0.81\" title=\"-0.001\"> </span><span style=\"background-color: hsl(0, 100.00%, 96.11%); opacity: 0.81\" title=\"-0.001\">t</span><span style=\"background-color: hsl(120, 100.00%, 99.40%); opacity: 0.80\" title=\"0.000\">a</span><span style=\"background-color: hsl(0, 100.00%, 99.95%); opacity: 0.80\" title=\"-0.000\">r</span><span style=\"background-color: hsl(120, 100.00%, 97.98%); opacity: 0.80\" title=\"0.000\">z</span><span style=\"background-color: hsl(120, 100.00%, 94.82%); opacity: 0.81\" title=\"0.002\">a</span><span style=\"background-color: hsl(120, 100.00%, 98.71%); opacity: 0.80\" title=\"0.000\">n</span><span style=\"background-color: hsl(0, 100.00%, 89.36%); opacity: 0.83\" title=\"-0.005\"> </span><span style=\"background-color: hsl(0, 100.00%, 83.82%); opacity: 0.85\" title=\"-0.009\">l</span><span style=\"background-color: hsl(0, 100.00%, 83.94%); opacity: 0.85\" title=\"-0.009\">e</span><span style=\"background-color: hsl(0, 100.00%, 90.81%); opacity: 0.82\" title=\"-0.004\">f</span><span style=\"background-color: hsl(0, 100.00%, 98.98%); opacity: 0.80\" title=\"-0.000\">t</span><span style=\"background-color: hsl(120, 100.00%, 94.61%); opacity: 0.81\" title=\"0.002\">.</span><span style=\"background-color: hsl(0, 100.00%, 93.76%); opacity: 0.81\" title=\"-0.002\"> </span><span style=\"background-color: hsl(0, 100.00%, 84.05%); opacity: 0.85\" title=\"-0.009\">c</span><span style=\"background-color: hsl(0, 100.00%, 75.86%); opacity: 0.90\" title=\"-0.016\">h</span><span style=\"background-color: hsl(0, 100.00%, 75.06%); opacity: 0.90\" title=\"-0.017\">r</span><span style=\"background-color: hsl(0, 100.00%, 78.25%); opacity: 0.88\" title=\"-0.014\">i</span><span style=\"background-color: hsl(0, 100.00%, 80.84%); opacity: 0.87\" title=\"-0.011\">s</span><span style=\"background-color: hsl(0, 100.00%, 89.72%); opacity: 0.83\" title=\"-0.005\">t</span><span style=\"background-color: hsl(120, 100.00%, 96.12%); opacity: 0.81\" title=\"0.001\">o</span><span style=\"background-color: hsl(120, 100.00%, 89.97%); opacity: 0.83\" title=\"0.005\">p</span><span style=\"background-color: hsl(120, 100.00%, 91.02%); opacity: 0.82\" title=\"0.004\">h</span><span style=\"background-color: hsl(120, 100.00%, 89.29%); opacity: 0.83\" title=\"0.005\">e</span><span style=\"background-color: hsl(120, 100.00%, 94.15%); opacity: 0.81\" title=\"0.002\">r</span><span style=\"background-color: hsl(0, 100.00%, 88.22%); opacity: 0.83\" title=\"-0.006\"> </span><span style=\"background-color: hsl(0, 100.00%, 84.75%); opacity: 0.85\" title=\"-0.008\">l</span><span style=\"background-color: hsl(0, 100.00%, 82.80%); opacity: 0.86\" title=\"-0.010\">a</span><span style=\"background-color: hsl(0, 100.00%, 85.58%); opacity: 0.85\" title=\"-0.008\">m</span><span style=\"background-color: hsl(120, 100.00%, 95.30%); opacity: 0.81\" title=\"0.002\">b</span><span style=\"background-color: hsl(120, 100.00%, 90.40%); opacity: 0.83\" title=\"0.004\">e</span><span style=\"background-color: hsl(120, 100.00%, 92.60%); opacity: 0.82\" title=\"0.003\">r</span><span style=\"background-color: hsl(120, 100.00%, 93.91%); opacity: 0.81\" title=\"0.002\">t</span><span style=\"background-color: hsl(120, 100.00%, 93.06%); opacity: 0.82\" title=\"0.003\"> </span><span style=\"background-color: hsl(120, 100.00%, 92.79%); opacity: 0.82\" title=\"0.003\">i</span><span style=\"background-color: hsl(120, 100.00%, 93.11%); opacity: 0.82\" title=\"0.003\">s</span><span style=\"background-color: hsl(120, 100.00%, 82.63%); opacity: 0.86\" title=\"0.010\"> </span><span style=\"background-color: hsl(120, 100.00%, 75.36%); opacity: 0.90\" title=\"0.016\">f</span><span style=\"background-color: hsl(120, 100.00%, 74.64%); opacity: 0.90\" title=\"0.017\">a</span><span style=\"background-color: hsl(120, 100.00%, 73.58%); opacity: 0.91\" title=\"0.018\">n</span><span style=\"background-color: hsl(120, 100.00%, 75.88%); opacity: 0.90\" title=\"0.016\">t</span><span style=\"background-color: hsl(120, 100.00%, 81.18%); opacity: 0.87\" title=\"0.011\">a</span><span style=\"background-color: hsl(120, 100.00%, 87.34%); opacity: 0.84\" title=\"0.006\">s</span><span style=\"background-color: hsl(120, 100.00%, 93.17%); opacity: 0.82\" title=\"0.003\">t</span><span style=\"background-color: hsl(120, 100.00%, 89.52%); opacity: 0.83\" title=\"0.005\">i</span><span style=\"background-color: hsl(120, 100.00%, 90.67%); opacity: 0.82\" title=\"0.004\">c</span><span style=\"background-color: hsl(120, 100.00%, 90.13%); opacity: 0.83\" title=\"0.004\"> </span><span style=\"background-color: hsl(120, 100.00%, 92.78%); opacity: 0.82\" title=\"0.003\">i</span><span style=\"background-color: hsl(120, 100.00%, 94.14%); opacity: 0.81\" title=\"0.002\">n</span><span style=\"background-color: hsl(120, 100.00%, 86.73%); opacity: 0.84\" title=\"0.007\"> </span><span style=\"background-color: hsl(120, 100.00%, 88.88%); opacity: 0.83\" title=\"0.005\">h</span><span style=\"background-color: hsl(120, 100.00%, 93.79%); opacity: 0.81\" title=\"0.002\">i</span><span style=\"background-color: hsl(0, 100.00%, 97.85%); opacity: 0.80\" title=\"-0.001\">s</span><span style=\"background-color: hsl(120, 100.00%, 98.09%); opacity: 0.80\" title=\"0.000\"> </span><span style=\"background-color: hsl(0, 100.00%, 98.33%); opacity: 0.80\" title=\"-0.000\">s</span><span style=\"background-color: hsl(120, 100.00%, 91.76%); opacity: 0.82\" title=\"0.003\">y</span><span style=\"background-color: hsl(120, 100.00%, 91.59%); opacity: 0.82\" title=\"0.004\">m</span><span style=\"background-color: hsl(0, 100.00%, 93.57%); opacity: 0.81\" title=\"-0.002\">p</span><span style=\"background-color: hsl(0, 100.00%, 96.05%); opacity: 0.81\" title=\"-0.001\">a</span><span style=\"background-color: hsl(0, 100.00%, 85.03%); opacity: 0.85\" title=\"-0.008\">t</span><span style=\"background-color: hsl(0, 100.00%, 79.48%); opacity: 0.88\" title=\"-0.013\">h</span><span style=\"background-color: hsl(0, 100.00%, 79.15%); opacity: 0.88\" title=\"-0.013\">e</span><span style=\"background-color: hsl(0, 100.00%, 80.29%); opacity: 0.87\" title=\"-0.012\">t</span><span style=\"background-color: hsl(0, 100.00%, 86.92%); opacity: 0.84\" title=\"-0.007\">i</span><span style=\"background-color: hsl(0, 100.00%, 92.20%); opacity: 0.82\" title=\"-0.003\">c</span><span style=\"background-color: hsl(0, 100.00%, 97.95%); opacity: 0.80\" title=\"-0.000\"> </span><span style=\"background-color: hsl(120, 100.00%, 98.35%); opacity: 0.80\" title=\"0.000\">p</span><span style=\"background-color: hsl(120, 100.00%, 91.96%); opacity: 0.82\" title=\"0.003\">o</span><span style=\"background-color: hsl(120, 100.00%, 79.18%); opacity: 0.88\" title=\"0.013\">r</span><span style=\"background-color: hsl(120, 100.00%, 75.45%); opacity: 0.90\" title=\"0.016\">t</span><span style=\"background-color: hsl(120, 100.00%, 80.61%); opacity: 0.87\" title=\"0.012\">r</span><span style=\"background-color: hsl(120, 100.00%, 87.92%); opacity: 0.84\" title=\"0.006\">a</span><span style=\"background-color: hsl(120, 100.00%, 85.74%); opacity: 0.85\" title=\"0.007\">y</span><span style=\"background-color: hsl(120, 100.00%, 84.94%); opacity: 0.85\" title=\"0.008\">a</span><span style=\"background-color: hsl(120, 100.00%, 88.28%); opacity: 0.83\" title=\"0.006\">l</span><span style=\"background-color: hsl(120, 100.00%, 93.25%); opacity: 0.82\" title=\"0.003\"> </span><span style=\"background-color: hsl(120, 100.00%, 94.51%); opacity: 0.81\" title=\"0.002\">o</span><span style=\"background-color: hsl(120, 100.00%, 95.09%); opacity: 0.81\" title=\"0.002\">f</span><span style=\"background-color: hsl(120, 100.00%, 97.81%); opacity: 0.80\" title=\"0.001\"> </span><span style=\"background-color: hsl(0, 100.00%, 97.81%); opacity: 0.80\" title=\"-0.001\">t</span><span style=\"background-color: hsl(120, 100.00%, 98.97%); opacity: 0.80\" title=\"0.000\">a</span><span style=\"background-color: hsl(0, 100.00%, 99.95%); opacity: 0.80\" title=\"-0.000\">r</span><span style=\"background-color: hsl(120, 100.00%, 97.98%); opacity: 0.80\" title=\"0.000\">z</span><span style=\"background-color: hsl(120, 100.00%, 95.62%); opacity: 0.81\" title=\"0.001\">a</span><span style=\"background-color: hsl(120, 100.00%, 93.12%); opacity: 0.82\" title=\"0.003\">n</span><span style=\"background-color: hsl(120, 100.00%, 89.30%); opacity: 0.83\" title=\"0.005\"> </span><span style=\"background-color: hsl(120, 100.00%, 88.99%); opacity: 0.83\" title=\"0.005\">i</span><span style=\"background-color: hsl(120, 100.00%, 87.40%); opacity: 0.84\" title=\"0.006\">n</span><span style=\"background-color: hsl(120, 100.00%, 86.64%); opacity: 0.84\" title=\"0.007\"> </span><span style=\"background-color: hsl(120, 100.00%, 85.36%); opacity: 0.85\" title=\"0.008\">b</span><span style=\"background-color: hsl(120, 100.00%, 84.88%); opacity: 0.85\" title=\"0.008\">o</span><span style=\"background-color: hsl(120, 100.00%, 81.50%); opacity: 0.87\" title=\"0.011\">t</span><span style=\"background-color: hsl(120, 100.00%, 80.04%); opacity: 0.87\" title=\"0.012\">h</span><span style=\"background-color: hsl(120, 100.00%, 84.10%); opacity: 0.85\" title=\"0.009\"> </span><span style=\"background-color: hsl(120, 100.00%, 98.77%); opacity: 0.80\" title=\"0.000\">t</span><span style=\"background-color: hsl(120, 100.00%, 92.51%); opacity: 0.82\" title=\"0.003\">h</span><span style=\"background-color: hsl(120, 100.00%, 90.61%); opacity: 0.83\" title=\"0.004\">e</span><span style=\"background-color: hsl(120, 100.00%, 94.43%); opacity: 0.81\" title=\"0.002\"> </span><span style=\"background-color: hsl(0, 100.00%, 93.25%); opacity: 0.82\" title=\"-0.003\">j</span><span style=\"background-color: hsl(0, 100.00%, 92.38%); opacity: 0.82\" title=\"-0.003\">u</span><span style=\"background-color: hsl(0, 100.00%, 94.09%); opacity: 0.81\" title=\"-0.002\">n</span><span style=\"background-color: hsl(0, 100.00%, 95.18%); opacity: 0.81\" title=\"-0.002\">g</span><span style=\"background-color: hsl(0, 100.00%, 93.05%); opacity: 0.82\" title=\"-0.003\">l</span><span style=\"background-color: hsl(0, 100.00%, 94.53%); opacity: 0.81\" title=\"-0.002\">e</span><span style=\"background-color: hsl(120, 100.00%, 91.15%); opacity: 0.82\" title=\"0.004\"> </span><span style=\"background-color: hsl(120, 100.00%, 85.05%); opacity: 0.85\" title=\"0.008\">a</span><span style=\"background-color: hsl(120, 100.00%, 81.36%); opacity: 0.87\" title=\"0.011\">n</span><span style=\"background-color: hsl(120, 100.00%, 86.23%); opacity: 0.84\" title=\"0.007\">d</span><span style=\"background-color: hsl(120, 100.00%, 92.50%); opacity: 0.82\" title=\"0.003\"> </span><span style=\"background-color: hsl(120, 100.00%, 94.10%); opacity: 0.81\" title=\"0.002\">c</span><span style=\"background-color: hsl(120, 100.00%, 94.34%); opacity: 0.81\" title=\"0.002\">i</span><span style=\"background-color: hsl(0, 100.00%, 97.39%); opacity: 0.80\" title=\"-0.001\">v</span><span style=\"background-color: hsl(0, 100.00%, 98.66%); opacity: 0.80\" title=\"-0.000\">i</span><span style=\"background-color: hsl(120, 100.00%, 94.92%); opacity: 0.81\" title=\"0.002\">l</span><span style=\"background-color: hsl(120, 100.00%, 94.83%); opacity: 0.81\" title=\"0.002\">i</span><span style=\"background-color: hsl(0, 100.00%, 96.66%); opacity: 0.81\" title=\"-0.001\">z</span><span style=\"background-color: hsl(0, 100.00%, 93.82%); opacity: 0.81\" title=\"-0.002\">e</span><span style=\"background-color: hsl(120, 100.00%, 97.14%); opacity: 0.80\" title=\"0.001\">d</span><span style=\"background-color: hsl(120, 100.00%, 93.57%); opacity: 0.81\" title=\"0.002\"> </span><span style=\"background-color: hsl(120, 100.00%, 89.61%); opacity: 0.83\" title=\"0.005\">e</span><span style=\"background-color: hsl(120, 100.00%, 96.06%); opacity: 0.81\" title=\"0.001\">n</span><span style=\"background-color: hsl(0, 100.00%, 93.47%); opacity: 0.82\" title=\"-0.002\">v</span><span style=\"background-color: hsl(0, 100.00%, 97.28%); opacity: 0.80\" title=\"-0.001\">i</span><span style=\"background-color: hsl(0, 100.00%, 99.00%); opacity: 0.80\" title=\"-0.000\">r</span><span style=\"background-color: hsl(120, 100.00%, 99.69%); opacity: 0.80\" title=\"0.000\">o</span><span style=\"background-color: hsl(0, 100.00%, 97.40%); opacity: 0.80\" title=\"-0.001\">n</span><span style=\"background-color: hsl(0, 100.00%, 96.62%); opacity: 0.81\" title=\"-0.001\">m</span><span style=\"background-color: hsl(120, 100.00%, 97.54%); opacity: 0.80\" title=\"0.001\">e</span><span style=\"background-color: hsl(120, 100.00%, 91.67%); opacity: 0.82\" title=\"0.003\">n</span><span style=\"background-color: hsl(120, 100.00%, 92.85%); opacity: 0.82\" title=\"0.003\">t</span><span style=\"background-color: hsl(120, 100.00%, 94.21%); opacity: 0.81\" title=\"0.002\">s</span><span style=\"background-color: hsl(120, 100.00%, 94.19%); opacity: 0.81\" title=\"0.002\">.</span><span style=\"background-color: hsl(120, 100.00%, 92.77%); opacity: 0.82\" title=\"0.003\"> </span><span style=\"background-color: hsl(120, 100.00%, 87.38%); opacity: 0.84\" title=\"0.006\">h</span><span style=\"background-color: hsl(120, 100.00%, 88.00%); opacity: 0.84\" title=\"0.006\">e</span><span style=\"background-color: hsl(120, 100.00%, 90.74%); opacity: 0.82\" title=\"0.004\"> </span><span style=\"background-color: hsl(120, 100.00%, 95.93%); opacity: 0.81\" title=\"0.001\">c</span><span style=\"background-color: hsl(120, 100.00%, 97.36%); opacity: 0.80\" title=\"0.001\">o</span><span style=\"background-color: hsl(0, 100.00%, 97.42%); opacity: 0.80\" title=\"-0.001\">n</span><span style=\"background-color: hsl(120, 100.00%, 96.30%); opacity: 0.81\" title=\"0.001\">v</span><span style=\"background-color: hsl(120, 100.00%, 96.24%); opacity: 0.81\" title=\"0.001\">e</span><span style=\"background-color: hsl(120, 100.00%, 94.09%); opacity: 0.81\" title=\"0.002\">y</span><span style=\"background-color: hsl(120, 100.00%, 85.10%); opacity: 0.85\" title=\"0.008\">s</span><span style=\"background-color: hsl(120, 100.00%, 85.30%); opacity: 0.85\" title=\"0.008\"> </span><span style=\"background-color: hsl(120, 100.00%, 83.58%); opacity: 0.86\" title=\"0.009\">a</span><span style=\"background-color: hsl(120, 100.00%, 83.31%); opacity: 0.86\" title=\"0.009\"> </span><span style=\"background-color: hsl(120, 100.00%, 84.54%); opacity: 0.85\" title=\"0.008\">r</span><span style=\"background-color: hsl(120, 100.00%, 85.20%); opacity: 0.85\" title=\"0.008\">e</span><span style=\"background-color: hsl(120, 100.00%, 85.49%); opacity: 0.85\" title=\"0.008\">a</span><span style=\"background-color: hsl(120, 100.00%, 91.64%); opacity: 0.82\" title=\"0.003\">l</span><span style=\"background-color: hsl(0, 100.00%, 95.75%); opacity: 0.81\" title=\"-0.001\"> </span><span style=\"background-color: hsl(0, 100.00%, 90.96%); opacity: 0.82\" title=\"-0.004\">s</span><span style=\"background-color: hsl(0, 100.00%, 97.53%); opacity: 0.80\" title=\"-0.001\">e</span><span style=\"background-color: hsl(120, 100.00%, 96.49%); opacity: 0.81\" title=\"0.001\">n</span><span style=\"background-color: hsl(120, 100.00%, 98.95%); opacity: 0.80\" title=\"0.000\">s</span><span style=\"background-color: hsl(120, 100.00%, 92.45%); opacity: 0.82\" title=\"0.003\">e</span><span style=\"background-color: hsl(120, 100.00%, 90.19%); opacity: 0.83\" title=\"0.004\"> </span><span style=\"background-color: hsl(120, 100.00%, 89.18%); opacity: 0.83\" title=\"0.005\">o</span><span style=\"background-color: hsl(120, 100.00%, 90.55%); opacity: 0.83\" title=\"0.004\">f</span><span style=\"background-color: hsl(120, 100.00%, 87.30%); opacity: 0.84\" title=\"0.006\"> </span><span style=\"background-color: hsl(120, 100.00%, 87.34%); opacity: 0.84\" title=\"0.006\">h</span><span style=\"background-color: hsl(120, 100.00%, 93.09%); opacity: 0.82\" title=\"0.003\">i</span><span style=\"background-color: hsl(120, 100.00%, 95.26%); opacity: 0.81\" title=\"0.002\">s</span><span style=\"background-color: hsl(120, 100.00%, 94.94%); opacity: 0.81\" title=\"0.002\"> </span><span style=\"background-color: hsl(0, 100.00%, 93.94%); opacity: 0.81\" title=\"-0.002\">c</span><span style=\"background-color: hsl(0, 100.00%, 89.73%); opacity: 0.83\" title=\"-0.005\">o</span><span style=\"background-color: hsl(0, 100.00%, 75.11%); opacity: 0.90\" title=\"-0.017\">n</span><span style=\"background-color: hsl(0, 100.00%, 76.43%); opacity: 0.89\" title=\"-0.015\">f</span><span style=\"background-color: hsl(0, 100.00%, 78.95%); opacity: 0.88\" title=\"-0.013\">u</span><span style=\"background-color: hsl(0, 100.00%, 88.05%); opacity: 0.84\" title=\"-0.006\">s</span><span style=\"background-color: hsl(120, 100.00%, 98.80%); opacity: 0.80\" title=\"0.000\">i</span><span style=\"background-color: hsl(120, 100.00%, 97.61%); opacity: 0.80\" title=\"0.001\">o</span><span style=\"background-color: hsl(120, 100.00%, 97.98%); opacity: 0.80\" title=\"0.000\">n</span><span style=\"background-color: hsl(120, 100.00%, 92.88%); opacity: 0.82\" title=\"0.003\"> </span><span style=\"background-color: hsl(120, 100.00%, 88.34%); opacity: 0.83\" title=\"0.006\">a</span><span style=\"background-color: hsl(120, 100.00%, 84.67%); opacity: 0.85\" title=\"0.008\">n</span><span style=\"background-color: hsl(120, 100.00%, 88.08%); opacity: 0.84\" title=\"0.006\">d</span><span style=\"background-color: hsl(120, 100.00%, 94.75%); opacity: 0.81\" title=\"0.002\"> </span><span style=\"background-color: hsl(0, 100.00%, 98.98%); opacity: 0.80\" title=\"-0.000\">c</span><span style=\"background-color: hsl(0, 100.00%, 95.00%); opacity: 0.81\" title=\"-0.002\">o</span><span style=\"background-color: hsl(0, 100.00%, 91.54%); opacity: 0.82\" title=\"-0.004\">n</span><span style=\"background-color: hsl(0, 100.00%, 91.41%); opacity: 0.82\" title=\"-0.004\">f</span><span style=\"background-color: hsl(120, 100.00%, 97.45%); opacity: 0.80\" title=\"0.001\">l</span><span style=\"background-color: hsl(120, 100.00%, 98.07%); opacity: 0.80\" title=\"0.000\">i</span><span style=\"background-color: hsl(120, 100.00%, 98.24%); opacity: 0.80\" title=\"0.000\">c</span><span style=\"background-color: hsl(120, 100.00%, 90.99%); opacity: 0.82\" title=\"0.004\">t</span><span style=\"background-color: hsl(120, 100.00%, 87.58%); opacity: 0.84\" title=\"0.006\">,</span><span style=\"background-color: hsl(120, 100.00%, 90.57%); opacity: 0.83\" title=\"0.004\"> </span><span style=\"background-color: hsl(120, 100.00%, 94.42%); opacity: 0.81\" title=\"0.002\">t</span><span style=\"background-color: hsl(0, 100.00%, 96.09%); opacity: 0.81\" title=\"-0.001\">o</span><span style=\"background-color: hsl(0, 100.00%, 95.22%); opacity: 0.81\" title=\"-0.002\">r</span><span style=\"background-color: hsl(120, 100.00%, 96.99%); opacity: 0.80\" title=\"0.001\">n</span><span style=\"background-color: hsl(120, 100.00%, 92.16%); opacity: 0.82\" title=\"0.003\"> </span><span style=\"background-color: hsl(120, 100.00%, 89.52%); opacity: 0.83\" title=\"0.005\">a</span><span style=\"background-color: hsl(120, 100.00%, 85.78%); opacity: 0.85\" title=\"0.007\">s</span><span style=\"background-color: hsl(120, 100.00%, 84.29%); opacity: 0.85\" title=\"0.009\"> </span><span style=\"background-color: hsl(120, 100.00%, 84.68%); opacity: 0.85\" title=\"0.008\">h</span><span style=\"background-color: hsl(120, 100.00%, 87.39%); opacity: 0.84\" title=\"0.006\">e</span><span style=\"background-color: hsl(120, 100.00%, 89.51%); opacity: 0.83\" title=\"0.005\"> </span><span style=\"background-color: hsl(120, 100.00%, 98.44%); opacity: 0.80\" title=\"0.000\">i</span><span style=\"background-color: hsl(0, 100.00%, 98.43%); opacity: 0.80\" title=\"-0.000\">s</span><span style=\"background-color: hsl(0, 100.00%, 97.13%); opacity: 0.80\" title=\"-0.001\"> </span><span style=\"background-color: hsl(0, 100.00%, 92.86%); opacity: 0.82\" title=\"-0.003\">b</span><span style=\"background-color: hsl(0, 100.00%, 97.87%); opacity: 0.80\" title=\"-0.000\">e</span><span style=\"background-color: hsl(0, 100.00%, 96.03%); opacity: 0.81\" title=\"-0.001\">t</span><span style=\"background-color: hsl(120, 100.00%, 89.60%); opacity: 0.83\" title=\"0.005\">w</span><span style=\"background-color: hsl(120, 100.00%, 87.73%); opacity: 0.84\" title=\"0.006\">e</span><span style=\"background-color: hsl(120, 100.00%, 91.18%); opacity: 0.82\" title=\"0.004\">e</span><span style=\"background-color: hsl(0, 100.00%, 99.67%); opacity: 0.80\" title=\"-0.000\">n</span><span style=\"background-color: hsl(0, 100.00%, 95.48%); opacity: 0.81\" title=\"-0.001\"> </span><span style=\"background-color: hsl(120, 100.00%, 97.90%); opacity: 0.80\" title=\"0.000\">t</span><span style=\"background-color: hsl(120, 100.00%, 88.10%); opacity: 0.84\" title=\"0.006\">h</span><span style=\"background-color: hsl(120, 100.00%, 80.43%); opacity: 0.87\" title=\"0.012\">e</span><span style=\"background-color: hsl(120, 100.00%, 79.18%); opacity: 0.88\" title=\"0.013\"> </span><span style=\"background-color: hsl(120, 100.00%, 78.33%); opacity: 0.88\" title=\"0.014\">t</span><span style=\"background-color: hsl(120, 100.00%, 81.55%); opacity: 0.87\" title=\"0.011\">w</span><span style=\"background-color: hsl(120, 100.00%, 90.40%); opacity: 0.83\" title=\"0.004\">o</span><span style=\"background-color: hsl(120, 100.00%, 87.36%); opacity: 0.84\" title=\"0.006\"> </span><span style=\"background-color: hsl(120, 100.00%, 83.37%); opacity: 0.86\" title=\"0.009\">v</span><span style=\"background-color: hsl(120, 100.00%, 84.93%); opacity: 0.85\" title=\"0.008\">e</span><span style=\"background-color: hsl(120, 100.00%, 87.34%); opacity: 0.84\" title=\"0.006\">r</span><span style=\"background-color: hsl(120, 100.00%, 99.31%); opacity: 0.80\" title=\"0.000\">y</span><span style=\"background-color: hsl(0, 100.00%, 92.86%); opacity: 0.82\" title=\"-0.003\"> </span><span style=\"background-color: hsl(0, 100.00%, 95.43%); opacity: 0.81\" title=\"-0.001\">d</span><span style=\"background-color: hsl(120, 100.00%, 82.60%); opacity: 0.86\" title=\"0.010\">i</span><span style=\"background-color: hsl(120, 100.00%, 78.18%); opacity: 0.88\" title=\"0.014\">f</span><span style=\"background-color: hsl(120, 100.00%, 77.96%); opacity: 0.89\" title=\"0.014\">f</span><span style=\"background-color: hsl(120, 100.00%, 80.67%); opacity: 0.87\" title=\"0.012\">e</span><span style=\"background-color: hsl(120, 100.00%, 89.85%); opacity: 0.83\" title=\"0.005\">r</span><span style=\"background-color: hsl(120, 100.00%, 92.42%); opacity: 0.82\" title=\"0.003\">e</span><span style=\"background-color: hsl(120, 100.00%, 91.64%); opacity: 0.82\" title=\"0.003\">n</span><span style=\"background-color: hsl(0, 100.00%, 94.11%); opacity: 0.81\" title=\"-0.002\">t</span><span style=\"background-color: hsl(0, 100.00%, 94.65%); opacity: 0.81\" title=\"-0.002\"> </span><span style=\"background-color: hsl(120, 100.00%, 94.99%); opacity: 0.81\" title=\"0.002\">w</span><span style=\"background-color: hsl(120, 100.00%, 91.16%); opacity: 0.82\" title=\"0.004\">o</span><span style=\"background-color: hsl(120, 100.00%, 79.62%); opacity: 0.88\" title=\"0.012\">r</span><span style=\"background-color: hsl(120, 100.00%, 71.43%); opacity: 0.92\" title=\"0.020\">l</span><span style=\"background-color: hsl(120, 100.00%, 74.55%); opacity: 0.90\" title=\"0.017\">d</span><span style=\"background-color: hsl(120, 100.00%, 86.70%); opacity: 0.84\" title=\"0.007\">s</span><span style=\"background-color: hsl(120, 100.00%, 92.04%); opacity: 0.82\" title=\"0.003\">,</span><span style=\"background-color: hsl(120, 100.00%, 88.68%); opacity: 0.83\" title=\"0.005\"> </span><span style=\"background-color: hsl(120, 100.00%, 92.54%); opacity: 0.82\" title=\"0.003\">h</span><span style=\"background-color: hsl(120, 100.00%, 93.12%); opacity: 0.82\" title=\"0.003\">i</span><span style=\"background-color: hsl(120, 100.00%, 96.79%); opacity: 0.81\" title=\"0.001\">s</span><span style=\"background-color: hsl(0, 100.00%, 94.63%); opacity: 0.81\" title=\"-0.002\"> </span><span style=\"background-color: hsl(0, 100.00%, 84.37%); opacity: 0.85\" title=\"-0.009\">o</span><span style=\"background-color: hsl(0, 100.00%, 84.32%); opacity: 0.85\" title=\"-0.009\">r</span><span style=\"background-color: hsl(0, 100.00%, 85.05%); opacity: 0.85\" title=\"-0.008\">i</span><span style=\"background-color: hsl(0, 100.00%, 82.18%); opacity: 0.86\" title=\"-0.010\">g</span><span style=\"background-color: hsl(0, 100.00%, 83.26%); opacity: 0.86\" title=\"-0.009\">i</span><span style=\"background-color: hsl(0, 100.00%, 90.02%); opacity: 0.83\" title=\"-0.004\">n</span><span style=\"background-color: hsl(0, 100.00%, 97.33%); opacity: 0.80\" title=\"-0.001\">a</span><span style=\"background-color: hsl(120, 100.00%, 94.70%); opacity: 0.81\" title=\"0.002\">l</span><span style=\"background-color: hsl(120, 100.00%, 94.36%); opacity: 0.81\" title=\"0.002\"> </span><span style=\"background-color: hsl(0, 100.00%, 91.16%); opacity: 0.82\" title=\"-0.004\">a</span><span style=\"background-color: hsl(0, 100.00%, 91.34%); opacity: 0.82\" title=\"-0.004\">p</span><span style=\"background-color: hsl(0, 100.00%, 99.86%); opacity: 0.80\" title=\"-0.000\">e</span><span style=\"background-color: hsl(120, 100.00%, 87.99%); opacity: 0.84\" title=\"0.006\"> </span><span style=\"background-color: hsl(120, 100.00%, 82.74%); opacity: 0.86\" title=\"0.010\">f</span><span style=\"background-color: hsl(120, 100.00%, 83.94%); opacity: 0.85\" title=\"0.009\">a</span><span style=\"background-color: hsl(120, 100.00%, 84.62%); opacity: 0.85\" title=\"0.008\">m</span><span style=\"background-color: hsl(120, 100.00%, 83.16%); opacity: 0.86\" title=\"0.009\">i</span><span style=\"background-color: hsl(120, 100.00%, 89.11%); opacity: 0.83\" title=\"0.005\">l</span><span style=\"background-color: hsl(120, 100.00%, 96.17%); opacity: 0.81\" title=\"0.001\">y</span><span style=\"background-color: hsl(120, 100.00%, 93.04%); opacity: 0.82\" title=\"0.003\"> </span><span style=\"background-color: hsl(120, 100.00%, 87.73%); opacity: 0.84\" title=\"0.006\">a</span><span style=\"background-color: hsl(120, 100.00%, 82.46%); opacity: 0.86\" title=\"0.010\">n</span><span style=\"background-color: hsl(120, 100.00%, 85.16%); opacity: 0.85\" title=\"0.008\">d</span><span style=\"background-color: hsl(120, 100.00%, 86.13%); opacity: 0.84\" title=\"0.007\"> </span><span style=\"background-color: hsl(120, 100.00%, 88.68%); opacity: 0.83\" title=\"0.005\">h</span><span style=\"background-color: hsl(120, 100.00%, 98.20%); opacity: 0.80\" title=\"0.000\">i</span><span style=\"background-color: hsl(0, 100.00%, 92.42%); opacity: 0.82\" title=\"-0.003\">s</span><span style=\"background-color: hsl(0, 100.00%, 93.58%); opacity: 0.81\" title=\"-0.002\"> </span><span style=\"background-color: hsl(0, 100.00%, 93.27%); opacity: 0.82\" title=\"-0.003\">n</span><span style=\"background-color: hsl(120, 100.00%, 90.82%); opacity: 0.82\" title=\"0.004\">e</span><span style=\"background-color: hsl(120, 100.00%, 92.04%); opacity: 0.82\" title=\"0.003\">w</span><span style=\"background-color: hsl(120, 100.00%, 87.14%); opacity: 0.84\" title=\"0.006\"> </span><span style=\"background-color: hsl(120, 100.00%, 83.62%); opacity: 0.86\" title=\"0.009\">h</span><span style=\"background-color: hsl(120, 100.00%, 82.13%); opacity: 0.86\" title=\"0.010\">u</span><span style=\"background-color: hsl(120, 100.00%, 79.00%); opacity: 0.88\" title=\"0.013\">m</span><span style=\"background-color: hsl(120, 100.00%, 81.92%); opacity: 0.86\" title=\"0.011\">a</span><span style=\"background-color: hsl(120, 100.00%, 88.43%); opacity: 0.83\" title=\"0.006\">n</span><span style=\"background-color: hsl(0, 100.00%, 93.78%); opacity: 0.81\" title=\"-0.002\"> </span><span style=\"background-color: hsl(0, 100.00%, 89.41%); opacity: 0.83\" title=\"-0.005\">o</span><span style=\"background-color: hsl(0, 100.00%, 94.05%); opacity: 0.81\" title=\"-0.002\">n</span><span style=\"background-color: hsl(0, 100.00%, 92.74%); opacity: 0.82\" title=\"-0.003\">e</span><span style=\"background-color: hsl(0, 100.00%, 90.15%); opacity: 0.83\" title=\"-0.004\">.</span><span style=\"background-color: hsl(0, 100.00%, 90.41%); opacity: 0.83\" title=\"-0.004\"> </span><span style=\"background-color: hsl(0, 100.00%, 92.50%); opacity: 0.82\" title=\"-0.003\">s</span><span style=\"background-color: hsl(120, 100.00%, 96.42%); opacity: 0.81\" title=\"0.001\">i</span><span style=\"background-color: hsl(0, 100.00%, 98.50%); opacity: 0.80\" title=\"-0.000\">r</span><span style=\"background-color: hsl(120, 100.00%, 98.55%); opacity: 0.80\" title=\"0.000\"> </span><span style=\"background-color: hsl(120, 100.00%, 93.63%); opacity: 0.81\" title=\"0.002\">r</span><span style=\"background-color: hsl(120, 100.00%, 93.71%); opacity: 0.81\" title=\"0.002\">a</span><span style=\"background-color: hsl(120, 100.00%, 90.10%); opacity: 0.83\" title=\"0.004\">l</span><span style=\"background-color: hsl(120, 100.00%, 92.28%); opacity: 0.82\" title=\"0.003\">p</span><span style=\"background-color: hsl(0, 100.00%, 96.56%); opacity: 0.81\" title=\"-0.001\">h</span><span style=\"background-color: hsl(120, 100.00%, 99.35%); opacity: 0.80\" title=\"0.000\"> </span><span style=\"background-color: hsl(120, 100.00%, 95.30%); opacity: 0.81\" title=\"0.002\">r</span><span style=\"background-color: hsl(120, 100.00%, 90.95%); opacity: 0.82\" title=\"0.004\">i</span><span style=\"background-color: hsl(120, 100.00%, 92.56%); opacity: 0.82\" title=\"0.003\">c</span><span style=\"background-color: hsl(120, 100.00%, 95.68%); opacity: 0.81\" title=\"0.001\">h</span><span style=\"background-color: hsl(120, 100.00%, 95.79%); opacity: 0.81\" title=\"0.001\">a</span><span style=\"background-color: hsl(120, 100.00%, 97.83%); opacity: 0.80\" title=\"0.001\">r</span><span style=\"background-color: hsl(120, 100.00%, 96.89%); opacity: 0.81\" title=\"0.001\">d</span><span style=\"background-color: hsl(120, 100.00%, 90.35%); opacity: 0.83\" title=\"0.004\">s</span><span style=\"background-color: hsl(120, 100.00%, 92.75%); opacity: 0.82\" title=\"0.003\">o</span><span style=\"background-color: hsl(120, 100.00%, 89.89%); opacity: 0.83\" title=\"0.005\">n</span><span style=\"background-color: hsl(120, 100.00%, 92.33%); opacity: 0.82\" title=\"0.003\">,</span><span style=\"background-color: hsl(120, 100.00%, 99.98%); opacity: 0.80\" title=\"0.000\"> </span><span style=\"background-color: hsl(0, 100.00%, 94.72%); opacity: 0.81\" title=\"-0.002\">o</span><span style=\"background-color: hsl(120, 100.00%, 93.48%); opacity: 0.81\" title=\"0.002\">n</span><span style=\"background-color: hsl(120, 100.00%, 90.16%); opacity: 0.83\" title=\"0.004\">e</span><span style=\"background-color: hsl(120, 100.00%, 91.86%); opacity: 0.82\" title=\"0.003\"> </span><span style=\"background-color: hsl(120, 100.00%, 91.33%); opacity: 0.82\" title=\"0.004\">o</span><span style=\"background-color: hsl(120, 100.00%, 93.24%); opacity: 0.82\" title=\"0.003\">f</span><span style=\"background-color: hsl(120, 100.00%, 97.49%); opacity: 0.80\" title=\"0.001\"> </span><span style=\"background-color: hsl(120, 100.00%, 97.72%); opacity: 0.80\" title=\"0.001\">t</span><span style=\"background-color: hsl(120, 100.00%, 93.45%); opacity: 0.82\" title=\"0.002\">h</span><span style=\"background-color: hsl(120, 100.00%, 90.35%); opacity: 0.83\" title=\"0.004\">e</span><span style=\"background-color: hsl(120, 100.00%, 98.46%); opacity: 0.80\" title=\"0.000\"> </span><span style=\"background-color: hsl(0, 100.00%, 93.11%); opacity: 0.82\" title=\"-0.003\">o</span><span style=\"background-color: hsl(120, 100.00%, 98.13%); opacity: 0.80\" title=\"0.000\">l</span><span style=\"background-color: hsl(0, 100.00%, 96.23%); opacity: 0.81\" title=\"-0.001\">d</span><span style=\"background-color: hsl(120, 100.00%, 99.29%); opacity: 0.80\" title=\"0.000\"> </span><span style=\"background-color: hsl(120, 100.00%, 86.68%); opacity: 0.84\" title=\"0.007\">b</span><span style=\"background-color: hsl(120, 100.00%, 84.57%); opacity: 0.85\" title=\"0.008\">r</span><span style=\"background-color: hsl(120, 100.00%, 90.20%); opacity: 0.83\" title=\"0.004\">i</span><span style=\"background-color: hsl(120, 100.00%, 94.27%); opacity: 0.81\" title=\"0.002\">t</span><span style=\"background-color: hsl(0, 100.00%, 94.57%); opacity: 0.81\" title=\"-0.002\">i</span><span style=\"background-color: hsl(0, 100.00%, 89.29%); opacity: 0.83\" title=\"-0.005\">s</span><span style=\"background-color: hsl(0, 100.00%, 93.09%); opacity: 0.82\" title=\"-0.003\">h</span><span style=\"background-color: hsl(0, 100.00%, 91.93%); opacity: 0.82\" title=\"-0.003\"> </span><span style=\"background-color: hsl(0, 100.00%, 87.99%); opacity: 0.84\" title=\"-0.006\">l</span><span style=\"background-color: hsl(0, 100.00%, 83.89%); opacity: 0.85\" title=\"-0.009\">e</span><span style=\"background-color: hsl(0, 100.00%, 89.68%); opacity: 0.83\" title=\"-0.005\">g</span><span style=\"background-color: hsl(0, 100.00%, 98.87%); opacity: 0.80\" title=\"-0.000\">e</span><span style=\"background-color: hsl(120, 100.00%, 90.02%); opacity: 0.83\" title=\"0.005\">n</span><span style=\"background-color: hsl(120, 100.00%, 86.82%); opacity: 0.84\" title=\"0.007\">d</span><span style=\"background-color: hsl(120, 100.00%, 88.15%); opacity: 0.84\" title=\"0.006\">s</span><span style=\"background-color: hsl(120, 100.00%, 90.62%); opacity: 0.83\" title=\"0.004\">,</span><span style=\"background-color: hsl(120, 100.00%, 90.57%); opacity: 0.83\" title=\"0.004\"> </span><span style=\"background-color: hsl(120, 100.00%, 98.86%); opacity: 0.80\" title=\"0.000\">i</span><span style=\"background-color: hsl(120, 100.00%, 96.13%); opacity: 0.81\" title=\"0.001\">s</span><span style=\"background-color: hsl(120, 100.00%, 86.03%); opacity: 0.84\" title=\"0.007\"> </span><span style=\"background-color: hsl(120, 100.00%, 75.28%); opacity: 0.90\" title=\"0.016\">b</span><span style=\"background-color: hsl(120, 100.00%, 64.38%); opacity: 0.97\" title=\"0.028\">r</span><span style=\"background-color: hsl(120, 100.00%, 65.40%); opacity: 0.96\" title=\"0.027\">i</span><span style=\"background-color: hsl(120, 100.00%, 60.52%); opacity: 1.00\" title=\"0.032\">l</span><span style=\"background-color: hsl(120, 100.00%, 61.29%); opacity: 0.99\" title=\"0.031\">l</span><span style=\"background-color: hsl(120, 100.00%, 67.61%); opacity: 0.95\" title=\"0.024\">i</span><span style=\"background-color: hsl(120, 100.00%, 72.95%); opacity: 0.91\" title=\"0.019\">a</span><span style=\"background-color: hsl(120, 100.00%, 80.73%); opacity: 0.87\" title=\"0.012\">n</span><span style=\"background-color: hsl(120, 100.00%, 86.56%); opacity: 0.84\" title=\"0.007\">t</span><span style=\"background-color: hsl(120, 100.00%, 93.64%); opacity: 0.81\" title=\"0.002\"> </span><span style=\"background-color: hsl(120, 100.00%, 91.82%); opacity: 0.82\" title=\"0.003\">a</span><span style=\"background-color: hsl(120, 100.00%, 88.90%); opacity: 0.83\" title=\"0.005\">s</span><span style=\"background-color: hsl(120, 100.00%, 84.98%); opacity: 0.85\" title=\"0.008\"> </span><span style=\"background-color: hsl(120, 100.00%, 82.58%); opacity: 0.86\" title=\"0.010\">a</span><span style=\"background-color: hsl(120, 100.00%, 75.45%); opacity: 0.90\" title=\"0.016\">l</span><span style=\"background-color: hsl(120, 100.00%, 73.85%); opacity: 0.91\" title=\"0.018\">w</span><span style=\"background-color: hsl(120, 100.00%, 75.66%); opacity: 0.90\" title=\"0.016\">a</span><span style=\"background-color: hsl(120, 100.00%, 75.83%); opacity: 0.90\" title=\"0.016\">y</span><span style=\"background-color: hsl(120, 100.00%, 78.51%); opacity: 0.88\" title=\"0.013\">s</span><span style=\"background-color: hsl(120, 100.00%, 85.22%); opacity: 0.85\" title=\"0.008\"> </span><span style=\"background-color: hsl(120, 100.00%, 94.18%); opacity: 0.81\" title=\"0.002\">i</span><span style=\"background-color: hsl(0, 100.00%, 96.73%); opacity: 0.81\" title=\"-0.001\">n</span><span style=\"background-color: hsl(0, 100.00%, 98.37%); opacity: 0.80\" title=\"-0.000\"> </span><span style=\"background-color: hsl(120, 100.00%, 99.18%); opacity: 0.80\" title=\"0.000\">t</span><span style=\"background-color: hsl(120, 100.00%, 89.80%); opacity: 0.83\" title=\"0.005\">h</span><span style=\"background-color: hsl(120, 100.00%, 81.45%); opacity: 0.87\" title=\"0.011\">e</span><span style=\"background-color: hsl(120, 100.00%, 79.38%); opacity: 0.88\" title=\"0.013\"> </span><span style=\"background-color: hsl(120, 100.00%, 82.62%); opacity: 0.86\" title=\"0.010\">r</span><span style=\"background-color: hsl(120, 100.00%, 87.24%); opacity: 0.84\" title=\"0.006\">o</span><span style=\"background-color: hsl(120, 100.00%, 96.15%); opacity: 0.81\" title=\"0.001\">l</span><span style=\"background-color: hsl(0, 100.00%, 99.20%); opacity: 0.80\" title=\"-0.000\">e</span><span style=\"background-color: hsl(0, 100.00%, 98.73%); opacity: 0.80\" title=\"-0.000\"> </span><span style=\"background-color: hsl(0, 100.00%, 95.66%); opacity: 0.81\" title=\"-0.001\">o</span><span style=\"background-color: hsl(0, 100.00%, 97.03%); opacity: 0.80\" title=\"-0.001\">f</span><span style=\"background-color: hsl(0, 100.00%, 96.97%); opacity: 0.81\" title=\"-0.001\"> </span><span style=\"background-color: hsl(0, 100.00%, 96.99%); opacity: 0.80\" title=\"-0.001\">t</span><span style=\"background-color: hsl(120, 100.00%, 98.97%); opacity: 0.80\" title=\"0.000\">a</span><span style=\"background-color: hsl(0, 100.00%, 99.95%); opacity: 0.80\" title=\"-0.000\">r</span><span style=\"background-color: hsl(120, 100.00%, 97.98%); opacity: 0.80\" title=\"0.000\">z</span><span style=\"background-color: hsl(120, 100.00%, 96.42%); opacity: 0.81\" title=\"0.001\">a</span><span style=\"background-color: hsl(0, 100.00%, 97.88%); opacity: 0.80\" title=\"-0.000\">n</span><span style=\"background-color: hsl(120, 100.00%, 97.10%); opacity: 0.80\" title=\"0.001\">&#x27;</span><span style=\"background-color: hsl(120, 100.00%, 85.76%); opacity: 0.85\" title=\"0.007\">s</span><span style=\"background-color: hsl(120, 100.00%, 84.36%); opacity: 0.85\" title=\"0.009\"> </span><span style=\"background-color: hsl(120, 100.00%, 84.90%); opacity: 0.85\" title=\"0.008\">g</span><span style=\"background-color: hsl(120, 100.00%, 90.30%); opacity: 0.83\" title=\"0.004\">r</span><span style=\"background-color: hsl(120, 100.00%, 97.47%); opacity: 0.80\" title=\"0.001\">a</span><span style=\"background-color: hsl(120, 100.00%, 89.06%); opacity: 0.83\" title=\"0.005\">n</span><span style=\"background-color: hsl(120, 100.00%, 92.54%); opacity: 0.82\" title=\"0.003\">d</span><span style=\"background-color: hsl(120, 100.00%, 90.79%); opacity: 0.82\" title=\"0.004\">f</span><span style=\"background-color: hsl(120, 100.00%, 90.21%); opacity: 0.83\" title=\"0.004\">a</span><span style=\"background-color: hsl(120, 100.00%, 93.57%); opacity: 0.81\" title=\"0.002\">t</span><span style=\"background-color: hsl(120, 100.00%, 96.49%); opacity: 0.81\" title=\"0.001\">h</span><span style=\"background-color: hsl(120, 100.00%, 95.36%); opacity: 0.81\" title=\"0.002\">e</span><span style=\"background-color: hsl(120, 100.00%, 95.38%); opacity: 0.81\" title=\"0.001\">r</span><span style=\"background-color: hsl(120, 100.00%, 93.50%); opacity: 0.81\" title=\"0.002\">,</span><span style=\"background-color: hsl(120, 100.00%, 95.60%); opacity: 0.81\" title=\"0.001\"> </span><span style=\"background-color: hsl(120, 100.00%, 96.08%); opacity: 0.81\" title=\"0.001\">t</span><span style=\"background-color: hsl(120, 100.00%, 90.44%); opacity: 0.83\" title=\"0.004\">h</span><span style=\"background-color: hsl(120, 100.00%, 87.59%); opacity: 0.84\" title=\"0.006\">e</span><span style=\"background-color: hsl(120, 100.00%, 91.47%); opacity: 0.82\" title=\"0.004\"> </span><span style=\"background-color: hsl(120, 100.00%, 98.64%); opacity: 0.80\" title=\"0.000\">s</span><span style=\"background-color: hsl(120, 100.00%, 97.53%); opacity: 0.80\" title=\"0.001\">i</span><span style=\"background-color: hsl(120, 100.00%, 95.61%); opacity: 0.81\" title=\"0.001\">x</span><span style=\"background-color: hsl(120, 100.00%, 93.17%); opacity: 0.82\" title=\"0.003\">t</span><span style=\"background-color: hsl(120, 100.00%, 92.35%); opacity: 0.82\" title=\"0.003\">h</span><span style=\"background-color: hsl(120, 100.00%, 88.49%); opacity: 0.83\" title=\"0.006\"> </span><span style=\"background-color: hsl(120, 100.00%, 87.42%); opacity: 0.84\" title=\"0.006\">e</span><span style=\"background-color: hsl(120, 100.00%, 91.44%); opacity: 0.82\" title=\"0.004\">a</span><span style=\"background-color: hsl(120, 100.00%, 93.95%); opacity: 0.81\" title=\"0.002\">r</span><span style=\"background-color: hsl(120, 100.00%, 92.65%); opacity: 0.82\" title=\"0.003\">l</span><span style=\"background-color: hsl(120, 100.00%, 97.48%); opacity: 0.80\" title=\"0.001\"> </span><span style=\"background-color: hsl(0, 100.00%, 96.26%); opacity: 0.81\" title=\"-0.001\">o</span><span style=\"background-color: hsl(0, 100.00%, 96.84%); opacity: 0.81\" title=\"-0.001\">f</span><span style=\"background-color: hsl(120, 100.00%, 88.88%); opacity: 0.83\" title=\"0.005\"> </span><span style=\"background-color: hsl(120, 100.00%, 81.83%); opacity: 0.86\" title=\"0.011\">g</span><span style=\"background-color: hsl(120, 100.00%, 82.48%); opacity: 0.86\" title=\"0.010\">r</span><span style=\"background-color: hsl(120, 100.00%, 89.66%); opacity: 0.83\" title=\"0.005\">e</span><span style=\"background-color: hsl(120, 100.00%, 94.32%); opacity: 0.81\" title=\"0.002\">y</span><span style=\"background-color: hsl(120, 100.00%, 96.37%); opacity: 0.81\" title=\"0.001\">s</span><span style=\"background-color: hsl(0, 100.00%, 96.52%); opacity: 0.81\" title=\"-0.001\">t</span><span style=\"background-color: hsl(0, 100.00%, 92.21%); opacity: 0.82\" title=\"-0.003\">o</span><span style=\"background-color: hsl(0, 100.00%, 87.23%); opacity: 0.84\" title=\"-0.006\">k</span><span style=\"background-color: hsl(0, 100.00%, 87.67%); opacity: 0.84\" title=\"-0.006\">e</span><span style=\"background-color: hsl(0, 100.00%, 87.34%); opacity: 0.84\" title=\"-0.006\">.</span><span style=\"background-color: hsl(0, 100.00%, 89.90%); opacity: 0.83\" title=\"-0.005\"> </span><span style=\"background-color: hsl(0, 100.00%, 91.73%); opacity: 0.82\" title=\"-0.003\">t</span><span style=\"background-color: hsl(0, 100.00%, 97.06%); opacity: 0.80\" title=\"-0.001\">h</span><span style=\"background-color: hsl(120, 100.00%, 97.71%); opacity: 0.80\" title=\"0.001\">e</span><span style=\"background-color: hsl(120, 100.00%, 91.99%); opacity: 0.82\" title=\"0.003\"> </span><span style=\"background-color: hsl(120, 100.00%, 94.10%); opacity: 0.81\" title=\"0.002\">f</span><span style=\"background-color: hsl(120, 100.00%, 94.23%); opacity: 0.81\" title=\"0.002\">i</span><span style=\"background-color: hsl(120, 100.00%, 93.43%); opacity: 0.82\" title=\"0.002\">l</span><span style=\"background-color: hsl(120, 100.00%, 91.30%); opacity: 0.82\" title=\"0.004\">m</span><span style=\"background-color: hsl(120, 100.00%, 86.30%); opacity: 0.84\" title=\"0.007\"> </span><span style=\"background-color: hsl(120, 100.00%, 86.71%); opacity: 0.84\" title=\"0.007\">f</span><span style=\"background-color: hsl(120, 100.00%, 86.53%); opacity: 0.84\" title=\"0.007\">o</span><span style=\"background-color: hsl(120, 100.00%, 89.01%); opacity: 0.83\" title=\"0.005\">c</span><span style=\"background-color: hsl(120, 100.00%, 93.71%); opacity: 0.81\" title=\"0.002\">u</span><span style=\"background-color: hsl(120, 100.00%, 99.67%); opacity: 0.80\" title=\"0.000\">s</span><span style=\"background-color: hsl(120, 100.00%, 97.54%); opacity: 0.80\" title=\"0.001\">e</span><span style=\"background-color: hsl(120, 100.00%, 90.97%); opacity: 0.82\" title=\"0.004\">s</span><span style=\"background-color: hsl(120, 100.00%, 90.41%); opacity: 0.83\" title=\"0.004\"> </span><span style=\"background-color: hsl(120, 100.00%, 86.89%); opacity: 0.84\" title=\"0.007\">m</span><span style=\"background-color: hsl(120, 100.00%, 88.89%); opacity: 0.83\" title=\"0.005\">o</span><span style=\"background-color: hsl(120, 100.00%, 93.32%); opacity: 0.82\" title=\"0.003\">r</span><span style=\"background-color: hsl(120, 100.00%, 93.68%); opacity: 0.81\" title=\"0.002\">e</span><span style=\"background-color: hsl(0, 100.00%, 95.44%); opacity: 0.81\" title=\"-0.001\"> </span><span style=\"background-color: hsl(0, 100.00%, 92.20%); opacity: 0.82\" title=\"-0.003\">o</span><span style=\"background-color: hsl(0, 100.00%, 95.15%); opacity: 0.81\" title=\"-0.002\">n</span><span style=\"background-color: hsl(0, 100.00%, 99.29%); opacity: 0.80\" title=\"-0.000\"> </span><span style=\"background-color: hsl(0, 100.00%, 95.53%); opacity: 0.81\" title=\"-0.001\">t</span><span style=\"background-color: hsl(120, 100.00%, 98.97%); opacity: 0.80\" title=\"0.000\">a</span><span style=\"background-color: hsl(0, 100.00%, 99.95%); opacity: 0.80\" title=\"-0.000\">r</span><span style=\"background-color: hsl(120, 100.00%, 97.98%); opacity: 0.80\" title=\"0.000\">z</span><span style=\"background-color: hsl(120, 100.00%, 96.42%); opacity: 0.81\" title=\"0.001\">a</span><span style=\"background-color: hsl(0, 100.00%, 97.88%); opacity: 0.80\" title=\"-0.000\">n</span><span style=\"background-color: hsl(120, 100.00%, 98.63%); opacity: 0.80\" title=\"0.000\">&#x27;</span><span style=\"background-color: hsl(120, 100.00%, 91.03%); opacity: 0.82\" title=\"0.004\">s</span><span style=\"background-color: hsl(0, 100.00%, 98.35%); opacity: 0.80\" title=\"-0.000\"> </span><span style=\"background-color: hsl(0, 100.00%, 92.13%); opacity: 0.82\" title=\"-0.003\">s</span><span style=\"background-color: hsl(120, 100.00%, 92.69%); opacity: 0.82\" title=\"0.003\">t</span><span style=\"background-color: hsl(120, 100.00%, 90.76%); opacity: 0.82\" title=\"0.004\">r</span><span style=\"background-color: hsl(120, 100.00%, 96.21%); opacity: 0.81\" title=\"0.001\">u</span><span style=\"background-color: hsl(0, 100.00%, 89.88%); opacity: 0.83\" title=\"-0.005\">g</span><span style=\"background-color: hsl(0, 100.00%, 91.31%); opacity: 0.82\" title=\"-0.004\">g</span><span style=\"background-color: hsl(0, 100.00%, 91.79%); opacity: 0.82\" title=\"-0.003\">l</span><span style=\"background-color: hsl(0, 100.00%, 97.13%); opacity: 0.80\" title=\"-0.001\">e</span><span style=\"background-color: hsl(120, 100.00%, 92.78%); opacity: 0.82\" title=\"0.003\">s</span><span style=\"background-color: hsl(120, 100.00%, 88.07%); opacity: 0.84\" title=\"0.006\"> </span><span style=\"background-color: hsl(120, 100.00%, 91.77%); opacity: 0.82\" title=\"0.003\">i</span><span style=\"background-color: hsl(120, 100.00%, 95.82%); opacity: 0.81\" title=\"0.001\">n</span><span style=\"background-color: hsl(120, 100.00%, 91.87%); opacity: 0.82\" title=\"0.003\"> </span><span style=\"background-color: hsl(0, 100.00%, 96.00%); opacity: 0.81\" title=\"-0.001\">a</span><span style=\"background-color: hsl(120, 100.00%, 99.29%); opacity: 0.80\" title=\"0.000\">d</span><span style=\"background-color: hsl(120, 100.00%, 95.69%); opacity: 0.81\" title=\"0.001\">a</span><span style=\"background-color: hsl(0, 100.00%, 90.25%); opacity: 0.83\" title=\"-0.004\">p</span><span style=\"background-color: hsl(0, 100.00%, 91.48%); opacity: 0.82\" title=\"-0.004\">t</span><span style=\"background-color: hsl(0, 100.00%, 89.64%); opacity: 0.83\" title=\"-0.005\">i</span><span style=\"background-color: hsl(0, 100.00%, 86.37%); opacity: 0.84\" title=\"-0.007\">n</span><span style=\"background-color: hsl(0, 100.00%, 87.46%); opacity: 0.84\" title=\"-0.006\">g</span><span style=\"background-color: hsl(0, 100.00%, 88.87%); opacity: 0.83\" title=\"-0.005\"> </span><span style=\"background-color: hsl(0, 100.00%, 92.23%); opacity: 0.82\" title=\"-0.003\">t</span><span style=\"background-color: hsl(0, 100.00%, 90.39%); opacity: 0.83\" title=\"-0.004\">o</span><span style=\"background-color: hsl(0, 100.00%, 92.18%); opacity: 0.82\" title=\"-0.003\"> </span><span style=\"background-color: hsl(120, 100.00%, 97.40%); opacity: 0.80\" title=\"0.001\">c</span><span style=\"background-color: hsl(120, 100.00%, 94.34%); opacity: 0.81\" title=\"0.002\">i</span><span style=\"background-color: hsl(0, 100.00%, 97.39%); opacity: 0.80\" title=\"-0.001\">v</span><span style=\"background-color: hsl(0, 100.00%, 98.66%); opacity: 0.80\" title=\"-0.000\">i</span><span style=\"background-color: hsl(120, 100.00%, 94.88%); opacity: 0.81\" title=\"0.002\">l</span><span style=\"background-color: hsl(0, 100.00%, 97.56%); opacity: 0.80\" title=\"-0.001\">i</span><span style=\"background-color: hsl(0, 100.00%, 95.36%); opacity: 0.81\" title=\"-0.002\">z</span><span style=\"background-color: hsl(0, 100.00%, 98.39%); opacity: 0.80\" title=\"-0.000\">a</span><span style=\"background-color: hsl(120, 100.00%, 92.69%); opacity: 0.82\" title=\"0.003\">t</span><span style=\"background-color: hsl(120, 100.00%, 92.08%); opacity: 0.82\" title=\"0.003\">i</span><span style=\"background-color: hsl(120, 100.00%, 93.97%); opacity: 0.81\" title=\"0.002\">o</span><span style=\"background-color: hsl(120, 100.00%, 94.99%); opacity: 0.81\" title=\"0.002\">n</span><span style=\"background-color: hsl(120, 100.00%, 91.63%); opacity: 0.82\" title=\"0.003\"> </span><span style=\"background-color: hsl(120, 100.00%, 87.75%); opacity: 0.84\" title=\"0.006\">a</span><span style=\"background-color: hsl(120, 100.00%, 83.50%); opacity: 0.86\" title=\"0.009\">n</span><span style=\"background-color: hsl(120, 100.00%, 86.78%); opacity: 0.84\" title=\"0.007\">d</span><span style=\"background-color: hsl(120, 100.00%, 86.78%); opacity: 0.84\" title=\"0.007\"> </span><span style=\"background-color: hsl(120, 100.00%, 87.02%); opacity: 0.84\" title=\"0.007\">h</span><span style=\"background-color: hsl(120, 100.00%, 90.71%); opacity: 0.82\" title=\"0.004\">i</span><span style=\"background-color: hsl(120, 100.00%, 93.21%); opacity: 0.82\" title=\"0.003\">s</span><span style=\"background-color: hsl(120, 100.00%, 85.71%); opacity: 0.85\" title=\"0.008\"> </span><span style=\"background-color: hsl(120, 100.00%, 86.99%); opacity: 0.84\" title=\"0.007\">i</span><span style=\"background-color: hsl(120, 100.00%, 98.07%); opacity: 0.80\" title=\"0.000\">n</span><span style=\"background-color: hsl(120, 100.00%, 98.70%); opacity: 0.80\" title=\"0.000\">n</span><span style=\"background-color: hsl(0, 100.00%, 96.26%); opacity: 0.81\" title=\"-0.001\">e</span><span style=\"background-color: hsl(0, 100.00%, 95.74%); opacity: 0.81\" title=\"-0.001\">r</span><span style=\"background-color: hsl(0, 100.00%, 96.42%); opacity: 0.81\" title=\"-0.001\"> </span><span style=\"background-color: hsl(120, 100.00%, 99.55%); opacity: 0.80\" title=\"0.000\">c</span><span style=\"background-color: hsl(0, 100.00%, 96.77%); opacity: 0.81\" title=\"-0.001\">o</span><span style=\"background-color: hsl(0, 100.00%, 91.22%); opacity: 0.82\" title=\"-0.004\">n</span><span style=\"background-color: hsl(0, 100.00%, 91.41%); opacity: 0.82\" title=\"-0.004\">f</span><span style=\"background-color: hsl(120, 100.00%, 97.45%); opacity: 0.80\" title=\"0.001\">l</span><span style=\"background-color: hsl(120, 100.00%, 98.07%); opacity: 0.80\" title=\"0.000\">i</span><span style=\"background-color: hsl(0, 100.00%, 98.52%); opacity: 0.80\" title=\"-0.000\">c</span><span style=\"background-color: hsl(0, 100.00%, 99.73%); opacity: 0.80\" title=\"-0.000\">t</span><span style=\"background-color: hsl(0, 100.00%, 98.02%); opacity: 0.80\" title=\"-0.000\"> </span><span style=\"background-color: hsl(120, 100.00%, 99.43%); opacity: 0.80\" title=\"0.000\">t</span><span style=\"background-color: hsl(0, 100.00%, 97.50%); opacity: 0.80\" title=\"-0.001\">h</span><span style=\"background-color: hsl(120, 100.00%, 96.95%); opacity: 0.81\" title=\"0.001\">a</span><span style=\"background-color: hsl(120, 100.00%, 96.01%); opacity: 0.81\" title=\"0.001\">n</span><span style=\"background-color: hsl(0, 100.00%, 92.14%); opacity: 0.82\" title=\"-0.003\"> </span><span style=\"background-color: hsl(0, 100.00%, 92.50%); opacity: 0.82\" title=\"-0.003\">o</span><span style=\"background-color: hsl(120, 100.00%, 98.39%); opacity: 0.80\" title=\"0.000\">n</span><span style=\"background-color: hsl(120, 100.00%, 89.74%); opacity: 0.83\" title=\"0.005\"> </span><span style=\"background-color: hsl(120, 100.00%, 90.64%); opacity: 0.83\" title=\"0.004\">h</span><span style=\"background-color: hsl(0, 100.00%, 95.43%); opacity: 0.81\" title=\"-0.001\">i</span><span style=\"background-color: hsl(0, 100.00%, 86.36%); opacity: 0.84\" title=\"-0.007\">s</span><span style=\"background-color: hsl(0, 100.00%, 87.42%); opacity: 0.84\" title=\"-0.006\"> </span><span style=\"background-color: hsl(0, 100.00%, 83.40%); opacity: 0.86\" title=\"-0.009\">j</span><span style=\"background-color: hsl(0, 100.00%, 87.00%); opacity: 0.84\" title=\"-0.007\">u</span><span style=\"background-color: hsl(0, 100.00%, 94.09%); opacity: 0.81\" title=\"-0.002\">n</span><span style=\"background-color: hsl(0, 100.00%, 95.18%); opacity: 0.81\" title=\"-0.002\">g</span><span style=\"background-color: hsl(0, 100.00%, 89.76%); opacity: 0.83\" title=\"-0.005\">l</span><span style=\"background-color: hsl(0, 100.00%, 89.12%); opacity: 0.83\" title=\"-0.005\">e</span><span style=\"background-color: hsl(0, 100.00%, 97.90%); opacity: 0.80\" title=\"-0.000\"> </span><span style=\"background-color: hsl(120, 100.00%, 97.29%); opacity: 0.80\" title=\"0.001\">e</span><span style=\"background-color: hsl(120, 100.00%, 95.43%); opacity: 0.81\" title=\"0.001\">x</span><span style=\"background-color: hsl(0, 100.00%, 99.78%); opacity: 0.80\" title=\"-0.000\">p</span><span style=\"background-color: hsl(0, 100.00%, 92.74%); opacity: 0.82\" title=\"-0.003\">l</span><span style=\"background-color: hsl(0, 100.00%, 91.62%); opacity: 0.82\" title=\"-0.004\">o</span><span style=\"background-color: hsl(120, 100.00%, 99.03%); opacity: 0.80\" title=\"0.000\">i</span><span style=\"background-color: hsl(120, 100.00%, 94.42%); opacity: 0.81\" title=\"0.002\">t</span><span style=\"background-color: hsl(0, 100.00%, 98.69%); opacity: 0.80\" title=\"-0.000\">s</span><span style=\"background-color: hsl(120, 100.00%, 96.96%); opacity: 0.81\" title=\"0.001\">.</span><span style=\"background-color: hsl(0, 100.00%, 95.14%); opacity: 0.81\" title=\"-0.002\"> </span><span style=\"background-color: hsl(0, 100.00%, 91.41%); opacity: 0.82\" title=\"-0.004\">t</span><span style=\"background-color: hsl(0, 100.00%, 92.67%); opacity: 0.82\" title=\"-0.003\">h</span><span style=\"background-color: hsl(0, 100.00%, 91.68%); opacity: 0.82\" title=\"-0.003\">i</span><span style=\"background-color: hsl(0, 100.00%, 93.06%); opacity: 0.82\" title=\"-0.003\">s</span><span style=\"background-color: hsl(0, 100.00%, 89.20%); opacity: 0.83\" title=\"-0.005\"> </span><span style=\"background-color: hsl(0, 100.00%, 87.04%); opacity: 0.84\" title=\"-0.007\">u</span><span style=\"background-color: hsl(0, 100.00%, 87.47%); opacity: 0.84\" title=\"-0.006\">n</span><span style=\"background-color: hsl(0, 100.00%, 95.34%); opacity: 0.81\" title=\"-0.002\">u</span><span style=\"background-color: hsl(120, 100.00%, 92.68%); opacity: 0.82\" title=\"0.003\">s</span><span style=\"background-color: hsl(120, 100.00%, 91.37%); opacity: 0.82\" title=\"0.004\">u</span><span style=\"background-color: hsl(120, 100.00%, 90.30%); opacity: 0.83\" title=\"0.004\">a</span><span style=\"background-color: hsl(120, 100.00%, 91.28%); opacity: 0.82\" title=\"0.004\">l</span><span style=\"background-color: hsl(120, 100.00%, 92.23%); opacity: 0.82\" title=\"0.003\"> </span><span style=\"background-color: hsl(120, 100.00%, 92.21%); opacity: 0.82\" title=\"0.003\">t</span><span style=\"background-color: hsl(0, 100.00%, 97.07%); opacity: 0.80\" title=\"-0.001\">a</span><span style=\"background-color: hsl(0, 100.00%, 91.97%); opacity: 0.82\" title=\"-0.003\">k</span><span style=\"background-color: hsl(0, 100.00%, 90.57%); opacity: 0.83\" title=\"-0.004\">e</span><span style=\"background-color: hsl(0, 100.00%, 88.70%); opacity: 0.83\" title=\"-0.005\"> </span><span style=\"background-color: hsl(0, 100.00%, 89.95%); opacity: 0.83\" title=\"-0.005\">o</span><span style=\"background-color: hsl(0, 100.00%, 92.31%); opacity: 0.82\" title=\"-0.003\">n</span><span style=\"background-color: hsl(0, 100.00%, 92.77%); opacity: 0.82\" title=\"-0.003\"> </span><span style=\"background-color: hsl(0, 100.00%, 91.53%); opacity: 0.82\" title=\"-0.004\">t</span><span style=\"background-color: hsl(0, 100.00%, 96.46%); opacity: 0.81\" title=\"-0.001\">h</span><span style=\"background-color: hsl(120, 100.00%, 93.15%); opacity: 0.82\" title=\"0.003\">e</span><span style=\"background-color: hsl(0, 100.00%, 98.34%); opacity: 0.80\" title=\"-0.000\"> </span><span style=\"background-color: hsl(0, 100.00%, 93.11%); opacity: 0.82\" title=\"-0.003\">o</span><span style=\"background-color: hsl(120, 100.00%, 97.41%); opacity: 0.80\" title=\"0.001\">l</span><span style=\"background-color: hsl(0, 100.00%, 91.19%); opacity: 0.82\" title=\"-0.004\">d</span><span style=\"background-color: hsl(0, 100.00%, 96.61%); opacity: 0.81\" title=\"-0.001\"> </span><span style=\"background-color: hsl(120, 100.00%, 87.78%); opacity: 0.84\" title=\"0.006\">c</span><span style=\"background-color: hsl(120, 100.00%, 81.44%); opacity: 0.87\" title=\"0.011\">l</span><span style=\"background-color: hsl(120, 100.00%, 76.49%); opacity: 0.89\" title=\"0.015\">a</span><span style=\"background-color: hsl(120, 100.00%, 74.71%); opacity: 0.90\" title=\"0.017\">s</span><span style=\"background-color: hsl(120, 100.00%, 76.05%); opacity: 0.90\" title=\"0.016\">s</span><span style=\"background-color: hsl(120, 100.00%, 77.46%); opacity: 0.89\" title=\"0.014\">i</span><span style=\"background-color: hsl(120, 100.00%, 81.08%); opacity: 0.87\" title=\"0.011\">c</span><span style=\"background-color: hsl(120, 100.00%, 86.71%); opacity: 0.84\" title=\"0.007\"> </span><span style=\"background-color: hsl(120, 100.00%, 90.00%); opacity: 0.83\" title=\"0.005\">m</span><span style=\"background-color: hsl(120, 100.00%, 89.26%); opacity: 0.83\" title=\"0.005\">a</span><span style=\"background-color: hsl(120, 100.00%, 91.39%); opacity: 0.82\" title=\"0.004\">k</span><span style=\"background-color: hsl(120, 100.00%, 85.33%); opacity: 0.85\" title=\"0.008\">e</span><span style=\"background-color: hsl(120, 100.00%, 81.65%); opacity: 0.87\" title=\"0.011\">s</span><span style=\"background-color: hsl(120, 100.00%, 85.29%); opacity: 0.85\" title=\"0.008\"> </span><span style=\"background-color: hsl(120, 100.00%, 86.93%); opacity: 0.84\" title=\"0.007\">i</span><span style=\"background-color: hsl(120, 100.00%, 93.23%); opacity: 0.82\" title=\"0.003\">t</span><span style=\"background-color: hsl(120, 100.00%, 97.01%); opacity: 0.80\" title=\"0.001\"> </span><span style=\"background-color: hsl(120, 100.00%, 92.76%); opacity: 0.82\" title=\"0.003\">b</span><span style=\"background-color: hsl(120, 100.00%, 88.47%); opacity: 0.83\" title=\"0.006\">o</span><span style=\"background-color: hsl(120, 100.00%, 81.50%); opacity: 0.87\" title=\"0.011\">t</span><span style=\"background-color: hsl(120, 100.00%, 80.04%); opacity: 0.87\" title=\"0.012\">h</span><span style=\"background-color: hsl(120, 100.00%, 83.37%); opacity: 0.86\" title=\"0.009\"> </span><span style=\"background-color: hsl(120, 100.00%, 95.75%); opacity: 0.81\" title=\"0.001\">t</span><span style=\"background-color: hsl(120, 100.00%, 89.22%); opacity: 0.83\" title=\"0.005\">h</span><span style=\"background-color: hsl(120, 100.00%, 86.23%); opacity: 0.84\" title=\"0.007\">e</span><span style=\"background-color: hsl(120, 100.00%, 89.64%); opacity: 0.83\" title=\"0.005\"> </span><span style=\"background-color: hsl(120, 100.00%, 97.15%); opacity: 0.80\" title=\"0.001\">t</span><span style=\"background-color: hsl(0, 100.00%, 89.84%); opacity: 0.83\" title=\"-0.005\">y</span><span style=\"background-color: hsl(0, 100.00%, 89.68%); opacity: 0.83\" title=\"-0.005\">p</span><span style=\"background-color: hsl(0, 100.00%, 94.02%); opacity: 0.81\" title=\"-0.002\">i</span><span style=\"background-color: hsl(0, 100.00%, 97.75%); opacity: 0.80\" title=\"-0.001\">c</span><span style=\"background-color: hsl(0, 100.00%, 95.91%); opacity: 0.81\" title=\"-0.001\">a</span><span style=\"background-color: hsl(120, 100.00%, 98.54%); opacity: 0.80\" title=\"0.000\">l</span><span style=\"background-color: hsl(0, 100.00%, 97.86%); opacity: 0.80\" title=\"-0.000\"> </span><span style=\"background-color: hsl(0, 100.00%, 96.76%); opacity: 0.81\" title=\"-0.001\">d</span><span style=\"background-color: hsl(120, 100.00%, 94.72%); opacity: 0.81\" title=\"0.002\">r</span><span style=\"background-color: hsl(120, 100.00%, 98.02%); opacity: 0.80\" title=\"0.000\">a</span><span style=\"background-color: hsl(120, 100.00%, 96.02%); opacity: 0.81\" title=\"0.001\">m</span><span style=\"background-color: hsl(120, 100.00%, 97.15%); opacity: 0.80\" title=\"0.001\">a</span><span style=\"background-color: hsl(0, 100.00%, 93.67%); opacity: 0.81\" title=\"-0.002\">t</span><span style=\"background-color: hsl(120, 100.00%, 95.96%); opacity: 0.81\" title=\"0.001\">i</span><span style=\"background-color: hsl(120, 100.00%, 94.62%); opacity: 0.81\" title=\"0.002\">c</span><span style=\"background-color: hsl(120, 100.00%, 89.98%); opacity: 0.83\" title=\"0.005\"> </span><span style=\"background-color: hsl(120, 100.00%, 98.02%); opacity: 0.80\" title=\"0.000\">a</span><span style=\"background-color: hsl(120, 100.00%, 92.21%); opacity: 0.82\" title=\"0.003\">d</span><span style=\"background-color: hsl(120, 100.00%, 83.87%); opacity: 0.85\" title=\"0.009\">v</span><span style=\"background-color: hsl(120, 100.00%, 83.67%); opacity: 0.86\" title=\"0.009\">e</span><span style=\"background-color: hsl(120, 100.00%, 85.68%); opacity: 0.85\" title=\"0.008\">n</span><span style=\"background-color: hsl(120, 100.00%, 84.26%); opacity: 0.85\" title=\"0.009\">t</span><span style=\"background-color: hsl(120, 100.00%, 85.26%); opacity: 0.85\" title=\"0.008\">u</span><span style=\"background-color: hsl(120, 100.00%, 89.62%); opacity: 0.83\" title=\"0.005\">r</span><span style=\"background-color: hsl(120, 100.00%, 90.27%); opacity: 0.83\" title=\"0.004\">e</span><span style=\"background-color: hsl(120, 100.00%, 95.12%); opacity: 0.81\" title=\"0.002\"> </span><span style=\"background-color: hsl(120, 100.00%, 95.48%); opacity: 0.81\" title=\"0.001\">b</span><span style=\"background-color: hsl(120, 100.00%, 91.81%); opacity: 0.82\" title=\"0.003\">u</span><span style=\"background-color: hsl(120, 100.00%, 96.27%); opacity: 0.81\" title=\"0.001\">t</span><span style=\"background-color: hsl(120, 100.00%, 90.11%); opacity: 0.83\" title=\"0.004\"> </span><span style=\"background-color: hsl(120, 100.00%, 84.41%); opacity: 0.85\" title=\"0.009\">a</span><span style=\"background-color: hsl(120, 100.00%, 83.06%); opacity: 0.86\" title=\"0.010\">l</span><span style=\"background-color: hsl(120, 100.00%, 85.19%); opacity: 0.85\" title=\"0.008\">s</span><span style=\"background-color: hsl(120, 100.00%, 91.29%); opacity: 0.82\" title=\"0.004\">o</span><span style=\"background-color: hsl(120, 100.00%, 99.01%); opacity: 0.80\" title=\"0.000\">,</span><span style=\"background-color: hsl(120, 100.00%, 94.84%); opacity: 0.81\" title=\"0.002\"> </span><span style=\"background-color: hsl(120, 100.00%, 95.70%); opacity: 0.81\" title=\"0.001\">a</span><span style=\"background-color: hsl(0, 100.00%, 94.25%); opacity: 0.81\" title=\"-0.002\">b</span><span style=\"background-color: hsl(120, 100.00%, 91.27%); opacity: 0.82\" title=\"0.004\">o</span><span style=\"background-color: hsl(120, 100.00%, 87.88%); opacity: 0.84\" title=\"0.006\">v</span><span style=\"background-color: hsl(120, 100.00%, 90.24%); opacity: 0.83\" title=\"0.004\">e</span><span style=\"background-color: hsl(120, 100.00%, 96.71%); opacity: 0.81\" title=\"0.001\"> </span><span style=\"background-color: hsl(120, 100.00%, 97.48%); opacity: 0.80\" title=\"0.001\">a</span><span style=\"background-color: hsl(0, 100.00%, 97.24%); opacity: 0.80\" title=\"-0.001\">l</span><span style=\"background-color: hsl(0, 100.00%, 94.70%); opacity: 0.81\" title=\"-0.002\">l</span><span style=\"background-color: hsl(120, 100.00%, 95.53%); opacity: 0.81\" title=\"0.001\">,</span><span style=\"background-color: hsl(120, 100.00%, 94.00%); opacity: 0.81\" title=\"0.002\"> </span><span style=\"background-color: hsl(120, 100.00%, 96.12%); opacity: 0.81\" title=\"0.001\">a</span><span style=\"background-color: hsl(0, 100.00%, 97.28%); opacity: 0.80\" title=\"-0.001\"> </span><span style=\"background-color: hsl(0, 100.00%, 93.65%); opacity: 0.81\" title=\"-0.002\">m</span><span style=\"background-color: hsl(120, 100.00%, 88.90%); opacity: 0.83\" title=\"0.005\">o</span><span style=\"background-color: hsl(120, 100.00%, 87.78%); opacity: 0.84\" title=\"0.006\">v</span><span style=\"background-color: hsl(120, 100.00%, 94.14%); opacity: 0.81\" title=\"0.002\">i</span><span style=\"background-color: hsl(120, 100.00%, 93.46%); opacity: 0.82\" title=\"0.002\">n</span><span style=\"background-color: hsl(0, 100.00%, 99.55%); opacity: 0.80\" title=\"-0.000\">g</span><span style=\"background-color: hsl(120, 100.00%, 97.65%); opacity: 0.80\" title=\"0.001\"> </span><span style=\"background-color: hsl(120, 100.00%, 89.12%); opacity: 0.83\" title=\"0.005\">p</span><span style=\"background-color: hsl(120, 100.00%, 82.59%); opacity: 0.86\" title=\"0.010\">e</span><span style=\"background-color: hsl(120, 100.00%, 84.87%); opacity: 0.85\" title=\"0.008\">r</span><span style=\"background-color: hsl(120, 100.00%, 87.40%); opacity: 0.84\" title=\"0.006\">s</span><span style=\"background-color: hsl(120, 100.00%, 87.41%); opacity: 0.84\" title=\"0.006\">o</span><span style=\"background-color: hsl(120, 100.00%, 87.92%); opacity: 0.84\" title=\"0.006\">n</span><span style=\"background-color: hsl(120, 100.00%, 88.78%); opacity: 0.83\" title=\"0.005\">a</span><span style=\"background-color: hsl(120, 100.00%, 92.62%); opacity: 0.82\" title=\"0.003\">l</span><span style=\"background-color: hsl(0, 100.00%, 95.86%); opacity: 0.81\" title=\"-0.001\"> </span><span style=\"background-color: hsl(0, 100.00%, 92.41%); opacity: 0.82\" title=\"-0.003\">s</span><span style=\"background-color: hsl(0, 100.00%, 96.86%); opacity: 0.81\" title=\"-0.001\">t</span><span style=\"background-color: hsl(120, 100.00%, 98.74%); opacity: 0.80\" title=\"0.000\">o</span><span style=\"background-color: hsl(120, 100.00%, 96.29%); opacity: 0.81\" title=\"0.001\">r</span><span style=\"background-color: hsl(120, 100.00%, 93.84%); opacity: 0.81\" title=\"0.002\">y</span><span style=\"background-color: hsl(0, 100.00%, 97.25%); opacity: 0.80\" title=\"-0.001\">.</span><span style=\"background-color: hsl(120, 100.00%, 93.15%); opacity: 0.82\" title=\"0.003\"> </span><span style=\"background-color: hsl(120, 100.00%, 86.94%); opacity: 0.84\" title=\"0.007\">i</span><span style=\"background-color: hsl(120, 100.00%, 96.31%); opacity: 0.81\" title=\"0.001\"> </span><span style=\"background-color: hsl(0, 100.00%, 90.43%); opacity: 0.83\" title=\"-0.004\">w</span><span style=\"background-color: hsl(0, 100.00%, 89.40%); opacity: 0.83\" title=\"-0.005\">a</span><span style=\"background-color: hsl(0, 100.00%, 84.75%); opacity: 0.85\" title=\"-0.008\">s</span><span style=\"background-color: hsl(0, 100.00%, 82.52%); opacity: 0.86\" title=\"-0.010\">n</span><span style=\"background-color: hsl(0, 100.00%, 82.14%); opacity: 0.86\" title=\"-0.010\">&#x27;</span><span style=\"background-color: hsl(0, 100.00%, 88.12%); opacity: 0.84\" title=\"-0.006\">t</span><span style=\"background-color: hsl(120, 100.00%, 95.33%); opacity: 0.81\" title=\"0.002\"> </span><span style=\"background-color: hsl(120, 100.00%, 82.35%); opacity: 0.86\" title=\"0.010\">s</span><span style=\"background-color: hsl(120, 100.00%, 72.84%); opacity: 0.92\" title=\"0.019\">u</span><span style=\"background-color: hsl(120, 100.00%, 62.24%); opacity: 0.98\" title=\"0.030\">r</span><span style=\"background-color: hsl(120, 100.00%, 60.00%); opacity: 1.00\" title=\"0.033\">p</span><span style=\"background-color: hsl(120, 100.00%, 68.72%); opacity: 0.94\" title=\"0.023\">r</span><span style=\"background-color: hsl(120, 100.00%, 78.01%); opacity: 0.89\" title=\"0.014\">i</span><span style=\"background-color: hsl(120, 100.00%, 90.78%); opacity: 0.82\" title=\"0.004\">s</span><span style=\"background-color: hsl(0, 100.00%, 95.19%); opacity: 0.81\" title=\"-0.002\">e</span><span style=\"background-color: hsl(0, 100.00%, 87.63%); opacity: 0.84\" title=\"-0.006\">d</span><span style=\"background-color: hsl(0, 100.00%, 87.92%); opacity: 0.84\" title=\"-0.006\"> </span><span style=\"background-color: hsl(0, 100.00%, 91.83%); opacity: 0.82\" title=\"-0.003\">t</span><span style=\"background-color: hsl(0, 100.00%, 89.95%); opacity: 0.83\" title=\"-0.005\">o</span><span style=\"background-color: hsl(0, 100.00%, 85.60%); opacity: 0.85\" title=\"-0.008\"> </span><span style=\"background-color: hsl(0, 100.00%, 85.71%); opacity: 0.85\" title=\"-0.008\">n</span><span style=\"background-color: hsl(0, 100.00%, 83.18%); opacity: 0.86\" title=\"-0.009\">o</span><span style=\"background-color: hsl(0, 100.00%, 86.63%); opacity: 0.84\" title=\"-0.007\">t</span><span style=\"background-color: hsl(0, 100.00%, 93.32%); opacity: 0.82\" title=\"-0.003\">e</span><span style=\"background-color: hsl(120, 100.00%, 98.78%); opacity: 0.80\" title=\"0.000\"> </span><span style=\"background-color: hsl(0, 100.00%, 97.81%); opacity: 0.80\" title=\"-0.001\">h</span><span style=\"background-color: hsl(0, 100.00%, 96.17%); opacity: 0.81\" title=\"-0.001\">e</span><span style=\"background-color: hsl(0, 100.00%, 90.65%); opacity: 0.83\" title=\"-0.004\">r</span><span style=\"background-color: hsl(0, 100.00%, 91.54%); opacity: 0.82\" title=\"-0.004\">e</span><span style=\"background-color: hsl(0, 100.00%, 99.41%); opacity: 0.80\" title=\"-0.000\"> </span><span style=\"background-color: hsl(0, 100.00%, 99.58%); opacity: 0.80\" title=\"-0.000\">t</span><span style=\"background-color: hsl(0, 100.00%, 97.87%); opacity: 0.80\" title=\"-0.000\">h</span><span style=\"background-color: hsl(120, 100.00%, 94.23%); opacity: 0.81\" title=\"0.002\">a</span><span style=\"background-color: hsl(120, 100.00%, 93.45%); opacity: 0.82\" title=\"0.002\">t</span><span style=\"background-color: hsl(120, 100.00%, 88.74%); opacity: 0.83\" title=\"0.005\"> </span><span style=\"background-color: hsl(120, 100.00%, 86.53%); opacity: 0.84\" title=\"0.007\">i</span><span style=\"background-color: hsl(120, 100.00%, 91.22%); opacity: 0.82\" title=\"0.004\">t</span><span style=\"background-color: hsl(120, 100.00%, 96.60%); opacity: 0.81\" title=\"0.001\">s</span><span style=\"background-color: hsl(0, 100.00%, 93.40%); opacity: 0.82\" title=\"-0.002\"> </span><span style=\"background-color: hsl(0, 100.00%, 86.01%); opacity: 0.84\" title=\"-0.007\">d</span><span style=\"background-color: hsl(0, 100.00%, 84.72%); opacity: 0.85\" title=\"-0.008\">i</span><span style=\"background-color: hsl(0, 100.00%, 83.48%); opacity: 0.86\" title=\"-0.009\">r</span><span style=\"background-color: hsl(0, 100.00%, 85.77%); opacity: 0.85\" title=\"-0.007\">e</span><span style=\"background-color: hsl(0, 100.00%, 88.92%); opacity: 0.83\" title=\"-0.005\">c</span><span style=\"background-color: hsl(0, 100.00%, 88.18%); opacity: 0.84\" title=\"-0.006\">t</span><span style=\"background-color: hsl(0, 100.00%, 83.66%); opacity: 0.86\" title=\"-0.009\">o</span><span style=\"background-color: hsl(0, 100.00%, 81.38%); opacity: 0.87\" title=\"-0.011\">r</span><span style=\"background-color: hsl(0, 100.00%, 87.85%); opacity: 0.84\" title=\"-0.006\"> </span><span style=\"background-color: hsl(0, 100.00%, 91.34%); opacity: 0.82\" title=\"-0.004\">i</span><span style=\"background-color: hsl(0, 100.00%, 95.95%); opacity: 0.81\" title=\"-0.001\">s</span><span style=\"background-color: hsl(120, 100.00%, 96.98%); opacity: 0.80\" title=\"0.001\"> </span><span style=\"background-color: hsl(120, 100.00%, 96.78%); opacity: 0.81\" title=\"0.001\">t</span><span style=\"background-color: hsl(120, 100.00%, 89.58%); opacity: 0.83\" title=\"0.005\">h</span><span style=\"background-color: hsl(120, 100.00%, 89.05%); opacity: 0.83\" title=\"0.005\">e</span><span style=\"background-color: hsl(0, 100.00%, 97.55%); opacity: 0.80\" title=\"-0.001\"> </span><span style=\"background-color: hsl(0, 100.00%, 86.12%); opacity: 0.84\" title=\"-0.007\">s</span><span style=\"background-color: hsl(0, 100.00%, 81.20%); opacity: 0.87\" title=\"-0.011\">a</span><span style=\"background-color: hsl(0, 100.00%, 88.61%); opacity: 0.83\" title=\"-0.005\">m</span><span style=\"background-color: hsl(0, 100.00%, 93.98%); opacity: 0.81\" title=\"-0.002\">e</span><span style=\"background-color: hsl(120, 100.00%, 93.82%); opacity: 0.81\" title=\"0.002\"> </span><span style=\"background-color: hsl(120, 100.00%, 93.79%); opacity: 0.81\" title=\"0.002\">i</span><span style=\"background-color: hsl(120, 100.00%, 93.46%); opacity: 0.82\" title=\"0.002\">n</span><span style=\"background-color: hsl(120, 100.00%, 92.06%); opacity: 0.82\" title=\"0.003\">d</span><span style=\"background-color: hsl(120, 100.00%, 94.08%); opacity: 0.81\" title=\"0.002\">i</span><span style=\"background-color: hsl(120, 100.00%, 92.65%); opacity: 0.82\" title=\"0.003\">v</span><span style=\"background-color: hsl(0, 100.00%, 97.29%); opacity: 0.80\" title=\"-0.001\">i</span><span style=\"background-color: hsl(0, 100.00%, 89.46%); opacity: 0.83\" title=\"-0.005\">d</span><span style=\"background-color: hsl(0, 100.00%, 90.29%); opacity: 0.83\" title=\"-0.004\">u</span><span style=\"background-color: hsl(0, 100.00%, 98.45%); opacity: 0.80\" title=\"-0.000\">a</span><span style=\"background-color: hsl(0, 100.00%, 95.94%); opacity: 0.81\" title=\"-0.001\">l</span><span style=\"background-color: hsl(0, 100.00%, 96.07%); opacity: 0.81\" title=\"-0.001\">,</span><span style=\"background-color: hsl(120, 100.00%, 99.24%); opacity: 0.80\" title=\"0.000\"> </span><span style=\"background-color: hsl(0, 100.00%, 96.27%); opacity: 0.81\" title=\"-0.001\">h</span><span style=\"background-color: hsl(0, 100.00%, 96.51%); opacity: 0.81\" title=\"-0.001\">u</span><span style=\"background-color: hsl(0, 100.00%, 98.27%); opacity: 0.80\" title=\"-0.000\">g</span><span style=\"background-color: hsl(120, 100.00%, 94.82%); opacity: 0.81\" title=\"0.002\">h</span><span style=\"background-color: hsl(120, 100.00%, 94.22%); opacity: 0.81\" title=\"0.002\"> </span><span style=\"background-color: hsl(120, 100.00%, 96.81%); opacity: 0.81\" title=\"0.001\">h</span><span style=\"background-color: hsl(0, 100.00%, 97.52%); opacity: 0.80\" title=\"-0.001\">u</span><span style=\"background-color: hsl(120, 100.00%, 96.24%); opacity: 0.81\" title=\"0.001\">d</span><span style=\"background-color: hsl(120, 100.00%, 90.38%); opacity: 0.83\" title=\"0.004\">s</span><span style=\"background-color: hsl(120, 100.00%, 92.75%); opacity: 0.82\" title=\"0.003\">o</span><span style=\"background-color: hsl(120, 100.00%, 92.17%); opacity: 0.82\" title=\"0.003\">n</span><span style=\"background-color: hsl(120, 100.00%, 90.34%); opacity: 0.83\" title=\"0.004\">,</span><span style=\"background-color: hsl(120, 100.00%, 93.46%); opacity: 0.82\" title=\"0.002\"> </span><span style=\"background-color: hsl(120, 100.00%, 94.78%); opacity: 0.81\" title=\"0.002\">w</span><span style=\"background-color: hsl(120, 100.00%, 89.12%); opacity: 0.83\" title=\"0.005\">h</span><span style=\"background-color: hsl(120, 100.00%, 89.66%); opacity: 0.83\" title=\"0.005\">o</span><span style=\"background-color: hsl(120, 100.00%, 86.44%); opacity: 0.84\" title=\"0.007\"> </span><span style=\"background-color: hsl(120, 100.00%, 79.03%); opacity: 0.88\" title=\"0.013\">a</span><span style=\"background-color: hsl(120, 100.00%, 77.26%); opacity: 0.89\" title=\"0.015\">l</span><span style=\"background-color: hsl(120, 100.00%, 78.26%); opacity: 0.88\" title=\"0.014\">s</span><span style=\"background-color: hsl(120, 100.00%, 83.95%); opacity: 0.85\" title=\"0.009\">o</span><span style=\"background-color: hsl(0, 100.00%, 98.33%); opacity: 0.80\" title=\"-0.000\"> </span><span style=\"background-color: hsl(0, 100.00%, 85.10%); opacity: 0.85\" title=\"-0.008\">d</span><span style=\"background-color: hsl(0, 100.00%, 84.85%); opacity: 0.85\" title=\"-0.008\">i</span><span style=\"background-color: hsl(0, 100.00%, 84.52%); opacity: 0.85\" title=\"-0.008\">r</span><span style=\"background-color: hsl(0, 100.00%, 89.64%); opacity: 0.83\" title=\"-0.005\">e</span><span style=\"background-color: hsl(0, 100.00%, 97.21%); opacity: 0.80\" title=\"-0.001\">c</span><span style=\"background-color: hsl(0, 100.00%, 92.97%); opacity: 0.82\" title=\"-0.003\">t</span><span style=\"background-color: hsl(0, 100.00%, 92.74%); opacity: 0.82\" title=\"-0.003\">e</span><span style=\"background-color: hsl(0, 100.00%, 95.45%); opacity: 0.81\" title=\"-0.001\">d</span><span style=\"background-color: hsl(0, 100.00%, 96.96%); opacity: 0.81\" title=\"-0.001\"> </span><span style=\"background-color: hsl(120, 100.00%, 96.50%); opacity: 0.81\" title=\"0.001\">c</span><span style=\"background-color: hsl(120, 100.00%, 97.39%); opacity: 0.80\" title=\"0.001\">h</span><span style=\"background-color: hsl(120, 100.00%, 89.33%); opacity: 0.83\" title=\"0.005\">a</span><span style=\"background-color: hsl(120, 100.00%, 88.81%); opacity: 0.83\" title=\"0.005\">r</span><span style=\"background-color: hsl(120, 100.00%, 92.23%); opacity: 0.82\" title=\"0.003\">i</span><span style=\"background-color: hsl(0, 100.00%, 93.12%); opacity: 0.82\" title=\"-0.003\">o</span><span style=\"background-color: hsl(0, 100.00%, 88.78%); opacity: 0.83\" title=\"-0.005\">t</span><span style=\"background-color: hsl(0, 100.00%, 93.08%); opacity: 0.82\" title=\"-0.003\">s</span><span style=\"background-color: hsl(0, 100.00%, 93.21%); opacity: 0.82\" title=\"-0.003\"> </span><span style=\"background-color: hsl(0, 100.00%, 93.32%); opacity: 0.82\" title=\"-0.003\">o</span><span style=\"background-color: hsl(0, 100.00%, 92.39%); opacity: 0.82\" title=\"-0.003\">f</span><span style=\"background-color: hsl(120, 100.00%, 97.24%); opacity: 0.80\" title=\"0.001\"> </span><span style=\"background-color: hsl(120, 100.00%, 92.18%); opacity: 0.82\" title=\"0.003\">f</span><span style=\"background-color: hsl(120, 100.00%, 95.14%); opacity: 0.81\" title=\"0.002\">i</span><span style=\"background-color: hsl(0, 100.00%, 95.17%); opacity: 0.81\" title=\"-0.002\">r</span><span style=\"background-color: hsl(0, 100.00%, 94.11%); opacity: 0.81\" title=\"-0.002\">e</span><span style=\"background-color: hsl(120, 100.00%, 92.78%); opacity: 0.82\" title=\"0.003\">,</span><span style=\"background-color: hsl(120, 100.00%, 93.35%); opacity: 0.82\" title=\"0.003\"> </span><span style=\"background-color: hsl(120, 100.00%, 94.45%); opacity: 0.81\" title=\"0.002\">a</span><span style=\"background-color: hsl(0, 100.00%, 88.40%); opacity: 0.83\" title=\"-0.006\">n</span><span style=\"background-color: hsl(0, 100.00%, 83.67%); opacity: 0.86\" title=\"-0.009\">o</span><span style=\"background-color: hsl(0, 100.00%, 86.82%); opacity: 0.84\" title=\"-0.007\">t</span><span style=\"background-color: hsl(0, 100.00%, 91.87%); opacity: 0.82\" title=\"-0.003\">h</span><span style=\"background-color: hsl(0, 100.00%, 98.54%); opacity: 0.80\" title=\"-0.000\">e</span><span style=\"background-color: hsl(0, 100.00%, 95.34%); opacity: 0.81\" title=\"-0.002\">r</span><span style=\"background-color: hsl(120, 100.00%, 91.17%); opacity: 0.82\" title=\"0.004\"> </span><span style=\"background-color: hsl(120, 100.00%, 75.60%); opacity: 0.90\" title=\"0.016\">b</span><span style=\"background-color: hsl(120, 100.00%, 64.92%); opacity: 0.97\" title=\"0.027\">r</span><span style=\"background-color: hsl(120, 100.00%, 65.40%); opacity: 0.96\" title=\"0.027\">i</span><span style=\"background-color: hsl(120, 100.00%, 60.52%); opacity: 1.00\" title=\"0.032\">l</span><span style=\"background-color: hsl(120, 100.00%, 61.29%); opacity: 0.99\" title=\"0.031\">l</span><span style=\"background-color: hsl(120, 100.00%, 67.61%); opacity: 0.95\" title=\"0.024\">i</span><span style=\"background-color: hsl(120, 100.00%, 73.30%); opacity: 0.91\" title=\"0.018\">a</span><span style=\"background-color: hsl(120, 100.00%, 80.97%); opacity: 0.87\" title=\"0.011\">n</span><span style=\"background-color: hsl(120, 100.00%, 87.78%); opacity: 0.84\" title=\"0.006\">t</span><span style=\"background-color: hsl(120, 100.00%, 98.35%); opacity: 0.80\" title=\"0.000\"> </span><span style=\"background-color: hsl(120, 100.00%, 95.66%); opacity: 0.81\" title=\"0.001\">m</span><span style=\"background-color: hsl(120, 100.00%, 94.21%); opacity: 0.81\" title=\"0.002\">o</span><span style=\"background-color: hsl(0, 100.00%, 98.13%); opacity: 0.80\" title=\"-0.000\">v</span><span style=\"background-color: hsl(0, 100.00%, 94.00%); opacity: 0.81\" title=\"-0.002\">i</span><span style=\"background-color: hsl(0, 100.00%, 93.65%); opacity: 0.81\" title=\"-0.002\">e</span><span style=\"background-color: hsl(0, 100.00%, 95.46%); opacity: 0.81\" title=\"-0.001\">.</span>\n",
       "    </p>\n",
       "\n",
       "\n",
       "    \n",
       "\n",
       "    \n",
       "\n",
       "    \n",
       "\n",
       "    \n",
       "\n",
       "\n",
       "    \n",
       "\n",
       "    \n",
       "\n",
       "    \n",
       "\n",
       "    \n",
       "\n",
       "    \n",
       "\n",
       "    \n",
       "\n",
       "\n",
       "    \n",
       "\n",
       "    \n",
       "\n",
       "    \n",
       "\n",
       "    \n",
       "\n",
       "    \n",
       "\n",
       "    \n",
       "\n",
       "\n",
       "\n"
      ],
      "text/plain": [
       "<IPython.core.display.HTML object>"
      ]
     },
     "execution_count": 22,
     "metadata": {},
     "output_type": "execute_result"
    }
   ],
   "source": [
    "print('Positive' if test_df['is_positive'].iloc[1] else 'Negative')\n",
    "eli5.show_prediction(classifier, test_df['review'].iloc[1], vec=vectorizer, \n",
    "                     targets=['positive'], target_names=['negative', 'positive'])"
   ]
  },
  {
   "cell_type": "markdown",
   "metadata": {
    "id": "9fZ6I8mN0VPU"
   },
   "source": [
    "## Подключаем лингвистику"
   ]
  },
  {
   "cell_type": "markdown",
   "metadata": {
    "id": "YkywIvbp4N-L"
   },
   "source": [
    "### Лемматизация и стемминг\n",
    "\n",
    "Если присмотреться, можно найти формы одного слова с разной семантической окраской по мнению классификатора. Или нет?\n",
    "\n",
    "**Задание** Найти формы слова с разной семантической окраской.\n",
    "\n",
    "Поверя, что они есть, попробуем что-нибудь с этим сделать.\n",
    "\n",
    "Например, лемматизируем - сведем к начальной форме все слова. Поможет в этом библиотека spacy."
   ]
  },
  {
   "cell_type": "code",
   "execution_count": 6,
   "metadata": {
    "executionInfo": {
     "elapsed": 2499,
     "status": "ok",
     "timestamp": 1655378066478,
     "user": {
      "displayName": "Дмитрий Яковлев",
      "userId": "04985982272505825493"
     },
     "user_tz": -420
    },
    "id": "S5CTTdtxI5yv"
   },
   "outputs": [],
   "source": [
    "import spacy\n",
    "from spacy import displacy\n",
    "\n",
    "nlp = spacy.load('en', disable=['parser'])\n",
    "\n",
    "docs = [doc for doc in nlp.pipe(train_df.review.values[:50])]"
   ]
  },
  {
   "cell_type": "code",
   "execution_count": 7,
   "metadata": {
    "colab": {
     "base_uri": "https://localhost:8080/"
    },
    "executionInfo": {
     "elapsed": 328,
     "status": "ok",
     "timestamp": 1655378069037,
     "user": {
      "displayName": "Дмитрий Яковлев",
      "userId": "04985982272505825493"
     },
     "user_tz": -420
    },
    "id": "Wq5RxHU-pkwQ",
    "outputId": "150acec0-aa6d-4d08-ae8f-a4d0008a32ce"
   },
   "outputs": [
    {
     "data": {
      "text/plain": [
       "Dreamgirls, despite its fistful of Tony wins in an incredibly weak year on Broadway, has never been what one would call a jewel in the crown of stage musicals. However, that is not to say that in the right cinematic hands it could not be fleshed out and polished into something worthwhile on-screen. Unfortunately, what transfers to the screen is basically a slavishly faithful version of the stage hit with all of its inherent weaknesses intact. First, the score has never been one of the strong points of this production and the film does not change that factor. There are lots of songs (perhaps too many?), but few of them are especially memorable. The closest any come to catchy tunes are the title song and One Night Only - the much acclaimed And I Am Telling You That I Am Not Going is less a great song than it is a dramatic set piece for the character of Effie (Jennifer Hudson). The film is slick and technically well-produced, but the story and characters are surprisingly thin and lacking in any resonance. There is some interest in the opening moments, watching Jamie Foxx's Svengali-like manager manipulate his acts to the top, but that takes a back seat in the latter portion of the film, when the story conveniently tries to cast him as a villain, despite his having been right from a business stand-point for a good majority of the film. Beyonce Knowles is lovely and sings her songs perfectly well, but is stuck with a character who is basically all surface glitz. Anika Noni Rose as the third member of the Dreamgirls trio literally has nothing to do for the entire film. Eddie Murphy acquits himself well as a singer obviously based on James Brown, but the role is not especially meaty and ultimately has little impact. Foxx would seem ideal casting, but he seems oddly withdrawn and bored. The film's biggest selling point is surely former American Idol contestant/Oscar winner Jennifer Hudson in the central role of Effie White, the temperamental singer who gets booted from the group and makes a triumphant closing act return. For me, Effie has always been a big problem in both the show and the movie. The film obviously wants you to feel sorry for her and rather ham-handedly takes her side, but I have never been sure that this character deserves that kind of devotion. From the start, Effie conducts herself for the most part like an obnoxious, egotistical, self-centered diva, who is more interested in what everyone else can do for her rather than having much vested interest in the group of which she is a part. When she is booted from the group for her unprofessionalism and bad attitude, the charges are more than well-founded, but the stage show/film seem to think Effie should be cut unlimited slack simply because she has a great voice. Even though the film tries to soften some of Effie's harder edges to make her more likable, the charges still stand. Her story becomes more manipulative by suggesting she should have our further sympathy because she is an unwed mother struggling to raise her daughter - using the implication that (much like the talent card) motherhood immediately makes any behavior excusable. Indeed the only big effort the film makes to show Effie's mothering is to tell us about it and then include a scene where she barks at her daughter in the unemployment office, insists that the girl has \"no father\" and then refuse to look for gainful employment to support them since singing is all she knows. In the hands of a skillful actress, the gaps could perhaps have been remedied with technique and charisma. Unfortunately, Hudson is not that actress. She sings well, but the dialog-driven moments do not come naturally to her nor do high emotional moments. Effie's signature moment (the aforementioned And I Am Telling You... number) is well-sung by Hudson, but emotionally flat in the acting department. Effie is supposed to expressing her rage and desperation at her predicament, but Hudson comes off as a cabaret performer belting out a hot number. All in all, not quite the emotional highlight one expects. The latter portion of the film is basically a predictable melange of events that maneuver Foxx into Hudson's earlier position and allow her to strut back in and lord it over everyone. Foxx's criminal offenses in the film are undoubtedly par for the course of many struggling record producers, but the film's seeming implication that he has it coming because he helped usher in the disco era is rather ridiculous, not to mention pretentious and condescending, particularly coming from a film with all of the depth of a puddle. The end result is a faithful rendition of the stage hit, drained of emotion, energy or anything that can be described as dynamic."
      ]
     },
     "execution_count": 7,
     "metadata": {},
     "output_type": "execute_result"
    }
   ],
   "source": [
    "docs[0]"
   ]
  },
  {
   "cell_type": "code",
   "execution_count": null,
   "metadata": {
    "id": "rVRmOT6YqOIo"
   },
   "outputs": [],
   "source": [
    "my_list = []\n",
    "for token in docs[0]:\n",
    "    my_list.append(token.lemma_)"
   ]
  },
  {
   "cell_type": "code",
   "execution_count": null,
   "metadata": {
    "id": "4qJB8XdQqguQ"
   },
   "outputs": [],
   "source": [
    "my_str = ' '.join(my_list)"
   ]
  },
  {
   "cell_type": "code",
   "execution_count": null,
   "metadata": {
    "colab": {
     "base_uri": "https://localhost:8080/",
     "height": 157
    },
    "executionInfo": {
     "elapsed": 26,
     "status": "ok",
     "timestamp": 1655301886412,
     "user": {
      "displayName": "Дмитрий Яковлев",
      "userId": "04985982272505825493"
     },
     "user_tz": -420
    },
    "id": "6gsmvESSrfkH",
    "outputId": "7a55bb19-1681-44d7-f991-e0a0abf457a3"
   },
   "outputs": [
    {
     "data": {
      "application/vnd.google.colaboratory.intrinsic+json": {
       "type": "string"
      },
      "text/plain": [
       "'Dreamgirls , despite -PRON- fistful of Tony win in an incredibly weak year on Broadway , have never be what one would call a jewel in the crown of stage musical . however , that be not to say that in the right cinematic hand -PRON- could not be flesh out and polish into something worthwhile on - screen . unfortunately , what transfer to the screen be basically a slavishly faithful version of the stage hit with all of -PRON- inherent weakness intact . first , the score have never be one of the strong point of this production and the film do not change that factor . there be lot of song ( perhaps too many ? ) , but few of -PRON- be especially memorable . the close any come to catchy tune be the title song and one Night only - the much acclaim and -PRON- be tell -PRON- that -PRON- be not go be less a great song than -PRON- be a dramatic set piece for the character of effie ( Jennifer Hudson ) . the film be slick and technically well - produce , but the story and character be surprisingly thin and lack in any resonance . there be some interest in the opening moment , watch Jamie Foxx \\'s Svengali - like manager manipulate -PRON- act to the top , but that take a back seat in the latter portion of the film , when the story conveniently try to cast -PRON- as a villain , despite -PRON- have be right from a business stand - point for a good majority of the film . Beyonce Knowles be lovely and sing -PRON- song perfectly well , but be stick with a character who be basically all surface glitz . Anika Noni Rose as the third member of the Dreamgirls trio literally have nothing to do for the entire film . Eddie Murphy acquit -PRON- well as a singer obviously base on James Brown , but the role be not especially meaty and ultimately have little impact . Foxx would seem ideal casting , but -PRON- seem oddly withdraw and bored . the film \\'s big selling point be surely former American Idol contestant / Oscar winner Jennifer Hudson in the central role of Effie White , the temperamental singer who get boot from the group and make a triumphant closing act return . for -PRON- , Effie have always be a big problem in both the show and the movie . the film obviously want -PRON- to feel sorry for -PRON- and rather ham - handedly take -PRON- side , but -PRON- have never be sure that this character deserve that kind of devotion . from the start , effie conduct -PRON- for the most part like an obnoxious , egotistical , self - center diva , who be more interested in what everyone else can do for -PRON- rather than have much vest interest in the group of which -PRON- be a part . when -PRON- be boot from the group for -PRON- unprofessionalism and bad attitude , the charge be more than well - found , but the stage show / film seem to think effie should be cut unlimited slack simply because -PRON- have a great voice . even though the film try to soften some of Effie \\'s hard edge to make -PRON- more likable , the charge still stand . -PRON- story become more manipulative by suggest -PRON- should have -PRON- further sympathy because -PRON- be an unwed mother struggle to raise -PRON- daughter - use the implication that ( much like the talent card ) motherhood immediately make any behavior excusable . indeed the only big effort the film make to show Effie \\'s mothering be to tell -PRON- about -PRON- and then include a scene where -PRON- bark at -PRON- daughter in the unemployment office , insist that the girl have \" no father \" and then refuse to look for gainful employment to support -PRON- since singing be all -PRON- know . in the hand of a skillful actress , the gap could perhaps have be remedie with technique and charisma . unfortunately , Hudson be not that actress . -PRON- sing well , but the dialog - drive moment do not come naturally to -PRON- nor do high emotional moment . effie \\'s signature moment ( the aforementioned and -PRON- be tell -PRON- ... number ) be well - sing by Hudson , but emotionally flat in the act department . effie be suppose to express -PRON- rage and desperation at -PRON- predicament , but Hudson come off as a cabaret performer belt out a hot number . all in all , not quite the emotional highlight one expect . the latter portion of the film be basically a predictable melange of event that maneuver Foxx into Hudson \\'s early position and allow -PRON- to strut back in and lord -PRON- over everyone . Foxx \\'s criminal offense in the film be undoubtedly par for the course of many struggle record producer , but the film \\'s seem implication that -PRON- have -PRON- come because -PRON- help usher in the disco era be rather ridiculous , not to mention pretentious and condescending , particularly come from a film with all of the depth of a puddle . the end result be a faithful rendition of the stage hit , drain of emotion , energy or anything that can be describe as dynamic .'"
      ]
     },
     "execution_count": 40,
     "metadata": {},
     "output_type": "execute_result"
    }
   ],
   "source": [
    "my_str"
   ]
  },
  {
   "cell_type": "code",
   "execution_count": 23,
   "metadata": {
    "executionInfo": {
     "elapsed": 443489,
     "status": "ok",
     "timestamp": 1655379170445,
     "user": {
      "displayName": "Дмитрий Яковлев",
      "userId": "04985982272505825493"
     },
     "user_tz": -420
    },
    "id": "en_GNMc_w_dP"
   },
   "outputs": [],
   "source": [
    "docs = [doc for doc in nlp.pipe(train_df.review.values)]"
   ]
  },
  {
   "cell_type": "code",
   "execution_count": null,
   "metadata": {
    "id": "ksidUU3wxWOk"
   },
   "outputs": [],
   "source": [
    "my_list = []\n",
    "for token in docs[0]:\n",
    "    my_list.append(token.lemma_)"
   ]
  },
  {
   "cell_type": "code",
   "execution_count": null,
   "metadata": {
    "id": "EW53wWWtxWTy"
   },
   "outputs": [],
   "source": [
    "my_str = ' '.join(my_list)"
   ]
  },
  {
   "cell_type": "code",
   "execution_count": null,
   "metadata": {
    "id": "tDXzVALrxWZC"
   },
   "outputs": [],
   "source": [
    "lemma_list = []\n",
    "for i in range(len(docs)):\n",
    "    my_list = []\n",
    "    for token in docs[i]:\n",
    "        my_list.append(token.lemma_)\n",
    "    my_str = ' '.join(my_list)\n",
    "    lemma_list.append(my_str)"
   ]
  },
  {
   "cell_type": "code",
   "execution_count": null,
   "metadata": {
    "id": "1WZ23_i10Xqk"
   },
   "outputs": [],
   "source": [
    "train_df['lemma_review'] = lemma_list"
   ]
  },
  {
   "cell_type": "code",
   "execution_count": null,
   "metadata": {
    "colab": {
     "base_uri": "https://localhost:8080/"
    },
    "executionInfo": {
     "elapsed": 330,
     "status": "ok",
     "timestamp": 1655304428442,
     "user": {
      "displayName": "Дмитрий Яковлев",
      "userId": "04985982272505825493"
     },
     "user_tz": -420
    },
    "id": "ixEVqeKYxWdq",
    "outputId": "9c402bb9-29ac-4cc0-c22b-021f44f6c80c"
   },
   "outputs": [
    {
     "data": {
      "text/plain": [
       "is_positive                                                     1\n",
       "review          One of the great things about many of the supe...\n",
       "lemma_review    one of the great thing about many of the super...\n",
       "Name: 50, dtype: object"
      ]
     },
     "execution_count": 68,
     "metadata": {},
     "output_type": "execute_result"
    }
   ],
   "source": [
    "train_df.loc[50]"
   ]
  },
  {
   "cell_type": "code",
   "execution_count": 29,
   "metadata": {
    "executionInfo": {
     "elapsed": 410593,
     "status": "ok",
     "timestamp": 1655379587538,
     "user": {
      "displayName": "Дмитрий Яковлев",
      "userId": "04985982272505825493"
     },
     "user_tz": -420
    },
    "id": "ILlZwbygskaw"
   },
   "outputs": [],
   "source": [
    "docs_test = [doc for doc in nlp.pipe(test_df.review.values)]"
   ]
  },
  {
   "cell_type": "code",
   "execution_count": 30,
   "metadata": {
    "colab": {
     "base_uri": "https://localhost:8080/"
    },
    "executionInfo": {
     "elapsed": 38,
     "status": "ok",
     "timestamp": 1655379587546,
     "user": {
      "displayName": "Дмитрий Яковлев",
      "userId": "04985982272505825493"
     },
     "user_tz": -420
    },
    "id": "BgKi7RLO0_Ai",
    "outputId": "bed9af9f-454a-4a4e-b02c-03d383ee54f9"
   },
   "outputs": [
    {
     "data": {
      "text/plain": [
       "25000"
      ]
     },
     "execution_count": 30,
     "metadata": {},
     "output_type": "execute_result"
    }
   ],
   "source": [
    "len(docs_test)"
   ]
  },
  {
   "cell_type": "code",
   "execution_count": null,
   "metadata": {
    "id": "ezj_Bqc95NvY"
   },
   "outputs": [],
   "source": [
    "lemma_list2 = []\n",
    "for i in range(len(docs_test)):\n",
    "    my_list = []\n",
    "    for token in docs_test[i]:\n",
    "        my_list.append(token.lemma_)\n",
    "    my_str = ' '.join(my_list)\n",
    "    lemma_list2.append(my_str)"
   ]
  },
  {
   "cell_type": "code",
   "execution_count": null,
   "metadata": {
    "colab": {
     "base_uri": "https://localhost:8080/"
    },
    "executionInfo": {
     "elapsed": 312,
     "status": "ok",
     "timestamp": 1655305644969,
     "user": {
      "displayName": "Дмитрий Яковлев",
      "userId": "04985982272505825493"
     },
     "user_tz": -420
    },
    "id": "JUXLLtv15yhJ",
    "outputId": "7b0c35a1-0ae9-4b33-c749-d45bae3c0d01"
   },
   "outputs": [
    {
     "data": {
      "text/plain": [
       "25000"
      ]
     },
     "execution_count": 75,
     "metadata": {},
     "output_type": "execute_result"
    }
   ],
   "source": [
    "len(lemma_list2)"
   ]
  },
  {
   "cell_type": "code",
   "execution_count": null,
   "metadata": {
    "id": "mkInR8SR5N0N"
   },
   "outputs": [],
   "source": [
    "test_df['lemma_review'] = lemma_list2"
   ]
  },
  {
   "cell_type": "code",
   "execution_count": null,
   "metadata": {
    "colab": {
     "base_uri": "https://localhost:8080/"
    },
    "executionInfo": {
     "elapsed": 299,
     "status": "ok",
     "timestamp": 1655305676026,
     "user": {
      "displayName": "Дмитрий Яковлев",
      "userId": "04985982272505825493"
     },
     "user_tz": -420
    },
    "id": "6Ky3YVFf5N47",
    "outputId": "b2107526-e85c-489c-9ced-a4937886632a"
   },
   "outputs": [
    {
     "data": {
      "text/plain": [
       "is_positive                                                     1\n",
       "review          Trey Parker and Matt Stone, the creators of So...\n",
       "lemma_review    Trey Parker and Matt Stone , the creator of So...\n",
       "Name: 50, dtype: object"
      ]
     },
     "execution_count": 78,
     "metadata": {},
     "output_type": "execute_result"
    }
   ],
   "source": [
    "test_df.loc[50]"
   ]
  },
  {
   "cell_type": "markdown",
   "metadata": {
    "id": "2Pfup3O5r30m"
   },
   "source": [
    "**Задание** Сделайте классификатор на лемматизированных текстах.\n",
    "\n",
    "Более простой способ нормализации слов - использовать стемминг. Он немного тупой, не учитывает контекст, но иногда оказывается даже эффективнее лемматизации - а, главное, быстрее.\n",
    "\n",
    "По сути это просто набор правил, как обрезать слово, чтобы получить основу (stem):"
   ]
  },
  {
   "cell_type": "code",
   "execution_count": null,
   "metadata": {
    "colab": {
     "base_uri": "https://localhost:8080/"
    },
    "executionInfo": {
     "elapsed": 38144,
     "status": "ok",
     "timestamp": 1655306687596,
     "user": {
      "displayName": "Дмитрий Яковлев",
      "userId": "04985982272505825493"
     },
     "user_tz": -420
    },
    "id": "c9hfNhTq0_Ko",
    "outputId": "3c830fec-4d01-401e-9a53-9ea41df09fdd"
   },
   "outputs": [
    {
     "data": {
      "text/plain": [
       "Pipeline(steps=[('vectorizer', TfidfVectorizer(ngram_range=(1, 2))),\n",
       "                ('classifier', LogisticRegression())])"
      ]
     },
     "execution_count": 90,
     "metadata": {},
     "output_type": "execute_result"
    }
   ],
   "source": [
    "vectorizer = TfidfVectorizer(ngram_range=(1, 2))\n",
    "classifier = LogisticRegression()\n",
    "\n",
    "model = Pipeline([\n",
    "    ('vectorizer', vectorizer),\n",
    "    ('classifier', classifier)\n",
    "])\n",
    "\n",
    "\n",
    "model.fit(train_df['lemma_review'], train_df['is_positive'])"
   ]
  },
  {
   "cell_type": "code",
   "execution_count": null,
   "metadata": {
    "id": "sMPVTv1v_gSZ"
   },
   "outputs": [],
   "source": [
    "def eval_model_lem(model, test_df):\n",
    "    preds = model.predict(test_df['lemma_review'])\n",
    "    print('Test accuracy = {:.2%}'.format(accuracy_score(test_df['is_positive'], preds)))"
   ]
  },
  {
   "cell_type": "code",
   "execution_count": null,
   "metadata": {
    "colab": {
     "base_uri": "https://localhost:8080/"
    },
    "executionInfo": {
     "elapsed": 3671,
     "status": "ok",
     "timestamp": 1655307210664,
     "user": {
      "displayName": "Дмитрий Яковлев",
      "userId": "04985982272505825493"
     },
     "user_tz": -420
    },
    "id": "pXO8C1NL7m8D",
    "outputId": "8f409f62-b9d6-4f7d-8158-04fa4cfbbaf3"
   },
   "outputs": [
    {
     "name": "stdout",
     "output_type": "stream",
     "text": [
      "Test accuracy = 87.94%\n"
     ]
    }
   ],
   "source": [
    "eval_model_lem(model, test_df[['is_positive', 'lemma_review']])"
   ]
  },
  {
   "cell_type": "markdown",
   "metadata": {
    "id": "ZNqmky71AMlV"
   },
   "source": [
    "# После лемматизации метрика упала почти на 1%"
   ]
  },
  {
   "cell_type": "code",
   "execution_count": null,
   "metadata": {
    "colab": {
     "base_uri": "https://localhost:8080/"
    },
    "id": "Cr0w_hVyrqFx",
    "outputId": "108c220e-8946-4694-a827-a9fd4576058b"
   },
   "outputs": [
    {
     "name": "stdout",
     "output_type": "stream",
     "text": [
      "becom\n",
      "becom\n",
      "becam\n"
     ]
    }
   ],
   "source": [
    "from nltk import PorterStemmer\n",
    "\n",
    "stemmer = PorterStemmer()\n",
    "\n",
    "print(stemmer.stem('become'))\n",
    "print(stemmer.stem('becomes'))\n",
    "print(stemmer.stem('became'))"
   ]
  },
  {
   "cell_type": "markdown",
   "metadata": {
    "id": "NxGSEqHNsfHy"
   },
   "source": [
    "**Задание** Попробуйте вместо лемм классифицировать основы."
   ]
  },
  {
   "cell_type": "markdown",
   "metadata": {
    "id": "o1NBpkwuspBX"
   },
   "source": [
    "### NER\n",
    "\n",
    "В текстах рецензий очень много именованных сущностей. Вот, например:"
   ]
  },
  {
   "cell_type": "code",
   "execution_count": null,
   "metadata": {
    "colab": {
     "base_uri": "https://localhost:8080/",
     "height": 702
    },
    "id": "Xki8Maf9MrVY",
    "outputId": "b791112f-29e6-4618-8f80-f6482ef5c264"
   },
   "outputs": [
    {
     "data": {
      "text/html": [
       "<span class=\"tex2jax_ignore\"><div class=\"entities\" style=\"line-height: 2.5; direction: ltr\">\n",
       "<mark class=\"entity\" style=\"background: #7aecec; padding: 0.45em 0.6em; margin: 0 0.25em; line-height: 1; border-radius: 0.35em;\">\n",
       "    Dreamgirls\n",
       "    <span style=\"font-size: 0.8em; font-weight: bold; line-height: 1; border-radius: 0.35em; text-transform: uppercase; vertical-align: middle; margin-left: 0.5rem\">ORG</span>\n",
       "</mark>\n",
       ", despite its fistful of \n",
       "<mark class=\"entity\" style=\"background: #aa9cfc; padding: 0.45em 0.6em; margin: 0 0.25em; line-height: 1; border-radius: 0.35em;\">\n",
       "    Tony\n",
       "    <span style=\"font-size: 0.8em; font-weight: bold; line-height: 1; border-radius: 0.35em; text-transform: uppercase; vertical-align: middle; margin-left: 0.5rem\">PERSON</span>\n",
       "</mark>\n",
       " wins in \n",
       "<mark class=\"entity\" style=\"background: #bfe1d9; padding: 0.45em 0.6em; margin: 0 0.25em; line-height: 1; border-radius: 0.35em;\">\n",
       "    an incredibly weak year\n",
       "    <span style=\"font-size: 0.8em; font-weight: bold; line-height: 1; border-radius: 0.35em; text-transform: uppercase; vertical-align: middle; margin-left: 0.5rem\">DATE</span>\n",
       "</mark>\n",
       " on \n",
       "<mark class=\"entity\" style=\"background: #ddd; padding: 0.45em 0.6em; margin: 0 0.25em; line-height: 1; border-radius: 0.35em;\">\n",
       "    Broadway\n",
       "    <span style=\"font-size: 0.8em; font-weight: bold; line-height: 1; border-radius: 0.35em; text-transform: uppercase; vertical-align: middle; margin-left: 0.5rem\">FAC</span>\n",
       "</mark>\n",
       ", has never been what one would call a jewel in the crown of stage musicals. However, that is not to say that in the right cinematic hands it could not be fleshed out and polished into something worthwhile on-screen. Unfortunately, what transfers to the screen is basically a slavishly faithful version of the stage hit with all of its inherent weaknesses intact. \n",
       "<mark class=\"entity\" style=\"background: #e4e7d2; padding: 0.45em 0.6em; margin: 0 0.25em; line-height: 1; border-radius: 0.35em;\">\n",
       "    First\n",
       "    <span style=\"font-size: 0.8em; font-weight: bold; line-height: 1; border-radius: 0.35em; text-transform: uppercase; vertical-align: middle; margin-left: 0.5rem\">ORDINAL</span>\n",
       "</mark>\n",
       ", the score has never been one of the strong points of this production and the film does not change that factor. There are lots of songs (perhaps too many?), but few of them are especially memorable. The closest any come to catchy tunes are the title song and \n",
       "<mark class=\"entity\" style=\"background: #bfe1d9; padding: 0.45em 0.6em; margin: 0 0.25em; line-height: 1; border-radius: 0.35em;\">\n",
       "    One Night\n",
       "    <span style=\"font-size: 0.8em; font-weight: bold; line-height: 1; border-radius: 0.35em; text-transform: uppercase; vertical-align: middle; margin-left: 0.5rem\">TIME</span>\n",
       "</mark>\n",
       " Only - the much acclaimed And I Am Telling You That I Am Not Going is less a great song than it is a dramatic set piece for the character of \n",
       "<mark class=\"entity\" style=\"background: #aa9cfc; padding: 0.45em 0.6em; margin: 0 0.25em; line-height: 1; border-radius: 0.35em;\">\n",
       "    Effie\n",
       "    <span style=\"font-size: 0.8em; font-weight: bold; line-height: 1; border-radius: 0.35em; text-transform: uppercase; vertical-align: middle; margin-left: 0.5rem\">PERSON</span>\n",
       "</mark>\n",
       " (\n",
       "<mark class=\"entity\" style=\"background: #aa9cfc; padding: 0.45em 0.6em; margin: 0 0.25em; line-height: 1; border-radius: 0.35em;\">\n",
       "    Jennifer Hudson\n",
       "    <span style=\"font-size: 0.8em; font-weight: bold; line-height: 1; border-radius: 0.35em; text-transform: uppercase; vertical-align: middle; margin-left: 0.5rem\">PERSON</span>\n",
       "</mark>\n",
       "). The film is slick and technically well-produced, but the story and characters are surprisingly thin and lacking in any resonance. There is some interest in the opening moments, watching \n",
       "<mark class=\"entity\" style=\"background: #aa9cfc; padding: 0.45em 0.6em; margin: 0 0.25em; line-height: 1; border-radius: 0.35em;\">\n",
       "    Jamie Foxx's\n",
       "    <span style=\"font-size: 0.8em; font-weight: bold; line-height: 1; border-radius: 0.35em; text-transform: uppercase; vertical-align: middle; margin-left: 0.5rem\">PERSON</span>\n",
       "</mark>\n",
       " Svengali-like manager manipulate his acts to the top, but that takes a back seat in the latter portion of the film, when the story conveniently tries to cast him as a villain, despite his having been right from a business stand-point for a good majority of the film. \n",
       "<mark class=\"entity\" style=\"background: #aa9cfc; padding: 0.45em 0.6em; margin: 0 0.25em; line-height: 1; border-radius: 0.35em;\">\n",
       "    Beyonce Knowles\n",
       "    <span style=\"font-size: 0.8em; font-weight: bold; line-height: 1; border-radius: 0.35em; text-transform: uppercase; vertical-align: middle; margin-left: 0.5rem\">PERSON</span>\n",
       "</mark>\n",
       " is lovely and sings her songs perfectly well, but is stuck with a character who is basically all surface glitz. \n",
       "<mark class=\"entity\" style=\"background: #aa9cfc; padding: 0.45em 0.6em; margin: 0 0.25em; line-height: 1; border-radius: 0.35em;\">\n",
       "    Anika Noni Rose\n",
       "    <span style=\"font-size: 0.8em; font-weight: bold; line-height: 1; border-radius: 0.35em; text-transform: uppercase; vertical-align: middle; margin-left: 0.5rem\">PERSON</span>\n",
       "</mark>\n",
       " as the \n",
       "<mark class=\"entity\" style=\"background: #e4e7d2; padding: 0.45em 0.6em; margin: 0 0.25em; line-height: 1; border-radius: 0.35em;\">\n",
       "    third\n",
       "    <span style=\"font-size: 0.8em; font-weight: bold; line-height: 1; border-radius: 0.35em; text-transform: uppercase; vertical-align: middle; margin-left: 0.5rem\">ORDINAL</span>\n",
       "</mark>\n",
       " member of the \n",
       "<mark class=\"entity\" style=\"background: #7aecec; padding: 0.45em 0.6em; margin: 0 0.25em; line-height: 1; border-radius: 0.35em;\">\n",
       "    Dreamgirls\n",
       "    <span style=\"font-size: 0.8em; font-weight: bold; line-height: 1; border-radius: 0.35em; text-transform: uppercase; vertical-align: middle; margin-left: 0.5rem\">ORG</span>\n",
       "</mark>\n",
       " trio literally has nothing to do for the entire film. \n",
       "<mark class=\"entity\" style=\"background: #aa9cfc; padding: 0.45em 0.6em; margin: 0 0.25em; line-height: 1; border-radius: 0.35em;\">\n",
       "    Eddie Murphy\n",
       "    <span style=\"font-size: 0.8em; font-weight: bold; line-height: 1; border-radius: 0.35em; text-transform: uppercase; vertical-align: middle; margin-left: 0.5rem\">PERSON</span>\n",
       "</mark>\n",
       " acquits himself well as a singer obviously based on \n",
       "<mark class=\"entity\" style=\"background: #aa9cfc; padding: 0.45em 0.6em; margin: 0 0.25em; line-height: 1; border-radius: 0.35em;\">\n",
       "    James Brown\n",
       "    <span style=\"font-size: 0.8em; font-weight: bold; line-height: 1; border-radius: 0.35em; text-transform: uppercase; vertical-align: middle; margin-left: 0.5rem\">PERSON</span>\n",
       "</mark>\n",
       ", but the role is not especially meaty and ultimately has little impact. \n",
       "<mark class=\"entity\" style=\"background: #aa9cfc; padding: 0.45em 0.6em; margin: 0 0.25em; line-height: 1; border-radius: 0.35em;\">\n",
       "    Foxx\n",
       "    <span style=\"font-size: 0.8em; font-weight: bold; line-height: 1; border-radius: 0.35em; text-transform: uppercase; vertical-align: middle; margin-left: 0.5rem\">PERSON</span>\n",
       "</mark>\n",
       " would seem ideal casting, but he seems oddly withdrawn and bored. The film's biggest selling point is surely former \n",
       "<mark class=\"entity\" style=\"background: #7aecec; padding: 0.45em 0.6em; margin: 0 0.25em; line-height: 1; border-radius: 0.35em;\">\n",
       "    American Idol\n",
       "    <span style=\"font-size: 0.8em; font-weight: bold; line-height: 1; border-radius: 0.35em; text-transform: uppercase; vertical-align: middle; margin-left: 0.5rem\">ORG</span>\n",
       "</mark>\n",
       " contestant/\n",
       "<mark class=\"entity\" style=\"background: #aa9cfc; padding: 0.45em 0.6em; margin: 0 0.25em; line-height: 1; border-radius: 0.35em;\">\n",
       "    Oscar\n",
       "    <span style=\"font-size: 0.8em; font-weight: bold; line-height: 1; border-radius: 0.35em; text-transform: uppercase; vertical-align: middle; margin-left: 0.5rem\">PERSON</span>\n",
       "</mark>\n",
       " winner \n",
       "<mark class=\"entity\" style=\"background: #aa9cfc; padding: 0.45em 0.6em; margin: 0 0.25em; line-height: 1; border-radius: 0.35em;\">\n",
       "    Jennifer Hudson\n",
       "    <span style=\"font-size: 0.8em; font-weight: bold; line-height: 1; border-radius: 0.35em; text-transform: uppercase; vertical-align: middle; margin-left: 0.5rem\">PERSON</span>\n",
       "</mark>\n",
       " in the central role of \n",
       "<mark class=\"entity\" style=\"background: #aa9cfc; padding: 0.45em 0.6em; margin: 0 0.25em; line-height: 1; border-radius: 0.35em;\">\n",
       "    Effie White\n",
       "    <span style=\"font-size: 0.8em; font-weight: bold; line-height: 1; border-radius: 0.35em; text-transform: uppercase; vertical-align: middle; margin-left: 0.5rem\">PERSON</span>\n",
       "</mark>\n",
       ", the temperamental singer who gets booted from the group and makes a triumphant closing act return. For me, \n",
       "<mark class=\"entity\" style=\"background: #aa9cfc; padding: 0.45em 0.6em; margin: 0 0.25em; line-height: 1; border-radius: 0.35em;\">\n",
       "    Effie\n",
       "    <span style=\"font-size: 0.8em; font-weight: bold; line-height: 1; border-radius: 0.35em; text-transform: uppercase; vertical-align: middle; margin-left: 0.5rem\">PERSON</span>\n",
       "</mark>\n",
       " has always been a big problem in both the show and the movie. The film obviously wants you to feel sorry for her and rather ham-handedly takes her side, but I have never been sure that this character deserves that kind of devotion. From the start, \n",
       "<mark class=\"entity\" style=\"background: #aa9cfc; padding: 0.45em 0.6em; margin: 0 0.25em; line-height: 1; border-radius: 0.35em;\">\n",
       "    Effie\n",
       "    <span style=\"font-size: 0.8em; font-weight: bold; line-height: 1; border-radius: 0.35em; text-transform: uppercase; vertical-align: middle; margin-left: 0.5rem\">PERSON</span>\n",
       "</mark>\n",
       " conducts herself for the most part like an obnoxious, egotistical, self-centered diva, who is more interested in what everyone else can do for her rather than having much vested interest in the group of which she is a part. When she is booted from the group for her unprofessionalism and bad attitude, the charges are more than well-founded, but the stage show/film seem to think \n",
       "<mark class=\"entity\" style=\"background: #aa9cfc; padding: 0.45em 0.6em; margin: 0 0.25em; line-height: 1; border-radius: 0.35em;\">\n",
       "    Effie\n",
       "    <span style=\"font-size: 0.8em; font-weight: bold; line-height: 1; border-radius: 0.35em; text-transform: uppercase; vertical-align: middle; margin-left: 0.5rem\">PERSON</span>\n",
       "</mark>\n",
       " should be cut unlimited slack simply because she has a great voice. Even though the film tries to soften some of \n",
       "<mark class=\"entity\" style=\"background: #aa9cfc; padding: 0.45em 0.6em; margin: 0 0.25em; line-height: 1; border-radius: 0.35em;\">\n",
       "    Effie\n",
       "    <span style=\"font-size: 0.8em; font-weight: bold; line-height: 1; border-radius: 0.35em; text-transform: uppercase; vertical-align: middle; margin-left: 0.5rem\">PERSON</span>\n",
       "</mark>\n",
       "'s harder edges to make her more likable, the charges still stand. Her story becomes more manipulative by suggesting she should have our further sympathy because she is an unwed mother struggling to raise her daughter - using the implication that (much like the talent card) motherhood immediately makes any behavior excusable. Indeed the only big effort the film makes to show \n",
       "<mark class=\"entity\" style=\"background: #aa9cfc; padding: 0.45em 0.6em; margin: 0 0.25em; line-height: 1; border-radius: 0.35em;\">\n",
       "    Effie\n",
       "    <span style=\"font-size: 0.8em; font-weight: bold; line-height: 1; border-radius: 0.35em; text-transform: uppercase; vertical-align: middle; margin-left: 0.5rem\">PERSON</span>\n",
       "</mark>\n",
       "'s mothering is to tell us about it and then include a scene where she barks at her daughter in the unemployment office, insists that the girl has &quot;no father&quot; and then refuse to look for gainful employment to support them since singing is all she knows. In the hands of a skillful actress, the gaps could perhaps have been remedied with technique and charisma. Unfortunately, \n",
       "<mark class=\"entity\" style=\"background: #aa9cfc; padding: 0.45em 0.6em; margin: 0 0.25em; line-height: 1; border-radius: 0.35em;\">\n",
       "    Hudson\n",
       "    <span style=\"font-size: 0.8em; font-weight: bold; line-height: 1; border-radius: 0.35em; text-transform: uppercase; vertical-align: middle; margin-left: 0.5rem\">PERSON</span>\n",
       "</mark>\n",
       " is not that actress. She sings well, but the dialog-driven moments do not come naturally to her nor do high emotional moments. \n",
       "<mark class=\"entity\" style=\"background: #aa9cfc; padding: 0.45em 0.6em; margin: 0 0.25em; line-height: 1; border-radius: 0.35em;\">\n",
       "    Effie\n",
       "    <span style=\"font-size: 0.8em; font-weight: bold; line-height: 1; border-radius: 0.35em; text-transform: uppercase; vertical-align: middle; margin-left: 0.5rem\">PERSON</span>\n",
       "</mark>\n",
       "'s signature moment (the aforementioned And I Am Telling You... number) is well-sung by \n",
       "<mark class=\"entity\" style=\"background: #aa9cfc; padding: 0.45em 0.6em; margin: 0 0.25em; line-height: 1; border-radius: 0.35em;\">\n",
       "    Hudson\n",
       "    <span style=\"font-size: 0.8em; font-weight: bold; line-height: 1; border-radius: 0.35em; text-transform: uppercase; vertical-align: middle; margin-left: 0.5rem\">PERSON</span>\n",
       "</mark>\n",
       ", but emotionally flat in the acting department. \n",
       "<mark class=\"entity\" style=\"background: #aa9cfc; padding: 0.45em 0.6em; margin: 0 0.25em; line-height: 1; border-radius: 0.35em;\">\n",
       "    Effie\n",
       "    <span style=\"font-size: 0.8em; font-weight: bold; line-height: 1; border-radius: 0.35em; text-transform: uppercase; vertical-align: middle; margin-left: 0.5rem\">PERSON</span>\n",
       "</mark>\n",
       " is supposed to expressing her rage and desperation at her predicament, but \n",
       "<mark class=\"entity\" style=\"background: #aa9cfc; padding: 0.45em 0.6em; margin: 0 0.25em; line-height: 1; border-radius: 0.35em;\">\n",
       "    Hudson\n",
       "    <span style=\"font-size: 0.8em; font-weight: bold; line-height: 1; border-radius: 0.35em; text-transform: uppercase; vertical-align: middle; margin-left: 0.5rem\">PERSON</span>\n",
       "</mark>\n",
       " comes off as a cabaret performer belting out a hot number. All in all, not quite the emotional highlight one expects. The latter portion of the film is basically a predictable melange of events that maneuver \n",
       "<mark class=\"entity\" style=\"background: #7aecec; padding: 0.45em 0.6em; margin: 0 0.25em; line-height: 1; border-radius: 0.35em;\">\n",
       "    Foxx\n",
       "    <span style=\"font-size: 0.8em; font-weight: bold; line-height: 1; border-radius: 0.35em; text-transform: uppercase; vertical-align: middle; margin-left: 0.5rem\">ORG</span>\n",
       "</mark>\n",
       " into \n",
       "<mark class=\"entity\" style=\"background: #7aecec; padding: 0.45em 0.6em; margin: 0 0.25em; line-height: 1; border-radius: 0.35em;\">\n",
       "    Hudson\n",
       "    <span style=\"font-size: 0.8em; font-weight: bold; line-height: 1; border-radius: 0.35em; text-transform: uppercase; vertical-align: middle; margin-left: 0.5rem\">ORG</span>\n",
       "</mark>\n",
       "'s earlier position and allow her to strut back in and lord it over everyone. \n",
       "<mark class=\"entity\" style=\"background: #7aecec; padding: 0.45em 0.6em; margin: 0 0.25em; line-height: 1; border-radius: 0.35em;\">\n",
       "    Foxx\n",
       "    <span style=\"font-size: 0.8em; font-weight: bold; line-height: 1; border-radius: 0.35em; text-transform: uppercase; vertical-align: middle; margin-left: 0.5rem\">ORG</span>\n",
       "</mark>\n",
       "'s criminal offenses in the film are undoubtedly par for the course of many struggling record producers, but the film's seeming implication that he has it coming because he helped usher in the disco era is rather ridiculous, not to mention pretentious and condescending, particularly coming from a film with all of the depth of a puddle. The end result is a faithful rendition of the stage hit, drained of emotion, energy or anything that can be described as dynamic.</div></span>"
      ],
      "text/plain": [
       "<IPython.core.display.HTML object>"
      ]
     },
     "metadata": {},
     "output_type": "display_data"
    }
   ],
   "source": [
    "displacy.render(docs[0], style='ent', jupyter=True)"
   ]
  },
  {
   "cell_type": "markdown",
   "metadata": {
    "id": "zGhcnuZSteHc"
   },
   "source": [
    "Вообще говоря, почему вдруг какой-нибудь Депп должен нести семантическую окраску? Однако оказывается, что классификатор выучивает, что какие-то имена чаще в положительных рецензиях - или наоборот. Это похоже на переобучение - почему бы не попробовать вырезать сущности?\n",
    "\n",
    "**Задание** Удалите из текстов какие-то из сущностей, пользуясь координатами из запикленных файлов. Описание сущностей можно посмотреть [здесь](https://spacy.io/api/annotation#named-entities). Запустите классификатор."
   ]
  },
  {
   "cell_type": "markdown",
   "metadata": {
    "id": "KIXqsbTAWlj3"
   },
   "source": [
    "# Для простоты вставляю лемматизированный текст. Есть какой-то метод, не обращаясь к первоисточнику доставать нелемматизированные токены? Хотя можно наверное обращаться к первоначальному токену что-то типа как train_df['review'][i][j], но это надо заводить номер токена j для строки."
   ]
  },
  {
   "cell_type": "code",
   "execution_count": 24,
   "metadata": {
    "executionInfo": {
     "elapsed": 6542,
     "status": "ok",
     "timestamp": 1655379176972,
     "user": {
      "displayName": "Дмитрий Яковлев",
      "userId": "04985982272505825493"
     },
     "user_tz": -420
    },
    "id": "BP1aP9LDOQ5j"
   },
   "outputs": [],
   "source": [
    "new_docs = []\n",
    "for i in range(len(docs)):\n",
    "    my_list = []\n",
    "    for token in docs[i]:\n",
    "        if token.ent_iob_ == 'I':\n",
    "            my_list.append('')\n",
    "        elif token.ent_iob_ == 'B':\n",
    "            my_list.append(token.ent_type_)\n",
    "        else:\n",
    "            my_list.append(token.lemma_)\n",
    "    new_docs.append(' '.join(my_list))"
   ]
  },
  {
   "cell_type": "code",
   "execution_count": 25,
   "metadata": {
    "colab": {
     "base_uri": "https://localhost:8080/"
    },
    "executionInfo": {
     "elapsed": 66,
     "status": "ok",
     "timestamp": 1655379176977,
     "user": {
      "displayName": "Дмитрий Яковлев",
      "userId": "04985982272505825493"
     },
     "user_tz": -420
    },
    "id": "2_hH-WaGQecQ",
    "outputId": "6032b103-9902-428a-ebe0-d85255be4531"
   },
   "outputs": [
    {
     "data": {
      "text/plain": [
       "25000"
      ]
     },
     "execution_count": 25,
     "metadata": {},
     "output_type": "execute_result"
    }
   ],
   "source": [
    "len(new_docs)"
   ]
  },
  {
   "cell_type": "code",
   "execution_count": 26,
   "metadata": {
    "colab": {
     "base_uri": "https://localhost:8080/",
     "height": 157
    },
    "executionInfo": {
     "elapsed": 64,
     "status": "ok",
     "timestamp": 1655379176984,
     "user": {
      "displayName": "Дмитрий Яковлев",
      "userId": "04985982272505825493"
     },
     "user_tz": -420
    },
    "id": "OeQFX_vfORFM",
    "outputId": "c8cf8541-883c-4437-c9ab-6a64445d2554"
   },
   "outputs": [
    {
     "data": {
      "application/vnd.google.colaboratory.intrinsic+json": {
       "type": "string"
      },
      "text/plain": [
       "'ORG , despite -PRON- fistful of PERSON win in DATE    on FAC , have never be what one would call a jewel in the crown of stage musical . however , that be not to say that in the right cinematic hand -PRON- could not be flesh out and polish into something worthwhile on - screen . unfortunately , what transfer to the screen be basically a slavishly faithful version of the stage hit with all of -PRON- inherent weakness intact . ORDINAL , the score have never be one of the strong point of this production and the film do not change that factor . there be lot of song ( perhaps too many ? ) , but few of -PRON- be especially memorable . the close any come to catchy tune be the title song and TIME  only - the much acclaim and -PRON- be tell -PRON- that -PRON- be not go be less a great song than -PRON- be a dramatic set piece for the character of PERSON ( PERSON  ) . the film be slick and technically well - produce , but the story and character be surprisingly thin and lack in any resonance . there be some interest in the opening moment , watch PERSON   Svengali - like manager manipulate -PRON- act to the top , but that take a back seat in the latter portion of the film , when the story conveniently try to cast -PRON- as a villain , despite -PRON- have be right from a business stand - point for a good majority of the film . PERSON  be lovely and sing -PRON- song perfectly well , but be stick with a character who be basically all surface glitz . PERSON   as the ORDINAL member of the ORG trio literally have nothing to do for the entire film . PERSON  acquit -PRON- well as a singer obviously base on PERSON  , but the role be not especially meaty and ultimately have little impact . PERSON would seem ideal casting , but -PRON- seem oddly withdraw and bored . the film \\'s big selling point be surely former ORG  contestant / PERSON winner PERSON  in the central role of PERSON  , the temperamental singer who get boot from the group and make a triumphant closing act return . for -PRON- , PERSON have always be a big problem in both the show and the movie . the film obviously want -PRON- to feel sorry for -PRON- and rather ham - handedly take -PRON- side , but -PRON- have never be sure that this character deserve that kind of devotion . from the start , PERSON conduct -PRON- for the most part like an obnoxious , egotistical , self - center diva , who be more interested in what everyone else can do for -PRON- rather than have much vest interest in the group of which -PRON- be a part . when -PRON- be boot from the group for -PRON- unprofessionalism and bad attitude , the charge be more than well - found , but the stage show / film seem to think PERSON should be cut unlimited slack simply because -PRON- have a great voice . even though the film try to soften some of PERSON \\'s hard edge to make -PRON- more likable , the charge still stand . -PRON- story become more manipulative by suggest -PRON- should have -PRON- further sympathy because -PRON- be an unwed mother struggle to raise -PRON- daughter - use the implication that ( much like the talent card ) motherhood immediately make any behavior excusable . indeed the only big effort the film make to show PERSON \\'s mothering be to tell -PRON- about -PRON- and then include a scene where -PRON- bark at -PRON- daughter in the unemployment office , insist that the girl have \" no father \" and then refuse to look for gainful employment to support -PRON- since singing be all -PRON- know . in the hand of a skillful actress , the gap could perhaps have be remedie with technique and charisma . unfortunately , PERSON be not that actress . -PRON- sing well , but the dialog - drive moment do not come naturally to -PRON- nor do high emotional moment . PERSON \\'s signature moment ( the aforementioned and -PRON- be tell -PRON- ... number ) be well - sing by PERSON , but emotionally flat in the act department . PERSON be suppose to express -PRON- rage and desperation at -PRON- predicament , but PERSON come off as a cabaret performer belt out a hot number . all in all , not quite the emotional highlight one expect . the latter portion of the film be basically a predictable melange of event that maneuver ORG into ORG \\'s early position and allow -PRON- to strut back in and lord -PRON- over everyone . ORG \\'s criminal offense in the film be undoubtedly par for the course of many struggle record producer , but the film \\'s seem implication that -PRON- have -PRON- come because -PRON- help usher in the disco era be rather ridiculous , not to mention pretentious and condescending , particularly come from a film with all of the depth of a puddle . the end result be a faithful rendition of the stage hit , drain of emotion , energy or anything that can be describe as dynamic .'"
      ]
     },
     "execution_count": 26,
     "metadata": {},
     "output_type": "execute_result"
    }
   ],
   "source": [
    "new_docs[0]"
   ]
  },
  {
   "cell_type": "code",
   "execution_count": 27,
   "metadata": {
    "colab": {
     "base_uri": "https://localhost:8080/"
    },
    "executionInfo": {
     "elapsed": 60,
     "status": "ok",
     "timestamp": 1655379176988,
     "user": {
      "displayName": "Дмитрий Яковлев",
      "userId": "04985982272505825493"
     },
     "user_tz": -420
    },
    "id": "-ArjGP02ORKh",
    "outputId": "7e2a8403-fb81-4890-a4f6-f45b9c52d7bf"
   },
   "outputs": [
    {
     "data": {
      "text/plain": [
       "25000"
      ]
     },
     "execution_count": 27,
     "metadata": {},
     "output_type": "execute_result"
    }
   ],
   "source": [
    "len(docs)"
   ]
  },
  {
   "cell_type": "code",
   "execution_count": 28,
   "metadata": {
    "executionInfo": {
     "elapsed": 47,
     "status": "ok",
     "timestamp": 1655379176990,
     "user": {
      "displayName": "Дмитрий Яковлев",
      "userId": "04985982272505825493"
     },
     "user_tz": -420
    },
    "id": "cvbjiC7RP_cU"
   },
   "outputs": [],
   "source": [
    "train_df['result'] = new_docs"
   ]
  },
  {
   "cell_type": "code",
   "execution_count": 31,
   "metadata": {
    "executionInfo": {
     "elapsed": 6534,
     "status": "ok",
     "timestamp": 1655379594924,
     "user": {
      "displayName": "Дмитрий Яковлев",
      "userId": "04985982272505825493"
     },
     "user_tz": -420
    },
    "id": "ljBl2KpxREQU"
   },
   "outputs": [],
   "source": [
    "new_docs_test = []\n",
    "for i in range(len(docs_test)):\n",
    "    my_list = []\n",
    "    for token in docs_test[i]:\n",
    "        if token.ent_iob_ == 'I':\n",
    "            my_list.append('')\n",
    "        elif token.ent_iob_ == 'B':\n",
    "            my_list.append(token.ent_type_)\n",
    "        else:\n",
    "            my_list.append(token.lemma_)\n",
    "    new_docs_test.append(' '.join(my_list))"
   ]
  },
  {
   "cell_type": "code",
   "execution_count": 36,
   "metadata": {
    "colab": {
     "base_uri": "https://localhost:8080/",
     "height": 157
    },
    "executionInfo": {
     "elapsed": 330,
     "status": "ok",
     "timestamp": 1655379612078,
     "user": {
      "displayName": "Дмитрий Яковлев",
      "userId": "04985982272505825493"
     },
     "user_tz": -420
    },
    "id": "PQcfVyXPREXJ",
    "outputId": "0ba0020d-b803-491f-a405-e958b3362ab8"
   },
   "outputs": [
    {
     "data": {
      "application/vnd.google.colaboratory.intrinsic+json": {
       "type": "string"
      },
      "text/plain": [
       "'PERSON and PERSON be an entertaining , fast - pace and refreshing film . refresh because , unlike most other period film , -PRON- do not strive to give the audience a history lesson or preach pompously - indeed , historical accuracy be all but ignore . this film do not take -PRON- too seriously , and seek to entertain rather than enlighten . PERSON and PERSON be set in DATE   , yet director PERSON  offer a thoroughly DATE take . there be action , sex and swear aplenty , and in the inevitable ball scene the aristocracy dance to disco beat . PERSON   and PERSON  be brilliant as always , and the rest of the cast , especially PERSON  as a flirtatious fop , be also highly entertaining . the film be visually spectacular in place , and be a mixture of comedy , action and drama , with a love interest provide by PERSON  with a shaky NORP accent . in short , if -PRON- be look for an entertaining couple of hour , this be the film for -PRON- . -PRON- will not make -PRON- think , but -PRON- could well put a smile on -PRON- face .'"
      ]
     },
     "execution_count": 36,
     "metadata": {},
     "output_type": "execute_result"
    }
   ],
   "source": [
    "new_docs_test[5]"
   ]
  },
  {
   "cell_type": "code",
   "execution_count": 33,
   "metadata": {
    "executionInfo": {
     "elapsed": 39,
     "status": "ok",
     "timestamp": 1655379594927,
     "user": {
      "displayName": "Дмитрий Яковлев",
      "userId": "04985982272505825493"
     },
     "user_tz": -420
    },
    "id": "qZc7FHuyREfy"
   },
   "outputs": [],
   "source": [
    "test_df['result'] = new_docs_test"
   ]
  },
  {
   "cell_type": "code",
   "execution_count": 34,
   "metadata": {
    "colab": {
     "base_uri": "https://localhost:8080/"
    },
    "executionInfo": {
     "elapsed": 37,
     "status": "ok",
     "timestamp": 1655379594929,
     "user": {
      "displayName": "Дмитрий Яковлев",
      "userId": "04985982272505825493"
     },
     "user_tz": -420
    },
    "id": "T1bfpWv9TEql",
    "outputId": "a28a8b2f-e2a8-4708-cf10-0c9864a8519e"
   },
   "outputs": [
    {
     "data": {
      "text/plain": [
       "is_positive                                                    0\n",
       "review         Dreamgirls, despite its fistful of Tony wins i...\n",
       "result         ORG , despite -PRON- fistful of PERSON win in ...\n",
       "Name: 0, dtype: object"
      ]
     },
     "execution_count": 34,
     "metadata": {},
     "output_type": "execute_result"
    }
   ],
   "source": [
    "train_df.loc[0]"
   ]
  },
  {
   "cell_type": "code",
   "execution_count": 35,
   "metadata": {
    "colab": {
     "base_uri": "https://localhost:8080/"
    },
    "executionInfo": {
     "elapsed": 32,
     "status": "ok",
     "timestamp": 1655379594933,
     "user": {
      "displayName": "Дмитрий Яковлев",
      "userId": "04985982272505825493"
     },
     "user_tz": -420
    },
    "id": "MHaCJsMZTKQQ",
    "outputId": "fadf99e1-e0f9-44e4-a7d6-ba5b479911cd"
   },
   "outputs": [
    {
     "data": {
      "text/plain": [
       "is_positive                                                    1\n",
       "review         Plunkett and Macleane is an entertaining, fast...\n",
       "result         PERSON and PERSON be an entertaining , fast - ...\n",
       "Name: 5, dtype: object"
      ]
     },
     "execution_count": 35,
     "metadata": {},
     "output_type": "execute_result"
    }
   ],
   "source": [
    "test_df.loc[5]"
   ]
  },
  {
   "cell_type": "code",
   "execution_count": 43,
   "metadata": {
    "executionInfo": {
     "elapsed": 22,
     "status": "ok",
     "timestamp": 1655379850023,
     "user": {
      "displayName": "Дмитрий Яковлев",
      "userId": "04985982272505825493"
     },
     "user_tz": -420
    },
    "id": "hgebz147S59F"
   },
   "outputs": [],
   "source": [
    "from sklearn.feature_extraction.text import TfidfVectorizer\n",
    "from sklearn.linear_model import LogisticRegression\n",
    "from sklearn.pipeline import Pipeline\n",
    "from sklearn.metrics import accuracy_score"
   ]
  },
  {
   "cell_type": "code",
   "execution_count": 40,
   "metadata": {
    "colab": {
     "base_uri": "https://localhost:8080/"
    },
    "executionInfo": {
     "elapsed": 35879,
     "status": "ok",
     "timestamp": 1655379756036,
     "user": {
      "displayName": "Дмитрий Яковлев",
      "userId": "04985982272505825493"
     },
     "user_tz": -420
    },
    "id": "avrNsBC-RElL",
    "outputId": "44431177-038a-48ca-d00f-009b2619692a"
   },
   "outputs": [
    {
     "data": {
      "text/plain": [
       "Pipeline(steps=[('vectorizer', TfidfVectorizer(ngram_range=(1, 2))),\n",
       "                ('classifier', LogisticRegression())])"
      ]
     },
     "execution_count": 40,
     "metadata": {},
     "output_type": "execute_result"
    }
   ],
   "source": [
    "vectorizer = TfidfVectorizer(ngram_range=(1, 2))\n",
    "classifier = LogisticRegression()\n",
    "\n",
    "model = Pipeline([\n",
    "    ('vectorizer', vectorizer),\n",
    "    ('classifier', classifier)\n",
    "])\n",
    "\n",
    "\n",
    "model.fit(train_df['result'], train_df['is_positive'])"
   ]
  },
  {
   "cell_type": "code",
   "execution_count": 41,
   "metadata": {
    "executionInfo": {
     "elapsed": 28,
     "status": "ok",
     "timestamp": 1655379756039,
     "user": {
      "displayName": "Дмитрий Яковлев",
      "userId": "04985982272505825493"
     },
     "user_tz": -420
    },
    "id": "EVYd0mr8REqu"
   },
   "outputs": [],
   "source": [
    "def eval_model_res(model, test_df):\n",
    "    preds = model.predict(test_df['result'])\n",
    "    print('Test accuracy = {:.2%}'.format(accuracy_score(test_df['is_positive'], preds)))"
   ]
  },
  {
   "cell_type": "code",
   "execution_count": 44,
   "metadata": {
    "colab": {
     "base_uri": "https://localhost:8080/"
    },
    "executionInfo": {
     "elapsed": 10230,
     "status": "ok",
     "timestamp": 1655379864249,
     "user": {
      "displayName": "Дмитрий Яковлев",
      "userId": "04985982272505825493"
     },
     "user_tz": -420
    },
    "id": "Z7PeSvaKSA3S",
    "outputId": "cb0cecb5-f177-4b71-f740-513b65a64219"
   },
   "outputs": [
    {
     "name": "stdout",
     "output_type": "stream",
     "text": [
      "Test accuracy = 88.62%\n"
     ]
    }
   ],
   "source": [
    "eval_model_res(model, test_df[['is_positive', 'result']])"
   ]
  },
  {
   "cell_type": "markdown",
   "metadata": {
    "id": "Qjrx4QEaVg_I"
   },
   "source": [
    "# После замены именованных сущностей на их типы, метрика повысилась на 0.66%"
   ]
  },
  {
   "cell_type": "markdown",
   "metadata": {
    "id": "k2fHA70b0zEZ"
   },
   "source": [
    "## Включаем дип лёрнинг"
   ]
  },
  {
   "cell_type": "markdown",
   "metadata": {
    "id": "y1VCrM671XO5"
   },
   "source": [
    "Мы тут пришли deep learning'ом заниматься, а делаем почему-то модель на логистической регрессии. Как так?\n",
    "\n",
    "Попробуем запустить относительно стандартную модель для классификации текстов - сверточная сеть поверх словных эмбеддингов.\n",
    "\n",
    "Разбираться, что это за зверь, будем на следующих занятиях, а пока будем просто им пользоваться :)\n",
    "\n",
    "Каждое предложение нужно представлять набором слов - и сразу же начинаются проблемы. Во-первых, как ограничить длину предложения?\n",
    "\n",
    "Прикинем по гистограмме, какая длина нам подходит:"
   ]
  },
  {
   "cell_type": "code",
   "execution_count": null,
   "metadata": {
    "colab": {
     "base_uri": "https://localhost:8080/"
    },
    "id": "02Kv8YUPbhzG",
    "outputId": "f3977d14-babb-4220-90a8-a3289b1cc0a9"
   },
   "outputs": [
    {
     "data": {
      "text/plain": [
       "0        Dreamgirls, despite its fistful of Tony wins i...\n",
       "1        This show comes up with interesting locations ...\n",
       "2        I simply love this movie. I also love the Ramo...\n",
       "3        Spoilers ahead if you want to call them that.....\n",
       "4        My all-time favorite movie! I have seen many m...\n",
       "                               ...                        \n",
       "24995    I am a big fan of the movie, but not for the u...\n",
       "24996    I'm not going to bother with a plot synopsis s...\n",
       "24997    This movie . . . I don't know. Why they would ...\n",
       "24998    Saw this film on DVD yesterday and was gob-sma...\n",
       "24999    This was a disappointment - none of the nuance...\n",
       "Name: review, Length: 25000, dtype: object"
      ]
     },
     "execution_count": 27,
     "metadata": {},
     "output_type": "execute_result"
    }
   ],
   "source": [
    "train_df['review']"
   ]
  },
  {
   "cell_type": "code",
   "execution_count": null,
   "metadata": {
    "colab": {
     "base_uri": "https://localhost:8080/",
     "height": 282
    },
    "id": "O477ZV1t1WIO",
    "outputId": "6a4620b9-b6ea-49ba-b8c8-d152ac58ecff"
   },
   "outputs": [
    {
     "data": {
      "text/plain": [
       "<a list of 231 Patch objects>"
      ]
     },
     "execution_count": 28,
     "metadata": {},
     "output_type": "execute_result"
    },
    {
     "data": {
      "image/png": "[encoded data removed]",
      "text/plain": [
       "<Figure size 432x288 with 1 Axes>"
      ]
     },
     "metadata": {
      "needs_background": "light"
     },
     "output_type": "display_data"
    }
   ],
   "source": [
    "%matplotlib inline\n",
    "import matplotlib.pyplot as plt\n",
    "\n",
    "_, _, hist = plt.hist(train_df.review.apply(lambda text: len(text.split())), bins='auto')\n",
    "hist"
   ]
  },
  {
   "cell_type": "markdown",
   "metadata": {
    "id": "UXO4xi0u5m8l"
   },
   "source": [
    "Кроме этого, нужно перенумеровать как-то слова."
   ]
  },
  {
   "cell_type": "code",
   "execution_count": null,
   "metadata": {
    "colab": {
     "base_uri": "https://localhost:8080/"
    },
    "id": "mIMGE7L-55fs",
    "outputId": "ee94e004-ebea-45ad-842a-8df6675ca0a0"
   },
   "outputs": [
    {
     "name": "stdout",
     "output_type": "stream",
     "text": [
      "Words count 26783\n"
     ]
    }
   ],
   "source": [
    "from collections import Counter\n",
    "\n",
    "words_counter = Counter((word for text in train_df.review for word in text.lower().split()))\n",
    "\n",
    "word2idx = {\n",
    "    '': 0,\n",
    "    '<unk>': 1\n",
    "}\n",
    "for word, count in words_counter.most_common():\n",
    "    if count < 10:\n",
    "        break\n",
    "        \n",
    "    word2idx[word] = len(word2idx)\n",
    "    \n",
    "print('Words count', len(word2idx))"
   ]
  },
  {
   "cell_type": "markdown",
   "metadata": {
    "id": "oTptlmd1yD3J"
   },
   "source": [
    "**Задание** Сконвертируйте данные"
   ]
  },
  {
   "cell_type": "code",
   "execution_count": null,
   "metadata": {
    "colab": {
     "base_uri": "https://localhost:8080/"
    },
    "id": "ZPP0cYdJ5VkE",
    "outputId": "a5042f9f-695c-43f9-a961-511fadac7c15"
   },
   "outputs": [
    {
     "name": "stderr",
     "output_type": "stream",
     "text": [
      "/usr/local/lib/python3.7/dist-packages/ipykernel_launcher.py:2: DeprecationWarning: `np.int` is a deprecated alias for the builtin `int`. To silence this warning, use `int` by itself. Doing this will not modify any behavior and is safe. When replacing `np.int`, you may wish to use e.g. `np.int64` or `np.int32` to specify the precision. If you wish to review your current use, check the release note link for additional information.\n",
      "Deprecated in NumPy 1.20; for more details and guidance: https://numpy.org/devdocs/release/1.20.0-notes.html#deprecations\n",
      "  \n",
      "/usr/local/lib/python3.7/dist-packages/ipykernel_launcher.py:10: DeprecationWarning: `np.int` is a deprecated alias for the builtin `int`. To silence this warning, use `int` by itself. Doing this will not modify any behavior and is safe. When replacing `np.int`, you may wish to use e.g. `np.int64` or `np.int32` to specify the precision. If you wish to review your current use, check the release note link for additional information.\n",
      "Deprecated in NumPy 1.20; for more details and guidance: https://numpy.org/devdocs/release/1.20.0-notes.html#deprecations\n",
      "  # Remove the CWD from sys.path while we load stuff.\n"
     ]
    }
   ],
   "source": [
    "def convert(texts, word2idx, max_text_len):\n",
    "    data = np.zeros((len(texts), max_text_len), dtype=np.int)\n",
    "    \n",
    "    for inx, text in enumerate(texts):\n",
    "        result = []\n",
    "        for word in text.split():\n",
    "            if word in word2idx:\n",
    "                result.append(word2idx[word])\n",
    "        padding = [0]*(max_text_len - len(result))\n",
    "        data[inx] = np.array(padding + result[-max_text_len:], dtype=np.int)\n",
    "    return data\n",
    "\n",
    "X_train = convert(train_df.review, word2idx, 1000)\n",
    "X_test = convert(test_df.review, word2idx, 1000)"
   ]
  },
  {
   "cell_type": "markdown",
   "metadata": {
    "id": "AYb-p5ioyLUZ"
   },
   "source": [
    "Поставим учиться модельку на keras.\n",
    "\n",
    "*Напоминание*: на keras, чтобы обучить модель, нужно\n",
    "1. Определить модель, например:\n",
    "```python \n",
    "model = Sequential()\n",
    "model.add(Dense(1, activation='sigmoid', input_dim=NUM_WORDS))\n",
    "```\n",
    "2. Задать функцию потерь и оптимизатор:\n",
    "```python\n",
    "model.compile(loss='binary_crossentropy', optimizer='adam', metrics=['accuracy'])\n",
    "```\n",
    "\n",
    "3. Запустить обучение:\n",
    "```python\n",
    "model.fit(X_train, y_train, \n",
    "          batch_size=32,\n",
    "          epochs=3,\n",
    "          validation_data=(X_test, y_test))\n",
    "```\n",
    "\n",
    "В NLP чаще всего ставятся задачи классификации, поэтому нужно запомнить такие функции потерь:\n",
    "\n",
    "*   **categorical_crossentropy** - для многоклассовой классификации, в качестве меток должны передаваться one-hot-encoding вектора\n",
    "*   **sparse_categorical_crossentropy** - аналогично предыдущему, но в качестве меток нужно передавать просто индексы соответствующих классов\n",
    "*   **binary_crossentropy** - для бинарной классификации\n",
    "\n",
    "\n",
    "В качестве оптимизатора обычно используют `sgd` или `adam`.\n"
   ]
  },
  {
   "cell_type": "code",
   "execution_count": null,
   "metadata": {
    "colab": {
     "base_uri": "https://localhost:8080/",
     "height": 35
    },
    "id": "Ncrq09zRxEvN",
    "outputId": "f86d563e-6244-458a-f873-7197b996762d"
   },
   "outputs": [
    {
     "data": {
      "application/vnd.google.colaboratory.intrinsic+json": {
       "type": "string"
      },
      "text/plain": [
       "'2.8.0'"
      ]
     },
     "execution_count": 31,
     "metadata": {},
     "output_type": "execute_result"
    }
   ],
   "source": [
    "import tensorflow as tf\n",
    "tf.__version__"
   ]
  },
  {
   "cell_type": "code",
   "execution_count": null,
   "metadata": {
    "id": "KddjCCo-w50h"
   },
   "outputs": [],
   "source": [
    "import tensorflow as tf\n",
    "from tensorflow.keras import Sequential\n",
    "from tensorflow.keras.layers import Dense, Embedding, GlobalMaxPooling1D, Dropout"
   ]
  },
  {
   "cell_type": "code",
   "execution_count": null,
   "metadata": {
    "colab": {
     "base_uri": "https://localhost:8080/"
    },
    "id": "dDjri3167vFf",
    "outputId": "c22ad334-b19c-4125-db2e-901b0a489e93"
   },
   "outputs": [
    {
     "name": "stdout",
     "output_type": "stream",
     "text": [
      "Model: \"sequential\"\n",
      "_________________________________________________________________\n",
      " Layer (type)                Output Shape              Param #   \n",
      "=================================================================\n",
      " embedding (Embedding)       (None, 1000, 64)          1714112   \n",
      "                                                                 \n",
      " global_max_pooling1d (Globa  (None, 64)               0         \n",
      " lMaxPooling1D)                                                  \n",
      "                                                                 \n",
      " dense (Dense)               (None, 10)                650       \n",
      "                                                                 \n",
      " dense_1 (Dense)             (None, 10)                110       \n",
      "                                                                 \n",
      " dense_2 (Dense)             (None, 1)                 11        \n",
      "                                                                 \n",
      "=================================================================\n",
      "Total params: 1,714,883\n",
      "Trainable params: 1,714,883\n",
      "Non-trainable params: 0\n",
      "_________________________________________________________________\n"
     ]
    }
   ],
   "source": [
    "model = Sequential([\n",
    "    Embedding(input_dim=len(word2idx), output_dim=64, input_shape=(X_train.shape[1],)),\n",
    "    GlobalMaxPooling1D(),\n",
    "    Dense(units=10, activation='relu'),\n",
    "    Dense(units=10, activation='relu'),\n",
    "\n",
    "    Dense(units=1, activation='sigmoid')\n",
    "])\n",
    "\n",
    "model.summary()\n",
    "model.compile(loss='binary_crossentropy',\n",
    "              optimizer='adam',\n",
    "              metrics=['accuracy'])"
   ]
  },
  {
   "cell_type": "code",
   "execution_count": null,
   "metadata": {
    "colab": {
     "base_uri": "https://localhost:8080/"
    },
    "id": "lw93gTmq8gZl",
    "outputId": "1b5f965c-2d13-411b-96fe-5458a0b332c5"
   },
   "outputs": [
    {
     "name": "stdout",
     "output_type": "stream",
     "text": [
      "Epoch 1/10\n",
      "196/196 [==============================] - 8s 16ms/step - loss: 0.6223 - accuracy: 0.6832 - val_loss: 0.4450 - val_accuracy: 0.8415\n",
      "Epoch 2/10\n",
      "196/196 [==============================] - 2s 11ms/step - loss: 0.3100 - accuracy: 0.8830 - val_loss: 0.2969 - val_accuracy: 0.8740\n",
      "Epoch 3/10\n",
      "196/196 [==============================] - 2s 12ms/step - loss: 0.1815 - accuracy: 0.9349 - val_loss: 0.2906 - val_accuracy: 0.8771\n",
      "Epoch 4/10\n",
      "196/196 [==============================] - 2s 12ms/step - loss: 0.1018 - accuracy: 0.9694 - val_loss: 0.3134 - val_accuracy: 0.8747\n",
      "Epoch 5/10\n",
      "196/196 [==============================] - 2s 12ms/step - loss: 0.0499 - accuracy: 0.9887 - val_loss: 0.3504 - val_accuracy: 0.8723\n",
      "Epoch 6/10\n",
      "196/196 [==============================] - 2s 11ms/step - loss: 0.0222 - accuracy: 0.9972 - val_loss: 0.3882 - val_accuracy: 0.8702\n",
      "Epoch 7/10\n",
      "196/196 [==============================] - 2s 11ms/step - loss: 0.0104 - accuracy: 0.9991 - val_loss: 0.4196 - val_accuracy: 0.8696\n",
      "Epoch 8/10\n",
      "196/196 [==============================] - 2s 10ms/step - loss: 0.0056 - accuracy: 0.9996 - val_loss: 0.4486 - val_accuracy: 0.8684\n",
      "Epoch 9/10\n",
      "196/196 [==============================] - 3s 13ms/step - loss: 0.0034 - accuracy: 0.9998 - val_loss: 0.4701 - val_accuracy: 0.8686\n",
      "Epoch 10/10\n",
      "196/196 [==============================] - 2s 10ms/step - loss: 0.0023 - accuracy: 0.9998 - val_loss: 0.4865 - val_accuracy: 0.8684\n"
     ]
    },
    {
     "data": {
      "text/plain": [
       "<keras.callbacks.History at 0x7f4ff172f1d0>"
      ]
     },
     "execution_count": 34,
     "metadata": {},
     "output_type": "execute_result"
    }
   ],
   "source": [
    "model.fit(X_train, train_df.is_positive, batch_size=128, epochs=10, \n",
    "          validation_data=(X_test, test_df.is_positive))"
   ]
  },
  {
   "cell_type": "markdown",
   "metadata": {
    "id": "yBGdVRQTyynD"
   },
   "source": [
    "**Задание** Подсчитайте качество модели на тесте"
   ]
  }
 ],
 "metadata": {
  "colab": {
   "collapsed_sections": [],
   "name": "colab_text_classification_part1.ipynb",
   "provenance": []
  },
  "gpuClass": "standard",
  "kernelspec": {
   "display_name": "Python 3",
   "language": "python",
   "name": "python3"
  },
  "language_info": {
   "codemirror_mode": {
    "name": "ipython",
    "version": 3
   },
   "file_extension": ".py",
   "mimetype": "text/x-python",
   "name": "python",
   "nbconvert_exporter": "python",
   "pygments_lexer": "ipython3",
   "version": "3.8.5"
  }
 },
 "nbformat": 4,
 "nbformat_minor": 1
}
